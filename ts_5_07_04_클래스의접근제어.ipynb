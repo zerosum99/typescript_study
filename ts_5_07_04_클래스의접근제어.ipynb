{
 "cells": [
  {
   "cell_type": "code",
   "execution_count": null,
   "id": "bf85dbdc-8d29-4d93-a6eb-c5f6d9090daf",
   "metadata": {},
   "outputs": [],
   "source": []
  },
  {
   "cell_type": "code",
   "execution_count": null,
   "id": "e1ffcb93-3c5b-4c56-8a2f-740ba52866aa",
   "metadata": {},
   "outputs": [],
   "source": []
  },
  {
   "cell_type": "markdown",
   "id": "a3bf76e6-61cd-4afc-a9dc-cca48e61147a",
   "metadata": {},
   "source": [
    "## 1. 접근제어 처리 \n",
    "\n",
    "- 접근 제어자(Access Modifiers)는 클래스의 멤버(프로퍼티, 메서드, 생성자 등)에 대한 접근 권한을 제어하는 역할을 합니다.\n",
    "- TypeScript와 같은 언어에서 접근 제어자는 클래스의 캡슐화와 데이터 은닉을 지원하며, 클래스 외부에서의 접근을 제어하여 코드의 안정성과 유지보수성을 높이는 데 도움을 줍니다.\n",
    "\n",
    "\n",
    "### 다음은 TypeScript에서 사용되는 주요 접근 제어자입니다:\n",
    "\n",
    "- public (기본값): 멤버를 클래스 외부에서도 접근할 수 있도록 허용합니다.\n",
    "- private: 멤버를 클래스 외부에서 접근할 수 없도록 제한합니다. 오직 클래스 내부에서만 접근 가능합니다.\n",
    "- protected: 멤버를 클래스 내부와 해당 클래스를 상속받은 하위 클래스에서만 접근할 수 있도록 제한합니다.\n",
    "- readonly: 읽기 전용 속성으로, 값을 초기화한 후에는 변경할 수 없습니다."
   ]
  },
  {
   "cell_type": "code",
   "execution_count": 3,
   "id": "6cac4bc7-cc31-41c2-97bf-9f88f2e04845",
   "metadata": {},
   "outputs": [
    {
     "data": {
      "text/plain": [
       "undefined"
      ]
     },
     "execution_count": 3,
     "metadata": {},
     "output_type": "execute_result"
    }
   ],
   "source": [
    "class MyClass {\n",
    "    public publicProperty: number;                  // 기본값이므로 클래스 외부에서 접근 가능\n",
    "    private privateProperty: string;                // 클래스 외부에서 접근 불가능\n",
    "    protected protectedProperty: boolean;           // 클래스 내부 및 하위 클래스에서 접근 가능\n",
    "    readonly readonlyProperty: string = \"Readonly\"; // 읽기 전용\n",
    "\n",
    "    constructor(publicValue: number, privateValue: string, protectedValue: boolean) {\n",
    "        this.publicProperty = publicValue;\n",
    "        this.privateProperty = privateValue;\n",
    "        this.protectedProperty = protectedValue;\n",
    "    }\n",
    "\n",
    "    private privateMethod() {\n",
    "        // 클래스 내부에서만 접근 가능\n",
    "    }\n",
    "\n",
    "    protected protectedMethod() {\n",
    "        // 클래스 내부 및 하위 클래스에서 접근 가능\n",
    "    }\n",
    "\n",
    "    public publicMethod() {\n",
    "        // 클래스 외부에서도 접근 가능\n",
    "        this.privateMethod(); // 내부 메서드 호출 가능\n",
    "    }\n",
    "}\n"
   ]
  },
  {
   "cell_type": "code",
   "execution_count": 4,
   "id": "d45c146b-354e-481b-8ce4-28d30b41f2f3",
   "metadata": {},
   "outputs": [
    {
     "data": {
      "text/plain": [
       "undefined"
      ]
     },
     "execution_count": 4,
     "metadata": {},
     "output_type": "execute_result"
    }
   ],
   "source": [
    "class SubClass extends MyClass {\n",
    "    constructor() {\n",
    "        super(1, \"private\", true);\n",
    "        this.protectedProperty = false; // 하위 클래스에서 protected 프로퍼티 변경 가능\n",
    "    }\n",
    "}"
   ]
  },
  {
   "cell_type": "code",
   "execution_count": 5,
   "id": "46c69890-23da-44be-8c1c-0630d53071ba",
   "metadata": {},
   "outputs": [
    {
     "name": "stdout",
     "output_type": "stream",
     "text": [
      "42\n"
     ]
    },
    {
     "data": {
      "text/plain": [
       "undefined"
      ]
     },
     "execution_count": 5,
     "metadata": {},
     "output_type": "execute_result"
    }
   ],
   "source": [
    "const instance = new MyClass(42, \"secret\", true);\n",
    "console.log(instance.publicProperty);   // 42"
   ]
  },
  {
   "cell_type": "markdown",
   "id": "c6e3dee3-c837-475b-8567-b35085362b1b",
   "metadata": {},
   "source": [
    "## 접근제어 처리 오류 "
   ]
  },
  {
   "cell_type": "code",
   "execution_count": 3,
   "id": "951cec96-3aef-4e1e-a2db-41497530f823",
   "metadata": {},
   "outputs": [
    {
     "ename": "Error",
     "evalue": "Line 1, Character 22\nconsole.log(instance.privateProperty);  // Error: privateProperty는 접근할 수 없음\n_____________________^\nTS2341: Property 'privateProperty' is private and only accessible within class 'MyClass'.",
     "execution_count": 3,
     "output_type": "error",
     "traceback": [
      "Error: Line 1, Character 22",
      "console.log(instance.privateProperty);  // Error: privateProperty는 접근할 수 없음",
      "_____________________^",
      "TS2341: Property 'privateProperty' is private and only accessible within class 'MyClass'.",
      "    at execTranspile (/usr/local/lib/node_modules/itypescript/lib/kernel.js:229:23)",
      "    at Session.transpiler [as transpile] (/usr/local/lib/node_modules/itypescript/lib/kernel.js:288:35)",
      "    at Session._runNow (/usr/local/lib/node_modules/itypescript/node_modules/nel/lib/nel.js:835:39)",
      "    at Session._run (/usr/local/lib/node_modules/itypescript/node_modules/nel/lib/nel.js:786:14)",
      "    at Session.execute (/usr/local/lib/node_modules/itypescript/node_modules/nel/lib/nel.js:929:10)",
      "    at Kernel.execute_request (/usr/local/lib/node_modules/itypescript/node_modules/jp-kernel/lib/handlers_v5.js:116:18)",
      "    at Kernel.onShellMessage (/usr/local/lib/node_modules/itypescript/node_modules/jp-kernel/lib/jp-kernel.js:285:41)",
      "    at Socket.<anonymous> (/usr/local/lib/node_modules/itypescript/node_modules/jmp/index.js:350:17)",
      "    at Socket.emit (node:events:513:28)",
      "    at Socket._emitMessage (/usr/local/lib/node_modules/itypescript/node_modules/zeromq/lib/index.js:649:15)"
     ]
    }
   ],
   "source": [
    "console.log(instance.privateProperty);  // Error: privateProperty는 접근할 수 없음\n"
   ]
  },
  {
   "cell_type": "code",
   "execution_count": 4,
   "id": "1b8e2fa1-b356-46f6-ab68-758caf37a8d6",
   "metadata": {},
   "outputs": [
    {
     "ename": "Error",
     "evalue": "Line 2, Character 22\nconsole.log(instance.protectedProperty); // Error: protectedProperty는 접근할 수 없음\n_____________________^\nTS2445: Property 'protectedProperty' is protected and only accessible within class 'MyClass' and its subclasses.",
     "execution_count": 4,
     "output_type": "error",
     "traceback": [
      "Error: Line 2, Character 22",
      "console.log(instance.protectedProperty); // Error: protectedProperty는 접근할 수 없음",
      "_____________________^",
      "TS2445: Property 'protectedProperty' is protected and only accessible within class 'MyClass' and its subclasses.",
      "    at execTranspile (/usr/local/lib/node_modules/itypescript/lib/kernel.js:229:23)",
      "    at Session.transpiler [as transpile] (/usr/local/lib/node_modules/itypescript/lib/kernel.js:288:35)",
      "    at Session._runNow (/usr/local/lib/node_modules/itypescript/node_modules/nel/lib/nel.js:835:39)",
      "    at Session._run (/usr/local/lib/node_modules/itypescript/node_modules/nel/lib/nel.js:786:14)",
      "    at Session.execute (/usr/local/lib/node_modules/itypescript/node_modules/nel/lib/nel.js:929:10)",
      "    at Kernel.execute_request (/usr/local/lib/node_modules/itypescript/node_modules/jp-kernel/lib/handlers_v5.js:116:18)",
      "    at Kernel.onShellMessage (/usr/local/lib/node_modules/itypescript/node_modules/jp-kernel/lib/jp-kernel.js:285:41)",
      "    at Socket.<anonymous> (/usr/local/lib/node_modules/itypescript/node_modules/jmp/index.js:350:17)",
      "    at Socket.emit (node:events:513:28)",
      "    at Socket._emitMessage (/usr/local/lib/node_modules/itypescript/node_modules/zeromq/lib/index.js:649:15)"
     ]
    }
   ],
   "source": [
    "\n",
    "console.log(instance.protectedProperty); // Error: protectedProperty는 접근할 수 없음\n"
   ]
  },
  {
   "cell_type": "code",
   "execution_count": 5,
   "id": "37de32e2-b085-43c8-98df-6277ac86b399",
   "metadata": {},
   "outputs": [
    {
     "name": "stdout",
     "output_type": "stream",
     "text": [
      "Readonly\n"
     ]
    },
    {
     "data": {
      "text/plain": [
       "undefined"
      ]
     },
     "execution_count": 5,
     "metadata": {},
     "output_type": "execute_result"
    }
   ],
   "source": [
    "console.log(instance.readonlyProperty);  // \"Readonly\""
   ]
  },
  {
   "cell_type": "code",
   "execution_count": null,
   "id": "14094c4f-0e6d-42dd-9588-8806eacf246f",
   "metadata": {},
   "outputs": [],
   "source": []
  },
  {
   "cell_type": "code",
   "execution_count": null,
   "id": "ef6d7e9e-f9f7-4578-b786-9005bee823e7",
   "metadata": {},
   "outputs": [],
   "source": []
  }
 ],
 "metadata": {
  "kernelspec": {
   "display_name": "Typescript 4.9",
   "language": "typescript",
   "name": "typescript"
  },
  "language_info": {
   "file_extension": ".ts",
   "mimetype": "application/x-typescript",
   "name": "typescript",
   "version": "4.9.5"
  }
 },
 "nbformat": 4,
 "nbformat_minor": 5
}
