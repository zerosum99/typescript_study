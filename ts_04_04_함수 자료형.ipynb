{
 "cells": [
  {
   "cell_type": "code",
   "execution_count": null,
   "id": "c62f8dc0-f5de-4b6f-9b18-40b75004f36a",
   "metadata": {},
   "outputs": [],
   "source": []
  },
  {
   "cell_type": "code",
   "execution_count": null,
   "id": "c80043d8-884c-4711-9759-cad855937947",
   "metadata": {},
   "outputs": [],
   "source": []
  },
  {
   "cell_type": "markdown",
   "id": "188f43c0-eea2-4ba6-bdde-fdc157dc658c",
   "metadata": {},
   "source": [
    "## 1. 함수 자료형 \n",
    "\n",
    "- 함수의 매개변수 타입을 정의하고, 함수의 반환 타입을 정의합니다."
   ]
  },
  {
   "cell_type": "code",
   "execution_count": null,
   "id": "7bab8c5a-688b-4014-8b6e-a8df43fcb5fc",
   "metadata": {},
   "outputs": [],
   "source": []
  },
  {
   "cell_type": "markdown",
   "id": "19c5b528-d945-453b-8b7d-0cb42ffc9422",
   "metadata": {},
   "source": [
    "###  함수 자료형(Function Types)은 \n",
    "    \n",
    "- 함수의 타입을 정의하는 방법입니다. 함수 자료형을 사용하여 함수의 매개변수 타입과 반환 타입을 명시적으로 지정할 수 있습니다. \n",
    "- 이를 통해 TypeScript는 함수 호출 시 올바른 타입 검사를 수행하고 타입 안정성을 보장할 수 있습니다."
   ]
  },
  {
   "cell_type": "markdown",
   "id": "932e5cb9-2a30-4786-b742-d2e89c6a9f64",
   "metadata": {},
   "source": [
    "##  1-1 함수 자료형 : 변수에 할당 "
   ]
  },
  {
   "cell_type": "code",
   "execution_count": 1,
   "id": "5916dab4-fe31-4846-9ad5-a8002bc796d6",
   "metadata": {},
   "outputs": [
    {
     "name": "stdout",
     "output_type": "stream",
     "text": [
      "8\n",
      "5\n"
     ]
    },
    {
     "data": {
      "text/plain": [
       "undefined"
      ]
     },
     "execution_count": 1,
     "metadata": {},
     "output_type": "execute_result"
    }
   ],
   "source": [
    "// 함수 자료형을 사용하여 함수의 타입을 정의\n",
    "type MathFunction = (x: number, y: number) => number;\n",
    "\n",
    "// MathFunction 타입을 갖는 함수 정의\n",
    "const add: MathFunction = (x, y) => x + y;\n",
    "const subtract: MathFunction = (x, y) => x - y;\n",
    "\n",
    "// 함수 호출\n",
    "console.log(add(5, 3));      // 8\n",
    "console.log(subtract(7, 2)); // 5\n"
   ]
  },
  {
   "cell_type": "code",
   "execution_count": null,
   "id": "e604a4fc-f4df-41fc-a4c6-70a4952021b4",
   "metadata": {},
   "outputs": [],
   "source": []
  },
  {
   "cell_type": "markdown",
   "id": "99f87998-f379-4ff5-b635-a57cd4b9b782",
   "metadata": {},
   "source": [
    "## 1-2 함수자료형 :  매개변수에 할당"
   ]
  },
  {
   "cell_type": "code",
   "execution_count": 3,
   "id": "12e8c685-004d-4e86-a45c-9e9329dd1630",
   "metadata": {},
   "outputs": [
    {
     "name": "stdout",
     "output_type": "stream",
     "text": [
      "8\n",
      "5\n"
     ]
    },
    {
     "data": {
      "text/plain": [
       "undefined"
      ]
     },
     "execution_count": 3,
     "metadata": {},
     "output_type": "execute_result"
    }
   ],
   "source": [
    "type MathOperation1 = (x: number, y: number) => number;\n",
    "\n",
    "function calculate1(operation: MathOperation1, x: number, y: number): number {\n",
    "    return operation(x, y);\n",
    "}\n",
    "\n",
    "const add1: MathOperation1 = (x, y) => x + y;\n",
    "const subtract1: MathOperation1 = (x, y) => x - y;\n",
    "\n",
    "console.log(calculate1(add, 5, 3));      // 8\n",
    "console.log(calculate1(subtract, 7, 2)); // 5\n"
   ]
  },
  {
   "cell_type": "code",
   "execution_count": null,
   "id": "5f802c17-0d67-44fe-9363-b09cc6147870",
   "metadata": {},
   "outputs": [],
   "source": []
  },
  {
   "cell_type": "markdown",
   "id": "a7270841-3b55-4abd-9a94-60bc4abe4bd9",
   "metadata": {},
   "source": [
    "## 1-3 함수 자료형 : 반환자료형 처리 "
   ]
  },
  {
   "cell_type": "code",
   "execution_count": 8,
   "id": "191470da-c91c-4aa7-b6d6-02bea129a6ae",
   "metadata": {},
   "outputs": [
    {
     "name": "stdout",
     "output_type": "stream",
     "text": [
      "8\n",
      "5\n"
     ]
    },
    {
     "data": {
      "text/plain": [
       "undefined"
      ]
     },
     "execution_count": 8,
     "metadata": {},
     "output_type": "execute_result"
    }
   ],
   "source": [
    "type MathOperation3 = (x: number, y: number) => number;\n",
    "\n",
    "function operationFactory(operationType: string): MathOperation3 {\n",
    "    if (operationType === \"add\") {\n",
    "        return (x, y) => x + y;\n",
    "    } else if (operationType === \"subtract\") {\n",
    "        return (x, y) => x - y;\n",
    "    } else {\n",
    "        throw new Error(\"Unsupported operation\");\n",
    "    }\n",
    "}\n",
    "\n",
    "const addFunction = operationFactory(\"add\");\n",
    "const subtractFunction = operationFactory(\"subtract\");\n",
    "\n",
    "console.log(addFunction(5, 3));      // 8\n",
    "console.log(subtractFunction(7, 2)); // 5\n",
    "\n"
   ]
  },
  {
   "cell_type": "code",
   "execution_count": null,
   "id": "71ec393c-7b5b-401e-8161-a82cfdbfedc9",
   "metadata": {},
   "outputs": [],
   "source": []
  }
 ],
 "metadata": {
  "kernelspec": {
   "display_name": "Typescript 4.9",
   "language": "typescript",
   "name": "typescript"
  },
  "language_info": {
   "file_extension": ".ts",
   "mimetype": "application/x-typescript",
   "name": "typescript",
   "version": "4.9.5"
  }
 },
 "nbformat": 4,
 "nbformat_minor": 5
}
