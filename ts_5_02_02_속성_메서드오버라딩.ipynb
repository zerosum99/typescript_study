{
 "cells": [
  {
   "cell_type": "code",
   "execution_count": null,
   "id": "b5ceb9a8-332d-426f-a41c-d0b8ed637e86",
   "metadata": {},
   "outputs": [],
   "source": []
  },
  {
   "cell_type": "markdown",
   "id": "d13c0b44-4ae3-4d16-bb98-93344bae2213",
   "metadata": {},
   "source": [
    "## 1. 속성 오버라이딩\n",
    "\n",
    "- 속성 오버라이딩(overriding)은 자식 클래스에서 부모 클래스의 속성을 재정의하는 것을 의미합니다.\n",
    "- 이를 통해 자식 클래스는 동일한 이름의 속성을 가지고 있지만 자체적인 값을 설정할 수 있습니다."
   ]
  },
  {
   "cell_type": "code",
   "execution_count": null,
   "id": "c31ed1d8-c723-4670-8cbd-6982db8e1629",
   "metadata": {},
   "outputs": [],
   "source": []
  },
  {
   "cell_type": "code",
   "execution_count": 1,
   "id": "29cde6c8-3174-42e8-a0c3-3688d6938f63",
   "metadata": {},
   "outputs": [
    {
     "data": {
      "text/plain": [
       "'use strict'"
      ]
     },
     "execution_count": 1,
     "metadata": {},
     "output_type": "execute_result"
    }
   ],
   "source": [
    "class Parent {\n",
    "    message: string = \"Hello from Parent!\";\n",
    "}\n",
    "\n",
    "class Child extends Parent {\n",
    "    message: string = \"Hello from Child!\";\n",
    "}\n",
    "\n"
   ]
  },
  {
   "cell_type": "code",
   "execution_count": null,
   "id": "cd458f8b-794f-46d7-b0b0-796d677c69ed",
   "metadata": {},
   "outputs": [],
   "source": []
  },
  {
   "cell_type": "code",
   "execution_count": 3,
   "id": "0b325990-d384-4017-b004-58dd3722ba38",
   "metadata": {},
   "outputs": [
    {
     "name": "stdout",
     "output_type": "stream",
     "text": [
      "Hello from Parent!\n"
     ]
    },
    {
     "data": {
      "text/plain": [
       "undefined"
      ]
     },
     "execution_count": 3,
     "metadata": {},
     "output_type": "execute_result"
    }
   ],
   "source": [
    "{ \n",
    "    const parent = new Parent();\n",
    "    console.log(parent.message); // 출력: Hello from Parent!\n",
    "}"
   ]
  },
  {
   "cell_type": "code",
   "execution_count": 4,
   "id": "3f8107f9-733d-429d-b862-cae62f19832e",
   "metadata": {},
   "outputs": [
    {
     "name": "stdout",
     "output_type": "stream",
     "text": [
      "Hello from Child!\n"
     ]
    },
    {
     "data": {
      "text/plain": [
       "undefined"
      ]
     },
     "execution_count": 4,
     "metadata": {},
     "output_type": "execute_result"
    }
   ],
   "source": [
    "{ \n",
    "    const child = new Child();\n",
    "    console.log(child.message);  // 출력: Hello from Child!\n",
    "}"
   ]
  },
  {
   "cell_type": "markdown",
   "id": "994313b1-6dc1-433a-81ea-49de5a6c8b2b",
   "metadata": {},
   "source": [
    "## 2. 메서드 오버라이딩 "
   ]
  },
  {
   "cell_type": "code",
   "execution_count": null,
   "id": "1b27a1ce-76a6-4d4a-9d1c-34be4de5f642",
   "metadata": {},
   "outputs": [],
   "source": []
  },
  {
   "cell_type": "code",
   "execution_count": 7,
   "id": "1ceb3275-486a-47e0-a2ee-c4cb59ffbcf6",
   "metadata": {},
   "outputs": [
    {
     "data": {
      "text/plain": [
       "undefined"
      ]
     },
     "execution_count": 7,
     "metadata": {},
     "output_type": "execute_result"
    }
   ],
   "source": [
    "class Parent1 {\n",
    "    greet() {\n",
    "        console.log(\"Hello from Parent!\");\n",
    "    }\n",
    "}\n",
    "\n",
    "class Child1 extends Parent {\n",
    "    greet() {\n",
    "        console.log(\"Hello from Child!\");\n",
    "    }\n",
    "}\n"
   ]
  },
  {
   "cell_type": "code",
   "execution_count": 8,
   "id": "1ddc224a-327d-4252-b481-ce105fe84467",
   "metadata": {},
   "outputs": [
    {
     "name": "stdout",
     "output_type": "stream",
     "text": [
      "Hello from Parent!\n",
      "Hello from Child!\n"
     ]
    },
    {
     "data": {
      "text/plain": [
       "undefined"
      ]
     },
     "execution_count": 8,
     "metadata": {},
     "output_type": "execute_result"
    }
   ],
   "source": [
    "{ \n",
    "    const parent1 = new Parent1();\n",
    "    parent1.greet(); // 출력: Hello from Parent!\n",
    "\n",
    "    const child1 = new Child1();\n",
    "    child1.greet();  // 출력: Hello from Child!\n",
    "}"
   ]
  },
  {
   "cell_type": "markdown",
   "id": "1c33c72e-dd59-4e9f-a619-964c1adf6a23",
   "metadata": {},
   "source": [
    "### 메서드의 시그니처도 일치가 필요 \n",
    "\n",
    "- 메서드 오버라이딩할 때에는 메서드의 시그니처(매개변수 타입, 반환 타입)를 일치시켜야 합니다.\n",
    "- 그러나 타입스크립트에서는 super 키워드를 사용하여 부모 클래스의 메서드를 호출하고 추가적인 동작을 할 수 있습니다. "
   ]
  },
  {
   "cell_type": "code",
   "execution_count": 11,
   "id": "91527f3e-5e0a-4b6e-a4c1-0aad593d9487",
   "metadata": {},
   "outputs": [
    {
     "data": {
      "text/plain": [
       "undefined"
      ]
     },
     "execution_count": 11,
     "metadata": {},
     "output_type": "execute_result"
    }
   ],
   "source": [
    "class Parent2 {\n",
    "    greet() {\n",
    "        console.log(\"Hello from Parent!\");\n",
    "    }\n",
    "}\n",
    "\n",
    "class Child2 extends Parent2 {\n",
    "    greet() {\n",
    "        super.greet();          // 부모 클래스의 greet 메서드 호출\n",
    "        console.log(\"Hello from Child!\");\n",
    "    }\n",
    "}\n",
    "\n"
   ]
  },
  {
   "cell_type": "code",
   "execution_count": 12,
   "id": "66567b2a-f341-483f-acb8-eb80ed25c802",
   "metadata": {},
   "outputs": [
    {
     "name": "stdout",
     "output_type": "stream",
     "text": [
      "Hello from Parent!\n",
      "Hello from Child!\n"
     ]
    },
    {
     "data": {
      "text/plain": [
       "undefined"
      ]
     },
     "execution_count": 12,
     "metadata": {},
     "output_type": "execute_result"
    }
   ],
   "source": [
    "{\n",
    "    const child2 = new Child2();\n",
    "    child2.greet();\n",
    "}"
   ]
  },
  {
   "cell_type": "code",
   "execution_count": null,
   "id": "2e2d0eb4-0bc1-4f10-bd36-fb64bc35b592",
   "metadata": {},
   "outputs": [],
   "source": []
  }
 ],
 "metadata": {
  "kernelspec": {
   "display_name": "Typescript 4.9",
   "language": "typescript",
   "name": "typescript"
  },
  "language_info": {
   "file_extension": ".ts",
   "mimetype": "application/x-typescript",
   "name": "typescript",
   "version": "4.9.5"
  }
 },
 "nbformat": 4,
 "nbformat_minor": 5
}
