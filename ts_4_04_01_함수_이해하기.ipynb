{
 "cells": [
  {
   "cell_type": "code",
   "execution_count": null,
   "id": "8f4bc9f0-9ad0-480a-9f02-2a7766d613d9",
   "metadata": {
    "editable": true,
    "slideshow": {
     "slide_type": ""
    },
    "tags": []
   },
   "outputs": [],
   "source": []
  },
  {
   "cell_type": "markdown",
   "id": "81a4a502-3f32-47be-97d7-c7d357a9d26a",
   "metadata": {},
   "source": [
    "## 1. 함수 정의하기 "
   ]
  },
  {
   "cell_type": "code",
   "execution_count": null,
   "id": "8ff62c51-3493-48ed-9b82-da50ce85b206",
   "metadata": {},
   "outputs": [],
   "source": []
  },
  {
   "cell_type": "code",
   "execution_count": null,
   "id": "d5542c34-dbc1-4cbc-ab50-127f91ddff3f",
   "metadata": {},
   "outputs": [],
   "source": []
  },
  {
   "cell_type": "markdown",
   "id": "f0c8a6ec-9cdb-4fda-9978-a7002d94b31b",
   "metadata": {},
   "source": [
    "## 1-1 함수 정의 방법\n",
    "\n",
    "- function 예약어 + 함수명\n",
    "- 매개변수와 자료형 지정 \n",
    "- 반환자료형 지정\n",
    "- 본문은 블록 내에 지정\n",
    "- 반환자료형 지정"
   ]
  },
  {
   "cell_type": "code",
   "execution_count": 1,
   "id": "3b78c51a-d2a6-42d4-abaf-ba458c64238c",
   "metadata": {},
   "outputs": [
    {
     "data": {
      "text/plain": [
       "'use strict'"
      ]
     },
     "execution_count": 1,
     "metadata": {},
     "output_type": "execute_result"
    }
   ],
   "source": [
    "function add(x:number, y:number) : number {\n",
    "    return x+y;\n",
    "} "
   ]
  },
  {
   "cell_type": "markdown",
   "id": "f2c2a7fe-9f7d-4b06-af2e-d44f6969b8e5",
   "metadata": {},
   "source": [
    "## 1-2  함수 호출 \n",
    "- 함수 이름과 매개변수 자료형에 맞도록 인자를 전달"
   ]
  },
  {
   "cell_type": "code",
   "execution_count": 2,
   "id": "94a071f6-15e1-4768-b2f0-4d0b91da0e92",
   "metadata": {},
   "outputs": [
    {
     "data": {
      "text/plain": [
       "400"
      ]
     },
     "execution_count": 2,
     "metadata": {},
     "output_type": "execute_result"
    }
   ],
   "source": [
    "add(100,300)"
   ]
  },
  {
   "cell_type": "markdown",
   "id": "10b79e06-b231-4714-a122-4f716a00ad3b",
   "metadata": {},
   "source": [
    "## 1-3 매개변수 자료형과 다른 인자 전달할 때 에러 처리 \n",
    "\n",
    "- 함수 호출할 때 매개변수에 대한 자료형을 인식 "
   ]
  },
  {
   "cell_type": "code",
   "execution_count": 3,
   "id": "912b523d-7d20-4608-a571-dbec7cbbdbd8",
   "metadata": {},
   "outputs": [
    {
     "ename": "Error",
     "evalue": "Line 1, Character 9\nadd(100,'강');\n________^\nTS2345: Argument of type 'string' is not assignable to parameter of type 'number'.",
     "execution_count": 3,
     "output_type": "error",
     "traceback": [
      "Error: Line 1, Character 9",
      "add(100,'강');",
      "________^",
      "TS2345: Argument of type 'string' is not assignable to parameter of type 'number'.",
      "    at execTranspile (/usr/local/lib/node_modules/itypescript/lib/kernel.js:229:23)",
      "    at Session.transpiler [as transpile] (/usr/local/lib/node_modules/itypescript/lib/kernel.js:288:35)",
      "    at Session._runNow (/usr/local/lib/node_modules/itypescript/node_modules/nel/lib/nel.js:835:39)",
      "    at Session._run (/usr/local/lib/node_modules/itypescript/node_modules/nel/lib/nel.js:786:14)",
      "    at Session.execute (/usr/local/lib/node_modules/itypescript/node_modules/nel/lib/nel.js:929:10)",
      "    at Kernel.execute_request (/usr/local/lib/node_modules/itypescript/node_modules/jp-kernel/lib/handlers_v5.js:116:18)",
      "    at Kernel.onShellMessage (/usr/local/lib/node_modules/itypescript/node_modules/jp-kernel/lib/jp-kernel.js:285:41)",
      "    at Socket.<anonymous> (/usr/local/lib/node_modules/itypescript/node_modules/jmp/index.js:350:17)",
      "    at Socket.emit (node:events:513:28)",
      "    at Socket._emitMessage (/usr/local/lib/node_modules/itypescript/node_modules/zeromq/lib/index.js:649:15)"
     ]
    }
   ],
   "source": [
    "add(100,'강');"
   ]
  },
  {
   "cell_type": "code",
   "execution_count": null,
   "id": "28d7a223-8b78-4548-9464-17012fbe262b",
   "metadata": {},
   "outputs": [],
   "source": []
  },
  {
   "cell_type": "code",
   "execution_count": null,
   "id": "f08d8855-a0a6-4a7c-bd19-b087de56da65",
   "metadata": {},
   "outputs": [],
   "source": []
  },
  {
   "cell_type": "markdown",
   "id": "991a4d16-2852-44de-a00f-a76f67f2cf45",
   "metadata": {},
   "source": [
    "## 2 함수 호출 처리되는 순서 "
   ]
  },
  {
   "cell_type": "markdown",
   "id": "d48e56b5-d6d6-48d8-a04a-46e89ebd8ecb",
   "metadata": {},
   "source": [
    "## 2-1 함수 호이스팅(Function Hoisting) \n",
    "- 변수 호이스팅과 비슷한 개념으로, JavaScript에서 함수 선언이 스코프의 맨 위로 \"끌어"
   ]
  },
  {
   "cell_type": "markdown",
   "id": "06e7b710-a8d9-4368-a811-fd1da0811173",
   "metadata": {},
   "source": [
    "## 함수 정의는 함수 호출하기 이전에 로딩됨"
   ]
  },
  {
   "cell_type": "code",
   "execution_count": 1,
   "id": "64caba9b-9a95-4774-85d6-b48df094458d",
   "metadata": {},
   "outputs": [
    {
     "name": "stdout",
     "output_type": "stream",
     "text": [
      "Hello, World!\n"
     ]
    },
    {
     "data": {
      "text/plain": [
       "undefined"
      ]
     },
     "execution_count": 1,
     "metadata": {},
     "output_type": "execute_result"
    }
   ],
   "source": [
    "foo();  // \"Hello, World!\"\n",
    "\n",
    "function foo() {\n",
    "  console.log(\"Hello, World!\");\n",
    "}"
   ]
  },
  {
   "cell_type": "markdown",
   "id": "3d02c598-2c04-4689-ae8b-a796bcd2a7a6",
   "metadata": {},
   "source": [
    "## 2-2  표현식은 값이므로 호이스팅이 발생하지 않는다 "
   ]
  },
  {
   "cell_type": "markdown",
   "id": "3aa55c63-e3ee-4f11-84f9-df5162234fc7",
   "metadata": {},
   "source": [
    "## 변수는 호이스팅 되지만 = 우측에 있는 표현식은 호이스팅이 안됨\n",
    "\n",
    "- 즉 실제 실행될 때 표현식 처리\n",
    "-  그래서 함수를 호출하면 함수가 아니라는 에러가 발생함 "
   ]
  },
  {
   "cell_type": "code",
   "execution_count": 2,
   "id": "0cd39e96-be3b-49aa-b934-15bfc6c375e1",
   "metadata": {},
   "outputs": [
    {
     "ename": "Error",
     "evalue": "Line 1, Character 1\nbar();  // TypeError: bar is not a function\n^\nTS2454: Variable 'bar' is used before being assigned.",
     "execution_count": 2,
     "output_type": "error",
     "traceback": [
      "Error: Line 1, Character 1",
      "bar();  // TypeError: bar is not a function",
      "^",
      "TS2454: Variable 'bar' is used before being assigned.",
      "    at execTranspile (/usr/local/lib/node_modules/itypescript/lib/kernel.js:229:23)",
      "    at Session.transpiler [as transpile] (/usr/local/lib/node_modules/itypescript/lib/kernel.js:288:35)",
      "    at Session._runNow (/usr/local/lib/node_modules/itypescript/node_modules/nel/lib/nel.js:835:39)",
      "    at Session._run (/usr/local/lib/node_modules/itypescript/node_modules/nel/lib/nel.js:786:14)",
      "    at Session.execute (/usr/local/lib/node_modules/itypescript/node_modules/nel/lib/nel.js:929:10)",
      "    at Kernel.execute_request (/usr/local/lib/node_modules/itypescript/node_modules/jp-kernel/lib/handlers_v5.js:116:18)",
      "    at Kernel.onShellMessage (/usr/local/lib/node_modules/itypescript/node_modules/jp-kernel/lib/jp-kernel.js:285:41)",
      "    at Socket.<anonymous> (/usr/local/lib/node_modules/itypescript/node_modules/jmp/index.js:350:17)",
      "    at Socket.emit (node:events:513:28)",
      "    at Socket._emitMessage (/usr/local/lib/node_modules/itypescript/node_modules/zeromq/lib/index.js:649:15)"
     ]
    }
   ],
   "source": [
    "bar();  // TypeError: bar is not a function\n",
    "\n",
    "var bar = function() {\n",
    "  console.log(\"Hello from bar!\");\n",
    "};\n"
   ]
  },
  {
   "cell_type": "code",
   "execution_count": null,
   "id": "7d890625-2405-44e5-9b40-8c4738dcf80b",
   "metadata": {},
   "outputs": [],
   "source": []
  },
  {
   "cell_type": "markdown",
   "id": "1f0ab00a-09d4-471e-a29c-21276b331955",
   "metadata": {},
   "source": [
    "## 3. 함수 매개변수 처리 "
   ]
  },
  {
   "cell_type": "markdown",
   "id": "f9519906-6415-4a8a-a617-735837350c4c",
   "metadata": {},
   "source": [
    "### 3-1 매개변수와 반환자료형을 문자열로 처리 "
   ]
  },
  {
   "cell_type": "code",
   "execution_count": 4,
   "id": "266f69d5-11ba-4d64-8460-c31dc9d61601",
   "metadata": {},
   "outputs": [
    {
     "data": {
      "text/plain": [
       "undefined"
      ]
     },
     "execution_count": 4,
     "metadata": {},
     "output_type": "execute_result"
    }
   ],
   "source": [
    "function greet(name: string): string {\n",
    "  return `Hello, ${name}!`;\n",
    "}"
   ]
  },
  {
   "cell_type": "code",
   "execution_count": 5,
   "id": "6075e8ed-d627-4018-bbcf-bd5d966b9493",
   "metadata": {},
   "outputs": [
    {
     "data": {
      "text/plain": [
       "'Hello, 안녕하세요!'"
      ]
     },
     "execution_count": 5,
     "metadata": {},
     "output_type": "execute_result"
    }
   ],
   "source": [
    "greet(\"안녕하세요\");"
   ]
  },
  {
   "cell_type": "code",
   "execution_count": null,
   "id": "e79a962c-fc99-404e-b62b-a52870167ea1",
   "metadata": {},
   "outputs": [],
   "source": []
  },
  {
   "cell_type": "markdown",
   "id": "8bebec9f-dd3f-470e-9bbe-b5e1a54895b2",
   "metadata": {},
   "source": [
    "## 3-2 매개변수와 인자가 동일하지 않는 경우\n",
    "\n",
    "- 자스일 경우는 매개변수보다 인자가 많은 경우에도 처리가 되지만\n",
    "- 타스일 경우는 동일한 매개변수가 전달될 경우만 처리 "
   ]
  },
  {
   "cell_type": "code",
   "execution_count": 6,
   "id": "cc9b27dd-a8ee-4368-ac9e-e82907a6b25f",
   "metadata": {},
   "outputs": [
    {
     "data": {
      "text/plain": [
       "undefined"
      ]
     },
     "execution_count": 6,
     "metadata": {},
     "output_type": "execute_result"
    }
   ],
   "source": [
    "function greet2(name: string, hello:string): string {\n",
    "  return `${hello}, ${name}!`;\n",
    "}"
   ]
  },
  {
   "cell_type": "code",
   "execution_count": 7,
   "id": "670fa445-addb-49a4-b868-8042397de157",
   "metadata": {},
   "outputs": [
    {
     "ename": "Error",
     "evalue": "Line 1, Character 24\ngreet2(\"강아지\", \"안녕하세요\", \"너무해\");\n_______________________^\nTS2554: Expected 2 arguments, but got 3.",
     "execution_count": 7,
     "output_type": "error",
     "traceback": [
      "Error: Line 1, Character 24",
      "greet2(\"강아지\", \"안녕하세요\", \"너무해\");",
      "_______________________^",
      "TS2554: Expected 2 arguments, but got 3.",
      "    at execTranspile (/usr/local/lib/node_modules/itypescript/lib/kernel.js:229:23)",
      "    at Session.transpiler [as transpile] (/usr/local/lib/node_modules/itypescript/lib/kernel.js:288:35)",
      "    at Session._runNow (/usr/local/lib/node_modules/itypescript/node_modules/nel/lib/nel.js:835:39)",
      "    at Session._runNext (/usr/local/lib/node_modules/itypescript/node_modules/nel/lib/nel.js:876:14)",
      "    at Session._onMessage (/usr/local/lib/node_modules/itypescript/node_modules/nel/lib/nel.js:773:14)",
      "    at ChildProcess.emit (node:events:513:28)",
      "    at emit (node:internal/child_process:937:14)",
      "    at process.processTicksAndRejections (node:internal/process/task_queues:83:21)"
     ]
    }
   ],
   "source": [
    "greet2(\"강아지\", \"안녕하세요\", \"너무해\");"
   ]
  },
  {
   "cell_type": "code",
   "execution_count": 8,
   "id": "02f7f547-d668-40cf-b2de-6a1fb1d17577",
   "metadata": {},
   "outputs": [
    {
     "data": {
      "text/plain": [
       "'안녕하세요, 강아지!'"
      ]
     },
     "execution_count": 8,
     "metadata": {},
     "output_type": "execute_result"
    }
   ],
   "source": [
    "greet2(\"강아지\", \"안녕하세요\");"
   ]
  },
  {
   "cell_type": "code",
   "execution_count": null,
   "id": "9cd4ca53-09ae-42cc-9415-0dbdcefdeeb3",
   "metadata": {},
   "outputs": [],
   "source": []
  },
  {
   "cell_type": "markdown",
   "id": "d0c95e6e-0d1b-41b9-9308-feb2238546c0",
   "metadata": {},
   "source": [
    "## 3-3 반환값 없는 함수 처리"
   ]
  },
  {
   "cell_type": "markdown",
   "id": "76366ee9-e156-450b-bc72-ef0b111497ca",
   "metadata": {},
   "source": [
    "## void 처리 \n",
    "\n",
    "- 함수의 반환값이 없을 경우는 void 처리 "
   ]
  },
  {
   "cell_type": "code",
   "execution_count": 9,
   "id": "5a47b27a-50e2-42e1-9544-7b4bf3301823",
   "metadata": {},
   "outputs": [
    {
     "data": {
      "text/plain": [
       "undefined"
      ]
     },
     "execution_count": 9,
     "metadata": {},
     "output_type": "execute_result"
    }
   ],
   "source": [
    "function sayHello(firstName: string, lastName?: string): void {\n",
    "    let name: string;\n",
    "    if (lastName) { //값이 지정되었으면\n",
    "        name = firstName + \" \" + lastName;\n",
    "    }\n",
    "    else {\n",
    "        name = firstName;\n",
    "    }\n",
    "    console.log(\"Hello \" + name);\n",
    "}"
   ]
  },
  {
   "cell_type": "code",
   "execution_count": 10,
   "id": "0244e5c9-0b3f-4e37-8f22-451d36970fa9",
   "metadata": {},
   "outputs": [
    {
     "name": "stdout",
     "output_type": "stream",
     "text": [
      "Hello 가을 최\n"
     ]
    },
    {
     "data": {
      "text/plain": [
       "undefined"
      ]
     },
     "execution_count": 10,
     "metadata": {},
     "output_type": "execute_result"
    }
   ],
   "source": [
    "sayHello(\"가을\", \"최\");"
   ]
  },
  {
   "cell_type": "code",
   "execution_count": null,
   "id": "6bdedd1a-9f3c-467b-ab45-9529b462f90c",
   "metadata": {},
   "outputs": [],
   "source": []
  },
  {
   "cell_type": "markdown",
   "id": "07266581-91e8-4d17-925a-f9a147c170f7",
   "metadata": {},
   "source": [
    "## 옵셔널 매개변수 처리하기"
   ]
  },
  {
   "cell_type": "code",
   "execution_count": null,
   "id": "e30f8fc0-f063-430e-bf93-5332db8cbce4",
   "metadata": {},
   "outputs": [],
   "source": []
  },
  {
   "cell_type": "code",
   "execution_count": 11,
   "id": "3e24cfd8-cf59-4739-807f-db86b50d729e",
   "metadata": {},
   "outputs": [
    {
     "data": {
      "text/plain": [
       "undefined"
      ]
     },
     "execution_count": 11,
     "metadata": {},
     "output_type": "execute_result"
    }
   ],
   "source": [
    "function sayHello2(firstName: string, lastName?: string): string {\n",
    "    let name: string;\n",
    "    if (lastName) { //값이 지정되었으면\n",
    "        name = firstName + \" \" + lastName;\n",
    "    }\n",
    "    else {\n",
    "        name = firstName;\n",
    "    }\n",
    "    return \"Hello \" + name;\n",
    "}"
   ]
  },
  {
   "cell_type": "code",
   "execution_count": 12,
   "id": "42addf27-0bec-4fae-93a4-9044317d99ea",
   "metadata": {},
   "outputs": [
    {
     "data": {
      "text/plain": [
       "'Hello 가을 최'"
      ]
     },
     "execution_count": 12,
     "metadata": {},
     "output_type": "execute_result"
    }
   ],
   "source": [
    "sayHello2(\"가을\", \"최\");"
   ]
  },
  {
   "cell_type": "code",
   "execution_count": 13,
   "id": "a58530da-89d3-4d92-ae2f-944cfd1198d8",
   "metadata": {},
   "outputs": [
    {
     "data": {
      "text/plain": [
       "'Hello 가을'"
      ]
     },
     "execution_count": 13,
     "metadata": {},
     "output_type": "execute_result"
    }
   ],
   "source": [
    "sayHello2(\"가을\");"
   ]
  },
  {
   "cell_type": "code",
   "execution_count": null,
   "id": "93d30d39-6990-4892-ab43-648ff111958a",
   "metadata": {},
   "outputs": [],
   "source": []
  },
  {
   "cell_type": "code",
   "execution_count": null,
   "id": "f882cfac-d503-46c3-a938-ae5185ebaa93",
   "metadata": {},
   "outputs": [],
   "source": []
  },
  {
   "cell_type": "code",
   "execution_count": null,
   "id": "782e47f3-61b0-40c8-8399-4489bf23eb40",
   "metadata": {},
   "outputs": [],
   "source": []
  }
 ],
 "metadata": {
  "kernelspec": {
   "display_name": "Typescript 4.9",
   "language": "typescript",
   "name": "typescript"
  },
  "language_info": {
   "file_extension": ".ts",
   "mimetype": "application/x-typescript",
   "name": "typescript",
   "version": "4.9.5"
  }
 },
 "nbformat": 4,
 "nbformat_minor": 5
}
