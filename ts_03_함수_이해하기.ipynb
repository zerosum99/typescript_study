{
 "cells": [
  {
   "cell_type": "code",
   "execution_count": null,
   "id": "8f4bc9f0-9ad0-480a-9f02-2a7766d613d9",
   "metadata": {},
   "outputs": [],
   "source": []
  },
  {
   "cell_type": "markdown",
   "id": "81a4a502-3f32-47be-97d7-c7d357a9d26a",
   "metadata": {},
   "source": [
    "## 1. 함수 정의하기 "
   ]
  },
  {
   "cell_type": "markdown",
   "id": "f0c8a6ec-9cdb-4fda-9978-a7002d94b31b",
   "metadata": {},
   "source": [
    "### 함수 정의 방법\n",
    "\n",
    "- function 예약어 + 함수명\n",
    "- 매개변수와 자료형 지정 \n",
    "- 반환자료형 지정\n",
    "- 본문은 블록 내에 지정\n",
    "- 반환자료형 지정"
   ]
  },
  {
   "cell_type": "code",
   "execution_count": 1,
   "id": "3b78c51a-d2a6-42d4-abaf-ba458c64238c",
   "metadata": {},
   "outputs": [
    {
     "data": {
      "text/html": [
       "<div style='background:#ffecb3;padding:1em;border-left:2px solid #ff6d00'><b>Configuration is not found!</b> Default configuration will be used: <pre>{\"module\":1,\"target\":1,\"moduleResolution\":2,\"esModuleInterop\":true}</pre></div>"
      ]
     },
     "execution_count": 1,
     "metadata": {},
     "output_type": "execute_result"
    }
   ],
   "source": [
    "function add(x:number, y:number) : number {\n",
    "    return x+y;\n",
    "} "
   ]
  },
  {
   "cell_type": "markdown",
   "id": "f2c2a7fe-9f7d-4b06-af2e-d44f6969b8e5",
   "metadata": {},
   "source": [
    "### 함수 호출 \n",
    "- 함수 이름과 매개변수 자료형에 맞도록 인자를 전달"
   ]
  },
  {
   "cell_type": "code",
   "execution_count": 2,
   "id": "94a071f6-15e1-4768-b2f0-4d0b91da0e92",
   "metadata": {},
   "outputs": [
    {
     "data": {
      "text/plain": [
       "400"
      ]
     },
     "execution_count": 2,
     "metadata": {},
     "output_type": "execute_result"
    }
   ],
   "source": [
    "add(100,300)"
   ]
  },
  {
   "cell_type": "markdown",
   "id": "10b79e06-b231-4714-a122-4f716a00ad3b",
   "metadata": {},
   "source": [
    "### 매개변수 자료형과 다른 인자 전달할 때 에러 처리 "
   ]
  },
  {
   "cell_type": "code",
   "execution_count": 3,
   "id": "912b523d-7d20-4608-a571-dbec7cbbdbd8",
   "metadata": {},
   "outputs": [
    {
     "ename": "Error",
     "evalue": "Line 1, Character 9\nadd(100,'강');\n________^\nTS2345: Argument of type 'string' is not assignable to parameter of type 'number'.",
     "execution_count": 3,
     "output_type": "error",
     "traceback": [
      "Error: Line 1, Character 9",
      "add(100,'강');",
      "________^",
      "TS2345: Argument of type 'string' is not assignable to parameter of type 'number'.",
      "    at execTranspile (/usr/local/lib/node_modules/itypescript/lib/kernel.js:229:23)",
      "    at Session.transpiler [as transpile] (/usr/local/lib/node_modules/itypescript/lib/kernel.js:288:35)",
      "    at Session._runNow (/usr/local/lib/node_modules/itypescript/node_modules/nel/lib/nel.js:835:39)",
      "    at Session._runNext (/usr/local/lib/node_modules/itypescript/node_modules/nel/lib/nel.js:876:14)",
      "    at Session._onMessage (/usr/local/lib/node_modules/itypescript/node_modules/nel/lib/nel.js:773:14)",
      "    at ChildProcess.emit (node:events:513:28)",
      "    at emit (node:internal/child_process:937:14)",
      "    at process.processTicksAndRejections (node:internal/process/task_queues:83:21)"
     ]
    }
   ],
   "source": [
    "add(100,'강');"
   ]
  },
  {
   "cell_type": "code",
   "execution_count": null,
   "id": "28d7a223-8b78-4548-9464-17012fbe262b",
   "metadata": {},
   "outputs": [],
   "source": []
  },
  {
   "cell_type": "markdown",
   "id": "1f0ab00a-09d4-471e-a29c-21276b331955",
   "metadata": {},
   "source": [
    "## 2. 함수 매개변수 처리 "
   ]
  },
  {
   "cell_type": "markdown",
   "id": "f9519906-6415-4a8a-a617-735837350c4c",
   "metadata": {},
   "source": [
    "### 매개변수와 반환자료형을 문자열로 처리 "
   ]
  },
  {
   "cell_type": "code",
   "execution_count": 4,
   "id": "266f69d5-11ba-4d64-8460-c31dc9d61601",
   "metadata": {},
   "outputs": [
    {
     "data": {
      "text/plain": [
       "undefined"
      ]
     },
     "execution_count": 4,
     "metadata": {},
     "output_type": "execute_result"
    }
   ],
   "source": [
    "function greet(name: string): string {\n",
    "  return `Hello, ${name}!`;\n",
    "}"
   ]
  },
  {
   "cell_type": "code",
   "execution_count": 5,
   "id": "6075e8ed-d627-4018-bbcf-bd5d966b9493",
   "metadata": {},
   "outputs": [
    {
     "data": {
      "text/plain": [
       "'Hello, 안녕하세요!'"
      ]
     },
     "execution_count": 5,
     "metadata": {},
     "output_type": "execute_result"
    }
   ],
   "source": [
    "greet(\"안녕하세요\");"
   ]
  },
  {
   "cell_type": "code",
   "execution_count": null,
   "id": "e79a962c-fc99-404e-b62b-a52870167ea1",
   "metadata": {},
   "outputs": [],
   "source": []
  },
  {
   "cell_type": "markdown",
   "id": "8bebec9f-dd3f-470e-9bbe-b5e1a54895b2",
   "metadata": {},
   "source": [
    "### 매개변수와 인자가 동일하지 않는 경우\n",
    "\n",
    "- 자스일 경우는 매개변수보다 인자가 많은 경우에도 처리가 되지만\n",
    "- 타스일 경우는 동일한 매개변수가 전달될 경우만 처리 "
   ]
  },
  {
   "cell_type": "code",
   "execution_count": 6,
   "id": "cc9b27dd-a8ee-4368-ac9e-e82907a6b25f",
   "metadata": {},
   "outputs": [
    {
     "data": {
      "text/plain": [
       "undefined"
      ]
     },
     "execution_count": 6,
     "metadata": {},
     "output_type": "execute_result"
    }
   ],
   "source": [
    "function greet2(name: string, hello:string): string {\n",
    "  return `${hello}, ${name}!`;\n",
    "}"
   ]
  },
  {
   "cell_type": "code",
   "execution_count": 7,
   "id": "670fa445-addb-49a4-b868-8042397de157",
   "metadata": {},
   "outputs": [
    {
     "ename": "Error",
     "evalue": "Line 1, Character 24\ngreet2(\"강아지\", \"안녕하세요\", \"너무해\");\n_______________________^\nTS2554: Expected 2 arguments, but got 3.",
     "execution_count": 7,
     "output_type": "error",
     "traceback": [
      "Error: Line 1, Character 24",
      "greet2(\"강아지\", \"안녕하세요\", \"너무해\");",
      "_______________________^",
      "TS2554: Expected 2 arguments, but got 3.",
      "    at execTranspile (/usr/local/lib/node_modules/itypescript/lib/kernel.js:229:23)",
      "    at Session.transpiler [as transpile] (/usr/local/lib/node_modules/itypescript/lib/kernel.js:288:35)",
      "    at Session._runNow (/usr/local/lib/node_modules/itypescript/node_modules/nel/lib/nel.js:835:39)",
      "    at Session._runNext (/usr/local/lib/node_modules/itypescript/node_modules/nel/lib/nel.js:876:14)",
      "    at Session._onMessage (/usr/local/lib/node_modules/itypescript/node_modules/nel/lib/nel.js:773:14)",
      "    at ChildProcess.emit (node:events:513:28)",
      "    at emit (node:internal/child_process:937:14)",
      "    at process.processTicksAndRejections (node:internal/process/task_queues:83:21)"
     ]
    }
   ],
   "source": [
    "greet2(\"강아지\", \"안녕하세요\", \"너무해\");"
   ]
  },
  {
   "cell_type": "code",
   "execution_count": 8,
   "id": "02f7f547-d668-40cf-b2de-6a1fb1d17577",
   "metadata": {},
   "outputs": [
    {
     "data": {
      "text/plain": [
       "'안녕하세요, 강아지!'"
      ]
     },
     "execution_count": 8,
     "metadata": {},
     "output_type": "execute_result"
    }
   ],
   "source": [
    "greet2(\"강아지\", \"안녕하세요\");"
   ]
  },
  {
   "cell_type": "code",
   "execution_count": null,
   "id": "9cd4ca53-09ae-42cc-9415-0dbdcefdeeb3",
   "metadata": {},
   "outputs": [],
   "source": []
  },
  {
   "cell_type": "markdown",
   "id": "d0c95e6e-0d1b-41b9-9308-feb2238546c0",
   "metadata": {},
   "source": [
    "## 반환값 없는 함수 처리"
   ]
  },
  {
   "cell_type": "markdown",
   "id": "76366ee9-e156-450b-bc72-ef0b111497ca",
   "metadata": {},
   "source": [
    "## void 처리 \n",
    "\n",
    "- 함수의 반환값이 없을 경우는 void 처리 "
   ]
  },
  {
   "cell_type": "code",
   "execution_count": 9,
   "id": "5a47b27a-50e2-42e1-9544-7b4bf3301823",
   "metadata": {},
   "outputs": [
    {
     "data": {
      "text/plain": [
       "undefined"
      ]
     },
     "execution_count": 9,
     "metadata": {},
     "output_type": "execute_result"
    }
   ],
   "source": [
    "function sayHello(firstName: string, lastName?: string): void {\n",
    "    let name: string;\n",
    "    if (lastName) { //값이 지정되었으면\n",
    "        name = firstName + \" \" + lastName;\n",
    "    }\n",
    "    else {\n",
    "        name = firstName;\n",
    "    }\n",
    "    console.log(\"Hello \" + name);\n",
    "}"
   ]
  },
  {
   "cell_type": "code",
   "execution_count": 10,
   "id": "0244e5c9-0b3f-4e37-8f22-451d36970fa9",
   "metadata": {},
   "outputs": [
    {
     "name": "stdout",
     "output_type": "stream",
     "text": [
      "Hello 가을 최\n"
     ]
    },
    {
     "data": {
      "text/plain": [
       "undefined"
      ]
     },
     "execution_count": 10,
     "metadata": {},
     "output_type": "execute_result"
    }
   ],
   "source": [
    "sayHello(\"가을\", \"최\");"
   ]
  },
  {
   "cell_type": "code",
   "execution_count": null,
   "id": "6bdedd1a-9f3c-467b-ab45-9529b462f90c",
   "metadata": {},
   "outputs": [],
   "source": []
  },
  {
   "cell_type": "markdown",
   "id": "07266581-91e8-4d17-925a-f9a147c170f7",
   "metadata": {},
   "source": [
    "## 옵셔널 매개변수 처리하기"
   ]
  },
  {
   "cell_type": "code",
   "execution_count": null,
   "id": "e30f8fc0-f063-430e-bf93-5332db8cbce4",
   "metadata": {},
   "outputs": [],
   "source": []
  },
  {
   "cell_type": "code",
   "execution_count": 11,
   "id": "3e24cfd8-cf59-4739-807f-db86b50d729e",
   "metadata": {},
   "outputs": [
    {
     "data": {
      "text/plain": [
       "undefined"
      ]
     },
     "execution_count": 11,
     "metadata": {},
     "output_type": "execute_result"
    }
   ],
   "source": [
    "function sayHello2(firstName: string, lastName?: string): string {\n",
    "    let name: string;\n",
    "    if (lastName) { //값이 지정되었으면\n",
    "        name = firstName + \" \" + lastName;\n",
    "    }\n",
    "    else {\n",
    "        name = firstName;\n",
    "    }\n",
    "    return \"Hello \" + name;\n",
    "}"
   ]
  },
  {
   "cell_type": "code",
   "execution_count": 12,
   "id": "42addf27-0bec-4fae-93a4-9044317d99ea",
   "metadata": {},
   "outputs": [
    {
     "data": {
      "text/plain": [
       "'Hello 가을 최'"
      ]
     },
     "execution_count": 12,
     "metadata": {},
     "output_type": "execute_result"
    }
   ],
   "source": [
    "sayHello2(\"가을\", \"최\");"
   ]
  },
  {
   "cell_type": "code",
   "execution_count": 13,
   "id": "a58530da-89d3-4d92-ae2f-944cfd1198d8",
   "metadata": {},
   "outputs": [
    {
     "data": {
      "text/plain": [
       "'Hello 가을'"
      ]
     },
     "execution_count": 13,
     "metadata": {},
     "output_type": "execute_result"
    }
   ],
   "source": [
    "sayHello2(\"가을\");"
   ]
  },
  {
   "cell_type": "code",
   "execution_count": null,
   "id": "93d30d39-6990-4892-ab43-648ff111958a",
   "metadata": {},
   "outputs": [],
   "source": []
  },
  {
   "cell_type": "markdown",
   "id": "e228914f-87a0-4f08-bf35-ae9497a0a311",
   "metadata": {},
   "source": [
    "## 3. 함수는 1급 객체 \n",
    "\n",
    "- 매개변수나 변수에 할당\n",
    "- 반환값으로 처리\n",
    "\n"
   ]
  },
  {
   "cell_type": "markdown",
   "id": "6cfe4cf5-1710-498b-b1ea-d337fe5c0338",
   "metadata": {},
   "source": [
    "##  중첩함수 처리 \n",
    "\n",
    "- 함수 내부에 함수를 정의하는 것은 가능합니다. 이러한 함수를 \"중첩 함수\" 또는 \"내부 함수\"\n",
    "- 내부 함수는 주로 외부 함수에서만 사용되고 외부로 노출되지 않아야 하는 경우에 유용"
   ]
  },
  {
   "cell_type": "code",
   "execution_count": 14,
   "id": "140ad05e-1bb3-4f30-9d16-931ee09229d3",
   "metadata": {},
   "outputs": [
    {
     "data": {
      "text/plain": [
       "undefined"
      ]
     },
     "execution_count": 14,
     "metadata": {},
     "output_type": "execute_result"
    }
   ],
   "source": [
    "function outerFunction(x: number): number {\n",
    "  function innerFunction(y: number): number {\n",
    "    return y * 2;\n",
    "  }\n",
    "\n",
    "  const result = x + innerFunction(x);\n",
    "  return result;\n",
    "}\n"
   ]
  },
  {
   "cell_type": "code",
   "execution_count": 15,
   "id": "84a24d85-b4a8-42e0-b2ca-650ad893efbe",
   "metadata": {},
   "outputs": [
    {
     "name": "stdout",
     "output_type": "stream",
     "text": [
      "15\n"
     ]
    },
    {
     "data": {
      "text/plain": [
       "undefined"
      ]
     },
     "execution_count": 15,
     "metadata": {},
     "output_type": "execute_result"
    }
   ],
   "source": [
    "const output = outerFunction(5); // 외부 함수 호출\n",
    "console.log(output); // 출력: 15"
   ]
  },
  {
   "cell_type": "code",
   "execution_count": null,
   "id": "fe653262-1f95-49ce-93e0-6e922c07bcbc",
   "metadata": {},
   "outputs": [],
   "source": []
  },
  {
   "cell_type": "markdown",
   "id": "866d8784-cf72-47ea-a4fa-edc4a4b7296a",
   "metadata": {},
   "source": [
    "## 클로저 구성하기 \n",
    "\n",
    "- 클로저(closure)는 함수가 자신이 생성된 환경(스코프)에 접근할 수 있는 것을 의미\n",
    "- 클로저는 함수가 정의된 위치에 따라 변수를 캡처하고 이후에도 접근 가능"
   ]
  },
  {
   "cell_type": "code",
   "execution_count": 20,
   "id": "0f0c5357-47d2-4e28-94eb-a5242fe6f4fc",
   "metadata": {},
   "outputs": [
    {
     "data": {
      "text/plain": [
       "undefined"
      ]
     },
     "execution_count": 20,
     "metadata": {},
     "output_type": "execute_result"
    }
   ],
   "source": [
    "function outerFunction_1() {\n",
    "  let outerVariable = 10;\n",
    "\n",
    "  function innerFunction() {\n",
    "    // innerFunction은 outerFunction의 스코프에 접근 가능하므로 outerVariable을 캡처합니다.\n",
    "    console.log(`Outer Variable: ${outerVariable}`);\n",
    "  }\n",
    "\n",
    "  return innerFunction;\n",
    "}\n"
   ]
  },
  {
   "cell_type": "code",
   "execution_count": null,
   "id": "7a5a3d29-f840-4057-bc0e-3063a4096792",
   "metadata": {},
   "outputs": [],
   "source": []
  },
  {
   "cell_type": "code",
   "execution_count": 21,
   "id": "18b8dff8-42aa-43fe-959d-201a5ff1fd00",
   "metadata": {},
   "outputs": [
    {
     "name": "stdout",
     "output_type": "stream",
     "text": [
      "Outer Variable: 10\n"
     ]
    },
    {
     "data": {
      "text/plain": [
       "undefined"
      ]
     },
     "execution_count": 21,
     "metadata": {},
     "output_type": "execute_result"
    }
   ],
   "source": [
    "const closureFunc = outerFunction_1(); \n",
    "closureFunc();"
   ]
  },
  {
   "cell_type": "code",
   "execution_count": null,
   "id": "8e8becbd-5760-422c-91a2-80f88ded14a6",
   "metadata": {},
   "outputs": [],
   "source": []
  },
  {
   "cell_type": "markdown",
   "id": "cf2e7072-c2f4-4e6e-9439-9d6a8fe5bcb8",
   "metadata": {},
   "source": [
    "## 함수 매개변수나 변수에 할당하기\n",
    "\n",
    "- 함수 자료형 정의하기\n",
    "- 매개변수 자료형 정의 => 반환자료형 정의 "
   ]
  },
  {
   "cell_type": "code",
   "execution_count": null,
   "id": "92c86db0-2739-4020-b262-fa95a80c27db",
   "metadata": {},
   "outputs": [],
   "source": []
  },
  {
   "cell_type": "code",
   "execution_count": 25,
   "id": "1d96b49f-4d70-481b-8a7c-5407af11ba4f",
   "metadata": {},
   "outputs": [
    {
     "data": {
      "text/plain": [
       "undefined"
      ]
     },
     "execution_count": 25,
     "metadata": {},
     "output_type": "execute_result"
    }
   ],
   "source": [
    "function add3(x: number, y: number): number {\n",
    "  return x + y;\n",
    "}\n",
    "\n",
    "function multiply(x: number, y: number): number {\n",
    "  return x * y;\n",
    "}\n",
    "\n",
    "function calculateResult(operation: (a: number, b: number) => number, x: number, y: number): number {\n",
    "  return operation(x, y);\n",
    "}"
   ]
  },
  {
   "cell_type": "markdown",
   "id": "c3f8879f-575d-4430-8e57-a503db65ebac",
   "metadata": {},
   "source": [
    "### 변수에 함수 할당"
   ]
  },
  {
   "cell_type": "code",
   "execution_count": 29,
   "id": "f590a1f0-38f5-4d2c-881c-943fb5c47d6b",
   "metadata": {},
   "outputs": [
    {
     "data": {
      "text/plain": [
       "undefined"
      ]
     },
     "execution_count": 29,
     "metadata": {},
     "output_type": "execute_result"
    }
   ],
   "source": [
    "const func_var : (a: number, b: number) => number = add3"
   ]
  },
  {
   "cell_type": "code",
   "execution_count": 30,
   "id": "265f747f-5585-4fa6-93f7-25457c21474a",
   "metadata": {},
   "outputs": [
    {
     "data": {
      "text/plain": [
       "400"
      ]
     },
     "execution_count": 30,
     "metadata": {},
     "output_type": "execute_result"
    }
   ],
   "source": [
    "func_var(100,300);"
   ]
  },
  {
   "cell_type": "markdown",
   "id": "6c440179-b7a6-4043-9067-19f7407049fa",
   "metadata": {},
   "source": [
    "### 함수내의 매개변수에 함수 전달하기 "
   ]
  },
  {
   "cell_type": "code",
   "execution_count": 26,
   "id": "30d0a5f5-0fd5-44d0-98db-016bcee79e39",
   "metadata": {},
   "outputs": [
    {
     "data": {
      "text/plain": [
       "undefined"
      ]
     },
     "execution_count": 26,
     "metadata": {},
     "output_type": "execute_result"
    }
   ],
   "source": [
    "const result1 = calculateResult(add3, 5, 3);     \n",
    "const result2 = calculateResult(multiply, 4, 2);"
   ]
  },
  {
   "cell_type": "code",
   "execution_count": 27,
   "id": "b980ee84-5cca-47f7-a2df-013b97364276",
   "metadata": {},
   "outputs": [
    {
     "data": {
      "text/plain": [
       "8"
      ]
     },
     "execution_count": 27,
     "metadata": {},
     "output_type": "execute_result"
    }
   ],
   "source": [
    "result1"
   ]
  },
  {
   "cell_type": "code",
   "execution_count": 28,
   "id": "dd94f106-dc08-444a-b591-93fe270e7604",
   "metadata": {},
   "outputs": [
    {
     "data": {
      "text/plain": [
       "8"
      ]
     },
     "execution_count": 28,
     "metadata": {},
     "output_type": "execute_result"
    }
   ],
   "source": [
    "result2"
   ]
  },
  {
   "cell_type": "code",
   "execution_count": null,
   "id": "f882cfac-d503-46c3-a938-ae5185ebaa93",
   "metadata": {},
   "outputs": [],
   "source": []
  },
  {
   "cell_type": "code",
   "execution_count": null,
   "id": "b4f0d28a-a789-4413-b1f5-8f40dd40e8f5",
   "metadata": {},
   "outputs": [],
   "source": []
  },
  {
   "cell_type": "code",
   "execution_count": null,
   "id": "b73ab9e6-588b-4b24-897d-6a3eb6dbfe4b",
   "metadata": {},
   "outputs": [],
   "source": []
  },
  {
   "cell_type": "code",
   "execution_count": null,
   "id": "782e47f3-61b0-40c8-8399-4489bf23eb40",
   "metadata": {},
   "outputs": [],
   "source": []
  }
 ],
 "metadata": {
  "kernelspec": {
   "display_name": "Typescript 4.9",
   "language": "typescript",
   "name": "typescript"
  },
  "language_info": {
   "file_extension": ".ts",
   "mimetype": "application/x-typescript",
   "name": "typescript",
   "version": "4.9.5"
  }
 },
 "nbformat": 4,
 "nbformat_minor": 5
}
