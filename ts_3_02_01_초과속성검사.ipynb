{
 "cells": [
  {
   "cell_type": "code",
   "execution_count": null,
   "id": "e78e4ffa-248d-4df2-bdd5-d636a8d36495",
   "metadata": {},
   "outputs": [],
   "source": []
  },
  {
   "cell_type": "markdown",
   "id": "353a3f2e-93de-412f-8f6a-9b954e0204fb",
   "metadata": {},
   "source": [
    "## 초과속성검사 \n",
    "\n",
    "\n",
    "- 초과속성 검사(Excess Property Checks)는 객체를 다른 객체로 할당하거나 전달할 때, 대상 객체에 없는 속성을 포함하고 있을 때 발생하는 경고나 에러를 가리킵니다. 이로써 코드의 안전성을 높일 수 있습니다."
   ]
  },
  {
   "cell_type": "code",
   "execution_count": null,
   "id": "0ead57a7-2a28-4796-8755-6c3112ee4a86",
   "metadata": {},
   "outputs": [],
   "source": []
  },
  {
   "cell_type": "markdown",
   "id": "2b60a1db-add9-41cd-beb1-69c36dc91b15",
   "metadata": {},
   "source": [
    "## 1-1 초기값 할당할 때는 동일한 속성만 처리 "
   ]
  },
  {
   "cell_type": "code",
   "execution_count": 1,
   "id": "39e27f2f-6fc5-423b-ac0d-08bbd9df42b3",
   "metadata": {},
   "outputs": [
    {
     "ename": "Error",
     "evalue": "Line 9, Character 5\n    country: \"Wonderland\", // 초과속성: Person 타입에 정의되지 않은 속성\n____^\nTS2322: Type '{ name: string; age: number; country: string; }' is not assignable to type 'Person'.\n  Object literal may only specify known properties, and 'country' does not exist in type 'Person'.",
     "execution_count": 1,
     "output_type": "error",
     "traceback": [
      "Error: Line 9, Character 5",
      "    country: \"Wonderland\", // 초과속성: Person 타입에 정의되지 않은 속성",
      "____^",
      "TS2322: Type '{ name: string; age: number; country: string; }' is not assignable to type 'Person'.",
      "  Object literal may only specify known properties, and 'country' does not exist in type 'Person'.",
      "    at execTranspile (/usr/local/lib/node_modules/itypescript/lib/kernel.js:229:23)",
      "    at Session.transpiler [as transpile] (/usr/local/lib/node_modules/itypescript/lib/kernel.js:288:35)",
      "    at Session._runNow (/usr/local/lib/node_modules/itypescript/node_modules/nel/lib/nel.js:835:39)",
      "    at Session._run (/usr/local/lib/node_modules/itypescript/node_modules/nel/lib/nel.js:786:14)",
      "    at Session.execute (/usr/local/lib/node_modules/itypescript/node_modules/nel/lib/nel.js:929:10)",
      "    at Kernel.execute_request (/usr/local/lib/node_modules/itypescript/node_modules/jp-kernel/lib/handlers_v5.js:116:18)",
      "    at Kernel.onShellMessage (/usr/local/lib/node_modules/itypescript/node_modules/jp-kernel/lib/jp-kernel.js:285:41)",
      "    at Socket.<anonymous> (/usr/local/lib/node_modules/itypescript/node_modules/jmp/index.js:350:17)",
      "    at Socket.emit (node:events:513:28)",
      "    at Socket._emitMessage (/usr/local/lib/node_modules/itypescript/node_modules/zeromq/lib/index.js:649:15)"
     ]
    }
   ],
   "source": [
    "type Person = {\n",
    "    name: string;\n",
    "    age: number;\n",
    "};\n",
    "\n",
    "const person: Person = {\n",
    "    name: \"Alice\",\n",
    "    age: 30,\n",
    "    country: \"Wonderland\", // 초과속성: Person 타입에 정의되지 않은 속성\n",
    "};\n"
   ]
  },
  {
   "cell_type": "code",
   "execution_count": null,
   "id": "7c6abdae-0fad-45da-be87-fc1c08731bc2",
   "metadata": {},
   "outputs": [],
   "source": []
  },
  {
   "cell_type": "markdown",
   "id": "76726b5a-f761-4982-94c7-0f7e3af6242e",
   "metadata": {},
   "source": [
    "## 1-2 기존 정의된 객체를 변수에 할당할 때는 동일한 속성만 검사"
   ]
  },
  {
   "cell_type": "code",
   "execution_count": 2,
   "id": "c1029988-a2c2-498f-a891-a6a126f6b68e",
   "metadata": {},
   "outputs": [
    {
     "data": {
      "text/plain": [
       "'use strict'"
      ]
     },
     "execution_count": 2,
     "metadata": {},
     "output_type": "execute_result"
    }
   ],
   "source": [
    "type Person1 = {\n",
    "    name: string;\n",
    "    age: number;\n",
    "};\n",
    "\n",
    "const person1 = {\n",
    "    name: \"Alice\",\n",
    "    age: 30,\n",
    "    country: \"Wonderland\",\n",
    "};\n",
    "\n",
    "\n",
    "const person12= person1;"
   ]
  },
  {
   "cell_type": "code",
   "execution_count": null,
   "id": "f6ee8fe4-6569-4e5a-9b22-1cad1ad373bb",
   "metadata": {},
   "outputs": [],
   "source": []
  }
 ],
 "metadata": {
  "kernelspec": {
   "display_name": "Typescript 4.9",
   "language": "typescript",
   "name": "typescript"
  },
  "language_info": {
   "file_extension": ".ts",
   "mimetype": "application/x-typescript",
   "name": "typescript",
   "version": "4.9.5"
  }
 },
 "nbformat": 4,
 "nbformat_minor": 5
}
