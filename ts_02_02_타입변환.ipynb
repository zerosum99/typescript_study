{
 "cells": [
  {
   "cell_type": "code",
   "execution_count": null,
   "id": "d3756c5d-cabc-49b0-92f5-4ad79d14e3fe",
   "metadata": {},
   "outputs": [],
   "source": []
  },
  {
   "cell_type": "markdown",
   "id": "63280aad-1a63-41f4-9297-19b334528820",
   "metadata": {},
   "source": [
    "## 1. 타입 변환(Type Casting) \n",
    "- 변수나 값의 타입을 다른 타입으로 강제적으로 변환하는 것을 의미"
   ]
  },
  {
   "cell_type": "markdown",
   "id": "a98ec44b-a3b6-422b-a157-69553651fb08",
   "metadata": {},
   "source": [
    "## 1-1 \"angle-bracket\" 문법:\n",
    "- <타입> 형식으로 사용하는 방법으로, JSX를 사용하지 않을 때 유효"
   ]
  },
  {
   "cell_type": "code",
   "execution_count": 1,
   "id": "ccb435bc-70eb-4384-a38f-cbac16ccdf47",
   "metadata": {},
   "outputs": [
    {
     "data": {
      "text/plain": [
       "undefined"
      ]
     },
     "execution_count": 1,
     "metadata": {},
     "output_type": "execute_result"
    }
   ],
   "source": [
    "let value: any = \"123\";"
   ]
  },
  {
   "cell_type": "code",
   "execution_count": 2,
   "id": "2c00d52e-d32f-406c-869f-47a1238082b9",
   "metadata": {},
   "outputs": [
    {
     "name": "stdout",
     "output_type": "stream",
     "text": [
      "3\n"
     ]
    },
    {
     "data": {
      "text/plain": [
       "undefined"
      ]
     },
     "execution_count": 2,
     "metadata": {},
     "output_type": "execute_result"
    }
   ],
   "source": [
    "{ \n",
    "    let length: number = (<string>value).length;\n",
    "    console.log(length); // 출력: 3\n",
    "}"
   ]
  },
  {
   "cell_type": "code",
   "execution_count": null,
   "id": "d0996b17-6e09-44dc-9e42-4e149573c6f0",
   "metadata": {},
   "outputs": [],
   "source": []
  },
  {
   "cell_type": "markdown",
   "id": "a58ff8d1-4a22-4039-952f-9312bc626709",
   "metadata": {},
   "source": [
    "## 1-2 \"as\" 키워드:\n",
    "- as 키워드를 사용하여 타입을 변환하는 방법으로, JSX를 사용하는 경우와 JSX를 사용하지 않는 경우 모두 유효"
   ]
  },
  {
   "cell_type": "code",
   "execution_count": 5,
   "id": "71768d3b-eb55-44b3-943e-1f971982bb0c",
   "metadata": {},
   "outputs": [
    {
     "name": "stdout",
     "output_type": "stream",
     "text": [
      "3\n"
     ]
    },
    {
     "data": {
      "text/plain": [
       "undefined"
      ]
     },
     "execution_count": 5,
     "metadata": {},
     "output_type": "execute_result"
    }
   ],
   "source": [
    "{\n",
    "    let value: any = \"123\";\n",
    "    let length: number = (value as string).length;\n",
    "    console.log(length); // 출력: 3\n",
    "}"
   ]
  },
  {
   "cell_type": "code",
   "execution_count": null,
   "id": "36bcd576-9ece-4da6-b97a-accea2df870b",
   "metadata": {},
   "outputs": [],
   "source": []
  },
  {
   "cell_type": "code",
   "execution_count": null,
   "id": "84d88c89-014f-4e8b-a85f-ae59f7b4c812",
   "metadata": {},
   "outputs": [],
   "source": []
  }
 ],
 "metadata": {
  "kernelspec": {
   "display_name": "Typescript 4.9",
   "language": "typescript",
   "name": "typescript"
  },
  "language_info": {
   "file_extension": ".ts",
   "mimetype": "application/x-typescript",
   "name": "typescript",
   "version": "4.9.5"
  }
 },
 "nbformat": 4,
 "nbformat_minor": 5
}
