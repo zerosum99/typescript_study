{
 "cells": [
  {
   "cell_type": "code",
   "execution_count": null,
   "id": "8f4bc9f0-9ad0-480a-9f02-2a7766d613d9",
   "metadata": {
    "editable": true,
    "slideshow": {
     "slide_type": ""
    },
    "tags": []
   },
   "outputs": [],
   "source": []
  },
  {
   "cell_type": "code",
   "execution_count": null,
   "id": "cd19f45a-e55a-4bac-97cf-7cb8a1adc21b",
   "metadata": {},
   "outputs": [],
   "source": []
  },
  {
   "cell_type": "markdown",
   "id": "ea7c515a-56da-4f27-8c2a-e6005af6eb22",
   "metadata": {},
   "source": [
    "## 1. 함수는 1급 객체 "
   ]
  },
  {
   "cell_type": "code",
   "execution_count": null,
   "id": "4994c212-81d0-4d75-b577-5eacd29615a8",
   "metadata": {},
   "outputs": [],
   "source": []
  },
  {
   "cell_type": "markdown",
   "id": "43386ccb-7c52-4024-acde-85aecd64ef9f",
   "metadata": {},
   "source": [
    "## 1-1 함수 내포 함수 처리 및 클로저 알아보기 "
   ]
  },
  {
   "cell_type": "markdown",
   "id": "6cfe4cf5-1710-498b-b1ea-d337fe5c0338",
   "metadata": {},
   "source": [
    "##  중첩함수 처리 \n",
    "\n",
    "- 함수 내부에 함수를 정의하는 것은 가능합니다. 이러한 함수를 \"중첩 함수\" 또는 \"내부 함수\"\n",
    "- 내부 함수는 주로 외부 함수에서만 사용되고 외부로 노출되지 않아야 하는 경우에 유용"
   ]
  },
  {
   "cell_type": "code",
   "execution_count": 14,
   "id": "140ad05e-1bb3-4f30-9d16-931ee09229d3",
   "metadata": {},
   "outputs": [
    {
     "data": {
      "text/plain": [
       "undefined"
      ]
     },
     "execution_count": 14,
     "metadata": {},
     "output_type": "execute_result"
    }
   ],
   "source": [
    "function outerFunction(x: number): number {\n",
    "  function innerFunction(y: number): number {\n",
    "    return y * 2;\n",
    "  }\n",
    "\n",
    "  const result = x + innerFunction(x);\n",
    "  return result;\n",
    "}\n"
   ]
  },
  {
   "cell_type": "code",
   "execution_count": 15,
   "id": "84a24d85-b4a8-42e0-b2ca-650ad893efbe",
   "metadata": {},
   "outputs": [
    {
     "name": "stdout",
     "output_type": "stream",
     "text": [
      "15\n"
     ]
    },
    {
     "data": {
      "text/plain": [
       "undefined"
      ]
     },
     "execution_count": 15,
     "metadata": {},
     "output_type": "execute_result"
    }
   ],
   "source": [
    "const output = outerFunction(5); // 외부 함수 호출\n",
    "console.log(output); // 출력: 15"
   ]
  },
  {
   "cell_type": "code",
   "execution_count": null,
   "id": "fe653262-1f95-49ce-93e0-6e922c07bcbc",
   "metadata": {},
   "outputs": [],
   "source": []
  },
  {
   "cell_type": "markdown",
   "id": "866d8784-cf72-47ea-a4fa-edc4a4b7296a",
   "metadata": {},
   "source": [
    "## 함수 반환 및  클로저 구성하기 \n",
    "\n",
    "- 클로저(closure)는 함수가 자신이 생성된 환경(스코프)에 접근할 수 있는 것을 의미\n",
    "- 클로저는 함수가 정의된 위치에 따라 변수를 캡처하고 이후에도 접근 가능"
   ]
  },
  {
   "cell_type": "code",
   "execution_count": 20,
   "id": "0f0c5357-47d2-4e28-94eb-a5242fe6f4fc",
   "metadata": {},
   "outputs": [
    {
     "data": {
      "text/plain": [
       "undefined"
      ]
     },
     "execution_count": 20,
     "metadata": {},
     "output_type": "execute_result"
    }
   ],
   "source": [
    "function outerFunction_1() {\n",
    "  let outerVariable = 10;\n",
    "\n",
    "  function innerFunction() {\n",
    "    // innerFunction은 outerFunction의 스코프에 접근 가능하므로 outerVariable을 캡처합니다.\n",
    "    console.log(`Outer Variable: ${outerVariable}`);\n",
    "  }\n",
    "\n",
    "  return innerFunction;\n",
    "}\n"
   ]
  },
  {
   "cell_type": "code",
   "execution_count": null,
   "id": "7a5a3d29-f840-4057-bc0e-3063a4096792",
   "metadata": {},
   "outputs": [],
   "source": []
  },
  {
   "cell_type": "code",
   "execution_count": 21,
   "id": "18b8dff8-42aa-43fe-959d-201a5ff1fd00",
   "metadata": {},
   "outputs": [
    {
     "name": "stdout",
     "output_type": "stream",
     "text": [
      "Outer Variable: 10\n"
     ]
    },
    {
     "data": {
      "text/plain": [
       "undefined"
      ]
     },
     "execution_count": 21,
     "metadata": {},
     "output_type": "execute_result"
    }
   ],
   "source": [
    "const closureFunc = outerFunction_1(); \n",
    "closureFunc();"
   ]
  },
  {
   "cell_type": "code",
   "execution_count": null,
   "id": "8e8becbd-5760-422c-91a2-80f88ded14a6",
   "metadata": {},
   "outputs": [],
   "source": []
  },
  {
   "cell_type": "markdown",
   "id": "cf2e7072-c2f4-4e6e-9439-9d6a8fe5bcb8",
   "metadata": {},
   "source": [
    "## 1-2 함수 매개변수나 변수에 할당하기\n",
    "\n",
    "- 함수 자료형 정의하기\n",
    "- 매개변수 자료형 정의 => 반환자료형 정의 "
   ]
  },
  {
   "cell_type": "code",
   "execution_count": null,
   "id": "92c86db0-2739-4020-b262-fa95a80c27db",
   "metadata": {},
   "outputs": [],
   "source": []
  },
  {
   "cell_type": "code",
   "execution_count": 25,
   "id": "1d96b49f-4d70-481b-8a7c-5407af11ba4f",
   "metadata": {},
   "outputs": [
    {
     "data": {
      "text/plain": [
       "undefined"
      ]
     },
     "execution_count": 25,
     "metadata": {},
     "output_type": "execute_result"
    }
   ],
   "source": [
    "function add3(x: number, y: number): number {\n",
    "  return x + y;\n",
    "}\n",
    "\n",
    "function multiply(x: number, y: number): number {\n",
    "  return x * y;\n",
    "}\n",
    "\n",
    "function calculateResult(operation: (a: number, b: number) => number, x: number, y: number): number {\n",
    "  return operation(x, y);\n",
    "}"
   ]
  },
  {
   "cell_type": "markdown",
   "id": "c3f8879f-575d-4430-8e57-a503db65ebac",
   "metadata": {},
   "source": [
    "### 변수에 함수 할당"
   ]
  },
  {
   "cell_type": "code",
   "execution_count": 29,
   "id": "f590a1f0-38f5-4d2c-881c-943fb5c47d6b",
   "metadata": {},
   "outputs": [
    {
     "data": {
      "text/plain": [
       "undefined"
      ]
     },
     "execution_count": 29,
     "metadata": {},
     "output_type": "execute_result"
    }
   ],
   "source": [
    "const func_var : (a: number, b: number) => number = add3"
   ]
  },
  {
   "cell_type": "code",
   "execution_count": 30,
   "id": "265f747f-5585-4fa6-93f7-25457c21474a",
   "metadata": {},
   "outputs": [
    {
     "data": {
      "text/plain": [
       "400"
      ]
     },
     "execution_count": 30,
     "metadata": {},
     "output_type": "execute_result"
    }
   ],
   "source": [
    "func_var(100,300);"
   ]
  },
  {
   "cell_type": "markdown",
   "id": "6c440179-b7a6-4043-9067-19f7407049fa",
   "metadata": {},
   "source": [
    "### 함수내의 매개변수에 함수 전달하기 "
   ]
  },
  {
   "cell_type": "code",
   "execution_count": 26,
   "id": "30d0a5f5-0fd5-44d0-98db-016bcee79e39",
   "metadata": {},
   "outputs": [
    {
     "data": {
      "text/plain": [
       "undefined"
      ]
     },
     "execution_count": 26,
     "metadata": {},
     "output_type": "execute_result"
    }
   ],
   "source": [
    "const result1 = calculateResult(add3, 5, 3);     \n",
    "const result2 = calculateResult(multiply, 4, 2);"
   ]
  },
  {
   "cell_type": "code",
   "execution_count": 27,
   "id": "b980ee84-5cca-47f7-a2df-013b97364276",
   "metadata": {},
   "outputs": [
    {
     "data": {
      "text/plain": [
       "8"
      ]
     },
     "execution_count": 27,
     "metadata": {},
     "output_type": "execute_result"
    }
   ],
   "source": [
    "result1"
   ]
  },
  {
   "cell_type": "code",
   "execution_count": 28,
   "id": "dd94f106-dc08-444a-b591-93fe270e7604",
   "metadata": {},
   "outputs": [
    {
     "data": {
      "text/plain": [
       "8"
      ]
     },
     "execution_count": 28,
     "metadata": {},
     "output_type": "execute_result"
    }
   ],
   "source": [
    "result2"
   ]
  },
  {
   "cell_type": "code",
   "execution_count": null,
   "id": "f882cfac-d503-46c3-a938-ae5185ebaa93",
   "metadata": {},
   "outputs": [],
   "source": []
  },
  {
   "cell_type": "code",
   "execution_count": null,
   "id": "b4f0d28a-a789-4413-b1f5-8f40dd40e8f5",
   "metadata": {},
   "outputs": [],
   "source": []
  },
  {
   "cell_type": "code",
   "execution_count": null,
   "id": "b73ab9e6-588b-4b24-897d-6a3eb6dbfe4b",
   "metadata": {},
   "outputs": [],
   "source": []
  },
  {
   "cell_type": "code",
   "execution_count": null,
   "id": "782e47f3-61b0-40c8-8399-4489bf23eb40",
   "metadata": {},
   "outputs": [],
   "source": []
  }
 ],
 "metadata": {
  "kernelspec": {
   "display_name": "Typescript 4.9",
   "language": "typescript",
   "name": "typescript"
  },
  "language_info": {
   "file_extension": ".ts",
   "mimetype": "application/x-typescript",
   "name": "typescript",
   "version": "4.9.5"
  }
 },
 "nbformat": 4,
 "nbformat_minor": 5
}
