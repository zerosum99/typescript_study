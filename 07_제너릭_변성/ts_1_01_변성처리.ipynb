{
 "cells": [
  {
   "cell_type": "code",
   "execution_count": null,
   "id": "e845b030-63c4-4c1a-8367-c7ba92e2fc25",
   "metadata": {},
   "outputs": [],
   "source": []
  },
  {
   "cell_type": "markdown",
   "id": "f031ebe8-4ed4-4615-bd2e-75d5b41f167f",
   "metadata": {},
   "source": [
    "##  공변성처리 "
   ]
  },
  {
   "cell_type": "code",
   "execution_count": 1,
   "id": "10388fe5-9ba0-4c83-9a7e-7139a6ab3b76",
   "metadata": {},
   "outputs": [
    {
     "data": {
      "text/plain": [
       "'use strict'"
      ]
     },
     "execution_count": 1,
     "metadata": {},
     "output_type": "execute_result"
    }
   ],
   "source": [
    "interface Super { \n",
    "    name:string;\n",
    "}\n",
    "\n",
    "interface Sub extends Super { \n",
    "    age:number;\n",
    "}\n",
    "\n",
    "const ss : Sub = { name : \"가을이\", age:33 };\n",
    "\n",
    "\n",
    "const ss1 : Super = ss;\n",
    "\n"
   ]
  },
  {
   "cell_type": "code",
   "execution_count": null,
   "id": "5627e32d-b724-4d59-8a16-767a4b240977",
   "metadata": {},
   "outputs": [],
   "source": []
  },
  {
   "cell_type": "markdown",
   "id": "1d31e221-90e7-4282-9280-b49a3d371d77",
   "metadata": {},
   "source": [
    "##  반공변성 처리 \n",
    "\n",
    "- 함수 자료형에서 매개변수 처리는 반공변성으로 처리"
   ]
  },
  {
   "cell_type": "code",
   "execution_count": 2,
   "id": "33920084-2ec0-4711-8ee1-ea2016ef8d9c",
   "metadata": {},
   "outputs": [
    {
     "data": {
      "text/plain": [
       "undefined"
      ]
     },
     "execution_count": 2,
     "metadata": {},
     "output_type": "execute_result"
    }
   ],
   "source": [
    "interface FSUP {\n",
    "    (a:Sub) : string\n",
    "\n",
    "}\n",
    "\n",
    "\n",
    "interface FSUB {\n",
    "    (a:Super) : string\n",
    "}\n",
    "\n"
   ]
  },
  {
   "cell_type": "code",
   "execution_count": 3,
   "id": "368b221d-553a-4ff5-b350-83962416f60c",
   "metadata": {},
   "outputs": [
    {
     "name": "stdout",
     "output_type": "stream",
     "text": [
      "가을이\n",
      "가을이\n"
     ]
    },
    {
     "data": {
      "text/plain": [
       "undefined"
      ]
     },
     "execution_count": 3,
     "metadata": {},
     "output_type": "execute_result"
    }
   ],
   "source": [
    "const fs : FSUB = (a:Super) => a.name.toString();\n",
    "\n",
    "const fs2 : FSUP = fs;\n",
    "console.log(fs2(ss));\n",
    "console.log(fs(ss1));"
   ]
  },
  {
   "cell_type": "code",
   "execution_count": null,
   "id": "eaabbe11-99ad-41a7-8410-d499d653b32c",
   "metadata": {},
   "outputs": [],
   "source": []
  }
 ],
 "metadata": {
  "kernelspec": {
   "display_name": "Typescript 4.9",
   "language": "typescript",
   "name": "typescript"
  },
  "language_info": {
   "file_extension": ".ts",
   "mimetype": "application/x-typescript",
   "name": "typescript",
   "version": "4.9.5"
  }
 },
 "nbformat": 4,
 "nbformat_minor": 5
}
