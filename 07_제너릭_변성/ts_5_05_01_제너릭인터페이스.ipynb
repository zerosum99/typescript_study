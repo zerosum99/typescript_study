{
 "cells": [
  {
   "cell_type": "code",
   "execution_count": null,
   "id": "81dad238-3639-49bd-8e1b-9bd311fb0f03",
   "metadata": {},
   "outputs": [],
   "source": []
  },
  {
   "cell_type": "markdown",
   "id": "33d7f071-6ba2-4ffc-8144-caa543e759d0",
   "metadata": {},
   "source": [
    "# 제너릭 인터페이스(Generic Interface)는 \n",
    "    \n",
    "- TypeScript에서 인터페이스를 정의할 때 인터페이스의 멤버인 프로퍼티, 메서드 등을 여러 종류의 데이터 타입에 대해 일반화된 코드로 작성할 수 있도록 해주는 개념입니다. \n",
    "- 제너릭 인터페이스를 사용하면 다양한 데이터 타입에 대한 일반화된 구조를 정의할 수 있습니다.\n",
    "\n",
    "제너릭 인터페이스를 정의할 때는 인터페이스 이름 뒤에 <T>와 같은 형태로 제너릭 타입 변수를 사용합니다.\n",
    "이제 해당 인터페이스의 멤버에서 제너릭 타입 변수 T를 사용하여 일반화된 코드를 작성할 수 있습니다."
   ]
  },
  {
   "cell_type": "code",
   "execution_count": null,
   "id": "e3fefa83-86c4-4648-800a-9bc264fe218c",
   "metadata": {},
   "outputs": [],
   "source": []
  },
  {
   "cell_type": "code",
   "execution_count": null,
   "id": "ac4c57ed-83de-4e69-aa3a-bda239600572",
   "metadata": {},
   "outputs": [],
   "source": []
  },
  {
   "cell_type": "code",
   "execution_count": 1,
   "id": "cc79cfe9-e31c-43cc-97fd-efe49f921723",
   "metadata": {},
   "outputs": [
    {
     "name": "stdout",
     "output_type": "stream",
     "text": [
      "42\n",
      "Hello\n"
     ]
    },
    {
     "data": {
      "text/plain": [
       "undefined"
      ]
     },
     "execution_count": 1,
     "metadata": {},
     "output_type": "execute_result"
    }
   ],
   "source": [
    "interface Box<T> {\n",
    "    value: T;\n",
    "}\n",
    "\n",
    "const numberBox: Box<number> = { value: 42 };\n",
    "console.log(numberBox.value); // 42\n",
    "\n",
    "const stringBox: Box<string> = { value: \"Hello\" };\n",
    "console.log(stringBox.value); // \"Hello\"\n"
   ]
  },
  {
   "cell_type": "code",
   "execution_count": null,
   "id": "d7c8f147-b189-4b57-ac0a-4430ef7cb3be",
   "metadata": {},
   "outputs": [],
   "source": []
  },
  {
   "cell_type": "markdown",
   "id": "25238052-86f6-4d56-b6da-747b986420da",
   "metadata": {},
   "source": [
    "## 제너릭 인터페이스를 구현하기 \n",
    "\n",
    "- 제너릭 인터페이스를 구현하는 클래스는 인터페이스가 요구하는 구조와 동작을 클래스가 구현하도록 할 때 사용됩니다. \n",
    "- 제너릭 인터페이스를 구현하는 클래스는 클래스 이름 뒤에 <T>와 같은 형태로 제너릭 타입 변수를 사용하며,\n",
    "- 해당 인터페이스의 요구사항을 충족시키기 위한 구현을 제공\n"
   ]
  },
  {
   "cell_type": "code",
   "execution_count": 4,
   "id": "f97034c7-c618-49cc-a67a-32be45401ca8",
   "metadata": {},
   "outputs": [
    {
     "name": "stdout",
     "output_type": "stream",
     "text": [
      "42\n",
      "Hello\n"
     ]
    },
    {
     "data": {
      "text/plain": [
       "undefined"
      ]
     },
     "execution_count": 4,
     "metadata": {},
     "output_type": "execute_result"
    }
   ],
   "source": [
    "\n",
    "class NumberBox implements Box<number> {\n",
    "    value: number;\n",
    "\n",
    "    constructor(value: number) {\n",
    "        this.value = value;\n",
    "    }\n",
    "}\n",
    "\n",
    "class StringBox implements Box<string> {\n",
    "    value: string;\n",
    "\n",
    "    constructor(value: string) {\n",
    "        this.value = value;\n",
    "    }\n",
    "}\n",
    "\n",
    "const numberBox1 = new NumberBox(42);\n",
    "console.log(numberBox.value); // 42\n",
    "\n",
    "const stringBox1 = new StringBox(\"Hello\");\n",
    "console.log(stringBox.value); // \"Hello\"\n"
   ]
  },
  {
   "cell_type": "code",
   "execution_count": null,
   "id": "022f31d7-b48f-492c-924c-55e082e6ac0b",
   "metadata": {},
   "outputs": [],
   "source": []
  }
 ],
 "metadata": {
  "kernelspec": {
   "display_name": "Typescript 4.9",
   "language": "typescript",
   "name": "typescript"
  },
  "language_info": {
   "file_extension": ".ts",
   "mimetype": "application/x-typescript",
   "name": "typescript",
   "version": "4.9.5"
  }
 },
 "nbformat": 4,
 "nbformat_minor": 5
}
