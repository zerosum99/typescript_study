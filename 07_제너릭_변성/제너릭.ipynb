{
 "cells": [
  {
   "cell_type": "code",
   "execution_count": null,
   "id": "6c9796a8-900c-4f50-8aa1-a9e4290fffd1",
   "metadata": {},
   "outputs": [],
   "source": []
  },
  {
   "cell_type": "code",
   "execution_count": null,
   "id": "21e37c19-6c6b-4100-988a-34d299b5bc1e",
   "metadata": {},
   "outputs": [],
   "source": []
  },
  {
   "cell_type": "code",
   "execution_count": null,
   "id": "33e2c241-a67e-4cf0-9008-6e85202b9aa6",
   "metadata": {},
   "outputs": [],
   "source": []
  },
  {
   "cell_type": "markdown",
   "id": "7b93bfe4-14d9-4a54-8d4b-1f375f6d7d00",
   "metadata": {},
   "source": [
    "## 함수 + 멀티 타입\n",
    "- 함수 또는 클래스에서 멀티 타입 변수를 활용할 수 있습니다. \n",
    "- 배열 내부에 사용자가 지정한 멀티 타입을 포함하는 배열을 추가하는 함수를 만든다면 TypeScript 멀티 타입 변수를 사용하여 다음과 같이 작성할 수 있습니다."
   ]
  },
  {
   "cell_type": "code",
   "execution_count": 1,
   "id": "800b75c3-e5d4-4b07-a72f-b52f54d4cb62",
   "metadata": {},
   "outputs": [
    {
     "data": {
      "text/plain": [
       "[ [ false, 'false' ], [ 2019, '이천십구년' ] ]"
      ]
     },
     "execution_count": 1,
     "metadata": {},
     "output_type": "execute_result"
    }
   ],
   "source": [
    "// pairArray 사용자 정의 타입(Type Alias) 정의\n",
    "type pairArray = [any, any][];\n",
    "\n",
    "// 멀티 타입 T, M 설정된 함수 pushPairItem 정의\n",
    "function pushPairItem<T,M>(arr:pairArray, item:[T,M]):pairArray {\n",
    "  arr.push(item);\n",
    "  return arr;\n",
    "}\n",
    "\n",
    "// piarArray 타입으로 설정된 data 배열 선언\n",
    "const data:pairArray = [];\n",
    "\n",
    "// 멀티 타입을 지정한 후, 적절한 타입을 포함하는 데이터 추가\n",
    "pushPairItem<boolean, string>(data, [false, 'false']);\n",
    "pushPairItem<number, string>(data, [2019, '이천십구년']);"
   ]
  },
  {
   "cell_type": "code",
   "execution_count": null,
   "id": "edfcc60b-e2b2-4382-be8e-a391865ddaec",
   "metadata": {},
   "outputs": [],
   "source": []
  },
  {
   "cell_type": "code",
   "execution_count": null,
   "id": "72fd0796-33eb-4825-bace-5c9752356694",
   "metadata": {},
   "outputs": [],
   "source": []
  },
  {
   "cell_type": "markdown",
   "id": "0a6795b1-72a3-4300-a44f-6d0a04f26402",
   "metadata": {},
   "source": [
    "## 타입 변수 상속\n",
    "- 제네릭 타입 변수는 기존의 타입 변수를 상속할 수도 있습니다. 이를 활용하면 입력 받을 타입을 지정할 수 있습니다. \n",
    "- 예시 코드를 살펴보면 Model 클래스는 외부에서 사용할 때 타입을 지정할 수 있습니다. \n",
    "    \n",
    "- Model 클래스는 add() 인스턴스 메서드를 가지는데 아이템을 한 번에 하나씩 밖에 추가할 수 없습니다. "
   ]
  },
  {
   "cell_type": "code",
   "execution_count": 3,
   "id": "47ae7488-9b44-4f7e-8a9b-a17bb38489e5",
   "metadata": {},
   "outputs": [
    {
     "data": {
      "text/plain": [
       "Model { _data: [ '타입', '변수', '상속' ] }"
      ]
     },
     "execution_count": 3,
     "metadata": {},
     "output_type": "execute_result"
    }
   ],
   "source": [
    "// Model 클래스\n",
    "class Model<T> {\n",
    "  \n",
    "  constructor(private _data:T[] = []) {}\n",
    "  \n",
    "  add(item:T):void {\n",
    "    this._data.push(item);\n",
    "  }\n",
    "\n",
    "}\n",
    "\n",
    "// Model 초기화 팩토리 함수\n",
    "function initializeModel<T extends Model<U>, U>(C: new () => T, items:U[]):T {\n",
    "  const c = new C();\n",
    "  items.forEach(item => c.add(item));\n",
    "  return c;\n",
    "}\n",
    "\n",
    "// 사용 예시\n",
    "initializeModel<Model<string>, string>(Model, ['타입', '변수', '상속']);"
   ]
  },
  {
   "cell_type": "code",
   "execution_count": null,
   "id": "5d0d36f8-6b0b-4de5-a4f3-bd53943b509a",
   "metadata": {},
   "outputs": [],
   "source": []
  }
 ],
 "metadata": {
  "kernelspec": {
   "display_name": "Typescript 4.9",
   "language": "typescript",
   "name": "typescript"
  },
  "language_info": {
   "file_extension": ".ts",
   "mimetype": "application/x-typescript",
   "name": "typescript",
   "version": "4.9.5"
  }
 },
 "nbformat": 4,
 "nbformat_minor": 5
}
