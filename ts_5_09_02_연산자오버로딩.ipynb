{
 "cells": [
  {
   "cell_type": "code",
   "execution_count": null,
   "id": "b5ceb9a8-332d-426f-a41c-d0b8ed637e86",
   "metadata": {},
   "outputs": [],
   "source": []
  },
  {
   "cell_type": "code",
   "execution_count": null,
   "id": "6f78aa7b-adb9-4cdb-bfe6-eaf019f33f5a",
   "metadata": {},
   "outputs": [],
   "source": []
  },
  {
   "cell_type": "code",
   "execution_count": null,
   "id": "a561d559-6273-465c-ba42-468529842253",
   "metadata": {},
   "outputs": [],
   "source": []
  },
  {
   "cell_type": "markdown",
   "id": "f1dcc24a-30ec-40f1-a593-0411ee8e414a",
   "metadata": {},
   "source": [
    "## 연산자 오버로딩(Operator Overloading)\n",
    "- 별도 미제공해서 동일한 기능을 하는 메서드를 정의해서 처리해야 함 "
   ]
  },
  {
   "cell_type": "code",
   "execution_count": null,
   "id": "05febf35-78ce-4b9b-ba15-be97dd6e2f75",
   "metadata": {},
   "outputs": [],
   "source": []
  },
  {
   "cell_type": "code",
   "execution_count": 3,
   "id": "08580d3e-7f44-4edd-a4e8-bf88c275b1eb",
   "metadata": {},
   "outputs": [
    {
     "name": "stdout",
     "output_type": "stream",
     "text": [
      "4\n",
      "6\n"
     ]
    },
    {
     "data": {
      "text/plain": [
       "undefined"
      ]
     },
     "execution_count": 3,
     "metadata": {},
     "output_type": "execute_result"
    }
   ],
   "source": [
    "class Vector {\n",
    "    x: number;\n",
    "    y: number;\n",
    "\n",
    "    constructor(x: number, y: number) {\n",
    "        this.x = x;\n",
    "        this.y = y;\n",
    "    }\n",
    "\n",
    "    // 덧셈 연산을 수행하는 메서드\n",
    "    add(other: Vector): Vector {\n",
    "        return new Vector(this.x + other.x, this.y + other.y);\n",
    "    }\n",
    "}\n",
    "\n",
    "const vector1 = new Vector(1, 2);\n",
    "const vector2 = new Vector(3, 4);\n",
    "\n",
    "const result = vector1.add(vector2); // 사용자 정의 메서드를 통한 덧셈 연산\n",
    "console.log(result.x); // 4\n",
    "console.log(result.y); // 6\n"
   ]
  },
  {
   "cell_type": "code",
   "execution_count": null,
   "id": "c31ed1d8-c723-4670-8cbd-6982db8e1629",
   "metadata": {},
   "outputs": [],
   "source": []
  }
 ],
 "metadata": {
  "kernelspec": {
   "display_name": "Typescript 4.9",
   "language": "typescript",
   "name": "typescript"
  },
  "language_info": {
   "file_extension": ".ts",
   "mimetype": "application/x-typescript",
   "name": "typescript",
   "version": "4.9.5"
  }
 },
 "nbformat": 4,
 "nbformat_minor": 5
}
