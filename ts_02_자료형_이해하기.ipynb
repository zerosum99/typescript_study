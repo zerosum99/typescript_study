{
 "cells": [
  {
   "cell_type": "markdown",
   "id": "8dd9ed9d-5605-4777-af51-18be7396c321",
   "metadata": {},
   "source": [
    "## 1. 문자열 자료형 "
   ]
  },
  {
   "cell_type": "code",
   "execution_count": 5,
   "id": "226785cd-ea89-4a06-acd5-137d1e87dd37",
   "metadata": {},
   "outputs": [
    {
     "data": {
      "text/plain": [
       "undefined"
      ]
     },
     "execution_count": 5,
     "metadata": {},
     "output_type": "execute_result"
    }
   ],
   "source": [
    "let str_js  = 'hi';"
   ]
  },
  {
   "cell_type": "code",
   "execution_count": 6,
   "id": "d53570eb-5a6a-4f42-a909-1080c7fecf86",
   "metadata": {},
   "outputs": [
    {
     "data": {
      "text/plain": [
       "'hi'"
      ]
     },
     "execution_count": 6,
     "metadata": {},
     "output_type": "execute_result"
    }
   ],
   "source": [
    "str_js"
   ]
  },
  {
   "cell_type": "code",
   "execution_count": 1,
   "id": "b037b50b-19d3-474d-a83c-78ec9731ff6d",
   "metadata": {},
   "outputs": [
    {
     "data": {
      "text/html": [
       "<div style='background:#ffecb3;padding:1em;border-left:2px solid #ff6d00'><b>Configuration is not found!</b> Default configuration will be used: <pre>{\"module\":1,\"target\":1,\"moduleResolution\":2,\"esModuleInterop\":true}</pre></div>"
      ]
     },
     "execution_count": 1,
     "metadata": {},
     "output_type": "execute_result"
    }
   ],
   "source": [
    "let str: string = 'hi';"
   ]
  },
  {
   "cell_type": "code",
   "execution_count": 2,
   "id": "d0f611bb-9894-4ff1-9361-95745084fbcc",
   "metadata": {},
   "outputs": [
    {
     "data": {
      "text/plain": [
       "'hi'"
      ]
     },
     "execution_count": 2,
     "metadata": {},
     "output_type": "execute_result"
    }
   ],
   "source": [
    "str"
   ]
  },
  {
   "cell_type": "code",
   "execution_count": null,
   "id": "0f8f58ae-b58e-46dc-a6cb-aee025247a34",
   "metadata": {},
   "outputs": [],
   "source": []
  },
  {
   "cell_type": "markdown",
   "id": "9368b176-2b66-419c-83d7-25165ba33390",
   "metadata": {},
   "source": [
    "## 2. 숫자 자료형 "
   ]
  },
  {
   "cell_type": "code",
   "execution_count": null,
   "id": "a029bb85-81b0-4361-9aa4-f7746ac0fdbf",
   "metadata": {},
   "outputs": [],
   "source": []
  },
  {
   "cell_type": "code",
   "execution_count": 8,
   "id": "2c20e2c6-9d40-47ad-831c-60c0073878e5",
   "metadata": {},
   "outputs": [
    {
     "data": {
      "text/plain": [
       "undefined"
      ]
     },
     "execution_count": 8,
     "metadata": {},
     "output_type": "execute_result"
    }
   ],
   "source": [
    "let num_js  = 10;"
   ]
  },
  {
   "cell_type": "code",
   "execution_count": 9,
   "id": "bbc2718a-f98b-4bfc-81cc-8e3295055d13",
   "metadata": {},
   "outputs": [
    {
     "data": {
      "text/plain": [
       "10"
      ]
     },
     "execution_count": 9,
     "metadata": {},
     "output_type": "execute_result"
    }
   ],
   "source": [
    "num_js"
   ]
  },
  {
   "cell_type": "code",
   "execution_count": null,
   "id": "ee5c748f-5ce9-41a5-a94d-d6f530d22a17",
   "metadata": {},
   "outputs": [],
   "source": []
  },
  {
   "cell_type": "code",
   "execution_count": 4,
   "id": "131abf9b-ef2d-40e9-89d6-3b174e6b99c2",
   "metadata": {},
   "outputs": [
    {
     "data": {
      "text/plain": [
       "undefined"
      ]
     },
     "execution_count": 4,
     "metadata": {},
     "output_type": "execute_result"
    }
   ],
   "source": [
    "let num: number = 10;"
   ]
  },
  {
   "cell_type": "code",
   "execution_count": 7,
   "id": "1f2285e5-9cd6-4466-9a47-c409ff13cf37",
   "metadata": {},
   "outputs": [
    {
     "data": {
      "text/plain": [
       "10"
      ]
     },
     "execution_count": 7,
     "metadata": {},
     "output_type": "execute_result"
    }
   ],
   "source": [
    "num"
   ]
  },
  {
   "cell_type": "code",
   "execution_count": null,
   "id": "545671d0-701d-4a12-bc44-f766e44852fb",
   "metadata": {},
   "outputs": [],
   "source": []
  }
 ],
 "metadata": {
  "kernelspec": {
   "display_name": "Typescript 4.9",
   "language": "typescript",
   "name": "typescript"
  },
  "language_info": {
   "file_extension": ".ts",
   "mimetype": "application/x-typescript",
   "name": "typescript",
   "version": "4.9.5"
  }
 },
 "nbformat": 4,
 "nbformat_minor": 5
}
