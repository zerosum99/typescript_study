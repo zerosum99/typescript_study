{
 "cells": [
  {
   "cell_type": "code",
   "execution_count": null,
   "id": "b5ceb9a8-332d-426f-a41c-d0b8ed637e86",
   "metadata": {},
   "outputs": [],
   "source": []
  },
  {
   "cell_type": "markdown",
   "id": "f1dcc24a-30ec-40f1-a593-0411ee8e414a",
   "metadata": {},
   "source": [
    "## TypeScript에서 연산자 오버로딩(Operator Overloading)\n",
    "- 기존의 연산자를 클래스나 인터페이스에서 정의한 사용자 정의 동작으로 대체하는 개념입니다. \n",
    "- 이를 통해 사용자가 원하는 형태로 연산자 동작을 재정의하거나 확장할 수 있습니다. \n",
    "- 연산자 오버로딩은 클래스의 메서드를 통해 수행되며, 다른 데이터 타입 간의 연산 동작을 커스터마이징할 수 있습니다.\n",
    "\n",
    "- TypeScript에서 연산자 오버로딩을 구현하려면 @operator 데코레이터와 함께 사용자 정의 연산자 메서드를 정의합니다.\n",
    "- 이때 연산자 메서드 이름은 해당 연산자에 따라 정해진 규칙을 따라야 합니다."
   ]
  },
  {
   "cell_type": "code",
   "execution_count": null,
   "id": "05febf35-78ce-4b9b-ba15-be97dd6e2f75",
   "metadata": {},
   "outputs": [],
   "source": []
  },
  {
   "cell_type": "code",
   "execution_count": 2,
   "id": "08580d3e-7f44-4edd-a4e8-bf88c275b1eb",
   "metadata": {},
   "outputs": [
    {
     "ename": "Error",
     "evalue": "Line 11, Character 6\n    @operator('+')\n_____^\nTS2304: Cannot find name 'operator'.\n\nLine 20, Character 16\nconst result = vector1 + vector2; // 덧셈 연산자 오버로딩 호출\n_______________^\nTS2365: Operator '+' cannot be applied to types 'Vector' and 'Vector'.",
     "execution_count": 2,
     "output_type": "error",
     "traceback": [
      "Error: Line 11, Character 6",
      "    @operator('+')",
      "_____^",
      "TS2304: Cannot find name 'operator'.",
      "",
      "Line 20, Character 16",
      "const result = vector1 + vector2; // 덧셈 연산자 오버로딩 호출",
      "_______________^",
      "TS2365: Operator '+' cannot be applied to types 'Vector' and 'Vector'.",
      "    at execTranspile (/usr/local/lib/node_modules/itypescript/lib/kernel.js:229:23)",
      "    at Session.transpiler [as transpile] (/usr/local/lib/node_modules/itypescript/lib/kernel.js:288:35)",
      "    at Session._runNow (/usr/local/lib/node_modules/itypescript/node_modules/nel/lib/nel.js:835:39)",
      "    at Session._run (/usr/local/lib/node_modules/itypescript/node_modules/nel/lib/nel.js:786:14)",
      "    at Session.execute (/usr/local/lib/node_modules/itypescript/node_modules/nel/lib/nel.js:929:10)",
      "    at Kernel.execute_request (/usr/local/lib/node_modules/itypescript/node_modules/jp-kernel/lib/handlers_v5.js:116:18)",
      "    at Kernel.onShellMessage (/usr/local/lib/node_modules/itypescript/node_modules/jp-kernel/lib/jp-kernel.js:285:41)",
      "    at Socket.<anonymous> (/usr/local/lib/node_modules/itypescript/node_modules/jmp/index.js:350:17)",
      "    at Socket.emit (node:events:513:28)",
      "    at Socket._emitMessage (/usr/local/lib/node_modules/itypescript/node_modules/zeromq/lib/index.js:649:15)"
     ]
    }
   ],
   "source": [
    "class Vector {\n",
    "    x: number;\n",
    "    y: number;\n",
    "\n",
    "    constructor(x: number, y: number) {\n",
    "        this.x = x;\n",
    "        this.y = y;\n",
    "    }\n",
    "\n",
    "    // 덧셈 연산자 오버로딩\n",
    "    @operator('+')\n",
    "    add(other: Vector): Vector {\n",
    "        return new Vector(this.x + other.x, this.y + other.y);\n",
    "    }\n",
    "}\n",
    "\n",
    "const vector1 = new Vector(1, 2);\n",
    "const vector2 = new Vector(3, 4);\n",
    "\n",
    "const result = vector1 + vector2; // 덧셈 연산자 오버로딩 호출\n",
    "console.log(result.x); // 4\n",
    "console.log(result.y); // 6\n"
   ]
  },
  {
   "cell_type": "code",
   "execution_count": null,
   "id": "c31ed1d8-c723-4670-8cbd-6982db8e1629",
   "metadata": {},
   "outputs": [],
   "source": []
  }
 ],
 "metadata": {
  "kernelspec": {
   "display_name": "Typescript 4.9",
   "language": "typescript",
   "name": "typescript"
  },
  "language_info": {
   "file_extension": ".ts",
   "mimetype": "application/x-typescript",
   "name": "typescript",
   "version": "4.9.5"
  }
 },
 "nbformat": 4,
 "nbformat_minor": 5
}
