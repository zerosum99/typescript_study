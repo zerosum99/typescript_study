{
 "cells": [
  {
   "cell_type": "code",
   "execution_count": null,
   "id": "7ce3c8f6-8cb0-439e-81dd-43b06aed6f8a",
   "metadata": {},
   "outputs": [],
   "source": []
  },
  {
   "cell_type": "code",
   "execution_count": null,
   "id": "942d09ed-4242-437c-b67c-2dbf6cb08932",
   "metadata": {},
   "outputs": [],
   "source": []
  },
  {
   "cell_type": "markdown",
   "id": "8d051623-58d6-455b-b86e-5f340bd6e144",
   "metadata": {},
   "source": [
    "## keyof 로 속성확인하기"
   ]
  },
  {
   "cell_type": "code",
   "execution_count": 2,
   "id": "06fcf681-668c-42f3-ba5a-0a770564d353",
   "metadata": {},
   "outputs": [
    {
     "data": {
      "text/plain": [
       "'use strict'"
      ]
     },
     "execution_count": 2,
     "metadata": {},
     "output_type": "execute_result"
    }
   ],
   "source": [
    "interface Person {\n",
    "  name: string;\n",
    "  age: number;\n",
    "  address: string;\n",
    "}\n",
    "\n",
    "type PersonKeys = keyof Person; // Person의 속성 키를 추출한 타입\n",
    "\n",
    "const key1: PersonKeys = \"name\"; // 유효한 속성 키\n",
    "const key2: PersonKeys = \"age\";  // 다른 유효한 속성 키\n",
    "\n"
   ]
  },
  {
   "cell_type": "code",
   "execution_count": 3,
   "id": "490cccad-13ff-4de4-af2c-90257ef26132",
   "metadata": {},
   "outputs": [
    {
     "ename": "Error",
     "evalue": "Line 1, Character 7\nconst key3: PersonKeys = \"gender\"; // 오류: 존재하지 않는 속성 키\n______^\nTS2322: Type '\"gender\"' is not assignable to type 'keyof Person'.",
     "execution_count": 3,
     "output_type": "error",
     "traceback": [
      "Error: Line 1, Character 7",
      "const key3: PersonKeys = \"gender\"; // 오류: 존재하지 않는 속성 키",
      "______^",
      "TS2322: Type '\"gender\"' is not assignable to type 'keyof Person'.",
      "    at execTranspile (/usr/local/lib/node_modules/itypescript/lib/kernel.js:229:23)",
      "    at Session.transpiler [as transpile] (/usr/local/lib/node_modules/itypescript/lib/kernel.js:288:35)",
      "    at Session._runNow (/usr/local/lib/node_modules/itypescript/node_modules/nel/lib/nel.js:835:39)",
      "    at Session._run (/usr/local/lib/node_modules/itypescript/node_modules/nel/lib/nel.js:786:14)",
      "    at Session.execute (/usr/local/lib/node_modules/itypescript/node_modules/nel/lib/nel.js:929:10)",
      "    at Kernel.execute_request (/usr/local/lib/node_modules/itypescript/node_modules/jp-kernel/lib/handlers_v5.js:116:18)",
      "    at Kernel.onShellMessage (/usr/local/lib/node_modules/itypescript/node_modules/jp-kernel/lib/jp-kernel.js:285:41)",
      "    at Socket.<anonymous> (/usr/local/lib/node_modules/itypescript/node_modules/jmp/index.js:350:17)",
      "    at Socket.emit (node:events:513:28)",
      "    at Socket._emitMessage (/usr/local/lib/node_modules/itypescript/node_modules/zeromq/lib/index.js:649:15)"
     ]
    }
   ],
   "source": [
    "const key3: PersonKeys = \"gender\"; // 오류: 존재하지 않는 속성 키"
   ]
  },
  {
   "cell_type": "code",
   "execution_count": null,
   "id": "493e44ba-d91f-4386-8a39-b9b7a1e78dd4",
   "metadata": {},
   "outputs": [],
   "source": []
  },
  {
   "cell_type": "markdown",
   "id": "8375e096-6516-4627-b060-5fb90a2d6620",
   "metadata": {},
   "source": [
    "## keyof typeof"
   ]
  },
  {
   "cell_type": "code",
   "execution_count": 6,
   "id": "e247f4e3-dee1-40af-b2e8-1ea85741bc16",
   "metadata": {},
   "outputs": [
    {
     "name": "stdout",
     "output_type": "stream",
     "text": [
      "#FF0000\n"
     ]
    },
    {
     "data": {
      "text/plain": [
       "undefined"
      ]
     },
     "execution_count": 6,
     "metadata": {},
     "output_type": "execute_result"
    }
   ],
   "source": [
    "const colors = {\n",
    "  red: \"#FF0000\",\n",
    "  green: \"#00FF00\",\n",
    "  blue: \"#0000FF\"\n",
    "};\n",
    "\n",
    "type ColorKeys = keyof typeof colors;\n",
    "\n",
    "function getColor(key: ColorKeys): string {\n",
    "  return colors[key];\n",
    "}\n",
    "\n",
    "const colorKey: ColorKeys = \"red\"; // 유효한 속성 키\n",
    "\n",
    "console.log(getColor(colorKey)); // #FF0000\n"
   ]
  },
  {
   "cell_type": "code",
   "execution_count": 7,
   "id": "8482cc6d-1e61-42a6-b2c7-f4b71b630fc1",
   "metadata": {},
   "outputs": [
    {
     "ename": "Error",
     "evalue": "Line 1, Character 7\nconst invalidKey: ColorKeys = \"yellow\"; // 오류: 존재하지 않는 속성 키\n______^\nTS2322: Type '\"yellow\"' is not assignable to type '\"red\" | \"green\" | \"blue\"'.",
     "execution_count": 7,
     "output_type": "error",
     "traceback": [
      "Error: Line 1, Character 7",
      "const invalidKey: ColorKeys = \"yellow\"; // 오류: 존재하지 않는 속성 키",
      "______^",
      "TS2322: Type '\"yellow\"' is not assignable to type '\"red\" | \"green\" | \"blue\"'.",
      "    at execTranspile (/usr/local/lib/node_modules/itypescript/lib/kernel.js:229:23)",
      "    at Session.transpiler [as transpile] (/usr/local/lib/node_modules/itypescript/lib/kernel.js:288:35)",
      "    at Session._runNow (/usr/local/lib/node_modules/itypescript/node_modules/nel/lib/nel.js:835:39)",
      "    at Session._run (/usr/local/lib/node_modules/itypescript/node_modules/nel/lib/nel.js:786:14)",
      "    at Session.execute (/usr/local/lib/node_modules/itypescript/node_modules/nel/lib/nel.js:929:10)",
      "    at Kernel.execute_request (/usr/local/lib/node_modules/itypescript/node_modules/jp-kernel/lib/handlers_v5.js:116:18)",
      "    at Kernel.onShellMessage (/usr/local/lib/node_modules/itypescript/node_modules/jp-kernel/lib/jp-kernel.js:285:41)",
      "    at Socket.<anonymous> (/usr/local/lib/node_modules/itypescript/node_modules/jmp/index.js:350:17)",
      "    at Socket.emit (node:events:513:28)",
      "    at Socket._emitMessage (/usr/local/lib/node_modules/itypescript/node_modules/zeromq/lib/index.js:649:15)"
     ]
    }
   ],
   "source": [
    "const invalidKey: ColorKeys = \"yellow\"; // 오류: 존재하지 않는 속성 키"
   ]
  },
  {
   "cell_type": "code",
   "execution_count": null,
   "id": "9bb55f60-89e9-4047-97e5-f7835f7d5cb4",
   "metadata": {},
   "outputs": [],
   "source": []
  }
 ],
 "metadata": {
  "kernelspec": {
   "display_name": "Typescript 4.9",
   "language": "typescript",
   "name": "typescript"
  },
  "language_info": {
   "file_extension": ".ts",
   "mimetype": "application/x-typescript",
   "name": "typescript",
   "version": "4.9.5"
  }
 },
 "nbformat": 4,
 "nbformat_minor": 5
}
