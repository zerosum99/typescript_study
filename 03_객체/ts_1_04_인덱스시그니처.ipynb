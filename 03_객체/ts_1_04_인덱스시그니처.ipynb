{
 "cells": [
  {
   "cell_type": "code",
   "execution_count": null,
   "id": "a6a01e84-45e4-4ef4-970b-0a34511111cb",
   "metadata": {},
   "outputs": [],
   "source": []
  },
  {
   "cell_type": "code",
   "execution_count": null,
   "id": "af1b36b5-4d99-4216-9f61-32382d2ad84d",
   "metadata": {},
   "outputs": [],
   "source": []
  },
  {
   "cell_type": "markdown",
   "id": "bd283576-3cc6-410c-b7a3-3cfcf053735b",
   "metadata": {},
   "source": [
    "## 1. 인덱스 시그너처로 객체 생성 \n",
    "\n",
    "\n",
    "- 인덱스 시그니처(Index Signature)는 객체의 속성 이름이 동적인 경우에 사용되는 타입 정의 방법\n",
    "- 일반적으로 객체의 속성은 정적으로 알려진 이름을 가지지만, 때로는 동적으로 생성된 속성을 처리"
   ]
  },
  {
   "cell_type": "code",
   "execution_count": null,
   "id": "c6a5416d-1520-4fb9-b015-fc1deb5d08db",
   "metadata": {},
   "outputs": [],
   "source": []
  },
  {
   "cell_type": "markdown",
   "id": "cb655ae5-6157-446c-8bdb-77548fcaec3e",
   "metadata": {},
   "source": [
    "## 1-1 타입리터럴로 인덱스 시그니처 생성 "
   ]
  },
  {
   "cell_type": "code",
   "execution_count": 1,
   "id": "3bafd9a4-d922-4da9-90e0-b5b866154942",
   "metadata": {},
   "outputs": [
    {
     "data": {
      "text/plain": [
       "'use strict'"
      ]
     },
     "execution_count": 1,
     "metadata": {},
     "output_type": "execute_result"
    }
   ],
   "source": [
    "const person: { [key: string]: any } = {}; // 속성을 동적으로 추가하기 위해 인덱스 시그니처를 사용"
   ]
  },
  {
   "cell_type": "code",
   "execution_count": null,
   "id": "07e8af70-aa14-49e9-91bb-838e7d45d037",
   "metadata": {},
   "outputs": [],
   "source": []
  },
  {
   "cell_type": "markdown",
   "id": "ec9fefe2-b73c-4fbc-ad8d-db2a0e57d695",
   "metadata": {},
   "source": [
    "## 1-2 타입별칭과 인터페이스에 인덱스 시그니처 타입 생성 "
   ]
  },
  {
   "cell_type": "code",
   "execution_count": 1,
   "id": "f0a5b8f4-dc02-468d-9178-e543b14a9bc3",
   "metadata": {},
   "outputs": [
    {
     "data": {
      "text/plain": [
       "'use strict'"
      ]
     },
     "execution_count": 1,
     "metadata": {},
     "output_type": "execute_result"
    }
   ],
   "source": [
    "type Person = { [key: string]: any };"
   ]
  },
  {
   "cell_type": "code",
   "execution_count": 4,
   "id": "de700701-eed7-461f-ab47-ae026a492d71",
   "metadata": {},
   "outputs": [
    {
     "data": {
      "text/plain": [
       "undefined"
      ]
     },
     "execution_count": 4,
     "metadata": {},
     "output_type": "execute_result"
    }
   ],
   "source": [
    "interface User { \n",
    "    [key: string]: any;\n",
    "} "
   ]
  },
  {
   "cell_type": "code",
   "execution_count": null,
   "id": "f633ea95-dfa6-484f-840b-85613aa4ef74",
   "metadata": {},
   "outputs": [],
   "source": []
  },
  {
   "cell_type": "markdown",
   "id": "6a5a93e8-2e75-4b7b-a773-e7ba0704ec86",
   "metadata": {},
   "source": [
    "## 1-3 인덱스 시그니처 처리 예시"
   ]
  },
  {
   "cell_type": "code",
   "execution_count": 5,
   "id": "2310a9f1-0ba8-466b-83d9-32389ca947b9",
   "metadata": {},
   "outputs": [
    {
     "name": "stdout",
     "output_type": "stream",
     "text": [
      "John\n",
      "30\n",
      "New York\n"
     ]
    },
    {
     "data": {
      "text/plain": [
       "undefined"
      ]
     },
     "execution_count": 5,
     "metadata": {},
     "output_type": "execute_result"
    }
   ],
   "source": [
    "interface StringKeyedObject {\n",
    "  [key: string]: any;\n",
    "}\n",
    "\n",
    "const obj: StringKeyedObject = {\n",
    "  name: \"John\",\n",
    "  age: 30,\n",
    "  city: \"New York\",\n",
    "};\n",
    "\n",
    "console.log(obj.name); // \"John\"\n",
    "console.log(obj.age);  // 30\n",
    "console.log(obj.city); // \"New York\"\n"
   ]
  },
  {
   "cell_type": "code",
   "execution_count": null,
   "id": "843fd856-7acd-4e90-ab6d-f0a979fbb9b7",
   "metadata": {},
   "outputs": [],
   "source": []
  },
  {
   "cell_type": "code",
   "execution_count": null,
   "id": "5ca8b5a0-dcb7-4bf5-9d69-744a1b6a43a1",
   "metadata": {},
   "outputs": [],
   "source": []
  }
 ],
 "metadata": {
  "kernelspec": {
   "display_name": "Typescript 4.9",
   "language": "typescript",
   "name": "typescript"
  },
  "language_info": {
   "file_extension": ".ts",
   "mimetype": "application/x-typescript",
   "name": "typescript",
   "version": "4.9.5"
  }
 },
 "nbformat": 4,
 "nbformat_minor": 5
}
