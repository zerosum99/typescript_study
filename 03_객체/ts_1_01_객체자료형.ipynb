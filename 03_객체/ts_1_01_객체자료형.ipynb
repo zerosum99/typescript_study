{
 "cells": [
  {
   "cell_type": "code",
   "execution_count": null,
   "id": "acf74bbc-183a-423c-9109-acdeecb78f7f",
   "metadata": {},
   "outputs": [],
   "source": []
  },
  {
   "cell_type": "markdown",
   "id": "f05c6d61-819f-4c09-84cd-4ca19ed91cd6",
   "metadata": {},
   "source": [
    "##  1. 객체 타입지정 \n",
    "\n",
    "- 객체(Object)는 여러 속성과 속성 값으로 구성된 데이터 구조를 나타냅니다.\n",
    "- 객체는 중괄호 {}를 사용하여 생성하며, 객체의 속성과 값은 콜론(:)을 사용하여 연결합니다.\n",
    "- 이러한 객체는 타입 시스템을 통해 각 속성의 타입을 정의"
   ]
  },
  {
   "cell_type": "markdown",
   "id": "332422d8-f13a-43a2-a553-5a8c626e9c64",
   "metadata": {},
   "source": [
    "## 1-1 객체 리터럴로 정의하기 "
   ]
  },
  {
   "cell_type": "markdown",
   "id": "70ed0bb5-7b35-4dee-bc3a-a101d22998b2",
   "metadata": {},
   "source": [
    "### 객체리터럴\n",
    "\n",
    "-  { } 사이에  프로퍼티를 키와 값을 쌍으로 입력\n",
    "-   프로퍼티 이름은 식별자로 처리\n",
    "-  프로퍼티는 식별자 명명규칙이 안 맞으면 문자열로 처리 "
   ]
  },
  {
   "cell_type": "code",
   "execution_count": 15,
   "id": "95f57fa3-4ca9-40a0-8843-f6a25b4d5e29",
   "metadata": {},
   "outputs": [
    {
     "data": {
      "text/plain": [
       "undefined"
      ]
     },
     "execution_count": 15,
     "metadata": {},
     "output_type": "execute_result"
    }
   ],
   "source": [
    "let user :object = { name:\"슈퍼맨\", age:33 };"
   ]
  },
  {
   "cell_type": "code",
   "execution_count": 16,
   "id": "a159eafb-a688-41fd-bc3b-0d859b848da8",
   "metadata": {},
   "outputs": [
    {
     "data": {
      "text/plain": [
       "'object'"
      ]
     },
     "execution_count": 16,
     "metadata": {},
     "output_type": "execute_result"
    }
   ],
   "source": [
    "typeof user"
   ]
  },
  {
   "cell_type": "markdown",
   "id": "ae97ced7-5ece-4669-9ff6-ee7ba4646fb0",
   "metadata": {},
   "source": [
    "### 프로퍼티 이름의 식별자 명명규칙에 어긋날 경우 "
   ]
  },
  {
   "cell_type": "code",
   "execution_count": 12,
   "id": "d7c5a4bc-8c88-4410-90b6-c7fd44b645aa",
   "metadata": {},
   "outputs": [
    {
     "data": {
      "text/plain": [
       "undefined"
      ]
     },
     "execution_count": 12,
     "metadata": {},
     "output_type": "execute_result"
    }
   ],
   "source": [
    "let ss = { \"abc-def\" : \"비식별자 이름\" };"
   ]
  },
  {
   "cell_type": "code",
   "execution_count": 13,
   "id": "da0635b7-9286-4ffb-a9a2-76b420308e66",
   "metadata": {},
   "outputs": [
    {
     "data": {
      "text/plain": [
       "{ 'abc-def': '비식별자 이름' }"
      ]
     },
     "execution_count": 13,
     "metadata": {},
     "output_type": "execute_result"
    }
   ],
   "source": [
    "ss"
   ]
  },
  {
   "cell_type": "code",
   "execution_count": null,
   "id": "97be1555-3705-4db1-909b-ce187a36bd17",
   "metadata": {},
   "outputs": [],
   "source": []
  },
  {
   "cell_type": "markdown",
   "id": "10d4bc0f-77ac-42d8-8306-883acc30260e",
   "metadata": {},
   "source": [
    "## 1-2 인라인으로 객체 타입지정하기\n",
    "\n",
    "- 객체 타입은 값 대신 자료형으로 지정하고 변수 다음에 지정한다"
   ]
  },
  {
   "cell_type": "markdown",
   "id": "fef01ad4-a268-40f9-a211-22bfd18f6006",
   "metadata": {},
   "source": [
    "### 객체 타입 지정\n",
    "-  객체 리터럴과 차이는 값 대신 자료형을 지정\n",
    "- 변수 다음에 객체타입을 지정"
   ]
  },
  {
   "cell_type": "code",
   "execution_count": 1,
   "id": "592ffbdf-a6d1-4773-ac15-bca1af2741b8",
   "metadata": {},
   "outputs": [
    {
     "data": {
      "text/plain": [
       "'use strict'"
      ]
     },
     "execution_count": 1,
     "metadata": {},
     "output_type": "execute_result"
    }
   ],
   "source": [
    "let person: { name: string; age: number } = {\n",
    "    name: \"Alice\",\n",
    "    age: 30,\n",
    "};\n"
   ]
  },
  {
   "cell_type": "code",
   "execution_count": 2,
   "id": "356a4b2e-6d94-4558-af82-c0bab8998329",
   "metadata": {},
   "outputs": [
    {
     "data": {
      "text/plain": [
       "{ name: 'Alice', age: 30 }"
      ]
     },
     "execution_count": 2,
     "metadata": {},
     "output_type": "execute_result"
    }
   ],
   "source": [
    "person"
   ]
  },
  {
   "cell_type": "markdown",
   "id": "be925fb0-709d-40b5-9371-cf6e807790c0",
   "metadata": {},
   "source": [
    "## 2 타입별칭 및 인터페이스를 사용해서 타입지정하기 \n",
    "\n",
    "-  타입 표기방식 : 타입리터럴, 타입별칭, 인터페이스\n",
    "-  "
   ]
  },
  {
   "cell_type": "markdown",
   "id": "e7239f97-d958-47d3-b37a-5242d101ad4a",
   "metadata": {},
   "source": [
    "## 2-1  인터페이스 사용하기 \n",
    "\n",
    "- 객체 타입을 지정하고 재사용함\n",
    "- 타입별칭과 차이점은 타입의 이름을 별도로 관리\n",
    "- 클래스와 연계해서 사용이 가능 "
   ]
  },
  {
   "cell_type": "code",
   "execution_count": 2,
   "id": "7970b709-e3f5-4988-ba0e-a589c4a1f353",
   "metadata": {},
   "outputs": [
    {
     "data": {
      "text/plain": [
       "undefined"
      ]
     },
     "execution_count": 2,
     "metadata": {},
     "output_type": "execute_result"
    }
   ],
   "source": [
    "interface Person12 {\n",
    "    name: string;\n",
    "    age: number;\n",
    "}\n",
    "\n",
    "let person12: Person12 = {\n",
    "    name: \"Alice\",\n",
    "    age: 30,\n",
    "};\n"
   ]
  },
  {
   "cell_type": "code",
   "execution_count": null,
   "id": "d5f70488-a38d-47df-b00e-e3fa26a11273",
   "metadata": {},
   "outputs": [],
   "source": []
  },
  {
   "cell_type": "markdown",
   "id": "a6d03892-1ff4-48ca-bf62-517a6d5cf7c7",
   "metadata": {},
   "source": [
    "## 2-2 타입별칭 사용하기 \n",
    "\n",
    "- 타입별칭는 실제 이 타입의 이름에 대체해서 처리\n",
    "- 실제 타입이 대체되면 타입리터럴 처럼 처리 도미 "
   ]
  },
  {
   "cell_type": "code",
   "execution_count": 3,
   "id": "fdd6b32a-50f8-4a9c-9f59-476fb4cf8dd3",
   "metadata": {},
   "outputs": [
    {
     "data": {
      "text/plain": [
       "undefined"
      ]
     },
     "execution_count": 3,
     "metadata": {},
     "output_type": "execute_result"
    }
   ],
   "source": [
    "type Person13 = {\n",
    "    name: string;\n",
    "    age: number;\n",
    "};\n",
    "\n",
    "let person13: Person13 = {\n",
    "    name: \"Alice\",\n",
    "    age: 30,\n",
    "};\n"
   ]
  },
  {
   "cell_type": "code",
   "execution_count": null,
   "id": "52becdf8-59a8-4f46-89f6-acf4466917f0",
   "metadata": {},
   "outputs": [],
   "source": []
  },
  {
   "cell_type": "markdown",
   "id": "fa905628-b050-4a4a-9d8a-58af61334281",
   "metadata": {},
   "source": [
    "## 3. 다양한 속성 알아뵈기 \n",
    "\n",
    "- 필수 속성 이외에 선택속성과 읽기속성이 있음\n",
    "- 선택속성은 필수 속성이 아닌 선택 속성 : 속성명 다음에 ? 사용\n",
    "- 읽기 속성은 속성명 앞에 readonly 예약어 붙이기\n",
    "  "
   ]
  },
  {
   "cell_type": "markdown",
   "id": "2838352d-6d8d-4cc9-be80-3809e2865bb6",
   "metadata": {},
   "source": [
    "## 3-1 선택 속성 사용하기 \n",
    "\n",
    "- 필요할 경우만 사용한다.\n",
    "- 이 속성이 없어도 동일한 타입으로 인식 "
   ]
  },
  {
   "cell_type": "markdown",
   "id": "0f312aeb-a39b-4584-b543-5eddd0107cf9",
   "metadata": {},
   "source": [
    "### 인터페이스에서 선택속성 사용"
   ]
  },
  {
   "cell_type": "code",
   "execution_count": 3,
   "id": "5da46826-28d1-4ba0-bec2-091395e98ed3",
   "metadata": {},
   "outputs": [
    {
     "data": {
      "text/plain": [
       "undefined"
      ]
     },
     "execution_count": 3,
     "metadata": {},
     "output_type": "execute_result"
    }
   ],
   "source": [
    "interface Person14 {\n",
    "    name: string;\n",
    "    age?: number; // age 속성은 선택적\n",
    "}\n",
    "\n",
    "let person114: Person14 = {\n",
    "    name: \"Alice\",\n",
    "};\n",
    "\n",
    "let person214: Person14 = {\n",
    "    name: \"Bob\",\n",
    "    age: 25,\n",
    "};\n"
   ]
  },
  {
   "cell_type": "markdown",
   "id": "18695160-f719-4d04-bafe-96da462a9b36",
   "metadata": {},
   "source": [
    "### 타입별칭에서 선택속성 처리 "
   ]
  },
  {
   "cell_type": "code",
   "execution_count": 16,
   "id": "90d7adb4-460a-450f-8090-a6aa2c907b36",
   "metadata": {},
   "outputs": [
    {
     "data": {
      "text/plain": [
       "undefined"
      ]
     },
     "execution_count": 16,
     "metadata": {},
     "output_type": "execute_result"
    }
   ],
   "source": [
    "type Person22 = {\n",
    "    name: string;\n",
    "    age?: number; // age 속성은 선택적\n",
    "}\n",
    "\n",
    "let person221: Person22 = {\n",
    "    name: \"Alice\",\n",
    "};\n",
    "\n",
    "let person222: Person22 = {\n",
    "    name: \"Bob\",\n",
    "    age: 25,\n",
    "};"
   ]
  },
  {
   "cell_type": "code",
   "execution_count": null,
   "id": "e022d231-12a1-4e54-9418-286515e6c465",
   "metadata": {},
   "outputs": [],
   "source": []
  },
  {
   "cell_type": "markdown",
   "id": "d30c1749-4e69-4a3a-8fce-e0e275a97563",
   "metadata": {},
   "source": [
    "## 3-2 읽기 속성 처리 "
   ]
  },
  {
   "cell_type": "markdown",
   "id": "e98db544-37ba-4dd3-8227-4d2626736351",
   "metadata": {},
   "source": [
    "### 인터페이스에서 읽기속성 처리 "
   ]
  },
  {
   "cell_type": "code",
   "execution_count": 8,
   "id": "96a55cec-03f2-4f9f-ac59-49e5c1da581d",
   "metadata": {},
   "outputs": [
    {
     "data": {
      "text/plain": [
       "'Alice'"
      ]
     },
     "execution_count": 8,
     "metadata": {},
     "output_type": "execute_result"
    }
   ],
   "source": [
    "interface Person11 {\n",
    "  readonly id: number;\n",
    "  name: string;\n",
    "  age: number;\n",
    "}\n",
    "\n",
    "const person11: Person11 = {\n",
    "  id: 1,\n",
    "  name: \"John\",\n",
    "  age: 30,\n",
    "};\n",
    "\n",
    "person11.name = \"Alice\"; // name은 수정 가능\n"
   ]
  },
  {
   "cell_type": "markdown",
   "id": "f98662ce-d00b-4de9-bf8e-5a6ff922eb3b",
   "metadata": {},
   "source": [
    "#### 읽기속성은 갱신 불가 "
   ]
  },
  {
   "cell_type": "code",
   "execution_count": 9,
   "id": "857a3255-93dc-483b-ac23-d48a1f50f586",
   "metadata": {},
   "outputs": [
    {
     "ename": "Error",
     "evalue": "Line 1, Character 10\nperson11.id = 2; // 에러: 읽기 전용 속성이기 때문에 재할당할 수 없음\n_________^\nTS2540: Cannot assign to 'id' because it is a read-only property.",
     "execution_count": 9,
     "output_type": "error",
     "traceback": [
      "Error: Line 1, Character 10",
      "person11.id = 2; // 에러: 읽기 전용 속성이기 때문에 재할당할 수 없음",
      "_________^",
      "TS2540: Cannot assign to 'id' because it is a read-only property.",
      "    at execTranspile (/usr/local/lib/node_modules/itypescript/lib/kernel.js:229:23)",
      "    at Session.transpiler [as transpile] (/usr/local/lib/node_modules/itypescript/lib/kernel.js:288:35)",
      "    at Session._runNow (/usr/local/lib/node_modules/itypescript/node_modules/nel/lib/nel.js:835:39)",
      "    at Session._run (/usr/local/lib/node_modules/itypescript/node_modules/nel/lib/nel.js:786:14)",
      "    at Session.execute (/usr/local/lib/node_modules/itypescript/node_modules/nel/lib/nel.js:929:10)",
      "    at Kernel.execute_request (/usr/local/lib/node_modules/itypescript/node_modules/jp-kernel/lib/handlers_v5.js:116:18)",
      "    at Kernel.onShellMessage (/usr/local/lib/node_modules/itypescript/node_modules/jp-kernel/lib/jp-kernel.js:285:41)",
      "    at Socket.<anonymous> (/usr/local/lib/node_modules/itypescript/node_modules/jmp/index.js:350:17)",
      "    at Socket.emit (node:events:513:28)",
      "    at Socket._emitMessage (/usr/local/lib/node_modules/itypescript/node_modules/zeromq/lib/index.js:649:15)"
     ]
    }
   ],
   "source": [
    "person11.id = 2; // 에러: 읽기 전용 속성이기 때문에 재할당할 수 없음"
   ]
  },
  {
   "cell_type": "markdown",
   "id": "c6bd47eb-bd1c-472f-9af9-72e2c8161ff9",
   "metadata": {},
   "source": [
    "### 타입별칭에서 읽기 속성 "
   ]
  },
  {
   "cell_type": "code",
   "execution_count": 10,
   "id": "fc9b992c-e329-4f49-bf1c-c3f514198a3b",
   "metadata": {},
   "outputs": [
    {
     "data": {
      "text/plain": [
       "undefined"
      ]
     },
     "execution_count": 10,
     "metadata": {},
     "output_type": "execute_result"
    }
   ],
   "source": [
    "type Person21 =  {\n",
    "  readonly id: number;\n",
    "  name: string;\n",
    "  age: number;\n",
    "}\n"
   ]
  },
  {
   "cell_type": "code",
   "execution_count": 11,
   "id": "78947047-cb39-4c1c-8f90-0cc7c70355f2",
   "metadata": {},
   "outputs": [
    {
     "data": {
      "text/plain": [
       "undefined"
      ]
     },
     "execution_count": 11,
     "metadata": {},
     "output_type": "execute_result"
    }
   ],
   "source": [
    "const person21: Person21 = {\n",
    "  id: 1,\n",
    "  name: \"John\",\n",
    "  age: 30,\n",
    "};"
   ]
  },
  {
   "cell_type": "code",
   "execution_count": null,
   "id": "de628bcd-addf-435e-ab81-426b863e7920",
   "metadata": {},
   "outputs": [],
   "source": []
  },
  {
   "cell_type": "markdown",
   "id": "46c2b149-89fe-420f-b14e-4fed30b6f551",
   "metadata": {},
   "source": [
    "## 4. 익명객체 => 타입 추론 \n",
    "\n",
    "-  객체를 초기값으로 할당하면 자동으로 타입을 추론\n",
    "-  "
   ]
  },
  {
   "cell_type": "code",
   "execution_count": 4,
   "id": "af7fd27e-13a4-4cc0-aef5-ea83f4cca97e",
   "metadata": {},
   "outputs": [
    {
     "data": {
      "text/plain": [
       "undefined"
      ]
     },
     "execution_count": 4,
     "metadata": {},
     "output_type": "execute_result"
    }
   ],
   "source": [
    "let user1  = { name:\"슈퍼맨\", age:33 };"
   ]
  },
  {
   "cell_type": "code",
   "execution_count": 5,
   "id": "42ddf660-f200-472c-bf64-58e46552abbc",
   "metadata": {},
   "outputs": [
    {
     "data": {
      "text/plain": [
       "'object'"
      ]
     },
     "execution_count": 5,
     "metadata": {},
     "output_type": "execute_result"
    }
   ],
   "source": [
    "typeof user1"
   ]
  },
  {
   "cell_type": "code",
   "execution_count": null,
   "id": "0b954a50-5e34-4358-a9d5-c71b6d630a6d",
   "metadata": {},
   "outputs": [],
   "source": []
  },
  {
   "cell_type": "code",
   "execution_count": null,
   "id": "a2ae37c9-eac9-4192-a3e1-9693c4afb5db",
   "metadata": {},
   "outputs": [],
   "source": []
  },
  {
   "cell_type": "code",
   "execution_count": null,
   "id": "1103ff69-87ee-473e-a4eb-68cb5ccbd168",
   "metadata": {},
   "outputs": [],
   "source": []
  },
  {
   "cell_type": "code",
   "execution_count": null,
   "id": "5ee86ce0-cc78-4fe5-80da-eeafb56fc971",
   "metadata": {},
   "outputs": [],
   "source": []
  },
  {
   "cell_type": "code",
   "execution_count": null,
   "id": "aaaa0536-16f5-466e-9305-da73c87092a2",
   "metadata": {},
   "outputs": [],
   "source": []
  }
 ],
 "metadata": {
  "kernelspec": {
   "display_name": "Typescript 4.9",
   "language": "typescript",
   "name": "typescript"
  },
  "language_info": {
   "file_extension": ".ts",
   "mimetype": "application/x-typescript",
   "name": "typescript",
   "version": "4.9.5"
  }
 },
 "nbformat": 4,
 "nbformat_minor": 5
}
