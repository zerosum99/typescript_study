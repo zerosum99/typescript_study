{
 "cells": [
  {
   "cell_type": "code",
   "execution_count": null,
   "id": "1fcf0eef-f6dd-42b3-bf5e-4e9a171b3d3e",
   "metadata": {},
   "outputs": [],
   "source": []
  },
  {
   "cell_type": "code",
   "execution_count": 1,
   "id": "382e561c-3eab-4dec-87af-d3d23264acac",
   "metadata": {},
   "outputs": [
    {
     "name": "stdout",
     "output_type": "stream",
     "text": [
      "[Function: Object]\n"
     ]
    },
    {
     "data": {
      "text/plain": [
       "undefined"
      ]
     },
     "execution_count": 1,
     "metadata": {},
     "output_type": "execute_result"
    }
   ],
   "source": [
    "console.dir(Object);"
   ]
  },
  {
   "cell_type": "code",
   "execution_count": 2,
   "id": "47ef2906-22ad-48ad-bbdd-c4c0b109c218",
   "metadata": {},
   "outputs": [
    {
     "name": "stdout",
     "output_type": "stream",
     "text": [
      "[ 'a', 'b', 'c' ]\n"
     ]
    },
    {
     "data": {
      "text/plain": [
       "undefined"
      ]
     },
     "execution_count": 2,
     "metadata": {},
     "output_type": "execute_result"
    }
   ],
   "source": [
    "const object1 = {\n",
    "  a: 1,\n",
    "  b: 2,\n",
    "  c: 3,\n",
    "};\n",
    "\n",
    "console.log(Object.getOwnPropertyNames(object1));"
   ]
  },
  {
   "cell_type": "code",
   "execution_count": 3,
   "id": "d7c435d8-723b-4b7f-9351-5abce4c9c7ac",
   "metadata": {},
   "outputs": [
    {
     "data": {
      "text/plain": [
       "[\n",
       "  'length',\n",
       "  'name',\n",
       "  'prototype',\n",
       "  'assign',\n",
       "  'getOwnPropertyDescriptor',\n",
       "  'getOwnPropertyDescriptors',\n",
       "  'getOwnPropertyNames',\n",
       "  'getOwnPropertySymbols',\n",
       "  'is',\n",
       "  'preventExtensions',\n",
       "  'seal',\n",
       "  'create',\n",
       "  'defineProperties',\n",
       "  'defineProperty',\n",
       "  'freeze',\n",
       "  'getPrototypeOf',\n",
       "  'setPrototypeOf',\n",
       "  'isExtensible',\n",
       "  'isFrozen',\n",
       "  'isSealed',\n",
       "  'keys',\n",
       "  'entries',\n",
       "  'fromEntries',\n",
       "  'values',\n",
       "  'hasOwn'\n",
       "]"
      ]
     },
     "execution_count": 3,
     "metadata": {},
     "output_type": "execute_result"
    }
   ],
   "source": [
    "Object.getOwnPropertyNames(Object);"
   ]
  },
  {
   "cell_type": "code",
   "execution_count": 4,
   "id": "bb2fcfcc-803a-4d14-bbd0-861bfb2b37bf",
   "metadata": {},
   "outputs": [
    {
     "data": {
      "text/plain": [
       "[\n",
       "  'constructor',\n",
       "  '__defineGetter__',\n",
       "  '__defineSetter__',\n",
       "  'hasOwnProperty',\n",
       "  '__lookupGetter__',\n",
       "  '__lookupSetter__',\n",
       "  'isPrototypeOf',\n",
       "  'propertyIsEnumerable',\n",
       "  'toString',\n",
       "  'valueOf',\n",
       "  '__proto__',\n",
       "  'toLocaleString'\n",
       "]"
      ]
     },
     "execution_count": 4,
     "metadata": {},
     "output_type": "execute_result"
    }
   ],
   "source": [
    "Object.getOwnPropertyNames(Object.prototype);"
   ]
  },
  {
   "cell_type": "code",
   "execution_count": null,
   "id": "6f199216-e0ea-4c2e-8246-345aa9aea284",
   "metadata": {},
   "outputs": [],
   "source": []
  }
 ],
 "metadata": {
  "kernelspec": {
   "display_name": "Typescript 4.9",
   "language": "typescript",
   "name": "typescript"
  },
  "language_info": {
   "file_extension": ".ts",
   "mimetype": "application/x-typescript",
   "name": "typescript",
   "version": "4.9.5"
  }
 },
 "nbformat": 4,
 "nbformat_minor": 5
}
