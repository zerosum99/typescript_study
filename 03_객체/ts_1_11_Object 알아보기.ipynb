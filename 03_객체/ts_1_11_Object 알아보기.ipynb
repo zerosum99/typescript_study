{
 "cells": [
  {
   "cell_type": "code",
   "execution_count": null,
   "id": "1fcf0eef-f6dd-42b3-bf5e-4e9a171b3d3e",
   "metadata": {},
   "outputs": [],
   "source": []
  },
  {
   "cell_type": "markdown",
   "id": "b650ec4b-1696-42f5-81d6-dcd9f0763fe2",
   "metadata": {},
   "source": [
    "## Object 생성자 함수의 프로퍼티 이름 가져오기 "
   ]
  },
  {
   "cell_type": "code",
   "execution_count": 3,
   "id": "d7c435d8-723b-4b7f-9351-5abce4c9c7ac",
   "metadata": {},
   "outputs": [
    {
     "data": {
      "text/plain": [
       "[\n",
       "  'length',\n",
       "  'name',\n",
       "  'prototype',\n",
       "  'assign',\n",
       "  'getOwnPropertyDescriptor',\n",
       "  'getOwnPropertyDescriptors',\n",
       "  'getOwnPropertyNames',\n",
       "  'getOwnPropertySymbols',\n",
       "  'is',\n",
       "  'preventExtensions',\n",
       "  'seal',\n",
       "  'create',\n",
       "  'defineProperties',\n",
       "  'defineProperty',\n",
       "  'freeze',\n",
       "  'getPrototypeOf',\n",
       "  'setPrototypeOf',\n",
       "  'isExtensible',\n",
       "  'isFrozen',\n",
       "  'isSealed',\n",
       "  'keys',\n",
       "  'entries',\n",
       "  'fromEntries',\n",
       "  'values',\n",
       "  'hasOwn'\n",
       "]"
      ]
     },
     "execution_count": 3,
     "metadata": {},
     "output_type": "execute_result"
    }
   ],
   "source": [
    "Object.getOwnPropertyNames(Object);"
   ]
  },
  {
   "cell_type": "markdown",
   "id": "a5166245-d528-493c-be5e-6d596ca5671e",
   "metadata": {},
   "source": [
    "## Object.prototype 의 프로퍼티 확인하기 "
   ]
  },
  {
   "cell_type": "code",
   "execution_count": 4,
   "id": "bb2fcfcc-803a-4d14-bbd0-861bfb2b37bf",
   "metadata": {},
   "outputs": [
    {
     "data": {
      "text/plain": [
       "[\n",
       "  'constructor',\n",
       "  '__defineGetter__',\n",
       "  '__defineSetter__',\n",
       "  'hasOwnProperty',\n",
       "  '__lookupGetter__',\n",
       "  '__lookupSetter__',\n",
       "  'isPrototypeOf',\n",
       "  'propertyIsEnumerable',\n",
       "  'toString',\n",
       "  'valueOf',\n",
       "  '__proto__',\n",
       "  'toLocaleString'\n",
       "]"
      ]
     },
     "execution_count": 4,
     "metadata": {},
     "output_type": "execute_result"
    }
   ],
   "source": [
    "Object.getOwnPropertyNames(Object.prototype);"
   ]
  },
  {
   "cell_type": "markdown",
   "id": "8d045cec-d05f-41d8-9ec8-c0f8ed230de9",
   "metadata": {},
   "source": [
    "## 객체의 구성 정보 확인하기 "
   ]
  },
  {
   "cell_type": "code",
   "execution_count": 2,
   "id": "47ef2906-22ad-48ad-bbdd-c4c0b109c218",
   "metadata": {},
   "outputs": [
    {
     "name": "stdout",
     "output_type": "stream",
     "text": [
      "[ 'a', 'b', 'c' ]\n"
     ]
    },
    {
     "data": {
      "text/plain": [
       "undefined"
      ]
     },
     "execution_count": 2,
     "metadata": {},
     "output_type": "execute_result"
    }
   ],
   "source": [
    "const object1 = {\n",
    "  a: 1,\n",
    "  b: 2,\n",
    "  c: 3,\n",
    "};\n",
    "\n",
    "console.log(Object.getOwnPropertyNames(object1));"
   ]
  },
  {
   "cell_type": "code",
   "execution_count": null,
   "id": "f4bc3fcd-0b40-48b5-960e-4fdaa27eb744",
   "metadata": {},
   "outputs": [],
   "source": []
  },
  {
   "cell_type": "code",
   "execution_count": 5,
   "id": "97eef3d4-9f32-4cec-ae2a-acad76579dd7",
   "metadata": {},
   "outputs": [
    {
     "data": {
      "text/plain": [
       "'object'"
      ]
     },
     "execution_count": 5,
     "metadata": {},
     "output_type": "execute_result"
    }
   ],
   "source": [
    "typeof object1"
   ]
  },
  {
   "cell_type": "markdown",
   "id": "c9380ad4-a6ba-4496-afde-3947ee66a7ec",
   "metadata": {},
   "source": [
    "### 객체의 프로토타입 확인하기 "
   ]
  },
  {
   "cell_type": "code",
   "execution_count": 6,
   "id": "08d24666-7624-4316-af7a-99f975122aea",
   "metadata": {},
   "outputs": [
    {
     "data": {
      "text/plain": [
       "[Object: null prototype] {}"
      ]
     },
     "execution_count": 6,
     "metadata": {},
     "output_type": "execute_result"
    }
   ],
   "source": [
    "Object.getPrototypeOf(object1);"
   ]
  },
  {
   "cell_type": "code",
   "execution_count": 7,
   "id": "07fec470-f691-4457-ae80-fb37c7e0976f",
   "metadata": {},
   "outputs": [
    {
     "data": {
      "text/plain": [
       "true"
      ]
     },
     "execution_count": 7,
     "metadata": {},
     "output_type": "execute_result"
    }
   ],
   "source": [
    "Object.getPrototypeOf(object1) === Object.prototype"
   ]
  },
  {
   "cell_type": "markdown",
   "id": "ed7eb39f-d1cd-40b2-a170-c27976971a48",
   "metadata": {},
   "source": [
    "### 객체의 생성자 함수 확인하기 "
   ]
  },
  {
   "cell_type": "code",
   "execution_count": 8,
   "id": "162a5da9-f03d-4ce6-b393-dfd354f68dbb",
   "metadata": {},
   "outputs": [
    {
     "data": {
      "text/plain": [
       "true"
      ]
     },
     "execution_count": 8,
     "metadata": {},
     "output_type": "execute_result"
    }
   ],
   "source": [
    "Object.prototype.constructor === Object"
   ]
  },
  {
   "cell_type": "code",
   "execution_count": null,
   "id": "cc2e3763-d2ac-466f-a73d-d281bcdbecd1",
   "metadata": {},
   "outputs": [],
   "source": []
  }
 ],
 "metadata": {
  "kernelspec": {
   "display_name": "Typescript 4.9",
   "language": "typescript",
   "name": "typescript"
  },
  "language_info": {
   "file_extension": ".ts",
   "mimetype": "application/x-typescript",
   "name": "typescript",
   "version": "4.9.5"
  }
 },
 "nbformat": 4,
 "nbformat_minor": 5
}
