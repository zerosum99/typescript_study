{
 "cells": [
  {
   "cell_type": "code",
   "execution_count": null,
   "id": "ae4bcee6-6f5f-4e61-a320-e1325288ce78",
   "metadata": {},
   "outputs": [],
   "source": []
  },
  {
   "cell_type": "code",
   "execution_count": null,
   "id": "85ea5d2c-f035-42a0-bba1-00de8114664d",
   "metadata": {},
   "outputs": [],
   "source": []
  },
  {
   "cell_type": "markdown",
   "id": "52b26d1f-fe1b-471b-869a-176b5a6d56df",
   "metadata": {},
   "source": [
    "## 계산된 프로퍼티 정의 \n",
    "\n",
    "- 속성없이 계산된 결과를 출력하는 한다"
   ]
  },
  {
   "cell_type": "code",
   "execution_count": 1,
   "id": "fc869d1d-9597-455f-b6b4-b6496bc2e290",
   "metadata": {},
   "outputs": [
    {
     "data": {
      "text/plain": [
       "'use strict'"
      ]
     },
     "execution_count": 1,
     "metadata": {},
     "output_type": "execute_result"
    }
   ],
   "source": [
    "const obj = {\n",
    " \n",
    "  // get 키워드를 사용하여 읽기 동작 정의\n",
    "  get value() {\n",
    "    console.log(\"Getting value\");\n",
    "    return 100;\n",
    "  }\n",
    "};\n",
    "\n"
   ]
  },
  {
   "cell_type": "code",
   "execution_count": null,
   "id": "2984c721-41dd-4ea0-b79c-f65621a4663e",
   "metadata": {},
   "outputs": [],
   "source": []
  },
  {
   "cell_type": "code",
   "execution_count": 2,
   "id": "348231a2-9464-469a-bc6c-50efb9d9147a",
   "metadata": {},
   "outputs": [
    {
     "name": "stdout",
     "output_type": "stream",
     "text": [
      "Getting value\n",
      "100\n"
     ]
    },
    {
     "data": {
      "text/plain": [
       "undefined"
      ]
     },
     "execution_count": 2,
     "metadata": {},
     "output_type": "execute_result"
    }
   ],
   "source": [
    "console.log(obj.value); // get 메서드 호출"
   ]
  },
  {
   "cell_type": "code",
   "execution_count": null,
   "id": "04a53731-76c6-42b9-9192-12120f4bcfa9",
   "metadata": {},
   "outputs": [],
   "source": []
  },
  {
   "cell_type": "markdown",
   "id": "ab2786d6-d1da-48f7-bc10-e5073655d6bd",
   "metadata": {},
   "source": [
    "## 사용자 정의를 사용해서 계산된 프로퍼티 "
   ]
  },
  {
   "cell_type": "code",
   "execution_count": 3,
   "id": "6be1a9ca-b997-40e7-960d-9aecc6e2a87c",
   "metadata": {},
   "outputs": [
    {
     "data": {
      "text/plain": [
       "undefined"
      ]
     },
     "execution_count": 3,
     "metadata": {},
     "output_type": "execute_result"
    }
   ],
   "source": [
    "const obj1 = {\n",
    "  _value: 0,\n",
    "  // get 키워드를 사용하여 읽기 동작 정의\n",
    "  get value() {\n",
    "    console.log(\"Getting value\");\n",
    "    return this._value;\n",
    "  },\n",
    "  // set 키워드를 사용하여 쓰기 동작 정의\n",
    "  set value(newValue: number) {\n",
    "    console.log(\"Setting value\");\n",
    "    this._value = newValue;\n",
    "  },\n",
    "};\n",
    "\n"
   ]
  },
  {
   "cell_type": "code",
   "execution_count": null,
   "id": "4d17d6a2-e00a-4d43-9bfa-a4b35dd1b75e",
   "metadata": {},
   "outputs": [],
   "source": []
  },
  {
   "cell_type": "code",
   "execution_count": 4,
   "id": "069797c6-abe2-430d-99ee-96f71c8ba682",
   "metadata": {},
   "outputs": [
    {
     "name": "stdout",
     "output_type": "stream",
     "text": [
      "Getting value\n",
      "0\n",
      "Setting value\n",
      "Getting value\n",
      "42\n"
     ]
    },
    {
     "data": {
      "text/plain": [
       "undefined"
      ]
     },
     "execution_count": 4,
     "metadata": {},
     "output_type": "execute_result"
    }
   ],
   "source": [
    "console.log(obj1.value); // get 메서드 호출\n",
    "obj1.value = 42; // set 메서드 호출\n",
    "console.log(obj1.value); // get 메서드 호출"
   ]
  },
  {
   "cell_type": "code",
   "execution_count": null,
   "id": "401014e7-3c87-4617-bf4f-28f56b88dbf5",
   "metadata": {},
   "outputs": [],
   "source": []
  }
 ],
 "metadata": {
  "kernelspec": {
   "display_name": "Typescript 4.9",
   "language": "typescript",
   "name": "typescript"
  },
  "language_info": {
   "file_extension": ".ts",
   "mimetype": "application/x-typescript",
   "name": "typescript",
   "version": "4.9.5"
  }
 },
 "nbformat": 4,
 "nbformat_minor": 5
}
