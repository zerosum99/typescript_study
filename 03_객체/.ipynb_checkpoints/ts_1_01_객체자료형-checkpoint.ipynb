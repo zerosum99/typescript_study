{
 "cells": [
  {
   "cell_type": "code",
   "execution_count": null,
   "id": "acf74bbc-183a-423c-9109-acdeecb78f7f",
   "metadata": {},
   "outputs": [],
   "source": []
  },
  {
   "cell_type": "markdown",
   "id": "f05c6d61-819f-4c09-84cd-4ca19ed91cd6",
   "metadata": {},
   "source": [
    "##  1 객체 타입지정 "
   ]
  },
  {
   "cell_type": "code",
   "execution_count": 15,
   "id": "95f57fa3-4ca9-40a0-8843-f6a25b4d5e29",
   "metadata": {},
   "outputs": [
    {
     "data": {
      "text/plain": [
       "undefined"
      ]
     },
     "execution_count": 15,
     "metadata": {},
     "output_type": "execute_result"
    }
   ],
   "source": [
    "let user :object = { name:\"슈퍼맨\", age:33 };"
   ]
  },
  {
   "cell_type": "code",
   "execution_count": 16,
   "id": "a159eafb-a688-41fd-bc3b-0d859b848da8",
   "metadata": {},
   "outputs": [
    {
     "data": {
      "text/plain": [
       "'object'"
      ]
     },
     "execution_count": 16,
     "metadata": {},
     "output_type": "execute_result"
    }
   ],
   "source": [
    "typeof user"
   ]
  },
  {
   "cell_type": "code",
   "execution_count": null,
   "id": "97be1555-3705-4db1-909b-ce187a36bd17",
   "metadata": {},
   "outputs": [],
   "source": []
  },
  {
   "cell_type": "markdown",
   "id": "10d4bc0f-77ac-42d8-8306-883acc30260e",
   "metadata": {},
   "source": [
    "## 1-1 인라인 타입지정하기"
   ]
  },
  {
   "cell_type": "code",
   "execution_count": 1,
   "id": "592ffbdf-a6d1-4773-ac15-bca1af2741b8",
   "metadata": {},
   "outputs": [
    {
     "data": {
      "text/plain": [
       "'use strict'"
      ]
     },
     "execution_count": 1,
     "metadata": {},
     "output_type": "execute_result"
    }
   ],
   "source": [
    "let person: { name: string; age: number } = {\n",
    "    name: \"Alice\",\n",
    "    age: 30,\n",
    "};\n"
   ]
  },
  {
   "cell_type": "code",
   "execution_count": null,
   "id": "356a4b2e-6d94-4558-af82-c0bab8998329",
   "metadata": {},
   "outputs": [],
   "source": []
  },
  {
   "cell_type": "markdown",
   "id": "e7239f97-d958-47d3-b37a-5242d101ad4a",
   "metadata": {},
   "source": [
    "## 1-2 인터페이스 사용하기 "
   ]
  },
  {
   "cell_type": "code",
   "execution_count": 2,
   "id": "7970b709-e3f5-4988-ba0e-a589c4a1f353",
   "metadata": {},
   "outputs": [
    {
     "data": {
      "text/plain": [
       "undefined"
      ]
     },
     "execution_count": 2,
     "metadata": {},
     "output_type": "execute_result"
    }
   ],
   "source": [
    "interface Person12 {\n",
    "    name: string;\n",
    "    age: number;\n",
    "}\n",
    "\n",
    "let person12: Person12 = {\n",
    "    name: \"Alice\",\n",
    "    age: 30,\n",
    "};\n"
   ]
  },
  {
   "cell_type": "code",
   "execution_count": null,
   "id": "d5f70488-a38d-47df-b00e-e3fa26a11273",
   "metadata": {},
   "outputs": [],
   "source": []
  },
  {
   "cell_type": "markdown",
   "id": "a6d03892-1ff4-48ca-bf62-517a6d5cf7c7",
   "metadata": {},
   "source": [
    "## 1-3 타입별칭 사용하기 "
   ]
  },
  {
   "cell_type": "code",
   "execution_count": 3,
   "id": "fdd6b32a-50f8-4a9c-9f59-476fb4cf8dd3",
   "metadata": {},
   "outputs": [
    {
     "data": {
      "text/plain": [
       "undefined"
      ]
     },
     "execution_count": 3,
     "metadata": {},
     "output_type": "execute_result"
    }
   ],
   "source": [
    "type Person13 = {\n",
    "    name: string;\n",
    "    age: number;\n",
    "};\n",
    "\n",
    "let person13: Person13 = {\n",
    "    name: \"Alice\",\n",
    "    age: 30,\n",
    "};\n"
   ]
  },
  {
   "cell_type": "code",
   "execution_count": null,
   "id": "52becdf8-59a8-4f46-89f6-acf4466917f0",
   "metadata": {},
   "outputs": [],
   "source": []
  },
  {
   "cell_type": "markdown",
   "id": "2838352d-6d8d-4cc9-be80-3809e2865bb6",
   "metadata": {},
   "source": [
    "## 1-4 선택 속성 사용하기 "
   ]
  },
  {
   "cell_type": "code",
   "execution_count": 4,
   "id": "5da46826-28d1-4ba0-bec2-091395e98ed3",
   "metadata": {},
   "outputs": [
    {
     "data": {
      "text/plain": [
       "undefined"
      ]
     },
     "execution_count": 4,
     "metadata": {},
     "output_type": "execute_result"
    }
   ],
   "source": [
    "interface Person14 {\n",
    "    name: string;\n",
    "    age?: number; // age 속성은 선택적\n",
    "}\n",
    "\n",
    "let person114: Person14 = {\n",
    "    name: \"Alice\",\n",
    "};\n",
    "\n",
    "let person214: Person14 = {\n",
    "    name: \"Bob\",\n",
    "    age: 25,\n",
    "};\n"
   ]
  },
  {
   "cell_type": "code",
   "execution_count": null,
   "id": "ff616696-06f2-49d0-bc82-33b4bc81fa1f",
   "metadata": {},
   "outputs": [],
   "source": []
  },
  {
   "cell_type": "code",
   "execution_count": null,
   "id": "857a3255-93dc-483b-ac23-d48a1f50f586",
   "metadata": {},
   "outputs": [],
   "source": []
  },
  {
   "cell_type": "markdown",
   "id": "46c2b149-89fe-420f-b14e-4fed30b6f551",
   "metadata": {},
   "source": [
    "## 1-5 익명객체 => 타입 추론 "
   ]
  },
  {
   "cell_type": "code",
   "execution_count": 17,
   "id": "af7fd27e-13a4-4cc0-aef5-ea83f4cca97e",
   "metadata": {},
   "outputs": [
    {
     "data": {
      "text/plain": [
       "undefined"
      ]
     },
     "execution_count": 17,
     "metadata": {},
     "output_type": "execute_result"
    }
   ],
   "source": [
    "let user1  = { name:\"슈퍼맨\", age:33 };"
   ]
  },
  {
   "cell_type": "code",
   "execution_count": 18,
   "id": "42ddf660-f200-472c-bf64-58e46552abbc",
   "metadata": {},
   "outputs": [
    {
     "data": {
      "text/plain": [
       "'object'"
      ]
     },
     "execution_count": 18,
     "metadata": {},
     "output_type": "execute_result"
    }
   ],
   "source": [
    "typeof user1"
   ]
  },
  {
   "cell_type": "code",
   "execution_count": null,
   "id": "0b954a50-5e34-4358-a9d5-c71b6d630a6d",
   "metadata": {},
   "outputs": [],
   "source": []
  },
  {
   "cell_type": "code",
   "execution_count": null,
   "id": "a2ae37c9-eac9-4192-a3e1-9693c4afb5db",
   "metadata": {},
   "outputs": [],
   "source": []
  },
  {
   "cell_type": "code",
   "execution_count": null,
   "id": "1103ff69-87ee-473e-a4eb-68cb5ccbd168",
   "metadata": {},
   "outputs": [],
   "source": []
  },
  {
   "cell_type": "code",
   "execution_count": null,
   "id": "5ee86ce0-cc78-4fe5-80da-eeafb56fc971",
   "metadata": {},
   "outputs": [],
   "source": []
  },
  {
   "cell_type": "code",
   "execution_count": null,
   "id": "aaaa0536-16f5-466e-9305-da73c87092a2",
   "metadata": {},
   "outputs": [],
   "source": []
  }
 ],
 "metadata": {
  "kernelspec": {
   "display_name": "Typescript 4.9",
   "language": "typescript",
   "name": "typescript"
  },
  "language_info": {
   "file_extension": ".ts",
   "mimetype": "application/x-typescript",
   "name": "typescript",
   "version": "4.9.5"
  }
 },
 "nbformat": 4,
 "nbformat_minor": 5
}
