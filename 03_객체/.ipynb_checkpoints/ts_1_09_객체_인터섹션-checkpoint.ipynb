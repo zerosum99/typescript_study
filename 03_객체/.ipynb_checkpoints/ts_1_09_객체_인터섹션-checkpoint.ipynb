{
 "cells": [
  {
   "cell_type": "code",
   "execution_count": null,
   "id": "6369a200-ed28-41a0-b39c-9fa2d682821a",
   "metadata": {},
   "outputs": [],
   "source": []
  },
  {
   "cell_type": "code",
   "execution_count": null,
   "id": "0b3bedc3-10ed-4460-8cba-5784c7e42d27",
   "metadata": {},
   "outputs": [],
   "source": []
  },
  {
   "cell_type": "markdown",
   "id": "c56f3c01-04c5-4ade-93b9-646c27b93ff0",
   "metadata": {},
   "source": [
    "## 1. 객체 타입 인터섹션 "
   ]
  },
  {
   "cell_type": "code",
   "execution_count": null,
   "id": "624d2cf3-63df-4ae4-9740-a2f920d8ff1d",
   "metadata": {},
   "outputs": [],
   "source": []
  },
  {
   "cell_type": "markdown",
   "id": "63f3d9d2-8a93-47da-ab04-d258d4e5fbf1",
   "metadata": {},
   "source": [
    "## 유니언 타입과 인터섹션 타입의 차이점 \n",
    "\n",
    "### 유니온 타입 (Union Types):\n",
    "\n",
    "- | 기호로 표현됩니다.\n",
    "- 여러 타입 중 하나 이상의 타입을 가질 수 있는 타입을 만듭니다.\n",
    "- 유니온 타입으로 정의된 값은 해당하는 모든 타입의 프로퍼티와 메서드에 접근할 수 있습니다.\n",
    "- 예시: string | number는 문자열이나 숫자 타입의 값을 가질 수 있는 타입입니다.\n",
    "\n",
    "    \n",
    "### 인터섹션 타입 (Intersection Types):\n",
    "\n",
    "- & 기호로 표현됩니다.\n",
    "- 두 개 이상의 타입을 결합하여 하나의 타입을 생성합니다.\n",
    "- 인터섹션 타입으로 정의된 값은 모든 타입의 프로퍼티와 메서드에 접근할 수 있습니다.\n",
    "- 예시: Person & Employee는 Person 타입과 Employee 타입의 모든 프로퍼티를 가질 수 있는 타입입니다.\n",
    "\n",
    "### 차이점 요약:\n",
    "\n",
    "- 유니온 타입은 여러 타입 중 하나 이상의 값을 가질 수 있는 반면, 인터섹션 타입은 여러 타입의 결합으로 만든 새로운 타입을 생성합니다.\n",
    "- 유니온 타입은 어떤 값을 가질지 여러 옵션 중 하나를 선택할 때 사용하며, 인터섹션 타입은 여러 타입의 프로퍼티를 결합하여 더 복잡한 타입을 만들 때 사용합니다.\n",
    "- 유니온 타입은 각 타입에 속한 고유한 프로퍼티와 메서드에만 접근할 수 있으며, 인터섹션 타입은 결합된 모든 타입의 프로퍼티와 메서드에 접근할 수 있습니다.\n",
    "\n",
    "    \n",
    "\n",
    "\n",
    "\n",
    "\n",
    "\n"
   ]
  },
  {
   "cell_type": "code",
   "execution_count": null,
   "id": "1fc3d7f1-4f60-4aed-8f27-d67563e3207b",
   "metadata": {},
   "outputs": [],
   "source": []
  },
  {
   "cell_type": "markdown",
   "id": "0dff3212-4ffb-44de-bed2-0232c55c1a1a",
   "metadata": {},
   "source": [
    "### 1-1 객체 인터섹션(Object Intersection)\n",
    "    \n",
    "- TypeScript에서 두 개 이상의 객체 타입을 결합하여 새로운 객체 타입을 생성하는 것을 의미합니다. \n",
    "- 이는 두 개 이상의 객체가 가지는 프로퍼티들을 모두 포함하는 객체 타입을 생성하는 방법입니다."
   ]
  },
  {
   "cell_type": "markdown",
   "id": "d61b2932-1b5c-4a91-b720-0ed2096c0d45",
   "metadata": {},
   "source": [
    "###  두 타입을 하나의 새로운 타입으로 만들기 "
   ]
  },
  {
   "cell_type": "code",
   "execution_count": 1,
   "id": "e7f48113-91c2-4287-acc5-61bb5cbd1f7f",
   "metadata": {},
   "outputs": [
    {
     "data": {
      "text/plain": [
       "'use strict'"
      ]
     },
     "execution_count": 1,
     "metadata": {},
     "output_type": "execute_result"
    }
   ],
   "source": [
    "type Point = { x: number; y: number };\n",
    "type Color = { color: string };\n",
    "\n",
    "type ColoredPoint = Point & Color;\n"
   ]
  },
  {
   "cell_type": "code",
   "execution_count": 3,
   "id": "94ba595d-bbfb-4809-bd83-6fc2935601f3",
   "metadata": {},
   "outputs": [
    {
     "data": {
      "text/plain": [
       "undefined"
      ]
     },
     "execution_count": 3,
     "metadata": {},
     "output_type": "execute_result"
    }
   ],
   "source": [
    "const coloredPoint: ColoredPoint = {\n",
    "    x: 10,\n",
    "    y: 20,\n",
    "    color: \"red\"\n",
    "};\n"
   ]
  },
  {
   "cell_type": "code",
   "execution_count": 4,
   "id": "7b83fb36-bd6a-4ee1-87ce-c481aeae416c",
   "metadata": {},
   "outputs": [
    {
     "data": {
      "text/plain": [
       "10"
      ]
     },
     "execution_count": 4,
     "metadata": {},
     "output_type": "execute_result"
    }
   ],
   "source": [
    "coloredPoint.x"
   ]
  },
  {
   "cell_type": "code",
   "execution_count": null,
   "id": "1d9a2f97-d9c6-4c89-b0a4-ef84150eae7f",
   "metadata": {},
   "outputs": [],
   "source": []
  },
  {
   "cell_type": "code",
   "execution_count": null,
   "id": "211d6a7b-d84d-4ed8-8661-e905b9368576",
   "metadata": {},
   "outputs": [],
   "source": []
  },
  {
   "cell_type": "markdown",
   "id": "aa293f35-cb9a-4b0c-b726-112767238e0f",
   "metadata": {},
   "source": [
    "## 두 개의 타입을 하나의 타입으로 만들기\n",
    "\n",
    "-  여러 개 타입을 가진 것을 하나로 묶기"
   ]
  },
  {
   "cell_type": "code",
   "execution_count": 5,
   "id": "f542d381-2da2-48d8-952f-6949d6b199da",
   "metadata": {},
   "outputs": [
    {
     "data": {
      "text/plain": [
       "undefined"
      ]
     },
     "execution_count": 5,
     "metadata": {},
     "output_type": "execute_result"
    }
   ],
   "source": [
    "type Person = {\n",
    "    name: string;\n",
    "    age: number;\n",
    "};\n",
    "\n",
    "type Employee = {\n",
    "    employeeId: string;\n",
    "    role: string;\n",
    "};\n",
    "\n",
    "type PersonAndEmployee = Person & Employee;\n",
    "\n"
   ]
  },
  {
   "cell_type": "code",
   "execution_count": null,
   "id": "65684559-6b9d-49a2-bbee-0eefe450db47",
   "metadata": {},
   "outputs": [],
   "source": []
  },
  {
   "cell_type": "code",
   "execution_count": 6,
   "id": "7db27f04-d6fe-4138-a484-4c48dc1c3361",
   "metadata": {},
   "outputs": [
    {
     "data": {
      "text/plain": [
       "undefined"
      ]
     },
     "execution_count": 6,
     "metadata": {},
     "output_type": "execute_result"
    }
   ],
   "source": [
    "const personAndEmployee: PersonAndEmployee = {\n",
    "    name: \"Alice\",\n",
    "    age: 30,\n",
    "    employeeId: \"12345\",\n",
    "    role: \"Manager\"\n",
    "};\n"
   ]
  },
  {
   "cell_type": "code",
   "execution_count": null,
   "id": "49fdcb71-e66b-4636-8324-e867cd3d6229",
   "metadata": {},
   "outputs": [],
   "source": []
  },
  {
   "cell_type": "code",
   "execution_count": 7,
   "id": "898dcfcf-297c-4368-837c-b3b8814d0b53",
   "metadata": {},
   "outputs": [
    {
     "data": {
      "text/plain": [
       "'Alice'"
      ]
     },
     "execution_count": 7,
     "metadata": {},
     "output_type": "execute_result"
    }
   ],
   "source": [
    " personAndEmployee.name"
   ]
  },
  {
   "cell_type": "code",
   "execution_count": null,
   "id": "3471cf8f-a21f-4014-bab2-f7b661bf57ab",
   "metadata": {},
   "outputs": [],
   "source": []
  },
  {
   "cell_type": "code",
   "execution_count": null,
   "id": "6c0d900f-4bee-4cb3-b755-3853f34f5f6b",
   "metadata": {},
   "outputs": [],
   "source": []
  },
  {
   "cell_type": "markdown",
   "id": "83c66094-828c-4f60-a209-6d769d0f7811",
   "metadata": {},
   "source": [
    "## 1-2 인터섹션 자료형 활용 "
   ]
  },
  {
   "cell_type": "code",
   "execution_count": null,
   "id": "e30fdab1-f82e-4fb1-a531-58b289fc2ddb",
   "metadata": {},
   "outputs": [],
   "source": []
  },
  {
   "cell_type": "markdown",
   "id": "7035f76d-e5e2-4d56-8d6b-e5b943d05f64",
   "metadata": {},
   "source": [
    "## 타입의 조합 : 새로운 타입 만들기 "
   ]
  },
  {
   "cell_type": "code",
   "execution_count": null,
   "id": "cc415731-2727-4f52-8e20-a3d84e604967",
   "metadata": {},
   "outputs": [],
   "source": [
    "type Person2 = {\n",
    "    name: string;\n",
    "    age: number;\n",
    "};\n",
    "\n",
    "type Address2 = {\n",
    "    street: string;\n",
    "    city: string;\n",
    "};\n",
    "\n",
    "type Employee2 = Person2 & Address2;"
   ]
  },
  {
   "cell_type": "code",
   "execution_count": null,
   "id": "410363d5-fdd2-4d46-8dda-bd9995848972",
   "metadata": {},
   "outputs": [],
   "source": []
  },
  {
   "cell_type": "markdown",
   "id": "92498fd7-ad00-4091-b425-9ce504f4da72",
   "metadata": {},
   "source": [
    "## 믹스인(Mixin) 패턴:\n",
    "\n",
    "- 다양한 클래스나 객체를 조합하여 새로운 클래스를 만들 수 있습니다."
   ]
  },
  {
   "cell_type": "code",
   "execution_count": 8,
   "id": "d0c959eb-d8d1-43be-a79c-84a037da485d",
   "metadata": {},
   "outputs": [
    {
     "data": {
      "text/plain": [
       "undefined"
      ]
     },
     "execution_count": 8,
     "metadata": {},
     "output_type": "execute_result"
    }
   ],
   "source": [
    "class Person3 {\n",
    "    constructor(public name: string) {}\n",
    "}\n",
    "\n",
    "class Address3 {\n",
    "    constructor(public street: string, public city: string) {}\n",
    "}\n",
    "\n",
    "type Employee3 = Person3 & Address3;\n",
    "\n",
    "const employee3: Employee3 = new Person3(\"Alice\") as Employee3;\n"
   ]
  },
  {
   "cell_type": "code",
   "execution_count": null,
   "id": "12fa4ccd-78a8-40fe-9efe-7a8a844ba2db",
   "metadata": {},
   "outputs": [],
   "source": []
  },
  {
   "cell_type": "code",
   "execution_count": 9,
   "id": "83233449-9285-47ed-afc0-5ae8f1f7c531",
   "metadata": {},
   "outputs": [
    {
     "data": {
      "text/plain": [
       "'123 Main St'"
      ]
     },
     "execution_count": 9,
     "metadata": {},
     "output_type": "execute_result"
    }
   ],
   "source": [
    "employee3.street = \"123 Main St\";"
   ]
  },
  {
   "cell_type": "code",
   "execution_count": 10,
   "id": "457de7fb-a5c0-4282-8f84-176f634d2761",
   "metadata": {},
   "outputs": [
    {
     "data": {
      "text/plain": [
       "'Wonderland'"
      ]
     },
     "execution_count": 10,
     "metadata": {},
     "output_type": "execute_result"
    }
   ],
   "source": [
    "employee3.city = \"Wonderland\";"
   ]
  },
  {
   "cell_type": "code",
   "execution_count": null,
   "id": "11e502a4-e5cf-4463-abe5-9ac6a9a511ef",
   "metadata": {},
   "outputs": [],
   "source": []
  },
  {
   "cell_type": "markdown",
   "id": "e2f897ae-8978-4872-9ec9-217e26f0deb5",
   "metadata": {},
   "source": [
    "## 객체 확장:\n",
    "\n",
    "- 객체에 새로운 프로퍼티를 추가하거나 확장할 때 사용됩니다."
   ]
  },
  {
   "cell_type": "code",
   "execution_count": 11,
   "id": "16121ed0-ce4c-4979-a0c4-22dd93e5493d",
   "metadata": {},
   "outputs": [
    {
     "data": {
      "text/plain": [
       "undefined"
      ]
     },
     "execution_count": 11,
     "metadata": {},
     "output_type": "execute_result"
    }
   ],
   "source": [
    "type Address4 = {\n",
    "    street: string;\n",
    "    city: string;\n",
    "};\n",
    "\n",
    "type ExtendedAddress = Address4 & { country: string };\n"
   ]
  },
  {
   "cell_type": "code",
   "execution_count": null,
   "id": "8d64aa39-05a3-4837-b5ef-e0518285d1e9",
   "metadata": {},
   "outputs": [],
   "source": []
  },
  {
   "cell_type": "code",
   "execution_count": 12,
   "id": "5be5f620-0639-4c15-a30d-f14c72f76f10",
   "metadata": {},
   "outputs": [
    {
     "data": {
      "text/plain": [
       "undefined"
      ]
     },
     "execution_count": 12,
     "metadata": {},
     "output_type": "execute_result"
    }
   ],
   "source": [
    "const extended: ExtendedAddress = {\n",
    "    street: \"456 Sub St\",\n",
    "    city: \"Dreamland\",\n",
    "    country: \"Fantasy\"\n",
    "};"
   ]
  },
  {
   "cell_type": "code",
   "execution_count": 13,
   "id": "2a780e21-384c-40fe-aecc-8f5accdbb293",
   "metadata": {},
   "outputs": [
    {
     "data": {
      "text/plain": [
       "'Dreamland'"
      ]
     },
     "execution_count": 13,
     "metadata": {},
     "output_type": "execute_result"
    }
   ],
   "source": [
    "extended.city"
   ]
  },
  {
   "cell_type": "code",
   "execution_count": null,
   "id": "95116e37-6b77-4b04-ac4a-0c64ff9725f2",
   "metadata": {},
   "outputs": [],
   "source": []
  }
 ],
 "metadata": {
  "kernelspec": {
   "display_name": "Typescript 4.9",
   "language": "typescript",
   "name": "typescript"
  },
  "language_info": {
   "file_extension": ".ts",
   "mimetype": "application/x-typescript",
   "name": "typescript",
   "version": "4.9.5"
  }
 },
 "nbformat": 4,
 "nbformat_minor": 5
}
