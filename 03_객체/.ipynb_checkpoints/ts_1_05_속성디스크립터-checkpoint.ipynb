{
 "cells": [
  {
   "cell_type": "code",
   "execution_count": null,
   "id": "a6a01e84-45e4-4ef4-970b-0a34511111cb",
   "metadata": {},
   "outputs": [],
   "source": []
  },
  {
   "cell_type": "code",
   "execution_count": null,
   "id": "af1b36b5-4d99-4216-9f61-32382d2ad84d",
   "metadata": {},
   "outputs": [],
   "source": []
  },
  {
   "cell_type": "markdown",
   "id": "bd283576-3cc6-410c-b7a3-3cfcf053735b",
   "metadata": {},
   "source": [
    "## 인덱스 시그너처로 객체 생성 "
   ]
  },
  {
   "cell_type": "code",
   "execution_count": 1,
   "id": "3bafd9a4-d922-4da9-90e0-b5b866154942",
   "metadata": {},
   "outputs": [
    {
     "data": {
      "text/plain": [
       "'use strict'"
      ]
     },
     "execution_count": 1,
     "metadata": {},
     "output_type": "execute_result"
    }
   ],
   "source": [
    "const person: { [key: string]: any } = {}; // 속성을 동적으로 추가하기 위해 인덱스 시그니처를 사용"
   ]
  },
  {
   "cell_type": "markdown",
   "id": "d82fd400-e268-4ff8-8e3f-dd9e9fe055b4",
   "metadata": {},
   "source": [
    "## 속성 디스크립터를 사용해서 프로퍼티 처리하기 \n",
    "\n",
    "- 프로퍼티 값을 변경할 수 없도록 세팅 "
   ]
  },
  {
   "cell_type": "code",
   "execution_count": 2,
   "id": "3925603c-a87f-443e-bd41-48bbbaab38c4",
   "metadata": {},
   "outputs": [
    {
     "name": "stdout",
     "output_type": "stream",
     "text": [
      "Alice\n"
     ]
    },
    {
     "data": {
      "text/plain": [
       "undefined"
      ]
     },
     "execution_count": 2,
     "metadata": {},
     "output_type": "execute_result"
    }
   ],
   "source": [
    "\n",
    "Object.defineProperty(person, \"name\", {\n",
    "    value: \"Alice\",\n",
    "    writable: false,\n",
    "    enumerable: true,\n",
    "    configurable: false\n",
    "});\n",
    "\n",
    "console.log(person[\"name\"]); // \"Alice\"\n"
   ]
  },
  {
   "cell_type": "code",
   "execution_count": 6,
   "id": "7a06bb8b-ad87-4825-b7ef-76a96156ebdb",
   "metadata": {},
   "outputs": [
    {
     "data": {
      "text/plain": [
       "{ name: 'Alice' }"
      ]
     },
     "execution_count": 6,
     "metadata": {},
     "output_type": "execute_result"
    }
   ],
   "source": [
    "person"
   ]
  },
  {
   "cell_type": "markdown",
   "id": "78ea3f5a-c22a-441a-924b-20faee0524a2",
   "metadata": {},
   "source": [
    "## 프로퍼티 값을 변경했지만 내부적으로변경되지 않음"
   ]
  },
  {
   "cell_type": "code",
   "execution_count": 7,
   "id": "5f443514-82d5-474b-9cb9-a084afe9dc7b",
   "metadata": {},
   "outputs": [
    {
     "data": {
      "text/plain": [
       "'Bob'"
      ]
     },
     "execution_count": 7,
     "metadata": {},
     "output_type": "execute_result"
    }
   ],
   "source": [
    "person[\"name\"] = \"Bob\"; // 에러가 발생하지 않지만, 실제로는 변경되지 않음"
   ]
  },
  {
   "cell_type": "code",
   "execution_count": null,
   "id": "ea4b2b37-2e58-425b-8008-fe3e4a898922",
   "metadata": {},
   "outputs": [],
   "source": []
  },
  {
   "cell_type": "code",
   "execution_count": 8,
   "id": "6911ee2a-f3c6-40ec-9bc0-76aaf297adeb",
   "metadata": {},
   "outputs": [
    {
     "name": "stdout",
     "output_type": "stream",
     "text": [
      "Alice\n"
     ]
    },
    {
     "data": {
      "text/plain": [
       "undefined"
      ]
     },
     "execution_count": 8,
     "metadata": {},
     "output_type": "execute_result"
    }
   ],
   "source": [
    "console.log(person[\"name\"]); // \"Alice\""
   ]
  },
  {
   "cell_type": "code",
   "execution_count": null,
   "id": "6689df45-2cdb-439b-b421-7101b149c742",
   "metadata": {},
   "outputs": [],
   "source": []
  },
  {
   "cell_type": "markdown",
   "id": "b2176337-4a7d-4afc-a3c8-4e9937842855",
   "metadata": {},
   "source": [
    "## 변경되는 프로퍼티 지정"
   ]
  },
  {
   "cell_type": "code",
   "execution_count": 9,
   "id": "089d365e-57b7-4a95-a5bc-54c1a7fad1ba",
   "metadata": {},
   "outputs": [
    {
     "data": {
      "text/plain": [
       "{ name: 'Alice', age: 33 }"
      ]
     },
     "execution_count": 9,
     "metadata": {},
     "output_type": "execute_result"
    }
   ],
   "source": [
    "Object.defineProperty(person, \"age\", {\n",
    "    value: 33,\n",
    "    writable: true,\n",
    "    enumerable: true,\n",
    "    configurable: false\n",
    "});"
   ]
  },
  {
   "cell_type": "code",
   "execution_count": 10,
   "id": "89e2ff69-0a50-44eb-af48-208ba2ce0dfa",
   "metadata": {},
   "outputs": [
    {
     "data": {
      "text/plain": [
       "{ name: 'Alice', age: 33 }"
      ]
     },
     "execution_count": 10,
     "metadata": {},
     "output_type": "execute_result"
    }
   ],
   "source": [
    "person"
   ]
  },
  {
   "cell_type": "code",
   "execution_count": 11,
   "id": "77ea7f4a-ead6-4830-95c9-172ff4d08e16",
   "metadata": {},
   "outputs": [
    {
     "data": {
      "text/plain": [
       "999"
      ]
     },
     "execution_count": 11,
     "metadata": {},
     "output_type": "execute_result"
    }
   ],
   "source": [
    "person.age = 999;"
   ]
  },
  {
   "cell_type": "code",
   "execution_count": 12,
   "id": "96340d89-043c-479d-8c91-0ee239f5b301",
   "metadata": {},
   "outputs": [
    {
     "data": {
      "text/plain": [
       "{ name: 'Alice', age: 999 }"
      ]
     },
     "execution_count": 12,
     "metadata": {},
     "output_type": "execute_result"
    }
   ],
   "source": [
    "person"
   ]
  },
  {
   "cell_type": "code",
   "execution_count": null,
   "id": "07e8af70-aa14-49e9-91bb-838e7d45d037",
   "metadata": {},
   "outputs": [],
   "source": []
  }
 ],
 "metadata": {
  "kernelspec": {
   "display_name": "Typescript 4.9",
   "language": "typescript",
   "name": "typescript"
  },
  "language_info": {
   "file_extension": ".ts",
   "mimetype": "application/x-typescript",
   "name": "typescript",
   "version": "4.9.5"
  }
 },
 "nbformat": 4,
 "nbformat_minor": 5
}
