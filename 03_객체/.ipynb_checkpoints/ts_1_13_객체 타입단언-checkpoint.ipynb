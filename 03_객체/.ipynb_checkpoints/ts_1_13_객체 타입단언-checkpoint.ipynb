{
 "cells": [
  {
   "cell_type": "code",
   "execution_count": null,
   "id": "7c28ff47-26c6-43e9-bbf4-b825139da45b",
   "metadata": {},
   "outputs": [],
   "source": []
  },
  {
   "cell_type": "markdown",
   "id": "5d62f08f-df2e-48fc-8c9f-3c564028f90f",
   "metadata": {},
   "source": [
    "## 객체의 타입 단언 \n",
    "\n",
    "- (<타입> 객체)\n",
    "\n",
    "- (객체 AS 타입)   \n"
   ]
  },
  {
   "cell_type": "markdown",
   "id": "77b3a3f3-55f7-455d-b033-1ec2dbabfa49",
   "metadata": {},
   "source": [
    "## 객체를 할당하고 타입단언처리 "
   ]
  },
  {
   "cell_type": "code",
   "execution_count": 3,
   "id": "f60a54f3-f46a-4cc1-83ba-9451c8726225",
   "metadata": {},
   "outputs": [
    {
     "data": {
      "text/plain": [
       "undefined"
      ]
     },
     "execution_count": 3,
     "metadata": {},
     "output_type": "execute_result"
    }
   ],
   "source": [
    "let person: object = {name:'arima', age: 34};\n",
    "\n",
    "let xx = (person as {name:string}); //사용 권장 버전"
   ]
  },
  {
   "cell_type": "code",
   "execution_count": 2,
   "id": "9eb7aa11-1d68-49b9-b7c3-259b3d727702",
   "metadata": {},
   "outputs": [
    {
     "name": "stdout",
     "output_type": "stream",
     "text": [
      "arima\n",
      "34\n",
      "arima\n"
     ]
    },
    {
     "data": {
      "text/plain": [
       "undefined"
      ]
     },
     "execution_count": 2,
     "metadata": {},
     "output_type": "execute_result"
    }
   ],
   "source": [
    "console.log((<{name:string}>person).name)\n",
    "console.log((<{age:number}>person).age)\n",
    "console.log(xx.name) //사용 권장 버전"
   ]
  },
  {
   "cell_type": "code",
   "execution_count": null,
   "id": "2ac87f9a-d3f5-4b2e-8fed-145e0455e38f",
   "metadata": {},
   "outputs": [],
   "source": []
  },
  {
   "cell_type": "code",
   "execution_count": 3,
   "id": "cfb90cec-f380-44ea-a75d-5d40e9099fd9",
   "metadata": {},
   "outputs": [
    {
     "data": {
      "text/plain": [
       "undefined"
      ]
     },
     "execution_count": 3,
     "metadata": {},
     "output_type": "execute_result"
    }
   ],
   "source": [
    "type Person1 = {name: string;};"
   ]
  },
  {
   "cell_type": "code",
   "execution_count": 7,
   "id": "66a644ab-7125-4726-b2a5-e06c8c6ac95a",
   "metadata": {},
   "outputs": [
    {
     "data": {
      "text/plain": [
       "undefined"
      ]
     },
     "execution_count": 7,
     "metadata": {},
     "output_type": "execute_result"
    }
   ],
   "source": [
    "let xx11 = (person as Person1).name; "
   ]
  },
  {
   "cell_type": "code",
   "execution_count": 8,
   "id": "bc1c045e-f3f0-47da-aae9-873331c19cfb",
   "metadata": {},
   "outputs": [
    {
     "data": {
      "text/plain": [
       "'arima'"
      ]
     },
     "execution_count": 8,
     "metadata": {},
     "output_type": "execute_result"
    }
   ],
   "source": [
    "xx11"
   ]
  },
  {
   "cell_type": "code",
   "execution_count": 9,
   "id": "12cd2c8f-44a3-4886-b0dd-2124e6f37ac7",
   "metadata": {},
   "outputs": [
    {
     "ename": "Error",
     "evalue": "Line 1, Character 32\nlet xx21 = (person as Person1).age; \n_______________________________^\nTS2339: Property 'age' does not exist on type 'Person1'.",
     "execution_count": 9,
     "output_type": "error",
     "traceback": [
      "Error: Line 1, Character 32",
      "let xx21 = (person as Person1).age; ",
      "_______________________________^",
      "TS2339: Property 'age' does not exist on type 'Person1'.",
      "    at execTranspile (/usr/local/lib/node_modules/itypescript/lib/kernel.js:229:23)",
      "    at Session.transpiler [as transpile] (/usr/local/lib/node_modules/itypescript/lib/kernel.js:288:35)",
      "    at Session._runNow (/usr/local/lib/node_modules/itypescript/node_modules/nel/lib/nel.js:835:39)",
      "    at Session._run (/usr/local/lib/node_modules/itypescript/node_modules/nel/lib/nel.js:786:14)",
      "    at Session.execute (/usr/local/lib/node_modules/itypescript/node_modules/nel/lib/nel.js:929:10)",
      "    at Kernel.execute_request (/usr/local/lib/node_modules/itypescript/node_modules/jp-kernel/lib/handlers_v5.js:116:18)",
      "    at Kernel.onShellMessage (/usr/local/lib/node_modules/itypescript/node_modules/jp-kernel/lib/jp-kernel.js:285:41)",
      "    at Socket.<anonymous> (/usr/local/lib/node_modules/itypescript/node_modules/jmp/index.js:350:17)",
      "    at Socket.emit (node:events:513:28)",
      "    at Socket._emitMessage (/usr/local/lib/node_modules/itypescript/node_modules/zeromq/lib/index.js:649:15)"
     ]
    }
   ],
   "source": [
    "let xx21 = (person as Person1).age; "
   ]
  },
  {
   "cell_type": "markdown",
   "id": "f4fd0692-f00e-44bc-b1e2-6a0f5f34ae41",
   "metadata": {},
   "source": [
    "### 인터페이스로 처리 "
   ]
  },
  {
   "cell_type": "code",
   "execution_count": 1,
   "id": "3a36f95d-54d8-46ff-b547-f119540387b4",
   "metadata": {},
   "outputs": [
    {
     "data": {
      "text/plain": [
       "'use strict'"
      ]
     },
     "execution_count": 1,
     "metadata": {},
     "output_type": "execute_result"
    }
   ],
   "source": [
    "interface Person2 { \n",
    "    name: string;\n",
    "}"
   ]
  },
  {
   "cell_type": "code",
   "execution_count": 4,
   "id": "42325124-92ce-4c51-977b-ecce99c7f405",
   "metadata": {},
   "outputs": [
    {
     "data": {
      "text/plain": [
       "undefined"
      ]
     },
     "execution_count": 4,
     "metadata": {},
     "output_type": "execute_result"
    }
   ],
   "source": [
    "let xx22 = (person as Person2 ); "
   ]
  },
  {
   "cell_type": "code",
   "execution_count": 5,
   "id": "514b6531-88d9-4598-9131-3c335c6e8004",
   "metadata": {},
   "outputs": [
    {
     "data": {
      "text/plain": [
       "undefined"
      ]
     },
     "execution_count": 5,
     "metadata": {},
     "output_type": "execute_result"
    }
   ],
   "source": [
    "let xx23 = (person as Person2 ).name; "
   ]
  },
  {
   "cell_type": "code",
   "execution_count": 6,
   "id": "2bdb708a-7b2e-4312-b19c-5788d60a4308",
   "metadata": {},
   "outputs": [
    {
     "ename": "Error",
     "evalue": "Line 1, Character 33\nlet xx24 = (person as Person2 ).age; \n________________________________^\nTS2339: Property 'age' does not exist on type 'Person2'.",
     "execution_count": 6,
     "output_type": "error",
     "traceback": [
      "Error: Line 1, Character 33",
      "let xx24 = (person as Person2 ).age; ",
      "________________________________^",
      "TS2339: Property 'age' does not exist on type 'Person2'.",
      "    at execTranspile (/usr/local/lib/node_modules/itypescript/lib/kernel.js:229:23)",
      "    at Session.transpiler [as transpile] (/usr/local/lib/node_modules/itypescript/lib/kernel.js:288:35)",
      "    at Session._runNow (/usr/local/lib/node_modules/itypescript/node_modules/nel/lib/nel.js:835:39)",
      "    at Session._run (/usr/local/lib/node_modules/itypescript/node_modules/nel/lib/nel.js:786:14)",
      "    at Session.execute (/usr/local/lib/node_modules/itypescript/node_modules/nel/lib/nel.js:929:10)",
      "    at Kernel.execute_request (/usr/local/lib/node_modules/itypescript/node_modules/jp-kernel/lib/handlers_v5.js:116:18)",
      "    at Kernel.onShellMessage (/usr/local/lib/node_modules/itypescript/node_modules/jp-kernel/lib/jp-kernel.js:285:41)",
      "    at Socket.<anonymous> (/usr/local/lib/node_modules/itypescript/node_modules/jmp/index.js:350:17)",
      "    at Socket.emit (node:events:513:28)",
      "    at Socket._emitMessage (/usr/local/lib/node_modules/itypescript/node_modules/zeromq/lib/index.js:649:15)"
     ]
    }
   ],
   "source": [
    "let xx24 = (person as Person2 ).age; "
   ]
  },
  {
   "cell_type": "code",
   "execution_count": null,
   "id": "6d33115e-d2a9-4c2f-9219-47d002b812b9",
   "metadata": {},
   "outputs": [],
   "source": []
  }
 ],
 "metadata": {
  "kernelspec": {
   "display_name": "Typescript 4.9",
   "language": "typescript",
   "name": "typescript"
  },
  "language_info": {
   "file_extension": ".ts",
   "mimetype": "application/x-typescript",
   "name": "typescript",
   "version": "4.9.5"
  }
 },
 "nbformat": 4,
 "nbformat_minor": 5
}
