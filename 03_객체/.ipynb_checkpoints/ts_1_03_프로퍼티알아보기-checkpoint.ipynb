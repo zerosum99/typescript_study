{
 "cells": [
  {
   "cell_type": "code",
   "execution_count": null,
   "id": "cdc5705a-2c1f-419a-bb72-1eb4a1b73c1b",
   "metadata": {},
   "outputs": [],
   "source": []
  },
  {
   "cell_type": "markdown",
   "id": "301d4672-16a0-450c-b8ec-9d0f2765c7a7",
   "metadata": {},
   "source": [
    "## 타입스크립트에서 객체(Object)는 프로퍼티(Property)들의 집합입니다. \n",
    "- 객체는 프로퍼티들의 이름과 값으로 이루어져 있으며, 객체는 다양한 형태의 데이터를 표현하고 저장하는 데 사용됩니다."
   ]
  },
  {
   "cell_type": "markdown",
   "id": "70f72133-ad24-4403-8ad3-65f0d803af3f",
   "metadata": {},
   "source": [
    "## 속성과 프로퍼티의 차이점\n",
    "\n",
    "- 속성은 필드로 직접 값을 접근한다.\n",
    "- 프로퍼티는 getter/setter 메서드로 값을 접근한다.\n",
    "- 프로퍼티는 필드처럼 이름으로 접근해서 속성과 유사하게 처리"
   ]
  },
  {
   "cell_type": "markdown",
   "id": "d9cb585c-2b93-49ac-8d45-1316b1660964",
   "metadata": {},
   "source": [
    "## 1-1 객체 생성하는 방법 \n",
    "\n",
    "- 객체는 다양한 방법으로 정의하고 생성할 수 있습니다. \n",
    "- 또한 객체의 프로퍼티에 접근하거나 수정하는 것도 가능합니다.\n",
    "- 타입스크립트는 객체의 타입 안정성을 확보하기 위해 타입 검사를 수행하므로, 잘못된 타입의 값을 할당하는 것을 방지하고 코드의 안정성을 높일 수 있습니다."
   ]
  },
  {
   "cell_type": "code",
   "execution_count": null,
   "id": "22bf1ce6-f76d-4aed-a72e-191eb168d7aa",
   "metadata": {},
   "outputs": [],
   "source": []
  },
  {
   "cell_type": "markdown",
   "id": "1c37f005-2666-452e-94ec-a8d13b2ccbb9",
   "metadata": {},
   "source": [
    "## 객체 타입 정의 및 초기값 입력\n",
    "\n",
    "- 객체 타입은 값에 자료형이 들어감\n",
    "- 객체 자료형과 값을 같이 넣을 경우는 동일한 속성을 가지고 있어야 함 "
   ]
  },
  {
   "cell_type": "code",
   "execution_count": 1,
   "id": "409abbdf-a91f-4e7d-8876-7bb054c581c9",
   "metadata": {},
   "outputs": [
    {
     "data": {
      "text/plain": [
       "'use strict'"
      ]
     },
     "execution_count": 1,
     "metadata": {},
     "output_type": "execute_result"
    }
   ],
   "source": [
    "const person: { name: string; age: number } = {\n",
    "    name: \"Alice\",\n",
    "    age: 30\n",
    "};\n"
   ]
  },
  {
   "cell_type": "code",
   "execution_count": null,
   "id": "d5a1b5b5-7ab1-4cc0-a4f0-5908a2921d5c",
   "metadata": {},
   "outputs": [],
   "source": []
  },
  {
   "cell_type": "markdown",
   "id": "26768744-1979-497f-a325-7f24ab228672",
   "metadata": {},
   "source": [
    "## 인터페이스에 의한 객체 정의 \n",
    "\n",
    "- 타입스크립트 자료형은 타입별칭과 인터페이스를 전부 사용이 가능\n",
    "-  인터페이스프를 정의할 때 세미콜론을 사용해서 정의 가능 "
   ]
  },
  {
   "cell_type": "code",
   "execution_count": 1,
   "id": "51f2a669-e8ab-4c8f-abc8-4dcb07254bdc",
   "metadata": {},
   "outputs": [
    {
     "data": {
      "text/plain": [
       "'use strict'"
      ]
     },
     "execution_count": 1,
     "metadata": {},
     "output_type": "execute_result"
    }
   ],
   "source": [
    "interface Person1 {\n",
    "    name: string;\n",
    "    age: number;\n",
    "}\n",
    "\n",
    "const person1: Person1 = {\n",
    "    name: \"Alice\",\n",
    "    age: 30\n",
    "};\n"
   ]
  },
  {
   "cell_type": "code",
   "execution_count": null,
   "id": "96d7378f-d907-4c84-8c46-d7de17154155",
   "metadata": {},
   "outputs": [],
   "source": []
  },
  {
   "cell_type": "markdown",
   "id": "5931927e-8d22-4ef9-b09b-ae6593fd714c",
   "metadata": {},
   "source": [
    "## 타입별칭에 의한 객체 정의 "
   ]
  },
  {
   "cell_type": "code",
   "execution_count": 2,
   "id": "52d05a13-1f6c-4806-9a0c-f7d7b4947a3f",
   "metadata": {},
   "outputs": [
    {
     "data": {
      "text/plain": [
       "undefined"
      ]
     },
     "execution_count": 2,
     "metadata": {},
     "output_type": "execute_result"
    }
   ],
   "source": [
    "type Person3 = {\n",
    "    name: string;\n",
    "    age: number;\n",
    "};\n",
    "\n",
    "const person3: Person3 = {\n",
    "    name: \"Alice\",\n",
    "    age: 30\n",
    "};\n"
   ]
  },
  {
   "cell_type": "code",
   "execution_count": null,
   "id": "bc506992-edbb-4a45-b69f-0ba4fec90df3",
   "metadata": {},
   "outputs": [],
   "source": []
  },
  {
   "cell_type": "markdown",
   "id": "f674ec95-c8c4-4f61-a004-9f822b56feb2",
   "metadata": {},
   "source": [
    "## 클래스 정의로 객체 생성 \n",
    "\n",
    "-  클래스를 정의해도 자료형\n",
    "-  생성자에 접근제한자를 사용하면 매개변수가 속성으로 인식한다."
   ]
  },
  {
   "cell_type": "code",
   "execution_count": 3,
   "id": "3040486a-ee2c-4ca7-9bfd-dd4e442ae92e",
   "metadata": {},
   "outputs": [
    {
     "data": {
      "text/plain": [
       "undefined"
      ]
     },
     "execution_count": 3,
     "metadata": {},
     "output_type": "execute_result"
    }
   ],
   "source": [
    "class Person5 {\n",
    "    constructor(public name: string, public age: number) {}\n",
    "}\n",
    "\n",
    "const person5: Person5 = new Person5(\"Alice\", 30);\n"
   ]
  },
  {
   "cell_type": "code",
   "execution_count": null,
   "id": "3a7f4477-e6e6-415f-a5c5-90d0fe34c12f",
   "metadata": {},
   "outputs": [],
   "source": []
  },
  {
   "cell_type": "markdown",
   "id": "c977aca7-5849-42e6-b57b-d46303a97e29",
   "metadata": {},
   "source": [
    "## 1-2 프로퍼티 사용하기 : 객체 접근 및 추가 \n",
    "\n",
    "- 점연산자, 인덱스 검색연산자를 사용해서 객체 내의 속성에 접근할 수 있다. "
   ]
  },
  {
   "cell_type": "code",
   "execution_count": null,
   "id": "f3862497-031d-4496-b7e9-bc2ea418efaf",
   "metadata": {},
   "outputs": [],
   "source": []
  },
  {
   "cell_type": "markdown",
   "id": "a1625ffd-af04-4ab1-aef7-954d761b73d6",
   "metadata": {},
   "source": [
    "## 점 접근을 통한 조회 및 갱신 \n",
    "\n",
    "- 객체를 생성할 때 프로퍼티와 값으로 구성\n",
    "- 실제 내부적으로는 getter/setter가 구성됨 "
   ]
  },
  {
   "cell_type": "code",
   "execution_count": 5,
   "id": "887948a3-3320-4203-bc91-338349d33ac4",
   "metadata": {},
   "outputs": [
    {
     "name": "stdout",
     "output_type": "stream",
     "text": [
      "Alice\n",
      "31\n"
     ]
    },
    {
     "data": {
      "text/plain": [
       "undefined"
      ]
     },
     "execution_count": 5,
     "metadata": {},
     "output_type": "execute_result"
    }
   ],
   "source": [
    "const person6 = {\n",
    "    name: \"Alice\",\n",
    "    age: 30\n",
    "};\n",
    "\n",
    "console.log(person6.name); // 식별자는 점연산자로 접근 \n",
    "person6.age = 31;          // 갱신도 가능 \n",
    "console.log(person6.age);"
   ]
  },
  {
   "cell_type": "code",
   "execution_count": null,
   "id": "f976471f-cfa2-4038-a7f2-aac4c1d812ef",
   "metadata": {},
   "outputs": [],
   "source": []
  },
  {
   "cell_type": "markdown",
   "id": "81232344-41f1-4dcd-a866-6d208aa5d1c1",
   "metadata": {},
   "source": [
    "### 객체에서의 함수 접근 "
   ]
  },
  {
   "cell_type": "code",
   "execution_count": 7,
   "id": "32e93fce-1e72-4918-9c56-f18b7d6e9615",
   "metadata": {},
   "outputs": [
    {
     "data": {
      "text/plain": [
       "undefined"
      ]
     },
     "execution_count": 7,
     "metadata": {},
     "output_type": "execute_result"
    }
   ],
   "source": [
    "const calculator = {\n",
    "    add: (a: number, b: number) => a + b,\n",
    "    subtract: (a: number, b: number) => a - b\n",
    "};\n",
    "\n",
    "const result = calculator.add(5, 3); // 8\n"
   ]
  },
  {
   "cell_type": "code",
   "execution_count": null,
   "id": "99942649-22a4-4b12-80c2-1f5afe7beb3d",
   "metadata": {},
   "outputs": [],
   "source": []
  },
  {
   "cell_type": "code",
   "execution_count": null,
   "id": "9ffa51fb-2bd7-47e0-babb-4ac81f416574",
   "metadata": {},
   "outputs": [],
   "source": []
  },
  {
   "cell_type": "code",
   "execution_count": null,
   "id": "f1ec4ac6-55a8-4b01-b432-9663f0a2f8a0",
   "metadata": {},
   "outputs": [],
   "source": []
  },
  {
   "cell_type": "code",
   "execution_count": null,
   "id": "a908deb4-54d7-49fb-81be-d90dec10d40b",
   "metadata": {},
   "outputs": [],
   "source": []
  },
  {
   "cell_type": "markdown",
   "id": "021d6737-1877-4cec-8824-bd59336762f6",
   "metadata": {},
   "source": [
    "## 1-3 선택적 속성을 사용해서 다양한 속성을 수용하는 객체 만들기  \n",
    "\n",
    "- 타입스크립트에서 객체의 선택적 속성을 정의하기 위해 ? 기호를 사용합니다.\n",
    "- 선택적 속성은 객체 내의 프로퍼티 중 일부가 필수적이지 않고 있을 수 있음을 나타"
   ]
  },
  {
   "cell_type": "code",
   "execution_count": null,
   "id": "46ff326a-d30f-4d4a-8202-bebc6d2041a3",
   "metadata": {},
   "outputs": [],
   "source": []
  },
  {
   "cell_type": "code",
   "execution_count": 2,
   "id": "b6b3d372-2bb9-4803-b589-61ac4ce6eec4",
   "metadata": {},
   "outputs": [
    {
     "data": {
      "text/plain": [
       "undefined"
      ]
     },
     "execution_count": 2,
     "metadata": {},
     "output_type": "execute_result"
    }
   ],
   "source": [
    "type Person12 = {\n",
    "    name: string;\n",
    "    age?: number; // 선택적 속성\n",
    "};\n",
    "\n",
    "const person121: Person12 = {\n",
    "    name: \"Alice\"\n",
    "};\n",
    "\n",
    "const person122: Person12 = {\n",
    "    name: \"Bob\",\n",
    "    age: 25\n",
    "};\n"
   ]
  },
  {
   "cell_type": "code",
   "execution_count": null,
   "id": "2a293632-ac9c-4be9-b91e-1d808d7fbf4c",
   "metadata": {},
   "outputs": [],
   "source": []
  },
  {
   "cell_type": "code",
   "execution_count": null,
   "id": "0ad718b6-a3a0-4f73-a386-845a1c612ffc",
   "metadata": {},
   "outputs": [],
   "source": []
  },
  {
   "cell_type": "code",
   "execution_count": null,
   "id": "20836d11-bb8f-41db-bff7-215a7a474220",
   "metadata": {},
   "outputs": [],
   "source": []
  },
  {
   "cell_type": "code",
   "execution_count": null,
   "id": "240ed8ba-ebc9-4cbe-965d-510e2639a3fa",
   "metadata": {},
   "outputs": [],
   "source": []
  },
  {
   "cell_type": "code",
   "execution_count": null,
   "id": "13ddd198-3a73-4d03-a2a3-182c3efe7fc8",
   "metadata": {},
   "outputs": [],
   "source": []
  }
 ],
 "metadata": {
  "kernelspec": {
   "display_name": "Typescript 4.9",
   "language": "typescript",
   "name": "typescript"
  },
  "language_info": {
   "file_extension": ".ts",
   "mimetype": "application/x-typescript",
   "name": "typescript",
   "version": "4.9.5"
  }
 },
 "nbformat": 4,
 "nbformat_minor": 5
}
