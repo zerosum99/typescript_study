{
 "cells": [
  {
   "cell_type": "code",
   "execution_count": null,
   "id": "6369a200-ed28-41a0-b39c-9fa2d682821a",
   "metadata": {},
   "outputs": [],
   "source": []
  },
  {
   "cell_type": "code",
   "execution_count": null,
   "id": "0b3bedc3-10ed-4460-8cba-5784c7e42d27",
   "metadata": {},
   "outputs": [],
   "source": []
  },
  {
   "cell_type": "markdown",
   "id": "c56f3c01-04c5-4ade-93b9-646c27b93ff0",
   "metadata": {},
   "source": [
    "## 1. 객체 타입 유니온"
   ]
  },
  {
   "cell_type": "code",
   "execution_count": null,
   "id": "624d2cf3-63df-4ae4-9740-a2f920d8ff1d",
   "metadata": {},
   "outputs": [],
   "source": []
  },
  {
   "cell_type": "markdown",
   "id": "19bdb922-174b-4e97-ab51-e2c7da705b01",
   "metadata": {},
   "source": [
    "### 1-1 암묵적 객체 유니온(Implicit Object Unions)\n",
    "- TypeScript에서 여러 객체를 하나의 유니온 타입으로 결합하는 것을 말합니다. \n",
    "- TypeScript 컴파일러가 객체의 유니온 타입을 암묵적으로 유추하고 처리하는 것을 의미합니다."
   ]
  },
  {
   "cell_type": "markdown",
   "id": "3f3c95b1-89a9-478b-89ec-e34c827ce455",
   "metadata": {},
   "source": [
    "### 함수 매개변수의 인자를 객체로 받음 \n",
    "- 이 객체 내의 속성이 유니온 타입 처리 "
   ]
  },
  {
   "cell_type": "code",
   "execution_count": 1,
   "id": "e7f48113-91c2-4287-acc5-61bb5cbd1f7f",
   "metadata": {},
   "outputs": [
    {
     "data": {
      "text/plain": [
       "'use strict'"
      ]
     },
     "execution_count": 1,
     "metadata": {},
     "output_type": "execute_result"
    }
   ],
   "source": [
    "function printValue(obj: { value: string | number }) {\n",
    "    console.log(obj.value);\n",
    "}\n",
    "\n",
    "const obj1 = { value: \"hello\" };\n",
    "const obj2 = { value: 42 };\n"
   ]
  },
  {
   "cell_type": "code",
   "execution_count": 2,
   "id": "f325a70f-a824-4a88-92ff-927f7830ac84",
   "metadata": {},
   "outputs": [
    {
     "name": "stdout",
     "output_type": "stream",
     "text": [
      "hello\n",
      "42\n"
     ]
    },
    {
     "data": {
      "text/plain": [
       "undefined"
      ]
     },
     "execution_count": 2,
     "metadata": {},
     "output_type": "execute_result"
    }
   ],
   "source": [
    "printValue(obj1); // \"hello\"\n",
    "printValue(obj2); // 42"
   ]
  },
  {
   "cell_type": "code",
   "execution_count": null,
   "id": "1d9a2f97-d9c6-4c89-b0a4-ef84150eae7f",
   "metadata": {},
   "outputs": [],
   "source": []
  },
  {
   "cell_type": "markdown",
   "id": "10726566-89fc-4fca-a5cb-3536b546ea16",
   "metadata": {},
   "source": [
    "## 변수에 객체 타입을 암묵적으로 처리 "
   ]
  },
  {
   "cell_type": "code",
   "execution_count": null,
   "id": "5f7cd7f4-b34d-49ea-ac5b-1668441b9dbd",
   "metadata": {},
   "outputs": [],
   "source": []
  },
  {
   "cell_type": "code",
   "execution_count": 4,
   "id": "a60d392e-00b5-46ea-b628-ec4ddcf0ab79",
   "metadata": {},
   "outputs": [
    {
     "data": {
      "text/plain": [
       "undefined"
      ]
     },
     "execution_count": 4,
     "metadata": {},
     "output_type": "execute_result"
    }
   ],
   "source": [
    "const poem = Math.random() > 0.5 \n",
    "            ? { name : \"강아지\", page : 7 } \n",
    "            : { name : \" 우도지 \", rhymes: true };"
   ]
  },
  {
   "cell_type": "code",
   "execution_count": 5,
   "id": "acadc53e-c6b9-4bc3-88c8-8d9877c68468",
   "metadata": {},
   "outputs": [
    {
     "data": {
      "text/plain": [
       "{ name: '강아지', page: 7 }"
      ]
     },
     "execution_count": 5,
     "metadata": {},
     "output_type": "execute_result"
    }
   ],
   "source": [
    "poem"
   ]
  },
  {
   "cell_type": "code",
   "execution_count": 6,
   "id": "0add3eaa-c2ef-4b4c-b148-8f78c77ad07b",
   "metadata": {},
   "outputs": [
    {
     "data": {
      "text/plain": [
       "'강아지'"
      ]
     },
     "execution_count": 6,
     "metadata": {},
     "output_type": "execute_result"
    }
   ],
   "source": [
    "poem.name"
   ]
  },
  {
   "cell_type": "code",
   "execution_count": 7,
   "id": "40b18998-13f5-410d-ac3b-53183edecec0",
   "metadata": {},
   "outputs": [
    {
     "data": {
      "text/plain": [
       "7"
      ]
     },
     "execution_count": 7,
     "metadata": {},
     "output_type": "execute_result"
    }
   ],
   "source": [
    "poem.page          // number | undefined"
   ]
  },
  {
   "cell_type": "code",
   "execution_count": 9,
   "id": "8059bb1c-a270-437c-9827-52ca02a9b6f5",
   "metadata": {},
   "outputs": [
    {
     "data": {
      "text/plain": [
       "undefined"
      ]
     },
     "execution_count": 9,
     "metadata": {},
     "output_type": "execute_result"
    }
   ],
   "source": [
    "poem.rhymes        // booleans : undefined"
   ]
  },
  {
   "cell_type": "code",
   "execution_count": null,
   "id": "bd9a2303-d6a2-4c83-a1c0-62ef64158b1f",
   "metadata": {},
   "outputs": [],
   "source": []
  },
  {
   "cell_type": "markdown",
   "id": "d04e294e-c8f3-4308-89fe-6e02100efe44",
   "metadata": {},
   "source": [
    "## 1-2 명시적 객체 유니온(Explicit Object Unions)\n",
    " - TypeScript에서 여러 객체를 명시적으로 유니온 타입으로 결합하는 것을 의미합니다. \n",
    "- 이는 객체들의 타입이 명확하게 선언되어 있으며, 컴파일러가 객체 유니온 타입을 추론하지 않고 개발자가 직접 지정하는 상황을 나타냅니다."
   ]
  },
  {
   "cell_type": "markdown",
   "id": "dac2e504-e2d4-429d-bdba-c88648aace20",
   "metadata": {},
   "source": [
    "## 동일한 속성에 다른 자료형을 가지 경우 처리 "
   ]
  },
  {
   "cell_type": "code",
   "execution_count": 10,
   "id": "26aaeb0b-6911-4e8e-be2c-1c0515256ba1",
   "metadata": {},
   "outputs": [
    {
     "data": {
      "text/plain": [
       "undefined"
      ]
     },
     "execution_count": 10,
     "metadata": {},
     "output_type": "execute_result"
    }
   ],
   "source": [
    "type StringObj = { value: string };\n",
    "type NumberObj = { value: number };\n"
   ]
  },
  {
   "cell_type": "code",
   "execution_count": 11,
   "id": "452f6819-a276-488a-bd47-f21c4edb17b2",
   "metadata": {},
   "outputs": [
    {
     "data": {
      "text/plain": [
       "undefined"
      ]
     },
     "execution_count": 11,
     "metadata": {},
     "output_type": "execute_result"
    }
   ],
   "source": [
    "function printValue1(obj: StringObj | NumberObj) {\n",
    "    console.log(obj.value);\n",
    "}\n",
    "\n",
    "const obj11: StringObj = { value: \"hello\" };\n",
    "const obj12: NumberObj = { value: 42 };"
   ]
  },
  {
   "cell_type": "code",
   "execution_count": 12,
   "id": "318aff02-84fd-4947-bc7a-22977d14e7ba",
   "metadata": {},
   "outputs": [
    {
     "name": "stdout",
     "output_type": "stream",
     "text": [
      "hello\n",
      "42\n"
     ]
    },
    {
     "data": {
      "text/plain": [
       "undefined"
      ]
     },
     "execution_count": 12,
     "metadata": {},
     "output_type": "execute_result"
    }
   ],
   "source": [
    "printValue1(obj11); // \"hello\"\n",
    "printValue1(obj12); // 42"
   ]
  },
  {
   "cell_type": "code",
   "execution_count": null,
   "id": "712a3ec3-81d8-4368-8c95-fc1ed5514a86",
   "metadata": {},
   "outputs": [],
   "source": []
  },
  {
   "cell_type": "markdown",
   "id": "187452cb-95f5-42cc-a56e-a9f69394fbdf",
   "metadata": {},
   "source": [
    "## 여러 속성을 가지는 명시적인 처리 "
   ]
  },
  {
   "cell_type": "code",
   "execution_count": null,
   "id": "669c3e6b-d4f3-43b0-b19e-8e738b95bfdd",
   "metadata": {},
   "outputs": [],
   "source": []
  },
  {
   "cell_type": "code",
   "execution_count": 13,
   "id": "3895912b-f894-4b3d-b820-69d32c73c71a",
   "metadata": {},
   "outputs": [
    {
     "data": {
      "text/plain": [
       "undefined"
      ]
     },
     "execution_count": 13,
     "metadata": {},
     "output_type": "execute_result"
    }
   ],
   "source": [
    "type PWP = {\n",
    "    name : string;\n",
    "    pages : number;\n",
    "};"
   ]
  },
  {
   "cell_type": "code",
   "execution_count": 14,
   "id": "884e5dc1-0947-446a-93fa-1962f2440e69",
   "metadata": {},
   "outputs": [
    {
     "data": {
      "text/plain": [
       "undefined"
      ]
     },
     "execution_count": 14,
     "metadata": {},
     "output_type": "execute_result"
    }
   ],
   "source": [
    "type PWR = {\n",
    "    name : string;\n",
    "    rhymes : boolean;\n",
    "};"
   ]
  },
  {
   "cell_type": "code",
   "execution_count": 15,
   "id": "71aa20c5-eb77-4e0d-8a6f-3cada0971340",
   "metadata": {},
   "outputs": [
    {
     "data": {
      "text/plain": [
       "undefined"
      ]
     },
     "execution_count": 15,
     "metadata": {},
     "output_type": "execute_result"
    }
   ],
   "source": [
    "type Poem1 = PWP | PWR;"
   ]
  },
  {
   "cell_type": "code",
   "execution_count": 16,
   "id": "ab2c137e-bbeb-4010-af5a-bd10bdb3d6af",
   "metadata": {},
   "outputs": [
    {
     "data": {
      "text/plain": [
       "undefined"
      ]
     },
     "execution_count": 16,
     "metadata": {},
     "output_type": "execute_result"
    }
   ],
   "source": [
    "const poem1 : Poem1 = Math.random() > 0.5 \n",
    "                      ? { name:\"소나기\", pages:7}\n",
    "                    :    {name:\"태평천국\", rhymes: true };"
   ]
  },
  {
   "cell_type": "code",
   "execution_count": 18,
   "id": "9dde32ae-7255-4538-b7b6-efd928b4c1b8",
   "metadata": {},
   "outputs": [
    {
     "data": {
      "text/plain": [
       "'소나기'"
      ]
     },
     "execution_count": 18,
     "metadata": {},
     "output_type": "execute_result"
    }
   ],
   "source": [
    "poem1.name"
   ]
  },
  {
   "cell_type": "code",
   "execution_count": null,
   "id": "5aaada65-ba24-4a3e-bfa8-82909bec7b23",
   "metadata": {},
   "outputs": [],
   "source": []
  },
  {
   "cell_type": "code",
   "execution_count": 19,
   "id": "aad82870-9b43-4bf2-89c8-7fd876130a7b",
   "metadata": {},
   "outputs": [
    {
     "ename": "Error",
     "evalue": "Line 1, Character 7\npoem1.pages\n______^\nTS2339: Property 'pages' does not exist on type 'Poem1'.\n  Property 'pages' does not exist on type 'PWR'.",
     "execution_count": 19,
     "output_type": "error",
     "traceback": [
      "Error: Line 1, Character 7",
      "poem1.pages",
      "______^",
      "TS2339: Property 'pages' does not exist on type 'Poem1'.",
      "  Property 'pages' does not exist on type 'PWR'.",
      "    at execTranspile (/usr/local/lib/node_modules/itypescript/lib/kernel.js:229:23)",
      "    at Session.transpiler [as transpile] (/usr/local/lib/node_modules/itypescript/lib/kernel.js:288:35)",
      "    at Session._runNow (/usr/local/lib/node_modules/itypescript/node_modules/nel/lib/nel.js:835:39)",
      "    at Session._run (/usr/local/lib/node_modules/itypescript/node_modules/nel/lib/nel.js:786:14)",
      "    at Session.execute (/usr/local/lib/node_modules/itypescript/node_modules/nel/lib/nel.js:929:10)",
      "    at Kernel.execute_request (/usr/local/lib/node_modules/itypescript/node_modules/jp-kernel/lib/handlers_v5.js:116:18)",
      "    at Kernel.onShellMessage (/usr/local/lib/node_modules/itypescript/node_modules/jp-kernel/lib/jp-kernel.js:285:41)",
      "    at Socket.<anonymous> (/usr/local/lib/node_modules/itypescript/node_modules/jmp/index.js:350:17)",
      "    at Socket.emit (node:events:513:28)",
      "    at Socket._emitMessage (/usr/local/lib/node_modules/itypescript/node_modules/zeromq/lib/index.js:649:15)"
     ]
    }
   ],
   "source": [
    "poem1.pages"
   ]
  },
  {
   "cell_type": "code",
   "execution_count": 20,
   "id": "7641e343-4f68-495d-b367-81b1b9dec6d9",
   "metadata": {},
   "outputs": [
    {
     "ename": "Error",
     "evalue": "Line 1, Character 7\npoem1.rhymes\n______^\nTS2339: Property 'rhymes' does not exist on type 'Poem1'.\n  Property 'rhymes' does not exist on type 'PWP'.",
     "execution_count": 20,
     "output_type": "error",
     "traceback": [
      "Error: Line 1, Character 7",
      "poem1.rhymes",
      "______^",
      "TS2339: Property 'rhymes' does not exist on type 'Poem1'.",
      "  Property 'rhymes' does not exist on type 'PWP'.",
      "    at execTranspile (/usr/local/lib/node_modules/itypescript/lib/kernel.js:229:23)",
      "    at Session.transpiler [as transpile] (/usr/local/lib/node_modules/itypescript/lib/kernel.js:288:35)",
      "    at Session._runNow (/usr/local/lib/node_modules/itypescript/node_modules/nel/lib/nel.js:835:39)",
      "    at Session._run (/usr/local/lib/node_modules/itypescript/node_modules/nel/lib/nel.js:786:14)",
      "    at Session.execute (/usr/local/lib/node_modules/itypescript/node_modules/nel/lib/nel.js:929:10)",
      "    at Kernel.execute_request (/usr/local/lib/node_modules/itypescript/node_modules/jp-kernel/lib/handlers_v5.js:116:18)",
      "    at Kernel.onShellMessage (/usr/local/lib/node_modules/itypescript/node_modules/jp-kernel/lib/jp-kernel.js:285:41)",
      "    at Socket.<anonymous> (/usr/local/lib/node_modules/itypescript/node_modules/jmp/index.js:350:17)",
      "    at Socket.emit (node:events:513:28)",
      "    at Socket._emitMessage (/usr/local/lib/node_modules/itypescript/node_modules/zeromq/lib/index.js:649:15)"
     ]
    }
   ],
   "source": [
    "poem1.rhymes"
   ]
  },
  {
   "cell_type": "code",
   "execution_count": null,
   "id": "0bbe8dd8-48e6-4ee3-b5ad-e5e4ab1799e2",
   "metadata": {},
   "outputs": [],
   "source": []
  },
  {
   "cell_type": "markdown",
   "id": "63b3d04f-98b2-454c-9ee8-70024eb1f195",
   "metadata": {},
   "source": [
    "## 2 객체 타입 내로잉 "
   ]
  },
  {
   "cell_type": "code",
   "execution_count": null,
   "id": "f542d381-2da2-48d8-952f-6949d6b199da",
   "metadata": {},
   "outputs": [],
   "source": []
  },
  {
   "cell_type": "markdown",
   "id": "81009665-4fb3-4150-8d33-63f064ae96ab",
   "metadata": {},
   "source": [
    "## 2-1 \"객체 내로잉(Object Narrowing)\" \n",
    "    \n",
    "- TypeScript에서 특정 조건 하에서 객체의 타입을 더 구체적으로 좁히는 과정을 말합니다. \n",
    "- 이는 타입 가드와 조건문을 사용하여 객체의 프로퍼티를 검사하고, 프로퍼티의 값이 특정 조건을 만족할 때 해당 객체의 타입을 더 구체적으로 제한하는 것을 의미합니다."
   ]
  },
  {
   "cell_type": "markdown",
   "id": "f5a9a1f8-4ab1-4805-80e2-1b89230bb3bb",
   "metadata": {},
   "source": [
    "## 타입을 지정하기 "
   ]
  },
  {
   "cell_type": "code",
   "execution_count": 1,
   "id": "49fdcb71-e66b-4636-8324-e867cd3d6229",
   "metadata": {},
   "outputs": [
    {
     "data": {
      "text/plain": [
       "'use strict'"
      ]
     },
     "execution_count": 1,
     "metadata": {},
     "output_type": "execute_result"
    }
   ],
   "source": [
    "type Circle = { shape: \"circle\"; radius: number };\n",
    "type Square = { shape: \"square\"; sideLength: number };\n"
   ]
  },
  {
   "cell_type": "markdown",
   "id": "a864c9bd-bf17-49e2-acfd-61d6f420d2b4",
   "metadata": {},
   "source": [
    "## 유니언타입 매개변수를 사용할 때 내로잉 처리\n",
    "\n",
    "- 유니언 타압에서 접근할 때는 두 타입의 공통된 속성만 처리 \n",
    "- 그래서 각 타입의 특화된 것을 처리할 경우는 타입가드를 통해 내로잉 처리"
   ]
  },
  {
   "cell_type": "code",
   "execution_count": 3,
   "id": "bdaa12ca-e00c-4ceb-a391-88b7dc9126e0",
   "metadata": {},
   "outputs": [
    {
     "data": {
      "text/plain": [
       "undefined"
      ]
     },
     "execution_count": 3,
     "metadata": {},
     "output_type": "execute_result"
    }
   ],
   "source": [
    "function calculateArea(shape: Circle | Square) {\n",
    "    if (shape.shape === \"circle\") {\n",
    "        // 객체 내로잉: shape이 \"circle\"인 경우, Circle 타입으로 타입을 좁힘\n",
    "        return Math.PI * shape.radius * shape.radius;\n",
    "    } else {\n",
    "        // 객체 내로잉: shape이 \"square\"인 경우, Square 타입으로 타입을 좁힘\n",
    "        return shape.sideLength * shape.sideLength;\n",
    "    }\n",
    "}"
   ]
  },
  {
   "cell_type": "code",
   "execution_count": 4,
   "id": "b7226c20-a3f3-4c24-91a0-e645c5bd650a",
   "metadata": {},
   "outputs": [
    {
     "data": {
      "text/plain": [
       "31415.926535897932"
      ]
     },
     "execution_count": 4,
     "metadata": {},
     "output_type": "execute_result"
    }
   ],
   "source": [
    "calculateArea({shape : \"circle\", radius: 100});"
   ]
  },
  {
   "cell_type": "markdown",
   "id": "9e54f307-6ae0-4b65-8dcc-b87bc5c6d516",
   "metadata": {},
   "source": [
    "## 타입을 정의 "
   ]
  },
  {
   "cell_type": "code",
   "execution_count": 5,
   "id": "3471cf8f-a21f-4014-bab2-f7b661bf57ab",
   "metadata": {},
   "outputs": [
    {
     "data": {
      "text/plain": [
       "undefined"
      ]
     },
     "execution_count": 5,
     "metadata": {},
     "output_type": "execute_result"
    }
   ],
   "source": [
    "type Point = { x: number; y: number };\n",
    "type Size = { width: number; height: number };\n"
   ]
  },
  {
   "cell_type": "markdown",
   "id": "1de13f6f-b045-4560-b82a-223d9d94ee6d",
   "metadata": {},
   "source": [
    "## 함수 정의 "
   ]
  },
  {
   "cell_type": "code",
   "execution_count": 6,
   "id": "2c70d4ec-4880-4619-8541-540310c8d8f6",
   "metadata": {},
   "outputs": [
    {
     "data": {
      "text/plain": [
       "undefined"
      ]
     },
     "execution_count": 6,
     "metadata": {},
     "output_type": "execute_result"
    }
   ],
   "source": [
    "function createRectangle(point: Point, size: Size) {\n",
    "    return { ...point, ...size };\n",
    "}\n",
    "\n",
    "const rectangle = createRectangle({ x: 0, y: 0 }, { width: 100, height: 200 });\n",
    "// rectangle의 타입은 { x: number; y: number; width: number; height: number; }로 추론됨"
   ]
  },
  {
   "cell_type": "markdown",
   "id": "c4e7acf6-62d8-4d81-ba1b-cdbb8430bbbc",
   "metadata": {},
   "source": [
    "## 결과를 확인 "
   ]
  },
  {
   "cell_type": "code",
   "execution_count": 7,
   "id": "74194536-d9fd-4c6e-a1cc-bbf55ef8a041",
   "metadata": {},
   "outputs": [
    {
     "data": {
      "text/plain": [
       "{ x: 0, y: 0, width: 100, height: 200 }"
      ]
     },
     "execution_count": 7,
     "metadata": {},
     "output_type": "execute_result"
    }
   ],
   "source": [
    "rectangle"
   ]
  },
  {
   "cell_type": "code",
   "execution_count": null,
   "id": "2ea6f6ca-2ed3-4c60-883c-9bfb437b4914",
   "metadata": {},
   "outputs": [],
   "source": []
  }
 ],
 "metadata": {
  "kernelspec": {
   "display_name": "Typescript 4.9",
   "language": "typescript",
   "name": "typescript"
  },
  "language_info": {
   "file_extension": ".ts",
   "mimetype": "application/x-typescript",
   "name": "typescript",
   "version": "4.9.5"
  }
 },
 "nbformat": 4,
 "nbformat_minor": 5
}
