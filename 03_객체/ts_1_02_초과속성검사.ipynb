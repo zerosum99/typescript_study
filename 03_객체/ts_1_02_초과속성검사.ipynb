{
 "cells": [
  {
   "cell_type": "code",
   "execution_count": null,
   "id": "e78e4ffa-248d-4df2-bdd5-d636a8d36495",
   "metadata": {},
   "outputs": [],
   "source": []
  },
  {
   "cell_type": "markdown",
   "id": "353a3f2e-93de-412f-8f6a-9b954e0204fb",
   "metadata": {},
   "source": [
    "## 초과속성검사 \n",
    "\n",
    "\n",
    "- 초과속성 검사(Excess Property Checks)는 객체를 다른 객체로 할당하거나 전달할 때, 대상 객체에 없는 속성을 포함하고 있을 때 발생하는 경고나 에러를 가리킵니다.\n",
    "- 단순히 보다 코드 작성의 안전성을 높일 수 있도록 초기값으로 객체리터럴을 할당할 때 경고차원으로 에러를 발생시킨다.\n",
    "- "
   ]
  },
  {
   "cell_type": "code",
   "execution_count": null,
   "id": "0ead57a7-2a28-4796-8755-6c3112ee4a86",
   "metadata": {},
   "outputs": [],
   "source": []
  },
  {
   "cell_type": "markdown",
   "id": "2b60a1db-add9-41cd-beb1-69c36dc91b15",
   "metadata": {},
   "source": [
    "## 1-1 초기값 할당할 때는 동일한 속성만 처리 "
   ]
  },
  {
   "cell_type": "markdown",
   "id": "fa9354c4-8d89-4fbf-a275-77428062ffb0",
   "metadata": {},
   "source": [
    "## 타입 별칭 지정 \n",
    "- 객체를 생성할 특정 타입을 지정한다. "
   ]
  },
  {
   "cell_type": "code",
   "execution_count": 1,
   "id": "a0375ee9-e876-4572-8b17-7df1206cad98",
   "metadata": {},
   "outputs": [
    {
     "data": {
      "text/plain": [
       "'use strict'"
      ]
     },
     "execution_count": 1,
     "metadata": {},
     "output_type": "execute_result"
    }
   ],
   "source": [
    "type Person = {\n",
    "    name: string;\n",
    "    age: number;\n",
    "};\n"
   ]
  },
  {
   "cell_type": "markdown",
   "id": "dc24a55f-cb60-4abe-b2f6-1129a9e0cac3",
   "metadata": {},
   "source": [
    "## 객체 리터럴을 타입별칭이 지정된 초기값으로 할당 \n",
    "\n",
    "-  객체의 초기값을 타입별칭을 지정한 곳에 정의할 때 초과속성을 점검한다."
   ]
  },
  {
   "cell_type": "code",
   "execution_count": 2,
   "id": "39e27f2f-6fc5-423b-ac0d-08bbd9df42b3",
   "metadata": {},
   "outputs": [
    {
     "ename": "Error",
     "evalue": "Line 6, Character 5\n    country: \"Wonderland\", // 초과속성: Person 타입에 정의되지 않은 속성\n____^\nTS2322: Type '{ name: string; age: number; country: string; }' is not assignable to type 'Person'.\n  Object literal may only specify known properties, and 'country' does not exist in type 'Person'.",
     "execution_count": 2,
     "output_type": "error",
     "traceback": [
      "Error: Line 6, Character 5",
      "    country: \"Wonderland\", // 초과속성: Person 타입에 정의되지 않은 속성",
      "____^",
      "TS2322: Type '{ name: string; age: number; country: string; }' is not assignable to type 'Person'.",
      "  Object literal may only specify known properties, and 'country' does not exist in type 'Person'.",
      "    at execTranspile (/usr/local/lib/node_modules/itypescript/lib/kernel.js:229:23)",
      "    at Session.transpiler [as transpile] (/usr/local/lib/node_modules/itypescript/lib/kernel.js:288:35)",
      "    at Session._runNow (/usr/local/lib/node_modules/itypescript/node_modules/nel/lib/nel.js:835:39)",
      "    at Session._run (/usr/local/lib/node_modules/itypescript/node_modules/nel/lib/nel.js:786:14)",
      "    at Session.execute (/usr/local/lib/node_modules/itypescript/node_modules/nel/lib/nel.js:929:10)",
      "    at Kernel.execute_request (/usr/local/lib/node_modules/itypescript/node_modules/jp-kernel/lib/handlers_v5.js:116:18)",
      "    at Kernel.onShellMessage (/usr/local/lib/node_modules/itypescript/node_modules/jp-kernel/lib/jp-kernel.js:285:41)",
      "    at Socket.<anonymous> (/usr/local/lib/node_modules/itypescript/node_modules/jmp/index.js:350:17)",
      "    at Socket.emit (node:events:513:28)",
      "    at Socket._emitMessage (/usr/local/lib/node_modules/itypescript/node_modules/zeromq/lib/index.js:649:15)"
     ]
    }
   ],
   "source": [
    "const person: Person = {\n",
    "    name: \"Alice\",\n",
    "    age: 30,\n",
    "    country: \"Wonderland\", // 초과속성: Person 타입에 정의되지 않은 속성\n",
    "};\n"
   ]
  },
  {
   "cell_type": "code",
   "execution_count": null,
   "id": "7c6abdae-0fad-45da-be87-fc1c08731bc2",
   "metadata": {},
   "outputs": [],
   "source": []
  },
  {
   "cell_type": "markdown",
   "id": "76726b5a-f761-4982-94c7-0f7e3af6242e",
   "metadata": {},
   "source": [
    "## 1-2 다른 변수에 객체 리터럴이 지정한 후에 변수에 할당\n",
    "\n",
    "- 이때는 실제 타입과 동일한 프로퍼티가 존재하면 동일한 타입으로 인식"
   ]
  },
  {
   "cell_type": "code",
   "execution_count": 2,
   "id": "c1029988-a2c2-498f-a891-a6a126f6b68e",
   "metadata": {},
   "outputs": [
    {
     "data": {
      "text/plain": [
       "'use strict'"
      ]
     },
     "execution_count": 2,
     "metadata": {},
     "output_type": "execute_result"
    }
   ],
   "source": [
    "type Person1 = {\n",
    "    name: string;\n",
    "    age: number;\n",
    "};\n"
   ]
  },
  {
   "cell_type": "markdown",
   "id": "8887fd8f-f569-44d3-9ff1-70435c60fb3a",
   "metadata": {},
   "source": [
    "## 다른 변수에 객체리터럴 생성"
   ]
  },
  {
   "cell_type": "code",
   "execution_count": 3,
   "id": "2ac2481d-3f8d-42c9-8c95-08b4f5b78e08",
   "metadata": {},
   "outputs": [
    {
     "data": {
      "text/plain": [
       "undefined"
      ]
     },
     "execution_count": 3,
     "metadata": {},
     "output_type": "execute_result"
    }
   ],
   "source": [
    "const person1 = {\n",
    "    name: \"Alice\",\n",
    "    age: 30,\n",
    "    country: \"Wonderland\",\n",
    "};"
   ]
  },
  {
   "cell_type": "markdown",
   "id": "fbbfd102-a00b-4ca9-b257-2bae322795c1",
   "metadata": {},
   "source": [
    "## 타입별칭이 지정한 변수에 기존 객체를 할당\n",
    "- 이때는 타입 즉 동일한 프로퍼티를 가지고 있는지 확인  "
   ]
  },
  {
   "cell_type": "code",
   "execution_count": 4,
   "id": "cc4f1fa8-18f6-4feb-9835-f836ccb43735",
   "metadata": {},
   "outputs": [
    {
     "data": {
      "text/plain": [
       "undefined"
      ]
     },
     "execution_count": 4,
     "metadata": {},
     "output_type": "execute_result"
    }
   ],
   "source": [
    "const person12 : Person1 = person1;"
   ]
  },
  {
   "cell_type": "code",
   "execution_count": null,
   "id": "3a0c57a7-10d3-4a79-a027-ad775346497f",
   "metadata": {},
   "outputs": [],
   "source": []
  }
 ],
 "metadata": {
  "kernelspec": {
   "display_name": "Typescript 4.9",
   "language": "typescript",
   "name": "typescript"
  },
  "language_info": {
   "file_extension": ".ts",
   "mimetype": "application/x-typescript",
   "name": "typescript",
   "version": "4.9.5"
  }
 },
 "nbformat": 4,
 "nbformat_minor": 5
}
