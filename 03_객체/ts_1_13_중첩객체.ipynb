{
 "cells": [
  {
   "cell_type": "code",
   "execution_count": null,
   "id": "cdc5705a-2c1f-419a-bb72-1eb4a1b73c1b",
   "metadata": {},
   "outputs": [],
   "source": []
  },
  {
   "cell_type": "code",
   "execution_count": null,
   "id": "2a293632-ac9c-4be9-b91e-1d808d7fbf4c",
   "metadata": {},
   "outputs": [],
   "source": []
  },
  {
   "cell_type": "code",
   "execution_count": null,
   "id": "0ad718b6-a3a0-4f73-a386-845a1c612ffc",
   "metadata": {},
   "outputs": [],
   "source": []
  },
  {
   "cell_type": "markdown",
   "id": "7c2a2cb6-7e44-4550-a13f-bc221463914d",
   "metadata": {},
   "source": [
    "## 1 객체 중첩 처리하기 \n",
    "\n",
    "- 객체 내포(Object Nesting)는 객체 안에 또 다른 객체를 중첩하여 포함시키는 것을 말합니다.\n",
    "- 이를 통해 복잡한 데이터 구조를 구성하거나 중첩된 정보를 표현할 수 있습니다.\n",
    "- 객체 내포는 일반적으로 중첩된 구조를 나타내기 위해 사용되며, 다양한 데이터를 더 구조적으로 표현할 수 있습니다"
   ]
  },
  {
   "cell_type": "markdown",
   "id": "d6864f3d-fe4c-4224-9bef-05d2342dc521",
   "metadata": {},
   "source": [
    "### 단순한 객체 내포"
   ]
  },
  {
   "cell_type": "code",
   "execution_count": 3,
   "id": "e26918a9-0a76-4895-8aa8-512f2450f001",
   "metadata": {},
   "outputs": [
    {
     "name": "stdout",
     "output_type": "stream",
     "text": [
      "Alice\n",
      "Wonderland\n"
     ]
    },
    {
     "data": {
      "text/plain": [
       "undefined"
      ]
     },
     "execution_count": 3,
     "metadata": {},
     "output_type": "execute_result"
    }
   ],
   "source": [
    "const person = {\n",
    "    name: \"Alice\",\n",
    "    age: 30,\n",
    "    address: {\n",
    "        street: \"123 Main St\",\n",
    "        city: \"Wonderland\"\n",
    "    }\n",
    "};\n",
    "\n",
    "console.log(person.name); // \"Alice\"\n",
    "console.log(person.address.city); // \"Wonderland\"\n"
   ]
  },
  {
   "cell_type": "code",
   "execution_count": null,
   "id": "c0df3af9-d85c-47d1-843a-2a2adee5558c",
   "metadata": {},
   "outputs": [],
   "source": []
  },
  {
   "cell_type": "markdown",
   "id": "f78ee367-904b-4a9b-9ff3-b1274519fd76",
   "metadata": {},
   "source": [
    "### 배열 내부에 여러 객체 포함 "
   ]
  },
  {
   "cell_type": "code",
   "execution_count": 4,
   "id": "0da5117e-f233-4cf9-acd8-afdee0ae266b",
   "metadata": {},
   "outputs": [
    {
     "data": {
      "text/plain": [
       "undefined"
      ]
     },
     "execution_count": 4,
     "metadata": {},
     "output_type": "execute_result"
    }
   ],
   "source": [
    "const student111 = {\n",
    "    name: \"Alice\",\n",
    "    age: 20,\n",
    "    courses: [\n",
    "        { name: \"Math\", grade: 90 },\n",
    "        { name: \"History\", grade: 85 }\n",
    "    ]\n",
    "};\n"
   ]
  },
  {
   "cell_type": "code",
   "execution_count": null,
   "id": "887714a7-5f05-43e4-bffd-2dd50f85dad9",
   "metadata": {},
   "outputs": [],
   "source": []
  },
  {
   "cell_type": "code",
   "execution_count": 5,
   "id": "0d94936d-db11-4907-905c-cb8c0f69cf29",
   "metadata": {},
   "outputs": [
    {
     "data": {
      "text/plain": [
       "undefined"
      ]
     },
     "execution_count": 5,
     "metadata": {},
     "output_type": "execute_result"
    }
   ],
   "source": [
    "const cart = {\n",
    "    user: \"Alice\",\n",
    "    items: [\n",
    "        { name: \"Shirt\", price: 25 },\n",
    "        { name: \"Jeans\", price: 40 }\n",
    "    ],\n",
    "    shippingAddress: {\n",
    "        street: \"123 Main St\",\n",
    "        city: \"Wonderland\"\n",
    "    }\n",
    "};\n"
   ]
  },
  {
   "cell_type": "code",
   "execution_count": null,
   "id": "20836d11-bb8f-41db-bff7-215a7a474220",
   "metadata": {},
   "outputs": [],
   "source": []
  },
  {
   "cell_type": "code",
   "execution_count": null,
   "id": "240ed8ba-ebc9-4cbe-965d-510e2639a3fa",
   "metadata": {},
   "outputs": [],
   "source": []
  },
  {
   "cell_type": "code",
   "execution_count": null,
   "id": "13ddd198-3a73-4d03-a2a3-182c3efe7fc8",
   "metadata": {},
   "outputs": [],
   "source": []
  }
 ],
 "metadata": {
  "kernelspec": {
   "display_name": "Typescript 4.9",
   "language": "typescript",
   "name": "typescript"
  },
  "language_info": {
   "file_extension": ".ts",
   "mimetype": "application/x-typescript",
   "name": "typescript",
   "version": "4.9.5"
  }
 },
 "nbformat": 4,
 "nbformat_minor": 5
}
