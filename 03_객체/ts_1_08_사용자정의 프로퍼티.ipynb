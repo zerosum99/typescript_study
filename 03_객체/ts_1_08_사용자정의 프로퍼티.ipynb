{
 "cells": [
  {
   "cell_type": "code",
   "execution_count": null,
   "id": "f3ad440e-545f-4102-a864-dc038a138b16",
   "metadata": {},
   "outputs": [],
   "source": []
  },
  {
   "cell_type": "code",
   "execution_count": null,
   "id": "d0519782-e131-4c99-b79a-80ae9b05fb41",
   "metadata": {},
   "outputs": [],
   "source": []
  },
  {
   "cell_type": "markdown",
   "id": "4aad89ab-4e1d-4b29-a346-5e8175d788a9",
   "metadata": {},
   "source": [
    "## 사용자 정의 프로퍼티 정의하기\n",
    "\n",
    "- 프로퍼티에 호출하는 속성과 이에 대응하는 getter/setter를 정의\n",
    "- 정의한 것이 하나이므로 쉼표로 구분해서 처리"
   ]
  },
  {
   "cell_type": "code",
   "execution_count": 1,
   "id": "d473c4fc-48eb-48d2-921e-d01a8ca11927",
   "metadata": {},
   "outputs": [
    {
     "data": {
      "text/plain": [
       "'use strict'"
      ]
     },
     "execution_count": 1,
     "metadata": {},
     "output_type": "execute_result"
    }
   ],
   "source": [
    "const person = {\n",
    "  _firstName: \"\",\n",
    "  // get 메서드를 사용하여 firstName 속성을 읽기\n",
    "  get firstName() {\n",
    "    console.log(\"Getting first name\");\n",
    "    return this._firstName;\n",
    "  },\n",
    "  // set 메서드를 사용하여 firstName 속성을 설정\n",
    "  set firstName(value: string) {\n",
    "    console.log(\"Setting first name\");\n",
    "    this._firstName = value;\n",
    "  },\n",
    "};\n",
    "\n"
   ]
  },
  {
   "cell_type": "code",
   "execution_count": 2,
   "id": "a66a2c6b-971c-4edc-a7b0-3a0f0bea09f6",
   "metadata": {},
   "outputs": [
    {
     "name": "stdout",
     "output_type": "stream",
     "text": [
      "Getting first name\n",
      "\n",
      "Setting first name\n",
      "Getting first name\n",
      "John\n"
     ]
    },
    {
     "data": {
      "text/plain": [
       "undefined"
      ]
     },
     "execution_count": 2,
     "metadata": {},
     "output_type": "execute_result"
    }
   ],
   "source": [
    "\n",
    "\n",
    "// get 메서드 호출\n",
    "console.log(person.firstName);\n",
    "\n",
    "// set 메서드 호출\n",
    "person.firstName = \"John\";\n",
    "\n",
    "// get 메서드를 다시 호출하여 값을 읽음\n",
    "console.log(person.firstName);\n"
   ]
  },
  {
   "cell_type": "code",
   "execution_count": null,
   "id": "6a7eea9c-84ec-42e0-9b70-09424b6126fb",
   "metadata": {},
   "outputs": [],
   "source": []
  }
 ],
 "metadata": {
  "kernelspec": {
   "display_name": "Typescript 4.9",
   "language": "typescript",
   "name": "typescript"
  },
  "language_info": {
   "file_extension": ".ts",
   "mimetype": "application/x-typescript",
   "name": "typescript",
   "version": "4.9.5"
  }
 },
 "nbformat": 4,
 "nbformat_minor": 5
}
