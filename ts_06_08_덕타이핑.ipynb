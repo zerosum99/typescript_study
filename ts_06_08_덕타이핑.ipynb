{
 "cells": [
  {
   "cell_type": "code",
   "execution_count": null,
   "id": "1f3bbb1c-9042-43ca-b036-8583a8c41204",
   "metadata": {},
   "outputs": [],
   "source": []
  },
  {
   "cell_type": "markdown",
   "id": "a0bb6fb0-29af-4720-b106-378d2eb29c64",
   "metadata": {},
   "source": [
    "## 덕 타이핑(Duck Typing)은 \n",
    "    \n",
    "- TypeScript와 같은 언어에서 사용되는 개념으로, \"오리처럼 걷고, 오리처럼 꽥꽥거리면 그것은 오리다\"라는 말에서 유래한 개념입니다. \n",
    "- 즉, 객체의 타입은 그 객체가 가진 메서드나 프로퍼티에 의해 결정된다는 것을 의미합니다. \n",
    "- 객체의 구조와 기능이 중요하며, 객체의 명시적인 타입보다는 어떤 동작을 수행할 수 있는지에 초점을 맞춥니다.\n",
    "\n"
   ]
  },
  {
   "cell_type": "code",
   "execution_count": 1,
   "id": "5285130a-c6fc-41bf-9d28-dc7fd82041a6",
   "metadata": {},
   "outputs": [
    {
     "name": "stdout",
     "output_type": "stream",
     "text": [
      "Quack!\n",
      "Person imitates quacking\n"
     ]
    },
    {
     "data": {
      "text/plain": [
       "undefined"
      ]
     },
     "execution_count": 1,
     "metadata": {},
     "output_type": "execute_result"
    }
   ],
   "source": [
    "interface Quacker {\n",
    "    quack(): void;\n",
    "}\n",
    "\n",
    "class Duck implements Quacker {\n",
    "    quack() {\n",
    "        console.log(\"Quack!\");\n",
    "    }\n",
    "}\n",
    "\n",
    "class Person {\n",
    "    quack() {\n",
    "        console.log(\"Person imitates quacking\");\n",
    "    }\n",
    "}\n",
    "\n",
    "function makeSound(creature: Quacker) {\n",
    "    creature.quack();\n",
    "}\n",
    "\n",
    "const duck = new Duck();\n",
    "const person = new Person();\n",
    "\n",
    "makeSound(duck);    // \"Quack!\"\n",
    "makeSound(person);  // \"Person imitates quacking\"\n"
   ]
  },
  {
   "cell_type": "code",
   "execution_count": null,
   "id": "71d6f4f9-bb39-4a40-9f74-c7c5463572bc",
   "metadata": {},
   "outputs": [],
   "source": []
  }
 ],
 "metadata": {
  "kernelspec": {
   "display_name": "Typescript 4.9",
   "language": "typescript",
   "name": "typescript"
  },
  "language_info": {
   "file_extension": ".ts",
   "mimetype": "application/x-typescript",
   "name": "typescript",
   "version": "4.9.5"
  }
 },
 "nbformat": 4,
 "nbformat_minor": 5
}
