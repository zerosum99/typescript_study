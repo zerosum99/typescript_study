{
 "cells": [
  {
   "cell_type": "code",
   "execution_count": null,
   "id": "d3756c5d-cabc-49b0-92f5-4ad79d14e3fe",
   "metadata": {},
   "outputs": [],
   "source": []
  },
  {
   "cell_type": "code",
   "execution_count": null,
   "id": "e34ac3aa-df5e-45ba-8a3d-7b8fb602c04f",
   "metadata": {},
   "outputs": [],
   "source": []
  },
  {
   "cell_type": "markdown",
   "id": "851330cd-7b69-4098-8f44-8c70e9110cbf",
   "metadata": {},
   "source": [
    "##  1 unknown 타입 처리 \n",
    "\n",
    "- unknown은 다른 타입으로 지정되지 않은 알 수 없는 타입을 나타냄\n",
    "- unknown 타입은 any 타입과 비슷해 보이지만, 더 엄격한 제약을 가지고 있음\n"
   ]
  },
  {
   "cell_type": "markdown",
   "id": "3f1070c3-00b0-40ac-bd5f-bee686d6658a",
   "metadata": {},
   "source": [
    "### 1-1 변수의 할당 제약: \n",
    "- unknown 타입은 다른 타입으로 직접 할당될 수 없습니다.\n",
    "- unknown 타입의 값은 반드시 타입을 명시적으로 확인한 후에 사용해야 합니다."
   ]
  },
  {
   "cell_type": "code",
   "execution_count": 12,
   "id": "d3406057-4b22-4cd5-aa81-a09d378d8350",
   "metadata": {},
   "outputs": [
    {
     "ename": "Error",
     "evalue": "Line 3, Character 9\n    let num: number = value; // Error: TypeScript는 unknown 타입의 변수를 추론할 때 number와 호환되지 않으므로 에러 발생\n________^\nTS2322: Type 'unknown' is not assignable to type 'number'.",
     "execution_count": 12,
     "output_type": "error",
     "traceback": [
      "Error: Line 3, Character 9",
      "    let num: number = value; // Error: TypeScript는 unknown 타입의 변수를 추론할 때 number와 호환되지 않으므로 에러 발생",
      "________^",
      "TS2322: Type 'unknown' is not assignable to type 'number'.",
      "    at execTranspile (/usr/local/lib/node_modules/itypescript/lib/kernel.js:229:23)",
      "    at Session.transpiler [as transpile] (/usr/local/lib/node_modules/itypescript/lib/kernel.js:288:35)",
      "    at Session._runNow (/usr/local/lib/node_modules/itypescript/node_modules/nel/lib/nel.js:835:39)",
      "    at Session._run (/usr/local/lib/node_modules/itypescript/node_modules/nel/lib/nel.js:786:14)",
      "    at Session.execute (/usr/local/lib/node_modules/itypescript/node_modules/nel/lib/nel.js:929:10)",
      "    at Kernel.execute_request (/usr/local/lib/node_modules/itypescript/node_modules/jp-kernel/lib/handlers_v5.js:116:18)",
      "    at Kernel.onShellMessage (/usr/local/lib/node_modules/itypescript/node_modules/jp-kernel/lib/jp-kernel.js:285:41)",
      "    at Socket.<anonymous> (/usr/local/lib/node_modules/itypescript/node_modules/jmp/index.js:350:17)",
      "    at Socket.emit (node:events:513:28)",
      "    at Socket._emitMessage (/usr/local/lib/node_modules/itypescript/node_modules/zeromq/lib/index.js:649:15)"
     ]
    }
   ],
   "source": [
    "{\n",
    "    let value: unknown = 10;\n",
    "    let num: number = value; // Error: TypeScript는 unknown 타입의 변수를 추론할 때 number와 호환되지 않으므로 에러 발생\n",
    "}"
   ]
  },
  {
   "cell_type": "markdown",
   "id": "adedfa54-29bb-4d85-804c-b79af54869fd",
   "metadata": {},
   "source": [
    "## 1-2  unknown 타입 간에 할당 가능: \n",
    "- unknown 타입은 다른 unknown 변수에 할당할 수 있습니다."
   ]
  },
  {
   "cell_type": "code",
   "execution_count": 13,
   "id": "0b329825-4938-461a-9de2-5cb1ba9e1c98",
   "metadata": {},
   "outputs": [
    {
     "data": {
      "text/plain": [
       "undefined"
      ]
     },
     "execution_count": 13,
     "metadata": {},
     "output_type": "execute_result"
    }
   ],
   "source": [
    "{\n",
    "    let value: unknown = 10;\n",
    "    let num: unknown = value; \n",
    "}"
   ]
  },
  {
   "cell_type": "code",
   "execution_count": null,
   "id": "985a40da-4896-4d87-b40a-912ff6965204",
   "metadata": {},
   "outputs": [],
   "source": []
  },
  {
   "cell_type": "markdown",
   "id": "9f623e12-730f-4ec0-82df-cd5b63f08ce7",
   "metadata": {},
   "source": [
    "## 1-3 타입 가드 사용:\n",
    "\n",
    "- unknown 타입을 사용할 때는 타입 가드를 통해 타입을 좁혀서 안전하게 사용"
   ]
  },
  {
   "cell_type": "code",
   "execution_count": 14,
   "id": "c9d12cee-38a7-4ff1-b3e7-df1ca4427b36",
   "metadata": {},
   "outputs": [
    {
     "data": {
      "text/plain": [
       "undefined"
      ]
     },
     "execution_count": 14,
     "metadata": {},
     "output_type": "execute_result"
    }
   ],
   "source": [
    "function multiply(value: unknown, factor: number): number {\n",
    "  if (typeof value === 'number') {\n",
    "    return value * factor;\n",
    "  }\n",
    "  throw new Error('Invalid input: value should be a number.');\n",
    "}"
   ]
  },
  {
   "cell_type": "code",
   "execution_count": 15,
   "id": "a3d47e0f-f8cc-419c-9dc4-13a4b18b10a9",
   "metadata": {},
   "outputs": [
    {
     "data": {
      "text/plain": [
       "20000"
      ]
     },
     "execution_count": 15,
     "metadata": {},
     "output_type": "execute_result"
    }
   ],
   "source": [
    "multiply(100,200);"
   ]
  },
  {
   "cell_type": "code",
   "execution_count": null,
   "id": "84d88c89-014f-4e8b-a85f-ae59f7b4c812",
   "metadata": {},
   "outputs": [],
   "source": []
  }
 ],
 "metadata": {
  "kernelspec": {
   "display_name": "Typescript 4.9",
   "language": "typescript",
   "name": "typescript"
  },
  "language_info": {
   "file_extension": ".ts",
   "mimetype": "application/x-typescript",
   "name": "typescript",
   "version": "4.9.5"
  }
 },
 "nbformat": 4,
 "nbformat_minor": 5
}
