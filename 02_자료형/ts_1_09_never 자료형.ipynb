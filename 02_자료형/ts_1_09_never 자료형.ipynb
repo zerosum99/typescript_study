{
 "cells": [
  {
   "cell_type": "code",
   "execution_count": null,
   "id": "d3756c5d-cabc-49b0-92f5-4ad79d14e3fe",
   "metadata": {},
   "outputs": [],
   "source": []
  },
  {
   "cell_type": "code",
   "execution_count": null,
   "id": "e34ac3aa-df5e-45ba-8a3d-7b8fb602c04f",
   "metadata": {},
   "outputs": [],
   "source": []
  },
  {
   "cell_type": "markdown",
   "id": "3d2eb68e-4d64-484e-b80d-0496475dfc4c",
   "metadata": {},
   "source": [
    "## 1. 타입스크립트의 never 자료형 \n",
    "\n",
    "- 함수가 항상 예외를 던지거나 절대 반환하지 않는 경우를 나타냅니다. \n",
    "- never 타입은 주로 함수나 표현식의 반환 타입으로 사용되며, 해당 코드 부분이 실행되면 예외가 발생하거나 무한 루프에 빠지는 등의 상황에서 주로 발생합니다."
   ]
  },
  {
   "cell_type": "code",
   "execution_count": null,
   "id": "4175658c-242f-4adf-930a-466e1b0a2a54",
   "metadata": {},
   "outputs": [],
   "source": []
  },
  {
   "cell_type": "code",
   "execution_count": null,
   "id": "f8b78ef7-c26c-4747-a2d6-4860b8b5aa1e",
   "metadata": {},
   "outputs": [],
   "source": []
  },
  {
   "cell_type": "markdown",
   "id": "2049f9b5-e00f-4d4d-bcb3-0aa0a5b85679",
   "metadata": {},
   "source": [
    "## 1-1 예외던지기 "
   ]
  },
  {
   "cell_type": "code",
   "execution_count": 1,
   "id": "00c5b256-e1dc-4a94-96c4-5216a061518a",
   "metadata": {},
   "outputs": [
    {
     "data": {
      "text/plain": [
       "'use strict'"
      ]
     },
     "execution_count": 1,
     "metadata": {},
     "output_type": "execute_result"
    }
   ],
   "source": [
    "function throwError(message: string): never {\n",
    "    throw new Error(message);\n",
    "}\n"
   ]
  },
  {
   "cell_type": "code",
   "execution_count": null,
   "id": "41b38da0-92ec-4a58-b629-52f443a128b8",
   "metadata": {},
   "outputs": [],
   "source": []
  },
  {
   "cell_type": "code",
   "execution_count": null,
   "id": "2daecded-e5c7-4402-bd66-2ff13fc864c6",
   "metadata": {},
   "outputs": [],
   "source": []
  },
  {
   "cell_type": "markdown",
   "id": "e93ffa1b-beef-432d-8843-cd4dd2f57930",
   "metadata": {},
   "source": [
    "## 1-2 다른 타입 내로잉에 사용하기 "
   ]
  },
  {
   "cell_type": "code",
   "execution_count": 2,
   "id": "d562d857-7037-4da5-86c3-8d3557bd40f9",
   "metadata": {},
   "outputs": [
    {
     "data": {
      "text/plain": [
       "undefined"
      ]
     },
     "execution_count": 2,
     "metadata": {},
     "output_type": "execute_result"
    }
   ],
   "source": [
    "function assertNever(x: never): never {\n",
    "    throw new Error(\"Unexpected object: \" + x);\n",
    "}\n",
    "\n",
    "function processValue(value: string | number) {\n",
    "    if (typeof value === \"string\") {\n",
    "        // value는 여기서 string 타입이 됩니다.\n",
    "        console.log(value.toUpperCase());\n",
    "    } else if (typeof value === \"number\") {\n",
    "        // value는 여기서 number 타입이 됩니다.\n",
    "        console.log(value.toFixed(2));\n",
    "    } else {\n",
    "        // value는 여기서 never 타입이 됩니다.\n",
    "        assertNever(value);\n",
    "    }\n",
    "}\n"
   ]
  },
  {
   "cell_type": "code",
   "execution_count": null,
   "id": "62d82358-e592-4cb7-abae-64af5ffa3ffe",
   "metadata": {},
   "outputs": [],
   "source": []
  }
 ],
 "metadata": {
  "kernelspec": {
   "display_name": "Typescript 4.9",
   "language": "typescript",
   "name": "typescript"
  },
  "language_info": {
   "file_extension": ".ts",
   "mimetype": "application/x-typescript",
   "name": "typescript",
   "version": "4.9.5"
  }
 },
 "nbformat": 4,
 "nbformat_minor": 5
}
