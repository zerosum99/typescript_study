{
 "cells": [
  {
   "cell_type": "code",
   "execution_count": null,
   "id": "faa8f930-fd15-47e7-83ec-e756f90b59f5",
   "metadata": {},
   "outputs": [],
   "source": []
  },
  {
   "cell_type": "code",
   "execution_count": null,
   "id": "eb355147-5f63-43d2-9539-9b993b8a1bbd",
   "metadata": {},
   "outputs": [],
   "source": []
  },
  {
   "cell_type": "markdown",
   "id": "d0acf423-7921-4943-a206-4e75a41b5af0",
   "metadata": {},
   "source": [
    "## 1. null, undefined"
   ]
  },
  {
   "cell_type": "markdown",
   "id": "3b059a6f-6048-4a42-93d9-152bdafb0585",
   "metadata": {},
   "source": [
    "## 1-1  undefined\n",
    "\n",
    "- undefined는 변수가 선언되었지만 값이 할당되지 않은 상태를 나타냅니다.\n",
    "- 변수에 명시적으로 undefined를 할당할 수도 있습니다.\n",
    "- void 타입의 값도 undefined를 가집니다."
   ]
  },
  {
   "cell_type": "code",
   "execution_count": 1,
   "id": "d4abe5eb-456f-4513-a2f9-7a3c435b33b5",
   "metadata": {},
   "outputs": [
    {
     "data": {
      "text/plain": [
       "'use strict'"
      ]
     },
     "execution_count": 1,
     "metadata": {},
     "output_type": "execute_result"
    }
   ],
   "source": [
    "let a: undefined = undefined;      // \n",
    "let b: void = undefined;           // 반환하지 않는 것 \n",
    "let c: number = 3;\n",
    "let d: undefined;\n"
   ]
  },
  {
   "cell_type": "code",
   "execution_count": 2,
   "id": "23358305-03d5-483e-afe1-e259de3fbabd",
   "metadata": {},
   "outputs": [
    {
     "name": "stdout",
     "output_type": "stream",
     "text": [
      "undefined\n",
      "undefined\n",
      "3\n",
      "undefined\n"
     ]
    },
    {
     "data": {
      "text/plain": [
       "undefined"
      ]
     },
     "execution_count": 2,
     "metadata": {},
     "output_type": "execute_result"
    }
   ],
   "source": [
    "console.log(a); // undefined\n",
    "console.log(b); // undefined\n",
    "console.log(c); // 3\n",
    "console.log(d); // undefined"
   ]
  },
  {
   "cell_type": "code",
   "execution_count": null,
   "id": "ea9bdc9c-9de4-4409-b294-1eed116d33ad",
   "metadata": {},
   "outputs": [],
   "source": []
  },
  {
   "cell_type": "code",
   "execution_count": null,
   "id": "c0524732-67cc-4015-8c58-61eee7663d2e",
   "metadata": {},
   "outputs": [],
   "source": []
  },
  {
   "cell_type": "markdown",
   "id": "3b6d2bf4-244c-42e5-8c7d-3ec236705ac5",
   "metadata": {},
   "source": [
    "## 2  null 타입:\n",
    "\n",
    "- null은 변수에 값이 할당되지 않았거나 값이 없음을 나타냅니다.\n",
    "- null을 명시적으로 할당할 수 있습니다."
   ]
  },
  {
   "cell_type": "markdown",
   "id": "7584f7cc-199a-4965-be09-df5d9f33435d",
   "metadata": {},
   "source": [
    "## 2-1 널값은 항상 널로만 처리 가능 "
   ]
  },
  {
   "cell_type": "code",
   "execution_count": 1,
   "id": "f7410235-a9ea-4c0a-ab56-d4110a7e7759",
   "metadata": {},
   "outputs": [
    {
     "data": {
      "text/plain": [
       "'use strict'"
      ]
     },
     "execution_count": 1,
     "metadata": {},
     "output_type": "execute_result"
    }
   ],
   "source": [
    "let nullable:null = null;\n",
    "let undefinedable:undefined = undefined;"
   ]
  },
  {
   "cell_type": "code",
   "execution_count": 2,
   "id": "762b476c-3fe9-4d89-b79d-a8697ba52e3f",
   "metadata": {},
   "outputs": [
    {
     "ename": "Error",
     "evalue": "Line 1, Character 1\nnullable = undefined;\n^\nTS2322: Type 'undefined' is not assignable to type 'null'.",
     "execution_count": 2,
     "output_type": "error",
     "traceback": [
      "Error: Line 1, Character 1",
      "nullable = undefined;",
      "^",
      "TS2322: Type 'undefined' is not assignable to type 'null'.",
      "    at execTranspile (/usr/local/lib/node_modules/itypescript/lib/kernel.js:229:23)",
      "    at Session.transpiler [as transpile] (/usr/local/lib/node_modules/itypescript/lib/kernel.js:288:35)",
      "    at Session._runNow (/usr/local/lib/node_modules/itypescript/node_modules/nel/lib/nel.js:835:39)",
      "    at Session._run (/usr/local/lib/node_modules/itypescript/node_modules/nel/lib/nel.js:786:14)",
      "    at Session.execute (/usr/local/lib/node_modules/itypescript/node_modules/nel/lib/nel.js:929:10)",
      "    at Kernel.execute_request (/usr/local/lib/node_modules/itypescript/node_modules/jp-kernel/lib/handlers_v5.js:116:18)",
      "    at Kernel.onShellMessage (/usr/local/lib/node_modules/itypescript/node_modules/jp-kernel/lib/jp-kernel.js:285:41)",
      "    at Socket.<anonymous> (/usr/local/lib/node_modules/itypescript/node_modules/jmp/index.js:350:17)",
      "    at Socket.emit (node:events:513:28)",
      "    at Socket._emitMessage (/usr/local/lib/node_modules/itypescript/node_modules/zeromq/lib/index.js:649:15)"
     ]
    }
   ],
   "source": [
    "nullable = undefined;"
   ]
  },
  {
   "cell_type": "markdown",
   "id": "c9d3ab18-6b30-443f-b092-aadf22e22303",
   "metadata": {},
   "source": [
    "### 다른 문자열 처리 "
   ]
  },
  {
   "cell_type": "code",
   "execution_count": 5,
   "id": "e1b864f7-29e1-4e11-8df8-b0a864f2f04b",
   "metadata": {},
   "outputs": [
    {
     "data": {
      "text/plain": [
       "undefined"
      ]
     },
     "execution_count": 5,
     "metadata": {},
     "output_type": "execute_result"
    }
   ],
   "source": [
    "let x: null = null;\n",
    "let y: string = \"hello\";\n",
    "let z: null;"
   ]
  },
  {
   "cell_type": "code",
   "execution_count": 6,
   "id": "d6be07a6-89e2-430f-a20c-71d4458bbbfd",
   "metadata": {},
   "outputs": [
    {
     "name": "stdout",
     "output_type": "stream",
     "text": [
      "null\n",
      "hello\n"
     ]
    },
    {
     "data": {
      "text/plain": [
       "undefined"
      ]
     },
     "execution_count": 6,
     "metadata": {},
     "output_type": "execute_result"
    }
   ],
   "source": [
    "console.log(x); // null\n",
    "console.log(y); // hello"
   ]
  },
  {
   "cell_type": "markdown",
   "id": "243ba67f-f880-4157-9b22-485aaf5f1b2d",
   "metadata": {},
   "source": [
    "### 초기화하지 않는 변수 참조 "
   ]
  },
  {
   "cell_type": "code",
   "execution_count": 7,
   "id": "c760fe7b-fd73-495e-b5bf-f132f5a5ce36",
   "metadata": {},
   "outputs": [
    {
     "ename": "Error",
     "evalue": "Line 1, Character 14\n console.log(z); // 에러 처리 \n_____________^\nTS2454: Variable 'z' is used before being assigned.",
     "execution_count": 7,
     "output_type": "error",
     "traceback": [
      "Error: Line 1, Character 14",
      " console.log(z); // 에러 처리 ",
      "_____________^",
      "TS2454: Variable 'z' is used before being assigned.",
      "    at execTranspile (/usr/local/lib/node_modules/itypescript/lib/kernel.js:229:23)",
      "    at Session.transpiler [as transpile] (/usr/local/lib/node_modules/itypescript/lib/kernel.js:288:35)",
      "    at Session._runNow (/usr/local/lib/node_modules/itypescript/node_modules/nel/lib/nel.js:835:39)",
      "    at Session._run (/usr/local/lib/node_modules/itypescript/node_modules/nel/lib/nel.js:786:14)",
      "    at Session.execute (/usr/local/lib/node_modules/itypescript/node_modules/nel/lib/nel.js:929:10)",
      "    at Kernel.execute_request (/usr/local/lib/node_modules/itypescript/node_modules/jp-kernel/lib/handlers_v5.js:116:18)",
      "    at Kernel.onShellMessage (/usr/local/lib/node_modules/itypescript/node_modules/jp-kernel/lib/jp-kernel.js:285:41)",
      "    at Socket.<anonymous> (/usr/local/lib/node_modules/itypescript/node_modules/jmp/index.js:350:17)",
      "    at Socket.emit (node:events:513:28)",
      "    at Socket._emitMessage (/usr/local/lib/node_modules/itypescript/node_modules/zeromq/lib/index.js:649:15)"
     ]
    }
   ],
   "source": [
    " console.log(z); // 에러 처리 "
   ]
  },
  {
   "cell_type": "markdown",
   "id": "2613d009-e105-4d6c-b10e-4e9c35367c36",
   "metadata": {},
   "source": [
    "## 보이드 타입에 널은 할당할 수 없다 "
   ]
  },
  {
   "cell_type": "code",
   "execution_count": 4,
   "id": "0fb0904f-9540-415a-8947-37064adfc03f",
   "metadata": {},
   "outputs": [
    {
     "ename": "Error",
     "evalue": "Line 1, Character 5\nlet v: void = null;\n____^\nTS2322: Type 'null' is not assignable to type 'void'.",
     "execution_count": 4,
     "output_type": "error",
     "traceback": [
      "Error: Line 1, Character 5",
      "let v: void = null;",
      "____^",
      "TS2322: Type 'null' is not assignable to type 'void'.",
      "    at execTranspile (/usr/local/lib/node_modules/itypescript/lib/kernel.js:229:23)",
      "    at Session.transpiler [as transpile] (/usr/local/lib/node_modules/itypescript/lib/kernel.js:288:35)",
      "    at Session._runNow (/usr/local/lib/node_modules/itypescript/node_modules/nel/lib/nel.js:835:39)",
      "    at Session._run (/usr/local/lib/node_modules/itypescript/node_modules/nel/lib/nel.js:786:14)",
      "    at Session.execute (/usr/local/lib/node_modules/itypescript/node_modules/nel/lib/nel.js:929:10)",
      "    at Kernel.execute_request (/usr/local/lib/node_modules/itypescript/node_modules/jp-kernel/lib/handlers_v5.js:116:18)",
      "    at Kernel.onShellMessage (/usr/local/lib/node_modules/itypescript/node_modules/jp-kernel/lib/jp-kernel.js:285:41)",
      "    at Socket.<anonymous> (/usr/local/lib/node_modules/itypescript/node_modules/jmp/index.js:350:17)",
      "    at Socket.emit (node:events:513:28)",
      "    at Socket._emitMessage (/usr/local/lib/node_modules/itypescript/node_modules/zeromq/lib/index.js:649:15)"
     ]
    }
   ],
   "source": [
    "let v: void = null;"
   ]
  },
  {
   "cell_type": "markdown",
   "id": "9edcac6d-7b5a-42f3-9ea8-f015402628dd",
   "metadata": {},
   "source": [
    "## 2-2 널이 필요한 경우 "
   ]
  },
  {
   "cell_type": "markdown",
   "id": "a166b9d5-a5cf-4bc4-ba63-0fd016e284e9",
   "metadata": {},
   "source": [
    "### 다른 타입에 지정할 때 오류 "
   ]
  },
  {
   "cell_type": "code",
   "execution_count": 3,
   "id": "2edcd0dc-1494-43c1-a458-a101b79c95c6",
   "metadata": {},
   "outputs": [
    {
     "ename": "Error",
     "evalue": "Line 1, Character 5\nlet assign_name:string = null;\n____^\nTS2322: Type 'null' is not assignable to type 'string'.",
     "execution_count": 3,
     "output_type": "error",
     "traceback": [
      "Error: Line 1, Character 5",
      "let assign_name:string = null;",
      "____^",
      "TS2322: Type 'null' is not assignable to type 'string'.",
      "    at execTranspile (/usr/local/lib/node_modules/itypescript/lib/kernel.js:229:23)",
      "    at Session.transpiler [as transpile] (/usr/local/lib/node_modules/itypescript/lib/kernel.js:288:35)",
      "    at Session._runNow (/usr/local/lib/node_modules/itypescript/node_modules/nel/lib/nel.js:835:39)",
      "    at Session._run (/usr/local/lib/node_modules/itypescript/node_modules/nel/lib/nel.js:786:14)",
      "    at Session.execute (/usr/local/lib/node_modules/itypescript/node_modules/nel/lib/nel.js:929:10)",
      "    at Kernel.execute_request (/usr/local/lib/node_modules/itypescript/node_modules/jp-kernel/lib/handlers_v5.js:116:18)",
      "    at Kernel.onShellMessage (/usr/local/lib/node_modules/itypescript/node_modules/jp-kernel/lib/jp-kernel.js:285:41)",
      "    at Socket.<anonymous> (/usr/local/lib/node_modules/itypescript/node_modules/jmp/index.js:350:17)",
      "    at Socket.emit (node:events:513:28)",
      "    at Socket._emitMessage (/usr/local/lib/node_modules/itypescript/node_modules/zeromq/lib/index.js:649:15)"
     ]
    }
   ],
   "source": [
    "let assign_name:string = null;\n",
    "\n",
    "if (!assign_name) {\n",
    "  assign_name = '미네랄';\n",
    "}"
   ]
  },
  {
   "cell_type": "markdown",
   "id": "3436ea96-1be7-4064-acb8-58057af52c35",
   "metadata": {},
   "source": [
    "### 유니언타입으로 널을 추가 "
   ]
  },
  {
   "cell_type": "code",
   "execution_count": 4,
   "id": "3f05fd56-1fd0-41b6-b38a-929fc65c6d89",
   "metadata": {},
   "outputs": [
    {
     "data": {
      "text/plain": [
       "'미네랄'"
      ]
     },
     "execution_count": 4,
     "metadata": {},
     "output_type": "execute_result"
    }
   ],
   "source": [
    "let assign_name:string|null = null;\n",
    "\n",
    "if (!assign_name) {\n",
    "  assign_name = '미네랄';\n",
    "}"
   ]
  },
  {
   "cell_type": "code",
   "execution_count": null,
   "id": "9aba87c6-3dfd-45ad-aebc-66bc9b2130df",
   "metadata": {},
   "outputs": [],
   "source": []
  }
 ],
 "metadata": {
  "kernelspec": {
   "display_name": "Typescript 4.9",
   "language": "typescript",
   "name": "typescript"
  },
  "language_info": {
   "file_extension": ".ts",
   "mimetype": "application/x-typescript",
   "name": "typescript",
   "version": "4.9.5"
  }
 },
 "nbformat": 4,
 "nbformat_minor": 5
}
