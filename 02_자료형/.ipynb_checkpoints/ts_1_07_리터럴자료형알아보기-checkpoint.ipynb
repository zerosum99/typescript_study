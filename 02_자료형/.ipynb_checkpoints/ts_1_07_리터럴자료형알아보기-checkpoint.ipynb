{
 "cells": [
  {
   "cell_type": "code",
   "execution_count": null,
   "id": "373ae32a-ebde-4c0e-ae15-f209be5466c4",
   "metadata": {},
   "outputs": [],
   "source": []
  },
  {
   "cell_type": "markdown",
   "id": "8c5f77e4-7e31-4dfd-bc5d-ec9befc9024a",
   "metadata": {},
   "source": [
    "# 1. 리터럴 자료형(literal types)은 \n",
    "- 특정한 값을 나타내는 타입을 의미합니다. \n",
    "- 이러한 타입은 해당 값의 유일한 값으로 제한되며, 리터럴 값 자체를 타입으로 사용\n",
    "- 특정 원시자료형의 값을 자료형으로 처리 "
   ]
  },
  {
   "cell_type": "markdown",
   "id": "18e2add0-b6b8-4746-8206-d38229434ffb",
   "metadata": {},
   "source": [
    "## 1-1 문자 리터럴로  자료형 지정하기 "
   ]
  },
  {
   "cell_type": "markdown",
   "id": "c43faab4-fc95-4b02-b94a-403dec70e1b2",
   "metadata": {},
   "source": [
    "### 문자열 리터럴 지정하면 string으로 인식 "
   ]
  },
  {
   "cell_type": "code",
   "execution_count": 1,
   "id": "a7054502-f102-46f7-840f-be5c80d1bcbd",
   "metadata": {},
   "outputs": [
    {
     "data": {
      "text/plain": [
       "'use strict'"
      ]
     },
     "execution_count": 1,
     "metadata": {},
     "output_type": "execute_result"
    }
   ],
   "source": [
    "const abc = \"abc\";\n"
   ]
  },
  {
   "cell_type": "code",
   "execution_count": 2,
   "id": "31a98713-9f61-47a6-bd87-50b9296468f3",
   "metadata": {},
   "outputs": [
    {
     "data": {
      "text/plain": [
       "'string'"
      ]
     },
     "execution_count": 2,
     "metadata": {},
     "output_type": "execute_result"
    }
   ],
   "source": [
    "typeof abc"
   ]
  },
  {
   "cell_type": "markdown",
   "id": "bfa4547b-313a-479b-9400-a2ec62270a76",
   "metadata": {},
   "source": [
    "### 문자열 리터럴 값을 자료형으로 지정 가능 "
   ]
  },
  {
   "cell_type": "code",
   "execution_count": 3,
   "id": "35ebf746-d7fe-43f8-8c05-844cf6c59018",
   "metadata": {},
   "outputs": [
    {
     "data": {
      "text/plain": [
       "undefined"
      ]
     },
     "execution_count": 3,
     "metadata": {},
     "output_type": "execute_result"
    }
   ],
   "source": [
    "let labc : \"abc\" = \"abc\""
   ]
  },
  {
   "cell_type": "code",
   "execution_count": 4,
   "id": "0b33659c-7dcd-4cc7-bed5-8a88ab565641",
   "metadata": {},
   "outputs": [
    {
     "data": {
      "text/plain": [
       "'string'"
      ]
     },
     "execution_count": 4,
     "metadata": {},
     "output_type": "execute_result"
    }
   ],
   "source": [
    "typeof labc"
   ]
  },
  {
   "cell_type": "markdown",
   "id": "f39f1939-98d9-41fe-9c9e-f8ee31f2f471",
   "metadata": {},
   "source": [
    "### 다른 값을 지정하면 다른 자료형으로 인식처리 "
   ]
  },
  {
   "cell_type": "code",
   "execution_count": 5,
   "id": "9fcc877d-57ad-4d59-a24c-3b14d85df433",
   "metadata": {},
   "outputs": [
    {
     "ename": "Error",
     "evalue": "Line 1, Character 1\nlabc = \"labc\"\n^\nTS2322: Type '\"labc\"' is not assignable to type '\"abc\"'.",
     "execution_count": 5,
     "output_type": "error",
     "traceback": [
      "Error: Line 1, Character 1",
      "labc = \"labc\"",
      "^",
      "TS2322: Type '\"labc\"' is not assignable to type '\"abc\"'.",
      "    at execTranspile (/usr/local/lib/node_modules/itypescript/lib/kernel.js:229:23)",
      "    at Session.transpiler [as transpile] (/usr/local/lib/node_modules/itypescript/lib/kernel.js:288:35)",
      "    at Session._runNow (/usr/local/lib/node_modules/itypescript/node_modules/nel/lib/nel.js:835:39)",
      "    at Session._run (/usr/local/lib/node_modules/itypescript/node_modules/nel/lib/nel.js:786:14)",
      "    at Session.execute (/usr/local/lib/node_modules/itypescript/node_modules/nel/lib/nel.js:929:10)",
      "    at Kernel.execute_request (/usr/local/lib/node_modules/itypescript/node_modules/jp-kernel/lib/handlers_v5.js:116:18)",
      "    at Kernel.onShellMessage (/usr/local/lib/node_modules/itypescript/node_modules/jp-kernel/lib/jp-kernel.js:285:41)",
      "    at Socket.<anonymous> (/usr/local/lib/node_modules/itypescript/node_modules/jmp/index.js:350:17)",
      "    at Socket.emit (node:events:513:28)",
      "    at Socket._emitMessage (/usr/local/lib/node_modules/itypescript/node_modules/zeromq/lib/index.js:649:15)"
     ]
    }
   ],
   "source": [
    "labc = \"labc\""
   ]
  },
  {
   "cell_type": "code",
   "execution_count": null,
   "id": "bc227e0c-2323-46ad-80ba-a0b9b11ccdb3",
   "metadata": {},
   "outputs": [],
   "source": []
  },
  {
   "cell_type": "markdown",
   "id": "32234365-bb46-474a-92a5-0cf8cd3d6c05",
   "metadata": {},
   "source": [
    "## 2 원시자료형으로 유니온 처리하기 \n",
    "\n",
    "- 원시 자료형으로 다양한 자료형을 처리할 수 있다"
   ]
  },
  {
   "cell_type": "markdown",
   "id": "87bbfcb9-4ec1-47aa-b046-5638ef5fb37b",
   "metadata": {},
   "source": [
    "## 2-1 문자열 리터럴로 유니온 처리하기 \n",
    "\n",
    "- 특정 문자열 값만 처리할 수 있는 자료형을 만들고\n",
    "- 이 자료형을 처리"
   ]
  },
  {
   "cell_type": "code",
   "execution_count": 2,
   "id": "f38b33c6-734e-497c-9a16-814e45370594",
   "metadata": {},
   "outputs": [
    {
     "data": {
      "text/plain": [
       "'use strict'"
      ]
     },
     "execution_count": 2,
     "metadata": {},
     "output_type": "execute_result"
    }
   ],
   "source": [
    "type Status = \"success\" | \"error\" | \"warning\";\n",
    "{ \n",
    "    let status: Status = \"success\"; // 가능\n",
    "    // status = \"info\"; // 에러: \"info\"는 타입 'Status'에 할당할 수 없음\n",
    "}"
   ]
  },
  {
   "cell_type": "markdown",
   "id": "18a4830f-7ec1-4df7-bd71-a2bc9ba8d7eb",
   "metadata": {},
   "source": [
    "## 2-2 숫자 리터럴 처리하기 "
   ]
  },
  {
   "cell_type": "code",
   "execution_count": null,
   "id": "0a79e601-9d55-4f79-b459-23a5f0f7961a",
   "metadata": {},
   "outputs": [],
   "source": [
    "type EvenNumber = 2 | 4 | 6 | 8;\n",
    "{\n",
    "    let num: EvenNumber = 4; // 가능\n",
    "    // num = 3; // 에러: 3은 타입 'EvenNumber'에 할당할 수 없음\n",
    "}"
   ]
  },
  {
   "cell_type": "code",
   "execution_count": null,
   "id": "0d399ece-26f7-4503-bb16-d3e2191fc85f",
   "metadata": {},
   "outputs": [],
   "source": []
  },
  {
   "cell_type": "markdown",
   "id": "d9c451f8-623b-4240-97a7-6172f59e7cb6",
   "metadata": {},
   "source": [
    "## 2-3 불리언 리터럴 처리하기 "
   ]
  },
  {
   "cell_type": "code",
   "execution_count": 3,
   "id": "19f5a40c-ff5e-4beb-9725-d4e4a4df59cd",
   "metadata": {},
   "outputs": [
    {
     "data": {
      "text/plain": [
       "undefined"
      ]
     },
     "execution_count": 3,
     "metadata": {},
     "output_type": "execute_result"
    }
   ],
   "source": [
    "type BooleanFlag = true | false;\n",
    "{\n",
    "    let flag: BooleanFlag = true; // 가능\n",
    "    // flag = null; // 에러: null은 타입 'BooleanFlag'에 할당할 수 없음\n",
    "}"
   ]
  },
  {
   "cell_type": "code",
   "execution_count": null,
   "id": "7561db12-2b03-4a7d-9b11-a13f69212bb1",
   "metadata": {},
   "outputs": [],
   "source": []
  },
  {
   "cell_type": "markdown",
   "id": "a30e76e3-756b-4890-be13-fbea4c63a50e",
   "metadata": {},
   "source": [
    "## 2-4 원시 자료형과 리터럴 자료형의 혼용"
   ]
  },
  {
   "cell_type": "code",
   "execution_count": 8,
   "id": "c1e4474e-f9bd-402c-87e1-ce72a32c9109",
   "metadata": {},
   "outputs": [
    {
     "data": {
      "text/plain": [
       "undefined"
      ]
     },
     "execution_count": 8,
     "metadata": {},
     "output_type": "execute_result"
    }
   ],
   "source": [
    "let lifespa : number | \"ongoing\" | \"uncertain\";"
   ]
  },
  {
   "cell_type": "code",
   "execution_count": null,
   "id": "f8f9b9cc-6de6-4bc6-a417-08e7cc4e3b18",
   "metadata": {},
   "outputs": [],
   "source": []
  },
  {
   "cell_type": "code",
   "execution_count": 9,
   "id": "eb38eed2-76b8-48b5-9636-b9cc1ff6ea9e",
   "metadata": {},
   "outputs": [
    {
     "data": {
      "text/plain": [
       "100"
      ]
     },
     "execution_count": 9,
     "metadata": {},
     "output_type": "execute_result"
    }
   ],
   "source": [
    "lifespa = 100;"
   ]
  },
  {
   "cell_type": "code",
   "execution_count": 10,
   "id": "333f0dfc-b02f-42ac-8193-76e70b602c7c",
   "metadata": {},
   "outputs": [
    {
     "data": {
      "text/plain": [
       "'ongoing'"
      ]
     },
     "execution_count": 10,
     "metadata": {},
     "output_type": "execute_result"
    }
   ],
   "source": [
    "lifespa = \"ongoing\";"
   ]
  },
  {
   "cell_type": "code",
   "execution_count": 11,
   "id": "c3d523c2-6661-4ced-97ac-a6c3fd77ad89",
   "metadata": {},
   "outputs": [
    {
     "ename": "Error",
     "evalue": "Line 1, Character 1\nlifespa = true;\n^\nTS2322: Type 'true' is not assignable to type 'number | \"ongoing\" | \"uncertain\"'.",
     "execution_count": 11,
     "output_type": "error",
     "traceback": [
      "Error: Line 1, Character 1",
      "lifespa = true;",
      "^",
      "TS2322: Type 'true' is not assignable to type 'number | \"ongoing\" | \"uncertain\"'.",
      "    at execTranspile (/usr/local/lib/node_modules/itypescript/lib/kernel.js:229:23)",
      "    at Session.transpiler [as transpile] (/usr/local/lib/node_modules/itypescript/lib/kernel.js:288:35)",
      "    at Session._runNow (/usr/local/lib/node_modules/itypescript/node_modules/nel/lib/nel.js:835:39)",
      "    at Session._run (/usr/local/lib/node_modules/itypescript/node_modules/nel/lib/nel.js:786:14)",
      "    at Session.execute (/usr/local/lib/node_modules/itypescript/node_modules/nel/lib/nel.js:929:10)",
      "    at Kernel.execute_request (/usr/local/lib/node_modules/itypescript/node_modules/jp-kernel/lib/handlers_v5.js:116:18)",
      "    at Kernel.onShellMessage (/usr/local/lib/node_modules/itypescript/node_modules/jp-kernel/lib/jp-kernel.js:285:41)",
      "    at Socket.<anonymous> (/usr/local/lib/node_modules/itypescript/node_modules/jmp/index.js:350:17)",
      "    at Socket.emit (node:events:513:28)",
      "    at Socket._emitMessage (/usr/local/lib/node_modules/itypescript/node_modules/zeromq/lib/index.js:649:15)"
     ]
    }
   ],
   "source": [
    "lifespa = true;"
   ]
  },
  {
   "cell_type": "code",
   "execution_count": null,
   "id": "bc37ae5b-9693-44a8-9504-031d0c4b6561",
   "metadata": {},
   "outputs": [],
   "source": []
  }
 ],
 "metadata": {
  "kernelspec": {
   "display_name": "Typescript 4.9",
   "language": "typescript",
   "name": "typescript"
  },
  "language_info": {
   "file_extension": ".ts",
   "mimetype": "application/x-typescript",
   "name": "typescript",
   "version": "4.9.5"
  }
 },
 "nbformat": 4,
 "nbformat_minor": 5
}
