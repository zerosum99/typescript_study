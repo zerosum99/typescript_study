{
 "cells": [
  {
   "cell_type": "code",
   "execution_count": null,
   "id": "a19100f5-6336-491b-8646-af4129d28dd1",
   "metadata": {},
   "outputs": [],
   "source": []
  },
  {
   "cell_type": "code",
   "execution_count": null,
   "id": "9a4e79ee-479e-4db8-9d52-5f731afca38e",
   "metadata": {},
   "outputs": [],
   "source": []
  },
  {
   "cell_type": "markdown",
   "id": "60437e65-e0fc-49b0-8a01-a234c018ef35",
   "metadata": {},
   "source": [
    "## 1. enum 타입 \n",
    "\n",
    "\n",
    "- enum 열거형 데이터 타입을 지원합니다.\n",
    "- 멤버라 불리는 명명된 값의 집합을 이루는 자료형으로  기억하기 어려운 숫자 대신 친숙한 이름으로 접근/사용하기 위해 활용할 수 있습니다.\n",
    "- 열거된 각 멤버는 별도의 값이 설정되지 않은 경우 기본적으로 0부터 시작합니다. "
   ]
  },
  {
   "cell_type": "markdown",
   "id": "81fc9311-fa51-40d1-b0c5-c08c43966e4c",
   "metadata": {},
   "source": [
    "## 1-1 이넘 정의\n",
    "\n",
    "- 기본 값은 0부터 시작한다. "
   ]
  },
  {
   "cell_type": "code",
   "execution_count": 2,
   "id": "f66f3e83-b932-4a06-bc84-68818c07f000",
   "metadata": {},
   "outputs": [
    {
     "data": {
      "text/plain": [
       "undefined"
      ]
     },
     "execution_count": 2,
     "metadata": {},
     "output_type": "execute_result"
    }
   ],
   "source": [
    "enum Team {\n",
    "  Manager,   // 0\n",
    "  Planner,   // 1\n",
    "  Developer, // 2\n",
    "  Designer,  // 3\n",
    "}\n",
    "\n",
    "let sarha:number = Team.Designer; // (enum member) Team.Designer = 3"
   ]
  },
  {
   "cell_type": "code",
   "execution_count": 3,
   "id": "a7b0de1b-ffee-4b9d-a152-1c05602ec470",
   "metadata": {},
   "outputs": [
    {
     "data": {
      "text/plain": [
       "3"
      ]
     },
     "execution_count": 3,
     "metadata": {},
     "output_type": "execute_result"
    }
   ],
   "source": [
    "sarha"
   ]
  },
  {
   "cell_type": "markdown",
   "id": "e7dc5a1a-079a-4e97-ae41-eb399c75d868",
   "metadata": {},
   "source": [
    "## 처음 값 조정하기 "
   ]
  },
  {
   "cell_type": "code",
   "execution_count": 13,
   "id": "e7269c12-fd82-4707-8f69-2b5f32bb1469",
   "metadata": {},
   "outputs": [
    {
     "data": {
      "text/plain": [
       "undefined"
      ]
     },
     "execution_count": 13,
     "metadata": {},
     "output_type": "execute_result"
    }
   ],
   "source": [
    "enum Direction {\n",
    "  Up = 1,\n",
    "  Down,\n",
    "  Left,\n",
    "  Right,\n",
    "}"
   ]
  },
  {
   "cell_type": "code",
   "execution_count": null,
   "id": "5930aad6-afa5-4305-8ac6-c6a5e367a202",
   "metadata": {},
   "outputs": [],
   "source": []
  },
  {
   "cell_type": "markdown",
   "id": "543f8a88-46ad-4fe3-8374-ee9fcff39a86",
   "metadata": {},
   "source": [
    "## 1-2 이넘 값 조정 "
   ]
  },
  {
   "cell_type": "code",
   "execution_count": 8,
   "id": "8cef1fe0-c4e6-44f6-8978-06391af3c141",
   "metadata": {},
   "outputs": [
    {
     "data": {
      "text/plain": [
       "undefined"
      ]
     },
     "execution_count": 8,
     "metadata": {},
     "output_type": "execute_result"
    }
   ],
   "source": [
    "enum Team1 {\n",
    "  Manager   = 101,\n",
    "  Planner   = 208,\n",
    "  Developer = 302,\n",
    "  Designer, // 302 + 1\n",
    "}\n",
    "\n",
    "let yamoo1:number = Team1.Manager; // (enum member) Team.Manager = 101\n",
    "let sarha1:number = Team1.Designer; // (enum member) Team.Designer = 303"
   ]
  },
  {
   "cell_type": "code",
   "execution_count": 9,
   "id": "4553b700-dab6-4fad-ad93-14ad4d087777",
   "metadata": {},
   "outputs": [
    {
     "data": {
      "text/plain": [
       "101"
      ]
     },
     "execution_count": 9,
     "metadata": {},
     "output_type": "execute_result"
    }
   ],
   "source": [
    "yamoo1"
   ]
  },
  {
   "cell_type": "code",
   "execution_count": 10,
   "id": "66e19188-15f2-44e1-a040-396f6aff2932",
   "metadata": {},
   "outputs": [
    {
     "data": {
      "text/plain": [
       "303"
      ]
     },
     "execution_count": 10,
     "metadata": {},
     "output_type": "execute_result"
    }
   ],
   "source": [
    "sarha1"
   ]
  },
  {
   "cell_type": "code",
   "execution_count": null,
   "id": "64247743-9a30-4b9c-a4c8-8abaf7716531",
   "metadata": {},
   "outputs": [],
   "source": []
  },
  {
   "cell_type": "markdown",
   "id": "d743d8b0-f63c-46ae-9d13-6a83fc792d35",
   "metadata": {},
   "source": [
    "## 1-3 문자열 이넘 "
   ]
  },
  {
   "cell_type": "code",
   "execution_count": null,
   "id": "9730d847-a884-46ad-b05f-fee5c4ca582a",
   "metadata": {},
   "outputs": [],
   "source": []
  },
  {
   "cell_type": "code",
   "execution_count": 15,
   "id": "3efd9839-313b-4cf5-9f0d-a861f79eb335",
   "metadata": {},
   "outputs": [
    {
     "data": {
      "text/plain": [
       "undefined"
      ]
     },
     "execution_count": 15,
     "metadata": {},
     "output_type": "execute_result"
    }
   ],
   "source": [
    "enum Direction1 {\n",
    "  Up = \"UP\",\n",
    "  Down = \"DOWN\",\n",
    "  Left = \"LEFT\",\n",
    "  Right = \"RIGHT\",\n",
    "}"
   ]
  },
  {
   "cell_type": "code",
   "execution_count": null,
   "id": "02a5a917-0f39-45d0-b0c9-7f80802c4114",
   "metadata": {},
   "outputs": [],
   "source": []
  },
  {
   "cell_type": "markdown",
   "id": "8c48665d-8264-4865-be08-e66a22c574e3",
   "metadata": {},
   "source": [
    "## 1-4 혼용사용하기 "
   ]
  },
  {
   "cell_type": "code",
   "execution_count": 16,
   "id": "1d7efc8c-f91f-47f4-b582-0110f1150dba",
   "metadata": {},
   "outputs": [
    {
     "data": {
      "text/plain": [
       "undefined"
      ]
     },
     "execution_count": 16,
     "metadata": {},
     "output_type": "execute_result"
    }
   ],
   "source": [
    "enum BooleanLikeHeterogeneousEnum {\n",
    "  No = 0,\n",
    "  Yes = \"YES\",\n",
    "}"
   ]
  },
  {
   "cell_type": "code",
   "execution_count": null,
   "id": "02a91f5a-a702-486c-8fd6-149e8e635ad4",
   "metadata": {},
   "outputs": [],
   "source": []
  },
  {
   "cell_type": "markdown",
   "id": "0feb6fca-4c3d-4f09-a538-f831d331a788",
   "metadata": {},
   "source": [
    "## 1-5 계산된 멤버와 상수 멤버 (Computed and constant members)\n"
   ]
  },
  {
   "cell_type": "code",
   "execution_count": 18,
   "id": "f56c1363-23b2-4f1d-891f-9fa81ba46500",
   "metadata": {},
   "outputs": [
    {
     "data": {
      "text/plain": [
       "undefined"
      ]
     },
     "execution_count": 18,
     "metadata": {},
     "output_type": "execute_result"
    }
   ],
   "source": [
    "enum FileAccess {\n",
    "  // 상수 멤버\n",
    "  None,\n",
    "  Read = 1 << 1,\n",
    "  Write = 1 << 2,\n",
    "  ReadWrite = Read | Write,\n",
    "  // 계산된 멤버\n",
    "  G = \"123\".length,\n",
    "}\n"
   ]
  },
  {
   "cell_type": "code",
   "execution_count": null,
   "id": "2a4b7453-3de0-4d73-b6e9-628e5fc3de86",
   "metadata": {},
   "outputs": [],
   "source": []
  }
 ],
 "metadata": {
  "kernelspec": {
   "display_name": "Typescript 4.9",
   "language": "typescript",
   "name": "typescript"
  },
  "language_info": {
   "file_extension": ".ts",
   "mimetype": "application/x-typescript",
   "name": "typescript",
   "version": "4.9.5"
  }
 },
 "nbformat": 4,
 "nbformat_minor": 5
}
