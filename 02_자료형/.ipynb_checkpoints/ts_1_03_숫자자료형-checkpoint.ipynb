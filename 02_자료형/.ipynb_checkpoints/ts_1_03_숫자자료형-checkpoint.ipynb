{
 "cells": [
  {
   "cell_type": "code",
   "execution_count": null,
   "id": "acf74bbc-183a-423c-9109-acdeecb78f7f",
   "metadata": {},
   "outputs": [],
   "source": []
  },
  {
   "cell_type": "code",
   "execution_count": null,
   "id": "9a341e20-3226-417f-ad28-814b4a143a51",
   "metadata": {},
   "outputs": [],
   "source": []
  },
  {
   "cell_type": "markdown",
   "id": "9368b176-2b66-419c-83d7-25165ba33390",
   "metadata": {},
   "source": [
    "## 2. 숫자 자료형 "
   ]
  },
  {
   "cell_type": "markdown",
   "id": "4e483b99-7be7-400b-a3fb-0110fa00d948",
   "metadata": {},
   "source": [
    "## 2-1 타입추론 \n",
    "- 자스처럼 타입을 지정하지 않으면 타입을 추론한다"
   ]
  },
  {
   "cell_type": "code",
   "execution_count": 7,
   "id": "2c20e2c6-9d40-47ad-831c-60c0073878e5",
   "metadata": {},
   "outputs": [
    {
     "data": {
      "text/plain": [
       "undefined"
      ]
     },
     "execution_count": 7,
     "metadata": {},
     "output_type": "execute_result"
    }
   ],
   "source": [
    "let num_js  = 10;"
   ]
  },
  {
   "cell_type": "code",
   "execution_count": 8,
   "id": "bbc2718a-f98b-4bfc-81cc-8e3295055d13",
   "metadata": {},
   "outputs": [
    {
     "data": {
      "text/plain": [
       "10"
      ]
     },
     "execution_count": 8,
     "metadata": {},
     "output_type": "execute_result"
    }
   ],
   "source": [
    "num_js"
   ]
  },
  {
   "cell_type": "code",
   "execution_count": 9,
   "id": "18ab3dca-7c5a-4104-8d05-bfdef0c43f9c",
   "metadata": {},
   "outputs": [
    {
     "data": {
      "text/plain": [
       "'number'"
      ]
     },
     "execution_count": 9,
     "metadata": {},
     "output_type": "execute_result"
    }
   ],
   "source": [
    "typeof num_js"
   ]
  },
  {
   "cell_type": "code",
   "execution_count": null,
   "id": "200b0a57-0e6c-480d-bdae-e307582958cd",
   "metadata": {},
   "outputs": [],
   "source": []
  },
  {
   "cell_type": "markdown",
   "id": "3ef0b123-566b-4b6c-9745-6448e928db5c",
   "metadata": {},
   "source": [
    "## 2-2  타입을 지정\n",
    "\n",
    "- 변수 다음에 타입을 지정한다 "
   ]
  },
  {
   "cell_type": "code",
   "execution_count": 10,
   "id": "131abf9b-ef2d-40e9-89d6-3b174e6b99c2",
   "metadata": {},
   "outputs": [
    {
     "data": {
      "text/plain": [
       "undefined"
      ]
     },
     "execution_count": 10,
     "metadata": {},
     "output_type": "execute_result"
    }
   ],
   "source": [
    "let num: number = 10;"
   ]
  },
  {
   "cell_type": "code",
   "execution_count": 11,
   "id": "1f2285e5-9cd6-4466-9a47-c409ff13cf37",
   "metadata": {},
   "outputs": [
    {
     "data": {
      "text/plain": [
       "10"
      ]
     },
     "execution_count": 11,
     "metadata": {},
     "output_type": "execute_result"
    }
   ],
   "source": [
    "num"
   ]
  },
  {
   "cell_type": "code",
   "execution_count": 12,
   "id": "545671d0-701d-4a12-bc44-f766e44852fb",
   "metadata": {},
   "outputs": [
    {
     "data": {
      "text/plain": [
       "'number'"
      ]
     },
     "execution_count": 12,
     "metadata": {},
     "output_type": "execute_result"
    }
   ],
   "source": [
    "typeof num"
   ]
  },
  {
   "cell_type": "code",
   "execution_count": null,
   "id": "1103ff69-87ee-473e-a4eb-68cb5ccbd168",
   "metadata": {},
   "outputs": [],
   "source": []
  },
  {
   "cell_type": "code",
   "execution_count": null,
   "id": "5ee86ce0-cc78-4fe5-80da-eeafb56fc971",
   "metadata": {},
   "outputs": [],
   "source": []
  },
  {
   "cell_type": "code",
   "execution_count": null,
   "id": "aaaa0536-16f5-466e-9305-da73c87092a2",
   "metadata": {},
   "outputs": [],
   "source": []
  }
 ],
 "metadata": {
  "kernelspec": {
   "display_name": "Typescript 4.9",
   "language": "typescript",
   "name": "typescript"
  },
  "language_info": {
   "file_extension": ".ts",
   "mimetype": "application/x-typescript",
   "name": "typescript",
   "version": "4.9.5"
  }
 },
 "nbformat": 4,
 "nbformat_minor": 5
}
