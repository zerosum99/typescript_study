{
 "cells": [
  {
   "cell_type": "code",
   "execution_count": null,
   "id": "acf74bbc-183a-423c-9109-acdeecb78f7f",
   "metadata": {},
   "outputs": [],
   "source": []
  },
  {
   "cell_type": "code",
   "execution_count": null,
   "id": "50552489-de84-4aa2-8c28-f32389e9865e",
   "metadata": {},
   "outputs": [],
   "source": []
  },
  {
   "cell_type": "markdown",
   "id": "fbacb5b1-d864-45c9-8d9a-b31169eb7c7e",
   "metadata": {},
   "source": [
    "## 1. 튜플\n",
    "\n",
    "- 튜플 자료형은 배열 내의 여러 자료형을 가지고 확인\n",
    "- 배열은 단일 자료형으로 처리 "
   ]
  },
  {
   "cell_type": "code",
   "execution_count": null,
   "id": "de3d1e8b-7a0c-46b2-a875-306403e45fea",
   "metadata": {},
   "outputs": [],
   "source": []
  },
  {
   "cell_type": "markdown",
   "id": "3e6ef7d0-6b96-4a0d-8021-26828e539d7e",
   "metadata": {},
   "source": [
    "## 1-1 타입 지정"
   ]
  },
  {
   "cell_type": "code",
   "execution_count": 17,
   "id": "ce19e9be-e0df-4710-ab0a-79ecdaa4520e",
   "metadata": {},
   "outputs": [
    {
     "data": {
      "text/plain": [
       "undefined"
      ]
     },
     "execution_count": 17,
     "metadata": {},
     "output_type": "execute_result"
    }
   ],
   "source": [
    "let tt :[string, number] = ['hi', 100];"
   ]
  },
  {
   "cell_type": "code",
   "execution_count": 18,
   "id": "6b6e76dc-1b58-4ed4-8fef-000b0b5e33f5",
   "metadata": {},
   "outputs": [
    {
     "data": {
      "text/plain": [
       "'object'"
      ]
     },
     "execution_count": 18,
     "metadata": {},
     "output_type": "execute_result"
    }
   ],
   "source": [
    "typeof tt"
   ]
  },
  {
   "cell_type": "code",
   "execution_count": null,
   "id": "7d1153fc-a7ee-4fdc-a178-471ce0a9cb6c",
   "metadata": {},
   "outputs": [],
   "source": []
  },
  {
   "cell_type": "code",
   "execution_count": 21,
   "id": "412b24b9-5da9-4a12-b104-e22503a895f5",
   "metadata": {},
   "outputs": [
    {
     "name": "stdout",
     "output_type": "stream",
     "text": [
      "This is an array.\n"
     ]
    },
    {
     "data": {
      "text/plain": [
       "undefined"
      ]
     },
     "execution_count": 21,
     "metadata": {},
     "output_type": "execute_result"
    }
   ],
   "source": [
    "let role2: [string, string, number] = [\"admin\", \"manager\", 40];\n",
    "\n",
    "if (Array.isArray(role2)) {\n",
    "  console.log('This is an array.');     \n",
    "} else {\n",
    "  console.log('This is not an array.');  \n",
    "}"
   ]
  },
  {
   "cell_type": "markdown",
   "id": "9d02a330-59ae-48a6-96fe-4400d9870d02",
   "metadata": {},
   "source": [
    "### 1-2 튜플로 자료형 정의 "
   ]
  },
  {
   "cell_type": "code",
   "execution_count": 19,
   "id": "502aee72-e206-47a5-a4c3-896019b57279",
   "metadata": {},
   "outputs": [
    {
     "data": {
      "text/plain": [
       "undefined"
      ]
     },
     "execution_count": 19,
     "metadata": {},
     "output_type": "execute_result"
    }
   ],
   "source": [
    "let role: [string, string, number] = [\"admin\", \"manager\", 40];"
   ]
  },
  {
   "cell_type": "code",
   "execution_count": 20,
   "id": "d7aee2da-863e-46e2-8cb6-0ce57d015e12",
   "metadata": {},
   "outputs": [
    {
     "data": {
      "text/plain": [
       "true"
      ]
     },
     "execution_count": 20,
     "metadata": {},
     "output_type": "execute_result"
    }
   ],
   "source": [
    "Array.isArray(role)"
   ]
  },
  {
   "cell_type": "code",
   "execution_count": null,
   "id": "deef705b-d10d-4150-aaa2-d6e10a9e3df7",
   "metadata": {},
   "outputs": [],
   "source": []
  },
  {
   "cell_type": "code",
   "execution_count": null,
   "id": "2e3d1e8c-da2c-43c3-a660-11e979706c6e",
   "metadata": {},
   "outputs": [],
   "source": []
  },
  {
   "cell_type": "code",
   "execution_count": null,
   "id": "1103ff69-87ee-473e-a4eb-68cb5ccbd168",
   "metadata": {},
   "outputs": [],
   "source": []
  },
  {
   "cell_type": "code",
   "execution_count": null,
   "id": "5ee86ce0-cc78-4fe5-80da-eeafb56fc971",
   "metadata": {},
   "outputs": [],
   "source": []
  },
  {
   "cell_type": "code",
   "execution_count": null,
   "id": "aaaa0536-16f5-466e-9305-da73c87092a2",
   "metadata": {},
   "outputs": [],
   "source": []
  }
 ],
 "metadata": {
  "kernelspec": {
   "display_name": "Typescript 4.9",
   "language": "typescript",
   "name": "typescript"
  },
  "language_info": {
   "file_extension": ".ts",
   "mimetype": "application/x-typescript",
   "name": "typescript",
   "version": "4.9.5"
  }
 },
 "nbformat": 4,
 "nbformat_minor": 5
}
