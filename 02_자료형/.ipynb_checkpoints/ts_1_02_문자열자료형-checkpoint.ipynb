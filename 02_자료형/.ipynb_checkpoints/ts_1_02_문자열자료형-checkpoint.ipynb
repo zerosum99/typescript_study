{
 "cells": [
  {
   "cell_type": "code",
   "execution_count": null,
   "id": "acf74bbc-183a-423c-9109-acdeecb78f7f",
   "metadata": {},
   "outputs": [],
   "source": []
  },
  {
   "cell_type": "markdown",
   "id": "3de20158-4e74-433e-8d43-b8becfe90a7a",
   "metadata": {},
   "source": [
    "# 1. 문자열 자료형"
   ]
  },
  {
   "cell_type": "markdown",
   "id": "24f3bef9-286a-4929-8d20-fcab2d765bdb",
   "metadata": {},
   "source": [
    "##  1-1 자스와 타스의 차이점 \n",
    "- 자스는 타입을 지정하지 않는다.\n",
    "- 타입스크립트에서는 할당된 값을 보고 타입 추론을 한다.  이 말은 다음에 할당할 때 타입을 체크한다. "
   ]
  },
  {
   "cell_type": "code",
   "execution_count": 1,
   "id": "3314235e-420a-4b5c-8d87-7e3c8e32afc3",
   "metadata": {},
   "outputs": [
    {
     "name": "stdout",
     "output_type": "stream",
     "text": [
      "hi\n",
      "string\n"
     ]
    },
    {
     "data": {
      "text/plain": [
       "undefined"
      ]
     },
     "execution_count": 1,
     "metadata": {},
     "output_type": "execute_result"
    }
   ],
   "source": [
    "{ \n",
    "    let str_js  = 'hi';\n",
    "    console.log(str_js);\n",
    "\n",
    "    console.log(typeof str_js);  // 타입확인 \n",
    "}"
   ]
  },
  {
   "cell_type": "markdown",
   "id": "37aca2a0-b65a-4e14-b53c-f0c4363cafe3",
   "metadata": {},
   "source": [
    "let str_js1 = \"hello\"; \n",
    "console.log(typeof str_js1);"
   ]
  },
  {
   "cell_type": "code",
   "execution_count": null,
   "id": "9cc59ca2-3a6c-41b4-8449-57eeaaf0891a",
   "metadata": {},
   "outputs": [],
   "source": []
  },
  {
   "cell_type": "markdown",
   "id": "c3e7d440-41bf-4d29-b583-e428f4e1a48e",
   "metadata": {},
   "source": [
    "## 1-2  타입확인하기 "
   ]
  },
  {
   "cell_type": "code",
   "execution_count": null,
   "id": "48253dbd-a36a-4b71-ba86-25147e4b4472",
   "metadata": {},
   "outputs": [],
   "source": []
  },
  {
   "cell_type": "code",
   "execution_count": null,
   "id": "746b7836-1bd1-43d7-b835-9e91aaba44ce",
   "metadata": {},
   "outputs": [],
   "source": []
  },
  {
   "cell_type": "code",
   "execution_count": null,
   "id": "d3a788d7-3799-4437-b339-1579e5cb5627",
   "metadata": {},
   "outputs": [],
   "source": []
  },
  {
   "cell_type": "code",
   "execution_count": null,
   "id": "27b33bb5-e778-4ad6-ace3-4db7df773ece",
   "metadata": {},
   "outputs": [],
   "source": []
  },
  {
   "cell_type": "markdown",
   "id": "63590951-2a8d-4079-8b9c-df0ff41e6310",
   "metadata": {},
   "source": [
    "## 1-3  타스일 경우는 타입을 지정도 가능 \n",
    "\n",
    "- 일반적으로 타입을 추혼하지만 명확하게 타입을 지정할 수 잇다. "
   ]
  },
  {
   "cell_type": "code",
   "execution_count": 6,
   "id": "b037b50b-19d3-474d-a83c-78ec9731ff6d",
   "metadata": {},
   "outputs": [
    {
     "data": {
      "text/plain": [
       "undefined"
      ]
     },
     "execution_count": 6,
     "metadata": {},
     "output_type": "execute_result"
    }
   ],
   "source": [
    "let str: string = 'hi';"
   ]
  },
  {
   "cell_type": "code",
   "execution_count": 8,
   "id": "d0f611bb-9894-4ff1-9361-95745084fbcc",
   "metadata": {},
   "outputs": [
    {
     "data": {
      "text/plain": [
       "'hi'"
      ]
     },
     "execution_count": 8,
     "metadata": {},
     "output_type": "execute_result"
    }
   ],
   "source": [
    "str"
   ]
  },
  {
   "cell_type": "markdown",
   "id": "1d2efaf9-894f-43cd-bb1a-8bd955830d19",
   "metadata": {},
   "source": [
    "### 타입확인하기 "
   ]
  },
  {
   "cell_type": "code",
   "execution_count": 9,
   "id": "49ac95bd-9e35-4c42-b3ea-f7840f727d80",
   "metadata": {},
   "outputs": [
    {
     "data": {
      "text/plain": [
       "'string'"
      ]
     },
     "execution_count": 9,
     "metadata": {},
     "output_type": "execute_result"
    }
   ],
   "source": [
    "typeof str"
   ]
  },
  {
   "cell_type": "code",
   "execution_count": null,
   "id": "9a341e20-3226-417f-ad28-814b4a143a51",
   "metadata": {},
   "outputs": [],
   "source": []
  },
  {
   "cell_type": "code",
   "execution_count": null,
   "id": "1103ff69-87ee-473e-a4eb-68cb5ccbd168",
   "metadata": {},
   "outputs": [],
   "source": []
  },
  {
   "cell_type": "code",
   "execution_count": null,
   "id": "5ee86ce0-cc78-4fe5-80da-eeafb56fc971",
   "metadata": {},
   "outputs": [],
   "source": []
  },
  {
   "cell_type": "code",
   "execution_count": null,
   "id": "aaaa0536-16f5-466e-9305-da73c87092a2",
   "metadata": {},
   "outputs": [],
   "source": []
  }
 ],
 "metadata": {
  "kernelspec": {
   "display_name": "Typescript 4.9",
   "language": "typescript",
   "name": "typescript"
  },
  "language_info": {
   "file_extension": ".ts",
   "mimetype": "application/x-typescript",
   "name": "typescript",
   "version": "4.9.5"
  }
 },
 "nbformat": 4,
 "nbformat_minor": 5
}
