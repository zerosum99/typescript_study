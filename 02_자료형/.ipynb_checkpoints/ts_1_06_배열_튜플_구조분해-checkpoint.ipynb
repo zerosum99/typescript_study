{
 "cells": [
  {
   "cell_type": "code",
   "execution_count": null,
   "id": "acf74bbc-183a-423c-9109-acdeecb78f7f",
   "metadata": {},
   "outputs": [],
   "source": []
  },
  {
   "cell_type": "markdown",
   "id": "9be5d7b6-2944-4cae-ad5d-4ec0b5bedd6e",
   "metadata": {},
   "source": [
    "## 배열의 구조분해  : 모든 원소를 구분하기"
   ]
  },
  {
   "cell_type": "code",
   "execution_count": 1,
   "id": "1103ff69-87ee-473e-a4eb-68cb5ccbd168",
   "metadata": {},
   "outputs": [
    {
     "data": {
      "text/plain": [
       "'use strict'"
      ]
     },
     "execution_count": 1,
     "metadata": {},
     "output_type": "execute_result"
    }
   ],
   "source": [
    "const numbers: number[] = [1, 2, 3, 4, 5];\n",
    "\n"
   ]
  },
  {
   "cell_type": "code",
   "execution_count": 5,
   "id": "ed7bbc22-461c-4c75-a3d1-5a7c2b42bd94",
   "metadata": {},
   "outputs": [
    {
     "data": {
      "text/plain": [
       "undefined"
      ]
     },
     "execution_count": 5,
     "metadata": {},
     "output_type": "execute_result"
    }
   ],
   "source": [
    "// 배열의 구조분해\n",
    "const [f, s, a,b,c] = numbers;"
   ]
  },
  {
   "cell_type": "code",
   "execution_count": 7,
   "id": "7f898b24-4b65-46a3-854c-21cbef83ca04",
   "metadata": {},
   "outputs": [
    {
     "name": "stdout",
     "output_type": "stream",
     "text": [
      "1\n",
      "2\n",
      "3 4 5\n"
     ]
    },
    {
     "data": {
      "text/plain": [
       "undefined"
      ]
     },
     "execution_count": 7,
     "metadata": {},
     "output_type": "execute_result"
    }
   ],
   "source": [
    "console.log(f); // 1\n",
    "console.log(s); // 2\n",
    "console.log(a,b,c,); "
   ]
  },
  {
   "cell_type": "markdown",
   "id": "0384f2bb-9c90-497f-8120-a4f88c680986",
   "metadata": {},
   "source": [
    "## 배열의 구조분해 : 나머지 표기법 사용\n",
    "- 특정 위치만 변수를 지정하고 나머지는 스프레드 연산자를 사용해서 처리 "
   ]
  },
  {
   "cell_type": "code",
   "execution_count": 2,
   "id": "5ee86ce0-cc78-4fe5-80da-eeafb56fc971",
   "metadata": {},
   "outputs": [
    {
     "name": "stdout",
     "output_type": "stream",
     "text": [
      "1\n",
      "2\n",
      "[ 3, 4, 5 ]\n"
     ]
    },
    {
     "data": {
      "text/plain": [
       "undefined"
      ]
     },
     "execution_count": 2,
     "metadata": {},
     "output_type": "execute_result"
    }
   ],
   "source": [
    "// 배열의 구조분해\n",
    "const [first, second, ...rest] = numbers;\n",
    "\n",
    "console.log(first); // 1\n",
    "console.log(second); // 2\n",
    "console.log(rest); // [3, 4, 5]"
   ]
  },
  {
   "cell_type": "code",
   "execution_count": null,
   "id": "aaaa0536-16f5-466e-9305-da73c87092a2",
   "metadata": {},
   "outputs": [],
   "source": []
  },
  {
   "cell_type": "markdown",
   "id": "cdea0214-2b22-41b9-b1e0-21fa497b510a",
   "metadata": {},
   "source": [
    "## 특정 위치 사용하지 않기 \n",
    "\n",
    "- 쉼표로 구분함 "
   ]
  },
  {
   "cell_type": "code",
   "execution_count": 3,
   "id": "adeb86f3-61a3-4ef4-a693-988c6f1305da",
   "metadata": {},
   "outputs": [
    {
     "name": "stdout",
     "output_type": "stream",
     "text": [
      "1\n",
      "3\n"
     ]
    },
    {
     "data": {
      "text/plain": [
       "undefined"
      ]
     },
     "execution_count": 3,
     "metadata": {},
     "output_type": "execute_result"
    }
   ],
   "source": [
    "const [one, , three] = numbers;\n",
    "\n",
    "console.log(one); // 1\n",
    "console.log(three); // 3\n"
   ]
  },
  {
   "cell_type": "code",
   "execution_count": null,
   "id": "c86c9400-880e-47ba-828f-5c35d0935fcd",
   "metadata": {},
   "outputs": [],
   "source": []
  },
  {
   "cell_type": "markdown",
   "id": "0ba5bb61-1d03-4d3a-b672-7092bf8e7bb7",
   "metadata": {},
   "source": [
    "## 튜플의 구조분해 "
   ]
  },
  {
   "cell_type": "code",
   "execution_count": 8,
   "id": "5e578a60-a1f6-43bf-a6d8-5576c6d9079c",
   "metadata": {},
   "outputs": [
    {
     "data": {
      "text/plain": [
       "undefined"
      ]
     },
     "execution_count": 8,
     "metadata": {},
     "output_type": "execute_result"
    }
   ],
   "source": [
    "const tuple: [string, number, boolean] = [\"Hello\", 42, true];\n",
    "\n",
    "// 튜플의 구조분해\n",
    "const [str, num, bool] = tuple;\n"
   ]
  },
  {
   "cell_type": "code",
   "execution_count": 9,
   "id": "a7b6b28b-0063-459d-905f-dff35e89a630",
   "metadata": {},
   "outputs": [
    {
     "name": "stdout",
     "output_type": "stream",
     "text": [
      "Hello\n",
      "42\n",
      "true\n"
     ]
    },
    {
     "data": {
      "text/plain": [
       "undefined"
      ]
     },
     "execution_count": 9,
     "metadata": {},
     "output_type": "execute_result"
    }
   ],
   "source": [
    "console.log(str); // \"Hello\"\n",
    "console.log(num); // 42\n",
    "console.log(bool); // true"
   ]
  },
  {
   "cell_type": "markdown",
   "id": "cdd9f735-e1fd-439e-9099-d6ef91613765",
   "metadata": {},
   "source": [
    "## 튜플도 특정위치 사용하지 않기 "
   ]
  },
  {
   "cell_type": "code",
   "execution_count": 12,
   "id": "05804951-4efb-4776-8ce8-399c78856736",
   "metadata": {},
   "outputs": [
    {
     "name": "stdout",
     "output_type": "stream",
     "text": [
      "Hello\n",
      "true\n"
     ]
    },
    {
     "data": {
      "text/plain": [
       "undefined"
      ]
     },
     "execution_count": 12,
     "metadata": {},
     "output_type": "execute_result"
    }
   ],
   "source": [
    "const tuple1: [string, number, boolean] = [\"Hello\", 42, true];\n",
    "\n",
    "// 튜플의 일부 요소 구조분해\n",
    "const [str1, , bool1] = tuple1;\n",
    "\n",
    "console.log(str1); // \"Hello\"\n",
    "console.log(bool1); // true\n"
   ]
  },
  {
   "cell_type": "markdown",
   "id": "bf157f6e-d5b0-4aad-bbde-ff78ae8c990e",
   "metadata": {},
   "source": [
    "## 튜플도 나머지 연산자 사용하기 "
   ]
  },
  {
   "cell_type": "code",
   "execution_count": 13,
   "id": "f4bb44c7-696f-4d26-a73d-2619fea7355d",
   "metadata": {},
   "outputs": [
    {
     "data": {
      "text/plain": [
       "undefined"
      ]
     },
     "execution_count": 13,
     "metadata": {},
     "output_type": "execute_result"
    }
   ],
   "source": [
    "// 튜플의 일부 요소 구조분해\n",
    "const [str2, ...bool2] = tuple1;"
   ]
  },
  {
   "cell_type": "code",
   "execution_count": 14,
   "id": "6cfc39d9-a184-421e-9c02-4b0ec3cc8b65",
   "metadata": {},
   "outputs": [
    {
     "name": "stdout",
     "output_type": "stream",
     "text": [
      "Hello\n",
      "[ 42, true ]\n"
     ]
    },
    {
     "data": {
      "text/plain": [
       "undefined"
      ]
     },
     "execution_count": 14,
     "metadata": {},
     "output_type": "execute_result"
    }
   ],
   "source": [
    "console.log(str2); \n",
    "console.log(bool2); "
   ]
  },
  {
   "cell_type": "code",
   "execution_count": null,
   "id": "4bb38043-5111-442a-abab-32aaadb7055f",
   "metadata": {},
   "outputs": [],
   "source": []
  }
 ],
 "metadata": {
  "kernelspec": {
   "display_name": "Typescript 4.9",
   "language": "typescript",
   "name": "typescript"
  },
  "language_info": {
   "file_extension": ".ts",
   "mimetype": "application/x-typescript",
   "name": "typescript",
   "version": "4.9.5"
  }
 },
 "nbformat": 4,
 "nbformat_minor": 5
}
