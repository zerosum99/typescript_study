{
 "cells": [
  {
   "cell_type": "code",
   "execution_count": null,
   "id": "faa8f930-fd15-47e7-83ec-e756f90b59f5",
   "metadata": {},
   "outputs": [],
   "source": []
  },
  {
   "cell_type": "code",
   "execution_count": null,
   "id": "eb355147-5f63-43d2-9539-9b993b8a1bbd",
   "metadata": {},
   "outputs": [],
   "source": []
  },
  {
   "cell_type": "markdown",
   "id": "d0acf423-7921-4943-a206-4e75a41b5af0",
   "metadata": {},
   "source": [
    "## 1. 불리언, null, undefined"
   ]
  },
  {
   "cell_type": "markdown",
   "id": "3b059a6f-6048-4a42-93d9-152bdafb0585",
   "metadata": {},
   "source": [
    "## 1-1  undefined\n",
    "\n",
    "- undefined는 변수가 선언되었지만 값이 할당되지 않은 상태를 나타냅니다.\n",
    "- 변수에 명시적으로 undefined를 할당할 수도 있습니다.\n",
    "- void 타입의 값도 undefined를 가집니다."
   ]
  },
  {
   "cell_type": "code",
   "execution_count": 1,
   "id": "d4abe5eb-456f-4513-a2f9-7a3c435b33b5",
   "metadata": {},
   "outputs": [
    {
     "data": {
      "text/plain": [
       "'use strict'"
      ]
     },
     "execution_count": 1,
     "metadata": {},
     "output_type": "execute_result"
    }
   ],
   "source": [
    "let a: undefined = undefined;      // \n",
    "let b: void = undefined;           // 반환하지 않는 것 \n",
    "let c: number = 3;\n",
    "let d: undefined;\n"
   ]
  },
  {
   "cell_type": "code",
   "execution_count": 2,
   "id": "23358305-03d5-483e-afe1-e259de3fbabd",
   "metadata": {},
   "outputs": [
    {
     "name": "stdout",
     "output_type": "stream",
     "text": [
      "undefined\n",
      "undefined\n",
      "3\n",
      "undefined\n"
     ]
    },
    {
     "data": {
      "text/plain": [
       "undefined"
      ]
     },
     "execution_count": 2,
     "metadata": {},
     "output_type": "execute_result"
    }
   ],
   "source": [
    "console.log(a); // undefined\n",
    "console.log(b); // undefined\n",
    "console.log(c); // 3\n",
    "console.log(d); // undefined"
   ]
  },
  {
   "cell_type": "code",
   "execution_count": null,
   "id": "ea9bdc9c-9de4-4409-b294-1eed116d33ad",
   "metadata": {},
   "outputs": [],
   "source": []
  },
  {
   "cell_type": "code",
   "execution_count": null,
   "id": "c0524732-67cc-4015-8c58-61eee7663d2e",
   "metadata": {},
   "outputs": [],
   "source": []
  },
  {
   "cell_type": "markdown",
   "id": "3b6d2bf4-244c-42e5-8c7d-3ec236705ac5",
   "metadata": {},
   "source": [
    "## 1-2  null 타입:\n",
    "\n",
    "- null은 변수에 값이 할당되지 않았거나 값이 없음을 나타냅니다.\n",
    "- null을 명시적으로 할당할 수 있습니다."
   ]
  },
  {
   "cell_type": "code",
   "execution_count": 5,
   "id": "e1b864f7-29e1-4e11-8df8-b0a864f2f04b",
   "metadata": {},
   "outputs": [
    {
     "data": {
      "text/plain": [
       "undefined"
      ]
     },
     "execution_count": 5,
     "metadata": {},
     "output_type": "execute_result"
    }
   ],
   "source": [
    "let x: null = null;\n",
    "let y: string = \"hello\";\n",
    "let z: null;"
   ]
  },
  {
   "cell_type": "code",
   "execution_count": 6,
   "id": "d6be07a6-89e2-430f-a20c-71d4458bbbfd",
   "metadata": {},
   "outputs": [
    {
     "name": "stdout",
     "output_type": "stream",
     "text": [
      "null\n",
      "hello\n"
     ]
    },
    {
     "data": {
      "text/plain": [
       "undefined"
      ]
     },
     "execution_count": 6,
     "metadata": {},
     "output_type": "execute_result"
    }
   ],
   "source": [
    "console.log(x); // null\n",
    "console.log(y); // hello"
   ]
  },
  {
   "cell_type": "code",
   "execution_count": null,
   "id": "037276c6-1c5f-48e1-bee4-793589dc7de9",
   "metadata": {},
   "outputs": [],
   "source": []
  },
  {
   "cell_type": "code",
   "execution_count": 7,
   "id": "c760fe7b-fd73-495e-b5bf-f132f5a5ce36",
   "metadata": {},
   "outputs": [
    {
     "ename": "Error",
     "evalue": "Line 1, Character 14\n console.log(z); // 에러 처리 \n_____________^\nTS2454: Variable 'z' is used before being assigned.",
     "execution_count": 7,
     "output_type": "error",
     "traceback": [
      "Error: Line 1, Character 14",
      " console.log(z); // 에러 처리 ",
      "_____________^",
      "TS2454: Variable 'z' is used before being assigned.",
      "    at execTranspile (/usr/local/lib/node_modules/itypescript/lib/kernel.js:229:23)",
      "    at Session.transpiler [as transpile] (/usr/local/lib/node_modules/itypescript/lib/kernel.js:288:35)",
      "    at Session._runNow (/usr/local/lib/node_modules/itypescript/node_modules/nel/lib/nel.js:835:39)",
      "    at Session._run (/usr/local/lib/node_modules/itypescript/node_modules/nel/lib/nel.js:786:14)",
      "    at Session.execute (/usr/local/lib/node_modules/itypescript/node_modules/nel/lib/nel.js:929:10)",
      "    at Kernel.execute_request (/usr/local/lib/node_modules/itypescript/node_modules/jp-kernel/lib/handlers_v5.js:116:18)",
      "    at Kernel.onShellMessage (/usr/local/lib/node_modules/itypescript/node_modules/jp-kernel/lib/jp-kernel.js:285:41)",
      "    at Socket.<anonymous> (/usr/local/lib/node_modules/itypescript/node_modules/jmp/index.js:350:17)",
      "    at Socket.emit (node:events:513:28)",
      "    at Socket._emitMessage (/usr/local/lib/node_modules/itypescript/node_modules/zeromq/lib/index.js:649:15)"
     ]
    }
   ],
   "source": [
    " console.log(z); // 에러 처리 "
   ]
  },
  {
   "cell_type": "code",
   "execution_count": 4,
   "id": "0fb0904f-9540-415a-8947-37064adfc03f",
   "metadata": {},
   "outputs": [
    {
     "ename": "Error",
     "evalue": "Line 1, Character 5\nlet v: void = null;\n____^\nTS2322: Type 'null' is not assignable to type 'void'.",
     "execution_count": 4,
     "output_type": "error",
     "traceback": [
      "Error: Line 1, Character 5",
      "let v: void = null;",
      "____^",
      "TS2322: Type 'null' is not assignable to type 'void'.",
      "    at execTranspile (/usr/local/lib/node_modules/itypescript/lib/kernel.js:229:23)",
      "    at Session.transpiler [as transpile] (/usr/local/lib/node_modules/itypescript/lib/kernel.js:288:35)",
      "    at Session._runNow (/usr/local/lib/node_modules/itypescript/node_modules/nel/lib/nel.js:835:39)",
      "    at Session._run (/usr/local/lib/node_modules/itypescript/node_modules/nel/lib/nel.js:786:14)",
      "    at Session.execute (/usr/local/lib/node_modules/itypescript/node_modules/nel/lib/nel.js:929:10)",
      "    at Kernel.execute_request (/usr/local/lib/node_modules/itypescript/node_modules/jp-kernel/lib/handlers_v5.js:116:18)",
      "    at Kernel.onShellMessage (/usr/local/lib/node_modules/itypescript/node_modules/jp-kernel/lib/jp-kernel.js:285:41)",
      "    at Socket.<anonymous> (/usr/local/lib/node_modules/itypescript/node_modules/jmp/index.js:350:17)",
      "    at Socket.emit (node:events:513:28)",
      "    at Socket._emitMessage (/usr/local/lib/node_modules/itypescript/node_modules/zeromq/lib/index.js:649:15)"
     ]
    }
   ],
   "source": [
    "let v: void = null;"
   ]
  },
  {
   "cell_type": "code",
   "execution_count": null,
   "id": "d2f37f2a-6569-4a2f-8116-0ba3ac5fde5e",
   "metadata": {},
   "outputs": [],
   "source": []
  },
  {
   "cell_type": "markdown",
   "id": "c7796134-6856-4f62-93be-8fcbe4b47373",
   "metadata": {},
   "source": [
    "## 1-3 불리언, truthy, falsy"
   ]
  },
  {
   "cell_type": "markdown",
   "id": "fbb382d3-e83f-4729-bf0e-017cf8019c7b",
   "metadata": {},
   "source": [
    "## 블리언 타입처리하기 "
   ]
  },
  {
   "cell_type": "code",
   "execution_count": 9,
   "id": "69c58f7b-62be-4e78-b9fa-2795511d4005",
   "metadata": {},
   "outputs": [
    {
     "data": {
      "text/plain": [
       "undefined"
      ]
     },
     "execution_count": 9,
     "metadata": {},
     "output_type": "execute_result"
    }
   ],
   "source": [
    "let af = false;"
   ]
  },
  {
   "cell_type": "code",
   "execution_count": 10,
   "id": "b27db08a-9cd4-44e3-aa38-a1f154ef653e",
   "metadata": {},
   "outputs": [
    {
     "data": {
      "text/plain": [
       "'boolean'"
      ]
     },
     "execution_count": 10,
     "metadata": {},
     "output_type": "execute_result"
    }
   ],
   "source": [
    "typeof af"
   ]
  },
  {
   "cell_type": "markdown",
   "id": "d870fa57-35e7-4642-bd78-e852a30d6661",
   "metadata": {},
   "source": [
    "###  참과 거짓 처리 \n",
    "\n",
    "### Truthy 값:\n",
    "\n",
    "- truthy는 불리언 true로 간주되는 값입니다.\n",
    "- 대부분의 값은 truthy로 취급됩니다. (0, 빈 문자열, null, undefined, NaN 제외)\n",
    "- 예를 들어, 문자열 \"hello\", 숫자 42, 객체 등은 truthy입니다.\n"
   ]
  },
  {
   "cell_type": "code",
   "execution_count": 11,
   "id": "8d326574-20cb-4090-ad49-7ad4e8f11e25",
   "metadata": {},
   "outputs": [
    {
     "name": "stdout",
     "output_type": "stream",
     "text": [
      "Truthy!\n"
     ]
    },
    {
     "data": {
      "text/plain": [
       "undefined"
      ]
     },
     "execution_count": 11,
     "metadata": {},
     "output_type": "execute_result"
    }
   ],
   "source": [
    "if (\"hello\") {\n",
    "    console.log(\"Truthy!\"); // 출력됨\n",
    "}"
   ]
  },
  {
   "cell_type": "code",
   "execution_count": 14,
   "id": "4296d2b6-093a-4878-8fa0-8bbd0d1e9f47",
   "metadata": {},
   "outputs": [
    {
     "name": "stdout",
     "output_type": "stream",
     "text": [
      "Truthy!\n"
     ]
    },
    {
     "data": {
      "text/plain": [
       "undefined"
      ]
     },
     "execution_count": 14,
     "metadata": {},
     "output_type": "execute_result"
    }
   ],
   "source": [
    "const value = \"hello\";\n",
    "if (value) {\n",
    "    console.log(\"Truthy!\"); // 출력됨\n",
    "}"
   ]
  },
  {
   "cell_type": "code",
   "execution_count": null,
   "id": "c3f9ebb0-6816-4b98-a138-3bfb9e8a055e",
   "metadata": {},
   "outputs": [],
   "source": []
  },
  {
   "cell_type": "code",
   "execution_count": null,
   "id": "7ad06b5b-e3fb-426b-86ac-0799ae980eda",
   "metadata": {},
   "outputs": [],
   "source": []
  },
  {
   "cell_type": "markdown",
   "id": "20279600-53bb-4cae-bd10-f86f0dd3d12c",
   "metadata": {},
   "source": [
    "## Falsy 값:¶\n",
    "- falsy는 불리언 false로 간주되는 값입니다.\n",
    "- false, 0, 빈 문자열 (\"\"), null, undefined, NaN은 모두 falsy입니다."
   ]
  },
  {
   "cell_type": "code",
   "execution_count": 12,
   "id": "99daed9e-4e4b-4075-b058-921ecb3272ff",
   "metadata": {},
   "outputs": [
    {
     "data": {
      "text/plain": [
       "undefined"
      ]
     },
     "execution_count": 12,
     "metadata": {},
     "output_type": "execute_result"
    }
   ],
   "source": [
    "if (0) {\n",
    "    console.log(\"Falsy!\"); // 출력되지 않음\n",
    "}"
   ]
  },
  {
   "cell_type": "code",
   "execution_count": 13,
   "id": "9c9f5986-1c8b-48e5-abfa-3ccaceb304a4",
   "metadata": {},
   "outputs": [
    {
     "data": {
      "text/plain": [
       "undefined"
      ]
     },
     "execution_count": 13,
     "metadata": {},
     "output_type": "execute_result"
    }
   ],
   "source": [
    "if (null) {\n",
    "    console.log(\"Falsy!\"); // 출력되지 않음\n",
    "}\n"
   ]
  },
  {
   "cell_type": "markdown",
   "id": "0adf7a1f-58b4-4e1a-be55-f9938090d896",
   "metadata": {},
   "source": [
    "### 값처리 예시 2"
   ]
  },
  {
   "cell_type": "code",
   "execution_count": 15,
   "id": "3ff088cb-6e3e-4544-a192-3b411cb1f49d",
   "metadata": {},
   "outputs": [
    {
     "name": "stdout",
     "output_type": "stream",
     "text": [
      "Falsy!\n"
     ]
    },
    {
     "data": {
      "text/plain": [
       "undefined"
      ]
     },
     "execution_count": 15,
     "metadata": {},
     "output_type": "execute_result"
    }
   ],
   "source": [
    "const num = 0;\n",
    "if (!num) {\n",
    "    console.log(\"Falsy!\"); // 출력됨\n",
    "}\n"
   ]
  },
  {
   "cell_type": "code",
   "execution_count": null,
   "id": "2edcd0dc-1494-43c1-a458-a101b79c95c6",
   "metadata": {},
   "outputs": [],
   "source": []
  }
 ],
 "metadata": {
  "kernelspec": {
   "display_name": "Typescript 4.9",
   "language": "typescript",
   "name": "typescript"
  },
  "language_info": {
   "file_extension": ".ts",
   "mimetype": "application/x-typescript",
   "name": "typescript",
   "version": "4.9.5"
  }
 },
 "nbformat": 4,
 "nbformat_minor": 5
}
