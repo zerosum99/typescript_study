{
 "cells": [
  {
   "cell_type": "code",
   "execution_count": null,
   "id": "faa8f930-fd15-47e7-83ec-e756f90b59f5",
   "metadata": {},
   "outputs": [],
   "source": []
  },
  {
   "cell_type": "code",
   "execution_count": null,
   "id": "eb355147-5f63-43d2-9539-9b993b8a1bbd",
   "metadata": {},
   "outputs": [],
   "source": []
  },
  {
   "cell_type": "markdown",
   "id": "d0acf423-7921-4943-a206-4e75a41b5af0",
   "metadata": {},
   "source": [
    "## 1. 불리언"
   ]
  },
  {
   "cell_type": "code",
   "execution_count": null,
   "id": "d2f37f2a-6569-4a2f-8116-0ba3ac5fde5e",
   "metadata": {},
   "outputs": [],
   "source": []
  },
  {
   "cell_type": "markdown",
   "id": "fbb382d3-e83f-4729-bf0e-017cf8019c7b",
   "metadata": {},
   "source": [
    "## 1-1 블리언 타입처리하기 "
   ]
  },
  {
   "cell_type": "code",
   "execution_count": 9,
   "id": "69c58f7b-62be-4e78-b9fa-2795511d4005",
   "metadata": {},
   "outputs": [
    {
     "data": {
      "text/plain": [
       "undefined"
      ]
     },
     "execution_count": 9,
     "metadata": {},
     "output_type": "execute_result"
    }
   ],
   "source": [
    "let af = false;"
   ]
  },
  {
   "cell_type": "code",
   "execution_count": 10,
   "id": "b27db08a-9cd4-44e3-aa38-a1f154ef653e",
   "metadata": {},
   "outputs": [
    {
     "data": {
      "text/plain": [
       "'boolean'"
      ]
     },
     "execution_count": 10,
     "metadata": {},
     "output_type": "execute_result"
    }
   ],
   "source": [
    "typeof af"
   ]
  },
  {
   "cell_type": "markdown",
   "id": "d870fa57-35e7-4642-bd78-e852a30d6661",
   "metadata": {},
   "source": [
    "###  1-2 참과 거짓 처리 \n",
    "\n",
    "### Truthy 값:\n",
    "\n",
    "- truthy는 불리언 true로 간주되는 값입니다.\n",
    "- 대부분의 값은 truthy로 취급됩니다. (0, 빈 문자열, null, undefined, NaN 제외)\n",
    "- 예를 들어, 문자열 \"hello\", 숫자 42, 객체 등은 truthy입니다.\n"
   ]
  },
  {
   "cell_type": "code",
   "execution_count": 11,
   "id": "8d326574-20cb-4090-ad49-7ad4e8f11e25",
   "metadata": {},
   "outputs": [
    {
     "name": "stdout",
     "output_type": "stream",
     "text": [
      "Truthy!\n"
     ]
    },
    {
     "data": {
      "text/plain": [
       "undefined"
      ]
     },
     "execution_count": 11,
     "metadata": {},
     "output_type": "execute_result"
    }
   ],
   "source": [
    "if (\"hello\") {\n",
    "    console.log(\"Truthy!\"); // 출력됨\n",
    "}"
   ]
  },
  {
   "cell_type": "code",
   "execution_count": 14,
   "id": "4296d2b6-093a-4878-8fa0-8bbd0d1e9f47",
   "metadata": {},
   "outputs": [
    {
     "name": "stdout",
     "output_type": "stream",
     "text": [
      "Truthy!\n"
     ]
    },
    {
     "data": {
      "text/plain": [
       "undefined"
      ]
     },
     "execution_count": 14,
     "metadata": {},
     "output_type": "execute_result"
    }
   ],
   "source": [
    "const value = \"hello\";\n",
    "if (value) {\n",
    "    console.log(\"Truthy!\"); // 출력됨\n",
    "}"
   ]
  },
  {
   "cell_type": "code",
   "execution_count": null,
   "id": "c3f9ebb0-6816-4b98-a138-3bfb9e8a055e",
   "metadata": {},
   "outputs": [],
   "source": []
  },
  {
   "cell_type": "code",
   "execution_count": null,
   "id": "7ad06b5b-e3fb-426b-86ac-0799ae980eda",
   "metadata": {},
   "outputs": [],
   "source": []
  },
  {
   "cell_type": "markdown",
   "id": "20279600-53bb-4cae-bd10-f86f0dd3d12c",
   "metadata": {},
   "source": [
    "## 1-3 Falsy 값:¶\n",
    "- falsy는 불리언 false로 간주되는 값입니다.\n",
    "- false, 0, 빈 문자열 (\"\"), null, undefined, NaN은 모두 falsy입니다."
   ]
  },
  {
   "cell_type": "code",
   "execution_count": 12,
   "id": "99daed9e-4e4b-4075-b058-921ecb3272ff",
   "metadata": {},
   "outputs": [
    {
     "data": {
      "text/plain": [
       "undefined"
      ]
     },
     "execution_count": 12,
     "metadata": {},
     "output_type": "execute_result"
    }
   ],
   "source": [
    "if (0) {\n",
    "    console.log(\"Falsy!\"); // 출력되지 않음\n",
    "}"
   ]
  },
  {
   "cell_type": "code",
   "execution_count": 13,
   "id": "9c9f5986-1c8b-48e5-abfa-3ccaceb304a4",
   "metadata": {},
   "outputs": [
    {
     "data": {
      "text/plain": [
       "undefined"
      ]
     },
     "execution_count": 13,
     "metadata": {},
     "output_type": "execute_result"
    }
   ],
   "source": [
    "if (null) {\n",
    "    console.log(\"Falsy!\"); // 출력되지 않음\n",
    "}\n"
   ]
  },
  {
   "cell_type": "markdown",
   "id": "0adf7a1f-58b4-4e1a-be55-f9938090d896",
   "metadata": {},
   "source": [
    "### 값처리 예시 2"
   ]
  },
  {
   "cell_type": "code",
   "execution_count": 15,
   "id": "3ff088cb-6e3e-4544-a192-3b411cb1f49d",
   "metadata": {},
   "outputs": [
    {
     "name": "stdout",
     "output_type": "stream",
     "text": [
      "Falsy!\n"
     ]
    },
    {
     "data": {
      "text/plain": [
       "undefined"
      ]
     },
     "execution_count": 15,
     "metadata": {},
     "output_type": "execute_result"
    }
   ],
   "source": [
    "const num = 0;\n",
    "if (!num) {\n",
    "    console.log(\"Falsy!\"); // 출력됨\n",
    "}\n"
   ]
  },
  {
   "cell_type": "code",
   "execution_count": null,
   "id": "2edcd0dc-1494-43c1-a458-a101b79c95c6",
   "metadata": {},
   "outputs": [],
   "source": []
  }
 ],
 "metadata": {
  "kernelspec": {
   "display_name": "Typescript 4.9",
   "language": "typescript",
   "name": "typescript"
  },
  "language_info": {
   "file_extension": ".ts",
   "mimetype": "application/x-typescript",
   "name": "typescript",
   "version": "4.9.5"
  }
 },
 "nbformat": 4,
 "nbformat_minor": 5
}
