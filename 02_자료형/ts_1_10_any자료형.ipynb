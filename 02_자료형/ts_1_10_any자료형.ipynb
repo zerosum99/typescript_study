{
 "cells": [
  {
   "cell_type": "code",
   "execution_count": null,
   "id": "0f60cd57-6c45-4994-8a42-c7fb2bc9949c",
   "metadata": {},
   "outputs": [],
   "source": []
  },
  {
   "cell_type": "markdown",
   "id": "ac381248-2eec-4e5d-bd17-485d81048a20",
   "metadata": {},
   "source": [
    "## any는 \n",
    "    \n",
    "- 타입 시스템의 일부로, 모든 타입과 상호 호환성이 있는 동적 타입입니다. \n",
    "- any를 사용하면 변수나 표현식에 대한 타입 검사를 비활성화하고, 해당 값이 어떤 타입이든 사용할 수 있게 됩니다. \n",
    "- any를 사용할 때 타입 안정성이 확실하지 않으며, 타입 검사가 무력화됩니다. 이러한 이유로 any는 가능한 한 피하는 것이 좋습니다."
   ]
  },
  {
   "cell_type": "code",
   "execution_count": null,
   "id": "476a742b-d966-44da-97e3-38f78649412c",
   "metadata": {},
   "outputs": [],
   "source": []
  },
  {
   "cell_type": "markdown",
   "id": "283e78a5-a6fe-499e-8fdb-b9524c290491",
   "metadata": {},
   "source": [
    "### 타입 불명확한 외부 라이브러리와 상호 작용: \n",
    "- 외부 라이브러리를 사용하거나 JavaScript 코드와 상호 작용할 때, 해당 코드의 타입 정보를 알 수 없는 경우 any를 사용할 수 있습니다."
   ]
  },
  {
   "cell_type": "code",
   "execution_count": 3,
   "id": "e6a79000-0b40-48c6-9d9a-5552ce6c4cb2",
   "metadata": {},
   "outputs": [
    {
     "data": {
      "text/plain": [
       "undefined"
      ]
     },
     "execution_count": 3,
     "metadata": {},
     "output_type": "execute_result"
    }
   ],
   "source": [
    "declare var myExternalLibrary: any;\n",
    "\n",
    "\n"
   ]
  },
  {
   "cell_type": "code",
   "execution_count": null,
   "id": "ed747b36-8b88-42ed-bfa5-7352fb42aae6",
   "metadata": {},
   "outputs": [],
   "source": []
  },
  {
   "cell_type": "code",
   "execution_count": null,
   "id": "be515f0b-2fe3-4c89-ae54-2a67374217e8",
   "metadata": {},
   "outputs": [],
   "source": []
  },
  {
   "cell_type": "markdown",
   "id": "c7384ba1-6003-46de-a8c6-2fc3493ef00f",
   "metadata": {},
   "source": [
    "### 타입스크립트 마이그레이션: \n",
    "- 기존 JavaScript 코드베이스를 타입스크립트로 마이그레이션할 때, any를 사용하여 초기 단계에서 코드를 타입 안정성을 무시하고 호환성을 유지할 수 있습니다."
   ]
  },
  {
   "cell_type": "code",
   "execution_count": 4,
   "id": "4edc0e4d-45d1-461b-8228-5f4b8508d72b",
   "metadata": {},
   "outputs": [
    {
     "data": {
      "text/plain": [
       "undefined"
      ]
     },
     "execution_count": 4,
     "metadata": {},
     "output_type": "execute_result"
    }
   ],
   "source": [
    "// JavaScript 코드를 타입스크립트로 마이그레이션\n",
    "let myValue: any = \"Hello, world!\";\n"
   ]
  },
  {
   "cell_type": "code",
   "execution_count": null,
   "id": "f8178338-435b-4e7e-9315-b6f95fe022ae",
   "metadata": {},
   "outputs": [],
   "source": []
  },
  {
   "cell_type": "markdown",
   "id": "a0496e4f-ae0e-475b-bba4-35103e6da39f",
   "metadata": {},
   "source": [
    "### 동적 타입 처리: \n",
    "- 일부 상황에서 데이터의 타입이 동적으로 결정되는 경우 any를 사용할 수 있습니다. 이것은 일부 타입 검사를 우회하는 데 사용됩니다."
   ]
  },
  {
   "cell_type": "code",
   "execution_count": 6,
   "id": "8fc1acba-d07e-4035-a739-50719b1a8283",
   "metadata": {},
   "outputs": [
    {
     "name": "stdout",
     "output_type": "stream",
     "text": [
      "Data is a string: Hello, world!\n",
      "Data is a number: 42\n",
      "Data is an array with 3 elements\n",
      "Data is an object with keys: name, age\n",
      "Data is of an unknown type\n"
     ]
    },
    {
     "data": {
      "text/plain": [
       "undefined"
      ]
     },
     "execution_count": 6,
     "metadata": {},
     "output_type": "execute_result"
    }
   ],
   "source": [
    "function processData(data: any) {\n",
    "  // 데이터의 타입을 동적으로 결정\n",
    "  if (typeof data === 'string') {\n",
    "    console.log('Data is a string: ' + data);\n",
    "  } else if (typeof data === 'number') {\n",
    "    console.log('Data is a number: ' + data);\n",
    "  } else if (Array.isArray(data)) {\n",
    "    console.log('Data is an array with ' + data.length + ' elements');\n",
    "  } else if (typeof data === 'object' && data !== null) {\n",
    "    console.log('Data is an object with keys: ' + Object.keys(data).join(', '));\n",
    "  } else {\n",
    "    console.log('Data is of an unknown type');\n",
    "  }\n",
    "}\n",
    "\n",
    "// 다양한 타입의 데이터 처리\n",
    "processData(\"Hello, world!\"); // Data is a string: Hello, world!\n",
    "processData(42); // Data is a number: 42\n",
    "processData([1, 2, 3]); // Data is an array with 3 elements\n",
    "processData({ name: 'John', age: 30 }); // Data is an object with keys: name, age\n",
    "processData(true); // Data is of an unknown type\n"
   ]
  },
  {
   "cell_type": "code",
   "execution_count": null,
   "id": "1c2468c9-967a-47f4-8313-6704bced9537",
   "metadata": {},
   "outputs": [],
   "source": []
  }
 ],
 "metadata": {
  "kernelspec": {
   "display_name": "Typescript 4.9",
   "language": "typescript",
   "name": "typescript"
  },
  "language_info": {
   "file_extension": ".ts",
   "mimetype": "application/x-typescript",
   "name": "typescript",
   "version": "4.9.5"
  }
 },
 "nbformat": 4,
 "nbformat_minor": 5
}
