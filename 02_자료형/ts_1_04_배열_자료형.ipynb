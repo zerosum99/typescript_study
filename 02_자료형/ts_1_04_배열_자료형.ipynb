{
 "cells": [
  {
   "cell_type": "code",
   "execution_count": null,
   "id": "acf74bbc-183a-423c-9109-acdeecb78f7f",
   "metadata": {},
   "outputs": [],
   "source": []
  },
  {
   "cell_type": "markdown",
   "id": "fb7edd5c-2f4e-4687-b879-20f4e8b76aef",
   "metadata": {},
   "source": [
    "##  1. 배열리터럴"
   ]
  },
  {
   "cell_type": "markdown",
   "id": "893c6e4b-a783-4334-8379-fc47ede3eea1",
   "metadata": {},
   "source": [
    "## 1-1 리터럴로 배열 생성하기 "
   ]
  },
  {
   "cell_type": "code",
   "execution_count": 2,
   "id": "deef705b-d10d-4150-aaa2-d6e10a9e3df7",
   "metadata": {},
   "outputs": [
    {
     "data": {
      "text/plain": [
       "'use strict'"
      ]
     },
     "execution_count": 2,
     "metadata": {},
     "output_type": "execute_result"
    }
   ],
   "source": [
    "let com2 = [\"meta\", \"twiter\", \"openAI\"];"
   ]
  },
  {
   "cell_type": "code",
   "execution_count": null,
   "id": "43ada10c-621d-4476-9384-923f416b4289",
   "metadata": {},
   "outputs": [],
   "source": []
  },
  {
   "cell_type": "markdown",
   "id": "dd64635d-c920-4281-bcf0-f82f5b8a6d25",
   "metadata": {},
   "source": [
    "## 배열 타입 알아보기 "
   ]
  },
  {
   "cell_type": "code",
   "execution_count": 3,
   "id": "1103ff69-87ee-473e-a4eb-68cb5ccbd168",
   "metadata": {},
   "outputs": [
    {
     "data": {
      "text/plain": [
       "'object'"
      ]
     },
     "execution_count": 3,
     "metadata": {},
     "output_type": "execute_result"
    }
   ],
   "source": [
    "typeof com2"
   ]
  },
  {
   "cell_type": "code",
   "execution_count": null,
   "id": "5ee86ce0-cc78-4fe5-80da-eeafb56fc971",
   "metadata": {},
   "outputs": [],
   "source": []
  },
  {
   "cell_type": "code",
   "execution_count": 4,
   "id": "aaaa0536-16f5-466e-9305-da73c87092a2",
   "metadata": {},
   "outputs": [
    {
     "data": {
      "text/plain": [
       "true"
      ]
     },
     "execution_count": 4,
     "metadata": {},
     "output_type": "execute_result"
    }
   ],
   "source": [
    "Array.isArray(com2);"
   ]
  },
  {
   "cell_type": "markdown",
   "id": "5eed2ded-51ea-42ec-b0d1-ee33bc8a0efe",
   "metadata": {},
   "source": [
    "## 1-2 자료형을 지정해서 배열 생성하기"
   ]
  },
  {
   "cell_type": "markdown",
   "id": "2dd1d49d-fe14-4319-a3d3-dce957f319b7",
   "metadata": {},
   "source": [
    "## 자료형과 대괄호 이용 "
   ]
  },
  {
   "cell_type": "code",
   "execution_count": 5,
   "id": "9bb62ca2-26ab-4ca3-9b62-acece1242f1d",
   "metadata": {},
   "outputs": [
    {
     "data": {
      "text/plain": [
       "undefined"
      ]
     },
     "execution_count": 5,
     "metadata": {},
     "output_type": "execute_result"
    }
   ],
   "source": [
    "let com4 : string[] = [\"삼성\", \"현대\"];"
   ]
  },
  {
   "cell_type": "markdown",
   "id": "91166246-917d-4456-a19f-d2de10383868",
   "metadata": {},
   "source": [
    "## 여러 자료형을 처리해서 배열 정의\n",
    "\n",
    "- 반드시 유니온 타입에 괄호로 처리"
   ]
  },
  {
   "cell_type": "code",
   "execution_count": null,
   "id": "d58b16a6-b05b-409f-adae-57dfbefba35f",
   "metadata": {},
   "outputs": [],
   "source": [
    "let role_1: (string | number)[] = [\"admin\", \"manager\", 40];"
   ]
  },
  {
   "cell_type": "markdown",
   "id": "d54236a9-9d2a-418b-9246-95581753d5ec",
   "metadata": {},
   "source": [
    "## Array로 배열 생성하기 "
   ]
  },
  {
   "cell_type": "code",
   "execution_count": 6,
   "id": "227c3e5b-f708-4777-ba52-58eef50ac541",
   "metadata": {},
   "outputs": [
    {
     "data": {
      "text/plain": [
       "undefined"
      ]
     },
     "execution_count": 6,
     "metadata": {},
     "output_type": "execute_result"
    }
   ],
   "source": [
    "let com3 : Array<string> = [\"삼성\", \"현대\"];"
   ]
  },
  {
   "cell_type": "code",
   "execution_count": null,
   "id": "a37ff35a-4fb9-45ce-8161-6a40868a88cd",
   "metadata": {},
   "outputs": [],
   "source": []
  },
  {
   "cell_type": "code",
   "execution_count": null,
   "id": "d5c38619-0476-4a0d-8139-247d42650c9a",
   "metadata": {},
   "outputs": [],
   "source": []
  },
  {
   "cell_type": "code",
   "execution_count": null,
   "id": "795a4e7c-4024-45a8-bbe5-1ca94591b356",
   "metadata": {},
   "outputs": [],
   "source": []
  }
 ],
 "metadata": {
  "kernelspec": {
   "display_name": "Typescript 4.9",
   "language": "typescript",
   "name": "typescript"
  },
  "language_info": {
   "file_extension": ".ts",
   "mimetype": "application/x-typescript",
   "name": "typescript",
   "version": "4.9.5"
  }
 },
 "nbformat": 4,
 "nbformat_minor": 5
}
