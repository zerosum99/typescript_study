{
 "cells": [
  {
   "cell_type": "code",
   "execution_count": null,
   "id": "63f2ee9c-4506-428e-83de-bd46153d7777",
   "metadata": {},
   "outputs": [],
   "source": []
  },
  {
   "cell_type": "markdown",
   "id": "c6a13745-204c-4f3d-954b-00d45dc60f42",
   "metadata": {},
   "source": [
    "## 1. 타입표기 및 타입 추론"
   ]
  },
  {
   "cell_type": "markdown",
   "id": "bcf8fc91-b44b-4ec1-939f-a47436761175",
   "metadata": {
    "editable": true,
    "slideshow": {
     "slide_type": ""
    },
    "tags": []
   },
   "source": [
    "## 1-1. 변수 선언, 초기화 "
   ]
  },
  {
   "cell_type": "markdown",
   "id": "2ae7d8d0-57d9-4669-9169-b9d22a533f43",
   "metadata": {},
   "source": [
    "### 변수 선언과 초기화 분리 \n"
   ]
  },
  {
   "cell_type": "code",
   "execution_count": 2,
   "id": "5b19980b-42e2-4580-b6b2-c02c8cc69353",
   "metadata": {},
   "outputs": [
    {
     "name": "stdout",
     "output_type": "stream",
     "text": [
      "undefined\n"
     ]
    },
    {
     "data": {
      "text/plain": [
       "undefined"
      ]
     },
     "execution_count": 2,
     "metadata": {},
     "output_type": "execute_result"
    }
   ],
   "source": [
    "                       // 변수 선언\n",
    "var ab;\n",
    "console.log(ab);       // \"undefined\" 출력"
   ]
  },
  {
   "cell_type": "markdown",
   "id": "fc98bc95-b497-4d13-b8e9-66a10a29fd9a",
   "metadata": {},
   "source": [
    "###  변수 초기화 할당 "
   ]
  },
  {
   "cell_type": "code",
   "execution_count": 3,
   "id": "8e7f1951-c14b-41c4-9063-f892d3545e96",
   "metadata": {},
   "outputs": [
    {
     "name": "stdout",
     "output_type": "stream",
     "text": [
      "Hello\n"
     ]
    },
    {
     "data": {
      "text/plain": [
       "undefined"
      ]
     },
     "execution_count": 3,
     "metadata": {},
     "output_type": "execute_result"
    }
   ],
   "source": [
    "ab = \"Hello\";\n",
    "console.log(ab);       // \"Hello\" 출력\n"
   ]
  },
  {
   "cell_type": "markdown",
   "id": "672f7b6b-7ffc-44b0-a16c-993bc5b713f1",
   "metadata": {},
   "source": [
    "### 변수 선언과 초기화\n",
    "\n",
    "-  자바스크립트는 변수 선언 처리 즉 호이스팅부터 실행된다\n",
    "-  그래서 항상 변수가 먼저 undefined로 세팅된 후에 실제 값이 할당될 때 초기화 할당이 처리됨 "
   ]
  },
  {
   "cell_type": "code",
   "execution_count": 16,
   "id": "2b32d48e-15aa-4ff7-a986-9cddc117dee6",
   "metadata": {},
   "outputs": [
    {
     "name": "stdout",
     "output_type": "stream",
     "text": [
      "123\n"
     ]
    },
    {
     "data": {
      "text/plain": [
       "undefined"
      ]
     },
     "execution_count": 16,
     "metadata": {},
     "output_type": "execute_result"
    }
   ],
   "source": [
    "var b = 123;\n",
    "console.log(b); // 123 출력"
   ]
  },
  {
   "cell_type": "code",
   "execution_count": null,
   "id": "de39e2a7-dfa9-4323-b066-ea01ddd52c20",
   "metadata": {},
   "outputs": [],
   "source": []
  },
  {
   "cell_type": "markdown",
   "id": "55b41fd2-1a86-4ce6-b088-54b09f96eadd",
   "metadata": {},
   "source": [
    "### 변수 호이스팅(Variable Hoisting)\n",
    "- JavaScript에서 발생하는 동작 중 하나로, 변수 선언이 스코프의 맨 위로 \"끌어올려지는\" 것을 의미합니다. \n",
    "- 이로 인해 변수가 선언되기 이전에도 해당 변수를 참조하는 것이 가능해집니다. \n",
    "- 하지만 호이스팅은 변수의 초기화까지 영향을 미치지 않습니다."
   ]
  },
  {
   "cell_type": "code",
   "execution_count": 5,
   "id": "14c729c1-1454-434b-9f26-f26cb84c9ba1",
   "metadata": {},
   "outputs": [
    {
     "name": "stdout",
     "output_type": "stream",
     "text": [
      "undefined\n",
      "5\n"
     ]
    },
    {
     "data": {
      "text/plain": [
       "undefined"
      ]
     },
     "execution_count": 5,
     "metadata": {},
     "output_type": "execute_result"
    }
   ],
   "source": [
    "var x;\n",
    "console.log(x);  // 출력: undefined\n",
    "x = 5;\n",
    "console.log(x);  // 출력: 5"
   ]
  },
  {
   "cell_type": "markdown",
   "id": "fdd5d9b3-50ff-4c8b-9dce-274c43c878b2",
   "metadata": {},
   "source": [
    "### 타입 자바스크립트에서는 할당이전에 사용하면 에러 처리 "
   ]
  },
  {
   "cell_type": "code",
   "execution_count": 6,
   "id": "9db4ea41-d836-479e-9c5a-048dc032b3e4",
   "metadata": {},
   "outputs": [
    {
     "ename": "Error",
     "evalue": "Line 1, Character 13\nconsole.log(y);  // 출력: undefined\n____________^\nTS2454: Variable 'y' is used before being assigned.",
     "execution_count": 6,
     "output_type": "error",
     "traceback": [
      "Error: Line 1, Character 13",
      "console.log(y);  // 출력: undefined",
      "____________^",
      "TS2454: Variable 'y' is used before being assigned.",
      "    at execTranspile (/usr/local/lib/node_modules/itypescript/lib/kernel.js:229:23)",
      "    at Session.transpiler [as transpile] (/usr/local/lib/node_modules/itypescript/lib/kernel.js:288:35)",
      "    at Session._runNow (/usr/local/lib/node_modules/itypescript/node_modules/nel/lib/nel.js:835:39)",
      "    at Session._run (/usr/local/lib/node_modules/itypescript/node_modules/nel/lib/nel.js:786:14)",
      "    at Session.execute (/usr/local/lib/node_modules/itypescript/node_modules/nel/lib/nel.js:929:10)",
      "    at Kernel.execute_request (/usr/local/lib/node_modules/itypescript/node_modules/jp-kernel/lib/handlers_v5.js:116:18)",
      "    at Kernel.onShellMessage (/usr/local/lib/node_modules/itypescript/node_modules/jp-kernel/lib/jp-kernel.js:285:41)",
      "    at Socket.<anonymous> (/usr/local/lib/node_modules/itypescript/node_modules/jmp/index.js:350:17)",
      "    at Socket.emit (node:events:513:28)",
      "    at Socket._emitMessage (/usr/local/lib/node_modules/itypescript/node_modules/zeromq/lib/index.js:649:15)"
     ]
    }
   ],
   "source": [
    "console.log(y);  // 출력: undefined\n",
    "var y = 5;\n",
    "console.log(y);  // 출력: 5"
   ]
  },
  {
   "cell_type": "code",
   "execution_count": null,
   "id": "4e14652e-1d17-47fa-9c2f-b3307cbab6e5",
   "metadata": {},
   "outputs": [],
   "source": []
  },
  {
   "cell_type": "code",
   "execution_count": null,
   "id": "cf0c1d71-9d26-41ae-a618-85a7a1bba49d",
   "metadata": {},
   "outputs": [],
   "source": []
  },
  {
   "cell_type": "markdown",
   "id": "1adf0ca1-a09c-40c8-a932-59162cd277c4",
   "metadata": {},
   "source": [
    "## 1-2. 동일한 타입에 대한 처리 \n",
    "\n",
    "-  문자열 타입을 지정하나 문자열 값을 할당해서 타입 추론을 한 경우 동일한 타입으로 처리 "
   ]
  },
  {
   "cell_type": "code",
   "execution_count": 1,
   "id": "9f749eec-d211-49d7-bae2-48bf1cfee6cf",
   "metadata": {},
   "outputs": [
    {
     "data": {
      "text/plain": [
       "undefined"
      ]
     },
     "execution_count": 1,
     "metadata": {},
     "output_type": "execute_result"
    }
   ],
   "source": [
    "let abc : string = \"타입표기\";"
   ]
  },
  {
   "cell_type": "code",
   "execution_count": 2,
   "id": "1dc3ce82-b774-41b2-a295-63f0c1c6ac35",
   "metadata": {},
   "outputs": [
    {
     "data": {
      "text/plain": [
       "undefined"
      ]
     },
     "execution_count": 2,
     "metadata": {},
     "output_type": "execute_result"
    }
   ],
   "source": [
    "let cde = \"타입추론\";"
   ]
  },
  {
   "cell_type": "code",
   "execution_count": 3,
   "id": "c1fe57e4-fb49-42ef-bafa-5f4aa395c0e5",
   "metadata": {},
   "outputs": [
    {
     "data": {
      "text/plain": [
       "'타입표기타입추론'"
      ]
     },
     "execution_count": 3,
     "metadata": {},
     "output_type": "execute_result"
    }
   ],
   "source": [
    "abc + cde "
   ]
  },
  {
   "cell_type": "code",
   "execution_count": null,
   "id": "0b609fa0-4eb2-4ead-8bad-6fe49002763c",
   "metadata": {},
   "outputs": [],
   "source": []
  },
  {
   "cell_type": "markdown",
   "id": "274deb9d-6d06-4448-9f3f-6e52ac5c00fd",
   "metadata": {},
   "source": [
    "## 1-3. 다른 타입을 처리 \n",
    "\n",
    "- 문자열을 지정한 후에 정수를 입력하면 두 타입의 불일치로 예외를 처리 "
   ]
  },
  {
   "cell_type": "code",
   "execution_count": 4,
   "id": "33bdc27a-18ac-4ec5-8876-757b5f29d7d1",
   "metadata": {},
   "outputs": [
    {
     "ename": "Error",
     "evalue": "Line 1, Character 5\nlet fed : string  = 100;\n____^\nTS2322: Type 'number' is not assignable to type 'string'.",
     "execution_count": 4,
     "output_type": "error",
     "traceback": [
      "Error: Line 1, Character 5",
      "let fed : string  = 100;",
      "____^",
      "TS2322: Type 'number' is not assignable to type 'string'.",
      "    at execTranspile (/usr/local/lib/node_modules/itypescript/lib/kernel.js:229:23)",
      "    at Session.transpiler [as transpile] (/usr/local/lib/node_modules/itypescript/lib/kernel.js:288:35)",
      "    at Session._runNow (/usr/local/lib/node_modules/itypescript/node_modules/nel/lib/nel.js:835:39)",
      "    at Session._runNext (/usr/local/lib/node_modules/itypescript/node_modules/nel/lib/nel.js:876:14)",
      "    at Session._onMessage (/usr/local/lib/node_modules/itypescript/node_modules/nel/lib/nel.js:773:14)",
      "    at ChildProcess.emit (node:events:513:28)",
      "    at emit (node:internal/child_process:937:14)",
      "    at process.processTicksAndRejections (node:internal/process/task_queues:83:21)"
     ]
    }
   ],
   "source": [
    "let fed : string  = 100;"
   ]
  },
  {
   "cell_type": "code",
   "execution_count": null,
   "id": "53a6ceac-fce4-4a8a-b64f-c176cc41011d",
   "metadata": {},
   "outputs": [],
   "source": []
  },
  {
   "cell_type": "markdown",
   "id": "462d5258-773f-483c-b999-feeb8c4e121d",
   "metadata": {},
   "source": [
    "## 문자열과 덧셈연산일 경우 문자열의 결합으로 처리한다"
   ]
  },
  {
   "cell_type": "code",
   "execution_count": 5,
   "id": "e0c448b8-8390-4cd0-98d3-0da2b28b9322",
   "metadata": {},
   "outputs": [
    {
     "data": {
      "text/plain": [
       "undefined"
      ]
     },
     "execution_count": 5,
     "metadata": {},
     "output_type": "execute_result"
    }
   ],
   "source": [
    "let fed_num = 100;"
   ]
  },
  {
   "cell_type": "code",
   "execution_count": 6,
   "id": "3b886841-4bf6-4319-8a96-9c1c2cb59812",
   "metadata": {},
   "outputs": [
    {
     "data": {
      "text/plain": [
       "'타입표기100'"
      ]
     },
     "execution_count": 6,
     "metadata": {},
     "output_type": "execute_result"
    }
   ],
   "source": [
    "abc  + fed_num;"
   ]
  },
  {
   "cell_type": "code",
   "execution_count": null,
   "id": "042b2ea7-8c2c-4cac-b886-49cee9628c62",
   "metadata": {},
   "outputs": [],
   "source": []
  },
  {
   "cell_type": "code",
   "execution_count": null,
   "id": "3f16d4b8-8a25-4caa-aca0-c3478b0659f0",
   "metadata": {},
   "outputs": [],
   "source": []
  },
  {
   "cell_type": "markdown",
   "id": "fae2e383-2d35-4a44-8f1a-7c9f6f0523f3",
   "metadata": {},
   "source": [
    "## 2.  스코프 변수 정의 "
   ]
  },
  {
   "cell_type": "markdown",
   "id": "21d93da1-8fe2-4ab4-94d7-7ff09c0b2564",
   "metadata": {},
   "source": [
    "## 2-1. 전역변수와 지역변수 정의 \n",
    "\n",
    "- 전역변수는 모듈에 정의되거나 함수 내부에 var 없이 정의\n",
    "- 지역변수는 함수 내부에 정의된 변수 및 매개변수 "
   ]
  },
  {
   "cell_type": "code",
   "execution_count": 7,
   "id": "d5d721be-b987-45df-8a8d-2c49685b5287",
   "metadata": {},
   "outputs": [
    {
     "name": "stdout",
     "output_type": "stream",
     "text": [
      "400\n"
     ]
    },
    {
     "data": {
      "text/plain": [
       "undefined"
      ]
     },
     "execution_count": 7,
     "metadata": {},
     "output_type": "execute_result"
    }
   ],
   "source": [
    "var a = 100;\n",
    "\n",
    "function add(x: number, y:number) : number {\n",
    "    return x + y + a;\n",
    "}\n",
    "\n",
    "var c = add(100,200);\n",
    "\n",
    "console.log(c);"
   ]
  },
  {
   "cell_type": "code",
   "execution_count": null,
   "id": "e014c2d5-6cc2-490a-b41b-65dd4f819344",
   "metadata": {},
   "outputs": [],
   "source": []
  },
  {
   "cell_type": "code",
   "execution_count": null,
   "id": "636c6e0b-93a4-45b2-bd65-fa2adaa7b33c",
   "metadata": {},
   "outputs": [],
   "source": []
  },
  {
   "cell_type": "markdown",
   "id": "73b89a76-35b0-4904-b30f-9f379867a0fe",
   "metadata": {},
   "source": [
    "## 2-2. 블럭 스코프  변수 정의 "
   ]
  },
  {
   "cell_type": "markdown",
   "id": "b5a9bf2f-d06b-4cc2-a97a-c8d376a83dbb",
   "metadata": {},
   "source": [
    "## 블럭단위에 처리 \n",
    "\n",
    "- 지역변수가 블럭단위로 지정할 수 있다. "
   ]
  },
  {
   "cell_type": "code",
   "execution_count": 8,
   "id": "5730586f-0317-469a-bb88-3cf2f2438b39",
   "metadata": {},
   "outputs": [
    {
     "name": "stdout",
     "output_type": "stream",
     "text": [
      "300\n"
     ]
    },
    {
     "data": {
      "text/plain": [
       "undefined"
      ]
     },
     "execution_count": 8,
     "metadata": {},
     "output_type": "execute_result"
    }
   ],
   "source": [
    "{ \n",
    "    let a = 100;\n",
    "    let b = 200;\n",
    "    console.log(a+b);\n",
    "}\n",
    " "
   ]
  },
  {
   "cell_type": "markdown",
   "id": "e57b0849-b141-4450-b5f8-3d6bbe3dd739",
   "metadata": {},
   "source": [
    "## 함수 내부도 블럭단위 처리\n",
    "\n",
    "- let으로 변수를 정의해서 사용할 경우 블럭단위 밖에서 사용할 수 없다"
   ]
  },
  {
   "cell_type": "code",
   "execution_count": 9,
   "id": "a81b389a-372e-4de8-bc80-8fec89e974e0",
   "metadata": {},
   "outputs": [
    {
     "name": "stdout",
     "output_type": "stream",
     "text": [
      "200\n"
     ]
    },
    {
     "data": {
      "text/plain": [
       "undefined"
      ]
     },
     "execution_count": 9,
     "metadata": {},
     "output_type": "execute_result"
    }
   ],
   "source": [
    "function sub(x:number, y:number) : number {\n",
    "    let a = 300;\n",
    "    return x+a -y ;\n",
    "}\n",
    "\n",
    "console.log(sub(100,200));"
   ]
  },
  {
   "cell_type": "code",
   "execution_count": null,
   "id": "a1c0c744-b110-4294-85e3-82f11ace9e62",
   "metadata": {},
   "outputs": [],
   "source": []
  },
  {
   "cell_type": "code",
   "execution_count": null,
   "id": "5e61f86e-d93a-46dc-9104-dec47980d4f5",
   "metadata": {},
   "outputs": [],
   "source": []
  },
  {
   "cell_type": "markdown",
   "id": "c4507740-0e5e-414f-baab-115f0549b0c7",
   "metadata": {},
   "source": [
    "## 2-3. 블럭 스코프 상수 정의 "
   ]
  },
  {
   "cell_type": "markdown",
   "id": "b4f9de18-2910-4512-8dd7-3ba3ae13fc93",
   "metadata": {},
   "source": [
    "### 상수정의 \n",
    "- 상수 이름은 대문자 처리 "
   ]
  },
  {
   "cell_type": "code",
   "execution_count": 10,
   "id": "164c02f9-4c90-4941-a93a-4feb6b78c1a7",
   "metadata": {},
   "outputs": [
    {
     "data": {
      "text/plain": [
       "undefined"
      ]
     },
     "execution_count": 10,
     "metadata": {},
     "output_type": "execute_result"
    }
   ],
   "source": [
    "const PI = 3.14;"
   ]
  },
  {
   "cell_type": "code",
   "execution_count": 11,
   "id": "befc79c5-97e0-4bd2-8e19-4a50f3567dba",
   "metadata": {},
   "outputs": [
    {
     "data": {
      "text/plain": [
       "3.14"
      ]
     },
     "execution_count": 11,
     "metadata": {},
     "output_type": "execute_result"
    }
   ],
   "source": [
    "PI"
   ]
  },
  {
   "cell_type": "markdown",
   "id": "f522fc9b-fbb9-4989-a51a-edc4ccaa1891",
   "metadata": {},
   "source": [
    "## 2-4 상수에 객체 할당\n",
    "- 상수는 다시 할당이 금지"
   ]
  },
  {
   "cell_type": "markdown",
   "id": "87f4b3a9-fea4-4fcb-982f-b7bad5615bee",
   "metadata": {},
   "source": [
    "## 객체 정의 "
   ]
  },
  {
   "cell_type": "code",
   "execution_count": 12,
   "id": "3e8d5e50-da02-4755-a588-67d6386c47d0",
   "metadata": {
    "editable": true,
    "slideshow": {
     "slide_type": ""
    },
    "tags": []
   },
   "outputs": [
    {
     "data": {
      "text/plain": [
       "undefined"
      ]
     },
     "execution_count": 12,
     "metadata": {},
     "output_type": "execute_result"
    }
   ],
   "source": [
    "const person = {\n",
    "    id: 1,\n",
    "    name: \"Tom\"\n",
    "}"
   ]
  },
  {
   "cell_type": "markdown",
   "id": "cb92d2f5-5c6a-4019-8692-00044533d04a",
   "metadata": {},
   "source": [
    "## 객체는 재할당할 경우 예외를 발생 "
   ]
  },
  {
   "cell_type": "code",
   "execution_count": 13,
   "id": "d51d7d18-4704-472a-ae3b-c979286be147",
   "metadata": {},
   "outputs": [
    {
     "ename": "Error",
     "evalue": "Line 1, Character 1\nperson = { id: 2 } \n^\nTS2588: Cannot assign to 'person' because it is a constant.",
     "execution_count": 13,
     "output_type": "error",
     "traceback": [
      "Error: Line 1, Character 1",
      "person = { id: 2 } ",
      "^",
      "TS2588: Cannot assign to 'person' because it is a constant.",
      "    at execTranspile (/usr/local/lib/node_modules/itypescript/lib/kernel.js:229:23)",
      "    at Session.transpiler [as transpile] (/usr/local/lib/node_modules/itypescript/lib/kernel.js:288:35)",
      "    at Session._runNow (/usr/local/lib/node_modules/itypescript/node_modules/nel/lib/nel.js:835:39)",
      "    at Session._runNext (/usr/local/lib/node_modules/itypescript/node_modules/nel/lib/nel.js:876:14)",
      "    at Session._onMessage (/usr/local/lib/node_modules/itypescript/node_modules/nel/lib/nel.js:773:14)",
      "    at ChildProcess.emit (node:events:513:28)",
      "    at emit (node:internal/child_process:937:14)",
      "    at process.processTicksAndRejections (node:internal/process/task_queues:83:21)"
     ]
    }
   ],
   "source": [
    "person = { id: 2 } "
   ]
  },
  {
   "cell_type": "code",
   "execution_count": null,
   "id": "e6901857-546a-4223-8108-02194f339ae6",
   "metadata": {},
   "outputs": [],
   "source": []
  },
  {
   "cell_type": "markdown",
   "id": "24aadbf0-c354-48e6-8096-0fc8dda57bd6",
   "metadata": {},
   "source": [
    "## 객체의 속성의 값을 변경할 수 있음 "
   ]
  },
  {
   "cell_type": "code",
   "execution_count": 14,
   "id": "85acafcd-eb52-49b4-bd88-bcc5a7d1618b",
   "metadata": {},
   "outputs": [
    {
     "name": "stdout",
     "output_type": "stream",
     "text": [
      "{ id: 1, name: 'Jerry' }\n"
     ]
    },
    {
     "data": {
      "text/plain": [
       "undefined"
      ]
     },
     "execution_count": 14,
     "metadata": {},
     "output_type": "execute_result"
    }
   ],
   "source": [
    "person.name = \"Jerry\";\n",
    "console.log(person);"
   ]
  },
  {
   "cell_type": "code",
   "execution_count": null,
   "id": "452f76de-70e6-4dbb-bfee-2d2f0e08fb43",
   "metadata": {},
   "outputs": [],
   "source": []
  },
  {
   "cell_type": "code",
   "execution_count": null,
   "id": "840b38f5-3826-4968-b022-78aa43d00447",
   "metadata": {},
   "outputs": [],
   "source": []
  },
  {
   "cell_type": "code",
   "execution_count": null,
   "id": "7eeafddf-bf62-4fef-9da5-084a2b2832c0",
   "metadata": {},
   "outputs": [],
   "source": []
  },
  {
   "cell_type": "code",
   "execution_count": null,
   "id": "a2167cf5-a512-4d73-a827-0c428a677d9a",
   "metadata": {},
   "outputs": [],
   "source": []
  }
 ],
 "metadata": {
  "kernelspec": {
   "display_name": "Typescript 4.9",
   "language": "typescript",
   "name": "typescript"
  },
  "language_info": {
   "file_extension": ".ts",
   "mimetype": "application/x-typescript",
   "name": "typescript",
   "version": "4.9.5"
  }
 },
 "nbformat": 4,
 "nbformat_minor": 5
}
