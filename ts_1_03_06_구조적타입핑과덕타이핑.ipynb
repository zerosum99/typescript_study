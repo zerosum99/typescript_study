{
 "cells": [
  {
   "cell_type": "code",
   "execution_count": null,
   "id": "e78e4ffa-248d-4df2-bdd5-d636a8d36495",
   "metadata": {},
   "outputs": [],
   "source": []
  },
  {
   "cell_type": "markdown",
   "id": "c6dfce4e-2ff8-414d-99f9-29bfac9fede3",
   "metadata": {},
   "source": [
    "## 1. Structural typing : \n",
    "- 객체의 실제 구조나 정의에 따라 타입을 결정하는 것을 의미\n",
    "\n",
    "- 타입의 호환성을 객체의 구조에 기반하여 결정하는 방식입니다.\n",
    "- 이것은 객체가 특정 인터페이스를 구현하는지 여부보다는 객체의 속성과 메서드의 구조에 따라 타입 호환성을 판단하는 개념입니다.\n",
    "\n",
    "- 구조적 하위 타이핑은 객체의 구조가 호환되면 해당 객체가 특정 타입에 할당 가능하다고 판단합니다.\n",
    "- 즉, 타입 검사 시 객체의 타입이나 명시적으로 구현한 인터페이스와 관계없이, 해당 객체의 속성과 메서드 구조가 타입 호환성을 결정하는데 영향을 미칩니다."
   ]
  },
  {
   "cell_type": "code",
   "execution_count": null,
   "id": "ebf01ab8-4197-4fb4-85c0-60c5bad24f5f",
   "metadata": {},
   "outputs": [],
   "source": []
  },
  {
   "cell_type": "code",
   "execution_count": 1,
   "id": "eb6f0598-3c10-4b86-8db0-ec2df53c5f4d",
   "metadata": {},
   "outputs": [
    {
     "data": {
      "text/plain": [
       "'use strict'"
      ]
     },
     "execution_count": 1,
     "metadata": {},
     "output_type": "execute_result"
    }
   ],
   "source": [
    "interface Point2D {\n",
    "  x: number;\n",
    "  y: number;\n",
    "}\n",
    "\n",
    "interface Point3D {\n",
    "  x: number;\n",
    "  y: number;\n",
    "  z: number;\n",
    "}"
   ]
  },
  {
   "cell_type": "code",
   "execution_count": 2,
   "id": "c3d80558-79af-4b1f-91c7-88655add520f",
   "metadata": {},
   "outputs": [
    {
     "data": {
      "text/plain": [
       "undefined"
      ]
     },
     "execution_count": 2,
     "metadata": {},
     "output_type": "execute_result"
    }
   ],
   "source": [
    "function printPoint(point: Point2D) {\n",
    "  console.log(`x: ${point.x}, y: ${point.y}`);\n",
    "}"
   ]
  },
  {
   "cell_type": "code",
   "execution_count": null,
   "id": "617720e4-79f9-4fc5-937d-cf98eaacf5a5",
   "metadata": {},
   "outputs": [],
   "source": []
  },
  {
   "cell_type": "code",
   "execution_count": 3,
   "id": "d00ea0eb-c2fd-4c22-abdf-2925f2098a1c",
   "metadata": {},
   "outputs": [
    {
     "name": "stdout",
     "output_type": "stream",
     "text": [
      "x: 1, y: 2\n",
      "x: 1, y: 2\n"
     ]
    },
    {
     "data": {
      "text/plain": [
       "undefined"
      ]
     },
     "execution_count": 3,
     "metadata": {},
     "output_type": "execute_result"
    }
   ],
   "source": [
    "{ \n",
    "    let point2D: Point2D = { x: 1, y: 2 };\n",
    "    let point3D: Point3D = { x: 1, y: 2, z: 3 };\n",
    "\n",
    "    printPoint(point2D); // 출력: x: 1, y: 2\n",
    "    printPoint(point3D); // 출력: x: 1, y: 2\n",
    "}"
   ]
  },
  {
   "cell_type": "code",
   "execution_count": null,
   "id": "a8cd9506-2c22-4881-8bb7-a9871273e418",
   "metadata": {},
   "outputs": [],
   "source": []
  },
  {
   "cell_type": "code",
   "execution_count": 4,
   "id": "cc486ab5-5e47-4bcc-a7bc-c9e73a099f8e",
   "metadata": {},
   "outputs": [
    {
     "name": "stdout",
     "output_type": "stream",
     "text": [
      "x: 1, y: 2\n",
      "x: 1, y: 2\n"
     ]
    },
    {
     "data": {
      "text/plain": [
       "{ x: 1, y: 2, z: 3 }"
      ]
     },
     "execution_count": 4,
     "metadata": {},
     "output_type": "execute_result"
    }
   ],
   "source": [
    "{ \n",
    "    let point2D: Point2D = { x: 1, y: 2 };\n",
    "    let point3D: Point3D = { x: 1, y: 2, z: 3 };\n",
    "\n",
    "    printPoint(point2D); // 출력: x: 1, y: 2\n",
    "    printPoint(point3D); // 출력: x: 1, y: 2\n",
    "\n",
    "    point2D = point3D; // Point3D 객체는 Point2D 타입으로 할당 가능 (구조적 하위 타이핑)\n",
    "}"
   ]
  },
  {
   "cell_type": "code",
   "execution_count": null,
   "id": "e732f6e8-d939-41b4-92d4-0d984b7899a2",
   "metadata": {},
   "outputs": [],
   "source": []
  },
  {
   "cell_type": "markdown",
   "id": "0a28811c-55fd-4acc-baf5-e5c591149df7",
   "metadata": {},
   "source": [
    "### 속성 확장된 타입에 타입할당 불가"
   ]
  },
  {
   "cell_type": "code",
   "execution_count": 5,
   "id": "99533bf1-58fa-488a-9286-36cd77f490cd",
   "metadata": {},
   "outputs": [
    {
     "ename": "Error",
     "evalue": "Line 5, Character 5\n    point3D = point2D;   \n____^\nTS2741: Property 'z' is missing in type 'Point2D' but required in type 'Point3D'.",
     "execution_count": 5,
     "output_type": "error",
     "traceback": [
      "Error: Line 5, Character 5",
      "    point3D = point2D;   ",
      "____^",
      "TS2741: Property 'z' is missing in type 'Point2D' but required in type 'Point3D'.",
      "    at execTranspile (/usr/local/lib/node_modules/itypescript/lib/kernel.js:229:23)",
      "    at Session.transpiler [as transpile] (/usr/local/lib/node_modules/itypescript/lib/kernel.js:288:35)",
      "    at Session._runNow (/usr/local/lib/node_modules/itypescript/node_modules/nel/lib/nel.js:835:39)",
      "    at Session._run (/usr/local/lib/node_modules/itypescript/node_modules/nel/lib/nel.js:786:14)",
      "    at Session.execute (/usr/local/lib/node_modules/itypescript/node_modules/nel/lib/nel.js:929:10)",
      "    at Kernel.execute_request (/usr/local/lib/node_modules/itypescript/node_modules/jp-kernel/lib/handlers_v5.js:116:18)",
      "    at Kernel.onShellMessage (/usr/local/lib/node_modules/itypescript/node_modules/jp-kernel/lib/jp-kernel.js:285:41)",
      "    at Socket.<anonymous> (/usr/local/lib/node_modules/itypescript/node_modules/jmp/index.js:350:17)",
      "    at Socket.emit (node:events:513:28)",
      "    at Socket._emitMessage (/usr/local/lib/node_modules/itypescript/node_modules/zeromq/lib/index.js:649:15)"
     ]
    }
   ],
   "source": [
    "{ \n",
    "    let point2D: Point2D = { x: 1, y: 2 };\n",
    "    let point3D: Point3D = { x: 1, y: 2, z: 3 };\n",
    "\n",
    "    point3D = point2D;   \n",
    "}"
   ]
  },
  {
   "cell_type": "code",
   "execution_count": null,
   "id": "b318b179-3fe3-4dba-9a11-e0b1b014d563",
   "metadata": {},
   "outputs": [],
   "source": []
  },
  {
   "cell_type": "code",
   "execution_count": null,
   "id": "1f25573e-6abd-4f51-b6db-a711ec0be486",
   "metadata": {},
   "outputs": [],
   "source": []
  },
  {
   "cell_type": "markdown",
   "id": "8aa5ce32-ce66-4a95-aa00-3ffd5b621309",
   "metadata": {},
   "source": [
    "## 2. Duck Typing :\n",
    "객체의 변수 및 메서드의 집합이 객체의 타입을 결정하는 것을 의미."
   ]
  },
  {
   "cell_type": "code",
   "execution_count": 6,
   "id": "dc58ebd5-6b8e-4d80-8bc1-dc2b18e8093a",
   "metadata": {},
   "outputs": [
    {
     "data": {
      "text/plain": [
       "undefined"
      ]
     },
     "execution_count": 6,
     "metadata": {},
     "output_type": "execute_result"
    }
   ],
   "source": [
    "// 타입 인터페이스\n",
    "interface Quackable {\n",
    "  quack(): void;\n",
    "}\n",
    "\n",
    "// 오리 클래스\n",
    "class Duck implements Quackable {\n",
    "  quack() {\n",
    "    console.log('Quack!');\n",
    "  }\n",
    "}\n",
    "\n",
    "// 오리처럼 걷고 우는 기능을 가진 객체\n",
    "const duckLikeObject = {\n",
    "  quack() {\n",
    "    console.log('Quack! Quack!');\n",
    "  }\n",
    "};"
   ]
  },
  {
   "cell_type": "code",
   "execution_count": null,
   "id": "39a80fff-b5f7-4e19-b240-c7646e3c62d9",
   "metadata": {},
   "outputs": [],
   "source": []
  }
 ],
 "metadata": {
  "kernelspec": {
   "display_name": "Typescript 4.9",
   "language": "typescript",
   "name": "typescript"
  },
  "language_info": {
   "file_extension": ".ts",
   "mimetype": "application/x-typescript",
   "name": "typescript",
   "version": "4.9.5"
  }
 },
 "nbformat": 4,
 "nbformat_minor": 5
}
