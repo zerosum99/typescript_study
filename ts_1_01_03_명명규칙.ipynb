{
 "cells": [
  {
   "cell_type": "code",
   "execution_count": null,
   "id": "75ebb30c-bb15-4b8b-8418-ab1f536c3564",
   "metadata": {},
   "outputs": [],
   "source": []
  },
  {
   "cell_type": "markdown",
   "id": "3df3c494-8e04-40f6-8e5e-36d9c39a7158",
   "metadata": {},
   "source": [
    "## 타입스크립트의 식별자 관리 규칙\n",
    "\n",
    "- 식별자는 변수, 함수, 클래스, 인터페이스 등이 있다. \n",
    "    "
   ]
  },
  {
   "cell_type": "code",
   "execution_count": null,
   "id": "8baf15cd-544c-489a-a2c3-d3054376e423",
   "metadata": {},
   "outputs": [],
   "source": []
  },
  {
   "cell_type": "markdown",
   "id": "2f973141-e9e5-4532-b2ac-4c478a68b113",
   "metadata": {},
   "source": [
    "## 명명규칙 \n",
    "- 대소문자 구분: TypeScript는 대소문자를 구분합니다. 즉, myVariable과 myvariable은 서로 다른 변수입니다.\n",
    "\n",
    "- 유효한 식별자: 변수, 함수, 클래스, 인터페이스 등의 이름은 유효한 식별자(Identifier)여야 합니다. \n",
    "    \n",
    "    \n",
    "### 식별자는 다음 규칙을 따라야 합니다:\n",
    "\n",
    "- 첫 글자로는 문자 (a-z, A-Z) 또는 밑줄 (_)을 사용할 수 있습니다.\n",
    "- 그 이후에는 문자, 숫자 (0-9), 밑줄 (_)을 사용할 수 있습니다.\n",
    "- 예약어 (예: if, for, class)는 식별자로 사용할 수 없습니다.\n"
   ]
  },
  {
   "cell_type": "code",
   "execution_count": null,
   "id": "463fe354-f57d-48f9-9240-cb4b0c3b812c",
   "metadata": {},
   "outputs": [],
   "source": []
  },
  {
   "cell_type": "code",
   "execution_count": null,
   "id": "95a6f651-cae1-4a33-abc0-96516fd10a19",
   "metadata": {},
   "outputs": [],
   "source": []
  },
  {
   "cell_type": "markdown",
   "id": "aaf65e70-0d00-4cd2-b4b5-9bea822955a0",
   "metadata": {},
   "source": [
    "## 명명하는 방법 \n",
    "\n",
    "### 카멜 케이스 (Camel Case): \n",
    "- 변수와 함수 이름은 카멜 케이스를 사용하여 작성하는 것이 관례입니다. \n",
    "- 카멜 케이스는 단어의 첫 글자를 소문자로 시작하고, 그 뒤의 단어는 첫 글자를 대문자로 시작합니다. \n",
    "    예: myVariable, calculateArea().\n",
    "\n",
    "### 파스칼 케이스 (Pascal Case): \n",
    "- 클래스와 타입 이름은 파스칼 케이스를 사용하여 작성하는 것이 관례입니다. \n",
    "- 파스칼 케이스는 모든 단어의 첫 글자를 대문자로 시작합니다. \n",
    "    예: MyClass, PersonDetails.\n",
    "\n",
    "### 스네이크 케이스 (Snake Case): \n",
    "- 일부 개발자들은 변수 이름에 스네이크 케이스를 사용하기도 합니다. \n",
    "- 스네이크 케이스는 단어 사이를 언더스코어 (_)로 구분합니다. \n",
    "    예: my_variable, calculate_area().\n",
    "\n",
    "### 대문자 상수: \n",
    "- 상수 값은 대문자로 작성하며, 단어 사이를 언더스코어 (_)로 구분하는 것이 관례입니다. \n",
    "    예: MAX_VALUE, PI.\n",
    "\n",
    "### 네임스페이스 충돌 방지: \n",
    "- 글로벌 네임스페이스에서 변수명이 충돌하지 않도록 주의해야 합니다. \n",
    "- 모듈 시스템을 사용하여 네임스페이스를 체계화하고 충돌을 방지할 수 있습니다.\n",
    "\n",
    "### 의미 있는 이름: \n",
    "- 식별자의 이름은 해당 요소의 역할과 의미를 잘 나타내도록 짓는 것이 중요합니다. \n",
    "- 이는 코드의 가독성을 향상시키고 유지 보수를 용이하게 합니다.\n",
    "\n",
    "\n",
    "\n",
    "\n",
    "\n"
   ]
  },
  {
   "cell_type": "code",
   "execution_count": null,
   "id": "861a6c71-7521-445b-a859-f3857007d064",
   "metadata": {},
   "outputs": [],
   "source": []
  }
 ],
 "metadata": {
  "kernelspec": {
   "display_name": "Typescript 4.9",
   "language": "typescript",
   "name": "typescript"
  },
  "language_info": {
   "file_extension": ".ts",
   "mimetype": "application/x-typescript",
   "name": "typescript",
   "version": "4.9.5"
  }
 },
 "nbformat": 4,
 "nbformat_minor": 5
}
