{
 "cells": [
  {
   "cell_type": "code",
   "execution_count": null,
   "id": "63f2ee9c-4506-428e-83de-bd46153d7777",
   "metadata": {},
   "outputs": [],
   "source": []
  },
  {
   "cell_type": "markdown",
   "id": "c6a13745-204c-4f3d-954b-00d45dc60f42",
   "metadata": {},
   "source": [
    "## 1. 변수 처리 "
   ]
  },
  {
   "cell_type": "markdown",
   "id": "bcf8fc91-b44b-4ec1-939f-a47436761175",
   "metadata": {
    "editable": true,
    "slideshow": {
     "slide_type": ""
    },
    "tags": []
   },
   "source": [
    "## 1-1. 변수 선언, 초기화 \n",
    "\n",
    "-  var 로 지정된 변수는 항상 먼저 호이스팅이 발생\n",
    "-  그래서 변수 선언된 것에 항상 undefined 값이 먼저 할당됨"
   ]
  },
  {
   "cell_type": "markdown",
   "id": "2ae7d8d0-57d9-4669-9169-b9d22a533f43",
   "metadata": {},
   "source": [
    "### 변수 선언과 초기화 분리 \n",
    "\n",
    "-  변수는 호이스팅이 발생해서 먼저 변수를 선언하면 undefined 처리 됨\n",
    "-  이런 이유는 변수를 관리하는 영역에서 변수에 널값이 들어가 있으면 안되기 때문이다\n"
   ]
  },
  {
   "cell_type": "code",
   "execution_count": 2,
   "id": "5b19980b-42e2-4580-b6b2-c02c8cc69353",
   "metadata": {},
   "outputs": [
    {
     "name": "stdout",
     "output_type": "stream",
     "text": [
      "undefined\n"
     ]
    },
    {
     "data": {
      "text/plain": [
       "undefined"
      ]
     },
     "execution_count": 2,
     "metadata": {},
     "output_type": "execute_result"
    }
   ],
   "source": [
    "                       // 변수 선언\n",
    "var ab;\n",
    "console.log(ab);       // \"undefined\" 출력"
   ]
  },
  {
   "cell_type": "markdown",
   "id": "fc98bc95-b497-4d13-b8e9-66a10a29fd9a",
   "metadata": {},
   "source": [
    "###  변수 초기화 할당 \n",
    "\n",
    "- 변수의 값을 처음으로 할당하는 것을 알 수 있다"
   ]
  },
  {
   "cell_type": "code",
   "execution_count": 3,
   "id": "8e7f1951-c14b-41c4-9063-f892d3545e96",
   "metadata": {},
   "outputs": [
    {
     "name": "stdout",
     "output_type": "stream",
     "text": [
      "Hello\n"
     ]
    },
    {
     "data": {
      "text/plain": [
       "undefined"
      ]
     },
     "execution_count": 3,
     "metadata": {},
     "output_type": "execute_result"
    }
   ],
   "source": [
    "ab = \"Hello\";\n",
    "console.log(ab);       // \"Hello\" 출력\n"
   ]
  },
  {
   "cell_type": "markdown",
   "id": "672f7b6b-7ffc-44b0-a16c-993bc5b713f1",
   "metadata": {},
   "source": [
    "### 변수 선언과 초기화\n",
    "\n",
    "-  변수 선언과 초기화를 하지만 기본적으로 자바스크립트는 변수 선언 처리 즉 호이스팅부터 실행되어 undefined가 세팅\n",
    "-  실제 할당연산자의 우측의 값은 실행될때 할당된다  "
   ]
  },
  {
   "cell_type": "code",
   "execution_count": 16,
   "id": "2b32d48e-15aa-4ff7-a986-9cddc117dee6",
   "metadata": {},
   "outputs": [
    {
     "name": "stdout",
     "output_type": "stream",
     "text": [
      "123\n"
     ]
    },
    {
     "data": {
      "text/plain": [
       "undefined"
      ]
     },
     "execution_count": 16,
     "metadata": {},
     "output_type": "execute_result"
    }
   ],
   "source": [
    "var b = 123;\n",
    "console.log(b); // 123 출력"
   ]
  },
  {
   "cell_type": "code",
   "execution_count": null,
   "id": "de39e2a7-dfa9-4323-b066-ea01ddd52c20",
   "metadata": {},
   "outputs": [],
   "source": []
  },
  {
   "cell_type": "markdown",
   "id": "55b41fd2-1a86-4ce6-b088-54b09f96eadd",
   "metadata": {},
   "source": [
    "### 변수 호이스팅(Variable Hoisting)\n",
    "- JavaScript에서 발생하는 동작 중 하나로, 변수 선언이 스코프의 맨 위로 \"끌어올려지는\" 것을 의미합니다. \n",
    "- 이로 인해 변수가 선언되기 이전에도 해당 변수를 참조하는 것이 가능해집니다. \n",
    "- 하지만 호이스팅은 변수의 초기화까지 영향을 미치지 않습니다."
   ]
  },
  {
   "cell_type": "code",
   "execution_count": 5,
   "id": "14c729c1-1454-434b-9f26-f26cb84c9ba1",
   "metadata": {},
   "outputs": [
    {
     "name": "stdout",
     "output_type": "stream",
     "text": [
      "undefined\n",
      "5\n"
     ]
    },
    {
     "data": {
      "text/plain": [
       "undefined"
      ]
     },
     "execution_count": 5,
     "metadata": {},
     "output_type": "execute_result"
    }
   ],
   "source": [
    "var x;\n",
    "console.log(x);  // 출력: undefined\n",
    "x = 5;\n",
    "console.log(x);  // 출력: 5"
   ]
  },
  {
   "cell_type": "markdown",
   "id": "fdd5d9b3-50ff-4c8b-9dce-274c43c878b2",
   "metadata": {},
   "source": [
    "### 타입 스크립트에서는 할당이전에 사용하면 에러 처리 "
   ]
  },
  {
   "cell_type": "code",
   "execution_count": 1,
   "id": "9db4ea41-d836-479e-9c5a-048dc032b3e4",
   "metadata": {},
   "outputs": [
    {
     "ename": "Error",
     "evalue": "Line 1, Character 13\nconsole.log(y);  // 출력: undefined\n____________^\nTS2454: Variable 'y' is used before being assigned.",
     "execution_count": 1,
     "output_type": "error",
     "traceback": [
      "Error: Line 1, Character 13",
      "console.log(y);  // 출력: undefined",
      "____________^",
      "TS2454: Variable 'y' is used before being assigned.",
      "    at execTranspile (/usr/local/lib/node_modules/itypescript/lib/kernel.js:229:23)",
      "    at Session.transpiler [as transpile] (/usr/local/lib/node_modules/itypescript/lib/kernel.js:288:35)",
      "    at Session._runNow (/usr/local/lib/node_modules/itypescript/node_modules/nel/lib/nel.js:835:39)",
      "    at Session._run (/usr/local/lib/node_modules/itypescript/node_modules/nel/lib/nel.js:786:14)",
      "    at Session.execute (/usr/local/lib/node_modules/itypescript/node_modules/nel/lib/nel.js:929:10)",
      "    at Kernel.execute_request (/usr/local/lib/node_modules/itypescript/node_modules/jp-kernel/lib/handlers_v5.js:116:18)",
      "    at Kernel.onShellMessage (/usr/local/lib/node_modules/itypescript/node_modules/jp-kernel/lib/jp-kernel.js:285:41)",
      "    at Socket.<anonymous> (/usr/local/lib/node_modules/itypescript/node_modules/jmp/index.js:350:17)",
      "    at Socket.emit (node:events:513:28)",
      "    at Socket._emitMessage (/usr/local/lib/node_modules/itypescript/node_modules/zeromq/lib/index.js:649:15)"
     ]
    }
   ],
   "source": [
    "console.log(y);  // 출력: undefined\n",
    "var y = 5;"
   ]
  },
  {
   "cell_type": "markdown",
   "id": "1188190e-4c4b-4e5c-8b57-aa0a49f12f3b",
   "metadata": {},
   "source": [
    "### 타입스크립트에변수를 할당을 먼저 하고 사용해야 함 "
   ]
  },
  {
   "cell_type": "code",
   "execution_count": 3,
   "id": "4e14652e-1d17-47fa-9c2f-b3307cbab6e5",
   "metadata": {},
   "outputs": [
    {
     "name": "stdout",
     "output_type": "stream",
     "text": [
      "5\n"
     ]
    },
    {
     "data": {
      "text/plain": [
       "undefined"
      ]
     },
     "execution_count": 3,
     "metadata": {},
     "output_type": "execute_result"
    }
   ],
   "source": [
    "var y = 5;\n",
    "console.log(y);  // 출력: 5"
   ]
  },
  {
   "cell_type": "code",
   "execution_count": null,
   "id": "cf0c1d71-9d26-41ae-a618-85a7a1bba49d",
   "metadata": {},
   "outputs": [],
   "source": []
  },
  {
   "cell_type": "markdown",
   "id": "1adf0ca1-a09c-40c8-a932-59162cd277c4",
   "metadata": {},
   "source": [
    "## 1-2. 동일한 타입에 대한 처리 \n",
    "\n",
    "-  문자열 타입을 지정하나 문자열 값을 할당해서 타입 추론을 한 경우 동일한 타입으로 처리 "
   ]
  },
  {
   "cell_type": "markdown",
   "id": "df095c95-94ea-4e32-b527-b2f087080981",
   "metadata": {},
   "source": [
    "### 변수를 할당할 때 타입을 지정 "
   ]
  },
  {
   "cell_type": "code",
   "execution_count": 4,
   "id": "9f749eec-d211-49d7-bae2-48bf1cfee6cf",
   "metadata": {},
   "outputs": [
    {
     "data": {
      "text/plain": [
       "undefined"
      ]
     },
     "execution_count": 4,
     "metadata": {},
     "output_type": "execute_result"
    }
   ],
   "source": [
    "let abc : string = \"타입표기\";"
   ]
  },
  {
   "cell_type": "markdown",
   "id": "914e0a0e-e029-441d-97a1-37c2f32dc0e7",
   "metadata": {},
   "source": [
    "### 변수를 할당할 때 타입을 추론 "
   ]
  },
  {
   "cell_type": "code",
   "execution_count": 5,
   "id": "1dc3ce82-b774-41b2-a295-63f0c1c6ac35",
   "metadata": {},
   "outputs": [
    {
     "data": {
      "text/plain": [
       "undefined"
      ]
     },
     "execution_count": 5,
     "metadata": {},
     "output_type": "execute_result"
    }
   ],
   "source": [
    "let cde = \"타입추론\";"
   ]
  },
  {
   "cell_type": "markdown",
   "id": "002c3306-c05c-41c0-ac2b-d5a89dd48560",
   "metadata": {},
   "source": [
    "### 동일한 문자열 타입으로 처리\n",
    "- 문자열끼리 더하기 연산 처리 "
   ]
  },
  {
   "cell_type": "code",
   "execution_count": 6,
   "id": "c1fe57e4-fb49-42ef-bafa-5f4aa395c0e5",
   "metadata": {},
   "outputs": [
    {
     "data": {
      "text/plain": [
       "'타입표기타입추론'"
      ]
     },
     "execution_count": 6,
     "metadata": {},
     "output_type": "execute_result"
    }
   ],
   "source": [
    "abc + cde "
   ]
  },
  {
   "cell_type": "markdown",
   "id": "34dd4e15-da04-4b2d-b1b9-b08c8b08ea38",
   "metadata": {},
   "source": [
    "### 문자열일 경우는 자바스크립트처럼 덧셈연산은 추론해서 처리함 "
   ]
  },
  {
   "cell_type": "code",
   "execution_count": 7,
   "id": "0b609fa0-4eb2-4ead-8bad-6fe49002763c",
   "metadata": {},
   "outputs": [
    {
     "data": {
      "text/plain": [
       "'타입표기100'"
      ]
     },
     "execution_count": 7,
     "metadata": {},
     "output_type": "execute_result"
    }
   ],
   "source": [
    "abc + 100"
   ]
  },
  {
   "cell_type": "markdown",
   "id": "274deb9d-6d06-4448-9f3f-6e52ac5c00fd",
   "metadata": {},
   "source": [
    "## 1-3. 다른 타입을 처리 \n",
    "\n",
    "- 문자열을 지정한 후에 정수를 입력하면 두 타입의 불일치로 예외를 처리 "
   ]
  },
  {
   "cell_type": "markdown",
   "id": "19b2b0bf-fa29-4656-b78f-82a47086c180",
   "metadata": {},
   "source": [
    "### 문자열에 타입을 지정했지만 다른 자료형을 처리하면 예외처리 "
   ]
  },
  {
   "cell_type": "code",
   "execution_count": 4,
   "id": "33bdc27a-18ac-4ec5-8876-757b5f29d7d1",
   "metadata": {},
   "outputs": [
    {
     "ename": "Error",
     "evalue": "Line 1, Character 5\nlet fed : string  = 100;\n____^\nTS2322: Type 'number' is not assignable to type 'string'.",
     "execution_count": 4,
     "output_type": "error",
     "traceback": [
      "Error: Line 1, Character 5",
      "let fed : string  = 100;",
      "____^",
      "TS2322: Type 'number' is not assignable to type 'string'.",
      "    at execTranspile (/usr/local/lib/node_modules/itypescript/lib/kernel.js:229:23)",
      "    at Session.transpiler [as transpile] (/usr/local/lib/node_modules/itypescript/lib/kernel.js:288:35)",
      "    at Session._runNow (/usr/local/lib/node_modules/itypescript/node_modules/nel/lib/nel.js:835:39)",
      "    at Session._runNext (/usr/local/lib/node_modules/itypescript/node_modules/nel/lib/nel.js:876:14)",
      "    at Session._onMessage (/usr/local/lib/node_modules/itypescript/node_modules/nel/lib/nel.js:773:14)",
      "    at ChildProcess.emit (node:events:513:28)",
      "    at emit (node:internal/child_process:937:14)",
      "    at process.processTicksAndRejections (node:internal/process/task_queues:83:21)"
     ]
    }
   ],
   "source": [
    "let fed : string  = 100;"
   ]
  },
  {
   "cell_type": "code",
   "execution_count": null,
   "id": "53a6ceac-fce4-4a8a-b64f-c176cc41011d",
   "metadata": {},
   "outputs": [],
   "source": []
  },
  {
   "cell_type": "markdown",
   "id": "462d5258-773f-483c-b999-feeb8c4e121d",
   "metadata": {},
   "source": [
    "### 문자열과 덧셈연산일 경우 문자열의 결합으로 처리한다"
   ]
  },
  {
   "cell_type": "code",
   "execution_count": 5,
   "id": "e0c448b8-8390-4cd0-98d3-0da2b28b9322",
   "metadata": {},
   "outputs": [
    {
     "data": {
      "text/plain": [
       "undefined"
      ]
     },
     "execution_count": 5,
     "metadata": {},
     "output_type": "execute_result"
    }
   ],
   "source": [
    "let fed_num = 100;"
   ]
  },
  {
   "cell_type": "code",
   "execution_count": 6,
   "id": "3b886841-4bf6-4319-8a96-9c1c2cb59812",
   "metadata": {},
   "outputs": [
    {
     "data": {
      "text/plain": [
       "'타입표기100'"
      ]
     },
     "execution_count": 6,
     "metadata": {},
     "output_type": "execute_result"
    }
   ],
   "source": [
    "abc  + fed_num;"
   ]
  },
  {
   "cell_type": "code",
   "execution_count": null,
   "id": "042b2ea7-8c2c-4cac-b886-49cee9628c62",
   "metadata": {},
   "outputs": [],
   "source": []
  },
  {
   "cell_type": "markdown",
   "id": "c12ccbf4-f86a-4a94-8ba8-87d220f9611c",
   "metadata": {},
   "source": [
    "## 2. let 과 const 정의 처리\n",
    "\n",
    "- var는 함수와 함수 스코프(전역과 지역)를 가진다\n",
    "- let/const는 코드블럭 스코프를 가진다 "
   ]
  },
  {
   "cell_type": "markdown",
   "id": "0bbfb2a4-8bc0-46be-a687-82aeff7c9dce",
   "metadata": {},
   "source": [
    "## 2-1 let 변수 정의 "
   ]
  },
  {
   "cell_type": "markdown",
   "id": "39450dd7-b98e-4ecc-9660-2d695cd17aa8",
   "metadata": {},
   "source": [
    "### 2-1-1 변수 초기값 할당전 사용 "
   ]
  },
  {
   "cell_type": "code",
   "execution_count": 8,
   "id": "bed587d1-3ba2-4f6e-8b04-c75c226e369a",
   "metadata": {},
   "outputs": [
    {
     "ename": "Error",
     "evalue": "Line 3, Character 17\n    console.log(abc);\n________________^\nTS2454: Variable 'abc' is used before being assigned.",
     "execution_count": 8,
     "output_type": "error",
     "traceback": [
      "Error: Line 3, Character 17",
      "    console.log(abc);",
      "________________^",
      "TS2454: Variable 'abc' is used before being assigned.",
      "    at execTranspile (/usr/local/lib/node_modules/itypescript/lib/kernel.js:229:23)",
      "    at Session.transpiler [as transpile] (/usr/local/lib/node_modules/itypescript/lib/kernel.js:288:35)",
      "    at Session._runNow (/usr/local/lib/node_modules/itypescript/node_modules/nel/lib/nel.js:835:39)",
      "    at Session._run (/usr/local/lib/node_modules/itypescript/node_modules/nel/lib/nel.js:786:14)",
      "    at Session.execute (/usr/local/lib/node_modules/itypescript/node_modules/nel/lib/nel.js:929:10)",
      "    at Kernel.execute_request (/usr/local/lib/node_modules/itypescript/node_modules/jp-kernel/lib/handlers_v5.js:116:18)",
      "    at Kernel.onShellMessage (/usr/local/lib/node_modules/itypescript/node_modules/jp-kernel/lib/jp-kernel.js:285:41)",
      "    at Socket.<anonymous> (/usr/local/lib/node_modules/itypescript/node_modules/jmp/index.js:350:17)",
      "    at Socket.emit (node:events:513:28)",
      "    at Socket._emitMessage (/usr/local/lib/node_modules/itypescript/node_modules/zeromq/lib/index.js:649:15)"
     ]
    }
   ],
   "source": [
    "{ \n",
    "   let abc :string;\n",
    "    console.log(abc);\n",
    "    abc = \"초기값처리\";\n",
    "    console.log(abc);\n",
    "}"
   ]
  },
  {
   "cell_type": "code",
   "execution_count": null,
   "id": "e014c2d5-6cc2-490a-b41b-65dd4f819344",
   "metadata": {},
   "outputs": [],
   "source": []
  },
  {
   "cell_type": "markdown",
   "id": "31a60b47-0c8b-4e39-bb03-761ccc4bf5c6",
   "metadata": {},
   "source": [
    "### 2-1-2초기값을 할당해서 사용한다 "
   ]
  },
  {
   "cell_type": "code",
   "execution_count": 9,
   "id": "452f76de-70e6-4dbb-bfee-2d2f0e08fb43",
   "metadata": {},
   "outputs": [
    {
     "name": "stdout",
     "output_type": "stream",
     "text": [
      "초기값처리\n"
     ]
    },
    {
     "data": {
      "text/plain": [
       "undefined"
      ]
     },
     "execution_count": 9,
     "metadata": {},
     "output_type": "execute_result"
    }
   ],
   "source": [
    "{ \n",
    "   let abc :string;\n",
    "    abc = \"초기값처리\";\n",
    "    console.log(abc);\n",
    "}"
   ]
  },
  {
   "cell_type": "code",
   "execution_count": null,
   "id": "840b38f5-3826-4968-b022-78aa43d00447",
   "metadata": {},
   "outputs": [],
   "source": []
  },
  {
   "cell_type": "markdown",
   "id": "6cf62df3-298c-4a2f-8645-72a5c07e99dc",
   "metadata": {},
   "source": [
    "## 2-2. const 정의 \n",
    "\n",
    "- 상수 정의\n",
    "- 한번 할당되면 재할당이 금지 "
   ]
  },
  {
   "cell_type": "markdown",
   "id": "f96d35ee-c0d2-4bb7-b215-c71cc7053e0b",
   "metadata": {},
   "source": [
    "### 2-2-1 타입 추론 "
   ]
  },
  {
   "cell_type": "code",
   "execution_count": 13,
   "id": "a2167cf5-a512-4d73-a827-0c428a677d9a",
   "metadata": {},
   "outputs": [
    {
     "name": "stdout",
     "output_type": "stream",
     "text": [
      "100\n",
      "abc\n"
     ]
    },
    {
     "data": {
      "text/plain": [
       "undefined"
      ]
     },
     "execution_count": 13,
     "metadata": {},
     "output_type": "execute_result"
    }
   ],
   "source": [
    "{ \n",
    "    const abc = 100;\n",
    "    console.log(abc);\n",
    "}"
   ]
  },
  {
   "cell_type": "markdown",
   "id": "20bbff55-36ae-49a8-9ea0-a7ac630170d5",
   "metadata": {},
   "source": [
    "### 2-2-2 타입정의 처리 "
   ]
  },
  {
   "cell_type": "code",
   "execution_count": 14,
   "id": "f2b8acbd-fbe0-4efd-b455-f4e67ad47577",
   "metadata": {},
   "outputs": [
    {
     "name": "stdout",
     "output_type": "stream",
     "text": [
      "abc\n"
     ]
    },
    {
     "data": {
      "text/plain": [
       "undefined"
      ]
     },
     "execution_count": 14,
     "metadata": {},
     "output_type": "execute_result"
    }
   ],
   "source": [
    "{ \n",
    "    const bbc : string = \"abc\";\n",
    "    console.log(bbc);\n",
    "}"
   ]
  },
  {
   "cell_type": "markdown",
   "id": "42f14282-9945-4e6d-b3f7-be980893ecc2",
   "metadata": {},
   "source": [
    "### 2-2-3 상수는 재할당 금지"
   ]
  },
  {
   "cell_type": "code",
   "execution_count": 12,
   "id": "f5e9c8e8-d7ba-44d2-9e6f-091cded8a21e",
   "metadata": {},
   "outputs": [
    {
     "ename": "Error",
     "evalue": "Line 4, Character 5\n    abc = 300;\n____^\nTS2588: Cannot assign to 'abc' because it is a constant.",
     "execution_count": 12,
     "output_type": "error",
     "traceback": [
      "Error: Line 4, Character 5",
      "    abc = 300;",
      "____^",
      "TS2588: Cannot assign to 'abc' because it is a constant.",
      "    at execTranspile (/usr/local/lib/node_modules/itypescript/lib/kernel.js:229:23)",
      "    at Session.transpiler [as transpile] (/usr/local/lib/node_modules/itypescript/lib/kernel.js:288:35)",
      "    at Session._runNow (/usr/local/lib/node_modules/itypescript/node_modules/nel/lib/nel.js:835:39)",
      "    at Session._run (/usr/local/lib/node_modules/itypescript/node_modules/nel/lib/nel.js:786:14)",
      "    at Session.execute (/usr/local/lib/node_modules/itypescript/node_modules/nel/lib/nel.js:929:10)",
      "    at Kernel.execute_request (/usr/local/lib/node_modules/itypescript/node_modules/jp-kernel/lib/handlers_v5.js:116:18)",
      "    at Kernel.onShellMessage (/usr/local/lib/node_modules/itypescript/node_modules/jp-kernel/lib/jp-kernel.js:285:41)",
      "    at Socket.<anonymous> (/usr/local/lib/node_modules/itypescript/node_modules/jmp/index.js:350:17)",
      "    at Socket.emit (node:events:513:28)",
      "    at Socket._emitMessage (/usr/local/lib/node_modules/itypescript/node_modules/zeromq/lib/index.js:649:15)"
     ]
    }
   ],
   "source": [
    "{ \n",
    "    const abc = 100;\n",
    "    console.log(abc);\n",
    "    abc = 300;\n",
    "}"
   ]
  },
  {
   "cell_type": "code",
   "execution_count": null,
   "id": "47617058-d06e-4628-b7ec-5746534f9f12",
   "metadata": {},
   "outputs": [],
   "source": []
  }
 ],
 "metadata": {
  "kernelspec": {
   "display_name": "Typescript 4.9",
   "language": "typescript",
   "name": "typescript"
  },
  "language_info": {
   "file_extension": ".ts",
   "mimetype": "application/x-typescript",
   "name": "typescript",
   "version": "4.9.5"
  }
 },
 "nbformat": 4,
 "nbformat_minor": 5
}
