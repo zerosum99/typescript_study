{
 "cells": [
  {
   "cell_type": "code",
   "execution_count": null,
   "id": "11dba465-1e74-4f2d-8a9d-5bf6c7fb5aa9",
   "metadata": {},
   "outputs": [],
   "source": []
  }
 ],
 "metadata": {
  "kernelspec": {
   "display_name": "Typescript 4.9",
   "language": "typescript",
   "name": "typescript"
  },
  "language_info": {
   "file_extension": ".ts",
   "mimetype": "application/x-typescript",
   "name": "typescript",
   "version": "4.9.5"
  }
 },
 "nbformat": 4,
 "nbformat_minor": 5
}
