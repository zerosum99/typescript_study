{
 "cells": [
  {
   "cell_type": "code",
   "execution_count": null,
   "id": "e771ed9a-308d-48c0-b551-feb339549fb8",
   "metadata": {},
   "outputs": [],
   "source": []
  },
  {
   "cell_type": "code",
   "execution_count": null,
   "id": "8dab2063-ca0b-4d4a-b46b-c47c18736578",
   "metadata": {},
   "outputs": [],
   "source": []
  },
  {
   "cell_type": "markdown",
   "id": "514832d7-2feb-445c-8986-47b1aadd0cba",
   "metadata": {},
   "source": [
    "## 타입 애노테이션"
   ]
  },
  {
   "cell_type": "markdown",
   "id": "7a8ee4cf-4003-4cdf-8234-f26e4f53f441",
   "metadata": {},
   "source": [
    "## 1-1 변수 타입 어노테이션(Variable Type Annotation)\n",
    "    \n",
    "- TypeScript에서 변수의 타입을 명시적으로 지정하는 것을 말합니다. \n",
    "- 이를 통해 변수가 가질 수 있는 값의 타입을 명시하고, 컴파일러가 해당 변수를 추론하는 것을 돕는 역할을 합니다.\n",
    "- 변수 타입 어노테이션을 사용하려면 변수 이름 뒤에 콜론(:)을 붙이고, 그 뒤에 원하는 타입을 기술합니다."
   ]
  },
  {
   "cell_type": "markdown",
   "id": "7081ecc2-e969-4805-8b10-240e0c5afc88",
   "metadata": {},
   "source": [
    "### 변수 애노테이션 "
   ]
  },
  {
   "cell_type": "code",
   "execution_count": 7,
   "id": "11ea48f6-172b-40b9-9872-ed3d8ddad421",
   "metadata": {},
   "outputs": [
    {
     "data": {
      "text/plain": [
       "undefined"
      ]
     },
     "execution_count": 7,
     "metadata": {},
     "output_type": "execute_result"
    }
   ],
   "source": [
    "let age1: number = 30;\n",
    "let name1: string = \"Alice\";\n",
    "let isStudent1: boolean = true;\n"
   ]
  },
  {
   "cell_type": "markdown",
   "id": "21e2a277-6f94-467e-812c-e9a3370207cb",
   "metadata": {},
   "source": [
    "### 매개변수와 반환자료형 "
   ]
  },
  {
   "cell_type": "code",
   "execution_count": 8,
   "id": "2964f7df-02fd-425e-b191-2386f0955d07",
   "metadata": {},
   "outputs": [
    {
     "data": {
      "text/plain": [
       "undefined"
      ]
     },
     "execution_count": 8,
     "metadata": {},
     "output_type": "execute_result"
    }
   ],
   "source": [
    "function add(a: number, b: number): number {\n",
    "    return a + b;\n",
    "}\n"
   ]
  },
  {
   "cell_type": "code",
   "execution_count": null,
   "id": "4cf9a138-9531-442e-a8b6-958a76391dac",
   "metadata": {},
   "outputs": [],
   "source": []
  },
  {
   "cell_type": "markdown",
   "id": "e2e318f6-0b55-4017-a992-8425c704c330",
   "metadata": {},
   "source": [
    "## 1-2 진화하는 any"
   ]
  },
  {
   "cell_type": "code",
   "execution_count": null,
   "id": "65a94416-2dd5-4c6e-ac45-f8d307a333c9",
   "metadata": {},
   "outputs": [],
   "source": []
  },
  {
   "cell_type": "markdown",
   "id": "b857b241-4b67-4331-ad93-03384672beee",
   "metadata": {},
   "source": [
    "##  any 타입 제거 방법 \n",
    "\n",
    "- 타입 추론(Type Inference): TypeScript는 변수가 어떤 타입인지 추론할 수 있는 경우 any 대신에 타입을 추론하도록 노력합니다. 이로 인해 타입 정보가 더 많이 유지됩니다.\n",
    "\n",
    "- strict 모드 활성화: TypeScript의 strict 모드는 더 엄격한 타입 검사를 수행하며, any 타입의 사용을 최소화합니다. strict 모드를 활성화하여 타입 안정성을 향상시킬 수 있습니다.\n",
    "\n",
    "- 타입 선언(Type Declarations): any 대신에 가능한 경우 타입 선언을 사용하여 변수나 함수의 타입을 명시적으로 지정합니다. 이렇게 하면 코드의 가독성이 향상되고 타입 검사가 더 강화됩니다.\n",
    "\n",
    "- 타입스크립트 라이브러리 사용: 타입스크립트 커뮤니티에서 개발한 타입스크립트 라이브러리나 패키지를 활용하면 any 대신에 타입 안정성을 유지하면서도 유용한 도구와 기능을 활용할 수 있습니다.\n",
    "\n",
    "- 타입 안정성 고려: any를 사용할 때 항상 타입 안정성을 고려하고, any를 사용하는 이유를 문서화하거나 설명합니다. 가능한 경우 any 대신에 더 구체적인 타입을 사용하여 타입 오류를 미리 방지합니다."
   ]
  },
  {
   "cell_type": "markdown",
   "id": "cfb66593-59ae-4022-963e-860a10a656ca",
   "metadata": {},
   "source": [
    "### 초기값과 타입애노테이션을 지정하지 않으면 any 로 처리 "
   ]
  },
  {
   "cell_type": "code",
   "execution_count": 2,
   "id": "29f0d037-ac14-45e0-98d1-b750634d2a7d",
   "metadata": {},
   "outputs": [
    {
     "data": {
      "text/plain": [
       "undefined"
      ]
     },
     "execution_count": 2,
     "metadata": {},
     "output_type": "execute_result"
    }
   ],
   "source": [
    "let any1;"
   ]
  },
  {
   "cell_type": "code",
   "execution_count": 3,
   "id": "fea4ba0a-9a6c-406f-9ac4-5ff6a0f623d6",
   "metadata": {},
   "outputs": [
    {
     "data": {
      "text/plain": [
       "'문자열'"
      ]
     },
     "execution_count": 3,
     "metadata": {},
     "output_type": "execute_result"
    }
   ],
   "source": [
    "any1 = \"문자열\";"
   ]
  },
  {
   "cell_type": "code",
   "execution_count": 4,
   "id": "3c8396e5-ef92-4681-a9df-95276cee150b",
   "metadata": {},
   "outputs": [
    {
     "data": {
      "text/plain": [
       "100"
      ]
     },
     "execution_count": 4,
     "metadata": {},
     "output_type": "execute_result"
    }
   ],
   "source": [
    "any1 = 100;"
   ]
  },
  {
   "cell_type": "code",
   "execution_count": null,
   "id": "9dcdcaaa-99a0-418c-ad77-8cb40dd94a7f",
   "metadata": {},
   "outputs": [],
   "source": []
  },
  {
   "cell_type": "code",
   "execution_count": null,
   "id": "0aadd1b9-5df9-4c4c-b2da-f79b239e76cc",
   "metadata": {},
   "outputs": [],
   "source": []
  },
  {
   "cell_type": "markdown",
   "id": "9ccc7f98-5949-471f-9771-e04483dc6ebb",
   "metadata": {},
   "source": [
    "## 1-3  타입 애노테이션 : as const \n",
    "- 해당 변수가 더 이상 변경되지 않음을 명시적으로 나타내는 역할을 합니다. 이를 통해 TypeScript는 변수의 타입을 상수 타입으로 추론하며, 값이 변하지 않는 것을 보장합니다.\n",
    "\n",
    "### as const를 사용하는 이유는 크게 두 가지입니다:\n",
    "\n",
    "- 리터럴 타입 확정: 변수의 값을 리터럴 타입으로 확정합니다. 즉, 변수가 가질 수 있는 값의 범위를 좁히고 더 정확한 타입을 갖게 됩니다.\n",
    "\n",
    "- 불변성 보장: 변수가 다른 값으로 변경되는 것을 방지하여 불변성을 보장합니다. 이를 통해 코드의 안정성을 높이고 버그를 줄일 수 있습니다.\n"
   ]
  },
  {
   "cell_type": "code",
   "execution_count": null,
   "id": "7e22ba13-0486-4a1c-bae7-e77fae8b1bc0",
   "metadata": {},
   "outputs": [],
   "source": []
  },
  {
   "cell_type": "code",
   "execution_count": 2,
   "id": "9172df39-2645-4b9f-820c-00985f16322d",
   "metadata": {},
   "outputs": [
    {
     "data": {
      "text/plain": [
       "'use strict'"
      ]
     },
     "execution_count": 2,
     "metadata": {},
     "output_type": "execute_result"
    }
   ],
   "source": [
    "const person = {\n",
    "    name: \"Alice\",\n",
    "    age: 30\n",
    "} as const;\n"
   ]
  },
  {
   "cell_type": "code",
   "execution_count": 5,
   "id": "f9ac0217-2357-4ac5-a91f-edf44458167a",
   "metadata": {},
   "outputs": [
    {
     "ename": "Error",
     "evalue": "Line 1, Character 8\nperson.name = \"Bob\"; // 에러 발생 - 'name' 속성은 변경할 수 없음\n_______^\nTS2540: Cannot assign to 'name' because it is a read-only property.",
     "execution_count": 5,
     "output_type": "error",
     "traceback": [
      "Error: Line 1, Character 8",
      "person.name = \"Bob\"; // 에러 발생 - 'name' 속성은 변경할 수 없음",
      "_______^",
      "TS2540: Cannot assign to 'name' because it is a read-only property.",
      "    at execTranspile (/usr/local/lib/node_modules/itypescript/lib/kernel.js:229:23)",
      "    at Session.transpiler [as transpile] (/usr/local/lib/node_modules/itypescript/lib/kernel.js:288:35)",
      "    at Session._runNow (/usr/local/lib/node_modules/itypescript/node_modules/nel/lib/nel.js:835:39)",
      "    at Session._run (/usr/local/lib/node_modules/itypescript/node_modules/nel/lib/nel.js:786:14)",
      "    at Session.execute (/usr/local/lib/node_modules/itypescript/node_modules/nel/lib/nel.js:929:10)",
      "    at Kernel.execute_request (/usr/local/lib/node_modules/itypescript/node_modules/jp-kernel/lib/handlers_v5.js:116:18)",
      "    at Kernel.onShellMessage (/usr/local/lib/node_modules/itypescript/node_modules/jp-kernel/lib/jp-kernel.js:285:41)",
      "    at Socket.<anonymous> (/usr/local/lib/node_modules/itypescript/node_modules/jmp/index.js:350:17)",
      "    at Socket.emit (node:events:513:28)",
      "    at Socket._emitMessage (/usr/local/lib/node_modules/itypescript/node_modules/zeromq/lib/index.js:649:15)"
     ]
    }
   ],
   "source": [
    "person.name = \"Bob\"; // 에러 발생 - 'name' 속성은 변경할 수 없음"
   ]
  },
  {
   "cell_type": "code",
   "execution_count": 4,
   "id": "864a80ce-b89a-4043-810b-7e8d191b5b4c",
   "metadata": {},
   "outputs": [
    {
     "ename": "Error",
     "evalue": "Line 1, Character 8\nperson.age = 31;     // 에러 발생 - 'age' 속성은 변경할 수 없음\n_______^\nTS2540: Cannot assign to 'age' because it is a read-only property.",
     "execution_count": 4,
     "output_type": "error",
     "traceback": [
      "Error: Line 1, Character 8",
      "person.age = 31;     // 에러 발생 - 'age' 속성은 변경할 수 없음",
      "_______^",
      "TS2540: Cannot assign to 'age' because it is a read-only property.",
      "    at execTranspile (/usr/local/lib/node_modules/itypescript/lib/kernel.js:229:23)",
      "    at Session.transpiler [as transpile] (/usr/local/lib/node_modules/itypescript/lib/kernel.js:288:35)",
      "    at Session._runNow (/usr/local/lib/node_modules/itypescript/node_modules/nel/lib/nel.js:835:39)",
      "    at Session._run (/usr/local/lib/node_modules/itypescript/node_modules/nel/lib/nel.js:786:14)",
      "    at Session.execute (/usr/local/lib/node_modules/itypescript/node_modules/nel/lib/nel.js:929:10)",
      "    at Kernel.execute_request (/usr/local/lib/node_modules/itypescript/node_modules/jp-kernel/lib/handlers_v5.js:116:18)",
      "    at Kernel.onShellMessage (/usr/local/lib/node_modules/itypescript/node_modules/jp-kernel/lib/jp-kernel.js:285:41)",
      "    at Socket.<anonymous> (/usr/local/lib/node_modules/itypescript/node_modules/jmp/index.js:350:17)",
      "    at Socket.emit (node:events:513:28)",
      "    at Socket._emitMessage (/usr/local/lib/node_modules/itypescript/node_modules/zeromq/lib/index.js:649:15)"
     ]
    }
   ],
   "source": [
    "person.age = 31;     // 에러 발생 - 'age' 속성은 변경할 수 없음"
   ]
  },
  {
   "cell_type": "code",
   "execution_count": null,
   "id": "eb6554c2-5692-48d1-8dff-deff37bc7537",
   "metadata": {},
   "outputs": [],
   "source": []
  }
 ],
 "metadata": {
  "kernelspec": {
   "display_name": "Typescript 4.9",
   "language": "typescript",
   "name": "typescript"
  },
  "language_info": {
   "file_extension": ".ts",
   "mimetype": "application/x-typescript",
   "name": "typescript",
   "version": "4.9.5"
  }
 },
 "nbformat": 4,
 "nbformat_minor": 5
}
