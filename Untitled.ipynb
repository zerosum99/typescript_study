{
 "cells": [
  {
   "cell_type": "code",
   "execution_count": null,
   "id": "02ea523c-621b-4ca7-9146-6e9f23fe7a72",
   "metadata": {},
   "outputs": [],
   "source": []
  },
  {
   "cell_type": "code",
   "execution_count": 1,
   "id": "2267178d-e21e-4101-9f18-cdece7bba611",
   "metadata": {},
   "outputs": [
    {
     "ename": "Error",
     "evalue": "Line 1, Character 10\n{\"module\":1,\"target\":1,\"moduleResolution\":2,\"esModuleInterop\":true}\n_________^\nTS1005: ';' expected.\n\nLine 1, Character 21\n{\"module\":1,\"target\":1,\"moduleResolution\":2,\"esModuleInterop\":true}\n____________________^\nTS1005: ';' expected.\n\nLine 1, Character 42\n{\"module\":1,\"target\":1,\"moduleResolution\":2,\"esModuleInterop\":true}\n_________________________________________^\nTS1005: ';' expected.\n\nLine 1, Character 62\n{\"module\":1,\"target\":1,\"moduleResolution\":2,\"esModuleInterop\":true}\n_____________________________________________________________^\nTS1005: ';' expected.\n\nLine 1, Character 11\n{\"module\":1,\"target\":1,\"moduleResolution\":2,\"esModuleInterop\":true}\n__________^\nTS2695: Left side of comma operator is unused and has no side effects.\n\nLine 1, Character 22\n{\"module\":1,\"target\":1,\"moduleResolution\":2,\"esModuleInterop\":true}\n_____________________^\nTS2695: Left side of comma operator is unused and has no side effects.\n\nLine 1, Character 43\n{\"module\":1,\"target\":1,\"moduleResolution\":2,\"esModuleInterop\":true}\n__________________________________________^\nTS2695: Left side of comma operator is unused and has no side effects.",
     "execution_count": 1,
     "output_type": "error",
     "traceback": [
      "Error: Line 1, Character 10",
      "{\"module\":1,\"target\":1,\"moduleResolution\":2,\"esModuleInterop\":true}",
      "_________^",
      "TS1005: ';' expected.",
      "",
      "Line 1, Character 21",
      "{\"module\":1,\"target\":1,\"moduleResolution\":2,\"esModuleInterop\":true}",
      "____________________^",
      "TS1005: ';' expected.",
      "",
      "Line 1, Character 42",
      "{\"module\":1,\"target\":1,\"moduleResolution\":2,\"esModuleInterop\":true}",
      "_________________________________________^",
      "TS1005: ';' expected.",
      "",
      "Line 1, Character 62",
      "{\"module\":1,\"target\":1,\"moduleResolution\":2,\"esModuleInterop\":true}",
      "_____________________________________________________________^",
      "TS1005: ';' expected.",
      "",
      "Line 1, Character 11",
      "{\"module\":1,\"target\":1,\"moduleResolution\":2,\"esModuleInterop\":true}",
      "__________^",
      "TS2695: Left side of comma operator is unused and has no side effects.",
      "",
      "Line 1, Character 22",
      "{\"module\":1,\"target\":1,\"moduleResolution\":2,\"esModuleInterop\":true}",
      "_____________________^",
      "TS2695: Left side of comma operator is unused and has no side effects.",
      "",
      "Line 1, Character 43",
      "{\"module\":1,\"target\":1,\"moduleResolution\":2,\"esModuleInterop\":true}",
      "__________________________________________^",
      "TS2695: Left side of comma operator is unused and has no side effects.",
      "    at execTranspile (/usr/local/lib/node_modules/itypescript/lib/kernel.js:229:23)",
      "    at Session.transpiler [as transpile] (/usr/local/lib/node_modules/itypescript/lib/kernel.js:288:35)",
      "    at Session._runNow (/usr/local/lib/node_modules/itypescript/node_modules/nel/lib/nel.js:835:39)",
      "    at Session._run (/usr/local/lib/node_modules/itypescript/node_modules/nel/lib/nel.js:786:14)",
      "    at Session.execute (/usr/local/lib/node_modules/itypescript/node_modules/nel/lib/nel.js:929:10)",
      "    at Kernel.execute_request (/usr/local/lib/node_modules/itypescript/node_modules/jp-kernel/lib/handlers_v5.js:116:18)",
      "    at Kernel.onShellMessage (/usr/local/lib/node_modules/itypescript/node_modules/jp-kernel/lib/jp-kernel.js:285:41)",
      "    at Socket.<anonymous> (/usr/local/lib/node_modules/itypescript/node_modules/jmp/index.js:350:17)",
      "    at Socket.emit (node:events:513:28)",
      "    at Socket._emitMessage (/usr/local/lib/node_modules/itypescript/node_modules/zeromq/lib/index.js:649:15)"
     ]
    }
   ],
   "source": [
    "{\"module\":1,\"target\":1,\"moduleResolution\":2,\"esModuleInterop\":true}"
   ]
  },
  {
   "cell_type": "code",
   "execution_count": null,
   "id": "e014c2d5-6cc2-490a-b41b-65dd4f819344",
   "metadata": {},
   "outputs": [],
   "source": []
  }
 ],
 "metadata": {
  "kernelspec": {
   "display_name": "Typescript 4.9",
   "language": "typescript",
   "name": "typescript"
  },
  "language_info": {
   "file_extension": ".ts",
   "mimetype": "application/x-typescript",
   "name": "typescript",
   "version": "4.9.5"
  }
 },
 "nbformat": 4,
 "nbformat_minor": 5
}
