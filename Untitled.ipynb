{
 "cells": [
  {
   "cell_type": "code",
   "execution_count": null,
   "id": "2f368027-0afe-46b1-997b-dde3fa797140",
   "metadata": {},
   "outputs": [],
   "source": []
  },
  {
   "cell_type": "code",
   "execution_count": 5,
   "id": "95bd14ce-f5eb-4cc9-96a6-701f465e3f99",
   "metadata": {},
   "outputs": [
    {
     "data": {
      "text/plain": [
       "undefined"
      ]
     },
     "execution_count": 5,
     "metadata": {},
     "output_type": "execute_result"
    }
   ],
   "source": [
    "const abc1 = {\n",
    "    name: \"가을이\",\n",
    "    \"age-gender\" : 100\n",
    "};"
   ]
  },
  {
   "cell_type": "code",
   "execution_count": 6,
   "id": "3ed8ca38-0d56-4e2e-b737-c802f8149af2",
   "metadata": {},
   "outputs": [
    {
     "ename": "Error",
     "evalue": "Line 1, Character 6\nabc1.age\n_____^\nTS2339: Property 'age' does not exist on type '{ name: string; \"age-gender\": number; }'.",
     "execution_count": 6,
     "output_type": "error",
     "traceback": [
      "Error: Line 1, Character 6",
      "abc1.age",
      "_____^",
      "TS2339: Property 'age' does not exist on type '{ name: string; \"age-gender\": number; }'.",
      "    at execTranspile (/usr/local/lib/node_modules/itypescript/lib/kernel.js:229:23)",
      "    at Session.transpiler [as transpile] (/usr/local/lib/node_modules/itypescript/lib/kernel.js:288:35)",
      "    at Session._runNow (/usr/local/lib/node_modules/itypescript/node_modules/nel/lib/nel.js:835:39)",
      "    at Session._run (/usr/local/lib/node_modules/itypescript/node_modules/nel/lib/nel.js:786:14)",
      "    at Session.execute (/usr/local/lib/node_modules/itypescript/node_modules/nel/lib/nel.js:929:10)",
      "    at Kernel.execute_request (/usr/local/lib/node_modules/itypescript/node_modules/jp-kernel/lib/handlers_v5.js:116:18)",
      "    at Kernel.onShellMessage (/usr/local/lib/node_modules/itypescript/node_modules/jp-kernel/lib/jp-kernel.js:285:41)",
      "    at Socket.<anonymous> (/usr/local/lib/node_modules/itypescript/node_modules/jmp/index.js:350:17)",
      "    at Socket.emit (node:events:513:28)",
      "    at Socket._emitMessage (/usr/local/lib/node_modules/itypescript/node_modules/zeromq/lib/index.js:649:15)"
     ]
    }
   ],
   "source": [
    "abc1.age"
   ]
  },
  {
   "cell_type": "code",
   "execution_count": 7,
   "id": "d84ed6ff-73cc-4066-b16e-9aa5d56be884",
   "metadata": {},
   "outputs": [
    {
     "ename": "Error",
     "evalue": "Line 1, Character 1\nabc1[\"gender\"]\n^\nTS7053: Element implicitly has an 'any' type because expression of type '\"gender\"' can't be used to index type '{ name: string; \"age-gender\": number; }'.\n  Property 'gender' does not exist on type '{ name: string; \"age-gender\": number; }'.",
     "execution_count": 7,
     "output_type": "error",
     "traceback": [
      "Error: Line 1, Character 1",
      "abc1[\"gender\"]",
      "^",
      "TS7053: Element implicitly has an 'any' type because expression of type '\"gender\"' can't be used to index type '{ name: string; \"age-gender\": number; }'.",
      "  Property 'gender' does not exist on type '{ name: string; \"age-gender\": number; }'.",
      "    at execTranspile (/usr/local/lib/node_modules/itypescript/lib/kernel.js:229:23)",
      "    at Session.transpiler [as transpile] (/usr/local/lib/node_modules/itypescript/lib/kernel.js:288:35)",
      "    at Session._runNow (/usr/local/lib/node_modules/itypescript/node_modules/nel/lib/nel.js:835:39)",
      "    at Session._run (/usr/local/lib/node_modules/itypescript/node_modules/nel/lib/nel.js:786:14)",
      "    at Session.execute (/usr/local/lib/node_modules/itypescript/node_modules/nel/lib/nel.js:929:10)",
      "    at Kernel.execute_request (/usr/local/lib/node_modules/itypescript/node_modules/jp-kernel/lib/handlers_v5.js:116:18)",
      "    at Kernel.onShellMessage (/usr/local/lib/node_modules/itypescript/node_modules/jp-kernel/lib/jp-kernel.js:285:41)",
      "    at Socket.<anonymous> (/usr/local/lib/node_modules/itypescript/node_modules/jmp/index.js:350:17)",
      "    at Socket.emit (node:events:513:28)",
      "    at Socket._emitMessage (/usr/local/lib/node_modules/itypescript/node_modules/zeromq/lib/index.js:649:15)"
     ]
    }
   ],
   "source": [
    "abc1[\"gender\"]"
   ]
  },
  {
   "cell_type": "code",
   "execution_count": 8,
   "id": "9b16b07a-bd6c-47aa-b7e0-4ee4f9075619",
   "metadata": {},
   "outputs": [
    {
     "ename": "Error",
     "evalue": "Line 1, Character 6\nabc1.age-gender\n_____^\nTS2339: Property 'age' does not exist on type '{ name: string; \"age-gender\": number; }'.\n\nLine 1, Character 10\nabc1.age-gender\n_________^\nTS2304: Cannot find name 'gender'.",
     "execution_count": 8,
     "output_type": "error",
     "traceback": [
      "Error: Line 1, Character 6",
      "abc1.age-gender",
      "_____^",
      "TS2339: Property 'age' does not exist on type '{ name: string; \"age-gender\": number; }'.",
      "",
      "Line 1, Character 10",
      "abc1.age-gender",
      "_________^",
      "TS2304: Cannot find name 'gender'.",
      "    at execTranspile (/usr/local/lib/node_modules/itypescript/lib/kernel.js:229:23)",
      "    at Session.transpiler [as transpile] (/usr/local/lib/node_modules/itypescript/lib/kernel.js:288:35)",
      "    at Session._runNow (/usr/local/lib/node_modules/itypescript/node_modules/nel/lib/nel.js:835:39)",
      "    at Session._run (/usr/local/lib/node_modules/itypescript/node_modules/nel/lib/nel.js:786:14)",
      "    at Session.execute (/usr/local/lib/node_modules/itypescript/node_modules/nel/lib/nel.js:929:10)",
      "    at Kernel.execute_request (/usr/local/lib/node_modules/itypescript/node_modules/jp-kernel/lib/handlers_v5.js:116:18)",
      "    at Kernel.onShellMessage (/usr/local/lib/node_modules/itypescript/node_modules/jp-kernel/lib/jp-kernel.js:285:41)",
      "    at Socket.<anonymous> (/usr/local/lib/node_modules/itypescript/node_modules/jmp/index.js:350:17)",
      "    at Socket.emit (node:events:513:28)",
      "    at Socket._emitMessage (/usr/local/lib/node_modules/itypescript/node_modules/zeromq/lib/index.js:649:15)"
     ]
    }
   ],
   "source": [
    "abc1.age-gender"
   ]
  },
  {
   "cell_type": "code",
   "execution_count": null,
   "id": "98b1657f-6dd0-49d1-8fe5-8283d3466638",
   "metadata": {},
   "outputs": [],
   "source": []
  }
 ],
 "metadata": {
  "kernelspec": {
   "display_name": "Typescript 4.9",
   "language": "typescript",
   "name": "typescript"
  },
  "language_info": {
   "file_extension": ".ts",
   "mimetype": "application/x-typescript",
   "name": "typescript",
   "version": "4.9.5"
  }
 },
 "nbformat": 4,
 "nbformat_minor": 5
}
