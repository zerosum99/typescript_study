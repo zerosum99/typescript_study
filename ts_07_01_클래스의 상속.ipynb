{
 "cells": [
  {
   "cell_type": "code",
   "execution_count": null,
   "id": "342af457-6e5a-4eb7-93d9-c7f4811e9423",
   "metadata": {},
   "outputs": [],
   "source": []
  },
  {
   "cell_type": "markdown",
   "id": "279582fd-59b7-471c-b6cb-61e6b0a52444",
   "metadata": {},
   "source": [
    "## 클래스의 상속 "
   ]
  },
  {
   "cell_type": "code",
   "execution_count": null,
   "id": "5f3d1d89-44b0-4988-b8aa-971748a78a92",
   "metadata": {},
   "outputs": [],
   "source": []
  },
  {
   "cell_type": "markdown",
   "id": "d074c17c-6efd-4b45-951d-0db4baa03236",
   "metadata": {},
   "source": [
    "### super를 사용하는 주요 상황은 다음과 같습니다:\n",
    "\n",
    "- 부모 클래스의 생성자 호출: 자식 클래스의 생성자에서 super()를 호출하여 부모 클래스의 생성자를 실행합니다. 이렇게 하면 부모 클래스의 초기화 작업을 수행할 수 있습니다.\n",
    "- 부모 클래스의 메서드 호출: 자식 클래스에서 부모 클래스의 메서드를 호출하거나 오버라이딩된 메서드에서 부모 클래스의 메서드를 확장할 때 super.methodName()과 같이 사용할 수 있습니다.\n",
    "- 부모 클래스의 프로퍼티 참조: 부모 클래스의 프로퍼티에 접근할 때 super.propertyName과 같이 사용할 수 있습니다."
   ]
  },
  {
   "cell_type": "code",
   "execution_count": null,
   "id": "c71a0f8c-cfbe-43db-aff7-c486a503a4aa",
   "metadata": {},
   "outputs": [],
   "source": []
  },
  {
   "cell_type": "code",
   "execution_count": 1,
   "id": "2bb7e67a-0f7c-433d-b8f0-57834d6f12f0",
   "metadata": {},
   "outputs": [
    {
     "name": "stdout",
     "output_type": "stream",
     "text": [
      "Buddy\n",
      "Animal makes a sound\n",
      "Dog barks\n"
     ]
    },
    {
     "data": {
      "text/plain": [
       "undefined"
      ]
     },
     "execution_count": 1,
     "metadata": {},
     "output_type": "execute_result"
    }
   ],
   "source": [
    "class Animal {\n",
    "    constructor(public name: string) {}\n",
    "\n",
    "    makeSound() {\n",
    "        console.log(\"Animal makes a sound\");\n",
    "    }\n",
    "}\n",
    "\n",
    "class Dog extends Animal {\n",
    "    constructor(name: string) {\n",
    "        super(name); // 부모 클래스의 생성자 호출\n",
    "    }\n",
    "\n",
    "    makeSound() {\n",
    "        super.makeSound(); // 부모 클래스의 메서드 호출\n",
    "        console.log(\"Dog barks\");\n",
    "    }\n",
    "}\n",
    "\n",
    "const myDog = new Dog(\"Buddy\");\n",
    "console.log(myDog.name); // \"Buddy\"\n",
    "myDog.makeSound();\n"
   ]
  },
  {
   "cell_type": "code",
   "execution_count": null,
   "id": "cc438ba5-ce38-4afe-a885-cca89eaea3ea",
   "metadata": {},
   "outputs": [],
   "source": []
  }
 ],
 "metadata": {
  "kernelspec": {
   "display_name": "Typescript 4.9",
   "language": "typescript",
   "name": "typescript"
  },
  "language_info": {
   "file_extension": ".ts",
   "mimetype": "application/x-typescript",
   "name": "typescript",
   "version": "4.9.5"
  }
 },
 "nbformat": 4,
 "nbformat_minor": 5
}
