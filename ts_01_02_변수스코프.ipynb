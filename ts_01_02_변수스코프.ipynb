{
 "cells": [
  {
   "cell_type": "code",
   "execution_count": null,
   "id": "63f2ee9c-4506-428e-83de-bd46153d7777",
   "metadata": {},
   "outputs": [],
   "source": []
  },
  {
   "cell_type": "code",
   "execution_count": null,
   "id": "3f16d4b8-8a25-4caa-aca0-c3478b0659f0",
   "metadata": {},
   "outputs": [],
   "source": []
  },
  {
   "cell_type": "markdown",
   "id": "fae2e383-2d35-4a44-8f1a-7c9f6f0523f3",
   "metadata": {},
   "source": [
    "## 2.  스코프 변수 정의 "
   ]
  },
  {
   "cell_type": "markdown",
   "id": "21d93da1-8fe2-4ab4-94d7-7ff09c0b2564",
   "metadata": {},
   "source": [
    "## 2-1. 전역변수와 지역변수 정의 \n",
    "\n",
    "- 전역변수는 모듈에 정의되거나 함수 내부에 var 없이 정의\n",
    "- 지역변수는 함수 내부에 정의된 변수 및 매개변수 "
   ]
  },
  {
   "cell_type": "code",
   "execution_count": 7,
   "id": "d5d721be-b987-45df-8a8d-2c49685b5287",
   "metadata": {},
   "outputs": [
    {
     "name": "stdout",
     "output_type": "stream",
     "text": [
      "400\n"
     ]
    },
    {
     "data": {
      "text/plain": [
       "undefined"
      ]
     },
     "execution_count": 7,
     "metadata": {},
     "output_type": "execute_result"
    }
   ],
   "source": [
    "var a = 100;\n",
    "\n",
    "function add(x: number, y:number) : number {\n",
    "    return x + y + a;\n",
    "}\n",
    "\n",
    "var c = add(100,200);\n",
    "\n",
    "console.log(c);"
   ]
  },
  {
   "cell_type": "code",
   "execution_count": null,
   "id": "e014c2d5-6cc2-490a-b41b-65dd4f819344",
   "metadata": {},
   "outputs": [],
   "source": []
  },
  {
   "cell_type": "code",
   "execution_count": null,
   "id": "636c6e0b-93a4-45b2-bd65-fa2adaa7b33c",
   "metadata": {},
   "outputs": [],
   "source": []
  },
  {
   "cell_type": "markdown",
   "id": "73b89a76-35b0-4904-b30f-9f379867a0fe",
   "metadata": {},
   "source": [
    "## 2-2. 블럭 스코프  변수 정의 "
   ]
  },
  {
   "cell_type": "markdown",
   "id": "b5a9bf2f-d06b-4cc2-a97a-c8d376a83dbb",
   "metadata": {},
   "source": [
    "## 블럭단위에 처리 \n",
    "\n",
    "- 지역변수가 블럭단위로 지정할 수 있다. "
   ]
  },
  {
   "cell_type": "code",
   "execution_count": 8,
   "id": "5730586f-0317-469a-bb88-3cf2f2438b39",
   "metadata": {},
   "outputs": [
    {
     "name": "stdout",
     "output_type": "stream",
     "text": [
      "300\n"
     ]
    },
    {
     "data": {
      "text/plain": [
       "undefined"
      ]
     },
     "execution_count": 8,
     "metadata": {},
     "output_type": "execute_result"
    }
   ],
   "source": [
    "{ \n",
    "    let a = 100;\n",
    "    let b = 200;\n",
    "    console.log(a+b);\n",
    "}\n",
    " "
   ]
  },
  {
   "cell_type": "markdown",
   "id": "e57b0849-b141-4450-b5f8-3d6bbe3dd739",
   "metadata": {},
   "source": [
    "## 함수 내부도 블럭단위 처리\n",
    "\n",
    "- let으로 변수를 정의해서 사용할 경우 블럭단위 밖에서 사용할 수 없다"
   ]
  },
  {
   "cell_type": "code",
   "execution_count": 9,
   "id": "a81b389a-372e-4de8-bc80-8fec89e974e0",
   "metadata": {},
   "outputs": [
    {
     "name": "stdout",
     "output_type": "stream",
     "text": [
      "200\n"
     ]
    },
    {
     "data": {
      "text/plain": [
       "undefined"
      ]
     },
     "execution_count": 9,
     "metadata": {},
     "output_type": "execute_result"
    }
   ],
   "source": [
    "function sub(x:number, y:number) : number {\n",
    "    let a = 300;\n",
    "    return x+a -y ;\n",
    "}\n",
    "\n",
    "console.log(sub(100,200));"
   ]
  },
  {
   "cell_type": "code",
   "execution_count": null,
   "id": "a1c0c744-b110-4294-85e3-82f11ace9e62",
   "metadata": {},
   "outputs": [],
   "source": []
  },
  {
   "cell_type": "code",
   "execution_count": null,
   "id": "5e61f86e-d93a-46dc-9104-dec47980d4f5",
   "metadata": {},
   "outputs": [],
   "source": []
  },
  {
   "cell_type": "markdown",
   "id": "c4507740-0e5e-414f-baab-115f0549b0c7",
   "metadata": {},
   "source": [
    "## 2-3. 블럭 스코프 상수 정의 "
   ]
  },
  {
   "cell_type": "markdown",
   "id": "b4f9de18-2910-4512-8dd7-3ba3ae13fc93",
   "metadata": {},
   "source": [
    "### 상수정의 \n",
    "- 상수 이름은 대문자 처리 "
   ]
  },
  {
   "cell_type": "code",
   "execution_count": 10,
   "id": "164c02f9-4c90-4941-a93a-4feb6b78c1a7",
   "metadata": {},
   "outputs": [
    {
     "data": {
      "text/plain": [
       "undefined"
      ]
     },
     "execution_count": 10,
     "metadata": {},
     "output_type": "execute_result"
    }
   ],
   "source": [
    "const PI = 3.14;"
   ]
  },
  {
   "cell_type": "code",
   "execution_count": 11,
   "id": "befc79c5-97e0-4bd2-8e19-4a50f3567dba",
   "metadata": {},
   "outputs": [
    {
     "data": {
      "text/plain": [
       "3.14"
      ]
     },
     "execution_count": 11,
     "metadata": {},
     "output_type": "execute_result"
    }
   ],
   "source": [
    "PI"
   ]
  },
  {
   "cell_type": "markdown",
   "id": "f522fc9b-fbb9-4989-a51a-edc4ccaa1891",
   "metadata": {},
   "source": [
    "## 2-4 상수에 객체 할당\n",
    "- 상수는 다시 할당이 금지"
   ]
  },
  {
   "cell_type": "markdown",
   "id": "87f4b3a9-fea4-4fcb-982f-b7bad5615bee",
   "metadata": {},
   "source": [
    "## 객체 정의 "
   ]
  },
  {
   "cell_type": "code",
   "execution_count": 12,
   "id": "3e8d5e50-da02-4755-a588-67d6386c47d0",
   "metadata": {
    "editable": true,
    "slideshow": {
     "slide_type": ""
    },
    "tags": []
   },
   "outputs": [
    {
     "data": {
      "text/plain": [
       "undefined"
      ]
     },
     "execution_count": 12,
     "metadata": {},
     "output_type": "execute_result"
    }
   ],
   "source": [
    "const person = {\n",
    "    id: 1,\n",
    "    name: \"Tom\"\n",
    "}"
   ]
  },
  {
   "cell_type": "markdown",
   "id": "cb92d2f5-5c6a-4019-8692-00044533d04a",
   "metadata": {},
   "source": [
    "## 객체는 재할당할 경우 예외를 발생 "
   ]
  },
  {
   "cell_type": "code",
   "execution_count": 13,
   "id": "d51d7d18-4704-472a-ae3b-c979286be147",
   "metadata": {},
   "outputs": [
    {
     "ename": "Error",
     "evalue": "Line 1, Character 1\nperson = { id: 2 } \n^\nTS2588: Cannot assign to 'person' because it is a constant.",
     "execution_count": 13,
     "output_type": "error",
     "traceback": [
      "Error: Line 1, Character 1",
      "person = { id: 2 } ",
      "^",
      "TS2588: Cannot assign to 'person' because it is a constant.",
      "    at execTranspile (/usr/local/lib/node_modules/itypescript/lib/kernel.js:229:23)",
      "    at Session.transpiler [as transpile] (/usr/local/lib/node_modules/itypescript/lib/kernel.js:288:35)",
      "    at Session._runNow (/usr/local/lib/node_modules/itypescript/node_modules/nel/lib/nel.js:835:39)",
      "    at Session._runNext (/usr/local/lib/node_modules/itypescript/node_modules/nel/lib/nel.js:876:14)",
      "    at Session._onMessage (/usr/local/lib/node_modules/itypescript/node_modules/nel/lib/nel.js:773:14)",
      "    at ChildProcess.emit (node:events:513:28)",
      "    at emit (node:internal/child_process:937:14)",
      "    at process.processTicksAndRejections (node:internal/process/task_queues:83:21)"
     ]
    }
   ],
   "source": [
    "person = { id: 2 } "
   ]
  },
  {
   "cell_type": "code",
   "execution_count": null,
   "id": "e6901857-546a-4223-8108-02194f339ae6",
   "metadata": {},
   "outputs": [],
   "source": []
  },
  {
   "cell_type": "markdown",
   "id": "24aadbf0-c354-48e6-8096-0fc8dda57bd6",
   "metadata": {},
   "source": [
    "## 객체의 속성의 값을 변경할 수 있음 "
   ]
  },
  {
   "cell_type": "code",
   "execution_count": 14,
   "id": "85acafcd-eb52-49b4-bd88-bcc5a7d1618b",
   "metadata": {},
   "outputs": [
    {
     "name": "stdout",
     "output_type": "stream",
     "text": [
      "{ id: 1, name: 'Jerry' }\n"
     ]
    },
    {
     "data": {
      "text/plain": [
       "undefined"
      ]
     },
     "execution_count": 14,
     "metadata": {},
     "output_type": "execute_result"
    }
   ],
   "source": [
    "person.name = \"Jerry\";\n",
    "console.log(person);"
   ]
  },
  {
   "cell_type": "code",
   "execution_count": null,
   "id": "452f76de-70e6-4dbb-bfee-2d2f0e08fb43",
   "metadata": {},
   "outputs": [],
   "source": []
  },
  {
   "cell_type": "code",
   "execution_count": null,
   "id": "840b38f5-3826-4968-b022-78aa43d00447",
   "metadata": {},
   "outputs": [],
   "source": []
  },
  {
   "cell_type": "code",
   "execution_count": null,
   "id": "7eeafddf-bf62-4fef-9da5-084a2b2832c0",
   "metadata": {},
   "outputs": [],
   "source": []
  },
  {
   "cell_type": "code",
   "execution_count": null,
   "id": "a2167cf5-a512-4d73-a827-0c428a677d9a",
   "metadata": {},
   "outputs": [],
   "source": []
  }
 ],
 "metadata": {
  "kernelspec": {
   "display_name": "Typescript 4.9",
   "language": "typescript",
   "name": "typescript"
  },
  "language_info": {
   "file_extension": ".ts",
   "mimetype": "application/x-typescript",
   "name": "typescript",
   "version": "4.9.5"
  }
 },
 "nbformat": 4,
 "nbformat_minor": 5
}
