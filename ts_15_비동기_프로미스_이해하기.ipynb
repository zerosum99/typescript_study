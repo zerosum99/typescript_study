{
 "cells": [
  {
   "cell_type": "code",
   "execution_count": null,
   "id": "a33d1cef-6d95-4906-86e0-cf5eb648454b",
   "metadata": {},
   "outputs": [],
   "source": []
  },
  {
   "cell_type": "markdown",
   "id": "ed3ee3be-d5fe-414c-b274-50b0f19cc0ba",
   "metadata": {},
   "source": [
    "## 1. 프로미스 객체로 처리하기"
   ]
  },
  {
   "cell_type": "markdown",
   "id": "ffe1bdaf-f6ef-43d0-9afe-555ddee7d0b0",
   "metadata": {},
   "source": [
    "##  비동기 작업을 시뮬레이션하는 함수"
   ]
  },
  {
   "cell_type": "code",
   "execution_count": null,
   "id": "31902e6c-4ca2-41f6-8e9a-e7caf00d2746",
   "metadata": {},
   "outputs": [],
   "source": []
  },
  {
   "cell_type": "code",
   "execution_count": 2,
   "id": "a1295dbf-3a3d-4529-89c1-448158b0c7d2",
   "metadata": {},
   "outputs": [
    {
     "data": {
      "text/plain": [
       "undefined"
      ]
     },
     "execution_count": 2,
     "metadata": {},
     "output_type": "execute_result"
    }
   ],
   "source": [
    "// 비동기 작업을 시뮬레이션하는 함수\n",
    "function simulateAsyncTask() {\n",
    "  return new Promise((resolve, reject) => {\n",
    "    setTimeout(() => {\n",
    "      const randomNumber = Math.random();\n",
    "      if (randomNumber < 0.5) {\n",
    "        resolve(`Success! Random number: ${randomNumber}`);\n",
    "      } else {\n",
    "        reject(`Error! Random number: ${randomNumber}`);\n",
    "      }\n",
    "    }, 1000); // 1초 후에 작업 완료\n",
    "  });\n",
    "}\n"
   ]
  },
  {
   "cell_type": "markdown",
   "id": "91146b4d-f8c9-47cf-9e07-65687631111b",
   "metadata": {},
   "source": [
    "## 프로미스를 사용하여 비동기 작업 처리"
   ]
  },
  {
   "cell_type": "code",
   "execution_count": 4,
   "id": "d446887d-ab85-47be-a9d0-efdbdf8db55d",
   "metadata": {},
   "outputs": [
    {
     "name": "stdout",
     "output_type": "stream",
     "text": [
      "Start\n",
      "End\n"
     ]
    },
    {
     "data": {
      "text/plain": [
       "undefined"
      ]
     },
     "execution_count": 4,
     "metadata": {},
     "output_type": "execute_result"
    },
    {
     "name": "stdout",
     "output_type": "stream",
     "text": [
      "Success! Random number: 0.28776253275372143\n",
      "Completed\n"
     ]
    }
   ],
   "source": [
    "// 프로미스를 사용하여 비동기 작업 처리\n",
    "console.log('Start');\n",
    "simulateAsyncTask()\n",
    "  .then((result) => {\n",
    "    console.log(result); // 성공 시 출력\n",
    "  })\n",
    "  .catch((error) => {\n",
    "    console.error(error); // 실패 시 출력\n",
    "  })\n",
    "  .finally(() => {\n",
    "    console.log('Completed'); // 성공 또는 실패와 상관없이 마지막에 출력\n",
    "  });\n",
    "console.log('End');\n"
   ]
  },
  {
   "cell_type": "code",
   "execution_count": null,
   "id": "8c79cd61-b86f-4e6d-bae9-3f915a4b600a",
   "metadata": {},
   "outputs": [],
   "source": []
  }
 ],
 "metadata": {
  "kernelspec": {
   "display_name": "Typescript 4.9",
   "language": "typescript",
   "name": "typescript"
  },
  "language_info": {
   "file_extension": ".ts",
   "mimetype": "application/x-typescript",
   "name": "typescript",
   "version": "4.9.5"
  }
 },
 "nbformat": 4,
 "nbformat_minor": 5
}
