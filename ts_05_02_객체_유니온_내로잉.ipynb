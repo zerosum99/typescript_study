{
 "cells": [
  {
   "cell_type": "code",
   "execution_count": null,
   "id": "6369a200-ed28-41a0-b39c-9fa2d682821a",
   "metadata": {},
   "outputs": [],
   "source": []
  },
  {
   "cell_type": "code",
   "execution_count": null,
   "id": "0b3bedc3-10ed-4460-8cba-5784c7e42d27",
   "metadata": {},
   "outputs": [],
   "source": []
  },
  {
   "cell_type": "markdown",
   "id": "c56f3c01-04c5-4ade-93b9-646c27b93ff0",
   "metadata": {},
   "source": [
    "## 1. 객체 타입 유니온"
   ]
  },
  {
   "cell_type": "code",
   "execution_count": null,
   "id": "624d2cf3-63df-4ae4-9740-a2f920d8ff1d",
   "metadata": {},
   "outputs": [],
   "source": []
  },
  {
   "cell_type": "markdown",
   "id": "19bdb922-174b-4e97-ab51-e2c7da705b01",
   "metadata": {},
   "source": [
    "### 1-1 암묵적 객체 유니온(Implicit Object Unions)\n",
    "- TypeScript에서 여러 객체를 하나의 유니온 타입으로 결합하는 것을 말합니다. \n",
    "- TypeScript 컴파일러가 객체의 유니온 타입을 암묵적으로 유추하고 처리하는 것을 의미합니다."
   ]
  },
  {
   "cell_type": "code",
   "execution_count": 1,
   "id": "e7f48113-91c2-4287-acc5-61bb5cbd1f7f",
   "metadata": {},
   "outputs": [
    {
     "name": "stdout",
     "output_type": "stream",
     "text": [
      "hello\n",
      "42\n"
     ]
    },
    {
     "data": {
      "text/plain": [
       "undefined"
      ]
     },
     "execution_count": 1,
     "metadata": {},
     "output_type": "execute_result"
    }
   ],
   "source": [
    "function printValue(obj: { value: string | number }) {\n",
    "    console.log(obj.value);\n",
    "}\n",
    "\n",
    "const obj1 = { value: \"hello\" };\n",
    "const obj2 = { value: 42 };\n",
    "\n",
    "printValue(obj1); // \"hello\"\n",
    "printValue(obj2); // 42\n"
   ]
  },
  {
   "cell_type": "code",
   "execution_count": null,
   "id": "1d9a2f97-d9c6-4c89-b0a4-ef84150eae7f",
   "metadata": {},
   "outputs": [],
   "source": []
  },
  {
   "cell_type": "markdown",
   "id": "d04e294e-c8f3-4308-89fe-6e02100efe44",
   "metadata": {},
   "source": [
    "## 1-2 명시적 객체 유니온(Explicit Object Unions)\n",
    " - TypeScript에서 여러 객체를 명시적으로 유니온 타입으로 결합하는 것을 의미합니다. \n",
    "- 이는 객체들의 타입이 명확하게 선언되어 있으며, 컴파일러가 객체 유니온 타입을 추론하지 않고 개발자가 직접 지정하는 상황을 나타냅니다."
   ]
  },
  {
   "cell_type": "code",
   "execution_count": null,
   "id": "ab0de230-61f0-4453-abb1-1fcddd1fcde1",
   "metadata": {},
   "outputs": [],
   "source": []
  },
  {
   "cell_type": "code",
   "execution_count": 4,
   "id": "26aaeb0b-6911-4e8e-be2c-1c0515256ba1",
   "metadata": {},
   "outputs": [
    {
     "name": "stdout",
     "output_type": "stream",
     "text": [
      "hello\n",
      "42\n"
     ]
    },
    {
     "data": {
      "text/plain": [
       "undefined"
      ]
     },
     "execution_count": 4,
     "metadata": {},
     "output_type": "execute_result"
    }
   ],
   "source": [
    "type StringObj = { value: string };\n",
    "type NumberObj = { value: number };\n",
    "\n",
    "function printValue1(obj: StringObj | NumberObj) {\n",
    "    console.log(obj.value);\n",
    "}\n",
    "\n",
    "const obj11: StringObj = { value: \"hello\" };\n",
    "const obj12: NumberObj = { value: 42 };\n",
    "\n",
    "printValue1(obj11); // \"hello\"\n",
    "printValue1(obj12); // 42\n"
   ]
  },
  {
   "cell_type": "code",
   "execution_count": null,
   "id": "452f6819-a276-488a-bd47-f21c4edb17b2",
   "metadata": {},
   "outputs": [],
   "source": []
  },
  {
   "cell_type": "code",
   "execution_count": null,
   "id": "318aff02-84fd-4947-bc7a-22977d14e7ba",
   "metadata": {},
   "outputs": [],
   "source": []
  },
  {
   "cell_type": "code",
   "execution_count": null,
   "id": "712a3ec3-81d8-4368-8c95-fc1ed5514a86",
   "metadata": {},
   "outputs": [],
   "source": []
  },
  {
   "cell_type": "markdown",
   "id": "63b3d04f-98b2-454c-9ee8-70024eb1f195",
   "metadata": {},
   "source": [
    "## 2 객체 타입 내로잉 "
   ]
  },
  {
   "cell_type": "code",
   "execution_count": null,
   "id": "f542d381-2da2-48d8-952f-6949d6b199da",
   "metadata": {},
   "outputs": [],
   "source": []
  },
  {
   "cell_type": "markdown",
   "id": "81009665-4fb3-4150-8d33-63f064ae96ab",
   "metadata": {},
   "source": [
    "## 2-1 \"객체 내로잉(Object Narrowing)\" \n",
    "    \n",
    "- TypeScript에서 특정 조건 하에서 객체의 타입을 더 구체적으로 좁히는 과정을 말합니다. \n",
    "- 이는 타입 가드와 조건문을 사용하여 객체의 프로퍼티를 검사하고, 프로퍼티의 값이 특정 조건을 만족할 때 해당 객체의 타입을 더 구체적으로 제한하는 것을 의미합니다."
   ]
  },
  {
   "cell_type": "code",
   "execution_count": null,
   "id": "7db27f04-d6fe-4138-a484-4c48dc1c3361",
   "metadata": {},
   "outputs": [],
   "source": []
  },
  {
   "cell_type": "code",
   "execution_count": 5,
   "id": "49fdcb71-e66b-4636-8324-e867cd3d6229",
   "metadata": {},
   "outputs": [
    {
     "data": {
      "text/plain": [
       "undefined"
      ]
     },
     "execution_count": 5,
     "metadata": {},
     "output_type": "execute_result"
    }
   ],
   "source": [
    "type Circle = { shape: \"circle\"; radius: number };\n",
    "type Square = { shape: \"square\"; sideLength: number };\n",
    "\n",
    "function calculateArea(shape: Circle | Square) {\n",
    "    if (shape.shape === \"circle\") {\n",
    "        // 객체 내로잉: shape이 \"circle\"인 경우, Circle 타입으로 타입을 좁힘\n",
    "        return Math.PI * shape.radius * shape.radius;\n",
    "    } else {\n",
    "        // 객체 내로잉: shape이 \"square\"인 경우, Square 타입으로 타입을 좁힘\n",
    "        return shape.sideLength * shape.sideLength;\n",
    "    }\n",
    "}\n"
   ]
  },
  {
   "cell_type": "code",
   "execution_count": null,
   "id": "898dcfcf-297c-4368-837c-b3b8814d0b53",
   "metadata": {},
   "outputs": [],
   "source": []
  },
  {
   "cell_type": "code",
   "execution_count": 6,
   "id": "3471cf8f-a21f-4014-bab2-f7b661bf57ab",
   "metadata": {},
   "outputs": [
    {
     "data": {
      "text/plain": [
       "undefined"
      ]
     },
     "execution_count": 6,
     "metadata": {},
     "output_type": "execute_result"
    }
   ],
   "source": [
    "type Point = { x: number; y: number };\n",
    "type Size = { width: number; height: number };\n",
    "\n",
    "function createRectangle(point: Point, size: Size) {\n",
    "    return { ...point, ...size };\n",
    "}\n",
    "\n",
    "const rectangle = createRectangle({ x: 0, y: 0 }, { width: 100, height: 200 });\n",
    "\n",
    "// rectangle의 타입은 { x: number; y: number; width: number; height: number; }로 추론됨\n"
   ]
  },
  {
   "cell_type": "code",
   "execution_count": 7,
   "id": "74194536-d9fd-4c6e-a1cc-bbf55ef8a041",
   "metadata": {},
   "outputs": [
    {
     "data": {
      "text/plain": [
       "{ x: 0, y: 0, width: 100, height: 200 }"
      ]
     },
     "execution_count": 7,
     "metadata": {},
     "output_type": "execute_result"
    }
   ],
   "source": [
    "rectangle"
   ]
  },
  {
   "cell_type": "code",
   "execution_count": null,
   "id": "2ea6f6ca-2ed3-4c60-883c-9bfb437b4914",
   "metadata": {},
   "outputs": [],
   "source": []
  }
 ],
 "metadata": {
  "kernelspec": {
   "display_name": "Typescript 4.9",
   "language": "typescript",
   "name": "typescript"
  },
  "language_info": {
   "file_extension": ".ts",
   "mimetype": "application/x-typescript",
   "name": "typescript",
   "version": "4.9.5"
  }
 },
 "nbformat": 4,
 "nbformat_minor": 5
}
