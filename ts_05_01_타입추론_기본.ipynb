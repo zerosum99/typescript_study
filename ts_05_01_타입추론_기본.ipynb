{
 "cells": [
  {
   "cell_type": "code",
   "execution_count": null,
   "id": "d3756c5d-cabc-49b0-92f5-4ad79d14e3fe",
   "metadata": {},
   "outputs": [],
   "source": []
  },
  {
   "cell_type": "markdown",
   "id": "95024050-2811-46f4-8df4-0e5645848dff",
   "metadata": {},
   "source": [
    "## 2. 타입 추론(Type Inference)\n",
    "- 변수나 함수의 타입을 명시적으로 선언하지 않아도 타입스크립트가 자동으로 해당 타입을 추론해주는 기능\n",
    "- 타입 추론은 코드를 간결하게 작성하고 유지보수를 용이"
   ]
  },
  {
   "cell_type": "markdown",
   "id": "de7ed45c-7064-460f-93af-703e88999f1f",
   "metadata": {},
   "source": [
    "## 2-1  변수 정의할 때 자료형 추론"
   ]
  },
  {
   "cell_type": "code",
   "execution_count": 6,
   "id": "4c815445-b89e-4c7d-8bf1-7c91470d0ec6",
   "metadata": {},
   "outputs": [
    {
     "data": {
      "text/plain": [
       "undefined"
      ]
     },
     "execution_count": 6,
     "metadata": {},
     "output_type": "execute_result"
    }
   ],
   "source": [
    "{\n",
    "    let num = 10;              // TypeScript가 변수 num의 타입을 number로 추론\n",
    "    let str = \"hello\";         // TypeScript가 변수 str의 타입을 string으로 추론\n",
    "}"
   ]
  },
  {
   "cell_type": "markdown",
   "id": "bcf64687-82bc-492f-b84e-065484f6c586",
   "metadata": {},
   "source": [
    "## 2-2  함수의 반환값  추론"
   ]
  },
  {
   "cell_type": "code",
   "execution_count": 8,
   "id": "2caa67f8-9923-4316-90ee-d3f2bc438d9e",
   "metadata": {},
   "outputs": [
    {
     "data": {
      "text/plain": [
       "undefined"
      ]
     },
     "execution_count": 8,
     "metadata": {},
     "output_type": "execute_result"
    }
   ],
   "source": [
    "function add(a: number, b: number) {\n",
    "  return a + b; // TypeScript가 함수 반환 값의 타입을 number로 추론\n",
    "}"
   ]
  },
  {
   "cell_type": "code",
   "execution_count": 9,
   "id": "cf2b8c68-d719-4e40-abd4-ac1c390d14a6",
   "metadata": {},
   "outputs": [
    {
     "data": {
      "text/plain": [
       "300"
      ]
     },
     "execution_count": 9,
     "metadata": {},
     "output_type": "execute_result"
    }
   ],
   "source": [
    "add(100,200);"
   ]
  },
  {
   "cell_type": "markdown",
   "id": "04a44cb1-6f8f-4c6f-ba68-e2bca9f43810",
   "metadata": {},
   "source": [
    "## 2-3  배열과 객체의 타입을 추론 "
   ]
  },
  {
   "cell_type": "code",
   "execution_count": 11,
   "id": "3ec1bf47-74b5-49ee-94e9-46076db7802e",
   "metadata": {},
   "outputs": [
    {
     "data": {
      "text/plain": [
       "undefined"
      ]
     },
     "execution_count": 11,
     "metadata": {},
     "output_type": "execute_result"
    }
   ],
   "source": [
    "{ \n",
    "    let numbers = [1, 2, 3];                 // TypeScript가 변수 numbers의 타입을 number[]로 추론\n",
    "    let person = { name: \"John\", age: 30 };  // TypeScript가 변수 person의 타입을 { name: string, age: number }로 추론\n",
    "}"
   ]
  },
  {
   "cell_type": "code",
   "execution_count": null,
   "id": "e34ac3aa-df5e-45ba-8a3d-7b8fb602c04f",
   "metadata": {},
   "outputs": [],
   "source": []
  },
  {
   "cell_type": "markdown",
   "id": "851330cd-7b69-4098-8f44-8c70e9110cbf",
   "metadata": {},
   "source": [
    "##  2-4 unknown 타입 처리 \n",
    "\n",
    "- unknown은 다른 타입으로 지정되지 않은 알 수 없는 타입을 나타냄\n",
    "- unknown 타입은 any 타입과 비슷해 보이지만, 더 엄격한 제약을 가지고 있음\n"
   ]
  },
  {
   "cell_type": "markdown",
   "id": "3f1070c3-00b0-40ac-bd5f-bee686d6658a",
   "metadata": {},
   "source": [
    "### 2-4-1 변수의 할당 제약: \n",
    "- unknown 타입은 다른 타입으로 직접 할당될 수 없습니다.\n",
    "- unknown 타입의 값은 반드시 타입을 명시적으로 확인한 후에 사용해야 합니다."
   ]
  },
  {
   "cell_type": "code",
   "execution_count": 12,
   "id": "d3406057-4b22-4cd5-aa81-a09d378d8350",
   "metadata": {},
   "outputs": [
    {
     "ename": "Error",
     "evalue": "Line 3, Character 9\n    let num: number = value; // Error: TypeScript는 unknown 타입의 변수를 추론할 때 number와 호환되지 않으므로 에러 발생\n________^\nTS2322: Type 'unknown' is not assignable to type 'number'.",
     "execution_count": 12,
     "output_type": "error",
     "traceback": [
      "Error: Line 3, Character 9",
      "    let num: number = value; // Error: TypeScript는 unknown 타입의 변수를 추론할 때 number와 호환되지 않으므로 에러 발생",
      "________^",
      "TS2322: Type 'unknown' is not assignable to type 'number'.",
      "    at execTranspile (/usr/local/lib/node_modules/itypescript/lib/kernel.js:229:23)",
      "    at Session.transpiler [as transpile] (/usr/local/lib/node_modules/itypescript/lib/kernel.js:288:35)",
      "    at Session._runNow (/usr/local/lib/node_modules/itypescript/node_modules/nel/lib/nel.js:835:39)",
      "    at Session._run (/usr/local/lib/node_modules/itypescript/node_modules/nel/lib/nel.js:786:14)",
      "    at Session.execute (/usr/local/lib/node_modules/itypescript/node_modules/nel/lib/nel.js:929:10)",
      "    at Kernel.execute_request (/usr/local/lib/node_modules/itypescript/node_modules/jp-kernel/lib/handlers_v5.js:116:18)",
      "    at Kernel.onShellMessage (/usr/local/lib/node_modules/itypescript/node_modules/jp-kernel/lib/jp-kernel.js:285:41)",
      "    at Socket.<anonymous> (/usr/local/lib/node_modules/itypescript/node_modules/jmp/index.js:350:17)",
      "    at Socket.emit (node:events:513:28)",
      "    at Socket._emitMessage (/usr/local/lib/node_modules/itypescript/node_modules/zeromq/lib/index.js:649:15)"
     ]
    }
   ],
   "source": [
    "{\n",
    "    let value: unknown = 10;\n",
    "    let num: number = value; // Error: TypeScript는 unknown 타입의 변수를 추론할 때 number와 호환되지 않으므로 에러 발생\n",
    "}"
   ]
  },
  {
   "cell_type": "markdown",
   "id": "adedfa54-29bb-4d85-804c-b79af54869fd",
   "metadata": {},
   "source": [
    "### 2-4-2  unknown 타입 간에 할당 가능: \n",
    "- unknown 타입은 다른 unknown 변수에 할당할 수 있습니다."
   ]
  },
  {
   "cell_type": "code",
   "execution_count": 13,
   "id": "0b329825-4938-461a-9de2-5cb1ba9e1c98",
   "metadata": {},
   "outputs": [
    {
     "data": {
      "text/plain": [
       "undefined"
      ]
     },
     "execution_count": 13,
     "metadata": {},
     "output_type": "execute_result"
    }
   ],
   "source": [
    "{\n",
    "    let value: unknown = 10;\n",
    "    let num: unknown = value; \n",
    "}"
   ]
  },
  {
   "cell_type": "code",
   "execution_count": null,
   "id": "985a40da-4896-4d87-b40a-912ff6965204",
   "metadata": {},
   "outputs": [],
   "source": []
  },
  {
   "cell_type": "markdown",
   "id": "9f623e12-730f-4ec0-82df-cd5b63f08ce7",
   "metadata": {},
   "source": [
    "### 2-4-3 타입 가드 사용:\n",
    "\n",
    "- unknown 타입을 사용할 때는 타입 가드를 통해 타입을 좁혀서 안전하게 사용"
   ]
  },
  {
   "cell_type": "code",
   "execution_count": 14,
   "id": "c9d12cee-38a7-4ff1-b3e7-df1ca4427b36",
   "metadata": {},
   "outputs": [
    {
     "data": {
      "text/plain": [
       "undefined"
      ]
     },
     "execution_count": 14,
     "metadata": {},
     "output_type": "execute_result"
    }
   ],
   "source": [
    "function multiply(value: unknown, factor: number): number {\n",
    "  if (typeof value === 'number') {\n",
    "    return value * factor;\n",
    "  }\n",
    "  throw new Error('Invalid input: value should be a number.');\n",
    "}"
   ]
  },
  {
   "cell_type": "code",
   "execution_count": 15,
   "id": "a3d47e0f-f8cc-419c-9dc4-13a4b18b10a9",
   "metadata": {},
   "outputs": [
    {
     "data": {
      "text/plain": [
       "20000"
      ]
     },
     "execution_count": 15,
     "metadata": {},
     "output_type": "execute_result"
    }
   ],
   "source": [
    "multiply(100,200);"
   ]
  },
  {
   "cell_type": "code",
   "execution_count": null,
   "id": "84d88c89-014f-4e8b-a85f-ae59f7b4c812",
   "metadata": {},
   "outputs": [],
   "source": []
  }
 ],
 "metadata": {
  "kernelspec": {
   "display_name": "Typescript 4.9",
   "language": "typescript",
   "name": "typescript"
  },
  "language_info": {
   "file_extension": ".ts",
   "mimetype": "application/x-typescript",
   "name": "typescript",
   "version": "4.9.5"
  }
 },
 "nbformat": 4,
 "nbformat_minor": 5
}
