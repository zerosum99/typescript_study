{
 "cells": [
  {
   "cell_type": "code",
   "execution_count": null,
   "id": "7e3237a0-bdb2-460b-ba20-4ddc8e1b2db1",
   "metadata": {},
   "outputs": [],
   "source": []
  },
  {
   "cell_type": "code",
   "execution_count": null,
   "id": "8a956bd0-f96f-4768-a8a9-f3e51bade95f",
   "metadata": {},
   "outputs": [],
   "source": []
  },
  {
   "cell_type": "markdown",
   "id": "595650a1-d418-452f-94ee-5f65bc979e04",
   "metadata": {},
   "source": [
    "## 1 . 함수 내부에 함수 정의하기 \n",
    "\n",
    "- 외부에 정의된 함수를 외부함수\n",
    "- 함수 내부에 정의된 함수를 내부함수\n",
    "  "
   ]
  },
  {
   "cell_type": "code",
   "execution_count": null,
   "id": "9c010490-69d4-4d03-87fa-9185c0aeb07a",
   "metadata": {},
   "outputs": [],
   "source": []
  },
  {
   "cell_type": "markdown",
   "id": "61edb694-464d-483e-b43f-6d2b4818ed47",
   "metadata": {},
   "source": [
    "## 1-1 내부함수를 실행하기 "
   ]
  },
  {
   "cell_type": "code",
   "execution_count": 8,
   "id": "35f0fcef-9bcf-43e6-ae6b-7d1f5ed21d77",
   "metadata": {},
   "outputs": [
    {
     "data": {
      "text/plain": [
       "undefined"
      ]
     },
     "execution_count": 8,
     "metadata": {},
     "output_type": "execute_result"
    }
   ],
   "source": [
    "function outer2(x:number) {\n",
    "    function inner2(y:number) {\n",
    "        return x +y ;\n",
    "    }\n",
    "    return inner2(x);\n",
    "}"
   ]
  },
  {
   "cell_type": "code",
   "execution_count": 9,
   "id": "ad454136-93a8-4b21-8d39-16f455c868b4",
   "metadata": {},
   "outputs": [
    {
     "data": {
      "text/plain": [
       "200"
      ]
     },
     "execution_count": 9,
     "metadata": {},
     "output_type": "execute_result"
    }
   ],
   "source": [
    "outer2(100);"
   ]
  },
  {
   "cell_type": "code",
   "execution_count": null,
   "id": "ab7b7f5b-796e-4491-849f-4303011957b9",
   "metadata": {},
   "outputs": [],
   "source": []
  },
  {
   "cell_type": "markdown",
   "id": "a5dbcd89-8ead-4ccb-a06c-8b8db62be67d",
   "metadata": {},
   "source": [
    "## 1-2 내부함수를 반환하기 "
   ]
  },
  {
   "cell_type": "code",
   "execution_count": 1,
   "id": "0c1ec11f-8df1-42ac-8fc2-1fb62fa8ae99",
   "metadata": {},
   "outputs": [
    {
     "data": {
      "text/plain": [
       "'use strict'"
      ]
     },
     "execution_count": 1,
     "metadata": {},
     "output_type": "execute_result"
    }
   ],
   "source": [
    "function outer(x:number) {\n",
    "    function inner(y:number) {\n",
    "        return x +y ;\n",
    "    }\n",
    "    return inner;\n",
    "}"
   ]
  },
  {
   "cell_type": "code",
   "execution_count": null,
   "id": "6f2d8d53-86b3-4057-af81-b35d24468805",
   "metadata": {},
   "outputs": [],
   "source": []
  },
  {
   "cell_type": "code",
   "execution_count": 3,
   "id": "7a4d50fb-8bbd-4724-bd91-65a5338fc03e",
   "metadata": {},
   "outputs": [
    {
     "data": {
      "text/plain": [
       "undefined"
      ]
     },
     "execution_count": 3,
     "metadata": {},
     "output_type": "execute_result"
    }
   ],
   "source": [
    "const inner = outer(100)"
   ]
  },
  {
   "cell_type": "code",
   "execution_count": 4,
   "id": "498a357c-0e8e-432f-9b2b-123c10644a4b",
   "metadata": {},
   "outputs": [
    {
     "data": {
      "text/plain": [
       "'function'"
      ]
     },
     "execution_count": 4,
     "metadata": {},
     "output_type": "execute_result"
    }
   ],
   "source": [
    "typeof inner"
   ]
  },
  {
   "cell_type": "code",
   "execution_count": 5,
   "id": "b1af7c45-52bc-4bb6-994f-ce35731020d4",
   "metadata": {},
   "outputs": [
    {
     "data": {
      "text/plain": [
       "300"
      ]
     },
     "execution_count": 5,
     "metadata": {},
     "output_type": "execute_result"
    }
   ],
   "source": [
    "inner(200)"
   ]
  },
  {
   "cell_type": "code",
   "execution_count": null,
   "id": "26e2cdcf-3042-4635-9f00-c88c78118758",
   "metadata": {},
   "outputs": [],
   "source": []
  }
 ],
 "metadata": {
  "kernelspec": {
   "display_name": "Typescript 4.9",
   "language": "typescript",
   "name": "typescript"
  },
  "language_info": {
   "file_extension": ".ts",
   "mimetype": "application/x-typescript",
   "name": "typescript",
   "version": "4.9.5"
  }
 },
 "nbformat": 4,
 "nbformat_minor": 5
}
