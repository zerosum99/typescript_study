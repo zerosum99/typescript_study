{
 "cells": [
  {
   "cell_type": "code",
   "execution_count": null,
   "id": "8f4bc9f0-9ad0-480a-9f02-2a7766d613d9",
   "metadata": {
    "editable": true,
    "slideshow": {
     "slide_type": ""
    },
    "tags": []
   },
   "outputs": [],
   "source": []
  },
  {
   "cell_type": "markdown",
   "id": "1f0ab00a-09d4-471e-a29c-21276b331955",
   "metadata": {},
   "source": [
    "## 1. 함수 매개변수(parameter) 와 인자(argument) 처리 \n",
    "\n",
    "- 매개변수는 함수에서 사용하는 api\n",
    "- 그래서 함수를 정의할 때 기본 매개변수와 자료형을 같이 지정한다.\n",
    "\n",
    "- 인자는 함수호출할 때 넣는 실제 값이다.\n",
    "- 그래서 매개변수와 인자가 한쌍으로 연결됨 "
   ]
  },
  {
   "cell_type": "markdown",
   "id": "f9519906-6415-4a8a-a617-735837350c4c",
   "metadata": {},
   "source": [
    "## 1-1 매개변수와 반환자료형을 문자열로 처리 "
   ]
  },
  {
   "cell_type": "code",
   "execution_count": 4,
   "id": "266f69d5-11ba-4d64-8460-c31dc9d61601",
   "metadata": {},
   "outputs": [
    {
     "data": {
      "text/plain": [
       "undefined"
      ]
     },
     "execution_count": 4,
     "metadata": {},
     "output_type": "execute_result"
    }
   ],
   "source": [
    "function greet(name: string): string {\n",
    "  return `Hello, ${name}!`;\n",
    "}"
   ]
  },
  {
   "cell_type": "code",
   "execution_count": 5,
   "id": "6075e8ed-d627-4018-bbcf-bd5d966b9493",
   "metadata": {},
   "outputs": [
    {
     "data": {
      "text/plain": [
       "'Hello, 안녕하세요!'"
      ]
     },
     "execution_count": 5,
     "metadata": {},
     "output_type": "execute_result"
    }
   ],
   "source": [
    "greet(\"안녕하세요\");"
   ]
  },
  {
   "cell_type": "code",
   "execution_count": null,
   "id": "e79a962c-fc99-404e-b62b-a52870167ea1",
   "metadata": {},
   "outputs": [],
   "source": []
  },
  {
   "cell_type": "markdown",
   "id": "8bebec9f-dd3f-470e-9bbe-b5e1a54895b2",
   "metadata": {},
   "source": [
    "## 1-2 매개변수와 인자는 동일해야 함 \n",
    "\n",
    "- 자스일 경우는 매개변수보다 인자가 많은 경우에도 처리가 되지만\n",
    "- 타스일 경우는 동일한 매개변수가 전달될 경우만 처리 "
   ]
  },
  {
   "cell_type": "code",
   "execution_count": 1,
   "id": "cc9b27dd-a8ee-4368-ac9e-e82907a6b25f",
   "metadata": {},
   "outputs": [
    {
     "data": {
      "text/plain": [
       "'use strict'"
      ]
     },
     "execution_count": 1,
     "metadata": {},
     "output_type": "execute_result"
    }
   ],
   "source": [
    "function greet2(name: string, hello:string): string {\n",
    "  return `${hello}, ${name}!`;\n",
    "}"
   ]
  },
  {
   "cell_type": "markdown",
   "id": "c70e562f-07fb-4d7c-8bde-7f5a047a92d8",
   "metadata": {},
   "source": [
    "### 1-3 인자가 동일하지 않으면 에러 발생 : 타입스크립트 "
   ]
  },
  {
   "cell_type": "code",
   "execution_count": 2,
   "id": "670fa445-addb-49a4-b868-8042397de157",
   "metadata": {},
   "outputs": [
    {
     "ename": "Error",
     "evalue": "Line 1, Character 24\ngreet2(\"강아지\", \"안녕하세요\", \"너무해\");\n_______________________^\nTS2554: Expected 2 arguments, but got 3.",
     "execution_count": 2,
     "output_type": "error",
     "traceback": [
      "Error: Line 1, Character 24",
      "greet2(\"강아지\", \"안녕하세요\", \"너무해\");",
      "_______________________^",
      "TS2554: Expected 2 arguments, but got 3.",
      "    at execTranspile (/usr/local/lib/node_modules/itypescript/lib/kernel.js:229:23)",
      "    at Session.transpiler [as transpile] (/usr/local/lib/node_modules/itypescript/lib/kernel.js:288:35)",
      "    at Session._runNow (/usr/local/lib/node_modules/itypescript/node_modules/nel/lib/nel.js:835:39)",
      "    at Session._run (/usr/local/lib/node_modules/itypescript/node_modules/nel/lib/nel.js:786:14)",
      "    at Session.execute (/usr/local/lib/node_modules/itypescript/node_modules/nel/lib/nel.js:929:10)",
      "    at Kernel.execute_request (/usr/local/lib/node_modules/itypescript/node_modules/jp-kernel/lib/handlers_v5.js:116:18)",
      "    at Kernel.onShellMessage (/usr/local/lib/node_modules/itypescript/node_modules/jp-kernel/lib/jp-kernel.js:285:41)",
      "    at Socket.<anonymous> (/usr/local/lib/node_modules/itypescript/node_modules/jmp/index.js:350:17)",
      "    at Socket.emit (node:events:513:28)",
      "    at Socket._emitMessage (/usr/local/lib/node_modules/itypescript/node_modules/zeromq/lib/index.js:649:15)"
     ]
    }
   ],
   "source": [
    "greet2(\"강아지\", \"안녕하세요\", \"너무해\");"
   ]
  },
  {
   "cell_type": "markdown",
   "id": "df9ae403-16c9-492f-a3b0-1ec78ebf9a55",
   "metadata": {},
   "source": [
    "### 반드시 인자와 매개변수 갯수는 동일 : 타입스크립트 "
   ]
  },
  {
   "cell_type": "code",
   "execution_count": 8,
   "id": "02f7f547-d668-40cf-b2de-6a1fb1d17577",
   "metadata": {},
   "outputs": [
    {
     "data": {
      "text/plain": [
       "'안녕하세요, 강아지!'"
      ]
     },
     "execution_count": 8,
     "metadata": {},
     "output_type": "execute_result"
    }
   ],
   "source": [
    "greet2(\"강아지\", \"안녕하세요\");"
   ]
  },
  {
   "cell_type": "code",
   "execution_count": null,
   "id": "9cd4ca53-09ae-42cc-9415-0dbdcefdeeb3",
   "metadata": {},
   "outputs": [],
   "source": []
  },
  {
   "cell_type": "code",
   "execution_count": null,
   "id": "66cff12a-c43a-4ec4-8475-aa2b0ead8a02",
   "metadata": {},
   "outputs": [],
   "source": []
  },
  {
   "cell_type": "code",
   "execution_count": null,
   "id": "fb0d2dcc-1257-4078-bfd2-b09461e2d0fe",
   "metadata": {},
   "outputs": [],
   "source": []
  }
 ],
 "metadata": {
  "kernelspec": {
   "display_name": "Typescript 4.9",
   "language": "typescript",
   "name": "typescript"
  },
  "language_info": {
   "file_extension": ".ts",
   "mimetype": "application/x-typescript",
   "name": "typescript",
   "version": "4.9.5"
  }
 },
 "nbformat": 4,
 "nbformat_minor": 5
}
