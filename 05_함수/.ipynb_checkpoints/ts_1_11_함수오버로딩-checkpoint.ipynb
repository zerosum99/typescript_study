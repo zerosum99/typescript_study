{
 "cells": [
  {
   "cell_type": "code",
   "execution_count": null,
   "id": "efa8438f-be12-4243-aa9c-54e7021933e4",
   "metadata": {},
   "outputs": [],
   "source": []
  },
  {
   "cell_type": "markdown",
   "id": "1f031e41-f30c-448e-b0b6-ba0fcb494e10",
   "metadata": {},
   "source": [
    "# 1. 함수 오버로딩 \n",
    "\n",
    "\n",
    "- 함수 오버로딩(Function Overloading)은 TypeScript에서 하나의 함수에 대해 다양한 매개변수 조합에 대한 정의를 제공하는 개념입니다.\n",
    "- 이를 통해 같은 함수 이름으로 다양한 형태의 매개변수를 사용하여 함수를 호출할 수 있습니다."
   ]
  },
  {
   "cell_type": "code",
   "execution_count": null,
   "id": "0df2e365-9306-4f58-b83e-c9b990f5dd43",
   "metadata": {},
   "outputs": [],
   "source": []
  },
  {
   "cell_type": "markdown",
   "id": "b45f9fff-0db3-43fe-b47b-0a4f583b41a7",
   "metadata": {},
   "source": [
    "\n",
    "\n",
    "## 여러 번의 함수 정의를 작성하여 함수 오버로딩을 구현하는 이유는 다음과 같습니다:\n",
    "\n",
    "### 타입 검사와 타입 안정성: \n",
    "- 함수 오버로딩을 사용하면 다양한 매개변수 조합에 대해 타입 검사를 수행할 수 있습니다. \n",
    "- 각 시그니처별로 올바른 매개변수와 반환 타입을 검사함으로써 코드의 타입 안정성을 높일 수 있습니다.\n",
    "\n",
    "### 명확한 동작: \n",
    "- 다양한 시그니처를 사용하면 함수가 어떤 상황에서 어떤 동작을 하는지 명확하게 표현할 수 있습니다. \n",
    "- 이를 통해 코드를 읽는 사람이 함수의 사용 방법과 동작을 더 잘 이해할 수 있습니다.\n",
    "\n",
    "### 재사용 가능한 코드: \n",
    "- 함수 오버로딩을 사용하여 다양한 입력 조합에 대해 처리하는 함수를 작성하면, 해당 함수를 다른 부분에서도 재사용할 수 있습니다.\n",
    "\n",
    "### 자동 완성과 IDE 지원: \n",
    "- 함수 오버로딩을 사용하면 IDE나 코드 편집기에서 함수의 사용에 대한 자동 완성과 힌트를 제공하기 쉽습니다. \n",
    "- 이를 통해 개발자가 올바른 매개변수를 사용하도록 도와줍니다."
   ]
  },
  {
   "cell_type": "code",
   "execution_count": null,
   "id": "73320e2b-e353-4bed-a6aa-4bcfc3b498aa",
   "metadata": {},
   "outputs": [],
   "source": []
  },
  {
   "cell_type": "markdown",
   "id": "38632309-c438-4a11-a311-63dbfb43555c",
   "metadata": {},
   "source": [
    "## 하나의 매개변수에 대한 오버로딩 "
   ]
  },
  {
   "cell_type": "code",
   "execution_count": 2,
   "id": "2cdf9724-12c5-4d00-89fd-fc7b5fe14c02",
   "metadata": {},
   "outputs": [
    {
     "name": "stdout",
     "output_type": "stream",
     "text": [
      "Received a number: 42\n",
      "Received a string: hello\n"
     ]
    },
    {
     "data": {
      "text/plain": [
       "undefined"
      ]
     },
     "execution_count": 2,
     "metadata": {},
     "output_type": "execute_result"
    }
   ],
   "source": [
    "function getInfo(x: number): string;\n",
    "function getInfo(x: string): number;\n",
    "function getInfo(x: any): any {\n",
    "    if (typeof x === \"number\") {\n",
    "        return `Received a number: ${x}`;\n",
    "    } else if (typeof x === \"string\") {\n",
    "        return `Received a string: ${x}`;\n",
    "    }\n",
    "}\n",
    "\n",
    "console.log(getInfo(42));    // \"Received a number: 42\"\n",
    "console.log(getInfo(\"hello\")); // \"Received a string: hello\"\n"
   ]
  },
  {
   "cell_type": "code",
   "execution_count": null,
   "id": "428f9635-d63b-4750-9adf-57deb8035a11",
   "metadata": {},
   "outputs": [],
   "source": []
  },
  {
   "cell_type": "markdown",
   "id": "81825cfd-5436-4e95-847a-a434b66b60c9",
   "metadata": {},
   "source": [
    "## 여러 개의 매개변수에 대한 오버로딩 "
   ]
  },
  {
   "cell_type": "code",
   "execution_count": 1,
   "id": "174ac19e-0c23-4aa7-831b-b51ae70b408a",
   "metadata": {},
   "outputs": [
    {
     "name": "stdout",
     "output_type": "stream",
     "text": [
      "Hello, Alice!\n",
      "Hello, Bob! You are 30 years old.\n"
     ]
    },
    {
     "data": {
      "text/plain": [
       "undefined"
      ]
     },
     "execution_count": 1,
     "metadata": {},
     "output_type": "execute_result"
    }
   ],
   "source": [
    "function greet(person: string): string;\n",
    "function greet(person: string, age: number): string;\n",
    "function greet(person: string, age?: number): string {\n",
    "    if (age) {\n",
    "        return `Hello, ${person}! You are ${age} years old.`;\n",
    "    } else {\n",
    "        return `Hello, ${person}!`;\n",
    "    }\n",
    "}\n",
    "\n",
    "console.log(greet(\"Alice\"));            // \"Hello, Alice!\"\n",
    "console.log(greet(\"Bob\", 30));          // \"Hello, Bob! You are 30 years old.\"\n"
   ]
  },
  {
   "cell_type": "code",
   "execution_count": null,
   "id": "7f2ca59a-81c5-4422-a9dd-09d7e5715872",
   "metadata": {},
   "outputs": [],
   "source": []
  },
  {
   "cell_type": "code",
   "execution_count": null,
   "id": "d67374bf-eff4-415d-aee3-3f6c9583d4ee",
   "metadata": {},
   "outputs": [],
   "source": []
  }
 ],
 "metadata": {
  "kernelspec": {
   "display_name": "Typescript 4.9",
   "language": "typescript",
   "name": "typescript"
  },
  "language_info": {
   "file_extension": ".ts",
   "mimetype": "application/x-typescript",
   "name": "typescript",
   "version": "4.9.5"
  }
 },
 "nbformat": 4,
 "nbformat_minor": 5
}
