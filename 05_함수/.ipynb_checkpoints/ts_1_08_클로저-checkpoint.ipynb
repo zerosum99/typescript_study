{
 "cells": [
  {
   "cell_type": "code",
   "execution_count": null,
   "id": "6451081e-a258-4fa0-836c-82521ff5fc6b",
   "metadata": {},
   "outputs": [],
   "source": []
  },
  {
   "cell_type": "code",
   "execution_count": null,
   "id": "fbb74fd0-0653-4317-a74b-c0254584fc6e",
   "metadata": {},
   "outputs": [],
   "source": []
  },
  {
   "cell_type": "markdown",
   "id": "d0067b3b-e688-46c4-9d84-5d774daeb2b1",
   "metadata": {},
   "source": [
    "# 클로저\n",
    "\n",
    "-  함수가 중첩될 때 외부 함수의 지역변수를 반환되는 내부함수가 사용하는 관계\n",
    "- 자유변수는 외부함수가 가진 변수가 클로저 환경을 구성하면서 내부함수가 사용하게 됨 "
   ]
  },
  {
   "cell_type": "markdown",
   "id": "ceaacf4f-2a45-42c7-9082-26e2cf08a008",
   "metadata": {},
   "source": [
    "## 1-1 중첩함수의 클로저 환경 구성하기 "
   ]
  },
  {
   "cell_type": "code",
   "execution_count": 1,
   "id": "3d774419-a742-4570-8c99-50f073395deb",
   "metadata": {},
   "outputs": [
    {
     "data": {
      "text/plain": [
       "'use strict'"
      ]
     },
     "execution_count": 1,
     "metadata": {},
     "output_type": "execute_result"
    }
   ],
   "source": [
    "function outerFunction() {\n",
    "  let x = 10;\n",
    "\n",
    "  function innerFunction() {\n",
    "    // outerFunction() 함수의 환경에 있는 x 변수에 접근할 수 있습니다.\n",
    "    console.log(x); // 10\n",
    "  }\n",
    "\n",
    "  return innerFunction;\n",
    "}\n",
    "\n"
   ]
  },
  {
   "cell_type": "code",
   "execution_count": 2,
   "id": "d16a6e6b-e4a7-4675-8c51-23097cee929b",
   "metadata": {},
   "outputs": [
    {
     "name": "stdout",
     "output_type": "stream",
     "text": [
      "10\n"
     ]
    },
    {
     "data": {
      "text/plain": [
       "undefined"
      ]
     },
     "execution_count": 2,
     "metadata": {},
     "output_type": "execute_result"
    }
   ],
   "source": [
    "const innerFunction = outerFunction();\n",
    "innerFunction(); // 10"
   ]
  },
  {
   "cell_type": "code",
   "execution_count": null,
   "id": "f15fa286-9ce4-4547-a816-599a4ae82480",
   "metadata": {},
   "outputs": [],
   "source": []
  },
  {
   "cell_type": "markdown",
   "id": "807a9052-5052-47d2-b9e1-95cf338674bc",
   "metadata": {},
   "source": [
    "## 1-2 콜백 함수 처리할 때 클로저 구성 "
   ]
  },
  {
   "cell_type": "code",
   "execution_count": null,
   "id": "093672bb-acb2-4165-9c4d-1cb015e728e1",
   "metadata": {},
   "outputs": [],
   "source": [
    "function createCounter() {\n",
    "  let count = 0;\n",
    "\n",
    "  return function(callback: () => number) {\n",
    "    // 클로저 내부에서 count 변수를 유지합니다.\n",
    "    return function() {\n",
    "      return count++;\n",
    "    };\n",
    "  };\n",
    "}\n",
    "\n",
    "const counter = createCounter();\n",
    "\n",
    "const incrementCounter = counter((x) => x + 1);\n",
    "const decrementCounter = counter((x) => x - 1);\n",
    "\n",
    "console.log(incrementCounter()); // 2\n",
    "console.log(decrementCounter()); // 1\n"
   ]
  },
  {
   "cell_type": "markdown",
   "id": "9724b0e1-9d63-4b8e-be5d-693aea188c10",
   "metadata": {},
   "source": [
    "## 1-3 외부 정의함수도 전역 변수를 처리하는 클로저 구성 가능"
   ]
  },
  {
   "cell_type": "code",
   "execution_count": 4,
   "id": "e6d4faa6-9dfb-4afa-a18f-bfcddc8ee468",
   "metadata": {},
   "outputs": [
    {
     "data": {
      "text/plain": [
       "undefined"
      ]
     },
     "execution_count": 4,
     "metadata": {},
     "output_type": "execute_result"
    }
   ],
   "source": [
    "var counter1 = 0 "
   ]
  },
  {
   "cell_type": "code",
   "execution_count": 5,
   "id": "be916023-8b89-4a3e-bf08-a055c4657498",
   "metadata": {},
   "outputs": [
    {
     "data": {
      "text/plain": [
       "undefined"
      ]
     },
     "execution_count": 5,
     "metadata": {},
     "output_type": "execute_result"
    }
   ],
   "source": [
    "function callBack(callback: () => number) {\n",
    "    // 클로저 내부에서 count 변수를 유지합니다.\n",
    "    return callback;\n",
    "}"
   ]
  },
  {
   "cell_type": "code",
   "execution_count": 7,
   "id": "3043eed9-fcdc-4b3a-832b-37c9a4d88e68",
   "metadata": {},
   "outputs": [
    {
     "data": {
      "text/plain": [
       "undefined"
      ]
     },
     "execution_count": 7,
     "metadata": {},
     "output_type": "execute_result"
    }
   ],
   "source": [
    "function calc() {\n",
    "     return counter1++;\n",
    "}"
   ]
  },
  {
   "cell_type": "code",
   "execution_count": 8,
   "id": "be1b47a7-9937-4b76-a183-97d16929bc66",
   "metadata": {},
   "outputs": [
    {
     "data": {
      "text/plain": [
       "undefined"
      ]
     },
     "execution_count": 8,
     "metadata": {},
     "output_type": "execute_result"
    }
   ],
   "source": [
    "const aaa = callBack(calc);"
   ]
  },
  {
   "cell_type": "code",
   "execution_count": 9,
   "id": "9985e43f-c65f-4531-afd0-a69d5938d105",
   "metadata": {},
   "outputs": [
    {
     "data": {
      "text/plain": [
       "0"
      ]
     },
     "execution_count": 9,
     "metadata": {},
     "output_type": "execute_result"
    }
   ],
   "source": [
    "aaa();"
   ]
  },
  {
   "cell_type": "code",
   "execution_count": 10,
   "id": "207078a2-3d83-4559-a41c-70a274e7effe",
   "metadata": {},
   "outputs": [
    {
     "data": {
      "text/plain": [
       "1"
      ]
     },
     "execution_count": 10,
     "metadata": {},
     "output_type": "execute_result"
    }
   ],
   "source": [
    "aaa();"
   ]
  },
  {
   "cell_type": "code",
   "execution_count": null,
   "id": "f27ed67f-e935-489a-b36c-216c7cbf3704",
   "metadata": {},
   "outputs": [],
   "source": []
  }
 ],
 "metadata": {
  "kernelspec": {
   "display_name": "Typescript 4.9",
   "language": "typescript",
   "name": "typescript"
  },
  "language_info": {
   "file_extension": ".ts",
   "mimetype": "application/x-typescript",
   "name": "typescript",
   "version": "4.9.5"
  }
 },
 "nbformat": 4,
 "nbformat_minor": 5
}
