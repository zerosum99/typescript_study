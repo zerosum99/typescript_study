{
 "cells": [
  {
   "cell_type": "code",
   "execution_count": null,
   "id": "8f4bc9f0-9ad0-480a-9f02-2a7766d613d9",
   "metadata": {
    "editable": true,
    "slideshow": {
     "slide_type": ""
    },
    "tags": []
   },
   "outputs": [],
   "source": []
  },
  {
   "cell_type": "markdown",
   "id": "02040118-92c7-42fb-93cd-ed13e19c6f74",
   "metadata": {},
   "source": [
    "## 1. 함수의 결과에 대한 반환 처리"
   ]
  },
  {
   "cell_type": "code",
   "execution_count": null,
   "id": "669a433a-69ec-4160-9654-6e91a8fc799c",
   "metadata": {},
   "outputs": [],
   "source": []
  },
  {
   "cell_type": "markdown",
   "id": "85c7fa21-c498-4877-8caf-981598a38311",
   "metadata": {},
   "source": [
    "## 1-1 명시적 반환처리 "
   ]
  },
  {
   "cell_type": "markdown",
   "id": "f7548879-06a6-4b90-a5f7-8eaf05f7d868",
   "metadata": {},
   "source": [
    "### 자료형을 확정하기 "
   ]
  },
  {
   "cell_type": "code",
   "execution_count": 3,
   "id": "98e34e65-13b9-43d0-bb55-ae4aabbe573d",
   "metadata": {},
   "outputs": [
    {
     "data": {
      "text/plain": [
       "undefined"
      ]
     },
     "execution_count": 3,
     "metadata": {},
     "output_type": "execute_result"
    }
   ],
   "source": [
    "function add(a: number, b: number): number {\n",
    "    return a + b;\n",
    "}\n"
   ]
  },
  {
   "cell_type": "markdown",
   "id": "f84ec330-97ef-45f5-976d-2215dd32cb93",
   "metadata": {},
   "source": [
    "### 자료형을 미확정하기 "
   ]
  },
  {
   "cell_type": "code",
   "execution_count": 4,
   "id": "52f7a84d-580f-44a2-801e-8ad156d68c29",
   "metadata": {},
   "outputs": [
    {
     "data": {
      "text/plain": [
       "undefined"
      ]
     },
     "execution_count": 4,
     "metadata": {},
     "output_type": "execute_result"
    }
   ],
   "source": [
    "function getRandomValue(): any {\n",
    "    return Math.random() < 0.5 ? \"Hello\" : 42;\n",
    "}\n"
   ]
  },
  {
   "cell_type": "code",
   "execution_count": null,
   "id": "f9381ca3-a97b-4808-8053-8777e0865424",
   "metadata": {},
   "outputs": [],
   "source": []
  },
  {
   "cell_type": "code",
   "execution_count": null,
   "id": "65ce8ba2-dd04-464f-9010-af78eaf53d22",
   "metadata": {},
   "outputs": [],
   "source": []
  },
  {
   "cell_type": "markdown",
   "id": "32cc569e-5813-4e49-aadc-926d14891223",
   "metadata": {},
   "source": [
    "### 여러 자료형 반환 => 유니온 지정 "
   ]
  },
  {
   "cell_type": "code",
   "execution_count": 5,
   "id": "352d3aec-9edf-4c6f-a303-5eff9b77ff47",
   "metadata": {},
   "outputs": [
    {
     "data": {
      "text/plain": [
       "undefined"
      ]
     },
     "execution_count": 5,
     "metadata": {},
     "output_type": "execute_result"
    }
   ],
   "source": [
    "function getStringOrNumber(flag: boolean): string | number {\n",
    "    return flag ? \"Hello\" : 42;\n",
    "}\n"
   ]
  },
  {
   "cell_type": "code",
   "execution_count": null,
   "id": "4a35a33a-1bff-41e4-9b9d-3db282b2b073",
   "metadata": {},
   "outputs": [],
   "source": []
  },
  {
   "cell_type": "code",
   "execution_count": null,
   "id": "a09c0273-c575-43f6-8691-6c6e188e2da5",
   "metadata": {},
   "outputs": [],
   "source": []
  },
  {
   "cell_type": "markdown",
   "id": "73a28d3b-5971-4d59-aa41-c04790a19373",
   "metadata": {},
   "source": [
    "## 2. 반환타입이 없을 경우 처리 "
   ]
  },
  {
   "cell_type": "markdown",
   "id": "3e93d791-c359-4790-87fb-9b4681d61f10",
   "metadata": {},
   "source": [
    "## 2-1 void 반환자료 \n",
    "\n",
    "- void는 함수가 어떤 값도 반환하지 않음, 주로 함수가 어떤 부수 효과(e.g., 콘솔 출력, 파일 저장, 데이터베이스 업데이트)를 수행하지만 반환 값이 없을 때 사용"
   ]
  },
  {
   "cell_type": "code",
   "execution_count": null,
   "id": "c36c98e0-e518-4037-b899-87aa497fa11a",
   "metadata": {},
   "outputs": [],
   "source": []
  },
  {
   "cell_type": "code",
   "execution_count": 1,
   "id": "30e7a645-8df8-4c08-a650-7928232be7fb",
   "metadata": {},
   "outputs": [
    {
     "data": {
      "text/plain": [
       "'use strict'"
      ]
     },
     "execution_count": 1,
     "metadata": {},
     "output_type": "execute_result"
    }
   ],
   "source": [
    "function sayHello(firstName: string, lastName?: string): void {\n",
    "    let name: string;\n",
    "    if (lastName) { //값이 지정되었으면\n",
    "        name = firstName + \" \" + lastName;\n",
    "    }\n",
    "    else {\n",
    "        name = firstName;\n",
    "    }\n",
    "    console.log(\"Hello \" + name);\n",
    "}"
   ]
  },
  {
   "cell_type": "code",
   "execution_count": null,
   "id": "da83de26-a066-4c2f-9557-a814d5e0d976",
   "metadata": {},
   "outputs": [],
   "source": []
  },
  {
   "cell_type": "code",
   "execution_count": 1,
   "id": "a03142b0-c1a5-470b-b082-dfacb3a48783",
   "metadata": {},
   "outputs": [
    {
     "data": {
      "text/plain": [
       "'use strict'"
      ]
     },
     "execution_count": 1,
     "metadata": {},
     "output_type": "execute_result"
    }
   ],
   "source": [
    "function logMessage(message: string): void {\n",
    "    console.log(message);\n",
    "}\n",
    "\n",
    "function doSomething(): void {\n",
    "    // 어떤 작업을 수행하고 반환 값이 없음\n",
    "}\n"
   ]
  },
  {
   "cell_type": "code",
   "execution_count": null,
   "id": "3d7533c5-5798-4115-8deb-13154ced1726",
   "metadata": {},
   "outputs": [],
   "source": []
  },
  {
   "cell_type": "markdown",
   "id": "99934da3-0211-4999-a369-3db9b1968936",
   "metadata": {},
   "source": [
    "## 2-2 never 반환자료형\n",
    "\n",
    "- never는 일반적으로 예상치 못한 오류 또는 비정상적인 상황에서 함수가 실행을 중단하거나 프로그램이 종료될 때 사용"
   ]
  },
  {
   "cell_type": "code",
   "execution_count": 2,
   "id": "87856b8f-dce7-487a-b2a9-69ae64e55081",
   "metadata": {},
   "outputs": [
    {
     "data": {
      "text/plain": [
       "undefined"
      ]
     },
     "execution_count": 2,
     "metadata": {},
     "output_type": "execute_result"
    }
   ],
   "source": [
    "function throwError(message: string): never {\n",
    "    throw new Error(message);\n",
    "}\n",
    "\n",
    "function infiniteLoop(): never {\n",
    "    while (true) {\n",
    "        // 무한 루프\n",
    "    }\n",
    "}\n"
   ]
  },
  {
   "cell_type": "code",
   "execution_count": null,
   "id": "49f7c938-7cfc-403b-aec5-60e9e8a9ee86",
   "metadata": {},
   "outputs": [],
   "source": []
  },
  {
   "cell_type": "code",
   "execution_count": null,
   "id": "a143822f-2c02-4bd8-97a0-1e25a2e3dc4d",
   "metadata": {},
   "outputs": [],
   "source": []
  },
  {
   "cell_type": "markdown",
   "id": "294c5172-4ca0-4b80-af1c-4668a3e51a8f",
   "metadata": {},
   "source": [
    "## 3. 여러 개 값을 반환하기 "
   ]
  },
  {
   "cell_type": "markdown",
   "id": "7571524c-7b36-4fe6-9865-6e1601823dfa",
   "metadata": {},
   "source": [
    "## 3-1 기본 배열 봔환 "
   ]
  },
  {
   "cell_type": "markdown",
   "id": "e43fc1f9-fd07-4cd3-87b6-80eb62e0e17e",
   "metadata": {},
   "source": [
    "### 명시적으로 배열 "
   ]
  },
  {
   "cell_type": "code",
   "execution_count": 10,
   "id": "44fb4c19-2097-4274-ac30-3a1c08248074",
   "metadata": {},
   "outputs": [
    {
     "name": "stdout",
     "output_type": "stream",
     "text": [
      "Name: Alice, Age: 30\n"
     ]
    },
    {
     "data": {
      "text/plain": [
       "undefined"
      ]
     },
     "execution_count": 10,
     "metadata": {},
     "output_type": "execute_result"
    }
   ],
   "source": [
    "function getPersonInfo11(): (string | number)[] {\n",
    "    const name = \"Alice\";\n",
    "    const age = 30;\n",
    "    return [name, age];\n",
    "}\n",
    "\n",
    "const [personName11, personAge11] = getPersonInfo11();\n",
    "console.log(`Name: ${personName11}, Age: ${personAge11}`);\n",
    "\n"
   ]
  },
  {
   "cell_type": "markdown",
   "id": "96e56e31-0bf8-4820-9d3d-306220a48d79",
   "metadata": {},
   "source": [
    "### 암묵적으로 배열로 반환처리 "
   ]
  },
  {
   "cell_type": "code",
   "execution_count": 11,
   "id": "954bb0bf-d4f7-4044-b187-9b1d9860266a",
   "metadata": {},
   "outputs": [
    {
     "data": {
      "text/plain": [
       "undefined"
      ]
     },
     "execution_count": 11,
     "metadata": {},
     "output_type": "execute_result"
    }
   ],
   "source": [
    "function someFunction(){\n",
    "  const state = {\n",
    "    name: ''\n",
    "  };\n",
    "  const actions = {\n",
    "    login: async()=>{},\n",
    "    logout: async()=>{}\n",
    "  }\n",
    "  return [state, actions];\n",
    "}\n",
    "\n",
    "const [state, actions] = someFunction();"
   ]
  },
  {
   "cell_type": "code",
   "execution_count": null,
   "id": "96e543e4-282e-4158-8da8-b632549f4f93",
   "metadata": {},
   "outputs": [],
   "source": []
  },
  {
   "cell_type": "markdown",
   "id": "7091a8ce-953f-420f-b35c-a85ea730b8a2",
   "metadata": {},
   "source": [
    "## 3-2 튜플을 명시해서 반환하기 "
   ]
  },
  {
   "cell_type": "code",
   "execution_count": 1,
   "id": "1f4746d5-5110-4a26-b330-e906908c20bd",
   "metadata": {},
   "outputs": [
    {
     "name": "stdout",
     "output_type": "stream",
     "text": [
      "Name: Alice, Age: 30\n"
     ]
    },
    {
     "data": {
      "text/plain": [
       "undefined"
      ]
     },
     "execution_count": 1,
     "metadata": {},
     "output_type": "execute_result"
    }
   ],
   "source": [
    "function getPersonInfo(): [string, number] {\n",
    "    const name = \"Alice\";\n",
    "    const age = 30;\n",
    "    return [name, age];\n",
    "}\n",
    "\n",
    "const [personName, personAge] = getPersonInfo();\n",
    "console.log(`Name: ${personName}, Age: ${personAge}`);\n"
   ]
  },
  {
   "cell_type": "code",
   "execution_count": null,
   "id": "96dfa22d-ccd8-433e-8511-64bc1a6f3723",
   "metadata": {},
   "outputs": [],
   "source": []
  },
  {
   "cell_type": "markdown",
   "id": "6ab45bc3-7fa3-4ee0-a8cd-bd08a80c9982",
   "metadata": {},
   "source": [
    "## 3-3 객체로 반환하기 "
   ]
  },
  {
   "cell_type": "code",
   "execution_count": 6,
   "id": "6cf99d15-9831-4212-81c2-882560a0c074",
   "metadata": {},
   "outputs": [
    {
     "name": "stdout",
     "output_type": "stream",
     "text": [
      "Name: Alice, Age: 30\n"
     ]
    },
    {
     "data": {
      "text/plain": [
       "undefined"
      ]
     },
     "execution_count": 6,
     "metadata": {},
     "output_type": "execute_result"
    }
   ],
   "source": [
    "function getPersonInfo3(): { name: string, age: number } {\n",
    "    const name = \"Alice\";\n",
    "    const age = 30;\n",
    "    return { name, age };\n",
    "}\n",
    "\n",
    "const person3 = getPersonInfo3();\n",
    "console.log(`Name: ${person3.name}, Age: ${person3.age}`);\n"
   ]
  },
  {
   "cell_type": "code",
   "execution_count": null,
   "id": "02343efd-67a2-4368-b0c0-5f7b9d90c297",
   "metadata": {},
   "outputs": [],
   "source": []
  },
  {
   "cell_type": "markdown",
   "id": "cc68dbdc-f56b-4ff3-a71d-4437047d1044",
   "metadata": {},
   "source": [
    "## 3-4 인터페이스로 처리하기 "
   ]
  },
  {
   "cell_type": "code",
   "execution_count": 8,
   "id": "3fc37e2f-0aec-431a-803a-8459a1084fe5",
   "metadata": {},
   "outputs": [
    {
     "name": "stdout",
     "output_type": "stream",
     "text": [
      "Name: Alice, Age: 30\n"
     ]
    },
    {
     "data": {
      "text/plain": [
       "undefined"
      ]
     },
     "execution_count": 8,
     "metadata": {},
     "output_type": "execute_result"
    }
   ],
   "source": [
    "interface PersonInfo {\n",
    "    name: string;\n",
    "    age: number;\n",
    "}\n",
    "\n",
    "function getPersonInfo4(): PersonInfo {\n",
    "    const name = \"Alice\";\n",
    "    const age = 30;\n",
    "    return { name, age };\n",
    "}\n",
    "\n",
    "const person4 = getPersonInfo4();\n",
    "console.log(`Name: ${person4.name}, Age: ${person4.age}`);\n"
   ]
  },
  {
   "cell_type": "code",
   "execution_count": null,
   "id": "deebe3e6-5e70-4dd2-b05e-1b6b72ecb43e",
   "metadata": {},
   "outputs": [],
   "source": []
  }
 ],
 "metadata": {
  "kernelspec": {
   "display_name": "Typescript 4.9",
   "language": "typescript",
   "name": "typescript"
  },
  "language_info": {
   "file_extension": ".ts",
   "mimetype": "application/x-typescript",
   "name": "typescript",
   "version": "4.9.5"
  }
 },
 "nbformat": 4,
 "nbformat_minor": 5
}
