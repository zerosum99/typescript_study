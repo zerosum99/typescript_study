{
 "cells": [
  {
   "cell_type": "code",
   "execution_count": null,
   "id": "1d1997b9-c60f-4549-a792-58624c993637",
   "metadata": {},
   "outputs": [],
   "source": []
  },
  {
   "cell_type": "markdown",
   "id": "44862d17-9641-47df-8887-a6bf677d85d2",
   "metadata": {},
   "source": [
    "# 1. 호출시그니처 이해하기 "
   ]
  },
  {
   "cell_type": "markdown",
   "id": "0c0c6168-903d-4460-8f0e-492e2484fa8c",
   "metadata": {},
   "source": [
    "## 1-1. 함수자료형과 호출시그니처 이해하기 "
   ]
  },
  {
   "cell_type": "markdown",
   "id": "841ba571-96e5-436c-8414-b23caf1b3bbc",
   "metadata": {},
   "source": [
    "## 함수 자료형 선언하기 "
   ]
  },
  {
   "cell_type": "code",
   "execution_count": 7,
   "id": "4cb092e8-ab86-482e-b224-f09150af1c44",
   "metadata": {},
   "outputs": [
    {
     "data": {
      "text/plain": [
       "undefined"
      ]
     },
     "execution_count": 7,
     "metadata": {},
     "output_type": "execute_result"
    }
   ],
   "source": [
    "type AddFunction = (a: number, b: number) => number;\n"
   ]
  },
  {
   "cell_type": "code",
   "execution_count": null,
   "id": "747df247-20f6-4733-b769-ea47e1449a36",
   "metadata": {},
   "outputs": [],
   "source": []
  },
  {
   "cell_type": "code",
   "execution_count": 8,
   "id": "7907693f-c6c8-4057-b011-766cb8d0ee8d",
   "metadata": {},
   "outputs": [
    {
     "data": {
      "text/plain": [
       "undefined"
      ]
     },
     "execution_count": 8,
     "metadata": {},
     "output_type": "execute_result"
    }
   ],
   "source": [
    "const add : AddFunction = (a, b) => a + b;"
   ]
  },
  {
   "cell_type": "code",
   "execution_count": 9,
   "id": "7c824497-891e-4837-a7b3-000bd97ffb65",
   "metadata": {},
   "outputs": [
    {
     "data": {
      "text/plain": [
       "30"
      ]
     },
     "execution_count": 9,
     "metadata": {},
     "output_type": "execute_result"
    }
   ],
   "source": [
    "add(10,20);"
   ]
  },
  {
   "cell_type": "code",
   "execution_count": null,
   "id": "a89f1fb0-18d9-49d4-b89d-e37cdc3636de",
   "metadata": {},
   "outputs": [],
   "source": []
  },
  {
   "cell_type": "code",
   "execution_count": null,
   "id": "8711cffc-6e8e-4d46-8f89-de8baced1276",
   "metadata": {},
   "outputs": [],
   "source": [
    "interface Calculator {\n",
    "  (a: number, b: number): number; // 호출 시그니처\n",
    "  add: (a: number, b: number) => number; // 함수 속성\n",
    "  subtract: (a: number, b: number) => number; // 함수 속성\n",
    "}"
   ]
  },
  {
   "cell_type": "code",
   "execution_count": null,
   "id": "ff6ca783-2732-4c00-800b-480c918b00f3",
   "metadata": {},
   "outputs": [],
   "source": []
  },
  {
   "cell_type": "code",
   "execution_count": null,
   "id": "09ab7e9f-a649-4efe-b98d-3d9a1dd33883",
   "metadata": {},
   "outputs": [],
   "source": []
  },
  {
   "cell_type": "markdown",
   "id": "2cbedf00-1833-4668-9c6d-e9f303ef86e1",
   "metadata": {},
   "source": [
    "## 1-2 호출시그니처와 함수 속성 추가 \n",
    "\n",
    "- interface에 정의하고 보통 함수 객체를 할당하거나 처리할 때 사용\n",
    "- 함수도 객체이므로 속성을 지정해서 사용할 수 있음 "
   ]
  },
  {
   "cell_type": "code",
   "execution_count": 3,
   "id": "47cc3c53-02e0-4200-8990-5e26965fc10f",
   "metadata": {},
   "outputs": [
    {
     "data": {
      "text/plain": [
       "undefined"
      ]
     },
     "execution_count": 3,
     "metadata": {},
     "output_type": "execute_result"
    }
   ],
   "source": [
    "interface Calculator {\n",
    "  (a: number, b: number): number; // 호출 시그니처\n",
    "  add: (a: number, b: number) => number; // 함수 속성\n",
    "  subtract: (a: number, b: number) => number; // 함수 속성\n",
    "}"
   ]
  },
  {
   "cell_type": "code",
   "execution_count": 4,
   "id": "b3637cdd-51b1-4399-bbd2-72fd11653446",
   "metadata": {},
   "outputs": [
    {
     "data": {
      "text/plain": [
       "[Function (anonymous)]"
      ]
     },
     "execution_count": 4,
     "metadata": {},
     "output_type": "execute_result"
    }
   ],
   "source": [
    "const calculator: Calculator = (a, b) => a + b;\n",
    "calculator.add = (a, b) => a + b;\n",
    "calculator.subtract = (a, b) => a - b;"
   ]
  },
  {
   "cell_type": "code",
   "execution_count": 5,
   "id": "0d9d2e1e-f6c0-46c3-8ecd-a017e081d90d",
   "metadata": {},
   "outputs": [
    {
     "data": {
      "text/plain": [
       "undefined"
      ]
     },
     "execution_count": 5,
     "metadata": {},
     "output_type": "execute_result"
    }
   ],
   "source": [
    "const result1 = calculator(10, 5); // 호출 시그니처로 함수 호출\n",
    "const result2 = calculator.add(10, 5); // 함수 속성으로 호출\n",
    "const result3 = calculator.subtract(10, 5); // 함수 속성으로 호출"
   ]
  },
  {
   "cell_type": "code",
   "execution_count": 6,
   "id": "4ff74bb7-6921-4479-98fa-e39fb225c9b8",
   "metadata": {},
   "outputs": [
    {
     "name": "stdout",
     "output_type": "stream",
     "text": [
      "15\n",
      "15\n",
      "5\n"
     ]
    },
    {
     "data": {
      "text/plain": [
       "undefined"
      ]
     },
     "execution_count": 6,
     "metadata": {},
     "output_type": "execute_result"
    }
   ],
   "source": [
    "console.log(result1); // 15\n",
    "console.log(result2); // 15\n",
    "console.log(result3); // 5"
   ]
  },
  {
   "cell_type": "code",
   "execution_count": null,
   "id": "d7467155-d7d1-4dd3-9fd5-7bc346180f2e",
   "metadata": {},
   "outputs": [],
   "source": []
  },
  {
   "cell_type": "markdown",
   "id": "94c26729-4008-4b03-8559-7e1ccf457a27",
   "metadata": {},
   "source": [
    "## 1-3 호출 시그니처를 제너릭으로 처리하기"
   ]
  },
  {
   "cell_type": "code",
   "execution_count": 1,
   "id": "790366e8-7964-43ca-9f9a-7129c6c3fded",
   "metadata": {},
   "outputs": [
    {
     "data": {
      "text/plain": [
       "'use strict'"
      ]
     },
     "execution_count": 1,
     "metadata": {},
     "output_type": "execute_result"
    }
   ],
   "source": [
    "interface Comparator<T> {\n",
    "  (a: T, b: T): number;\n",
    "}\n"
   ]
  },
  {
   "cell_type": "code",
   "execution_count": 2,
   "id": "4f727e3d-5418-4b6f-9281-83b67b63804b",
   "metadata": {},
   "outputs": [
    {
     "data": {
      "text/plain": [
       "undefined"
      ]
     },
     "execution_count": 2,
     "metadata": {},
     "output_type": "execute_result"
    }
   ],
   "source": [
    "// 숫자 비교 함수\n",
    "const numberComparator: Comparator<number> = (a, b) => a - b;\n",
    "\n",
    "// 문자열 비교 함수 (반공변성 적용)\n",
    "const stringComparator: Comparator<string> = (a, b) => b.localeCompare(a);"
   ]
  },
  {
   "cell_type": "code",
   "execution_count": null,
   "id": "851159a6-c50f-4f95-88f5-1416aa4b728f",
   "metadata": {},
   "outputs": [],
   "source": []
  }
 ],
 "metadata": {
  "kernelspec": {
   "display_name": "Typescript 4.9",
   "language": "typescript",
   "name": "typescript"
  },
  "language_info": {
   "file_extension": ".ts",
   "mimetype": "application/x-typescript",
   "name": "typescript",
   "version": "4.9.5"
  }
 },
 "nbformat": 4,
 "nbformat_minor": 5
}
