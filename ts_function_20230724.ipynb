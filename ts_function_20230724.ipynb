{
 "cells": [
  {
   "cell_type": "code",
   "execution_count": null,
   "id": "8f4bc9f0-9ad0-480a-9f02-2a7766d613d9",
   "metadata": {},
   "outputs": [],
   "source": []
  },
  {
   "cell_type": "markdown",
   "id": "81a4a502-3f32-47be-97d7-c7d357a9d26a",
   "metadata": {},
   "source": [
    "##  함수 정의하기 "
   ]
  },
  {
   "cell_type": "code",
   "execution_count": 1,
   "id": "3b78c51a-d2a6-42d4-abaf-ba458c64238c",
   "metadata": {},
   "outputs": [
    {
     "data": {
      "text/html": [
       "<div style='background:#ffecb3;padding:1em;border-left:2px solid #ff6d00'><b>Configuration is not found!</b> Default configuration will be used: <pre>{\"module\":1,\"target\":1,\"moduleResolution\":2,\"esModuleInterop\":true}</pre></div>"
      ]
     },
     "execution_count": 1,
     "metadata": {},
     "output_type": "execute_result"
    }
   ],
   "source": [
    "function add(x:number, y:number) : number {\n",
    "    return x+y;\n",
    "} "
   ]
  },
  {
   "cell_type": "code",
   "execution_count": 8,
   "id": "94a071f6-15e1-4768-b2f0-4d0b91da0e92",
   "metadata": {},
   "outputs": [
    {
     "data": {
      "text/plain": [
       "400"
      ]
     },
     "execution_count": 8,
     "metadata": {},
     "output_type": "execute_result"
    }
   ],
   "source": [
    "add(100,300)"
   ]
  },
  {
   "cell_type": "code",
   "execution_count": null,
   "id": "21f73927-e570-4fff-90dd-78f79b471dc9",
   "metadata": {},
   "outputs": [],
   "source": []
  },
  {
   "cell_type": "code",
   "execution_count": 11,
   "id": "e96625a6-f00c-4c9e-9b30-cc7f44645867",
   "metadata": {},
   "outputs": [
    {
     "data": {
      "text/plain": [
       "undefined"
      ]
     },
     "execution_count": 11,
     "metadata": {},
     "output_type": "execute_result"
    }
   ],
   "source": [
    "let a = Math.floor(Math.random() * 9223)"
   ]
  },
  {
   "cell_type": "code",
   "execution_count": 13,
   "id": "98339f30-aa31-499d-bcc1-e6578f86b7ef",
   "metadata": {},
   "outputs": [
    {
     "name": "stdout",
     "output_type": "stream",
     "text": [
      "3731\n"
     ]
    },
    {
     "data": {
      "text/plain": [
       "undefined"
      ]
     },
     "execution_count": 13,
     "metadata": {},
     "output_type": "execute_result"
    }
   ],
   "source": [
    "console.log(`${a+ 1}`);"
   ]
  },
  {
   "cell_type": "code",
   "execution_count": 15,
   "id": "08679d97-e2fc-4c3a-955e-bbecec89338c",
   "metadata": {},
   "outputs": [
    {
     "name": "stdout",
     "output_type": "stream",
     "text": [
      "7289669955733352500\n"
     ]
    },
    {
     "data": {
      "text/plain": [
       "undefined"
      ]
     },
     "execution_count": 15,
     "metadata": {},
     "output_type": "execute_result"
    }
   ],
   "source": [
    "console.log(`${Math.floor(Math.random() * 9223) + 1}${String(Math.floor(Math.random() * 99999_99999_99999))}`);"
   ]
  },
  {
   "cell_type": "code",
   "execution_count": null,
   "id": "92c86db0-2739-4020-b262-fa95a80c27db",
   "metadata": {},
   "outputs": [],
   "source": []
  }
 ],
 "metadata": {
  "kernelspec": {
   "display_name": "Typescript 4.9",
   "language": "typescript",
   "name": "typescript"
  },
  "language_info": {
   "file_extension": ".ts",
   "mimetype": "application/x-typescript",
   "name": "typescript",
   "version": "4.9.5"
  }
 },
 "nbformat": 4,
 "nbformat_minor": 5
}
