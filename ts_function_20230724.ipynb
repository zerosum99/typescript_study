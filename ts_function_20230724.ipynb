{
 "cells": [
  {
   "cell_type": "code",
   "execution_count": null,
   "id": "8f4bc9f0-9ad0-480a-9f02-2a7766d613d9",
   "metadata": {},
   "outputs": [],
   "source": []
  },
  {
   "cell_type": "markdown",
   "id": "81a4a502-3f32-47be-97d7-c7d357a9d26a",
   "metadata": {},
   "source": [
    "##  함수 정의하기 "
   ]
  },
  {
   "cell_type": "code",
   "execution_count": null,
   "id": "3b78c51a-d2a6-42d4-abaf-ba458c64238c",
   "metadata": {},
   "outputs": [],
   "source": [
    "function add(x:number, y:number) : numbdr {\n",
    "    return x+"
   ]
  },
  {
   "cell_type": "code",
   "execution_count": null,
   "id": "94a071f6-15e1-4768-b2f0-4d0b91da0e92",
   "metadata": {},
   "outputs": [],
   "source": []
  }
 ],
 "metadata": {
  "kernelspec": {
   "display_name": "Typescript 4.9",
   "language": "typescript",
   "name": "typescript"
  },
  "language_info": {
   "file_extension": ".ts",
   "mimetype": "application/x-typescript",
   "name": "typescript",
   "version": "4.9.5"
  }
 },
 "nbformat": 4,
 "nbformat_minor": 5
}
