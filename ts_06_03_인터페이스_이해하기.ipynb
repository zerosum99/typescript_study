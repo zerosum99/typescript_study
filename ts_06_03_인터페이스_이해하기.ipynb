{
 "cells": [
  {
   "cell_type": "code",
   "execution_count": null,
   "id": "b34502c8-792c-4493-9dac-39c655c1e386",
   "metadata": {},
   "outputs": [],
   "source": []
  },
  {
   "cell_type": "markdown",
   "id": "1d17241f-9cd6-4dd8-8f94-54b81cf88c4f",
   "metadata": {},
   "source": [
    "##  인터페이스\n",
    "\n",
    "-  인터페이스는 객체 타입을 정의할 때 사용하는 문법"
   ]
  },
  {
   "cell_type": "code",
   "execution_count": null,
   "id": "3e375a88-4b9c-4562-9814-dbd34902ae8b",
   "metadata": {},
   "outputs": [],
   "source": []
  },
  {
   "cell_type": "markdown",
   "id": "9f8fc9a1-25cd-42d6-b02a-c83370fd75ee",
   "metadata": {},
   "source": [
    "## 1. 인터페이스로 변수의 객체 타입 정의 \n",
    "\n",
    "- interface 예약어 사용\n",
    "- 인터페이스 이름 지정하고 블록내에 객체의 속성 이름과 자료형을 지정"
   ]
  },
  {
   "cell_type": "markdown",
   "id": "fd6f9497-b7e9-4e2c-b417-d8b7e46011a3",
   "metadata": {},
   "source": [
    "## 1-1  인터페이스 정의할 때 속성 분리 표기"
   ]
  },
  {
   "cell_type": "markdown",
   "id": "e0d68cb6-07da-4bc7-a910-a5fe0fb77fdc",
   "metadata": {},
   "source": [
    "### 속성을 쉼표로 분리 "
   ]
  },
  {
   "cell_type": "code",
   "execution_count": 1,
   "id": "46b3083e-328a-4e95-b0e1-1c7f06ba60b8",
   "metadata": {},
   "outputs": [
    {
     "data": {
      "text/plain": [
       "'use strict'"
      ]
     },
     "execution_count": 1,
     "metadata": {},
     "output_type": "execute_result"
    }
   ],
   "source": [
    "interface People {\n",
    "    name : string,\n",
    "    age : number\n",
    "}"
   ]
  },
  {
   "cell_type": "markdown",
   "id": "0cdcaad8-eb59-4861-928e-08473b9be18f",
   "metadata": {},
   "source": [
    "### 속성을 세미콜론으로 분리 "
   ]
  },
  {
   "cell_type": "code",
   "execution_count": 2,
   "id": "c93b95a8-0f38-4a92-b292-2124c10a4bbc",
   "metadata": {},
   "outputs": [
    {
     "data": {
      "text/plain": [
       "undefined"
      ]
     },
     "execution_count": 2,
     "metadata": {},
     "output_type": "execute_result"
    }
   ],
   "source": [
    "interface People11 {\n",
    "    name : string;\n",
    "    age : number;\n",
    "}"
   ]
  },
  {
   "cell_type": "code",
   "execution_count": null,
   "id": "bb6050e8-c720-4d6a-81c2-2c097d530626",
   "metadata": {},
   "outputs": [],
   "source": []
  },
  {
   "cell_type": "markdown",
   "id": "5b10b71b-8c52-4110-b9b9-6fe6f02ae72b",
   "metadata": {},
   "source": [
    "## 1-2 인터페이스를 자료형으로 사용하기 "
   ]
  },
  {
   "cell_type": "markdown",
   "id": "b2672967-6911-4e6c-83cb-44187a754b2d",
   "metadata": {},
   "source": [
    "### 인터페이스로 변수 정의에 어노테이션 지정"
   ]
  },
  {
   "cell_type": "code",
   "execution_count": 8,
   "id": "d6070aef-452e-4a1d-a5ba-49bad2bf7c87",
   "metadata": {},
   "outputs": [
    {
     "data": {
      "text/plain": [
       "undefined"
      ]
     },
     "execution_count": 8,
     "metadata": {},
     "output_type": "execute_result"
    }
   ],
   "source": [
    "let user1 : People = { name : \"강인터\", age:33 };"
   ]
  },
  {
   "cell_type": "code",
   "execution_count": 9,
   "id": "cdc836e3-b93c-414a-bffe-60ddc343796d",
   "metadata": {},
   "outputs": [
    {
     "data": {
      "text/plain": [
       "{ name: '강인터', age: 33 }"
      ]
     },
     "execution_count": 9,
     "metadata": {},
     "output_type": "execute_result"
    }
   ],
   "source": [
    "user1"
   ]
  },
  {
   "cell_type": "markdown",
   "id": "58e085f8-cce8-48f4-ab6d-2399efc9bf65",
   "metadata": {},
   "source": [
    "### 세부적인 객체 생성된 것을 확인하면 객체 "
   ]
  },
  {
   "cell_type": "code",
   "execution_count": 4,
   "id": "4ec29ad4-fb90-40d8-9aa6-f2c8623005db",
   "metadata": {},
   "outputs": [
    {
     "data": {
      "text/plain": [
       "'object'"
      ]
     },
     "execution_count": 4,
     "metadata": {},
     "output_type": "execute_result"
    }
   ],
   "source": [
    "typeof user1"
   ]
  },
  {
   "cell_type": "markdown",
   "id": "d22ffa49-17f1-446f-bf4c-2d0f4b08ac44",
   "metadata": {},
   "source": [
    "### 인터페이스의 자료형과 동일하지 않은 경우 에러 \n",
    "\n",
    "-  변수를 정의할 때 초기값을 사용할 때는 반드시 동일한 속성만 가능 "
   ]
  },
  {
   "cell_type": "code",
   "execution_count": 5,
   "id": "f6891fab-93f0-48cf-9d3d-97be2304b0c3",
   "metadata": {},
   "outputs": [
    {
     "ename": "Error",
     "evalue": "Line 1, Character 46\nlet user2 : People = { name : \"강호수\", age:43, job:\"데이터과학자\" };\n_____________________________________________^\nTS2322: Type '{ name: string; age: number; job: string; }' is not assignable to type 'People'.\n  Object literal may only specify known properties, and 'job' does not exist in type 'People'.",
     "execution_count": 5,
     "output_type": "error",
     "traceback": [
      "Error: Line 1, Character 46",
      "let user2 : People = { name : \"강호수\", age:43, job:\"데이터과학자\" };",
      "_____________________________________________^",
      "TS2322: Type '{ name: string; age: number; job: string; }' is not assignable to type 'People'.",
      "  Object literal may only specify known properties, and 'job' does not exist in type 'People'.",
      "    at execTranspile (/usr/local/lib/node_modules/itypescript/lib/kernel.js:229:23)",
      "    at Session.transpiler [as transpile] (/usr/local/lib/node_modules/itypescript/lib/kernel.js:288:35)",
      "    at Session._runNow (/usr/local/lib/node_modules/itypescript/node_modules/nel/lib/nel.js:835:39)",
      "    at Session._run (/usr/local/lib/node_modules/itypescript/node_modules/nel/lib/nel.js:786:14)",
      "    at Session.execute (/usr/local/lib/node_modules/itypescript/node_modules/nel/lib/nel.js:929:10)",
      "    at Kernel.execute_request (/usr/local/lib/node_modules/itypescript/node_modules/jp-kernel/lib/handlers_v5.js:116:18)",
      "    at Kernel.onShellMessage (/usr/local/lib/node_modules/itypescript/node_modules/jp-kernel/lib/jp-kernel.js:285:41)",
      "    at Socket.<anonymous> (/usr/local/lib/node_modules/itypescript/node_modules/jmp/index.js:350:17)",
      "    at Socket.emit (node:events:513:28)",
      "    at Socket._emitMessage (/usr/local/lib/node_modules/itypescript/node_modules/zeromq/lib/index.js:649:15)"
     ]
    }
   ],
   "source": [
    "let user2 : People = { name : \"강호수\", age:43, job:\"데이터과학자\" };"
   ]
  },
  {
   "cell_type": "markdown",
   "id": "bc6dba0a-d917-4dba-b645-5adc35a9145b",
   "metadata": {},
   "source": [
    "### 다른 곳에 할당된 객체를 인터페이스 자료형에 할당\n",
    "\n",
    "- 이때는 속성의 구조 즉 인터페이스에 정의된 속성이 포함되면 할당이 가능"
   ]
  },
  {
   "cell_type": "code",
   "execution_count": 3,
   "id": "883d0f1f-b720-4c13-8129-8eddd0883806",
   "metadata": {},
   "outputs": [
    {
     "data": {
      "text/plain": [
       "undefined"
      ]
     },
     "execution_count": 3,
     "metadata": {},
     "output_type": "execute_result"
    }
   ],
   "source": [
    "let user3  = { name : \"강호수\", age:43, job:\"데이터과학자\" };"
   ]
  },
  {
   "cell_type": "code",
   "execution_count": 4,
   "id": "73331b2d-13fe-4579-9c54-43107b685319",
   "metadata": {},
   "outputs": [
    {
     "data": {
      "text/plain": [
       "undefined"
      ]
     },
     "execution_count": 4,
     "metadata": {},
     "output_type": "execute_result"
    }
   ],
   "source": [
    "let user4 : People = user3"
   ]
  },
  {
   "cell_type": "code",
   "execution_count": null,
   "id": "e6df401e-db19-4adb-8c11-89357fb94d59",
   "metadata": {},
   "outputs": [],
   "source": []
  },
  {
   "cell_type": "markdown",
   "id": "0396f54d-94a1-48d8-8df6-b814f2a131e9",
   "metadata": {},
   "source": [
    "## 1-3  함수의 매개변수에 자료형 지정하기 \n",
    "\n",
    "- 함수의 매개변수도 변수이므로 자료형을 인터페이스로 지정할 수 있다. "
   ]
  },
  {
   "cell_type": "markdown",
   "id": "ec0a7fa0-3ea3-4a9e-9f28-1c764143b88e",
   "metadata": {},
   "source": [
    "### 함수 매개변수에 인터페이스를 자료형으로 지정하기 "
   ]
  },
  {
   "cell_type": "code",
   "execution_count": 5,
   "id": "07df56ea-a588-4ef1-9c69-9936e182880f",
   "metadata": {},
   "outputs": [
    {
     "data": {
      "text/plain": [
       "undefined"
      ]
     },
     "execution_count": 5,
     "metadata": {},
     "output_type": "execute_result"
    }
   ],
   "source": [
    "function greet(someone:People) : void {\n",
    "    console.log(`${someone.name} 님 ${someone.age}세 입니다. `);\n",
    "}"
   ]
  },
  {
   "cell_type": "markdown",
   "id": "b23ee51b-a441-4286-9673-661678b23c19",
   "metadata": {},
   "source": [
    "### 동일한  속성을 가진 객체를 인자로 전달"
   ]
  },
  {
   "cell_type": "code",
   "execution_count": 10,
   "id": "608edc93-9b73-444d-ad99-d55bbfba4fa4",
   "metadata": {},
   "outputs": [
    {
     "name": "stdout",
     "output_type": "stream",
     "text": [
      "강인터 님 33세 입니다. \n"
     ]
    },
    {
     "data": {
      "text/plain": [
       "undefined"
      ]
     },
     "execution_count": 10,
     "metadata": {},
     "output_type": "execute_result"
    }
   ],
   "source": [
    "greet(user1);"
   ]
  },
  {
   "cell_type": "markdown",
   "id": "ac7b150f-eeac-4678-9618-f1ae42f4db50",
   "metadata": {},
   "source": [
    "### 매개변수의 초기값처럼 객체를 바로 넣는 경우는 동일한 속성만 처리\n",
    "\n",
    "- 초기값으로 처리할 때는 인터페이스와 속성과 객체 속성이 동일해야 함  "
   ]
  },
  {
   "cell_type": "code",
   "execution_count": 7,
   "id": "fd49ea12-e5de-4bf6-9a0c-5abd304055f1",
   "metadata": {},
   "outputs": [
    {
     "ename": "Error",
     "evalue": "Line 1, Character 29\ngreet({ name:\"강아지\", age:44, job:\"데이터엔지니어\" });\n____________________________^\nTS2345: Argument of type '{ name: string; age: number; job: string; }' is not assignable to parameter of type 'People'.\n  Object literal may only specify known properties, and 'job' does not exist in type 'People'.",
     "execution_count": 7,
     "output_type": "error",
     "traceback": [
      "Error: Line 1, Character 29",
      "greet({ name:\"강아지\", age:44, job:\"데이터엔지니어\" });",
      "____________________________^",
      "TS2345: Argument of type '{ name: string; age: number; job: string; }' is not assignable to parameter of type 'People'.",
      "  Object literal may only specify known properties, and 'job' does not exist in type 'People'.",
      "    at execTranspile (/usr/local/lib/node_modules/itypescript/lib/kernel.js:229:23)",
      "    at Session.transpiler [as transpile] (/usr/local/lib/node_modules/itypescript/lib/kernel.js:288:35)",
      "    at Session._runNow (/usr/local/lib/node_modules/itypescript/node_modules/nel/lib/nel.js:835:39)",
      "    at Session._run (/usr/local/lib/node_modules/itypescript/node_modules/nel/lib/nel.js:786:14)",
      "    at Session.execute (/usr/local/lib/node_modules/itypescript/node_modules/nel/lib/nel.js:929:10)",
      "    at Kernel.execute_request (/usr/local/lib/node_modules/itypescript/node_modules/jp-kernel/lib/handlers_v5.js:116:18)",
      "    at Kernel.onShellMessage (/usr/local/lib/node_modules/itypescript/node_modules/jp-kernel/lib/jp-kernel.js:285:41)",
      "    at Socket.<anonymous> (/usr/local/lib/node_modules/itypescript/node_modules/jmp/index.js:350:17)",
      "    at Socket.emit (node:events:513:28)",
      "    at Socket._emitMessage (/usr/local/lib/node_modules/itypescript/node_modules/zeromq/lib/index.js:649:15)"
     ]
    }
   ],
   "source": [
    "greet({ name:\"강아지\", age:44, job:\"데이터엔지니어\" });"
   ]
  },
  {
   "cell_type": "markdown",
   "id": "d021900d-e935-4896-853a-9debe0605c71",
   "metadata": {},
   "source": [
    "### 다른 곳에 정의된 객체인 경우는 에러 없이 가능 "
   ]
  },
  {
   "cell_type": "code",
   "execution_count": 11,
   "id": "5a2abac9-d836-4f6e-afae-5d3a9b908ce4",
   "metadata": {},
   "outputs": [
    {
     "name": "stdout",
     "output_type": "stream",
     "text": [
      "강호수 님 43세 입니다. \n"
     ]
    },
    {
     "data": {
      "text/plain": [
       "undefined"
      ]
     },
     "execution_count": 11,
     "metadata": {},
     "output_type": "execute_result"
    }
   ],
   "source": [
    "greet(user3);"
   ]
  },
  {
   "cell_type": "code",
   "execution_count": null,
   "id": "0393f867-2496-4c2d-8dff-5c98ec545b65",
   "metadata": {},
   "outputs": [],
   "source": []
  },
  {
   "cell_type": "markdown",
   "id": "3f2f5626-dbc1-4228-b8d9-9763b950da90",
   "metadata": {},
   "source": [
    "## 1-4. 인터페이스로 함수 반환타입 정의"
   ]
  },
  {
   "cell_type": "markdown",
   "id": "17226b87-75c9-4e1d-ba4b-11770166d8c2",
   "metadata": {},
   "source": [
    "### 반환값의 자료형 처리 "
   ]
  },
  {
   "cell_type": "code",
   "execution_count": 9,
   "id": "7a6456c2-a064-44da-8f7f-074d847f2d31",
   "metadata": {},
   "outputs": [
    {
     "data": {
      "text/plain": [
       "undefined"
      ]
     },
     "execution_count": 9,
     "metadata": {},
     "output_type": "execute_result"
    }
   ],
   "source": [
    "function createPeople(name:string, age:number) : People {\n",
    "    return {name, age};\n",
    "}"
   ]
  },
  {
   "cell_type": "code",
   "execution_count": 10,
   "id": "f9735d8f-d6f5-4b75-a74e-e2901ad4d215",
   "metadata": {},
   "outputs": [
    {
     "data": {
      "text/plain": [
       "{ name: '강사랑', age: 23 }"
      ]
     },
     "execution_count": 10,
     "metadata": {},
     "output_type": "execute_result"
    }
   ],
   "source": [
    "createPeople(\"강사랑\", 23);"
   ]
  },
  {
   "cell_type": "code",
   "execution_count": null,
   "id": "887dc870-bdc5-4599-89cf-b53cf165af8f",
   "metadata": {},
   "outputs": [],
   "source": []
  },
  {
   "cell_type": "code",
   "execution_count": null,
   "id": "61408870-5fac-4a22-b63a-8b56b417f6d7",
   "metadata": {},
   "outputs": [],
   "source": []
  },
  {
   "cell_type": "markdown",
   "id": "207c2fff-0495-4888-afd0-ed726af202f7",
   "metadata": {},
   "source": [
    "## 2. 인터페이스의 옵션 속성\n",
    "\n",
    "- 속성을 선택적으로 사용하고 싶을 때 속성이름 다음에 ?를 붙여서 지정\n",
    "- 옵션 속성은 반드시 지정할 필요가 없다. \n"
   ]
  },
  {
   "cell_type": "markdown",
   "id": "26e8bedd-e662-4394-9482-4cbc0641097a",
   "metadata": {},
   "source": [
    "### 옵션 속성을 인터페이스에 정의 "
   ]
  },
  {
   "cell_type": "code",
   "execution_count": 17,
   "id": "372c6cb6-58ce-4d66-931e-6abea623100c",
   "metadata": {},
   "outputs": [
    {
     "data": {
      "text/plain": [
       "undefined"
      ]
     },
     "execution_count": 17,
     "metadata": {},
     "output_type": "execute_result"
    }
   ],
   "source": [
    "interface Student {\n",
    "    name : string,\n",
    "    age : number,\n",
    "    colleage? : string         //옵션 정의 \n",
    "}"
   ]
  },
  {
   "cell_type": "markdown",
   "id": "911940ad-540d-4907-91d5-c1497933d432",
   "metadata": {},
   "source": [
    "### 함수 내의 옵션한 속성을 처리할 때 옵션을 처리하는 연산자로 처리 "
   ]
  },
  {
   "cell_type": "code",
   "execution_count": 12,
   "id": "07a81e98-cdfd-439d-bd5d-c4e37200041b",
   "metadata": {},
   "outputs": [
    {
     "data": {
      "text/plain": [
       "undefined"
      ]
     },
     "execution_count": 12,
     "metadata": {},
     "output_type": "execute_result"
    }
   ],
   "source": [
    "function getColleage(stt : Student) : void {\n",
    "    if (stt?.colleage) { \n",
    "        console.log(stt?.colleage);\n",
    "    } else {\n",
    "        console.log(\"미진학\");\n",
    "    }\n",
    "}"
   ]
  },
  {
   "cell_type": "markdown",
   "id": "6c0a898c-8682-45c2-8b01-db0a8436f5ed",
   "metadata": {},
   "source": [
    "### 전체 속성을 가진 객체 생성하기 "
   ]
  },
  {
   "cell_type": "code",
   "execution_count": 13,
   "id": "3aca3af1-46b5-411d-9319-71621edf8059",
   "metadata": {},
   "outputs": [
    {
     "data": {
      "text/plain": [
       "undefined"
      ]
     },
     "execution_count": 13,
     "metadata": {},
     "output_type": "execute_result"
    }
   ],
   "source": [
    "let student : Student = {name:\"고학생\", age:20, colleage:\"타입대\" };"
   ]
  },
  {
   "cell_type": "markdown",
   "id": "f871cde5-dcdb-4fc8-876f-8b9f298145d3",
   "metadata": {},
   "source": [
    "### 함수 호출\n",
    "- 옵션 속성에 값이 있으므로 속성을 출력"
   ]
  },
  {
   "cell_type": "code",
   "execution_count": 14,
   "id": "906208e7-5f81-4592-8a77-847190cfe558",
   "metadata": {},
   "outputs": [
    {
     "name": "stdout",
     "output_type": "stream",
     "text": [
      "타입대\n"
     ]
    },
    {
     "data": {
      "text/plain": [
       "undefined"
      ]
     },
     "execution_count": 14,
     "metadata": {},
     "output_type": "execute_result"
    }
   ],
   "source": [
    "getColleage(student);"
   ]
  },
  {
   "cell_type": "markdown",
   "id": "64860af9-fad0-4b44-be72-a97823c7a4f4",
   "metadata": {},
   "source": [
    "### 옵션속성을 제외한 객체를 생성하기 "
   ]
  },
  {
   "cell_type": "code",
   "execution_count": 15,
   "id": "d41e4a9e-9d2a-4ecf-8827-a9fe509aa5d8",
   "metadata": {},
   "outputs": [
    {
     "data": {
      "text/plain": [
       "undefined"
      ]
     },
     "execution_count": 15,
     "metadata": {},
     "output_type": "execute_result"
    }
   ],
   "source": [
    "let student2 : Student = {name: \"무대학\", age: 18 };"
   ]
  },
  {
   "cell_type": "markdown",
   "id": "a534da1b-01cc-4001-8b15-e9a7d9825123",
   "metadata": {},
   "source": [
    "### 함수를 호출\n",
    "- 옵션속성에 값이 없으므로 미진학 출력 "
   ]
  },
  {
   "cell_type": "code",
   "execution_count": 16,
   "id": "4242018e-69e6-472e-a172-67bf50bdb8d1",
   "metadata": {},
   "outputs": [
    {
     "name": "stdout",
     "output_type": "stream",
     "text": [
      "미진학\n"
     ]
    },
    {
     "data": {
      "text/plain": [
       "undefined"
      ]
     },
     "execution_count": 16,
     "metadata": {},
     "output_type": "execute_result"
    }
   ],
   "source": [
    "getColleage(student2);"
   ]
  },
  {
   "cell_type": "code",
   "execution_count": null,
   "id": "8d0211c5-a23b-4066-9423-500f12f746a6",
   "metadata": {},
   "outputs": [],
   "source": []
  },
  {
   "cell_type": "code",
   "execution_count": null,
   "id": "30a24b1d-d9b1-44b6-b473-41fae3a36328",
   "metadata": {},
   "outputs": [],
   "source": []
  }
 ],
 "metadata": {
  "kernelspec": {
   "display_name": "Typescript 4.9",
   "language": "typescript",
   "name": "typescript"
  },
  "language_info": {
   "file_extension": ".ts",
   "mimetype": "application/x-typescript",
   "name": "typescript",
   "version": "4.9.5"
  }
 },
 "nbformat": 4,
 "nbformat_minor": 5
}
