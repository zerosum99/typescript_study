{
 "cells": [
  {
   "cell_type": "code",
   "execution_count": null,
   "id": "bf85dbdc-8d29-4d93-a6eb-c5f6d9090daf",
   "metadata": {},
   "outputs": [],
   "source": []
  },
  {
   "cell_type": "code",
   "execution_count": null,
   "id": "49761660-2e37-41b5-af14-b8d3b7efc390",
   "metadata": {},
   "outputs": [],
   "source": []
  },
  {
   "cell_type": "markdown",
   "id": "a9b81d0c-18d1-4d98-96ff-ffbabd5a12a1",
   "metadata": {},
   "source": [
    "## 2. 클래스 메서드\n",
    "\n",
    "-  클래스 내에서 정의된 함수로, 해당 클래스의 인스턴스가 아닌 클래스 자체에 속한 동작을 수행하는 함수입니다.\n",
    "-  클래스 메서드는 static 키워드를 사용하여 정의하며, 클래스명을 통해 호출됩니다.\n",
    "-  클래스 메서드는 인스턴스에 속하지 않으므로, 인스턴스의 프로퍼티에 접근할 수 없습니다."
   ]
  },
  {
   "cell_type": "code",
   "execution_count": 7,
   "id": "175773f4-2d67-4d61-9124-98de5d3ad74e",
   "metadata": {},
   "outputs": [
    {
     "data": {
      "text/plain": [
       "undefined"
      ]
     },
     "execution_count": 7,
     "metadata": {},
     "output_type": "execute_result"
    }
   ],
   "source": [
    "class MathUtils {\n",
    "    static add(x: number, y: number): number {\n",
    "        return x + y;\n",
    "    }\n",
    "\n",
    "    static subtract(x: number, y: number): number {\n",
    "        return x - y;\n",
    "    }\n",
    "}\n",
    "\n",
    "const result1 = MathUtils.add(10, 5);      // 15\n",
    "const result2 = MathUtils.subtract(20, 8); // 12\n"
   ]
  },
  {
   "cell_type": "code",
   "execution_count": null,
   "id": "4943fcc6-e925-4668-8891-76be111ed3b7",
   "metadata": {},
   "outputs": [],
   "source": []
  },
  {
   "cell_type": "markdown",
   "id": "221c04f6-7140-4d2c-bdcd-8580bb4e7c5d",
   "metadata": {},
   "source": [
    "## 3. 인스턴스 메서드(Instance Method)와 클래스 메서드(Class Method)\n",
    "    \n",
    "\n",
    "### 호출 방식:\n",
    "\n",
    "- 인스턴스 메서드: 인스턴스 메서드는 클래스의 인스턴스에 속한 메서드로, 인스턴스를 생성한 후에 해당 인스턴스에서 호출됩니다. 인스턴스 메서드는 인스턴스의 프로퍼티에 접근할 수 있습니다.\n",
    "- 클래스 메서드: 클래스 메서드는 클래스 자체에 속한 메서드로, 클래스명을 통해 호출됩니다. 클래스 메서드는 인스턴스와 무관하게 동작하며, 인스턴스의 프로퍼티에 접근할 수 없습니다.\n",
    "\n",
    "### 메서드의 범위:\n",
    "\n",
    "- 인스턴스 메서드: 인스턴스 메서드는 각각의 인스턴스에 대해 별도로 동작하며, 인스턴스의 상태와 데이터에 접근할 수 있습니다. 메서드 내에서 this 키워드는 해당 메서드를 호출한 인스턴스를 참조합니다.\n",
    "- 클래스 메서드: 클래스 메서드는 클래스 전체에 대한 동작을 수행하며, 특정 인스턴스의 상태에는 접근할 수 없습니다. 메서드 내에서 this 키워드는 클래스 자체를 참조합니다."
   ]
  },
  {
   "cell_type": "code",
   "execution_count": 6,
   "id": "68eca1b1-5f96-4b3b-8470-4c3969014452",
   "metadata": {},
   "outputs": [
    {
     "data": {
      "text/plain": [
       "undefined"
      ]
     },
     "execution_count": 6,
     "metadata": {},
     "output_type": "execute_result"
    }
   ],
   "source": [
    "class Circle {\n",
    "    radius: number;\n",
    "\n",
    "    constructor(radius: number) {\n",
    "        this.radius = radius;\n",
    "    }\n",
    "\n",
    "    // 인스턴스 메서드\n",
    "    calculateArea() {\n",
    "        return Math.PI * this.radius * this.radius;\n",
    "    }\n",
    "\n",
    "    // 클래스 메서드\n",
    "    static compareCircles(circle1: Circle, circle2: Circle) {\n",
    "        return circle1.radius > circle2.radius ? 1 : -1;\n",
    "    }\n",
    "}\n"
   ]
  },
  {
   "cell_type": "code",
   "execution_count": 7,
   "id": "9a9660f2-c707-4f5c-abdb-f23a55f9c4a4",
   "metadata": {},
   "outputs": [
    {
     "data": {
      "text/plain": [
       "undefined"
      ]
     },
     "execution_count": 7,
     "metadata": {},
     "output_type": "execute_result"
    }
   ],
   "source": [
    "const circle1 = new Circle(5);\n",
    "const circle2 = new Circle(10);\n"
   ]
  },
  {
   "cell_type": "code",
   "execution_count": 8,
   "id": "9ef1ac3d-e78b-45dd-85d4-f4f904801aaf",
   "metadata": {},
   "outputs": [
    {
     "data": {
      "text/plain": [
       "undefined"
      ]
     },
     "execution_count": 8,
     "metadata": {},
     "output_type": "execute_result"
    }
   ],
   "source": [
    "const area1 = circle1.calculateArea(); // 인스턴스 메서드 호출\n",
    "const area2 = circle2.calculateArea(); // 인스턴스 메서드 호출"
   ]
  },
  {
   "cell_type": "code",
   "execution_count": 9,
   "id": "0eab17c7-7ac8-47fb-89fa-fd0ade695b4b",
   "metadata": {},
   "outputs": [
    {
     "data": {
      "text/plain": [
       "78.53981633974483"
      ]
     },
     "execution_count": 9,
     "metadata": {},
     "output_type": "execute_result"
    }
   ],
   "source": [
    "area1"
   ]
  },
  {
   "cell_type": "code",
   "execution_count": 10,
   "id": "c7d7bf3b-9bff-472a-9c63-66b97ce7e84a",
   "metadata": {},
   "outputs": [
    {
     "data": {
      "text/plain": [
       "314.1592653589793"
      ]
     },
     "execution_count": 10,
     "metadata": {},
     "output_type": "execute_result"
    }
   ],
   "source": [
    "area2"
   ]
  },
  {
   "cell_type": "code",
   "execution_count": null,
   "id": "dda1ca02-60a5-4523-8574-08115f84a385",
   "metadata": {},
   "outputs": [],
   "source": []
  },
  {
   "cell_type": "code",
   "execution_count": 11,
   "id": "b656e3ee-1f30-4dea-83d9-282eb290c15f",
   "metadata": {},
   "outputs": [
    {
     "data": {
      "text/plain": [
       "undefined"
      ]
     },
     "execution_count": 11,
     "metadata": {},
     "output_type": "execute_result"
    }
   ],
   "source": [
    "const largerCircle = Circle.compareCircles(circle1, circle2); // 클래스 메서드 호출"
   ]
  },
  {
   "cell_type": "code",
   "execution_count": 12,
   "id": "927957d6-abca-4987-85b8-d03972473608",
   "metadata": {},
   "outputs": [
    {
     "data": {
      "text/plain": [
       "-1"
      ]
     },
     "execution_count": 12,
     "metadata": {},
     "output_type": "execute_result"
    }
   ],
   "source": [
    "largerCircle"
   ]
  },
  {
   "cell_type": "code",
   "execution_count": null,
   "id": "ef6d7e9e-f9f7-4578-b786-9005bee823e7",
   "metadata": {},
   "outputs": [],
   "source": []
  }
 ],
 "metadata": {
  "kernelspec": {
   "display_name": "Typescript 4.9",
   "language": "typescript",
   "name": "typescript"
  },
  "language_info": {
   "file_extension": ".ts",
   "mimetype": "application/x-typescript",
   "name": "typescript",
   "version": "4.9.5"
  }
 },
 "nbformat": 4,
 "nbformat_minor": 5
}
