{
 "cells": [
  {
   "cell_type": "code",
   "execution_count": null,
   "id": "63e67e61-6009-4cc8-99f3-12c5f647504e",
   "metadata": {},
   "outputs": [],
   "source": []
  },
  {
   "cell_type": "markdown",
   "id": "bcc05699-69b3-4fae-91dc-5afeaa5b5a1f",
   "metadata": {},
   "source": [
    "## 1. 함수 표현식\n",
    "    \n",
    "- 타입스크립트와 자바스크립트에서 함수를 선언하는 또 다른 방법입니다. \n",
    "- 일반적으로 함수 선언문과 함께 사용되며, 변수에 함수를 할당하여 사용합니다."
   ]
  },
  {
   "cell_type": "code",
   "execution_count": null,
   "id": "d44b9919-7832-4ee8-bb1d-2f0f6bfd3270",
   "metadata": {},
   "outputs": [],
   "source": []
  },
  {
   "cell_type": "markdown",
   "id": "81949d02-b4b3-4590-8043-c5c607439031",
   "metadata": {},
   "source": [
    "## 1-1 이름있는 함수 표현식 "
   ]
  },
  {
   "cell_type": "code",
   "execution_count": 3,
   "id": "ce7017f0-ad5f-4aec-b702-321aab8b3c92",
   "metadata": {},
   "outputs": [
    {
     "name": "stdout",
     "output_type": "stream",
     "text": [
      "8\n"
     ]
    },
    {
     "data": {
      "text/plain": [
       "undefined"
      ]
     },
     "execution_count": 3,
     "metadata": {},
     "output_type": "execute_result"
    }
   ],
   "source": [
    "const add = function sum(x: number, y: number): number { \n",
    "    return x + y ;\n",
    "};\n",
    "\n",
    "console.log(add(3, 5)); // 결과: 8\n",
    "// console.log(sum(3, 5)); // 에러: sum is not defined\n"
   ]
  },
  {
   "cell_type": "markdown",
   "id": "2e379d11-ec3e-476e-9821-0ef381c47af7",
   "metadata": {},
   "source": [
    "### 이름있는 함수표현식이지만 함수이름으로 호출할 수 없다"
   ]
  },
  {
   "cell_type": "code",
   "execution_count": 4,
   "id": "19ab040d-fbe6-43d1-b11e-68be5ee2e271",
   "metadata": {},
   "outputs": [
    {
     "ename": "Error",
     "evalue": "Line 1, Character 22\nconsole.log(sum(3, 5)\n_____________________^\nTS1005: ')' expected.\n\nLine 1, Character 13\nconsole.log(sum(3, 5)\n____________^\nTS2304: Cannot find name 'sum'.",
     "execution_count": 4,
     "output_type": "error",
     "traceback": [
      "Error: Line 1, Character 22",
      "console.log(sum(3, 5)",
      "_____________________^",
      "TS1005: ')' expected.",
      "",
      "Line 1, Character 13",
      "console.log(sum(3, 5)",
      "____________^",
      "TS2304: Cannot find name 'sum'.",
      "    at execTranspile (/usr/local/lib/node_modules/itypescript/lib/kernel.js:229:23)",
      "    at Session.transpiler [as transpile] (/usr/local/lib/node_modules/itypescript/lib/kernel.js:288:35)",
      "    at Session._runNow (/usr/local/lib/node_modules/itypescript/node_modules/nel/lib/nel.js:835:39)",
      "    at Session._run (/usr/local/lib/node_modules/itypescript/node_modules/nel/lib/nel.js:786:14)",
      "    at Session.execute (/usr/local/lib/node_modules/itypescript/node_modules/nel/lib/nel.js:929:10)",
      "    at Kernel.execute_request (/usr/local/lib/node_modules/itypescript/node_modules/jp-kernel/lib/handlers_v5.js:116:18)",
      "    at Kernel.onShellMessage (/usr/local/lib/node_modules/itypescript/node_modules/jp-kernel/lib/jp-kernel.js:285:41)",
      "    at Socket.<anonymous> (/usr/local/lib/node_modules/itypescript/node_modules/jmp/index.js:350:17)",
      "    at Socket.emit (node:events:513:28)",
      "    at Socket._emitMessage (/usr/local/lib/node_modules/itypescript/node_modules/zeromq/lib/index.js:649:15)"
     ]
    }
   ],
   "source": [
    "console.log(sum(3, 5)"
   ]
  },
  {
   "cell_type": "code",
   "execution_count": null,
   "id": "454bb658-ef8a-47e0-9664-368df5c6e485",
   "metadata": {},
   "outputs": [],
   "source": []
  },
  {
   "cell_type": "markdown",
   "id": "1aa8755f-7915-49b4-8755-bfe219e3c1e3",
   "metadata": {},
   "source": [
    "## 1-2  이름없는 함수표현식 "
   ]
  },
  {
   "cell_type": "code",
   "execution_count": 5,
   "id": "6a29fafc-41f9-43d5-b86c-bf7936f5503c",
   "metadata": {},
   "outputs": [
    {
     "data": {
      "text/plain": [
       "undefined"
      ]
     },
     "execution_count": 5,
     "metadata": {},
     "output_type": "execute_result"
    }
   ],
   "source": [
    "// 함수 표현식\n",
    "const add2 = function(x: number, y: number): number {\n",
    "    return x + y;\n",
    "};\n",
    "\n",
    "// 함수 호출\n",
    "const result2 = add(3, 5); // 결과: 8\n"
   ]
  },
  {
   "cell_type": "code",
   "execution_count": 6,
   "id": "f2ddc93e-7e0d-4fd7-aca7-6c5c7e5e04a1",
   "metadata": {},
   "outputs": [
    {
     "data": {
      "text/plain": [
       "8"
      ]
     },
     "execution_count": 6,
     "metadata": {},
     "output_type": "execute_result"
    }
   ],
   "source": [
    "result2"
   ]
  },
  {
   "cell_type": "code",
   "execution_count": null,
   "id": "5e430389-5848-4ee2-b551-81bfe3cc176f",
   "metadata": {},
   "outputs": [],
   "source": []
  },
  {
   "cell_type": "markdown",
   "id": "b474ccdc-2370-4794-bca9-701866d3b3ac",
   "metadata": {},
   "source": [
    "## 2. 화살표 함수 \n",
    "\n",
    "- 화살표 함수(arrow function)는 ES6(ECMAScript 2015)부터 도입된 새로운 함수 선언 방식입니다. \n",
    "- 기존의 함수 선언문과 함수 표현식보다 간결한 문법을 제공하며, 함수의 this 동작도 다르게 처리됩니다."
   ]
  },
  {
   "cell_type": "markdown",
   "id": "9f9641d9-2618-4e9f-9ddb-bea97f71ef08",
   "metadata": {},
   "source": [
    "## 타입스크립트의 화살표 함수 정의 "
   ]
  },
  {
   "cell_type": "code",
   "execution_count": 8,
   "id": "30a8eca5-7125-453f-9719-53c65043b68f",
   "metadata": {},
   "outputs": [
    {
     "data": {
      "text/plain": [
       "undefined"
      ]
     },
     "execution_count": 8,
     "metadata": {},
     "output_type": "execute_result"
    }
   ],
   "source": [
    "const functionName = (parameters:number) => {\n",
    "    // 함수 내용\n",
    "    return parameters;\n",
    "};\n"
   ]
  },
  {
   "cell_type": "code",
   "execution_count": null,
   "id": "074537bc-eeab-4d50-b57e-4e707f6ac7cf",
   "metadata": {},
   "outputs": [],
   "source": []
  },
  {
   "cell_type": "markdown",
   "id": "86accce6-2924-462d-a1db-c27a3bec111e",
   "metadata": {},
   "source": [
    "## 화살표 함수의 특징:\n",
    "\n",
    "- 간결한 문법: 함수의 선언이나 표현식을 간결하게 작성할 수 있습니다.\n",
    "- this 바인딩: 화살표 함수는 자체적인 this를 가지지 않고, 외부의 스코프에서 this를 상속받습니다. 이로 인해 함수 내부에서의 this 동작이 일반적인 함수와 다르게 동작합니다.\n",
    "- 반환 구문 단축: 함수 내부가 반환문 하나만을 포함하면, 중괄호와 return 키워드를 생략할 수 있습니다."
   ]
  },
  {
   "cell_type": "code",
   "execution_count": 12,
   "id": "566f201c-05f8-47e4-8a2b-c1ca16e08abd",
   "metadata": {},
   "outputs": [
    {
     "data": {
      "text/plain": [
       "undefined"
      ]
     },
     "execution_count": 12,
     "metadata": {},
     "output_type": "execute_result"
    }
   ],
   "source": [
    "// 일반 함수 표현식\n",
    "const add4 = function(x : number, y : number) {\n",
    "    return x + y;\n",
    "};\n",
    "\n",
    "// 화살표 함수 표현식\n",
    "const addArrow = (x: number, y: number) => x + y;\n"
   ]
  },
  {
   "cell_type": "code",
   "execution_count": 13,
   "id": "a2a450f3-5312-41f5-b817-5add432de924",
   "metadata": {},
   "outputs": [
    {
     "data": {
      "text/plain": [
       "300"
      ]
     },
     "execution_count": 13,
     "metadata": {},
     "output_type": "execute_result"
    }
   ],
   "source": [
    "add4(100,200);"
   ]
  },
  {
   "cell_type": "code",
   "execution_count": 14,
   "id": "337ad0ba-16b2-44fb-8e00-8557953f2645",
   "metadata": {},
   "outputs": [
    {
     "data": {
      "text/plain": [
       "700"
      ]
     },
     "execution_count": 14,
     "metadata": {},
     "output_type": "execute_result"
    }
   ],
   "source": [
    "addArrow(300,400);"
   ]
  },
  {
   "cell_type": "code",
   "execution_count": null,
   "id": "20069877-c9f2-46b4-b365-513497787b4d",
   "metadata": {},
   "outputs": [],
   "source": []
  },
  {
   "cell_type": "markdown",
   "id": "1c102557-c3ba-42ce-9d76-f0051e481d92",
   "metadata": {},
   "source": [
    "## this 바인딩 비교"
   ]
  },
  {
   "cell_type": "code",
   "execution_count": null,
   "id": "aa51a237-adb1-4a5a-b43a-eec9d82f7dfb",
   "metadata": {},
   "outputs": [],
   "source": []
  },
  {
   "cell_type": "code",
   "execution_count": 1,
   "id": "267b67d3-7a5b-4326-8b41-728fc1ba99fd",
   "metadata": {},
   "outputs": [
    {
     "ename": "Error",
     "evalue": "Line 2, Character 17\n    console.log(this); // 함수를 호출한 컨텍스트 (전역 객체 또는 호출한 객체)\n________________^\nTS2683: 'this' implicitly has type 'any' because it does not have a type annotation.",
     "execution_count": 1,
     "output_type": "error",
     "traceback": [
      "Error: Line 2, Character 17",
      "    console.log(this); // 함수를 호출한 컨텍스트 (전역 객체 또는 호출한 객체)",
      "________________^",
      "TS2683: 'this' implicitly has type 'any' because it does not have a type annotation.",
      "    at execTranspile (/usr/local/lib/node_modules/itypescript/lib/kernel.js:229:23)",
      "    at Session.transpiler [as transpile] (/usr/local/lib/node_modules/itypescript/lib/kernel.js:288:35)",
      "    at Session._runNow (/usr/local/lib/node_modules/itypescript/node_modules/nel/lib/nel.js:835:39)",
      "    at Session._run (/usr/local/lib/node_modules/itypescript/node_modules/nel/lib/nel.js:786:14)",
      "    at Session.execute (/usr/local/lib/node_modules/itypescript/node_modules/nel/lib/nel.js:929:10)",
      "    at Kernel.execute_request (/usr/local/lib/node_modules/itypescript/node_modules/jp-kernel/lib/handlers_v5.js:116:18)",
      "    at Kernel.onShellMessage (/usr/local/lib/node_modules/itypescript/node_modules/jp-kernel/lib/jp-kernel.js:285:41)",
      "    at Socket.<anonymous> (/usr/local/lib/node_modules/itypescript/node_modules/jmp/index.js:350:17)",
      "    at Socket.emit (node:events:513:28)",
      "    at Socket._emitMessage (/usr/local/lib/node_modules/itypescript/node_modules/zeromq/lib/index.js:649:15)"
     ]
    }
   ],
   "source": [
    "function regularFunction() {\n",
    "    console.log(this); // 함수를 호출한 컨텍스트 (전역 객체 또는 호출한 객체)\n",
    "}\n",
    "\n",
    "regularFunction(); // 전역 객체 (예: 브라우저에서는 window)"
   ]
  },
  {
   "cell_type": "code",
   "execution_count": null,
   "id": "c2421bf1-22f2-49fa-84c9-77523e36ab95",
   "metadata": {},
   "outputs": [],
   "source": []
  },
  {
   "cell_type": "code",
   "execution_count": 1,
   "id": "5594e3ef-b8ef-488d-a6ce-09699b3cc0b7",
   "metadata": {},
   "outputs": [
    {
     "ename": "Error",
     "evalue": "Line 2, Character 17\n    console.log(this); // 함수가 선언된 컨텍스트 (화살표 함수가 정의된 스코프)\n________________^\nTS7041: The containing arrow function captures the global value of 'this'.",
     "execution_count": 1,
     "output_type": "error",
     "traceback": [
      "Error: Line 2, Character 17",
      "    console.log(this); // 함수가 선언된 컨텍스트 (화살표 함수가 정의된 스코프)",
      "________________^",
      "TS7041: The containing arrow function captures the global value of 'this'.",
      "    at execTranspile (/usr/local/lib/node_modules/itypescript/lib/kernel.js:229:23)",
      "    at Session.transpiler [as transpile] (/usr/local/lib/node_modules/itypescript/lib/kernel.js:288:35)",
      "    at Session._runNow (/usr/local/lib/node_modules/itypescript/node_modules/nel/lib/nel.js:835:39)",
      "    at Session._run (/usr/local/lib/node_modules/itypescript/node_modules/nel/lib/nel.js:786:14)",
      "    at Session.execute (/usr/local/lib/node_modules/itypescript/node_modules/nel/lib/nel.js:929:10)",
      "    at Kernel.execute_request (/usr/local/lib/node_modules/itypescript/node_modules/jp-kernel/lib/handlers_v5.js:116:18)",
      "    at Kernel.onShellMessage (/usr/local/lib/node_modules/itypescript/node_modules/jp-kernel/lib/jp-kernel.js:285:41)",
      "    at Socket.<anonymous> (/usr/local/lib/node_modules/itypescript/node_modules/jmp/index.js:350:17)",
      "    at Socket.emit (node:events:513:28)",
      "    at Socket._emitMessage (/usr/local/lib/node_modules/itypescript/node_modules/zeromq/lib/index.js:649:15)"
     ]
    }
   ],
   "source": [
    "const arrowFunction = () => {\n",
    "    console.log(this); // 함수가 선언된 컨텍스트 (화살표 함수가 정의된 스코프)\n",
    "};\n",
    "\n",
    "arrowFunction(); // 화살표 함수가 정의된 스코프의 컨텍스트\n"
   ]
  },
  {
   "cell_type": "code",
   "execution_count": null,
   "id": "948d7f90-777c-4ba3-8b3d-b941b29cacdb",
   "metadata": {},
   "outputs": [],
   "source": []
  },
  {
   "cell_type": "code",
   "execution_count": 3,
   "id": "1aa53c5e-3604-436a-8586-701acb06e57c",
   "metadata": {},
   "outputs": [
    {
     "ename": "Error",
     "evalue": "Line 6, Character 19\n    arrowMethod: (this: any) => {\n__________________^\nTS2730: An arrow function cannot have a 'this' parameter.\n\nLine 7, Character 21\n        console.log(this.name); // MyObject\n____________________^\nTS7041: The containing arrow function captures the global value of 'this'.\n\nLine 7, Character 26\n        console.log(this.name); // MyObject\n_________________________^\nTS2339: Property 'name' does not exist on type 'typeof globalThis'.\n\nLine 12, Character 18\nobj2.arrowMethod(obj2);\n_________________^\nTS2554: Expected 0 arguments, but got 1.",
     "execution_count": 3,
     "output_type": "error",
     "traceback": [
      "Error: Line 6, Character 19",
      "    arrowMethod: (this: any) => {",
      "__________________^",
      "TS2730: An arrow function cannot have a 'this' parameter.",
      "",
      "Line 7, Character 21",
      "        console.log(this.name); // MyObject",
      "____________________^",
      "TS7041: The containing arrow function captures the global value of 'this'.",
      "",
      "Line 7, Character 26",
      "        console.log(this.name); // MyObject",
      "_________________________^",
      "TS2339: Property 'name' does not exist on type 'typeof globalThis'.",
      "",
      "Line 12, Character 18",
      "obj2.arrowMethod(obj2);",
      "_________________^",
      "TS2554: Expected 0 arguments, but got 1.",
      "    at execTranspile (/usr/local/lib/node_modules/itypescript/lib/kernel.js:229:23)",
      "    at Session.transpiler [as transpile] (/usr/local/lib/node_modules/itypescript/lib/kernel.js:288:35)",
      "    at Session._runNow (/usr/local/lib/node_modules/itypescript/node_modules/nel/lib/nel.js:835:39)",
      "    at Session._run (/usr/local/lib/node_modules/itypescript/node_modules/nel/lib/nel.js:786:14)",
      "    at Session.execute (/usr/local/lib/node_modules/itypescript/node_modules/nel/lib/nel.js:929:10)",
      "    at Kernel.execute_request (/usr/local/lib/node_modules/itypescript/node_modules/jp-kernel/lib/handlers_v5.js:116:18)",
      "    at Kernel.onShellMessage (/usr/local/lib/node_modules/itypescript/node_modules/jp-kernel/lib/jp-kernel.js:285:41)",
      "    at Socket.<anonymous> (/usr/local/lib/node_modules/itypescript/node_modules/jmp/index.js:350:17)",
      "    at Socket.emit (node:events:513:28)",
      "    at Socket._emitMessage (/usr/local/lib/node_modules/itypescript/node_modules/zeromq/lib/index.js:649:15)"
     ]
    }
   ],
   "source": [
    "const obj2 = {\n",
    "    name: \"MyObject\",\n",
    "    regularMethod: function() {\n",
    "        console.log(this.name); // MyObject\n",
    "    },\n",
    "    arrowMethod: (this: any) => {\n",
    "        console.log(this.name); // MyObject\n",
    "    }\n",
    "};\n",
    "\n",
    "obj2.regularMethod();\n",
    "obj2.arrowMethod(obj2);\n"
   ]
  },
  {
   "cell_type": "code",
   "execution_count": null,
   "id": "ceea40e9-cdc3-4de5-86d0-34511903711f",
   "metadata": {},
   "outputs": [],
   "source": []
  }
 ],
 "metadata": {
  "kernelspec": {
   "display_name": "Typescript 4.9",
   "language": "typescript",
   "name": "typescript"
  },
  "language_info": {
   "file_extension": ".ts",
   "mimetype": "application/x-typescript",
   "name": "typescript",
   "version": "4.9.5"
  }
 },
 "nbformat": 4,
 "nbformat_minor": 5
}
