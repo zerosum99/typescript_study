{
 "cells": [
  {
   "cell_type": "code",
   "execution_count": null,
   "id": "a0c7fa66-4baa-408b-8dde-4f310fbf3684",
   "metadata": {},
   "outputs": [],
   "source": []
  },
  {
   "cell_type": "code",
   "execution_count": null,
   "id": "96c02e0d-ba5e-45b3-9de8-c1c42af79a62",
   "metadata": {},
   "outputs": [],
   "source": []
  },
  {
   "cell_type": "markdown",
   "id": "cc2279cc-175e-4bc1-b0af-6677ca959d74",
   "metadata": {},
   "source": [
    "\n",
    "## 1. 타입스크립트에서 할당 가능성(assignment compatibility)\n",
    "    \n",
    "- 변수나 표현식을 다른 변수나 매개변수에 할당하거나 전달할 수 있는지를 판단하는 개념입니다. \n",
    "- 이는 타입 시스템의 중요한 부분 중 하나이며, 코드의 안정성을 보장하고 예기치 않은 타입 오류를 방지하는 데 도움이 됩니다.\n",
    "\n",
    "\n",
    "    "
   ]
  },
  {
   "cell_type": "code",
   "execution_count": null,
   "id": "eff2f5bb-1f77-4367-ae24-c80d366ad70f",
   "metadata": {},
   "outputs": [],
   "source": []
  },
  {
   "cell_type": "markdown",
   "id": "28ac963e-b7a7-47db-a0d0-676c728aaabe",
   "metadata": {},
   "source": [
    "## 1-1 값의 할당 가능성: \n",
    "- 어떤 값이 다른 값에 할당될 때, 값의 타입과 할당받는 변수 또는 매개변수의 타입을 비교합니다. \n",
    "    \n",
    "### 이때 다음 규칙을 따릅니다:\n",
    "\n",
    "- 값의 타입이 할당받는 변수 또는 매개변수의 타입과 같거나 하위 타입(subtype)이면 할당이 가능합니다.\n",
    "- 값의 타입이 할당받는 변수 또는 매개변수의 타입과 호환되지 않으면 할당이 불가능합니다.\n"
   ]
  },
  {
   "cell_type": "code",
   "execution_count": 1,
   "id": "c78fa3ec-0785-4c8a-8fd1-18c4f3ec2b15",
   "metadata": {},
   "outputs": [
    {
     "data": {
      "text/plain": [
       "'use strict'"
      ]
     },
     "execution_count": 1,
     "metadata": {},
     "output_type": "execute_result"
    }
   ],
   "source": [
    "let num: number = 5;\n",
    "let anyValue: any = num; // number는 any에 할당 가능"
   ]
  },
  {
   "cell_type": "code",
   "execution_count": null,
   "id": "aa414b9c-90e8-4909-a67a-f7977fbd7ff1",
   "metadata": {},
   "outputs": [],
   "source": []
  },
  {
   "cell_type": "markdown",
   "id": "9e54b406-c493-4de3-86df-83935810fbe2",
   "metadata": {},
   "source": [
    "## 1-2 함수 할당 가능성: \n",
    "\n",
    "- 함수의 반환 타입 및 매개변수 타입과 관련된 할당 가능성입니다. \n",
    "    \n",
    "### 함수 할당 가능성은 다음과 같은 규칙을 따릅니다:\n",
    "\n",
    "- 함수의 반환 타입이 할당받는 변수 또는 매개변수의 타입과 같거나 상위 타입(super type)이면 할당이 가능합니다.\n",
    "- 함수의 매개변수 타입이 할당받는 변수 또는 매개변수의 타입과 같거나 하위 타입이면 할당이 가능합니다."
   ]
  },
  {
   "cell_type": "code",
   "execution_count": 2,
   "id": "6c6dfbb6-2bf1-40ae-9ff1-bde08f7b139c",
   "metadata": {},
   "outputs": [
    {
     "data": {
      "text/plain": [
       "undefined"
      ]
     },
     "execution_count": 2,
     "metadata": {},
     "output_type": "execute_result"
    }
   ],
   "source": [
    "function greet(name: string): void {\n",
    "    console.log(`Hello, ${name}!`);\n",
    "}\n",
    "\n",
    "let greetFunc: (name: string) => void = greet; // 함수 할당 가능"
   ]
  },
  {
   "cell_type": "code",
   "execution_count": null,
   "id": "e1914de4-25ae-42b8-a5a2-8c87003507bf",
   "metadata": {},
   "outputs": [],
   "source": []
  }
 ],
 "metadata": {
  "kernelspec": {
   "display_name": "Typescript 4.9",
   "language": "typescript",
   "name": "typescript"
  },
  "language_info": {
   "file_extension": ".ts",
   "mimetype": "application/x-typescript",
   "name": "typescript",
   "version": "4.9.5"
  }
 },
 "nbformat": 4,
 "nbformat_minor": 5
}
