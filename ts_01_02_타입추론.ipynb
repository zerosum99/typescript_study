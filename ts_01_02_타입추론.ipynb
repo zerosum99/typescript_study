{
 "cells": [
  {
   "cell_type": "code",
   "execution_count": null,
   "id": "e78e4ffa-248d-4df2-bdd5-d636a8d36495",
   "metadata": {},
   "outputs": [],
   "source": []
  },
  {
   "cell_type": "markdown",
   "id": "a60a59b3-52ef-40ea-9ff8-17c91fc0871b",
   "metadata": {},
   "source": [
    "## 타입 추론(Type Inference)\n",
    "-  타입 추론이란 타입스크립트가 코드를 해석해 나가는 동작을 의미합니다"
   ]
  },
  {
   "cell_type": "markdown",
   "id": "2932d73a-9ee8-4252-a531-7cbcf31de54b",
   "metadata": {},
   "source": [
    "## 1. 변수에 초기값을 할당하면 타입을 추론"
   ]
  },
  {
   "cell_type": "code",
   "execution_count": 1,
   "id": "df497188-a929-46bd-8e20-4bbb0c1133df",
   "metadata": {},
   "outputs": [
    {
     "name": "stdout",
     "output_type": "stream",
     "text": [
      "number\n"
     ]
    },
    {
     "data": {
      "text/plain": [
       "undefined"
      ]
     },
     "execution_count": 1,
     "metadata": {},
     "output_type": "execute_result"
    }
   ],
   "source": [
    "{ \n",
    "    let varA = 100;\n",
    "\n",
    "    console.log(typeof varA);\n",
    "}"
   ]
  },
  {
   "cell_type": "markdown",
   "id": "4404ad5d-c6e6-4894-85c9-e00317ae1b2e",
   "metadata": {},
   "source": [
    "## 1-1. 가장 적절한 타입(Best Common Type)\n",
    "\n",
    "-  그 표현식을 이용하여 가장 근접한 타입을 추론하게 되는데 이 가장 근접한 타입"
   ]
  },
  {
   "cell_type": "code",
   "execution_count": 2,
   "id": "c8ababf3-7b13-48b6-981d-92ab38b14331",
   "metadata": {},
   "outputs": [
    {
     "data": {
      "text/plain": [
       "undefined"
      ]
     },
     "execution_count": 2,
     "metadata": {},
     "output_type": "execute_result"
    }
   ],
   "source": [
    "let arr = [0, 1, null];"
   ]
  },
  {
   "cell_type": "code",
   "execution_count": 3,
   "id": "6109e87a-71e5-4b2f-bea6-838dc2dc3a1d",
   "metadata": {},
   "outputs": [
    {
     "data": {
      "text/plain": [
       "'object'"
      ]
     },
     "execution_count": 3,
     "metadata": {},
     "output_type": "execute_result"
    }
   ],
   "source": [
    "typeof arr"
   ]
  },
  {
   "cell_type": "code",
   "execution_count": null,
   "id": "7284f824-dd2a-4f8e-9717-2a6e2f16450c",
   "metadata": {},
   "outputs": [],
   "source": []
  },
  {
   "cell_type": "markdown",
   "id": "b9d63481-2d9a-4da0-b570-3bb403c322f1",
   "metadata": {},
   "source": [
    "## 1-2. 문맥상의 타이핑(Contextual Typing)\n",
    "- 타입스크립트에서 타입을 추론하는 또 하나의 방식은 바로 문맥상으로 타입을 결정하는 것입니다.\n",
    "- 이 문맥상의 타이핑(타입 결정)은 코드의 위치(문맥)를 기준으로 일어납니다."
   ]
  },
  {
   "cell_type": "code",
   "execution_count": 4,
   "id": "5ee7bc67-e011-47e9-8cf5-d84c801a0312",
   "metadata": {},
   "outputs": [
    {
     "data": {
      "text/plain": [
       "undefined"
      ]
     },
     "execution_count": 4,
     "metadata": {},
     "output_type": "execute_result"
    }
   ],
   "source": [
    "const handler = function(uiEvent) {\n",
    "  console.log(uiEvent.button);          //<- OK\n",
    "}"
   ]
  },
  {
   "cell_type": "code",
   "execution_count": null,
   "id": "888416c1-42b9-4835-82b6-39e3e0611559",
   "metadata": {},
   "outputs": [],
   "source": []
  },
  {
   "cell_type": "markdown",
   "id": "80453b18-8a9e-44ec-b7fa-1b11e6266575",
   "metadata": {},
   "source": [
    "## 1-3 타입스크립트의 타입 체킹\n",
    "- 타입 체킹에 있어서 타입스크립트의 지향점은 타입 체크는 값의 형태에 기반하여 이루어져야 한다는 점입니다. \n",
    "- 이걸 Duck Typing 또는 Structural Subtyping 이라고 합니다."
   ]
  },
  {
   "cell_type": "markdown",
   "id": "1dd80fa0-31cf-4777-acfb-3fa16d4cb3bb",
   "metadata": {},
   "source": [
    "### Duck Typing : \n",
    "- 객체의 변수 및 메서드의 집합이 객체의 타입을 결정하는 것을 의미. "
   ]
  },
  {
   "cell_type": "code",
   "execution_count": 5,
   "id": "387b16a1-b393-420c-bf35-8b98216e22bf",
   "metadata": {},
   "outputs": [
    {
     "data": {
      "text/plain": [
       "undefined"
      ]
     },
     "execution_count": 5,
     "metadata": {},
     "output_type": "execute_result"
    }
   ],
   "source": [
    "// 타입 인터페이스\n",
    "interface Quackable {\n",
    "  quack(): void;\n",
    "}\n",
    "\n",
    "// 오리 클래스\n",
    "class Duck implements Quackable {\n",
    "  quack() {\n",
    "    console.log('Quack!');\n",
    "  }\n",
    "}\n",
    "\n",
    "// 오리처럼 걷고 우는 기능을 가진 객체\n",
    "const duckLikeObject = {\n",
    "  quack() {\n",
    "    console.log('Quack! Quack!');\n",
    "  }\n",
    "};\n"
   ]
  },
  {
   "cell_type": "code",
   "execution_count": null,
   "id": "efb9bc29-6826-4bb2-ad15-a77d4a242f58",
   "metadata": {},
   "outputs": [],
   "source": []
  },
  {
   "cell_type": "code",
   "execution_count": 6,
   "id": "4de42bb3-516d-4c33-9963-56f1595c76ee",
   "metadata": {},
   "outputs": [
    {
     "data": {
      "text/plain": [
       "undefined"
      ]
     },
     "execution_count": 6,
     "metadata": {},
     "output_type": "execute_result"
    }
   ],
   "source": [
    "function performQuackAction(duck: Quackable) {\n",
    "  duck.quack();\n",
    "}"
   ]
  },
  {
   "cell_type": "code",
   "execution_count": null,
   "id": "679103c4-f35d-4018-b93f-d4dfdad997a2",
   "metadata": {},
   "outputs": [],
   "source": []
  },
  {
   "cell_type": "code",
   "execution_count": 7,
   "id": "0ebc7f9e-4ca8-4bbe-a36e-352ebc037983",
   "metadata": {},
   "outputs": [
    {
     "name": "stdout",
     "output_type": "stream",
     "text": [
      "Quack!\n",
      "Quack! Quack!\n"
     ]
    },
    {
     "data": {
      "text/plain": [
       "undefined"
      ]
     },
     "execution_count": 7,
     "metadata": {},
     "output_type": "execute_result"
    }
   ],
   "source": [
    "const realDuck = new Duck();\n",
    "const fakeDuck = duckLikeObject;\n",
    "\n",
    "performQuackAction(realDuck); // 출력: Quack!\n",
    "performQuackAction(fakeDuck); // 출력: Quack! Quack!"
   ]
  },
  {
   "cell_type": "code",
   "execution_count": null,
   "id": "0ead57a7-2a28-4796-8755-6c3112ee4a86",
   "metadata": {},
   "outputs": [],
   "source": []
  },
  {
   "cell_type": "markdown",
   "id": "1770c9d6-8625-49ce-88ff-86662032fedb",
   "metadata": {},
   "source": [
    "### Structural Subtyping : \n",
    "- 객체의 실제 구조나 정의에 따라 타입을 결정하는 것을 의미\n",
    "\n",
    "- 타입의 호환성을 객체의 구조에 기반하여 결정하는 방식입니다.\n",
    "- 이것은 객체가 특정 인터페이스를 구현하는지 여부보다는 객체의 속성과 메서드의 구조에 따라 타입 호환성을 판단하는 개념입니다.\n",
    "\n",
    "- 구조적 하위 타이핑은 객체의 구조가 호환되면 해당 객체가 특정 타입에 할당 가능하다고 판단합니다.\n",
    "- 즉, 타입 검사 시 객체의 타입이나 명시적으로 구현한 인터페이스와 관계없이, 해당 객체의 속성과 메서드 구조가 타입 호환성을 결정하는데 영향을 미칩니다."
   ]
  },
  {
   "cell_type": "code",
   "execution_count": null,
   "id": "5a93d78f-78d5-4b48-b0d8-3462025cd7a4",
   "metadata": {},
   "outputs": [],
   "source": []
  },
  {
   "cell_type": "code",
   "execution_count": 8,
   "id": "32086136-aea0-4a2b-b2ab-e10ccf795603",
   "metadata": {},
   "outputs": [
    {
     "data": {
      "text/plain": [
       "undefined"
      ]
     },
     "execution_count": 8,
     "metadata": {},
     "output_type": "execute_result"
    }
   ],
   "source": [
    "interface Point2D {\n",
    "  x: number;\n",
    "  y: number;\n",
    "}\n",
    "\n",
    "interface Point3D {\n",
    "  x: number;\n",
    "  y: number;\n",
    "  z: number;\n",
    "}"
   ]
  },
  {
   "cell_type": "code",
   "execution_count": 9,
   "id": "e9315b0f-3cf6-4041-b638-c64a3cc9c6f2",
   "metadata": {},
   "outputs": [
    {
     "data": {
      "text/plain": [
       "undefined"
      ]
     },
     "execution_count": 9,
     "metadata": {},
     "output_type": "execute_result"
    }
   ],
   "source": [
    "function printPoint(point: Point2D) {\n",
    "  console.log(`x: ${point.x}, y: ${point.y}`);\n",
    "}\n"
   ]
  },
  {
   "cell_type": "code",
   "execution_count": null,
   "id": "b4a75872-ed24-499d-b0ce-bf819e0c859f",
   "metadata": {},
   "outputs": [],
   "source": []
  },
  {
   "cell_type": "code",
   "execution_count": 13,
   "id": "ae6c4fa7-5586-47d3-b285-db268766a053",
   "metadata": {},
   "outputs": [
    {
     "name": "stdout",
     "output_type": "stream",
     "text": [
      "x: 1, y: 2\n",
      "x: 1, y: 2\n"
     ]
    },
    {
     "data": {
      "text/plain": [
       "undefined"
      ]
     },
     "execution_count": 13,
     "metadata": {},
     "output_type": "execute_result"
    }
   ],
   "source": [
    "{ \n",
    "    let point2D: Point2D = { x: 1, y: 2 };\n",
    "    let point3D: Point3D = { x: 1, y: 2, z: 3 };\n",
    "\n",
    "    printPoint(point2D); // 출력: x: 1, y: 2\n",
    "    printPoint(point3D); // 출력: x: 1, y: 2\n",
    "}\n"
   ]
  },
  {
   "cell_type": "code",
   "execution_count": null,
   "id": "43056f9f-ea83-478f-8af3-cd8af3edfb4d",
   "metadata": {},
   "outputs": [],
   "source": []
  },
  {
   "cell_type": "code",
   "execution_count": 14,
   "id": "74691bb5-aa86-419d-9d7b-07adbb2dc688",
   "metadata": {},
   "outputs": [
    {
     "name": "stdout",
     "output_type": "stream",
     "text": [
      "x: 1, y: 2\n",
      "x: 1, y: 2\n"
     ]
    },
    {
     "data": {
      "text/plain": [
       "{ x: 1, y: 2, z: 3 }"
      ]
     },
     "execution_count": 14,
     "metadata": {},
     "output_type": "execute_result"
    }
   ],
   "source": [
    "{ \n",
    "    let point2D: Point2D = { x: 1, y: 2 };\n",
    "    let point3D: Point3D = { x: 1, y: 2, z: 3 };\n",
    "\n",
    "    printPoint(point2D); // 출력: x: 1, y: 2\n",
    "    printPoint(point3D); // 출력: x: 1, y: 2\n",
    "\n",
    "    point2D = point3D; // Point3D 객체는 Point2D 타입으로 할당 가능 (구조적 하위 타이핑)\n",
    "}"
   ]
  },
  {
   "cell_type": "code",
   "execution_count": null,
   "id": "30d77de8-60c7-45a9-b624-8a58a98a0f52",
   "metadata": {},
   "outputs": [],
   "source": []
  }
 ],
 "metadata": {
  "kernelspec": {
   "display_name": "Typescript 4.9",
   "language": "typescript",
   "name": "typescript"
  },
  "language_info": {
   "file_extension": ".ts",
   "mimetype": "application/x-typescript",
   "name": "typescript",
   "version": "4.9.5"
  }
 },
 "nbformat": 4,
 "nbformat_minor": 5
}
