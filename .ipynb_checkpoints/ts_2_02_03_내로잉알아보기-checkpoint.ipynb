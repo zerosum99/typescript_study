{
 "cells": [
  {
   "cell_type": "code",
   "execution_count": null,
   "id": "b7a16774-642e-435b-ba87-1431d3a9f16d",
   "metadata": {},
   "outputs": [],
   "source": []
  },
  {
   "cell_type": "markdown",
   "id": "6bbf605d-4698-416e-a686-e316ee630844",
   "metadata": {},
   "source": [
    "## 1. 내로잉(narrowing) : 타입의 구체화 처리\n",
    "\n",
    "- 값이 정의, 선언 혹은 이전에 유추된 것보다 더 구체적인 타입으로 변경하는 것 \n",
    "- 타입을 좁히는데 사용하는 논리적인 검사는 타입가드(type guard) 이다"
   ]
  },
  {
   "cell_type": "code",
   "execution_count": null,
   "id": "3bdc247c-4f9d-4b87-82c3-f224f4841479",
   "metadata": {},
   "outputs": [],
   "source": []
  },
  {
   "cell_type": "markdown",
   "id": "0ea09f51-aa4e-476f-8cfd-95b8c777375f",
   "metadata": {},
   "source": [
    "### 1-1 값 초기화 할당에 따른 내로잉\n",
    "\n",
    "- 값을 초기화하면 특정 타입으로 정의"
   ]
  },
  {
   "cell_type": "code",
   "execution_count": 9,
   "id": "aba5cba9-6fe7-4444-801e-2beb26e971c0",
   "metadata": {},
   "outputs": [
    {
     "data": {
      "text/plain": [
       "undefined"
      ]
     },
     "execution_count": 9,
     "metadata": {},
     "output_type": "execute_result"
    }
   ],
   "source": [
    "let admiral : number | string"
   ]
  },
  {
   "cell_type": "markdown",
   "id": "5654a665-44bb-46e0-8a9f-3c502c6fb810",
   "metadata": {},
   "source": [
    "### 변수에 값을 할당해서 타입이 확장 "
   ]
  },
  {
   "cell_type": "code",
   "execution_count": 10,
   "id": "5c5c4e3b-0d2c-4542-92a1-97d0d791c08b",
   "metadata": {},
   "outputs": [
    {
     "data": {
      "text/plain": [
       "'무빙'"
      ]
     },
     "execution_count": 10,
     "metadata": {},
     "output_type": "execute_result"
    }
   ],
   "source": [
    "admiral = \"무빙\";"
   ]
  },
  {
   "cell_type": "code",
   "execution_count": 11,
   "id": "b7e227db-4265-4b8d-8715-59c2a03734cb",
   "metadata": {},
   "outputs": [
    {
     "data": {
      "text/plain": [
       "'무빙'"
      ]
     },
     "execution_count": 11,
     "metadata": {},
     "output_type": "execute_result"
    }
   ],
   "source": [
    "admiral.toUpperCase();"
   ]
  },
  {
   "cell_type": "markdown",
   "id": "43b2d6a1-deb6-4bf4-8557-73d02ce0701d",
   "metadata": {},
   "source": [
    "### 다른 자료형의 속성이나 메서드는 호출할 수 없다"
   ]
  },
  {
   "cell_type": "code",
   "execution_count": 11,
   "id": "545a36bb-ce93-4643-b3dd-936736c0bb37",
   "metadata": {},
   "outputs": [
    {
     "ename": "Error",
     "evalue": "Line 1, Character 9\nadmiral.toFixed()\n________^\nTS2551: Property 'toFixed' does not exist on type 'string'. Did you mean 'fixed'?",
     "execution_count": 11,
     "output_type": "error",
     "traceback": [
      "Error: Line 1, Character 9",
      "admiral.toFixed()",
      "________^",
      "TS2551: Property 'toFixed' does not exist on type 'string'. Did you mean 'fixed'?",
      "    at execTranspile (/usr/local/lib/node_modules/itypescript/lib/kernel.js:229:23)",
      "    at Session.transpiler [as transpile] (/usr/local/lib/node_modules/itypescript/lib/kernel.js:288:35)",
      "    at Session._runNow (/usr/local/lib/node_modules/itypescript/node_modules/nel/lib/nel.js:835:39)",
      "    at Session._run (/usr/local/lib/node_modules/itypescript/node_modules/nel/lib/nel.js:786:14)",
      "    at Session.execute (/usr/local/lib/node_modules/itypescript/node_modules/nel/lib/nel.js:929:10)",
      "    at Kernel.execute_request (/usr/local/lib/node_modules/itypescript/node_modules/jp-kernel/lib/handlers_v5.js:116:18)",
      "    at Kernel.onShellMessage (/usr/local/lib/node_modules/itypescript/node_modules/jp-kernel/lib/jp-kernel.js:285:41)",
      "    at Socket.<anonymous> (/usr/local/lib/node_modules/itypescript/node_modules/jmp/index.js:350:17)",
      "    at Socket.emit (node:events:513:28)",
      "    at Socket._emitMessage (/usr/local/lib/node_modules/itypescript/node_modules/zeromq/lib/index.js:649:15)"
     ]
    }
   ],
   "source": [
    "admiral.toFixed()"
   ]
  },
  {
   "cell_type": "code",
   "execution_count": null,
   "id": "a3658b6e-b959-470e-aef7-7a33a1c15e19",
   "metadata": {},
   "outputs": [],
   "source": []
  },
  {
   "cell_type": "markdown",
   "id": "e2f632c5-5ef1-4f6c-a174-7148068b4611",
   "metadata": {},
   "source": [
    "### 1-2 조건검사를 통한 내로잉"
   ]
  },
  {
   "cell_type": "code",
   "execution_count": 17,
   "id": "471bea8e-e868-48b1-816d-ca540bb6f868",
   "metadata": {},
   "outputs": [
    {
     "data": {
      "text/plain": [
       "undefined"
      ]
     },
     "execution_count": 17,
     "metadata": {},
     "output_type": "execute_result"
    }
   ],
   "source": [
    "let scientist : number | string"
   ]
  },
  {
   "cell_type": "code",
   "execution_count": null,
   "id": "df6aecf4-f5e3-4d6b-a8ac-2388dc058ef1",
   "metadata": {},
   "outputs": [],
   "source": []
  },
  {
   "cell_type": "code",
   "execution_count": 18,
   "id": "cdd68634-b8c8-4171-baad-d0882554e45c",
   "metadata": {},
   "outputs": [
    {
     "data": {
      "text/plain": [
       "'내로잉'"
      ]
     },
     "execution_count": 18,
     "metadata": {},
     "output_type": "execute_result"
    }
   ],
   "source": [
    "scientist = Math.random() > 0.4 ? \"내로잉\" : 777;"
   ]
  },
  {
   "cell_type": "code",
   "execution_count": 20,
   "id": "40e57b4a-70cc-4904-b63c-4f1621e7e1f9",
   "metadata": {},
   "outputs": [
    {
     "data": {
      "text/plain": [
       "'내로잉'"
      ]
     },
     "execution_count": 20,
     "metadata": {},
     "output_type": "execute_result"
    }
   ],
   "source": [
    "if (scientist === \"내로잉\") {\n",
    "    scientist.toUpperCase();\n",
    "}"
   ]
  },
  {
   "cell_type": "code",
   "execution_count": 21,
   "id": "7fc58677-8b7b-4445-be29-c58d524ed13c",
   "metadata": {},
   "outputs": [
    {
     "ename": "Error",
     "evalue": "Line 1, Character 11\nscientist.toUpperCase()\n__________^\nTS2339: Property 'toUpperCase' does not exist on type 'string | number'.\n  Property 'toUpperCase' does not exist on type 'number'.",
     "execution_count": 21,
     "output_type": "error",
     "traceback": [
      "Error: Line 1, Character 11",
      "scientist.toUpperCase()",
      "__________^",
      "TS2339: Property 'toUpperCase' does not exist on type 'string | number'.",
      "  Property 'toUpperCase' does not exist on type 'number'.",
      "    at execTranspile (/usr/local/lib/node_modules/itypescript/lib/kernel.js:229:23)",
      "    at Session.transpiler [as transpile] (/usr/local/lib/node_modules/itypescript/lib/kernel.js:288:35)",
      "    at Session._runNow (/usr/local/lib/node_modules/itypescript/node_modules/nel/lib/nel.js:835:39)",
      "    at Session._run (/usr/local/lib/node_modules/itypescript/node_modules/nel/lib/nel.js:786:14)",
      "    at Session.execute (/usr/local/lib/node_modules/itypescript/node_modules/nel/lib/nel.js:929:10)",
      "    at Kernel.execute_request (/usr/local/lib/node_modules/itypescript/node_modules/jp-kernel/lib/handlers_v5.js:116:18)",
      "    at Kernel.onShellMessage (/usr/local/lib/node_modules/itypescript/node_modules/jp-kernel/lib/jp-kernel.js:285:41)",
      "    at Socket.<anonymous> (/usr/local/lib/node_modules/itypescript/node_modules/jmp/index.js:350:17)",
      "    at Socket.emit (node:events:513:28)",
      "    at Socket._emitMessage (/usr/local/lib/node_modules/itypescript/node_modules/zeromq/lib/index.js:649:15)"
     ]
    }
   ],
   "source": [
    "scientist.toUpperCase()"
   ]
  },
  {
   "cell_type": "code",
   "execution_count": null,
   "id": "1557e72f-56d1-47ee-8628-cd03d1061232",
   "metadata": {},
   "outputs": [],
   "source": []
  },
  {
   "cell_type": "markdown",
   "id": "9558855c-2a74-4ff8-939e-a56040cd9496",
   "metadata": {},
   "source": [
    "### 1-3 typeof 사용한 내로잉 처리 \n",
    "\n",
    "-  특정 타입에 대해 typeof 를 처리\n",
    "-  if 문과 삼항 연산자를 기준으로 특정 타입을 확정해서 처리 "
   ]
  },
  {
   "cell_type": "code",
   "execution_count": null,
   "id": "15cf03ee-ea03-46a3-b129-eea43dbb3319",
   "metadata": {},
   "outputs": [],
   "source": []
  },
  {
   "cell_type": "code",
   "execution_count": 22,
   "id": "78a96cc1-626f-4a1b-a0fc-f9412d9e0b86",
   "metadata": {},
   "outputs": [
    {
     "data": {
      "text/plain": [
       "undefined"
      ]
     },
     "execution_count": 22,
     "metadata": {},
     "output_type": "execute_result"
    }
   ],
   "source": [
    "let researcher = Math.random() > 0.35 ? \"abced\" : 888;"
   ]
  },
  {
   "cell_type": "markdown",
   "id": "27358a27-c2d4-4ec9-be4c-40701dddca8b",
   "metadata": {},
   "source": [
    "### if 문과 typeof 사용"
   ]
  },
  {
   "cell_type": "code",
   "execution_count": 23,
   "id": "6e298b88-b68f-45a5-ade4-9284368df9e8",
   "metadata": {},
   "outputs": [
    {
     "data": {
      "text/plain": [
       "'ABCED'"
      ]
     },
     "execution_count": 23,
     "metadata": {},
     "output_type": "execute_result"
    }
   ],
   "source": [
    "if (typeof researcher === \"string\") {\n",
    "    researcher.toUpperCase();\n",
    "}"
   ]
  },
  {
   "cell_type": "markdown",
   "id": "393128d2-63cb-4996-89f4-ad21d67f46b4",
   "metadata": {},
   "source": [
    "### if문과 삼항연산자 사용 "
   ]
  },
  {
   "cell_type": "code",
   "execution_count": 25,
   "id": "554af5c7-7fa8-4742-a974-86be5bd5d821",
   "metadata": {},
   "outputs": [
    {
     "data": {
      "text/plain": [
       "'ABCED'"
      ]
     },
     "execution_count": 25,
     "metadata": {},
     "output_type": "execute_result"
    }
   ],
   "source": [
    "(typeof researcher === \"string\") \n",
    "    ? researcher.toUpperCase() \n",
    "    : researcher.toFixed()"
   ]
  },
  {
   "cell_type": "code",
   "execution_count": null,
   "id": "7140a4b9-9a18-4cfb-9d17-4fe1745223fc",
   "metadata": {},
   "outputs": [],
   "source": []
  }
 ],
 "metadata": {
  "kernelspec": {
   "display_name": "Typescript 4.9",
   "language": "typescript",
   "name": "typescript"
  },
  "language_info": {
   "file_extension": ".ts",
   "mimetype": "application/x-typescript",
   "name": "typescript",
   "version": "4.9.5"
  }
 },
 "nbformat": 4,
 "nbformat_minor": 5
}
