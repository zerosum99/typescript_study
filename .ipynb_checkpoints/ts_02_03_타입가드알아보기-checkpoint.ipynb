{
 "cells": [
  {
   "cell_type": "code",
   "execution_count": null,
   "id": "43949765-cbdc-4844-a911-9bf2e3d1b302",
   "metadata": {},
   "outputs": [],
   "source": []
  },
  {
   "cell_type": "markdown",
   "id": "d40fabfa-1c34-4b55-a0a6-61e6b140170d",
   "metadata": {},
   "source": [
    "## 타입 가드(Type Guard)\n",
    "-  런타임에 변수의 타입을 검사하고, 특정 조건을 충족하는 경우 해당 타입으로 타입을 좁히는 기능을 말합니다. \n",
    "- 이를 통해 unknown, any와 같이 모호한 타입을 보다 정확하게 타입으로 지정하거나, 유니온 타입의 각 타입을 구별하여 코드의 안정성을 높일 수 있습니다."
   ]
  },
  {
   "cell_type": "code",
   "execution_count": null,
   "id": "8a10aa18-33ca-48d3-b05f-6122d2f0f58a",
   "metadata": {},
   "outputs": [],
   "source": []
  },
  {
   "cell_type": "code",
   "execution_count": null,
   "id": "e2ae6aab-9a0c-4a79-805d-75065ca0a5a4",
   "metadata": {},
   "outputs": [],
   "source": []
  },
  {
   "cell_type": "markdown",
   "id": "5cf05ca0-ede2-4e02-a227-e315db8d746b",
   "metadata": {},
   "source": [
    "## typeof 연산자를 이용한 타입 가드"
   ]
  },
  {
   "cell_type": "code",
   "execution_count": 1,
   "id": "4cb793c1-8a93-4b22-8f66-bb9c696388b8",
   "metadata": {},
   "outputs": [
    {
     "data": {
      "text/html": [
       "<div style='background:#ffecb3;padding:1em;border-left:2px solid #ff6d00'><b>Configuration is not found!</b> Default configuration will be used: <pre>{\"module\":1,\"target\":1,\"moduleResolution\":2,\"esModuleInterop\":true}</pre></div>"
      ]
     },
     "execution_count": 1,
     "metadata": {},
     "output_type": "execute_result"
    }
   ],
   "source": [
    "function multiply(value: unknown, factor: number): number {\n",
    "  if (typeof value === 'number') {\n",
    "    return value * factor;\n",
    "  }\n",
    "  throw new Error('Invalid input: value should be a number.');\n",
    "}"
   ]
  },
  {
   "cell_type": "code",
   "execution_count": 2,
   "id": "94c1fcd3-9caa-468a-a624-c2818389d6b2",
   "metadata": {},
   "outputs": [
    {
     "data": {
      "text/plain": [
       "60000"
      ]
     },
     "execution_count": 2,
     "metadata": {},
     "output_type": "execute_result"
    }
   ],
   "source": [
    "multiply(200,300);"
   ]
  },
  {
   "cell_type": "code",
   "execution_count": null,
   "id": "b23db0bc-c4f4-4622-9b49-fd1804eab997",
   "metadata": {},
   "outputs": [],
   "source": []
  },
  {
   "cell_type": "markdown",
   "id": "a2bd23ba-9d10-4024-8f04-f1a05cf65d17",
   "metadata": {},
   "source": [
    "## instanceof 연산자를 이용한 타입 가드:"
   ]
  },
  {
   "cell_type": "code",
   "execution_count": 3,
   "id": "629c73d6-ff4c-476d-b88e-d2fcdf557106",
   "metadata": {},
   "outputs": [
    {
     "data": {
      "text/plain": [
       "undefined"
      ]
     },
     "execution_count": 3,
     "metadata": {},
     "output_type": "execute_result"
    }
   ],
   "source": [
    "class Animal {\n",
    "    name: string;\n",
    "    constructor(theName: string) { this.name = theName; }\n",
    "}"
   ]
  },
  {
   "cell_type": "code",
   "execution_count": 4,
   "id": "511bacfc-ac46-4227-8190-11da6ddafa4e",
   "metadata": {},
   "outputs": [
    {
     "data": {
      "text/plain": [
       "undefined"
      ]
     },
     "execution_count": 4,
     "metadata": {},
     "output_type": "execute_result"
    }
   ],
   "source": [
    "function greet(person: unknown): string {\n",
    "  if (person instanceof Animal) {\n",
    "    return `Hello, ${person.name}!`;\n",
    "  }\n",
    "  throw new Error('Invalid input: person should be an instance of Person.');\n",
    "}"
   ]
  },
  {
   "cell_type": "code",
   "execution_count": 5,
   "id": "39ced911-fc31-4743-8269-491bcc69156d",
   "metadata": {},
   "outputs": [
    {
     "data": {
      "text/plain": [
       "undefined"
      ]
     },
     "execution_count": 5,
     "metadata": {},
     "output_type": "execute_result"
    }
   ],
   "source": [
    "const p = new Animal('강아지');"
   ]
  },
  {
   "cell_type": "code",
   "execution_count": 6,
   "id": "152efbf7-ee77-4b60-9e46-c8daf0659a91",
   "metadata": {
    "editable": true,
    "slideshow": {
     "slide_type": ""
    },
    "tags": []
   },
   "outputs": [
    {
     "data": {
      "text/plain": [
       "'Hello, 강아지!'"
      ]
     },
     "execution_count": 6,
     "metadata": {},
     "output_type": "execute_result"
    }
   ],
   "source": [
    "greet(p);"
   ]
  },
  {
   "cell_type": "code",
   "execution_count": null,
   "id": "e4a342b7-ab88-413e-ae1b-aba45a55f6b9",
   "metadata": {},
   "outputs": [],
   "source": []
  },
  {
   "cell_type": "markdown",
   "id": "8addb9a4-39d7-45aa-8494-9767d9bad1f9",
   "metadata": {},
   "source": [
    "## in 연산자를 이용한 타입 가드:"
   ]
  },
  {
   "cell_type": "code",
   "execution_count": 7,
   "id": "f52356da-1026-482e-836d-72dc16885ba5",
   "metadata": {},
   "outputs": [
    {
     "data": {
      "text/plain": [
       "undefined"
      ]
     },
     "execution_count": 7,
     "metadata": {},
     "output_type": "execute_result"
    }
   ],
   "source": [
    "interface Circle {\n",
    "  radius: number;\n",
    "}\n",
    "\n",
    "interface Square {\n",
    "  sideLength: number;\n",
    "}"
   ]
  },
  {
   "cell_type": "code",
   "execution_count": 8,
   "id": "87f4fccf-fc2f-4f1d-915d-94e903caa0a2",
   "metadata": {},
   "outputs": [
    {
     "data": {
      "text/plain": [
       "undefined"
      ]
     },
     "execution_count": 8,
     "metadata": {},
     "output_type": "execute_result"
    }
   ],
   "source": [
    "function getArea(shape: Circle | Square): number {\n",
    "  if ('radius' in shape) {\n",
    "    return Math.PI * shape.radius * shape.radius;\n",
    "  }\n",
    "  return shape.sideLength * shape.sideLength;\n",
    "}"
   ]
  },
  {
   "cell_type": "code",
   "execution_count": 9,
   "id": "ee5659bf-edcf-4229-b400-3159428ec250",
   "metadata": {},
   "outputs": [
    {
     "data": {
      "text/plain": [
       "2827.4333882308138"
      ]
     },
     "execution_count": 9,
     "metadata": {},
     "output_type": "execute_result"
    }
   ],
   "source": [
    "getArea({radius:30});"
   ]
  },
  {
   "cell_type": "code",
   "execution_count": 10,
   "id": "bad39027-5ccd-47d8-8a1d-5296d2a52a3a",
   "metadata": {},
   "outputs": [
    {
     "data": {
      "text/plain": [
       "900"
      ]
     },
     "execution_count": 10,
     "metadata": {},
     "output_type": "execute_result"
    }
   ],
   "source": [
    "getArea({sideLength:30});"
   ]
  },
  {
   "cell_type": "code",
   "execution_count": null,
   "id": "1981308d-3ffa-4094-a06d-30321ab6d39e",
   "metadata": {},
   "outputs": [],
   "source": []
  },
  {
   "cell_type": "markdown",
   "id": "c3c8c223-e933-4193-aa4b-1806819d1cb1",
   "metadata": {},
   "source": [
    "## 사용자 정의 타입 가드 함수:\n",
    "\n",
    "- is 키워드는 사용자 정의 타입 가드 함수를 구현할 때 사용되는 키워드\n",
    "- 사용자 정의 타입 가드 함수는 is 키워드를 붙여서 함수를 정의하고, 해당 함수 내에서 조건에 따라 타입을 좁히는 역할을 수행\n",
    "- 사용자 정의 타입 가드 함수는 반환 타입으로 value is 타입 형식을 사용\n",
    "- 이렇게 정의된 함수는 논리적으로 해당 타입으로 값을 좁히고, 해당 타입을 사용하는 코드 블록에서는 추론된 타입으로 사용할 수 있음"
   ]
  },
  {
   "cell_type": "code",
   "execution_count": 11,
   "id": "520969ef-ccf4-4c2b-a42e-dca21aca8bad",
   "metadata": {},
   "outputs": [
    {
     "data": {
      "text/plain": [
       "undefined"
      ]
     },
     "execution_count": 11,
     "metadata": {},
     "output_type": "execute_result"
    }
   ],
   "source": [
    "function isString(value: unknown): value is string {\n",
    "  return typeof value === 'string';\n",
    "}\n",
    "\n",
    "function processValue(value: unknown) {\n",
    "  if (isString(value)) {\n",
    "    console.log(value.toUpperCase());\n",
    "  } else {\n",
    "    console.log('Invalid input: value should be a string.');\n",
    "  }\n",
    "}\n"
   ]
  },
  {
   "cell_type": "code",
   "execution_count": 12,
   "id": "a658cc66-9e96-4c35-ba07-d68a2712acc4",
   "metadata": {},
   "outputs": [
    {
     "name": "stdout",
     "output_type": "stream",
     "text": [
      "강아지\n"
     ]
    },
    {
     "data": {
      "text/plain": [
       "undefined"
      ]
     },
     "execution_count": 12,
     "metadata": {},
     "output_type": "execute_result"
    }
   ],
   "source": [
    "processValue(\"강아지\");"
   ]
  },
  {
   "cell_type": "code",
   "execution_count": null,
   "id": "558fd49d-6b6c-449b-a47b-4102544a6087",
   "metadata": {},
   "outputs": [],
   "source": []
  }
 ],
 "metadata": {
  "kernelspec": {
   "display_name": "Typescript 4.9",
   "language": "typescript",
   "name": "typescript"
  },
  "language_info": {
   "file_extension": ".ts",
   "mimetype": "application/x-typescript",
   "name": "typescript",
   "version": "4.9.5"
  }
 },
 "nbformat": 4,
 "nbformat_minor": 5
}
