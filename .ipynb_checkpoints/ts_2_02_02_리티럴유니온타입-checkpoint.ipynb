{
 "cells": [
  {
   "cell_type": "code",
   "execution_count": null,
   "id": "20e6ada4-d608-450d-82d9-55cc20e89001",
   "metadata": {},
   "outputs": [],
   "source": []
  },
  {
   "cell_type": "markdown",
   "id": "616e99c0-29f0-4a62-a499-4ff2f725f65e",
   "metadata": {},
   "source": [
    "## 리터럴 유니온 타입\n",
    "\n",
    "-  실제 리터럴 값을 자료형으로 처리하기 "
   ]
  },
  {
   "cell_type": "code",
   "execution_count": null,
   "id": "ecefec1e-1dfa-43cc-bf0e-03c01bbb1aff",
   "metadata": {},
   "outputs": [],
   "source": []
  },
  {
   "cell_type": "markdown",
   "id": "16e05c7e-df7b-46e0-9c3e-18895698a64f",
   "metadata": {},
   "source": [
    "## 특정 문자값을 리터럴 유니온 처리하기 "
   ]
  },
  {
   "cell_type": "code",
   "execution_count": 1,
   "id": "4abaf2d7-8f2a-4874-bdd7-a3ae9725a880",
   "metadata": {},
   "outputs": [
    {
     "data": {
      "text/plain": [
       "'use strict'"
      ]
     },
     "execution_count": 1,
     "metadata": {},
     "output_type": "execute_result"
    }
   ],
   "source": [
    "type Gender = \"male\" | \"female\";\n"
   ]
  },
  {
   "cell_type": "code",
   "execution_count": 2,
   "id": "3e633ac3-0a9a-4bb8-af6e-aa07f11c47d0",
   "metadata": {},
   "outputs": [
    {
     "data": {
      "text/plain": [
       "undefined"
      ]
     },
     "execution_count": 2,
     "metadata": {},
     "output_type": "execute_result"
    }
   ],
   "source": [
    "let person: { name: string; gender: Gender };"
   ]
  },
  {
   "cell_type": "code",
   "execution_count": null,
   "id": "5f80a09b-b52f-4fdf-adcb-be36ee6622a2",
   "metadata": {},
   "outputs": [],
   "source": []
  },
  {
   "cell_type": "code",
   "execution_count": 3,
   "id": "6c63d780-e659-4867-904f-c26b769f4ead",
   "metadata": {},
   "outputs": [
    {
     "data": {
      "text/plain": [
       "{ name: 'Alice', gender: 'female' }"
      ]
     },
     "execution_count": 3,
     "metadata": {},
     "output_type": "execute_result"
    }
   ],
   "source": [
    "person = { name: \"Alice\", gender: \"female\" };"
   ]
  },
  {
   "cell_type": "code",
   "execution_count": null,
   "id": "8162ece7-0e1a-4788-a9ec-f6fa7a50eb28",
   "metadata": {},
   "outputs": [],
   "source": []
  },
  {
   "cell_type": "markdown",
   "id": "0e10f26b-2b4e-4176-ae88-d84c80b7c687",
   "metadata": {},
   "source": [
    "## 2. 다양한 유니온 타입 예제 "
   ]
  },
  {
   "cell_type": "markdown",
   "id": "aa3055f2-04c6-4ad2-aa1d-a83bf4a40985",
   "metadata": {},
   "source": [
    "### 성별"
   ]
  },
  {
   "cell_type": "code",
   "execution_count": 6,
   "id": "18f16806-301b-4a83-9474-273e21c1a6aa",
   "metadata": {},
   "outputs": [
    {
     "data": {
      "text/plain": [
       "{ name: 'Alice', gender: 'female' }"
      ]
     },
     "execution_count": 6,
     "metadata": {},
     "output_type": "execute_result"
    }
   ],
   "source": [
    "type Gender1 = \"male\" | \"female\";\n",
    "let person1: { name: string; gender: Gender1 };\n",
    "person1 = { name: \"Alice\", gender: \"female\" };\n"
   ]
  },
  {
   "cell_type": "markdown",
   "id": "5bb8e302-21a0-4011-8c26-36f418a57ed9",
   "metadata": {},
   "source": [
    "## 색상 "
   ]
  },
  {
   "cell_type": "code",
   "execution_count": 7,
   "id": "0d04346e-9fb3-4c21-b6f3-4cf5e6d2ed17",
   "metadata": {},
   "outputs": [
    {
     "data": {
      "text/plain": [
       "undefined"
      ]
     },
     "execution_count": 7,
     "metadata": {},
     "output_type": "execute_result"
    }
   ],
   "source": [
    "type Color = \"red\" | \"green\" | \"blue\";\n",
    "let chosenColor: Color = \"green\";"
   ]
  },
  {
   "cell_type": "markdown",
   "id": "782ebb24-2b67-4842-84ec-ffe53e5f3427",
   "metadata": {},
   "source": [
    "## 요일 "
   ]
  },
  {
   "cell_type": "code",
   "execution_count": 8,
   "id": "c865fc6c-ed01-4073-bfb6-a6f891a5941e",
   "metadata": {},
   "outputs": [
    {
     "data": {
      "text/plain": [
       "undefined"
      ]
     },
     "execution_count": 8,
     "metadata": {},
     "output_type": "execute_result"
    }
   ],
   "source": [
    "type DayOfWeek = \"Sunday\" | \"Monday\" | \"Tuesday\" | \"Wednesday\" | \"Thursday\" | \"Friday\" | \"Saturday\";\n",
    "let today: DayOfWeek = \"Wednesday\";\n"
   ]
  },
  {
   "cell_type": "markdown",
   "id": "a92e00e1-d528-42e9-9745-ac155e6e9a98",
   "metadata": {},
   "source": [
    "## 직급 "
   ]
  },
  {
   "cell_type": "code",
   "execution_count": 9,
   "id": "736bb421-8624-449d-a579-ba58921a9ebc",
   "metadata": {},
   "outputs": [
    {
     "data": {
      "text/plain": [
       "{ name: 'Bob', title: 'developer' }"
      ]
     },
     "execution_count": 9,
     "metadata": {},
     "output_type": "execute_result"
    }
   ],
   "source": [
    "type JobTitle = \"manager\" | \"developer\" | \"designer\" | \"analyst\";\n",
    "let employee: { name: string; title: JobTitle };\n",
    "employee = { name: \"Bob\", title: \"developer\" };\n"
   ]
  },
  {
   "cell_type": "markdown",
   "id": "25d3247c-e70e-4cd5-b21f-5e98902b8381",
   "metadata": {},
   "source": [
    "## 월 "
   ]
  },
  {
   "cell_type": "code",
   "execution_count": 10,
   "id": "cb8dcfbe-4475-41d0-97b3-f9fb5b48f326",
   "metadata": {},
   "outputs": [
    {
     "data": {
      "text/plain": [
       "undefined"
      ]
     },
     "execution_count": 10,
     "metadata": {},
     "output_type": "execute_result"
    }
   ],
   "source": [
    "type Month = 1 | 2 | 3 | 4 | 5 | 6 | 7 | 8 | 9 | 10 | 11 | 12;\n",
    "let currentMonth: Month = 8;\n"
   ]
  },
  {
   "cell_type": "code",
   "execution_count": null,
   "id": "56b27501-4f82-43fd-8414-2eff024a59c5",
   "metadata": {},
   "outputs": [],
   "source": []
  }
 ],
 "metadata": {
  "kernelspec": {
   "display_name": "Typescript 4.9",
   "language": "typescript",
   "name": "typescript"
  },
  "language_info": {
   "file_extension": ".ts",
   "mimetype": "application/x-typescript",
   "name": "typescript",
   "version": "4.9.5"
  }
 },
 "nbformat": 4,
 "nbformat_minor": 5
}
