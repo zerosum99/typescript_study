{
 "cells": [
  {
   "cell_type": "code",
   "execution_count": null,
   "id": "6369a200-ed28-41a0-b39c-9fa2d682821a",
   "metadata": {},
   "outputs": [],
   "source": []
  },
  {
   "cell_type": "code",
   "execution_count": null,
   "id": "0b3bedc3-10ed-4460-8cba-5784c7e42d27",
   "metadata": {},
   "outputs": [],
   "source": []
  },
  {
   "cell_type": "markdown",
   "id": "c56f3c01-04c5-4ade-93b9-646c27b93ff0",
   "metadata": {},
   "source": [
    "## 객체 타입 인터섹션 "
   ]
  },
  {
   "cell_type": "code",
   "execution_count": null,
   "id": "624d2cf3-63df-4ae4-9740-a2f920d8ff1d",
   "metadata": {},
   "outputs": [],
   "source": []
  },
  {
   "cell_type": "markdown",
   "id": "0dff3212-4ffb-44de-bed2-0232c55c1a1a",
   "metadata": {},
   "source": [
    "### 객체 인터섹션(Object Intersection)\n",
    "    \n",
    "- TypeScript에서 두 개 이상의 객체 타입을 결합하여 새로운 객체 타입을 생성하는 것을 의미합니다. \n",
    "- 이는 두 개 이상의 객체가 가지는 프로퍼티들을 모두 포함하는 객체 타입을 생성하는 방법입니다."
   ]
  },
  {
   "cell_type": "code",
   "execution_count": 2,
   "id": "e7f48113-91c2-4287-acc5-61bb5cbd1f7f",
   "metadata": {},
   "outputs": [
    {
     "data": {
      "text/plain": [
       "undefined"
      ]
     },
     "execution_count": 2,
     "metadata": {},
     "output_type": "execute_result"
    }
   ],
   "source": [
    "type Point = { x: number; y: number };\n",
    "type Color = { color: string };\n",
    "\n",
    "type ColoredPoint = Point & Color;\n",
    "\n",
    "const coloredPoint: ColoredPoint = {\n",
    "    x: 10,\n",
    "    y: 20,\n",
    "    color: \"red\"\n",
    "};\n"
   ]
  },
  {
   "cell_type": "code",
   "execution_count": null,
   "id": "1d9a2f97-d9c6-4c89-b0a4-ef84150eae7f",
   "metadata": {},
   "outputs": [],
   "source": []
  },
  {
   "cell_type": "code",
   "execution_count": 1,
   "id": "f542d381-2da2-48d8-952f-6949d6b199da",
   "metadata": {},
   "outputs": [
    {
     "data": {
      "text/plain": [
       "'use strict'"
      ]
     },
     "execution_count": 1,
     "metadata": {},
     "output_type": "execute_result"
    }
   ],
   "source": [
    "type Person = {\n",
    "    name: string;\n",
    "    age: number;\n",
    "};\n",
    "\n",
    "type Employee = {\n",
    "    employeeId: string;\n",
    "    role: string;\n",
    "};\n",
    "\n",
    "type PersonAndEmployee = Person & Employee;\n",
    "\n",
    "const personAndEmployee: PersonAndEmployee = {\n",
    "    name: \"Alice\",\n",
    "    age: 30,\n",
    "    employeeId: \"12345\",\n",
    "    role: \"Manager\"\n",
    "};\n"
   ]
  },
  {
   "cell_type": "code",
   "execution_count": null,
   "id": "65684559-6b9d-49a2-bbee-0eefe450db47",
   "metadata": {},
   "outputs": [],
   "source": []
  },
  {
   "cell_type": "code",
   "execution_count": null,
   "id": "7db27f04-d6fe-4138-a484-4c48dc1c3361",
   "metadata": {},
   "outputs": [],
   "source": []
  },
  {
   "cell_type": "code",
   "execution_count": null,
   "id": "49fdcb71-e66b-4636-8324-e867cd3d6229",
   "metadata": {},
   "outputs": [],
   "source": []
  },
  {
   "cell_type": "code",
   "execution_count": null,
   "id": "898dcfcf-297c-4368-837c-b3b8814d0b53",
   "metadata": {},
   "outputs": [],
   "source": []
  },
  {
   "cell_type": "code",
   "execution_count": null,
   "id": "3471cf8f-a21f-4014-bab2-f7b661bf57ab",
   "metadata": {},
   "outputs": [],
   "source": []
  }
 ],
 "metadata": {
  "kernelspec": {
   "display_name": "Typescript 4.9",
   "language": "typescript",
   "name": "typescript"
  },
  "language_info": {
   "file_extension": ".ts",
   "mimetype": "application/x-typescript",
   "name": "typescript",
   "version": "4.9.5"
  }
 },
 "nbformat": 4,
 "nbformat_minor": 5
}
