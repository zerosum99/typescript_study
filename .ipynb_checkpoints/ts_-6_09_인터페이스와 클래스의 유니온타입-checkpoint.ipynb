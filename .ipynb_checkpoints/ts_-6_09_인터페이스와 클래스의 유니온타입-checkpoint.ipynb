{
 "cells": [
  {
   "cell_type": "code",
   "execution_count": null,
   "id": "c148ec81-ed7b-424d-bce8-369d5d0b99aa",
   "metadata": {},
   "outputs": [],
   "source": []
  },
  {
   "cell_type": "code",
   "execution_count": null,
   "id": "57e6b87b-a5ad-4e50-9b1d-68ba099d47f6",
   "metadata": {},
   "outputs": [],
   "source": []
  },
  {
   "cell_type": "code",
   "execution_count": null,
   "id": "e4a2f5c2-f763-4faf-bfbe-7940b3d88db8",
   "metadata": {},
   "outputs": [],
   "source": []
  },
  {
   "cell_type": "markdown",
   "id": "9f4c406f-7cc9-404d-a557-43a895507746",
   "metadata": {},
   "source": [
    "## 인터페이스와 클래스를 활용한 유니온 타입\n",
    "    \n",
    "- 여러 타입 중 하나가 될 수 있는 복합 타입을 정의할 때 유용합니다. 이를 통해 다양한 형태의 객체를 한 변수로 다룰 수 있습니다."
   ]
  },
  {
   "cell_type": "markdown",
   "id": "3148a3a4-6bc6-4a32-8215-cb7e903b9ea4",
   "metadata": {},
   "source": [
    "## 인터페이스 유니언 타입 처리 "
   ]
  },
  {
   "cell_type": "code",
   "execution_count": 1,
   "id": "1fe5ad1b-b767-4f60-8547-0a92252b8f99",
   "metadata": {},
   "outputs": [
    {
     "data": {
      "text/plain": [
       "'use strict'"
      ]
     },
     "execution_count": 1,
     "metadata": {},
     "output_type": "execute_result"
    }
   ],
   "source": [
    "interface Circle {\n",
    "    kind: \"circle\";\n",
    "    radius: number;\n",
    "}\n",
    "\n",
    "interface Rectangle {\n",
    "    kind: \"rectangle\";\n",
    "    width: number;\n",
    "    height: number;\n",
    "}\n"
   ]
  },
  {
   "cell_type": "code",
   "execution_count": null,
   "id": "8771e5b2-cdb3-42b9-a65a-465832165082",
   "metadata": {},
   "outputs": [],
   "source": []
  },
  {
   "cell_type": "code",
   "execution_count": 2,
   "id": "715918ab-5cd5-4ade-8330-c0900785bf4b",
   "metadata": {},
   "outputs": [
    {
     "data": {
      "text/plain": [
       "undefined"
      ]
     },
     "execution_count": 2,
     "metadata": {},
     "output_type": "execute_result"
    }
   ],
   "source": [
    "type Shape = Circle | Rectangle;"
   ]
  },
  {
   "cell_type": "code",
   "execution_count": 3,
   "id": "fbf00226-eb27-468e-8111-497d563d24c4",
   "metadata": {},
   "outputs": [
    {
     "data": {
      "text/plain": [
       "undefined"
      ]
     },
     "execution_count": 3,
     "metadata": {},
     "output_type": "execute_result"
    }
   ],
   "source": [
    "function calculateArea(shape: Shape): number {\n",
    "    if (shape.kind === \"circle\") {\n",
    "        return Math.PI * shape.radius ** 2;\n",
    "    } else {\n",
    "        return shape.width * shape.height;\n",
    "    }\n",
    "}"
   ]
  },
  {
   "cell_type": "code",
   "execution_count": null,
   "id": "71565a05-9ab7-4086-a272-ce2f32870928",
   "metadata": {},
   "outputs": [],
   "source": []
  },
  {
   "cell_type": "code",
   "execution_count": 4,
   "id": "2d01deb9-9003-49cd-b189-acfe48d9fd8d",
   "metadata": {},
   "outputs": [
    {
     "name": "stdout",
     "output_type": "stream",
     "text": [
      "78.53981633974483\n",
      "24\n"
     ]
    },
    {
     "data": {
      "text/plain": [
       "undefined"
      ]
     },
     "execution_count": 4,
     "metadata": {},
     "output_type": "execute_result"
    }
   ],
   "source": [
    "const circle: Circle = { kind: \"circle\", radius: 5 };\n",
    "const rectangle: Rectangle = { kind: \"rectangle\", width: 4, height: 6 };\n",
    "\n",
    "console.log(calculateArea(circle));     // Calculates the area of the circle\n",
    "console.log(calculateArea(rectangle));  // Calculates the area of the rectangle"
   ]
  },
  {
   "cell_type": "code",
   "execution_count": null,
   "id": "927b6afa-0880-483d-8da8-7369831a73d2",
   "metadata": {},
   "outputs": [],
   "source": []
  },
  {
   "cell_type": "markdown",
   "id": "016e6efa-0299-43f8-ac97-1281290318cf",
   "metadata": {},
   "source": [
    "## 클래스 유니온 타입 처리 "
   ]
  },
  {
   "cell_type": "code",
   "execution_count": 5,
   "id": "5a23521e-e964-4167-82e7-469183a0c295",
   "metadata": {},
   "outputs": [
    {
     "data": {
      "text/plain": [
       "undefined"
      ]
     },
     "execution_count": 5,
     "metadata": {},
     "output_type": "execute_result"
    }
   ],
   "source": [
    "class Circle1 {\n",
    "    constructor(public radius: number) {}\n",
    "    getArea() {\n",
    "        return Math.PI * this.radius ** 2;\n",
    "    }\n",
    "}\n",
    "\n",
    "class Rectangle1 {\n",
    "    constructor(public width: number, public height: number) {}\n",
    "    getArea() {\n",
    "        return this.width * this.height;\n",
    "    }\n",
    "}\n"
   ]
  },
  {
   "cell_type": "code",
   "execution_count": 6,
   "id": "87bcc8b2-a4ec-4177-8543-4dfe3c1592ed",
   "metadata": {},
   "outputs": [
    {
     "data": {
      "text/plain": [
       "undefined"
      ]
     },
     "execution_count": 6,
     "metadata": {},
     "output_type": "execute_result"
    }
   ],
   "source": [
    "type Shape1 = Circle1 | Rectangle1;"
   ]
  },
  {
   "cell_type": "code",
   "execution_count": 8,
   "id": "841808a6-6cd6-42d4-a5a4-80b935d0ac73",
   "metadata": {},
   "outputs": [
    {
     "data": {
      "text/plain": [
       "undefined"
      ]
     },
     "execution_count": 8,
     "metadata": {},
     "output_type": "execute_result"
    }
   ],
   "source": [
    "function calculateArea1(shape: Shape1): number {\n",
    "    return shape.getArea();\n",
    "}"
   ]
  },
  {
   "cell_type": "code",
   "execution_count": 9,
   "id": "b992d390-a051-4517-bbc4-6f4462e519a9",
   "metadata": {},
   "outputs": [
    {
     "name": "stdout",
     "output_type": "stream",
     "text": [
      "78.53981633974483\n",
      "24\n"
     ]
    },
    {
     "data": {
      "text/plain": [
       "undefined"
      ]
     },
     "execution_count": 9,
     "metadata": {},
     "output_type": "execute_result"
    }
   ],
   "source": [
    "const circle1 = new Circle1(5);\n",
    "const rectangle1 = new Rectangle1(4, 6);\n",
    "\n",
    "console.log(calculateArea1(circle1));     // Calculates the area of the circle\n",
    "console.log(calculateArea1(rectangle1));  // Calculates the area of the rectangle"
   ]
  },
  {
   "cell_type": "code",
   "execution_count": null,
   "id": "b0d5325e-b06e-4596-a764-5814da6e4c39",
   "metadata": {},
   "outputs": [],
   "source": []
  },
  {
   "cell_type": "code",
   "execution_count": null,
   "id": "23c119af-5dba-49df-84cf-a4f8ee905dac",
   "metadata": {},
   "outputs": [],
   "source": []
  },
  {
   "cell_type": "code",
   "execution_count": null,
   "id": "830f2e6d-e919-4dfa-b284-3f8cca31abf2",
   "metadata": {},
   "outputs": [],
   "source": []
  }
 ],
 "metadata": {
  "kernelspec": {
   "display_name": "Typescript 4.9",
   "language": "typescript",
   "name": "typescript"
  },
  "language_info": {
   "file_extension": ".ts",
   "mimetype": "application/x-typescript",
   "name": "typescript",
   "version": "4.9.5"
  }
 },
 "nbformat": 4,
 "nbformat_minor": 5
}
