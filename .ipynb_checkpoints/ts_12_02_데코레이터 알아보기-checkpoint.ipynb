{
 "cells": [
  {
   "cell_type": "code",
   "execution_count": null,
   "id": "e95f23a5-1f32-4d97-ab8a-5fdf699f4c9d",
   "metadata": {},
   "outputs": [],
   "source": []
  },
  {
   "cell_type": "code",
   "execution_count": 1,
   "id": "9f35351f-2a73-45ba-aad3-f55bc6d5b336",
   "metadata": {},
   "outputs": [
    {
     "data": {
      "text/plain": [
       "undefined"
      ]
     },
     "execution_count": 1,
     "metadata": {},
     "output_type": "execute_result"
    }
   ],
   "source": [
    "interface Student2  {\n",
    "    name : string,\n",
    "    college : string\n",
    "\n",
    "}"
   ]
  },
  {
   "cell_type": "code",
   "execution_count": null,
   "id": "86fe238f-78b5-45ea-8e0b-8dc3e73d56a1",
   "metadata": {},
   "outputs": [],
   "source": []
  },
  {
   "cell_type": "code",
   "execution_count": 2,
   "id": "3d4c5958-a615-428c-84d8-fc0c291909a3",
   "metadata": {
    "editable": true,
    "slideshow": {
     "slide_type": ""
    },
    "tags": []
   },
   "outputs": [
    {
     "ename": "TypeError",
     "evalue": "Cannot assign to read only property 'data1' of object '#<Test>'",
     "execution_count": 2,
     "output_type": "error",
     "traceback": [
      "evalmachine.<anonymous>:17",
      "        this.data1 = 0;",
      "                   ^",
      "",
      "TypeError: Cannot assign to read only property 'data1' of object '#<Test>'",
      "    at new Test (evalmachine.<anonymous>:17:20)",
      "    at evalmachine.<anonymous>:27:11",
      "    at Script.runInThisContext (node:vm:129:12)",
      "    at Object.runInThisContext (node:vm:307:38)",
      "    at run ([eval]:1020:15)",
      "    at onRunRequest ([eval]:864:18)",
      "    at onMessage ([eval]:828:13)",
      "    at process.emit (node:events:513:28)",
      "    at emit (node:internal/child_process:937:14)",
      "    at process.processTicksAndRejections (node:internal/process/task_queues:83:21)"
     ]
    }
   ],
   "source": [
    "function readonly(writable: boolean) {\n",
    "   return function (target: any, decoratedPropertyName: any): any {\n",
    "      return {\n",
    "         writable: !writable,\n",
    "      };\n",
    "   };\n",
    "}\n",
    "\n",
    "class Test {\n",
    "   property = 'property';\n",
    "\n",
    "   @readonly(true)\n",
    "   public data1 = 0;\n",
    "\n",
    "   @readonly(true)\n",
    "   public data2 = 0;\n",
    "}\n",
    "\n",
    "const t = new Test();\n",
    "t.data1 = 1000;\n",
    "t.data2 = 1000; // 런타임 에러 !! - data2는 writable이 false라서 값을 대입할 수가 없다."
   ]
  },
  {
   "cell_type": "code",
   "execution_count": null,
   "id": "da8b5e5a-a05e-4f16-89f4-1f6274d3a686",
   "metadata": {},
   "outputs": [],
   "source": []
  },
  {
   "cell_type": "code",
   "execution_count": 3,
   "id": "4f68a5e7-6a54-4750-8586-93fef41f56cf",
   "metadata": {
    "editable": true,
    "slideshow": {
     "slide_type": ""
    },
    "tags": []
   },
   "outputs": [
    {
     "name": "stdout",
     "output_type": "stream",
     "text": [
      "Calling method add with arguments: \n",
      "Method add returned: 15\n",
      "15\n",
      "Calling method subtract with arguments: \n",
      "Method subtract returned: 5\n",
      "5\n"
     ]
    },
    {
     "data": {
      "text/plain": [
       "undefined"
      ]
     },
     "execution_count": 3,
     "metadata": {},
     "output_type": "execute_result"
    }
   ],
   "source": [
    "// 데코레이터 함수\n",
    "function log(target: any, propertyKey: string, descriptor: PropertyDescriptor) {\n",
    "  const originalMethod = descriptor.value;\n",
    "\n",
    "  descriptor.value = function (...args: any[]) {\n",
    "    console.log(`Calling method ${propertyKey} with arguments: ${args}`);\n",
    "    const result = originalMethod.apply(this, args);\n",
    "    console.log(`Method ${propertyKey} returned: ${result}`);\n",
    "    return result;\n",
    "  };\n",
    "\n",
    "  return descriptor;\n",
    "}\n",
    "\n",
    "// 클래스에 데코레이터 적용\n",
    "class Calculator {\n",
    "  constructor(public x: number, public y: number) {}\n",
    "\n",
    "  @log\n",
    "  add() {\n",
    "    return this.x + this.y;\n",
    "  }\n",
    "\n",
    "  @log\n",
    "  subtract() {\n",
    "    return this.x - this.y;\n",
    "  }\n",
    "}\n",
    "\n",
    "// 데코레이터 적용된 메서드 호출\n",
    "const calc = new Calculator(10, 5);\n",
    "console.log(calc.add());      // 출력: Calling method add with arguments: 10,5 / Method add returned: 15\n",
    "console.log(calc.subtract()); // 출력: Calling method subtract with arguments: 10,5 / Method subtract returned: 5\n"
   ]
  },
  {
   "cell_type": "code",
   "execution_count": null,
   "id": "94b6034e-3ca2-4379-b009-f9184c365ae4",
   "metadata": {
    "editable": true,
    "slideshow": {
     "slide_type": ""
    },
    "tags": []
   },
   "outputs": [],
   "source": []
  }
 ],
 "metadata": {
  "kernelspec": {
   "display_name": "Typescript 4.9",
   "language": "typescript",
   "name": "typescript"
  },
  "language_info": {
   "file_extension": ".ts",
   "mimetype": "application/x-typescript",
   "name": "typescript",
   "version": "4.9.5"
  }
 },
 "nbformat": 4,
 "nbformat_minor": 5
}
