{
 "cells": [
  {
   "cell_type": "code",
   "execution_count": null,
   "id": "7fdad3e1-4934-403e-a64f-74142d228b8c",
   "metadata": {},
   "outputs": [],
   "source": []
  },
  {
   "cell_type": "code",
   "execution_count": null,
   "id": "927a8a58-7b15-4576-a4fe-4acfb252da11",
   "metadata": {},
   "outputs": [],
   "source": []
  },
  {
   "cell_type": "markdown",
   "id": "3317f1d5-9e7d-46a2-b5e7-264fe3806548",
   "metadata": {},
   "source": [
    "## 구조적 타이핑(Structural Typing)은\n",
    "- 타입스크립트와 같은 구조화된 프로그래밍 언어에서 타입을 비교하고 호환성을 검사하는 방식을 나타냅니다. \n",
    "- 구조적 타이핑은 타입이 어떻게 구성되었는지에 따라 타입이 호환되는지를 결정합니다. \n",
    "- 이는 타입의 이름이나 명시적으로 선언된 인터페이스가 아니라, 타입의 내부 구조를 기반으로 합니다."
   ]
  },
  {
   "cell_type": "code",
   "execution_count": null,
   "id": "dca6bd05-51de-4759-8cf6-e7e1c8b66b53",
   "metadata": {},
   "outputs": [],
   "source": []
  },
  {
   "cell_type": "markdown",
   "id": "954af927-4602-4e4a-940f-6df3c2677b85",
   "metadata": {},
   "source": [
    "## 1. 구조적 타이핑 처리 방식\n",
    "- 구조적 타이핑은 객체의 프로퍼티와 타입이 일치하면 호환 가능한 타입으로 간주합니다. \n",
    "- 이는 객체의 구조가 중요하며, 타입의 이름이나 명시적인 상속 관계보다 객체의 구성이 더 중요하다는 개념입니다.\n",
    "- 이러한 구조적 타이핑 접근 방식은 코드 재사용성과 유연성을 높여주는 동시에, 조심하지 않으면 예기치 않은 호환성 문제가 발생할 수 있는 상황도 만들 수 있습니다.\n",
    "- 따라서 구조적 타이핑을 이해하고 사용할 때에는 타입의 호환성을 명확하게 이해하고 예상된 동작을 확인하는 것이 중요합니다."
   ]
  },
  {
   "cell_type": "code",
   "execution_count": null,
   "id": "555c04f8-9b53-4bec-863c-0dd52843931d",
   "metadata": {},
   "outputs": [],
   "source": []
  },
  {
   "cell_type": "markdown",
   "id": "68e56aa7-7c7e-4488-8250-c2078a7c5589",
   "metadata": {},
   "source": [
    "## 1-1 호환해서 할당하기 "
   ]
  },
  {
   "cell_type": "code",
   "execution_count": 1,
   "id": "d9d855e5-6706-444a-94c6-5a8a8525231c",
   "metadata": {},
   "outputs": [
    {
     "data": {
      "text/plain": [
       "'use strict'"
      ]
     },
     "execution_count": 1,
     "metadata": {},
     "output_type": "execute_result"
    }
   ],
   "source": [
    "interface Person {\n",
    "    name: string;\n",
    "    age: number;\n",
    "}"
   ]
  },
  {
   "cell_type": "code",
   "execution_count": 2,
   "id": "1ebc73f6-c14f-481e-9c88-818b0fbbbdb9",
   "metadata": {},
   "outputs": [
    {
     "data": {
      "text/plain": [
       "undefined"
      ]
     },
     "execution_count": 2,
     "metadata": {},
     "output_type": "execute_result"
    }
   ],
   "source": [
    "\n",
    "let personA: Person = { name: \"Alice\", age: 30 };\n",
    "let personB =  {name: \"dahl\", age: 33 }; "
   ]
  },
  {
   "cell_type": "code",
   "execution_count": 3,
   "id": "67af8b8e-8780-4e12-b50e-c2dd3a3e4937",
   "metadata": {},
   "outputs": [
    {
     "data": {
      "text/plain": [
       "{ name: 'dahl', age: 33 }"
      ]
     },
     "execution_count": 3,
     "metadata": {},
     "output_type": "execute_result"
    }
   ],
   "source": [
    "// personB는 Person 인터페이스를 명시적으로 구현하지 않았지만 personA와 호환 가능한 구조를 가지므로 할당이 가능\n",
    "personA = personB;"
   ]
  },
  {
   "cell_type": "code",
   "execution_count": null,
   "id": "8a86b293-e753-46e6-b0dd-ee7af3662021",
   "metadata": {},
   "outputs": [],
   "source": []
  },
  {
   "cell_type": "code",
   "execution_count": null,
   "id": "aa2fc642-6b19-4d59-8a1a-594d3b0ffc3b",
   "metadata": {},
   "outputs": [],
   "source": []
  },
  {
   "cell_type": "markdown",
   "id": "fda084be-fa03-4521-b2aa-35c971ccb701",
   "metadata": {},
   "source": [
    "## 1-2 별칭 타입을 모두 가진 객체는 각각의 자료형으로 매핑가능"
   ]
  },
  {
   "cell_type": "code",
   "execution_count": 4,
   "id": "e46ba04b-f80c-4a8d-9874-8eeadac138d7",
   "metadata": {},
   "outputs": [
    {
     "data": {
      "text/plain": [
       "undefined"
      ]
     },
     "execution_count": 4,
     "metadata": {},
     "output_type": "execute_result"
    }
   ],
   "source": [
    "type WFirstName = {\n",
    "    firstname: string\n",
    "}"
   ]
  },
  {
   "cell_type": "code",
   "execution_count": 5,
   "id": "90bcbb0d-e02e-4e63-9849-e9e97cb4ec08",
   "metadata": {},
   "outputs": [
    {
     "data": {
      "text/plain": [
       "undefined"
      ]
     },
     "execution_count": 5,
     "metadata": {},
     "output_type": "execute_result"
    }
   ],
   "source": [
    "type WLastName = {\n",
    "    lastname: string\n",
    "}"
   ]
  },
  {
   "cell_type": "code",
   "execution_count": 6,
   "id": "25241bde-b09f-467c-a6c0-b9074c9f5926",
   "metadata": {},
   "outputs": [
    {
     "data": {
      "text/plain": [
       "undefined"
      ]
     },
     "execution_count": 6,
     "metadata": {},
     "output_type": "execute_result"
    }
   ],
   "source": [
    "const hasBoth = {\n",
    "    firstname : \"지원\",\n",
    "    lastname : \"문\"\n",
    "}"
   ]
  },
  {
   "cell_type": "code",
   "execution_count": 8,
   "id": "972d6d89-9808-4d3d-893a-ab93d63b1ffa",
   "metadata": {},
   "outputs": [
    {
     "data": {
      "text/plain": [
       "undefined"
      ]
     },
     "execution_count": 8,
     "metadata": {},
     "output_type": "execute_result"
    }
   ],
   "source": [
    "let withFirstname : WFirstName = hasBoth;"
   ]
  },
  {
   "cell_type": "code",
   "execution_count": 9,
   "id": "86c5ca85-afdc-4999-acb0-b80d2592776f",
   "metadata": {},
   "outputs": [
    {
     "data": {
      "text/plain": [
       "undefined"
      ]
     },
     "execution_count": 9,
     "metadata": {},
     "output_type": "execute_result"
    }
   ],
   "source": [
    "let withLastname : WLastName = hasBoth;"
   ]
  },
  {
   "cell_type": "code",
   "execution_count": null,
   "id": "8f126e86-fc95-4753-a622-8d5d40ce83b4",
   "metadata": {},
   "outputs": [],
   "source": []
  },
  {
   "cell_type": "code",
   "execution_count": null,
   "id": "c1e786a8-e06a-4e3e-bc27-a91351ec95f4",
   "metadata": {},
   "outputs": [],
   "source": []
  },
  {
   "cell_type": "markdown",
   "id": "b7768ec1-f1ee-4400-8592-834ddd3ecdca",
   "metadata": {},
   "source": [
    "## 1-3 속성 검사 "
   ]
  },
  {
   "cell_type": "code",
   "execution_count": 10,
   "id": "c72d9d8e-b4be-4876-b1c3-eea612e961b9",
   "metadata": {},
   "outputs": [
    {
     "data": {
      "text/plain": [
       "undefined"
      ]
     },
     "execution_count": 10,
     "metadata": {},
     "output_type": "execute_result"
    }
   ],
   "source": [
    "type Name = {\n",
    "     firstname: string;\n",
    "    lastname: string;\n",
    "}"
   ]
  },
  {
   "cell_type": "markdown",
   "id": "6644d209-bf0a-4b95-a72a-3ec4ce456638",
   "metadata": {},
   "source": [
    "### 두 개의 속성 값을 처리하면 객체 생성"
   ]
  },
  {
   "cell_type": "code",
   "execution_count": 11,
   "id": "8b53566d-4c15-45e1-8fcf-4828efeb680f",
   "metadata": {},
   "outputs": [
    {
     "data": {
      "text/plain": [
       "undefined"
      ]
     },
     "execution_count": 11,
     "metadata": {},
     "output_type": "execute_result"
    }
   ],
   "source": [
    "const hasBoth1 : Name = {\n",
    "    firstname: \"ㅎㅎㅎ\" ,\n",
    "    lastname: \"강\"\n",
    "}"
   ]
  },
  {
   "cell_type": "markdown",
   "id": "1dc8ec41-eeec-4ec7-98ba-3683f6e5488f",
   "metadata": {},
   "source": [
    "### 두 개의 속성이 전부 필요"
   ]
  },
  {
   "cell_type": "code",
   "execution_count": 12,
   "id": "b28e8fb1-bac1-4a28-b571-17280c3e67a6",
   "metadata": {},
   "outputs": [
    {
     "ename": "Error",
     "evalue": "Line 1, Character 7\nconst hasBoth2 : Name = {\n______^\nTS2741: Property 'lastname' is missing in type '{ firstname: string; }' but required in type 'Name'.",
     "execution_count": 12,
     "output_type": "error",
     "traceback": [
      "Error: Line 1, Character 7",
      "const hasBoth2 : Name = {",
      "______^",
      "TS2741: Property 'lastname' is missing in type '{ firstname: string; }' but required in type 'Name'.",
      "    at execTranspile (/usr/local/lib/node_modules/itypescript/lib/kernel.js:229:23)",
      "    at Session.transpiler [as transpile] (/usr/local/lib/node_modules/itypescript/lib/kernel.js:288:35)",
      "    at Session._runNow (/usr/local/lib/node_modules/itypescript/node_modules/nel/lib/nel.js:835:39)",
      "    at Session._run (/usr/local/lib/node_modules/itypescript/node_modules/nel/lib/nel.js:786:14)",
      "    at Session.execute (/usr/local/lib/node_modules/itypescript/node_modules/nel/lib/nel.js:929:10)",
      "    at Kernel.execute_request (/usr/local/lib/node_modules/itypescript/node_modules/jp-kernel/lib/handlers_v5.js:116:18)",
      "    at Kernel.onShellMessage (/usr/local/lib/node_modules/itypescript/node_modules/jp-kernel/lib/jp-kernel.js:285:41)",
      "    at Socket.<anonymous> (/usr/local/lib/node_modules/itypescript/node_modules/jmp/index.js:350:17)",
      "    at Socket.emit (node:events:513:28)",
      "    at Socket._emitMessage (/usr/local/lib/node_modules/itypescript/node_modules/zeromq/lib/index.js:649:15)"
     ]
    }
   ],
   "source": [
    "const hasBoth2 : Name = {\n",
    "    firstname: \"ㅎㅎㅎ\" ,\n",
    "}"
   ]
  },
  {
   "cell_type": "code",
   "execution_count": null,
   "id": "7abc6616-e6ef-47d8-82af-a23baa4a2a67",
   "metadata": {},
   "outputs": [],
   "source": []
  },
  {
   "cell_type": "markdown",
   "id": "d6b56084-27b3-4a59-8891-bac2b348aba1",
   "metadata": {},
   "source": [
    "## 1-4 초과속성 검사\n",
    "\n",
    "- 타입에 대한 초기값 처리할 때 검사\n",
    "\n",
    "- 타입스크립트에서 \"초과속성 검사\"란 객체를 생성할 때 타입이 정의된 프로퍼티 이외의 프로퍼티를 추가하려고 할 때 발생하는 경고나 에러를 말합니다.\n",
    "-  이는 타입 안정성을 유지하기 위해 타입 시스템이 프로퍼티의 불일치를 감지하는 메커니즘입니다."
   ]
  },
  {
   "cell_type": "code",
   "execution_count": null,
   "id": "97f9b532-120c-4a62-b382-3a12d00ed05a",
   "metadata": {},
   "outputs": [],
   "source": []
  },
  {
   "cell_type": "code",
   "execution_count": 13,
   "id": "d00702b1-ac2b-4c91-b7d4-902ce5c0db7a",
   "metadata": {},
   "outputs": [
    {
     "data": {
      "text/plain": [
       "undefined"
      ]
     },
     "execution_count": 13,
     "metadata": {},
     "output_type": "execute_result"
    }
   ],
   "source": [
    "type Person4 = {\n",
    "    name: string;\n",
    "    age: number;\n",
    "};\n"
   ]
  },
  {
   "cell_type": "markdown",
   "id": "32db5e78-9392-4774-9068-0b0cf7e76d38",
   "metadata": {},
   "source": [
    "### 1-4-1 객체를 생성할 때 초과속성이 있어 에러 처리"
   ]
  },
  {
   "cell_type": "code",
   "execution_count": 14,
   "id": "e6df147a-e5c3-45ce-87d1-96600dcc3326",
   "metadata": {},
   "outputs": [
    {
     "ename": "Error",
     "evalue": "Line 4, Character 5\n    gender: \"female\" // 초과속성 검사 에러: 'gender' 프로퍼티가 'Person' 타입에 존재하지 않음\n____^\nTS2322: Type '{ name: string; age: number; gender: string; }' is not assignable to type 'Person4'.\n  Object literal may only specify known properties, and 'gender' does not exist in type 'Person4'.",
     "execution_count": 14,
     "output_type": "error",
     "traceback": [
      "Error: Line 4, Character 5",
      "    gender: \"female\" // 초과속성 검사 에러: 'gender' 프로퍼티가 'Person' 타입에 존재하지 않음",
      "____^",
      "TS2322: Type '{ name: string; age: number; gender: string; }' is not assignable to type 'Person4'.",
      "  Object literal may only specify known properties, and 'gender' does not exist in type 'Person4'.",
      "    at execTranspile (/usr/local/lib/node_modules/itypescript/lib/kernel.js:229:23)",
      "    at Session.transpiler [as transpile] (/usr/local/lib/node_modules/itypescript/lib/kernel.js:288:35)",
      "    at Session._runNow (/usr/local/lib/node_modules/itypescript/node_modules/nel/lib/nel.js:835:39)",
      "    at Session._run (/usr/local/lib/node_modules/itypescript/node_modules/nel/lib/nel.js:786:14)",
      "    at Session.execute (/usr/local/lib/node_modules/itypescript/node_modules/nel/lib/nel.js:929:10)",
      "    at Kernel.execute_request (/usr/local/lib/node_modules/itypescript/node_modules/jp-kernel/lib/handlers_v5.js:116:18)",
      "    at Kernel.onShellMessage (/usr/local/lib/node_modules/itypescript/node_modules/jp-kernel/lib/jp-kernel.js:285:41)",
      "    at Socket.<anonymous> (/usr/local/lib/node_modules/itypescript/node_modules/jmp/index.js:350:17)",
      "    at Socket.emit (node:events:513:28)",
      "    at Socket._emitMessage (/usr/local/lib/node_modules/itypescript/node_modules/zeromq/lib/index.js:649:15)"
     ]
    }
   ],
   "source": [
    "const person4: Person4 = {\n",
    "    name: \"Alice\",\n",
    "    age: 30,\n",
    "    gender: \"female\" // 초과속성 검사 에러: 'gender' 프로퍼티가 'Person' 타입에 존재하지 않음\n",
    "};"
   ]
  },
  {
   "cell_type": "code",
   "execution_count": null,
   "id": "c7596c9a-f60d-47ae-8e0f-c58e808861dc",
   "metadata": {},
   "outputs": [],
   "source": []
  },
  {
   "cell_type": "markdown",
   "id": "90a1655d-8fd6-4f88-a453-3fc1799ec803",
   "metadata": {},
   "source": [
    "## 1-4-2 우회하면 에러 없이 초과속성이라도 처리가 됨\n",
    "\n",
    "- 먼저 객체 속성을 정의하고 변수에 할당 처리"
   ]
  },
  {
   "cell_type": "markdown",
   "id": "8ee458e8-226d-4002-8bd0-54ce2705c262",
   "metadata": {},
   "source": [
    "### 임의의 객체 생성 "
   ]
  },
  {
   "cell_type": "code",
   "execution_count": 15,
   "id": "abc3679e-fda3-40b9-98e1-6d0d420da0d4",
   "metadata": {},
   "outputs": [
    {
     "data": {
      "text/plain": [
       "undefined"
      ]
     },
     "execution_count": 15,
     "metadata": {},
     "output_type": "execute_result"
    }
   ],
   "source": [
    "const person5  = {\n",
    "    name: \"Alice\",\n",
    "    age: 30,\n",
    "    gender: \"female\" // 초과속성 검사 에러: 'gender' 프로퍼티가 'Person' 타입에 존재하지 않음\n",
    "};"
   ]
  },
  {
   "cell_type": "markdown",
   "id": "9084196e-00c3-440f-a6be-0f94eed8beb5",
   "metadata": {},
   "source": [
    "### 타입이 지정한 상수에 기존 생성 객체 할당\n",
    "- 초과 속성을 가지지만 에러가 없음 "
   ]
  },
  {
   "cell_type": "code",
   "execution_count": 16,
   "id": "da2bb40a-804d-423d-b2fb-196ef7dd2f69",
   "metadata": {},
   "outputs": [
    {
     "data": {
      "text/plain": [
       "undefined"
      ]
     },
     "execution_count": 16,
     "metadata": {},
     "output_type": "execute_result"
    }
   ],
   "source": [
    "const person7: Person4 = person5 ;"
   ]
  },
  {
   "cell_type": "code",
   "execution_count": null,
   "id": "2f41543d-f173-4c8b-aad2-a6ab793ae247",
   "metadata": {},
   "outputs": [],
   "source": []
  },
  {
   "cell_type": "code",
   "execution_count": null,
   "id": "6ac28dfc-a9b7-4ca7-a4ce-b6a156fc939d",
   "metadata": {},
   "outputs": [],
   "source": []
  },
  {
   "cell_type": "markdown",
   "id": "752f5198-952a-4582-80ae-4771f52ef70f",
   "metadata": {},
   "source": [
    "### 1-4-3  타입 단언 처리 \n",
    "\n",
    "- 추가 프로퍼티를 포함하여 객체를 생성하고자 한다면, 타입 단언을 사용하여 해당 객체의 타입을 확정짓습니다."
   ]
  },
  {
   "cell_type": "code",
   "execution_count": null,
   "id": "420010e9-d99b-4686-9034-6369ce508a1a",
   "metadata": {},
   "outputs": [],
   "source": []
  },
  {
   "cell_type": "code",
   "execution_count": 17,
   "id": "5558746d-60c4-4691-9f9f-4a2799d44520",
   "metadata": {},
   "outputs": [
    {
     "data": {
      "text/plain": [
       "undefined"
      ]
     },
     "execution_count": 17,
     "metadata": {},
     "output_type": "execute_result"
    }
   ],
   "source": [
    "const person = {\n",
    "    name: \"Alice\",\n",
    "    age: 30,\n",
    "    gender: \"female\"\n",
    "} as Person4;"
   ]
  },
  {
   "cell_type": "code",
   "execution_count": null,
   "id": "05cca2f2-de18-49f4-97a1-c54191a8a1f6",
   "metadata": {},
   "outputs": [],
   "source": []
  },
  {
   "cell_type": "code",
   "execution_count": null,
   "id": "27eaf126-d561-4021-8e0d-3848c1d32c5b",
   "metadata": {},
   "outputs": [],
   "source": []
  },
  {
   "cell_type": "code",
   "execution_count": null,
   "id": "9593f4ed-c954-4a3c-af96-aa1e92195e23",
   "metadata": {},
   "outputs": [],
   "source": []
  },
  {
   "cell_type": "code",
   "execution_count": null,
   "id": "755fb289-49f0-49cf-9921-fd5f27e157b2",
   "metadata": {},
   "outputs": [],
   "source": []
  },
  {
   "cell_type": "code",
   "execution_count": null,
   "id": "902d2de9-085f-4ed3-8cda-0c483e30a8a8",
   "metadata": {},
   "outputs": [],
   "source": []
  }
 ],
 "metadata": {
  "kernelspec": {
   "display_name": "Typescript 4.9",
   "language": "typescript",
   "name": "typescript"
  },
  "language_info": {
   "file_extension": ".ts",
   "mimetype": "application/x-typescript",
   "name": "typescript",
   "version": "4.9.5"
  }
 },
 "nbformat": 4,
 "nbformat_minor": 5
}
