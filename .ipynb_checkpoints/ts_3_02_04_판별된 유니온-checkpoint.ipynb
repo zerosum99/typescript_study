{
 "cells": [
  {
   "cell_type": "code",
   "execution_count": null,
   "id": "6369a200-ed28-41a0-b39c-9fa2d682821a",
   "metadata": {},
   "outputs": [],
   "source": []
  },
  {
   "cell_type": "code",
   "execution_count": null,
   "id": "0b3bedc3-10ed-4460-8cba-5784c7e42d27",
   "metadata": {},
   "outputs": [],
   "source": []
  },
  {
   "cell_type": "markdown",
   "id": "0d9f3582-7528-4bec-85ae-0f798e6255cc",
   "metadata": {},
   "source": [
    "## \"판별된 유니온(Discriminated Union)\"은 \n",
    "- 유니온 타입에 속한 객체를 식별하고 구분하기 위해 특정 속성을 사용하는 패턴을 의미합니다. \n",
    "- 이를 통해 객체의 종류를 정확하게 판별하고 해당 객체의 속성에 접근할 수 있습니다.\n",
    "\n",
    "### 판별된 유니온을 만들려면 다음 세 가지 요소를 고려해야 합니다:\n",
    "\n",
    "- 공통 속성(Shared Property): 판별된 유니온의 각 객체는 공통된 식별자를 갖는 속성을 가져야 합니다. 이 속성은 해당 객체의 종류를 나타내는 역할을 합니다.\n",
    "\n",
    "- 리터럴 타입(Literal Type): 공통 속성의 값은 리터럴 타입으로 정의되어야 합니다. 이를 통해 TypeScript는 가능한 값의 종류를 알 수 있습니다.\n",
    "\n",
    "- 판별자 속성(Discriminator Property): 공통 속성을 판별자로 사용하여 객체의 종류를 식별합니다."
   ]
  },
  {
   "cell_type": "markdown",
   "id": "769ea009-4fbe-477d-b752-e8f913210a86",
   "metadata": {},
   "source": [
    "### 공통 속성 추가 후 유니온 자료형 정의 "
   ]
  },
  {
   "cell_type": "code",
   "execution_count": 1,
   "id": "1352feb7-7c1f-4dba-a704-beba388af7f0",
   "metadata": {},
   "outputs": [
    {
     "data": {
      "text/plain": [
       "'use strict'"
      ]
     },
     "execution_count": 1,
     "metadata": {},
     "output_type": "execute_result"
    }
   ],
   "source": [
    "type Animal = {\n",
    "    type: \"animal\"; // 리터럴 타입\n",
    "    name: string;\n",
    "    species: string;\n",
    "};\n",
    "\n",
    "type Person = {\n",
    "    type: \"person\"; // 리터럴 타입\n",
    "    name: string;\n",
    "    age: number;\n",
    "};\n",
    "\n",
    "type Entity = Animal | Person; // 판별된 유니온\n"
   ]
  },
  {
   "cell_type": "markdown",
   "id": "59c471af-753c-4af7-bd68-1f083e2b767f",
   "metadata": {},
   "source": [
    "### 함수 매개변수로 유이온 자료형 지정 "
   ]
  },
  {
   "cell_type": "code",
   "execution_count": 2,
   "id": "47fdfc78-f286-4771-9e86-66f4268b5bb2",
   "metadata": {},
   "outputs": [
    {
     "data": {
      "text/plain": [
       "undefined"
      ]
     },
     "execution_count": 2,
     "metadata": {},
     "output_type": "execute_result"
    }
   ],
   "source": [
    "function displayEntity(entity: Entity) {\n",
    "    switch (entity.type) {\n",
    "        case \"animal\":\n",
    "            console.log(`Animal: ${entity.name}, Species: ${entity.species}`);\n",
    "            break;\n",
    "        case \"person\":\n",
    "            console.log(`Person: ${entity.name}, Age: ${entity.age}`);\n",
    "            break;\n",
    "        default:\n",
    "            assertNever(entity);\n",
    "    }\n",
    "}\n",
    "\n",
    "function assertNever(value: never) {\n",
    "    throw new Error(`Unexpected value: ${value}`);\n",
    "}"
   ]
  },
  {
   "cell_type": "code",
   "execution_count": null,
   "id": "37b1205f-29f3-4bdd-9065-ab7e064ec146",
   "metadata": {},
   "outputs": [],
   "source": []
  },
  {
   "cell_type": "code",
   "execution_count": 3,
   "id": "1c560835-b363-466b-b356-d741f0853398",
   "metadata": {},
   "outputs": [
    {
     "name": "stdout",
     "output_type": "stream",
     "text": [
      "Animal: Leo, Species: Lion\n",
      "Person: Alice, Age: 30\n"
     ]
    },
    {
     "data": {
      "text/plain": [
       "undefined"
      ]
     },
     "execution_count": 3,
     "metadata": {},
     "output_type": "execute_result"
    }
   ],
   "source": [
    "const lion: Animal = { type: \"animal\", name: \"Leo\", species: \"Lion\" };\n",
    "const person: Person = { type: \"person\", name: \"Alice\", age: 30 };\n",
    "\n",
    "displayEntity(lion);   // 출력: \"Animal: Leo, Species: Lion\"\n",
    "displayEntity(person); // 출력: \"Person: Alice, Age: 30\""
   ]
  },
  {
   "cell_type": "code",
   "execution_count": null,
   "id": "75481d9b-1645-429e-8034-dce60efc07f4",
   "metadata": {},
   "outputs": [],
   "source": []
  }
 ],
 "metadata": {
  "kernelspec": {
   "display_name": "Typescript 4.9",
   "language": "typescript",
   "name": "typescript"
  },
  "language_info": {
   "file_extension": ".ts",
   "mimetype": "application/x-typescript",
   "name": "typescript",
   "version": "4.9.5"
  }
 },
 "nbformat": 4,
 "nbformat_minor": 5
}
