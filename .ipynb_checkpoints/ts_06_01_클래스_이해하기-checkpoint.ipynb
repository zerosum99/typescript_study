{
 "cells": [
  {
   "cell_type": "code",
   "execution_count": null,
   "id": "bf85dbdc-8d29-4d93-a6eb-c5f6d9090daf",
   "metadata": {},
   "outputs": [],
   "source": []
  },
  {
   "cell_type": "markdown",
   "id": "a23ab0f2-9025-4977-874a-7ca947826450",
   "metadata": {},
   "source": [
    "## 1.클래스 정의 \n",
    "\n",
    "- ClassName: 클래스의 이름을 정의합니다.\n",
    "- property1, property2: 클래스의 프로퍼티를 정의합니다. 클래스의 상태를 나타내는 변수입니다.\n",
    "- 생성자의 매개변수의 타입 Type1, Type2, Type3: 프로퍼티와 매개변수의 타입을 지정합니다.\n",
    "- constructor(param1: Type1, param2: Type2): 클래스의 생성자 메서드를 정의합니다. 객체를 생성할 때 초기화할 값들을 받아 초기화합니다.\n",
    "- method1(), method2(param: Type3): 클래스의 메서드를 정의합니다. 객체가 가지는 동작을 정의합니다."
   ]
  },
  {
   "cell_type": "code",
   "execution_count": null,
   "id": "9c2a0fe5-97d7-4ef1-9b1b-b8e3c0e5953b",
   "metadata": {},
   "outputs": [],
   "source": []
  },
  {
   "cell_type": "code",
   "execution_count": 1,
   "id": "fbe1b8dc-9af7-4196-b836-2420503a6bff",
   "metadata": {},
   "outputs": [
    {
     "data": {
      "text/plain": [
       "'use strict'"
      ]
     },
     "execution_count": 1,
     "metadata": {},
     "output_type": "execute_result"
    }
   ],
   "source": [
    "class Person {\n",
    "    name: string;\n",
    "    age: number;\n",
    "\n",
    "    constructor(name: string, age: number) {\n",
    "        this.name = name;\n",
    "        this.age = age;\n",
    "    }\n",
    "\n",
    "    introduce() {\n",
    "        console.log(`Hi, I'm ${this.name} and I'm ${this.age} years old.`);\n",
    "    }\n",
    "}\n",
    "\n"
   ]
  },
  {
   "cell_type": "code",
   "execution_count": 2,
   "id": "1bc6c8d1-0579-4bce-8fea-80d7d5c72f88",
   "metadata": {},
   "outputs": [
    {
     "name": "stdout",
     "output_type": "stream",
     "text": [
      "Hi, I'm Alice and I'm 30 years old.\n"
     ]
    },
    {
     "data": {
      "text/plain": [
       "undefined"
      ]
     },
     "execution_count": 2,
     "metadata": {},
     "output_type": "execute_result"
    }
   ],
   "source": [
    "const person1 = new Person(\"Alice\", 30);\n",
    "person1.introduce(); // \"Hi, I'm Alice and I'm 30 years old.\""
   ]
  },
  {
   "cell_type": "code",
   "execution_count": null,
   "id": "653de144-4035-4732-8e03-0d79639acaf1",
   "metadata": {},
   "outputs": [],
   "source": []
  },
  {
   "cell_type": "code",
   "execution_count": null,
   "id": "f94140a8-a291-40ec-831a-5fac974d13d9",
   "metadata": {},
   "outputs": [],
   "source": []
  },
  {
   "cell_type": "markdown",
   "id": "a3bf76e6-61cd-4afc-a9dc-cca48e61147a",
   "metadata": {},
   "source": [
    "## 2. 접근제어 처리 \n",
    "\n",
    "- 접근 제어자(Access Modifiers)는 클래스의 멤버(프로퍼티, 메서드, 생성자 등)에 대한 접근 권한을 제어하는 역할을 합니다.\n",
    "- TypeScript와 같은 언어에서 접근 제어자는 클래스의 캡슐화와 데이터 은닉을 지원하며, 클래스 외부에서의 접근을 제어하여 코드의 안정성과 유지보수성을 높이는 데 도움을 줍니다.\n",
    "\n",
    "\n",
    "### 다음은 TypeScript에서 사용되는 주요 접근 제어자입니다:\n",
    "\n",
    "- public (기본값): 멤버를 클래스 외부에서도 접근할 수 있도록 허용합니다.\n",
    "- private: 멤버를 클래스 외부에서 접근할 수 없도록 제한합니다. 오직 클래스 내부에서만 접근 가능합니다.\n",
    "- protected: 멤버를 클래스 내부와 해당 클래스를 상속받은 하위 클래스에서만 접근할 수 있도록 제한합니다.\n",
    "- readonly: 읽기 전용 속성으로, 값을 초기화한 후에는 변경할 수 없습니다."
   ]
  },
  {
   "cell_type": "code",
   "execution_count": 3,
   "id": "6cac4bc7-cc31-41c2-97bf-9f88f2e04845",
   "metadata": {},
   "outputs": [
    {
     "data": {
      "text/plain": [
       "undefined"
      ]
     },
     "execution_count": 3,
     "metadata": {},
     "output_type": "execute_result"
    }
   ],
   "source": [
    "class MyClass {\n",
    "    public publicProperty: number;                  // 기본값이므로 클래스 외부에서 접근 가능\n",
    "    private privateProperty: string;                // 클래스 외부에서 접근 불가능\n",
    "    protected protectedProperty: boolean;           // 클래스 내부 및 하위 클래스에서 접근 가능\n",
    "    readonly readonlyProperty: string = \"Readonly\"; // 읽기 전용\n",
    "\n",
    "    constructor(publicValue: number, privateValue: string, protectedValue: boolean) {\n",
    "        this.publicProperty = publicValue;\n",
    "        this.privateProperty = privateValue;\n",
    "        this.protectedProperty = protectedValue;\n",
    "    }\n",
    "\n",
    "    private privateMethod() {\n",
    "        // 클래스 내부에서만 접근 가능\n",
    "    }\n",
    "\n",
    "    protected protectedMethod() {\n",
    "        // 클래스 내부 및 하위 클래스에서 접근 가능\n",
    "    }\n",
    "\n",
    "    public publicMethod() {\n",
    "        // 클래스 외부에서도 접근 가능\n",
    "        this.privateMethod(); // 내부 메서드 호출 가능\n",
    "    }\n",
    "}\n"
   ]
  },
  {
   "cell_type": "code",
   "execution_count": 4,
   "id": "d45c146b-354e-481b-8ce4-28d30b41f2f3",
   "metadata": {},
   "outputs": [
    {
     "data": {
      "text/plain": [
       "undefined"
      ]
     },
     "execution_count": 4,
     "metadata": {},
     "output_type": "execute_result"
    }
   ],
   "source": [
    "class SubClass extends MyClass {\n",
    "    constructor() {\n",
    "        super(1, \"private\", true);\n",
    "        this.protectedProperty = false; // 하위 클래스에서 protected 프로퍼티 변경 가능\n",
    "    }\n",
    "}"
   ]
  },
  {
   "cell_type": "code",
   "execution_count": 5,
   "id": "46c69890-23da-44be-8c1c-0630d53071ba",
   "metadata": {},
   "outputs": [
    {
     "name": "stdout",
     "output_type": "stream",
     "text": [
      "42\n"
     ]
    },
    {
     "data": {
      "text/plain": [
       "undefined"
      ]
     },
     "execution_count": 5,
     "metadata": {},
     "output_type": "execute_result"
    }
   ],
   "source": [
    "const instance = new MyClass(42, \"secret\", true);\n",
    "console.log(instance.publicProperty);   // 42"
   ]
  },
  {
   "cell_type": "markdown",
   "id": "c6e3dee3-c837-475b-8567-b35085362b1b",
   "metadata": {},
   "source": [
    "## 접근제어 처리 오류 "
   ]
  },
  {
   "cell_type": "code",
   "execution_count": 3,
   "id": "951cec96-3aef-4e1e-a2db-41497530f823",
   "metadata": {},
   "outputs": [
    {
     "ename": "Error",
     "evalue": "Line 1, Character 22\nconsole.log(instance.privateProperty);  // Error: privateProperty는 접근할 수 없음\n_____________________^\nTS2341: Property 'privateProperty' is private and only accessible within class 'MyClass'.",
     "execution_count": 3,
     "output_type": "error",
     "traceback": [
      "Error: Line 1, Character 22",
      "console.log(instance.privateProperty);  // Error: privateProperty는 접근할 수 없음",
      "_____________________^",
      "TS2341: Property 'privateProperty' is private and only accessible within class 'MyClass'.",
      "    at execTranspile (/usr/local/lib/node_modules/itypescript/lib/kernel.js:229:23)",
      "    at Session.transpiler [as transpile] (/usr/local/lib/node_modules/itypescript/lib/kernel.js:288:35)",
      "    at Session._runNow (/usr/local/lib/node_modules/itypescript/node_modules/nel/lib/nel.js:835:39)",
      "    at Session._run (/usr/local/lib/node_modules/itypescript/node_modules/nel/lib/nel.js:786:14)",
      "    at Session.execute (/usr/local/lib/node_modules/itypescript/node_modules/nel/lib/nel.js:929:10)",
      "    at Kernel.execute_request (/usr/local/lib/node_modules/itypescript/node_modules/jp-kernel/lib/handlers_v5.js:116:18)",
      "    at Kernel.onShellMessage (/usr/local/lib/node_modules/itypescript/node_modules/jp-kernel/lib/jp-kernel.js:285:41)",
      "    at Socket.<anonymous> (/usr/local/lib/node_modules/itypescript/node_modules/jmp/index.js:350:17)",
      "    at Socket.emit (node:events:513:28)",
      "    at Socket._emitMessage (/usr/local/lib/node_modules/itypescript/node_modules/zeromq/lib/index.js:649:15)"
     ]
    }
   ],
   "source": [
    "console.log(instance.privateProperty);  // Error: privateProperty는 접근할 수 없음\n"
   ]
  },
  {
   "cell_type": "code",
   "execution_count": 4,
   "id": "1b8e2fa1-b356-46f6-ab68-758caf37a8d6",
   "metadata": {},
   "outputs": [
    {
     "ename": "Error",
     "evalue": "Line 2, Character 22\nconsole.log(instance.protectedProperty); // Error: protectedProperty는 접근할 수 없음\n_____________________^\nTS2445: Property 'protectedProperty' is protected and only accessible within class 'MyClass' and its subclasses.",
     "execution_count": 4,
     "output_type": "error",
     "traceback": [
      "Error: Line 2, Character 22",
      "console.log(instance.protectedProperty); // Error: protectedProperty는 접근할 수 없음",
      "_____________________^",
      "TS2445: Property 'protectedProperty' is protected and only accessible within class 'MyClass' and its subclasses.",
      "    at execTranspile (/usr/local/lib/node_modules/itypescript/lib/kernel.js:229:23)",
      "    at Session.transpiler [as transpile] (/usr/local/lib/node_modules/itypescript/lib/kernel.js:288:35)",
      "    at Session._runNow (/usr/local/lib/node_modules/itypescript/node_modules/nel/lib/nel.js:835:39)",
      "    at Session._run (/usr/local/lib/node_modules/itypescript/node_modules/nel/lib/nel.js:786:14)",
      "    at Session.execute (/usr/local/lib/node_modules/itypescript/node_modules/nel/lib/nel.js:929:10)",
      "    at Kernel.execute_request (/usr/local/lib/node_modules/itypescript/node_modules/jp-kernel/lib/handlers_v5.js:116:18)",
      "    at Kernel.onShellMessage (/usr/local/lib/node_modules/itypescript/node_modules/jp-kernel/lib/jp-kernel.js:285:41)",
      "    at Socket.<anonymous> (/usr/local/lib/node_modules/itypescript/node_modules/jmp/index.js:350:17)",
      "    at Socket.emit (node:events:513:28)",
      "    at Socket._emitMessage (/usr/local/lib/node_modules/itypescript/node_modules/zeromq/lib/index.js:649:15)"
     ]
    }
   ],
   "source": [
    "\n",
    "console.log(instance.protectedProperty); // Error: protectedProperty는 접근할 수 없음\n"
   ]
  },
  {
   "cell_type": "code",
   "execution_count": 5,
   "id": "37de32e2-b085-43c8-98df-6277ac86b399",
   "metadata": {},
   "outputs": [
    {
     "name": "stdout",
     "output_type": "stream",
     "text": [
      "Readonly\n"
     ]
    },
    {
     "data": {
      "text/plain": [
       "undefined"
      ]
     },
     "execution_count": 5,
     "metadata": {},
     "output_type": "execute_result"
    }
   ],
   "source": [
    "console.log(instance.readonlyProperty);  // \"Readonly\""
   ]
  },
  {
   "cell_type": "code",
   "execution_count": null,
   "id": "14094c4f-0e6d-42dd-9588-8806eacf246f",
   "metadata": {},
   "outputs": [],
   "source": []
  },
  {
   "cell_type": "code",
   "execution_count": null,
   "id": "49761660-2e37-41b5-af14-b8d3b7efc390",
   "metadata": {},
   "outputs": [],
   "source": []
  },
  {
   "cell_type": "markdown",
   "id": "a9b81d0c-18d1-4d98-96ff-ffbabd5a12a1",
   "metadata": {},
   "source": [
    "## 3. 클래스 메서드\n",
    "\n",
    "-  클래스 내에서 정의된 함수로, 해당 클래스의 인스턴스가 아닌 클래스 자체에 속한 동작을 수행하는 함수입니다.\n",
    "-  클래스 메서드는 static 키워드를 사용하여 정의하며, 클래스명을 통해 호출됩니다.\n",
    "-  클래스 메서드는 인스턴스에 속하지 않으므로, 인스턴스의 프로퍼티에 접근할 수 없습니다."
   ]
  },
  {
   "cell_type": "code",
   "execution_count": 7,
   "id": "175773f4-2d67-4d61-9124-98de5d3ad74e",
   "metadata": {},
   "outputs": [
    {
     "data": {
      "text/plain": [
       "undefined"
      ]
     },
     "execution_count": 7,
     "metadata": {},
     "output_type": "execute_result"
    }
   ],
   "source": [
    "class MathUtils {\n",
    "    static add(x: number, y: number): number {\n",
    "        return x + y;\n",
    "    }\n",
    "\n",
    "    static subtract(x: number, y: number): number {\n",
    "        return x - y;\n",
    "    }\n",
    "}\n",
    "\n",
    "const result1 = MathUtils.add(10, 5);      // 15\n",
    "const result2 = MathUtils.subtract(20, 8); // 12\n"
   ]
  },
  {
   "cell_type": "code",
   "execution_count": null,
   "id": "4943fcc6-e925-4668-8891-76be111ed3b7",
   "metadata": {},
   "outputs": [],
   "source": []
  },
  {
   "cell_type": "markdown",
   "id": "221c04f6-7140-4d2c-bdcd-8580bb4e7c5d",
   "metadata": {},
   "source": [
    "## 4. 인스턴스 메서드(Instance Method)와 클래스 메서드(Class Method)\n",
    "    \n",
    "\n",
    "### 호출 방식:\n",
    "\n",
    "- 인스턴스 메서드: 인스턴스 메서드는 클래스의 인스턴스에 속한 메서드로, 인스턴스를 생성한 후에 해당 인스턴스에서 호출됩니다. 인스턴스 메서드는 인스턴스의 프로퍼티에 접근할 수 있습니다.\n",
    "- 클래스 메서드: 클래스 메서드는 클래스 자체에 속한 메서드로, 클래스명을 통해 호출됩니다. 클래스 메서드는 인스턴스와 무관하게 동작하며, 인스턴스의 프로퍼티에 접근할 수 없습니다.\n",
    "\n",
    "### 메서드의 범위:\n",
    "\n",
    "- 인스턴스 메서드: 인스턴스 메서드는 각각의 인스턴스에 대해 별도로 동작하며, 인스턴스의 상태와 데이터에 접근할 수 있습니다. 메서드 내에서 this 키워드는 해당 메서드를 호출한 인스턴스를 참조합니다.\n",
    "- 클래스 메서드: 클래스 메서드는 클래스 전체에 대한 동작을 수행하며, 특정 인스턴스의 상태에는 접근할 수 없습니다. 메서드 내에서 this 키워드는 클래스 자체를 참조합니다."
   ]
  },
  {
   "cell_type": "code",
   "execution_count": 6,
   "id": "68eca1b1-5f96-4b3b-8470-4c3969014452",
   "metadata": {},
   "outputs": [
    {
     "data": {
      "text/plain": [
       "undefined"
      ]
     },
     "execution_count": 6,
     "metadata": {},
     "output_type": "execute_result"
    }
   ],
   "source": [
    "class Circle {\n",
    "    radius: number;\n",
    "\n",
    "    constructor(radius: number) {\n",
    "        this.radius = radius;\n",
    "    }\n",
    "\n",
    "    // 인스턴스 메서드\n",
    "    calculateArea() {\n",
    "        return Math.PI * this.radius * this.radius;\n",
    "    }\n",
    "\n",
    "    // 클래스 메서드\n",
    "    static compareCircles(circle1: Circle, circle2: Circle) {\n",
    "        return circle1.radius > circle2.radius ? 1 : -1;\n",
    "    }\n",
    "}\n"
   ]
  },
  {
   "cell_type": "code",
   "execution_count": 7,
   "id": "9a9660f2-c707-4f5c-abdb-f23a55f9c4a4",
   "metadata": {},
   "outputs": [
    {
     "data": {
      "text/plain": [
       "undefined"
      ]
     },
     "execution_count": 7,
     "metadata": {},
     "output_type": "execute_result"
    }
   ],
   "source": [
    "const circle1 = new Circle(5);\n",
    "const circle2 = new Circle(10);\n"
   ]
  },
  {
   "cell_type": "code",
   "execution_count": 8,
   "id": "9ef1ac3d-e78b-45dd-85d4-f4f904801aaf",
   "metadata": {},
   "outputs": [
    {
     "data": {
      "text/plain": [
       "undefined"
      ]
     },
     "execution_count": 8,
     "metadata": {},
     "output_type": "execute_result"
    }
   ],
   "source": [
    "const area1 = circle1.calculateArea(); // 인스턴스 메서드 호출\n",
    "const area2 = circle2.calculateArea(); // 인스턴스 메서드 호출"
   ]
  },
  {
   "cell_type": "code",
   "execution_count": 9,
   "id": "0eab17c7-7ac8-47fb-89fa-fd0ade695b4b",
   "metadata": {},
   "outputs": [
    {
     "data": {
      "text/plain": [
       "78.53981633974483"
      ]
     },
     "execution_count": 9,
     "metadata": {},
     "output_type": "execute_result"
    }
   ],
   "source": [
    "area1"
   ]
  },
  {
   "cell_type": "code",
   "execution_count": 10,
   "id": "c7d7bf3b-9bff-472a-9c63-66b97ce7e84a",
   "metadata": {},
   "outputs": [
    {
     "data": {
      "text/plain": [
       "314.1592653589793"
      ]
     },
     "execution_count": 10,
     "metadata": {},
     "output_type": "execute_result"
    }
   ],
   "source": [
    "area2"
   ]
  },
  {
   "cell_type": "code",
   "execution_count": null,
   "id": "dda1ca02-60a5-4523-8574-08115f84a385",
   "metadata": {},
   "outputs": [],
   "source": []
  },
  {
   "cell_type": "code",
   "execution_count": 11,
   "id": "b656e3ee-1f30-4dea-83d9-282eb290c15f",
   "metadata": {},
   "outputs": [
    {
     "data": {
      "text/plain": [
       "undefined"
      ]
     },
     "execution_count": 11,
     "metadata": {},
     "output_type": "execute_result"
    }
   ],
   "source": [
    "const largerCircle = Circle.compareCircles(circle1, circle2); // 클래스 메서드 호출"
   ]
  },
  {
   "cell_type": "code",
   "execution_count": 12,
   "id": "927957d6-abca-4987-85b8-d03972473608",
   "metadata": {},
   "outputs": [
    {
     "data": {
      "text/plain": [
       "-1"
      ]
     },
     "execution_count": 12,
     "metadata": {},
     "output_type": "execute_result"
    }
   ],
   "source": [
    "largerCircle"
   ]
  },
  {
   "cell_type": "code",
   "execution_count": null,
   "id": "ef6d7e9e-f9f7-4578-b786-9005bee823e7",
   "metadata": {},
   "outputs": [],
   "source": []
  }
 ],
 "metadata": {
  "kernelspec": {
   "display_name": "Typescript 4.9",
   "language": "typescript",
   "name": "typescript"
  },
  "language_info": {
   "file_extension": ".ts",
   "mimetype": "application/x-typescript",
   "name": "typescript",
   "version": "4.9.5"
  }
 },
 "nbformat": 4,
 "nbformat_minor": 5
}
