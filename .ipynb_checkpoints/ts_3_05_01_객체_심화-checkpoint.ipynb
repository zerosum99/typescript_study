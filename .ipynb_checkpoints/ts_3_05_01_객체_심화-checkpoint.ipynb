{
 "cells": [
  {
   "cell_type": "code",
   "execution_count": null,
   "id": "cdc5705a-2c1f-419a-bb72-1eb4a1b73c1b",
   "metadata": {},
   "outputs": [],
   "source": []
  },
  {
   "cell_type": "markdown",
   "id": "301d4672-16a0-450c-b8ec-9d0f2765c7a7",
   "metadata": {},
   "source": [
    "## 타입스크립트에서 객체(Object)는 프로퍼티(Property)들의 집합입니다. \n",
    "- 객체는 프로퍼티들의 이름과 값으로 이루어져 있으며, 객체는 다양한 형태의 데이터를 표현하고 저장하는 데 사용됩니다."
   ]
  },
  {
   "cell_type": "code",
   "execution_count": null,
   "id": "77be1e85-dd53-4055-98fb-38b09a3f3f2b",
   "metadata": {},
   "outputs": [],
   "source": []
  },
  {
   "cell_type": "markdown",
   "id": "d9cb585c-2b93-49ac-8d45-1316b1660964",
   "metadata": {},
   "source": [
    "## 1-1 객체 생성하는 방법 \n",
    "\n",
    "- 객체는 다양한 방법으로 정의하고 생성할 수 있습니다. \n",
    "- 또한 객체의 프로퍼티에 접근하거나 수정하는 것도 가능합니다.\n",
    "- 타입스크립트는 객체의 타입 안정성을 확보하기 위해 타입 검사를 수행하므로, 잘못된 타입의 값을 할당하는 것을 방지하고 코드의 안정성을 높일 수 있습니다."
   ]
  },
  {
   "cell_type": "code",
   "execution_count": null,
   "id": "22bf1ce6-f76d-4aed-a72e-191eb168d7aa",
   "metadata": {},
   "outputs": [],
   "source": []
  },
  {
   "cell_type": "markdown",
   "id": "1c37f005-2666-452e-94ec-a8d13b2ccbb9",
   "metadata": {},
   "source": [
    "## 객체 타입 정의 "
   ]
  },
  {
   "cell_type": "code",
   "execution_count": 12,
   "id": "409abbdf-a91f-4e7d-8876-7bb054c581c9",
   "metadata": {},
   "outputs": [
    {
     "data": {
      "text/plain": [
       "undefined"
      ]
     },
     "execution_count": 12,
     "metadata": {},
     "output_type": "execute_result"
    }
   ],
   "source": [
    "const person: { name: string; age: number } = {\n",
    "    name: \"Alice\",\n",
    "    age: 30\n",
    "};\n"
   ]
  },
  {
   "cell_type": "code",
   "execution_count": null,
   "id": "d5a1b5b5-7ab1-4cc0-a4f0-5908a2921d5c",
   "metadata": {},
   "outputs": [],
   "source": []
  },
  {
   "cell_type": "markdown",
   "id": "26768744-1979-497f-a325-7f24ab228672",
   "metadata": {},
   "source": [
    "## 인터페이스에 의한 객체 정의 "
   ]
  },
  {
   "cell_type": "code",
   "execution_count": 1,
   "id": "51f2a669-e8ab-4c8f-abc8-4dcb07254bdc",
   "metadata": {},
   "outputs": [
    {
     "data": {
      "text/plain": [
       "'use strict'"
      ]
     },
     "execution_count": 1,
     "metadata": {},
     "output_type": "execute_result"
    }
   ],
   "source": [
    "interface Person1 {\n",
    "    name: string;\n",
    "    age: number;\n",
    "}\n",
    "\n",
    "const person1: Person1 = {\n",
    "    name: \"Alice\",\n",
    "    age: 30\n",
    "};\n"
   ]
  },
  {
   "cell_type": "code",
   "execution_count": null,
   "id": "96d7378f-d907-4c84-8c46-d7de17154155",
   "metadata": {},
   "outputs": [],
   "source": []
  },
  {
   "cell_type": "markdown",
   "id": "5931927e-8d22-4ef9-b09b-ae6593fd714c",
   "metadata": {},
   "source": [
    "## 타입별칭에 의한 객체 정의 "
   ]
  },
  {
   "cell_type": "code",
   "execution_count": 2,
   "id": "52d05a13-1f6c-4806-9a0c-f7d7b4947a3f",
   "metadata": {},
   "outputs": [
    {
     "data": {
      "text/plain": [
       "undefined"
      ]
     },
     "execution_count": 2,
     "metadata": {},
     "output_type": "execute_result"
    }
   ],
   "source": [
    "type Person3 = {\n",
    "    name: string;\n",
    "    age: number;\n",
    "};\n",
    "\n",
    "const person3: Person3 = {\n",
    "    name: \"Alice\",\n",
    "    age: 30\n",
    "};\n"
   ]
  },
  {
   "cell_type": "code",
   "execution_count": null,
   "id": "bc506992-edbb-4a45-b69f-0ba4fec90df3",
   "metadata": {},
   "outputs": [],
   "source": []
  },
  {
   "cell_type": "markdown",
   "id": "f674ec95-c8c4-4f61-a004-9f822b56feb2",
   "metadata": {},
   "source": [
    "## 클래스 정의로 객체 생성 "
   ]
  },
  {
   "cell_type": "code",
   "execution_count": 3,
   "id": "3040486a-ee2c-4ca7-9bfd-dd4e442ae92e",
   "metadata": {},
   "outputs": [
    {
     "data": {
      "text/plain": [
       "undefined"
      ]
     },
     "execution_count": 3,
     "metadata": {},
     "output_type": "execute_result"
    }
   ],
   "source": [
    "class Person5 {\n",
    "    constructor(public name: string, public age: number) {}\n",
    "}\n",
    "\n",
    "const person5: Person5 = new Person5(\"Alice\", 30);\n"
   ]
  },
  {
   "cell_type": "code",
   "execution_count": null,
   "id": "3a7f4477-e6e6-415f-a5c5-90d0fe34c12f",
   "metadata": {},
   "outputs": [],
   "source": []
  },
  {
   "cell_type": "markdown",
   "id": "c977aca7-5849-42e6-b57b-d46303a97e29",
   "metadata": {},
   "source": [
    "## 1-2 객체 접근 및 추가 "
   ]
  },
  {
   "cell_type": "code",
   "execution_count": null,
   "id": "f3862497-031d-4496-b7e9-bc2ea418efaf",
   "metadata": {},
   "outputs": [],
   "source": []
  },
  {
   "cell_type": "code",
   "execution_count": null,
   "id": "57fcf5cf-3593-4534-9fc2-dd51025b578e",
   "metadata": {},
   "outputs": [],
   "source": [
    "## 속성에 대한 접근 및 갱신 "
   ]
  },
  {
   "cell_type": "code",
   "execution_count": 5,
   "id": "887948a3-3320-4203-bc91-338349d33ac4",
   "metadata": {},
   "outputs": [
    {
     "name": "stdout",
     "output_type": "stream",
     "text": [
      "Alice\n",
      "31\n"
     ]
    },
    {
     "data": {
      "text/plain": [
       "undefined"
      ]
     },
     "execution_count": 5,
     "metadata": {},
     "output_type": "execute_result"
    }
   ],
   "source": [
    "const person6 = {\n",
    "    name: \"Alice\",\n",
    "    age: 30\n",
    "};\n",
    "\n",
    "console.log(person6.name); // \"Alice\"\n",
    "person6.age = 31;\n",
    "console.log(person6.age);"
   ]
  },
  {
   "cell_type": "code",
   "execution_count": null,
   "id": "f976471f-cfa2-4038-a7f2-aac4c1d812ef",
   "metadata": {},
   "outputs": [],
   "source": []
  },
  {
   "cell_type": "markdown",
   "id": "81232344-41f1-4dcd-a866-6d208aa5d1c1",
   "metadata": {},
   "source": [
    "### 객체에서의 함수 접근 "
   ]
  },
  {
   "cell_type": "code",
   "execution_count": 7,
   "id": "32e93fce-1e72-4918-9c56-f18b7d6e9615",
   "metadata": {},
   "outputs": [
    {
     "data": {
      "text/plain": [
       "undefined"
      ]
     },
     "execution_count": 7,
     "metadata": {},
     "output_type": "execute_result"
    }
   ],
   "source": [
    "const calculator = {\n",
    "    add: (a: number, b: number) => a + b,\n",
    "    subtract: (a: number, b: number) => a - b\n",
    "};\n",
    "\n",
    "const result = calculator.add(5, 3); // 8\n"
   ]
  },
  {
   "cell_type": "code",
   "execution_count": null,
   "id": "99942649-22a4-4b12-80c2-1f5afe7beb3d",
   "metadata": {},
   "outputs": [],
   "source": []
  },
  {
   "cell_type": "code",
   "execution_count": null,
   "id": "9ffa51fb-2bd7-47e0-babb-4ac81f416574",
   "metadata": {},
   "outputs": [],
   "source": []
  },
  {
   "cell_type": "markdown",
   "id": "0b2f32c7-556c-4698-948e-14459a7486f8",
   "metadata": {},
   "source": [
    "## 객체의 구조분해 "
   ]
  },
  {
   "cell_type": "code",
   "execution_count": 10,
   "id": "f01b31ba-da93-4cc7-97ed-19dd7bbdfb58",
   "metadata": {},
   "outputs": [
    {
     "data": {
      "text/plain": [
       "undefined"
      ]
     },
     "execution_count": 10,
     "metadata": {},
     "output_type": "execute_result"
    }
   ],
   "source": [
    "const person8 = {\n",
    "    name8: \"Alice\",\n",
    "    age8: 30\n",
    "};\n",
    "\n",
    "const { name8, age8 } = person8;\n"
   ]
  },
  {
   "cell_type": "code",
   "execution_count": null,
   "id": "0ba6c1e4-5247-4987-95dc-08faf28a9ab2",
   "metadata": {},
   "outputs": [],
   "source": []
  },
  {
   "cell_type": "markdown",
   "id": "d9abe7b6-a5a0-4392-9ca3-b437e4b5a49b",
   "metadata": {},
   "source": [
    "## 객체를 활용한 데이터 구조화:"
   ]
  },
  {
   "cell_type": "code",
   "execution_count": 11,
   "id": "3dce1f33-84bf-426b-a12f-85cae46bfb9c",
   "metadata": {},
   "outputs": [
    {
     "data": {
      "text/plain": [
       "undefined"
      ]
     },
     "execution_count": 11,
     "metadata": {},
     "output_type": "execute_result"
    }
   ],
   "source": [
    "const student = {\n",
    "    info: {\n",
    "        name: \"Alice\",\n",
    "        age: 20\n",
    "    },\n",
    "    courses: [\"Math\", \"History\", \"English\"]\n",
    "};\n"
   ]
  },
  {
   "cell_type": "code",
   "execution_count": null,
   "id": "f1ec4ac6-55a8-4b01-b432-9663f0a2f8a0",
   "metadata": {},
   "outputs": [],
   "source": []
  },
  {
   "cell_type": "code",
   "execution_count": null,
   "id": "a908deb4-54d7-49fb-81be-d90dec10d40b",
   "metadata": {},
   "outputs": [],
   "source": []
  },
  {
   "cell_type": "markdown",
   "id": "021d6737-1877-4cec-8824-bd59336762f6",
   "metadata": {},
   "source": [
    "## 1-2 선택적 속성 처리 \n",
    "\n",
    "- 타입스크립트에서 객체의 선택적 속성을 정의하기 위해 ? 기호를 사용합니다.\n",
    "- 선택적 속성은 객체 내의 프로퍼티 중 일부가 필수적이지 않고 있을 수 있음을 나타"
   ]
  },
  {
   "cell_type": "code",
   "execution_count": null,
   "id": "46ff326a-d30f-4d4a-8202-bebc6d2041a3",
   "metadata": {},
   "outputs": [],
   "source": []
  },
  {
   "cell_type": "code",
   "execution_count": 2,
   "id": "b6b3d372-2bb9-4803-b589-61ac4ce6eec4",
   "metadata": {},
   "outputs": [
    {
     "data": {
      "text/plain": [
       "undefined"
      ]
     },
     "execution_count": 2,
     "metadata": {},
     "output_type": "execute_result"
    }
   ],
   "source": [
    "type Person12 = {\n",
    "    name: string;\n",
    "    age?: number; // 선택적 속성\n",
    "};\n",
    "\n",
    "const person121: Person12 = {\n",
    "    name: \"Alice\"\n",
    "};\n",
    "\n",
    "const person122: Person12 = {\n",
    "    name: \"Bob\",\n",
    "    age: 25\n",
    "};\n"
   ]
  },
  {
   "cell_type": "code",
   "execution_count": null,
   "id": "2a293632-ac9c-4be9-b91e-1d808d7fbf4c",
   "metadata": {},
   "outputs": [],
   "source": []
  },
  {
   "cell_type": "code",
   "execution_count": null,
   "id": "0ad718b6-a3a0-4f73-a386-845a1c612ffc",
   "metadata": {},
   "outputs": [],
   "source": []
  },
  {
   "cell_type": "markdown",
   "id": "7c2a2cb6-7e44-4550-a13f-bc221463914d",
   "metadata": {},
   "source": [
    "## 1-3 객체 중첩 처리하기 \n",
    "\n",
    "- 객체 내포(Object Nesting)는 객체 안에 또 다른 객체를 중첩하여 포함시키는 것을 말합니다.\n",
    "- 이를 통해 복잡한 데이터 구조를 구성하거나 중첩된 정보를 표현할 수 있습니다.\n",
    "- 객체 내포는 일반적으로 중첩된 구조를 나타내기 위해 사용되며, 다양한 데이터를 더 구조적으로 표현할 수 있습니다"
   ]
  },
  {
   "cell_type": "markdown",
   "id": "d6864f3d-fe4c-4224-9bef-05d2342dc521",
   "metadata": {},
   "source": [
    "### 단순한 객체 내포"
   ]
  },
  {
   "cell_type": "code",
   "execution_count": 3,
   "id": "e26918a9-0a76-4895-8aa8-512f2450f001",
   "metadata": {},
   "outputs": [
    {
     "name": "stdout",
     "output_type": "stream",
     "text": [
      "Alice\n",
      "Wonderland\n"
     ]
    },
    {
     "data": {
      "text/plain": [
       "undefined"
      ]
     },
     "execution_count": 3,
     "metadata": {},
     "output_type": "execute_result"
    }
   ],
   "source": [
    "const person = {\n",
    "    name: \"Alice\",\n",
    "    age: 30,\n",
    "    address: {\n",
    "        street: \"123 Main St\",\n",
    "        city: \"Wonderland\"\n",
    "    }\n",
    "};\n",
    "\n",
    "console.log(person.name); // \"Alice\"\n",
    "console.log(person.address.city); // \"Wonderland\"\n"
   ]
  },
  {
   "cell_type": "code",
   "execution_count": null,
   "id": "c0df3af9-d85c-47d1-843a-2a2adee5558c",
   "metadata": {},
   "outputs": [],
   "source": []
  },
  {
   "cell_type": "markdown",
   "id": "f78ee367-904b-4a9b-9ff3-b1274519fd76",
   "metadata": {},
   "source": [
    "### 배열 내부에 여러 객체 포함 "
   ]
  },
  {
   "cell_type": "code",
   "execution_count": 4,
   "id": "0da5117e-f233-4cf9-acd8-afdee0ae266b",
   "metadata": {},
   "outputs": [
    {
     "data": {
      "text/plain": [
       "undefined"
      ]
     },
     "execution_count": 4,
     "metadata": {},
     "output_type": "execute_result"
    }
   ],
   "source": [
    "const student111 = {\n",
    "    name: \"Alice\",\n",
    "    age: 20,\n",
    "    courses: [\n",
    "        { name: \"Math\", grade: 90 },\n",
    "        { name: \"History\", grade: 85 }\n",
    "    ]\n",
    "};\n"
   ]
  },
  {
   "cell_type": "code",
   "execution_count": null,
   "id": "887714a7-5f05-43e4-bffd-2dd50f85dad9",
   "metadata": {},
   "outputs": [],
   "source": []
  },
  {
   "cell_type": "code",
   "execution_count": 5,
   "id": "0d94936d-db11-4907-905c-cb8c0f69cf29",
   "metadata": {},
   "outputs": [
    {
     "data": {
      "text/plain": [
       "undefined"
      ]
     },
     "execution_count": 5,
     "metadata": {},
     "output_type": "execute_result"
    }
   ],
   "source": [
    "const cart = {\n",
    "    user: \"Alice\",\n",
    "    items: [\n",
    "        { name: \"Shirt\", price: 25 },\n",
    "        { name: \"Jeans\", price: 40 }\n",
    "    ],\n",
    "    shippingAddress: {\n",
    "        street: \"123 Main St\",\n",
    "        city: \"Wonderland\"\n",
    "    }\n",
    "};\n"
   ]
  },
  {
   "cell_type": "code",
   "execution_count": null,
   "id": "20836d11-bb8f-41db-bff7-215a7a474220",
   "metadata": {},
   "outputs": [],
   "source": []
  },
  {
   "cell_type": "code",
   "execution_count": null,
   "id": "240ed8ba-ebc9-4cbe-965d-510e2639a3fa",
   "metadata": {},
   "outputs": [],
   "source": []
  },
  {
   "cell_type": "code",
   "execution_count": null,
   "id": "13ddd198-3a73-4d03-a2a3-182c3efe7fc8",
   "metadata": {},
   "outputs": [],
   "source": []
  }
 ],
 "metadata": {
  "kernelspec": {
   "display_name": "Typescript 4.9",
   "language": "typescript",
   "name": "typescript"
  },
  "language_info": {
   "file_extension": ".ts",
   "mimetype": "application/x-typescript",
   "name": "typescript",
   "version": "4.9.5"
  }
 },
 "nbformat": 4,
 "nbformat_minor": 5
}
