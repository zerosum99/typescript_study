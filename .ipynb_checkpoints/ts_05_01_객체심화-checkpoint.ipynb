{
 "cells": [
  {
   "cell_type": "code",
   "execution_count": null,
   "id": "cdc5705a-2c1f-419a-bb72-1eb4a1b73c1b",
   "metadata": {},
   "outputs": [],
   "source": []
  },
  {
   "cell_type": "markdown",
   "id": "301d4672-16a0-450c-b8ec-9d0f2765c7a7",
   "metadata": {},
   "source": [
    "## 타입스크립트에서 객체(Object)는 프로퍼티(Property)들의 집합입니다. \n",
    "- 객체는 프로퍼티들의 이름과 값으로 이루어져 있으며, 객체는 다양한 형태의 데이터를 표현하고 저장하는 데 사용됩니다."
   ]
  },
  {
   "cell_type": "code",
   "execution_count": null,
   "id": "77be1e85-dd53-4055-98fb-38b09a3f3f2b",
   "metadata": {},
   "outputs": [],
   "source": []
  },
  {
   "cell_type": "markdown",
   "id": "d9cb585c-2b93-49ac-8d45-1316b1660964",
   "metadata": {},
   "source": [
    "## 1-1 객체 생성하는 방법 \n",
    "\n",
    "- 객체는 다양한 방법으로 정의하고 생성할 수 있습니다. \n",
    "- 또한 객체의 프로퍼티에 접근하거나 수정하는 것도 가능합니다.\n",
    "- 타입스크립트는 객체의 타입 안정성을 확보하기 위해 타입 검사를 수행하므로, 잘못된 타입의 값을 할당하는 것을 방지하고 코드의 안정성을 높일 수 있습니다."
   ]
  },
  {
   "cell_type": "code",
   "execution_count": null,
   "id": "22bf1ce6-f76d-4aed-a72e-191eb168d7aa",
   "metadata": {},
   "outputs": [],
   "source": []
  },
  {
   "cell_type": "markdown",
   "id": "1c37f005-2666-452e-94ec-a8d13b2ccbb9",
   "metadata": {},
   "source": [
    "## 객체 타입 정의 "
   ]
  },
  {
   "cell_type": "code",
   "execution_count": null,
   "id": "409abbdf-a91f-4e7d-8876-7bb054c581c9",
   "metadata": {},
   "outputs": [],
   "source": [
    "const person: { name: string; age: number } = {\n",
    "    name: \"Alice\",\n",
    "    age: 30\n",
    "};\n"
   ]
  },
  {
   "cell_type": "code",
   "execution_count": null,
   "id": "d5a1b5b5-7ab1-4cc0-a4f0-5908a2921d5c",
   "metadata": {},
   "outputs": [],
   "source": []
  },
  {
   "cell_type": "markdown",
   "id": "26768744-1979-497f-a325-7f24ab228672",
   "metadata": {},
   "source": [
    "## 인터페이스에 의한 객체 정의 "
   ]
  },
  {
   "cell_type": "code",
   "execution_count": 1,
   "id": "51f2a669-e8ab-4c8f-abc8-4dcb07254bdc",
   "metadata": {},
   "outputs": [
    {
     "data": {
      "text/plain": [
       "'use strict'"
      ]
     },
     "execution_count": 1,
     "metadata": {},
     "output_type": "execute_result"
    }
   ],
   "source": [
    "interface Person1 {\n",
    "    name: string;\n",
    "    age: number;\n",
    "}\n",
    "\n",
    "const person1: Person1 = {\n",
    "    name: \"Alice\",\n",
    "    age: 30\n",
    "};\n"
   ]
  },
  {
   "cell_type": "code",
   "execution_count": null,
   "id": "96d7378f-d907-4c84-8c46-d7de17154155",
   "metadata": {},
   "outputs": [],
   "source": []
  },
  {
   "cell_type": "markdown",
   "id": "5931927e-8d22-4ef9-b09b-ae6593fd714c",
   "metadata": {},
   "source": [
    "## 타입별칭에 의한 객체 정의 "
   ]
  },
  {
   "cell_type": "code",
   "execution_count": 2,
   "id": "52d05a13-1f6c-4806-9a0c-f7d7b4947a3f",
   "metadata": {},
   "outputs": [
    {
     "data": {
      "text/plain": [
       "undefined"
      ]
     },
     "execution_count": 2,
     "metadata": {},
     "output_type": "execute_result"
    }
   ],
   "source": [
    "type Person3 = {\n",
    "    name: string;\n",
    "    age: number;\n",
    "};\n",
    "\n",
    "const person3: Person3 = {\n",
    "    name: \"Alice\",\n",
    "    age: 30\n",
    "};\n"
   ]
  },
  {
   "cell_type": "code",
   "execution_count": null,
   "id": "bc506992-edbb-4a45-b69f-0ba4fec90df3",
   "metadata": {},
   "outputs": [],
   "source": []
  },
  {
   "cell_type": "markdown",
   "id": "f674ec95-c8c4-4f61-a004-9f822b56feb2",
   "metadata": {},
   "source": [
    "## 클래스 정의로 객체 생성 "
   ]
  },
  {
   "cell_type": "code",
   "execution_count": 3,
   "id": "3040486a-ee2c-4ca7-9bfd-dd4e442ae92e",
   "metadata": {},
   "outputs": [
    {
     "data": {
      "text/plain": [
       "undefined"
      ]
     },
     "execution_count": 3,
     "metadata": {},
     "output_type": "execute_result"
    }
   ],
   "source": [
    "class Person5 {\n",
    "    constructor(public name: string, public age: number) {}\n",
    "}\n",
    "\n",
    "const person5: Person5 = new Person5(\"Alice\", 30);\n"
   ]
  },
  {
   "cell_type": "code",
   "execution_count": null,
   "id": "3a7f4477-e6e6-415f-a5c5-90d0fe34c12f",
   "metadata": {},
   "outputs": [],
   "source": []
  },
  {
   "cell_type": "markdown",
   "id": "c977aca7-5849-42e6-b57b-d46303a97e29",
   "metadata": {},
   "source": [
    "## 1-2 객체 접근 및 추가 "
   ]
  },
  {
   "cell_type": "code",
   "execution_count": null,
   "id": "f3862497-031d-4496-b7e9-bc2ea418efaf",
   "metadata": {},
   "outputs": [],
   "source": []
  },
  {
   "cell_type": "code",
   "execution_count": null,
   "id": "57fcf5cf-3593-4534-9fc2-dd51025b578e",
   "metadata": {},
   "outputs": [],
   "source": [
    "## 속성에 대한 접근 및 갱신 "
   ]
  },
  {
   "cell_type": "code",
   "execution_count": 5,
   "id": "887948a3-3320-4203-bc91-338349d33ac4",
   "metadata": {},
   "outputs": [
    {
     "name": "stdout",
     "output_type": "stream",
     "text": [
      "Alice\n",
      "31\n"
     ]
    },
    {
     "data": {
      "text/plain": [
       "undefined"
      ]
     },
     "execution_count": 5,
     "metadata": {},
     "output_type": "execute_result"
    }
   ],
   "source": [
    "const person6 = {\n",
    "    name: \"Alice\",\n",
    "    age: 30\n",
    "};\n",
    "\n",
    "console.log(person6.name); // \"Alice\"\n",
    "person6.age = 31;\n",
    "console.log(person6.age);"
   ]
  },
  {
   "cell_type": "code",
   "execution_count": null,
   "id": "f976471f-cfa2-4038-a7f2-aac4c1d812ef",
   "metadata": {},
   "outputs": [],
   "source": []
  },
  {
   "cell_type": "markdown",
   "id": "81232344-41f1-4dcd-a866-6d208aa5d1c1",
   "metadata": {},
   "source": [
    "### 객체에서의 함수 접근 "
   ]
  },
  {
   "cell_type": "code",
   "execution_count": 7,
   "id": "32e93fce-1e72-4918-9c56-f18b7d6e9615",
   "metadata": {},
   "outputs": [
    {
     "data": {
      "text/plain": [
       "undefined"
      ]
     },
     "execution_count": 7,
     "metadata": {},
     "output_type": "execute_result"
    }
   ],
   "source": [
    "const calculator = {\n",
    "    add: (a: number, b: number) => a + b,\n",
    "    subtract: (a: number, b: number) => a - b\n",
    "};\n",
    "\n",
    "const result = calculator.add(5, 3); // 8\n"
   ]
  },
  {
   "cell_type": "code",
   "execution_count": null,
   "id": "99942649-22a4-4b12-80c2-1f5afe7beb3d",
   "metadata": {},
   "outputs": [],
   "source": []
  },
  {
   "cell_type": "code",
   "execution_count": null,
   "id": "9ffa51fb-2bd7-47e0-babb-4ac81f416574",
   "metadata": {},
   "outputs": [],
   "source": []
  },
  {
   "cell_type": "markdown",
   "id": "0b2f32c7-556c-4698-948e-14459a7486f8",
   "metadata": {},
   "source": [
    "## 객체의 구조분해 "
   ]
  },
  {
   "cell_type": "code",
   "execution_count": 10,
   "id": "f01b31ba-da93-4cc7-97ed-19dd7bbdfb58",
   "metadata": {},
   "outputs": [
    {
     "data": {
      "text/plain": [
       "undefined"
      ]
     },
     "execution_count": 10,
     "metadata": {},
     "output_type": "execute_result"
    }
   ],
   "source": [
    "const person8 = {\n",
    "    name8: \"Alice\",\n",
    "    age8: 30\n",
    "};\n",
    "\n",
    "const { name8, age8 } = person8;\n"
   ]
  },
  {
   "cell_type": "code",
   "execution_count": null,
   "id": "0ba6c1e4-5247-4987-95dc-08faf28a9ab2",
   "metadata": {},
   "outputs": [],
   "source": []
  },
  {
   "cell_type": "markdown",
   "id": "d9abe7b6-a5a0-4392-9ca3-b437e4b5a49b",
   "metadata": {},
   "source": [
    "## 객체를 활용한 데이터 구조화:"
   ]
  },
  {
   "cell_type": "code",
   "execution_count": 11,
   "id": "3dce1f33-84bf-426b-a12f-85cae46bfb9c",
   "metadata": {},
   "outputs": [
    {
     "data": {
      "text/plain": [
       "undefined"
      ]
     },
     "execution_count": 11,
     "metadata": {},
     "output_type": "execute_result"
    }
   ],
   "source": [
    "const student = {\n",
    "    info: {\n",
    "        name: \"Alice\",\n",
    "        age: 20\n",
    "    },\n",
    "    courses: [\"Math\", \"History\", \"English\"]\n",
    "};\n"
   ]
  },
  {
   "cell_type": "code",
   "execution_count": null,
   "id": "f1ec4ac6-55a8-4b01-b432-9663f0a2f8a0",
   "metadata": {},
   "outputs": [],
   "source": []
  }
 ],
 "metadata": {
  "kernelspec": {
   "display_name": "Typescript 4.9",
   "language": "typescript",
   "name": "typescript"
  },
  "language_info": {
   "file_extension": ".ts",
   "mimetype": "application/x-typescript",
   "name": "typescript",
   "version": "4.9.5"
  }
 },
 "nbformat": 4,
 "nbformat_minor": 5
}
