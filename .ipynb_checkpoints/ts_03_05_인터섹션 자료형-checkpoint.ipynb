{
 "cells": [
  {
   "cell_type": "code",
   "execution_count": null,
   "id": "f2b41195-e7fe-4828-a2df-1ebe9b399cd6",
   "metadata": {},
   "outputs": [],
   "source": []
  },
  {
   "cell_type": "code",
   "execution_count": null,
   "id": "4a16c1d5-cc53-435d-8431-1b6c1bf28b94",
   "metadata": {},
   "outputs": [],
   "source": []
  },
  {
   "cell_type": "markdown",
   "id": "c3bca87a-9d0d-4314-a0d1-32d43b8d2e90",
   "metadata": {},
   "source": [
    "## 1. 인터섹션 자료형 처리 "
   ]
  },
  {
   "cell_type": "markdown",
   "id": "2b46a885-11d1-4a7f-8ec8-72b9d5ce41c7",
   "metadata": {},
   "source": [
    "## 1-1 인터섹션(Intersection) 타입\n",
    "- 타입 별칭을 결합하여 두 개 이상의 타입을 조합하는 기능을 제공하는 타입스크립트의 특징입니다. \n",
    "- 인터섹션은 & 기호를 사용하여 타입을 결합하며, 결합된 타입은 모든 타입의 프로퍼티와 멤버를 포함하게 됩니다."
   ]
  },
  {
   "cell_type": "markdown",
   "id": "3e6f7e35-dec4-4da4-be7f-c2ccb7d2cd14",
   "metadata": {},
   "source": [
    "### Employee 타입 \n",
    "    \n",
    "- Person과 Address 타입을 인터섹션으로 결합한 타입입니다. \n",
    "    \n",
    "- 이로 인해 Employee는 Person과 Address의 모든 프로퍼티를 가지고 있습니다."
   ]
  },
  {
   "cell_type": "code",
   "execution_count": 1,
   "id": "23744e38-6385-4a43-b99c-5fe267157350",
   "metadata": {},
   "outputs": [
    {
     "data": {
      "text/plain": [
       "'use strict'"
      ]
     },
     "execution_count": 1,
     "metadata": {},
     "output_type": "execute_result"
    }
   ],
   "source": [
    "type Person = {\n",
    "    name: string;\n",
    "    age: number;\n",
    "};\n",
    "\n",
    "type Address = {\n",
    "    street: string;\n",
    "    city: string;\n",
    "};\n",
    "\n",
    "type Employee = Person & Address;\n",
    "\n",
    "const employee: Employee = {\n",
    "    name: \"Alice\",\n",
    "    age: 30,\n",
    "    street: \"123 Main St\",\n",
    "    city: \"Wonderland\"\n",
    "};\n"
   ]
  },
  {
   "cell_type": "code",
   "execution_count": null,
   "id": "02f0f48b-0a4b-4151-8bc1-e17f45ebcbef",
   "metadata": {},
   "outputs": [],
   "source": []
  },
  {
   "cell_type": "markdown",
   "id": "e17eef5e-5581-464e-9463-e1dc7a1557f2",
   "metadata": {},
   "source": [
    "## 1-2 인터섹션 자료형 활용 "
   ]
  },
  {
   "cell_type": "code",
   "execution_count": null,
   "id": "16826316-e542-4329-8c87-74e3d4144360",
   "metadata": {},
   "outputs": [],
   "source": []
  },
  {
   "cell_type": "markdown",
   "id": "435ee492-bb95-46b9-9ac4-2a6e998deaab",
   "metadata": {},
   "source": [
    "### 타입 조합:\n",
    "- 여러 타입의 프로퍼티를 조합하여 새로운 타입을 만들 수 있습니다."
   ]
  },
  {
   "cell_type": "code",
   "execution_count": 3,
   "id": "b3e0e155-8249-4f48-9406-dd9b5cf59fe5",
   "metadata": {},
   "outputs": [
    {
     "data": {
      "text/plain": [
       "undefined"
      ]
     },
     "execution_count": 3,
     "metadata": {},
     "output_type": "execute_result"
    }
   ],
   "source": [
    "type Person2 = {\n",
    "    name: string;\n",
    "    age: number;\n",
    "};\n",
    "\n",
    "type Address2 = {\n",
    "    street: string;\n",
    "    city: string;\n",
    "};\n",
    "\n",
    "type Employee2 = Person2 & Address2;\n"
   ]
  },
  {
   "cell_type": "code",
   "execution_count": null,
   "id": "d966a297-99cf-4c07-9705-f9620e6af42e",
   "metadata": {},
   "outputs": [],
   "source": []
  },
  {
   "cell_type": "code",
   "execution_count": null,
   "id": "f3ed07ea-0d8e-4e8e-8239-825e14c1511d",
   "metadata": {},
   "outputs": [],
   "source": []
  },
  {
   "cell_type": "markdown",
   "id": "f4282d55-45fa-4e94-9976-9f1baa75bb50",
   "metadata": {},
   "source": [
    "### 믹스인(Mixin) 패턴:\n",
    "\n",
    "- 다양한 클래스나 객체를 조합하여 새로운 클래스를 만들 수 있습니다."
   ]
  },
  {
   "cell_type": "code",
   "execution_count": 5,
   "id": "3991c636-b58c-4f4c-9c98-9723f59c1e7a",
   "metadata": {},
   "outputs": [
    {
     "data": {
      "text/plain": [
       "'Wonderland'"
      ]
     },
     "execution_count": 5,
     "metadata": {},
     "output_type": "execute_result"
    }
   ],
   "source": [
    "class Person3 {\n",
    "    constructor(public name: string) {}\n",
    "}\n",
    "\n",
    "class Address3 {\n",
    "    constructor(public street: string, public city: string) {}\n",
    "}\n",
    "\n",
    "type Employee3 = Person3 & Address3;\n",
    "\n",
    "const employee3: Employee3 = new Person3(\"Alice\") as Employee3;\n",
    "employee3.street = \"123 Main St\";\n",
    "employee3.city = \"Wonderland\";\n"
   ]
  },
  {
   "cell_type": "code",
   "execution_count": null,
   "id": "52aec6b2-2543-4565-bb41-94a0f80b959a",
   "metadata": {},
   "outputs": [],
   "source": []
  },
  {
   "cell_type": "markdown",
   "id": "a975169f-6981-45e5-b32f-b81bdbd76596",
   "metadata": {},
   "source": [
    "### 객체 확장:\n",
    "\n",
    "- 객체에 새로운 프로퍼티를 추가하거나 확장할 때 사용됩니다."
   ]
  },
  {
   "cell_type": "code",
   "execution_count": null,
   "id": "84c71930-5d09-42ad-b6e9-e9ae92235b69",
   "metadata": {},
   "outputs": [],
   "source": []
  },
  {
   "cell_type": "code",
   "execution_count": 6,
   "id": "f5c9df89-6d25-431a-871c-d2993eb3eb31",
   "metadata": {},
   "outputs": [
    {
     "data": {
      "text/plain": [
       "undefined"
      ]
     },
     "execution_count": 6,
     "metadata": {},
     "output_type": "execute_result"
    }
   ],
   "source": [
    "type Address4 = {\n",
    "    street: string;\n",
    "    city: string;\n",
    "};\n",
    "\n",
    "type ExtendedAddress = Address4 & { country: string };\n",
    "\n",
    "const extended: ExtendedAddress = {\n",
    "    street: \"456 Sub St\",\n",
    "    city: \"Dreamland\",\n",
    "    country: \"Fantasy\"\n",
    "};\n"
   ]
  },
  {
   "cell_type": "code",
   "execution_count": null,
   "id": "32b960db-3b68-4978-80ec-ec49f3bc8df8",
   "metadata": {},
   "outputs": [],
   "source": []
  }
 ],
 "metadata": {
  "kernelspec": {
   "display_name": "Typescript 4.9",
   "language": "typescript",
   "name": "typescript"
  },
  "language_info": {
   "file_extension": ".ts",
   "mimetype": "application/x-typescript",
   "name": "typescript",
   "version": "4.9.5"
  }
 },
 "nbformat": 4,
 "nbformat_minor": 5
}
