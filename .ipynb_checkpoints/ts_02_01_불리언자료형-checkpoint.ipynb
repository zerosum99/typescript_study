{
 "cells": [
  {
   "cell_type": "code",
   "execution_count": null,
   "id": "faa8f930-fd15-47e7-83ec-e756f90b59f5",
   "metadata": {},
   "outputs": [],
   "source": []
  },
  {
   "cell_type": "code",
   "execution_count": null,
   "id": "eb355147-5f63-43d2-9539-9b993b8a1bbd",
   "metadata": {},
   "outputs": [],
   "source": []
  },
  {
   "cell_type": "markdown",
   "id": "d0acf423-7921-4943-a206-4e75a41b5af0",
   "metadata": {},
   "source": [
    "## 1. 불리언, null, undefined"
   ]
  },
  {
   "cell_type": "markdown",
   "id": "3b059a6f-6048-4a42-93d9-152bdafb0585",
   "metadata": {},
   "source": [
    "## 1-1  undefined\n",
    "\n",
    "- undefined는 변수가 선언되었지만 값이 할당되지 않은 상태를 나타냅니다.\n",
    "- 변수에 명시적으로 undefined를 할당할 수도 있습니다.\n",
    "- void 타입의 값도 undefined를 가집니다."
   ]
  },
  {
   "cell_type": "code",
   "execution_count": 1,
   "id": "d4abe5eb-456f-4513-a2f9-7a3c435b33b5",
   "metadata": {},
   "outputs": [
    {
     "name": "stdout",
     "output_type": "stream",
     "text": [
      "undefined\n",
      "undefined\n",
      "3\n",
      "undefined\n"
     ]
    },
    {
     "data": {
      "text/plain": [
       "undefined"
      ]
     },
     "execution_count": 1,
     "metadata": {},
     "output_type": "execute_result"
    }
   ],
   "source": [
    "let a: undefined = undefined;\n",
    "let b: void = undefined;\n",
    "let c: number = 3;\n",
    "let d: undefined;\n",
    "\n",
    "console.log(a); // undefined\n",
    "console.log(b); // undefined\n",
    "console.log(c); // 3\n",
    "console.log(d); // undefined\n"
   ]
  },
  {
   "cell_type": "code",
   "execution_count": null,
   "id": "c0524732-67cc-4015-8c58-61eee7663d2e",
   "metadata": {},
   "outputs": [],
   "source": []
  },
  {
   "cell_type": "markdown",
   "id": "3b6d2bf4-244c-42e5-8c7d-3ec236705ac5",
   "metadata": {},
   "source": [
    "## 1-2  null 타입:\n",
    "\n",
    "- null은 변수에 값이 할당되지 않았거나 값이 없음을 나타냅니다.\n",
    "- null을 명시적으로 할당할 수 있습니다."
   ]
  },
  {
   "cell_type": "code",
   "execution_count": 2,
   "id": "e1b864f7-29e1-4e11-8df8-b0a864f2f04b",
   "metadata": {},
   "outputs": [
    {
     "name": "stdout",
     "output_type": "stream",
     "text": [
      "null\n",
      "hello\n"
     ]
    },
    {
     "data": {
      "text/plain": [
       "undefined"
      ]
     },
     "execution_count": 2,
     "metadata": {},
     "output_type": "execute_result"
    }
   ],
   "source": [
    "let x: null = null;\n",
    "let y: string = \"hello\";\n",
    "let z: null;\n",
    "\n",
    "console.log(x); // null\n",
    "console.log(y); // hello\n",
    "// console.log(z); // 에러 처리 \n"
   ]
  },
  {
   "cell_type": "code",
   "execution_count": null,
   "id": "d6be07a6-89e2-430f-a20c-71d4458bbbfd",
   "metadata": {},
   "outputs": [],
   "source": []
  },
  {
   "cell_type": "markdown",
   "id": "c7796134-6856-4f62-93be-8fcbe4b47373",
   "metadata": {},
   "source": [
    "## 1-3 불리언, truthy, falsy"
   ]
  },
  {
   "cell_type": "code",
   "execution_count": null,
   "id": "d2f37f2a-6569-4a2f-8116-0ba3ac5fde5e",
   "metadata": {},
   "outputs": [],
   "source": []
  },
  {
   "cell_type": "code",
   "execution_count": null,
   "id": "78688509-a09e-42bb-a46e-f76d6fbaea87",
   "metadata": {},
   "outputs": [],
   "source": []
  },
  {
   "cell_type": "markdown",
   "id": "d870fa57-35e7-4642-bd78-e852a30d6661",
   "metadata": {},
   "source": [
    "###  참과 거짓 처리 \n",
    "\n",
    "### Truthy 값:\n",
    "\n",
    "- truthy는 불리언 true로 간주되는 값입니다.\n",
    "- 대부분의 값은 truthy로 취급됩니다. (0, 빈 문자열, null, undefined, NaN 제외)\n",
    "- 예를 들어, 문자열 \"hello\", 숫자 42, 객체 등은 truthy입니다.\n",
    "\n",
    "#### Falsy 값:\n",
    "\n",
    "- falsy는 불리언 false로 간주되는 값입니다.\n",
    "- false, 0, 빈 문자열 (\"\"), null, undefined, NaN은 모두 falsy입니다."
   ]
  },
  {
   "cell_type": "code",
   "execution_count": null,
   "id": "8d326574-20cb-4090-ad49-7ad4e8f11e25",
   "metadata": {},
   "outputs": [],
   "source": []
  },
  {
   "cell_type": "markdown",
   "id": "b06bb8b9-4b77-4bd2-a923-6ba974271287",
   "metadata": {},
   "source": [
    "### 값 처리 예시"
   ]
  },
  {
   "cell_type": "code",
   "execution_count": 3,
   "id": "9c9f5986-1c8b-48e5-abfa-3ccaceb304a4",
   "metadata": {},
   "outputs": [
    {
     "name": "stdout",
     "output_type": "stream",
     "text": [
      "Truthy!\n"
     ]
    },
    {
     "data": {
      "text/plain": [
       "undefined"
      ]
     },
     "execution_count": 3,
     "metadata": {},
     "output_type": "execute_result"
    }
   ],
   "source": [
    "if (\"hello\") {\n",
    "    console.log(\"Truthy!\"); // 출력됨\n",
    "}\n",
    "\n",
    "if (0) {\n",
    "    console.log(\"Falsy!\"); // 출력되지 않음\n",
    "}\n",
    "\n",
    "if (null) {\n",
    "    console.log(\"Falsy!\"); // 출력되지 않음\n",
    "}\n"
   ]
  },
  {
   "cell_type": "markdown",
   "id": "0adf7a1f-58b4-4e1a-be55-f9938090d896",
   "metadata": {},
   "source": [
    "### 값처리 예시 2"
   ]
  },
  {
   "cell_type": "code",
   "execution_count": 5,
   "id": "3ff088cb-6e3e-4544-a192-3b411cb1f49d",
   "metadata": {},
   "outputs": [
    {
     "name": "stdout",
     "output_type": "stream",
     "text": [
      "Truthy!\n",
      "Falsy!\n"
     ]
    },
    {
     "data": {
      "text/plain": [
       "undefined"
      ]
     },
     "execution_count": 5,
     "metadata": {},
     "output_type": "execute_result"
    }
   ],
   "source": [
    "const value = \"hello\";\n",
    "if (value) {\n",
    "    console.log(\"Truthy!\"); // 출력됨\n",
    "}\n",
    "\n",
    "const num = 0;\n",
    "if (!num) {\n",
    "    console.log(\"Falsy!\"); // 출력됨\n",
    "}\n"
   ]
  },
  {
   "cell_type": "code",
   "execution_count": null,
   "id": "2edcd0dc-1494-43c1-a458-a101b79c95c6",
   "metadata": {},
   "outputs": [],
   "source": []
  }
 ],
 "metadata": {
  "kernelspec": {
   "display_name": "Typescript 4.9",
   "language": "typescript",
   "name": "typescript"
  },
  "language_info": {
   "file_extension": ".ts",
   "mimetype": "application/x-typescript",
   "name": "typescript",
   "version": "4.9.5"
  }
 },
 "nbformat": 4,
 "nbformat_minor": 5
}
