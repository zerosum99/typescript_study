{
 "cells": [
  {
   "cell_type": "code",
   "execution_count": null,
   "id": "b34502c8-792c-4493-9dac-39c655c1e386",
   "metadata": {},
   "outputs": [],
   "source": []
  },
  {
   "cell_type": "code",
   "execution_count": null,
   "id": "61408870-5fac-4a22-b63a-8b56b417f6d7",
   "metadata": {},
   "outputs": [],
   "source": []
  },
  {
   "cell_type": "markdown",
   "id": "207c2fff-0495-4888-afd0-ed726af202f7",
   "metadata": {},
   "source": [
    "## 2. 인터페이스의 선택적 속성으로 처리하기(옵션속성)\n",
    "\n",
    "- 속성을 선택적으로 사용하고 싶을 때 속성이름 다음에 ?를 붙여서 지정\n",
    "- 옵션 속성은 반드시 지정할 필요가 없다. \n"
   ]
  },
  {
   "cell_type": "markdown",
   "id": "26e8bedd-e662-4394-9482-4cbc0641097a",
   "metadata": {},
   "source": [
    "## 2-1 옵션 속성을 인터페이스에 정의 \n",
    "\n",
    "-  특정 속성이 필수가 아닐 경우 속성명 다음에 물음표 표시해서 지정한다.\n",
    "-  그러면 실제 이 속성이 선택적으로 사용한다 "
   ]
  },
  {
   "cell_type": "markdown",
   "id": "1af91cee-307c-4a38-956a-86eb4584f678",
   "metadata": {},
   "source": [
    "### 인터페이스의 속성 정의 "
   ]
  },
  {
   "cell_type": "code",
   "execution_count": 17,
   "id": "372c6cb6-58ce-4d66-931e-6abea623100c",
   "metadata": {},
   "outputs": [
    {
     "data": {
      "text/plain": [
       "undefined"
      ]
     },
     "execution_count": 17,
     "metadata": {},
     "output_type": "execute_result"
    }
   ],
   "source": [
    "interface Student {\n",
    "    name : string,\n",
    "    age : number,\n",
    "    colleage? : string         //옵션 정의 \n",
    "}"
   ]
  },
  {
   "cell_type": "markdown",
   "id": "911940ad-540d-4907-91d5-c1497933d432",
   "metadata": {},
   "source": [
    "### 함수 매개변수에 지정\n",
    "\n",
    "- 옵션 속성을 처리가 필요할 경우 선택 속성을 처리하는 로직을 처리\n",
    "- 조건문이나 삼항연산자를 사용해서 처리 \n"
   ]
  },
  {
   "cell_type": "code",
   "execution_count": 12,
   "id": "07a81e98-cdfd-439d-bd5d-c4e37200041b",
   "metadata": {},
   "outputs": [
    {
     "data": {
      "text/plain": [
       "undefined"
      ]
     },
     "execution_count": 12,
     "metadata": {},
     "output_type": "execute_result"
    }
   ],
   "source": [
    "function getColleage(stt : Student) : void {\n",
    "    if (stt?.colleage) { \n",
    "        console.log(stt?.colleage);\n",
    "    } else {\n",
    "        console.log(\"미진학\");\n",
    "    }\n",
    "}"
   ]
  },
  {
   "cell_type": "markdown",
   "id": "6c0a898c-8682-45c2-8b01-db0a8436f5ed",
   "metadata": {},
   "source": [
    "### 전체 속성을 가진 객체 생성하기 "
   ]
  },
  {
   "cell_type": "code",
   "execution_count": 13,
   "id": "3aca3af1-46b5-411d-9319-71621edf8059",
   "metadata": {},
   "outputs": [
    {
     "data": {
      "text/plain": [
       "undefined"
      ]
     },
     "execution_count": 13,
     "metadata": {},
     "output_type": "execute_result"
    }
   ],
   "source": [
    "let student : Student = {name:\"고학생\", age:20, colleage:\"타입대\" };"
   ]
  },
  {
   "cell_type": "markdown",
   "id": "f871cde5-dcdb-4fc8-876f-8b9f298145d3",
   "metadata": {},
   "source": [
    "### 함수 호출\n",
    "- 옵션 속성에 값이 있으므로 속성을 출력"
   ]
  },
  {
   "cell_type": "code",
   "execution_count": 14,
   "id": "906208e7-5f81-4592-8a77-847190cfe558",
   "metadata": {},
   "outputs": [
    {
     "name": "stdout",
     "output_type": "stream",
     "text": [
      "타입대\n"
     ]
    },
    {
     "data": {
      "text/plain": [
       "undefined"
      ]
     },
     "execution_count": 14,
     "metadata": {},
     "output_type": "execute_result"
    }
   ],
   "source": [
    "getColleage(student);"
   ]
  },
  {
   "cell_type": "markdown",
   "id": "64860af9-fad0-4b44-be72-a97823c7a4f4",
   "metadata": {},
   "source": [
    "## 2-2  옵션속성을 제외 처리\n",
    " - 새로운 객체를 생성할 때 선택 속성으 ㄹ지정하지 않음 "
   ]
  },
  {
   "cell_type": "markdown",
   "id": "32280780-4e4f-4381-8ab3-69b498fdbcf4",
   "metadata": {},
   "source": [
    "### 객체 생성하기 "
   ]
  },
  {
   "cell_type": "code",
   "execution_count": 15,
   "id": "d41e4a9e-9d2a-4ecf-8827-a9fe509aa5d8",
   "metadata": {},
   "outputs": [
    {
     "data": {
      "text/plain": [
       "undefined"
      ]
     },
     "execution_count": 15,
     "metadata": {},
     "output_type": "execute_result"
    }
   ],
   "source": [
    "let student2 : Student = {name: \"무대학\", age: 18 };"
   ]
  },
  {
   "cell_type": "markdown",
   "id": "a534da1b-01cc-4001-8b15-e9a7d9825123",
   "metadata": {},
   "source": [
    "### 함수를 호출\n",
    "- 옵션속성에 값이 없으므로 미진학 출력 "
   ]
  },
  {
   "cell_type": "code",
   "execution_count": 16,
   "id": "4242018e-69e6-472e-a172-67bf50bdb8d1",
   "metadata": {},
   "outputs": [
    {
     "name": "stdout",
     "output_type": "stream",
     "text": [
      "미진학\n"
     ]
    },
    {
     "data": {
      "text/plain": [
       "undefined"
      ]
     },
     "execution_count": 16,
     "metadata": {},
     "output_type": "execute_result"
    }
   ],
   "source": [
    "getColleage(student2);"
   ]
  },
  {
   "cell_type": "code",
   "execution_count": null,
   "id": "8d0211c5-a23b-4066-9423-500f12f746a6",
   "metadata": {},
   "outputs": [],
   "source": []
  },
  {
   "cell_type": "code",
   "execution_count": null,
   "id": "30a24b1d-d9b1-44b6-b473-41fae3a36328",
   "metadata": {},
   "outputs": [],
   "source": []
  }
 ],
 "metadata": {
  "kernelspec": {
   "display_name": "Typescript 4.9",
   "language": "typescript",
   "name": "typescript"
  },
  "language_info": {
   "file_extension": ".ts",
   "mimetype": "application/x-typescript",
   "name": "typescript",
   "version": "4.9.5"
  }
 },
 "nbformat": 4,
 "nbformat_minor": 5
}
