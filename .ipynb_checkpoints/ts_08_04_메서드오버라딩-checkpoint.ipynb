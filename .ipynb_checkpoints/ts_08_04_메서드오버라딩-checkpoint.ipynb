{
 "cells": [
  {
   "cell_type": "code",
   "execution_count": null,
   "id": "b5ceb9a8-332d-426f-a41c-d0b8ed637e86",
   "metadata": {},
   "outputs": [],
   "source": []
  },
  {
   "cell_type": "code",
   "execution_count": null,
   "id": "6f78aa7b-adb9-4cdb-bfe6-eaf019f33f5a",
   "metadata": {},
   "outputs": [],
   "source": []
  },
  {
   "cell_type": "markdown",
   "id": "07313b3e-ab0d-4e66-a05b-f854a1284502",
   "metadata": {},
   "source": [
    "## 메서드 오버로딩 \n",
    "\n",
    "- 메서드 오버로딩(Method Overloading)은 TypeScript에서 동일한 메서드 이름을 가진 여러 개의 메서드를 정의하고, 각 메서드에 다른 매개변수 형식을 사용하는 개념입니다.\n",
    "- 이를 통해 메서드의 다양한 호출 형태를 지원하고, 다른 타입의 인자에 따라 다른 결과를 반환할 수 있습니다."
   ]
  },
  {
   "cell_type": "code",
   "execution_count": 4,
   "id": "e510df17-672d-483b-8169-deb2433759ea",
   "metadata": {},
   "outputs": [
    {
     "data": {
      "text/plain": [
       "undefined"
      ]
     },
     "execution_count": 4,
     "metadata": {},
     "output_type": "execute_result"
    }
   ],
   "source": [
    "class Calculator {\n",
    "    add(a: number, b: number): number; // 시그니처 1\n",
    "    add(a: string, b: string): string; // 시그니처 2\n",
    "    add(a: any, b: any): any { // 실제 구현\n",
    "        return a + b;\n",
    "    }\n",
    "}\n",
    "\n",
    "const calculator = new Calculator();\n",
    "\n",
    "const result1 = calculator.add(1, 2);         // 호출 시그니처 1을 사용\n",
    "const result2 = calculator.add(\"Hello, \", \"world!\"); // 호출 시그니처 2를 사용\n"
   ]
  },
  {
   "cell_type": "code",
   "execution_count": null,
   "id": "a561d559-6273-465c-ba42-468529842253",
   "metadata": {},
   "outputs": [],
   "source": []
  },
  {
   "cell_type": "markdown",
   "id": "f1dcc24a-30ec-40f1-a593-0411ee8e414a",
   "metadata": {},
   "source": [
    "## 연산자 오버로딩(Operator Overloading)\n",
    "- 별도 미제공해서 동일한 기능을 하는 메서드를 정의해서 처리해야 함 "
   ]
  },
  {
   "cell_type": "code",
   "execution_count": null,
   "id": "05febf35-78ce-4b9b-ba15-be97dd6e2f75",
   "metadata": {},
   "outputs": [],
   "source": []
  },
  {
   "cell_type": "code",
   "execution_count": 3,
   "id": "08580d3e-7f44-4edd-a4e8-bf88c275b1eb",
   "metadata": {},
   "outputs": [
    {
     "name": "stdout",
     "output_type": "stream",
     "text": [
      "4\n",
      "6\n"
     ]
    },
    {
     "data": {
      "text/plain": [
       "undefined"
      ]
     },
     "execution_count": 3,
     "metadata": {},
     "output_type": "execute_result"
    }
   ],
   "source": [
    "class Vector {\n",
    "    x: number;\n",
    "    y: number;\n",
    "\n",
    "    constructor(x: number, y: number) {\n",
    "        this.x = x;\n",
    "        this.y = y;\n",
    "    }\n",
    "\n",
    "    // 덧셈 연산을 수행하는 메서드\n",
    "    add(other: Vector): Vector {\n",
    "        return new Vector(this.x + other.x, this.y + other.y);\n",
    "    }\n",
    "}\n",
    "\n",
    "const vector1 = new Vector(1, 2);\n",
    "const vector2 = new Vector(3, 4);\n",
    "\n",
    "const result = vector1.add(vector2); // 사용자 정의 메서드를 통한 덧셈 연산\n",
    "console.log(result.x); // 4\n",
    "console.log(result.y); // 6\n"
   ]
  },
  {
   "cell_type": "code",
   "execution_count": null,
   "id": "c31ed1d8-c723-4670-8cbd-6982db8e1629",
   "metadata": {},
   "outputs": [],
   "source": []
  }
 ],
 "metadata": {
  "kernelspec": {
   "display_name": "Typescript 4.9",
   "language": "typescript",
   "name": "typescript"
  },
  "language_info": {
   "file_extension": ".ts",
   "mimetype": "application/x-typescript",
   "name": "typescript",
   "version": "4.9.5"
  }
 },
 "nbformat": 4,
 "nbformat_minor": 5
}
