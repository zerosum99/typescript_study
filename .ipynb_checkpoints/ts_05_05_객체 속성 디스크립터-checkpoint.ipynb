{
 "cells": [
  {
   "cell_type": "code",
   "execution_count": null,
   "id": "a6a01e84-45e4-4ef4-970b-0a34511111cb",
   "metadata": {},
   "outputs": [],
   "source": []
  },
  {
   "cell_type": "markdown",
   "id": "d82fd400-e268-4ff8-8e3f-dd9e9fe055b4",
   "metadata": {},
   "source": [
    "## 속성 디스크립터 처리하기 "
   ]
  },
  {
   "cell_type": "code",
   "execution_count": null,
   "id": "3bafd9a4-d922-4da9-90e0-b5b866154942",
   "metadata": {},
   "outputs": [],
   "source": []
  },
  {
   "cell_type": "code",
   "execution_count": 1,
   "id": "3925603c-a87f-443e-bd41-48bbbaab38c4",
   "metadata": {},
   "outputs": [
    {
     "name": "stdout",
     "output_type": "stream",
     "text": [
      "Alice\n"
     ]
    },
    {
     "data": {
      "text/plain": [
       "undefined"
      ]
     },
     "execution_count": 1,
     "metadata": {},
     "output_type": "execute_result"
    }
   ],
   "source": [
    "const person: { [key: string]: any } = {}; // 속성을 동적으로 추가하기 위해 인덱스 시그니처를 사용\n",
    "\n",
    "Object.defineProperty(person, \"name\", {\n",
    "    value: \"Alice\",\n",
    "    writable: false,\n",
    "    enumerable: true,\n",
    "    configurable: false\n",
    "});\n",
    "\n",
    "console.log(person[\"name\"]); // \"Alice\"\n"
   ]
  },
  {
   "cell_type": "code",
   "execution_count": 2,
   "id": "5f443514-82d5-474b-9cb9-a084afe9dc7b",
   "metadata": {},
   "outputs": [
    {
     "data": {
      "text/plain": [
       "'Bob'"
      ]
     },
     "execution_count": 2,
     "metadata": {},
     "output_type": "execute_result"
    }
   ],
   "source": [
    "person[\"name\"] = \"Bob\"; // 에러가 발생하지 않지만, 실제로는 변경되지 않음"
   ]
  },
  {
   "cell_type": "code",
   "execution_count": 3,
   "id": "6911ee2a-f3c6-40ec-9bc0-76aaf297adeb",
   "metadata": {},
   "outputs": [
    {
     "name": "stdout",
     "output_type": "stream",
     "text": [
      "Alice\n"
     ]
    },
    {
     "data": {
      "text/plain": [
       "undefined"
      ]
     },
     "execution_count": 3,
     "metadata": {},
     "output_type": "execute_result"
    }
   ],
   "source": [
    "console.log(person[\"name\"]); // \"Alice\""
   ]
  },
  {
   "cell_type": "code",
   "execution_count": null,
   "id": "6689df45-2cdb-439b-b421-7101b149c742",
   "metadata": {},
   "outputs": [],
   "source": []
  }
 ],
 "metadata": {
  "kernelspec": {
   "display_name": "Typescript 4.9",
   "language": "typescript",
   "name": "typescript"
  },
  "language_info": {
   "file_extension": ".ts",
   "mimetype": "application/x-typescript",
   "name": "typescript",
   "version": "4.9.5"
  }
 },
 "nbformat": 4,
 "nbformat_minor": 5
}
