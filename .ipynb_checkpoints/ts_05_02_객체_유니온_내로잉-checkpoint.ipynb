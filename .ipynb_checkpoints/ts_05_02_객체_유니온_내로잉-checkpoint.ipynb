{
 "cells": [
  {
   "cell_type": "code",
   "execution_count": null,
   "id": "6369a200-ed28-41a0-b39c-9fa2d682821a",
   "metadata": {},
   "outputs": [],
   "source": []
  },
  {
   "cell_type": "code",
   "execution_count": null,
   "id": "0b3bedc3-10ed-4460-8cba-5784c7e42d27",
   "metadata": {},
   "outputs": [],
   "source": []
  },
  {
   "cell_type": "markdown",
   "id": "c56f3c01-04c5-4ade-93b9-646c27b93ff0",
   "metadata": {},
   "source": [
    "## 객체 타입 유니온"
   ]
  },
  {
   "cell_type": "code",
   "execution_count": null,
   "id": "624d2cf3-63df-4ae4-9740-a2f920d8ff1d",
   "metadata": {},
   "outputs": [],
   "source": []
  },
  {
   "cell_type": "code",
   "execution_count": null,
   "id": "3c7a10e8-da77-4482-8fa4-fe58b8334ea5",
   "metadata": {},
   "outputs": [],
   "source": []
  },
  {
   "cell_type": "code",
   "execution_count": null,
   "id": "e7f48113-91c2-4287-acc5-61bb5cbd1f7f",
   "metadata": {},
   "outputs": [],
   "source": []
  },
  {
   "cell_type": "code",
   "execution_count": null,
   "id": "1d9a2f97-d9c6-4c89-b0a4-ef84150eae7f",
   "metadata": {},
   "outputs": [],
   "source": []
  },
  {
   "cell_type": "markdown",
   "id": "63b3d04f-98b2-454c-9ee8-70024eb1f195",
   "metadata": {},
   "source": [
    "## 객체 타입 내로잉 "
   ]
  },
  {
   "cell_type": "code",
   "execution_count": null,
   "id": "f542d381-2da2-48d8-952f-6949d6b199da",
   "metadata": {},
   "outputs": [],
   "source": []
  },
  {
   "cell_type": "code",
   "execution_count": null,
   "id": "65684559-6b9d-49a2-bbee-0eefe450db47",
   "metadata": {},
   "outputs": [],
   "source": []
  },
  {
   "cell_type": "code",
   "execution_count": null,
   "id": "7db27f04-d6fe-4138-a484-4c48dc1c3361",
   "metadata": {},
   "outputs": [],
   "source": []
  },
  {
   "cell_type": "code",
   "execution_count": null,
   "id": "49fdcb71-e66b-4636-8324-e867cd3d6229",
   "metadata": {},
   "outputs": [],
   "source": []
  },
  {
   "cell_type": "code",
   "execution_count": null,
   "id": "898dcfcf-297c-4368-837c-b3b8814d0b53",
   "metadata": {},
   "outputs": [],
   "source": []
  },
  {
   "cell_type": "code",
   "execution_count": null,
   "id": "3471cf8f-a21f-4014-bab2-f7b661bf57ab",
   "metadata": {},
   "outputs": [],
   "source": []
  }
 ],
 "metadata": {
  "kernelspec": {
   "display_name": "Typescript 4.9",
   "language": "typescript",
   "name": "typescript"
  },
  "language_info": {
   "file_extension": ".ts",
   "mimetype": "application/x-typescript",
   "name": "typescript",
   "version": "4.9.5"
  }
 },
 "nbformat": 4,
 "nbformat_minor": 5
}
