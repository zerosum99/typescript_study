{
 "cells": [
  {
   "cell_type": "code",
   "execution_count": null,
   "id": "b900246c-92e8-4ce5-99fc-135e31bda94f",
   "metadata": {},
   "outputs": [],
   "source": []
  },
  {
   "cell_type": "markdown",
   "id": "7b4130ec-81c7-44bf-8a93-d9ae70f48ea7",
   "metadata": {},
   "source": [
    "## 1. 추상 클래스(abstract class)\n",
    "- 다른 클래스들이 상속하여 사용할 목적으로 디자인된 클래스입니다. \n",
    "- 추상 클래스는 직접 인스턴스를 생성할 수 없으며, 그 대신에 다른 클래스에서 상속받아 구현할 수 있는 메서드 및 속성을 정의할 때 사용됩니다."
   ]
  },
  {
   "cell_type": "code",
   "execution_count": null,
   "id": "42fa3c01-0f81-4456-bedd-586f53b632d9",
   "metadata": {},
   "outputs": [],
   "source": []
  },
  {
   "cell_type": "code",
   "execution_count": 1,
   "id": "1f35116f-b9c4-434c-a28a-206ac4708c3e",
   "metadata": {},
   "outputs": [
    {
     "data": {
      "text/plain": [
       "'use strict'"
      ]
     },
     "execution_count": 1,
     "metadata": {},
     "output_type": "execute_result"
    }
   ],
   "source": [
    "abstract class Shape {\n",
    "    abstract calculateArea(): number; // 추상 메서드, 하위 클래스에서 반드시 구현되어야 함\n",
    "    color: string; // 일반 속성\n",
    "    constructor(color: string) {\n",
    "        this.color = color;\n",
    "    }\n",
    "}\n"
   ]
  },
  {
   "cell_type": "code",
   "execution_count": 2,
   "id": "6023c7f8-6569-47ae-80e3-432f0862c999",
   "metadata": {},
   "outputs": [
    {
     "data": {
      "text/plain": [
       "undefined"
      ]
     },
     "execution_count": 2,
     "metadata": {},
     "output_type": "execute_result"
    }
   ],
   "source": [
    "class Circle extends Shape {\n",
    "    radius: number;\n",
    "    constructor(radius: number, color: string) {\n",
    "        super(color); // 부모 클래스의 생성자 호출\n",
    "        this.radius = radius;\n",
    "    }\n",
    "    \n",
    "    calculateArea(): number { // 추상 메서드를 구현\n",
    "        return Math.PI * this.radius ** 2;\n",
    "    }\n",
    "}"
   ]
  },
  {
   "cell_type": "code",
   "execution_count": 3,
   "id": "c22ce215-352f-4591-9b6f-cb35d0b0dc19",
   "metadata": {},
   "outputs": [
    {
     "data": {
      "text/plain": [
       "undefined"
      ]
     },
     "execution_count": 3,
     "metadata": {},
     "output_type": "execute_result"
    }
   ],
   "source": [
    "class Rectangle extends Shape {\n",
    "    width: number;\n",
    "    height: number;\n",
    "    constructor(width: number, height: number, color: string) {\n",
    "        super(color); // 부모 클래스의 생성자 호출\n",
    "        this.width = width;\n",
    "        this.height = height;\n",
    "    }\n",
    "    \n",
    "    calculateArea(): number { // 추상 메서드를 구현\n",
    "        return this.width * this.height;\n",
    "    }\n",
    "}"
   ]
  },
  {
   "cell_type": "code",
   "execution_count": null,
   "id": "087f6537-234c-4bab-b184-4467ae56ce2e",
   "metadata": {},
   "outputs": [],
   "source": []
  },
  {
   "cell_type": "code",
   "execution_count": 4,
   "id": "799a8202-85b8-44fb-9673-a566cf843396",
   "metadata": {
    "scrolled": true
   },
   "outputs": [
    {
     "name": "stdout",
     "output_type": "stream",
     "text": [
      "78.53981633974483\n",
      "24\n"
     ]
    },
    {
     "data": {
      "text/plain": [
       "undefined"
      ]
     },
     "execution_count": 4,
     "metadata": {},
     "output_type": "execute_result"
    }
   ],
   "source": [
    "const circle = new Circle(5, \"red\");\n",
    "const rectangle = new Rectangle(4, 6, \"blue\");\n",
    "\n",
    "console.log(circle.calculateArea());    // 원의 넓이 계산\n",
    "console.log(rectangle.calculateArea()); // 직사각형의 넓이 계산"
   ]
  },
  {
   "cell_type": "code",
   "execution_count": null,
   "id": "a0a552a3-29d4-4e7a-80dc-cd52d100fc1f",
   "metadata": {},
   "outputs": [],
   "source": []
  },
  {
   "cell_type": "markdown",
   "id": "5fd5e723-5a34-4c2a-af73-4c7a6a96d1f4",
   "metadata": {},
   "source": [
    "## 2. 타입스크립트에서 추상 클래스와 인터페이스 이들의 주요 차이점\n",
    "\n",
    "\n",
    "\n",
    "\n",
    "### 목적:\n",
    "\n",
    "- 추상 클래스: 추상 클래스는 클래스 계층 구조를 설계하고 공통 동작을 정의하는 데 사용됩니다. 추상 클래스는 구현 클래스를 유도하고 공통 로직을 공유하는 데 적합합니다.\n",
    "- 인터페이스: 인터페이스는 클래스나 객체의 동작을 정의하고, 클래스 간의 상호작용을 강제하는 데 사용됩니다. 또한, 클래스가 특정 동작을 지원함을 보장합니다.\n"
   ]
  },
  {
   "cell_type": "markdown",
   "id": "f5d9efca-be4b-47aa-96e4-6ef7a98fb65b",
   "metadata": {},
   "source": [
    "## 2-1 구현 가능 여부:\n",
    "\n",
    "### 추상 클래스: \n",
    "- 추상 클래스는 메서드의 일부 구현을 포함할 수 있습니다. 즉, 일부 메서드는 추상 메서드로 선언하고 구현 클래스에서 반드시 구현해야 합니다. \n",
    "- 추상 클래스는 인스턴스를 직접 생성할 수 없으며, 다른 클래스에서 상속받아 사용됩니다.\n",
    "### 인터페이스: \n",
    "- 인터페이스는 구현을 포함하지 않습니다. \n",
    "- 인터페이스는 클래스에서 구현해야 하는 메서드와 속성의 명세만을 정의하며, 실제 구현은 클래스에서 이루어집니다. 인터페이스는 클래스와 상관없이 다른 클래스나 객체에서 구현할 수 있습니다."
   ]
  },
  {
   "cell_type": "markdown",
   "id": "530a08aa-b01e-438a-88d4-628d9c27f7be",
   "metadata": {},
   "source": [
    "### 추상클래스 정의 "
   ]
  },
  {
   "cell_type": "code",
   "execution_count": null,
   "id": "835977c2-158c-4e95-9149-a5f942d30574",
   "metadata": {},
   "outputs": [],
   "source": [
    "abstract class Animal {\n",
    "    abstract makeSound(): void; // 추상 메서드\n",
    "\n",
    "    move(distance: number): void {\n",
    "        console.log(`Animal moved ${distance} meters`);\n",
    "    }\n",
    "}\n",
    "\n",
    "class Dog extends Animal {\n",
    "    makeSound(): void {\n",
    "        console.log(\"Dog barks\");\n",
    "    }\n",
    "}\n",
    "\n",
    "const dog = new Dog();\n",
    "dog.makeSound();        // 출력: Dog barks\n",
    "dog.move(10);           // 출력: Animal moved 10 meters\n"
   ]
  },
  {
   "cell_type": "markdown",
   "id": "836a7fc5-5a87-4eb9-9ad8-582641ec6b79",
   "metadata": {},
   "source": [
    "### 인터페이스 정의 "
   ]
  },
  {
   "cell_type": "code",
   "execution_count": null,
   "id": "6bf0a715-c683-4bd8-9087-94bd0506331e",
   "metadata": {},
   "outputs": [],
   "source": [
    "interface Vehicle {\n",
    "    start(): void;\n",
    "    stop(): void;\n",
    "}\n",
    "\n",
    "class Car implements Vehicle {\n",
    "    start(): void {\n",
    "        console.log(\"Car started\");\n",
    "    }\n",
    "\n",
    "    stop(): void {\n",
    "        console.log(\"Car stopped\");\n",
    "    }\n",
    "}\n",
    "\n",
    "const car = new Car();\n",
    "car.start(); // 출력: Car started\n",
    "car.stop();  // 출력: Car stopped\n"
   ]
  },
  {
   "cell_type": "code",
   "execution_count": null,
   "id": "07a564b7-9dbc-42d9-b46e-3168da9105de",
   "metadata": {},
   "outputs": [],
   "source": []
  },
  {
   "cell_type": "code",
   "execution_count": null,
   "id": "197c1fd3-bb04-472a-b2be-83648777ed06",
   "metadata": {},
   "outputs": [],
   "source": []
  },
  {
   "cell_type": "markdown",
   "id": "fd502b1b-163c-4baa-9fdd-b180ee93d347",
   "metadata": {},
   "source": [
    "## 2-2 다중 상속:\n",
    "\n",
    "### 추상 클래스: \n",
    "- TypeScript에서는 단일 상속만 지원하므로 클래스는 하나의 추상 클래스만 상속할 수 있습니다.\n",
    "### 인터페이스: \n",
    "- TypeScript에서는 다중 상속을 지원합니다. 클래스는 여러 인터페이스를 구현할 수 있으며, 이를 통해 다양한 형태의 다중 상속을 구현할 수 있습니다."
   ]
  },
  {
   "cell_type": "code",
   "execution_count": null,
   "id": "07d83f8a-a290-446a-8c18-7659b6318064",
   "metadata": {},
   "outputs": [],
   "source": []
  },
  {
   "cell_type": "code",
   "execution_count": null,
   "id": "2df6ad02-9031-4031-a548-febfae068b9e",
   "metadata": {},
   "outputs": [],
   "source": []
  },
  {
   "cell_type": "markdown",
   "id": "410eacb2-03a3-47aa-b205-4f65c03ecf0f",
   "metadata": {},
   "source": [
    "## 2-3 목적:\n",
    "\n",
    "- 추상 클래스: 추상 클래스는 클래스 계층 구조를 설계하고 공통 동작을 정의하는 데 사용됩니다. 추상 클래스는 구현 클래스를 유도하고 공통 로직을 공유하는 데 적합합니다.\n",
    "- 인터페이스: 인터페이스는 클래스나 객체의 동작을 정의하고, 클래스 간의 상호작용을 강제하는 데 사용됩니다. 또한, 클래스가 특정 동작을 지원함을 보장합니다."
   ]
  },
  {
   "cell_type": "code",
   "execution_count": null,
   "id": "103395e7-7336-421f-929b-fdafdec06afa",
   "metadata": {},
   "outputs": [],
   "source": []
  },
  {
   "cell_type": "code",
   "execution_count": null,
   "id": "6ac9a309-e271-4b6a-91c5-a94f0f3523d5",
   "metadata": {},
   "outputs": [],
   "source": []
  },
  {
   "cell_type": "code",
   "execution_count": null,
   "id": "198eba9b-9a57-4f6a-a234-bbbb0825a583",
   "metadata": {},
   "outputs": [],
   "source": []
  },
  {
   "cell_type": "code",
   "execution_count": null,
   "id": "e90ec104-11e7-4f46-a87c-1aad33b3a27e",
   "metadata": {},
   "outputs": [],
   "source": []
  },
  {
   "cell_type": "code",
   "execution_count": null,
   "id": "79afac73-917c-4289-b65a-1faf145717ea",
   "metadata": {},
   "outputs": [],
   "source": []
  },
  {
   "cell_type": "code",
   "execution_count": null,
   "id": "8045c2b3-862b-443d-9f8e-7c58393f7d3c",
   "metadata": {},
   "outputs": [],
   "source": []
  },
  {
   "cell_type": "markdown",
   "id": "4c357411-e2d4-44c9-9b08-b5cfe6d6cd38",
   "metadata": {},
   "source": [
    "## 2-4  속성:\n",
    "\n",
    "- 추상 클래스: 속성을 가질 수 있으며, 일반 속성과 추상 속성을 모두 정의할 수 있습니다.\n",
    "- 인터페이스: 주로 메서드와 속성의 명세를 정의하며, 클래스 내에서 멤버 변수를 직접 가질 수 없습니다."
   ]
  },
  {
   "cell_type": "code",
   "execution_count": null,
   "id": "1c8d81b2-8033-49c8-8964-087ffc709fb6",
   "metadata": {},
   "outputs": [],
   "source": []
  },
  {
   "cell_type": "code",
   "execution_count": null,
   "id": "1af5400d-1588-4e25-b250-077eed101ebe",
   "metadata": {},
   "outputs": [],
   "source": []
  },
  {
   "cell_type": "code",
   "execution_count": null,
   "id": "fae6654e-dbfc-43ff-a9cc-c0374f2a7274",
   "metadata": {},
   "outputs": [],
   "source": []
  }
 ],
 "metadata": {
  "kernelspec": {
   "display_name": "Typescript 4.9",
   "language": "typescript",
   "name": "typescript"
  },
  "language_info": {
   "file_extension": ".ts",
   "mimetype": "application/x-typescript",
   "name": "typescript",
   "version": "4.9.5"
  }
 },
 "nbformat": 4,
 "nbformat_minor": 5
}
