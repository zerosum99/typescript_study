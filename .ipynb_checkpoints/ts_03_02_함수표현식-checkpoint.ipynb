{
 "cells": [
  {
   "cell_type": "code",
   "execution_count": null,
   "id": "63e67e61-6009-4cc8-99f3-12c5f647504e",
   "metadata": {},
   "outputs": [],
   "source": []
  },
  {
   "cell_type": "markdown",
   "id": "bcc05699-69b3-4fae-91dc-5afeaa5b5a1f",
   "metadata": {},
   "source": [
    "## 1. 함수 표현식\n",
    "    \n",
    "- 타입스크립트와 자바스크립트에서 함수를 선언하는 또 다른 방법입니다. \n",
    "- 일반적으로 함수 선언문과 함께 사용되며, 변수에 함수를 할당하여 사용합니다."
   ]
  },
  {
   "cell_type": "code",
   "execution_count": null,
   "id": "d44b9919-7832-4ee8-bb1d-2f0f6bfd3270",
   "metadata": {},
   "outputs": [],
   "source": []
  },
  {
   "cell_type": "markdown",
   "id": "81949d02-b4b3-4590-8043-c5c607439031",
   "metadata": {},
   "source": [
    "## 1-1 이름있는 함수 표현식 "
   ]
  },
  {
   "cell_type": "code",
   "execution_count": 3,
   "id": "ce7017f0-ad5f-4aec-b702-321aab8b3c92",
   "metadata": {},
   "outputs": [
    {
     "name": "stdout",
     "output_type": "stream",
     "text": [
      "8\n"
     ]
    },
    {
     "data": {
      "text/plain": [
       "undefined"
      ]
     },
     "execution_count": 3,
     "metadata": {},
     "output_type": "execute_result"
    }
   ],
   "source": [
    "const add = function sum(x: number, y: number): number { \n",
    "    return x + y ;\n",
    "};\n",
    "\n",
    "console.log(add(3, 5)); // 결과: 8\n",
    "// console.log(sum(3, 5)); // 에러: sum is not defined\n"
   ]
  },
  {
   "cell_type": "markdown",
   "id": "2e379d11-ec3e-476e-9821-0ef381c47af7",
   "metadata": {},
   "source": [
    "### 이름있는 함수표현식이지만 함수이름으로 호출할 수 없다"
   ]
  },
  {
   "cell_type": "code",
   "execution_count": 4,
   "id": "19ab040d-fbe6-43d1-b11e-68be5ee2e271",
   "metadata": {},
   "outputs": [
    {
     "ename": "Error",
     "evalue": "Line 1, Character 22\nconsole.log(sum(3, 5)\n_____________________^\nTS1005: ')' expected.\n\nLine 1, Character 13\nconsole.log(sum(3, 5)\n____________^\nTS2304: Cannot find name 'sum'.",
     "execution_count": 4,
     "output_type": "error",
     "traceback": [
      "Error: Line 1, Character 22",
      "console.log(sum(3, 5)",
      "_____________________^",
      "TS1005: ')' expected.",
      "",
      "Line 1, Character 13",
      "console.log(sum(3, 5)",
      "____________^",
      "TS2304: Cannot find name 'sum'.",
      "    at execTranspile (/usr/local/lib/node_modules/itypescript/lib/kernel.js:229:23)",
      "    at Session.transpiler [as transpile] (/usr/local/lib/node_modules/itypescript/lib/kernel.js:288:35)",
      "    at Session._runNow (/usr/local/lib/node_modules/itypescript/node_modules/nel/lib/nel.js:835:39)",
      "    at Session._run (/usr/local/lib/node_modules/itypescript/node_modules/nel/lib/nel.js:786:14)",
      "    at Session.execute (/usr/local/lib/node_modules/itypescript/node_modules/nel/lib/nel.js:929:10)",
      "    at Kernel.execute_request (/usr/local/lib/node_modules/itypescript/node_modules/jp-kernel/lib/handlers_v5.js:116:18)",
      "    at Kernel.onShellMessage (/usr/local/lib/node_modules/itypescript/node_modules/jp-kernel/lib/jp-kernel.js:285:41)",
      "    at Socket.<anonymous> (/usr/local/lib/node_modules/itypescript/node_modules/jmp/index.js:350:17)",
      "    at Socket.emit (node:events:513:28)",
      "    at Socket._emitMessage (/usr/local/lib/node_modules/itypescript/node_modules/zeromq/lib/index.js:649:15)"
     ]
    }
   ],
   "source": [
    "console.log(sum(3, 5)"
   ]
  },
  {
   "cell_type": "code",
   "execution_count": null,
   "id": "454bb658-ef8a-47e0-9664-368df5c6e485",
   "metadata": {},
   "outputs": [],
   "source": []
  },
  {
   "cell_type": "markdown",
   "id": "1aa8755f-7915-49b4-8755-bfe219e3c1e3",
   "metadata": {},
   "source": [
    "## 1-2  이름없는 함수표현식 "
   ]
  },
  {
   "cell_type": "code",
   "execution_count": 5,
   "id": "6a29fafc-41f9-43d5-b86c-bf7936f5503c",
   "metadata": {},
   "outputs": [
    {
     "data": {
      "text/plain": [
       "undefined"
      ]
     },
     "execution_count": 5,
     "metadata": {},
     "output_type": "execute_result"
    }
   ],
   "source": [
    "// 함수 표현식\n",
    "const add2 = function(x: number, y: number): number {\n",
    "    return x + y;\n",
    "};\n",
    "\n",
    "// 함수 호출\n",
    "const result2 = add(3, 5); // 결과: 8\n"
   ]
  },
  {
   "cell_type": "code",
   "execution_count": 6,
   "id": "f2ddc93e-7e0d-4fd7-aca7-6c5c7e5e04a1",
   "metadata": {},
   "outputs": [
    {
     "data": {
      "text/plain": [
       "8"
      ]
     },
     "execution_count": 6,
     "metadata": {},
     "output_type": "execute_result"
    }
   ],
   "source": [
    "result2"
   ]
  },
  {
   "cell_type": "code",
   "execution_count": null,
   "id": "5e430389-5848-4ee2-b551-81bfe3cc176f",
   "metadata": {},
   "outputs": [],
   "source": []
  },
  {
   "cell_type": "markdown",
   "id": "b474ccdc-2370-4794-bca9-701866d3b3ac",
   "metadata": {},
   "source": [
    "## 2. 화살표 함수 \n",
    "\n",
    "- 화살표 함수(arrow function)는 ES6(ECMAScript 2015)부터 도입된 새로운 함수 선언 방식입니다. \n",
    "- 기존의 함수 선언문과 함수 표현식보다 간결한 문법을 제공하며, 함수의 this 동작도 다르게 처리됩니다."
   ]
  },
  {
   "cell_type": "markdown",
   "id": "9f9641d9-2618-4e9f-9ddb-bea97f71ef08",
   "metadata": {},
   "source": [
    "## 타입스크립트의 화살표 함수 정의 "
   ]
  },
  {
   "cell_type": "code",
   "execution_count": 8,
   "id": "30a8eca5-7125-453f-9719-53c65043b68f",
   "metadata": {},
   "outputs": [
    {
     "data": {
      "text/plain": [
       "undefined"
      ]
     },
     "execution_count": 8,
     "metadata": {},
     "output_type": "execute_result"
    }
   ],
   "source": [
    "const functionName = (parameters:number) => {\n",
    "    // 함수 내용\n",
    "    return parameters;\n",
    "};\n"
   ]
  },
  {
   "cell_type": "code",
   "execution_count": null,
   "id": "074537bc-eeab-4d50-b57e-4e707f6ac7cf",
   "metadata": {},
   "outputs": [],
   "source": []
  },
  {
   "cell_type": "markdown",
   "id": "86accce6-2924-462d-a1db-c27a3bec111e",
   "metadata": {},
   "source": [
    "## 화살표 함수의 특징:\n",
    "\n",
    "- 간결한 문법: 함수의 선언이나 표현식을 간결하게 작성할 수 있습니다.\n",
    "- this 바인딩: 화살표 함수는 자체적인 this를 가지지 않고, 외부의 스코프에서 this를 상속받습니다. 이로 인해 함수 내부에서의 this 동작이 일반적인 함수와 다르게 동작합니다.\n",
    "- 반환 구문 단축: 함수 내부가 반환문 하나만을 포함하면, 중괄호와 return 키워드를 생략할 수 있습니다."
   ]
  },
  {
   "cell_type": "code",
   "execution_count": 12,
   "id": "566f201c-05f8-47e4-8a2b-c1ca16e08abd",
   "metadata": {},
   "outputs": [
    {
     "data": {
      "text/plain": [
       "undefined"
      ]
     },
     "execution_count": 12,
     "metadata": {},
     "output_type": "execute_result"
    }
   ],
   "source": [
    "// 일반 함수 표현식\n",
    "const add4 = function(x : number, y : number) {\n",
    "    return x + y;\n",
    "};\n",
    "\n",
    "// 화살표 함수 표현식\n",
    "const addArrow = (x: number, y: number) => x + y;\n"
   ]
  },
  {
   "cell_type": "code",
   "execution_count": 13,
   "id": "a2a450f3-5312-41f5-b817-5add432de924",
   "metadata": {},
   "outputs": [
    {
     "data": {
      "text/plain": [
       "300"
      ]
     },
     "execution_count": 13,
     "metadata": {},
     "output_type": "execute_result"
    }
   ],
   "source": [
    "add4(100,200);"
   ]
  },
  {
   "cell_type": "code",
   "execution_count": 14,
   "id": "337ad0ba-16b2-44fb-8e00-8557953f2645",
   "metadata": {},
   "outputs": [
    {
     "data": {
      "text/plain": [
       "700"
      ]
     },
     "execution_count": 14,
     "metadata": {},
     "output_type": "execute_result"
    }
   ],
   "source": [
    "addArrow(300,400);"
   ]
  },
  {
   "cell_type": "code",
   "execution_count": null,
   "id": "20069877-c9f2-46b4-b365-513497787b4d",
   "metadata": {},
   "outputs": [],
   "source": []
  }
 ],
 "metadata": {
  "kernelspec": {
   "display_name": "Typescript 4.9",
   "language": "typescript",
   "name": "typescript"
  },
  "language_info": {
   "file_extension": ".ts",
   "mimetype": "application/x-typescript",
   "name": "typescript",
   "version": "4.9.5"
  }
 },
 "nbformat": 4,
 "nbformat_minor": 5
}
