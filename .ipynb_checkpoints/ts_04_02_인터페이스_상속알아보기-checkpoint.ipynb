{
 "cells": [
  {
   "cell_type": "code",
   "execution_count": null,
   "id": "398d6a99-33d0-4165-8668-cf105094f5f2",
   "metadata": {},
   "outputs": [],
   "source": []
  },
  {
   "cell_type": "markdown",
   "id": "dd56a723-e426-4439-be22-2704679b2e47",
   "metadata": {},
   "source": [
    "## 1. 인터페이스 상속\n",
    "- 한 인터페이스가 다른 인터페이스의 속성과 메서드를 상속받는 것을 말합니다. \n",
    "- 인터페이스 상속을 사용하면 기존에 정의된 인터페이스를 재사용하고, 새로운 인터페이스에 추가적인 속성이나 메서드를 정의할 수 있습니다."
   ]
  },
  {
   "cell_type": "markdown",
   "id": "f0505d67-c0fc-43ed-afdf-241216914b1d",
   "metadata": {},
   "source": [
    "### 인터페이스 상속\n",
    "- extends로 상속할 인터페이스를 지정"
   ]
  },
  {
   "cell_type": "code",
   "execution_count": 1,
   "id": "11ae90dd-b572-4803-8112-642da659df69",
   "metadata": {},
   "outputs": [
    {
     "data": {
      "text/html": [
       "<div style='background:#ffecb3;padding:1em;border-left:2px solid #ff6d00'><b>Configuration is not found!</b> Default configuration will be used: <pre>{\"module\":1,\"target\":1,\"moduleResolution\":2,\"esModuleInterop\":true}</pre></div>"
      ]
     },
     "execution_count": 1,
     "metadata": {},
     "output_type": "execute_result"
    }
   ],
   "source": [
    "// 기본 인터페이스 정의\n",
    "interface Shape {\n",
    "  color: string;\n",
    "  area(): number;\n",
    "}\n",
    "\n",
    "// Shape 인터페이스를 상속하는 Circle 인터페이스 정의\n",
    "interface Circle extends Shape {\n",
    "  radius: number;\n",
    "}"
   ]
  },
  {
   "cell_type": "code",
   "execution_count": null,
   "id": "9141e330-504a-4147-8e52-815e02795912",
   "metadata": {},
   "outputs": [],
   "source": []
  },
  {
   "cell_type": "code",
   "execution_count": 2,
   "id": "d43ae9e2-fd31-487d-88cf-f7b7f040e10c",
   "metadata": {},
   "outputs": [
    {
     "data": {
      "text/plain": [
       "undefined"
      ]
     },
     "execution_count": 2,
     "metadata": {},
     "output_type": "execute_result"
    }
   ],
   "source": [
    "\n",
    "// Circle 인터페이스를 사용하여 함수 작성\n",
    "function getCircleInfo(circle: Circle): string {\n",
    "  return `A circle with radius ${circle.radius} has a color ${circle.color} and area ${circle.area()}.`;\n",
    "}\n"
   ]
  },
  {
   "cell_type": "code",
   "execution_count": null,
   "id": "4ed7fa84-d1e8-4ddd-96d8-660d3a84ebcb",
   "metadata": {},
   "outputs": [],
   "source": [
    "\n",
    "    "
   ]
  },
  {
   "cell_type": "code",
   "execution_count": 7,
   "id": "7d518d25-a3c7-4b0b-b653-f663ab356510",
   "metadata": {},
   "outputs": [
    {
     "data": {
      "text/plain": [
       "undefined"
      ]
     },
     "execution_count": 7,
     "metadata": {},
     "output_type": "execute_result"
    }
   ],
   "source": [
    "var circle1 = { color:'red', radius : 5, area : function () { return this.radius * 3.14 } };"
   ]
  },
  {
   "cell_type": "code",
   "execution_count": 8,
   "id": "5d7b46f2-3729-40a0-90e8-ad90932ab976",
   "metadata": {},
   "outputs": [
    {
     "data": {
      "text/plain": [
       "'A circle with radius 5 has a color red and area 15.700000000000001.'"
      ]
     },
     "execution_count": 8,
     "metadata": {},
     "output_type": "execute_result"
    }
   ],
   "source": [
    "getCircleInfo(circle1);"
   ]
  },
  {
   "cell_type": "code",
   "execution_count": null,
   "id": "a28d189b-6fab-4327-b4f3-788153f209aa",
   "metadata": {},
   "outputs": [],
   "source": []
  },
  {
   "cell_type": "markdown",
   "id": "6dbf88bd-62dd-4c25-af20-7ccb48656043",
   "metadata": {},
   "source": [
    "## 2. 인터페이스 상속에 대한 클래스 구현 \n",
    "\n",
    "- implements 로 인터페이스 구현 지정"
   ]
  },
  {
   "cell_type": "code",
   "execution_count": 10,
   "id": "c7d9a6f2-4c2b-45b0-bfda-3ef2b239bb4c",
   "metadata": {},
   "outputs": [
    {
     "data": {
      "text/plain": [
       "undefined"
      ]
     },
     "execution_count": 10,
     "metadata": {},
     "output_type": "execute_result"
    }
   ],
   "source": [
    "// Circle 클래스가 Shape 인터페이스를 구현\n",
    "class KCircle implements Circle {\n",
    "  \n",
    "  constructor(public color: string, public radius: number) {}\n",
    "\n",
    "  // Shape 인터페이스가 요구하는 area 메서드를 구현\n",
    "  area(): number {\n",
    "    return Math.PI * this.radius * this.radius;\n",
    "  }\n",
    "}\n"
   ]
  },
  {
   "cell_type": "markdown",
   "id": "ebec27e1-36d2-4752-ab78-74d76e35edf7",
   "metadata": {},
   "source": [
    "### 객체를 생성해서 처리하기"
   ]
  },
  {
   "cell_type": "code",
   "execution_count": 12,
   "id": "01ca45b0-875e-4d20-bb26-a2a51ccc1c7a",
   "metadata": {},
   "outputs": [
    {
     "name": "stdout",
     "output_type": "stream",
     "text": [
      "78.53981633974483\n",
      "red\n",
      "5\n"
     ]
    },
    {
     "data": {
      "text/plain": [
       "undefined"
      ]
     },
     "execution_count": 12,
     "metadata": {},
     "output_type": "execute_result"
    }
   ],
   "source": [
    "// Circle 클래스 사용\n",
    "const circle3 = new KCircle(\"red\", 5);\n",
    "console.log(circle3.area());            // 출력: 78.53981633974483\n",
    "console.log(circle3.color);             // 출력: \"red\"\n",
    "console.log(circle3.radius);            // 출력: 5"
   ]
  },
  {
   "cell_type": "code",
   "execution_count": null,
   "id": "c5791752-f24a-463d-9f1a-4b8dc7f0d97d",
   "metadata": {},
   "outputs": [],
   "source": []
  }
 ],
 "metadata": {
  "kernelspec": {
   "display_name": "Typescript 4.9",
   "language": "typescript",
   "name": "typescript"
  },
  "language_info": {
   "file_extension": ".ts",
   "mimetype": "application/x-typescript",
   "name": "typescript",
   "version": "4.9.5"
  }
 },
 "nbformat": 4,
 "nbformat_minor": 5
}
