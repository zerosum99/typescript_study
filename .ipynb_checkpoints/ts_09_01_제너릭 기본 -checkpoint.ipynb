{
 "cells": [
  {
   "cell_type": "code",
   "execution_count": null,
   "id": "7f44bf79-367c-4094-8e49-fb4a95c6b134",
   "metadata": {},
   "outputs": [],
   "source": []
  },
  {
   "cell_type": "markdown",
   "id": "30fd84c4-e3d1-454c-b4d5-892cb880fa67",
   "metadata": {},
   "source": [
    "## 제너릭(Generic)은\n",
    "- TypeScript와 같은 프로그래밍 언어에서 함수, 클래스, 인터페이스 등을 작성할 때 여러 종류의 데이터 타입에 대해 일반화된 코드를 작성하는 방법입니다. \n",
    "- 제너릭을 사용하면 재사용 가능한 컴포넌트를 만들 수 있으며, 타입 안정성을 유지하면서 다양한 데이터 타입에 대해 작동하는 함수나 클래스를 작성할 수 있습니다."
   ]
  },
  {
   "cell_type": "markdown",
   "id": "062e188e-8f3d-4703-95c6-7f1ce31da39d",
   "metadata": {},
   "source": [
    "## 제너릭 함수\n",
    "- 제너릭 타입 변수 정의: 함수의 시그니처에 <T>와 같은 제너릭 타입 변수를 정의합니다. 이 타입 변수는 임의의 타입으로 대체될 것입니다.\n",
    "- 함수 정의: 실제 함수 구현을 작성합니다. 이때 함수 시그니처에 정의한 제너릭 타입 변수를 사용하여 매개변수나 반환 타입에 타입을 적용합니다.\n",
    "- 타입 안정성 보장: 제너릭을 사용하여 다양한 타입에 대해 작동하는 함수를 작성하면서, TypeScript 컴파일러는 제너릭 타입 변수와 실제 타입이 일치하는지 검사하며 타입 안정성을 보장합니다."
   ]
  },
  {
   "cell_type": "code",
   "execution_count": 1,
   "id": "971de924-dab5-407b-8d2a-48a46933357a",
   "metadata": {},
   "outputs": [
    {
     "data": {
      "text/plain": [
       "'use strict'"
      ]
     },
     "execution_count": 1,
     "metadata": {},
     "output_type": "execute_result"
    }
   ],
   "source": [
    "function identity<T>(arg: T): T {\n",
    "    return arg;\n",
    "}\n",
    "\n",
    "const result1 = identity(\"hello\"); // result1의 타입: string\n",
    "const result2 = identity(42);      // result2의 타입: number\n"
   ]
  },
  {
   "cell_type": "code",
   "execution_count": null,
   "id": "88e535ce-9895-4ba3-bd92-b61e50062204",
   "metadata": {},
   "outputs": [],
   "source": []
  }
 ],
 "metadata": {
  "kernelspec": {
   "display_name": "Typescript 4.9",
   "language": "typescript",
   "name": "typescript"
  },
  "language_info": {
   "file_extension": ".ts",
   "mimetype": "application/x-typescript",
   "name": "typescript",
   "version": "4.9.5"
  }
 },
 "nbformat": 4,
 "nbformat_minor": 5
}
