{
 "cells": [
  {
   "cell_type": "code",
   "execution_count": null,
   "id": "a33d1cef-6d95-4906-86e0-cf5eb648454b",
   "metadata": {},
   "outputs": [],
   "source": []
  },
  {
   "cell_type": "code",
   "execution_count": null,
   "id": "dc14ff35-8a71-4980-8e7d-e8c3f99cdeaa",
   "metadata": {},
   "outputs": [],
   "source": []
  },
  {
   "cell_type": "markdown",
   "id": "ffe1bdaf-f6ef-43d0-9afe-555ddee7d0b0",
   "metadata": {},
   "source": [
    "## 1. 비동기 작업 "
   ]
  },
  {
   "cell_type": "markdown",
   "id": "95f20126-7716-4b47-9112-9f6c8f5df66d",
   "metadata": {},
   "source": [
    "## 1-1. 익명함수로 콜백함수 지정하기 "
   ]
  },
  {
   "cell_type": "code",
   "execution_count": 6,
   "id": "8c836ddb-0cc9-4971-9bfc-a21dbbe1f838",
   "metadata": {},
   "outputs": [
    {
     "name": "stdout",
     "output_type": "stream",
     "text": [
      " 2번 \n"
     ]
    },
    {
     "data": {
      "text/plain": [
       "undefined"
      ]
     },
     "execution_count": 6,
     "metadata": {},
     "output_type": "execute_result"
    },
    {
     "name": "stdout",
     "output_type": "stream",
     "text": [
      " 1번 \n"
     ]
    }
   ],
   "source": [
    "setTimeout( function () {console.log(\" 1번 \"); }, 3000);\n",
    "\n",
    "console.log(\" 2번 \");"
   ]
  },
  {
   "cell_type": "markdown",
   "id": "9b1ca296-1b98-4bce-be97-5a23097f63c5",
   "metadata": {},
   "source": [
    "## 1-2. 화살표 함수로 콜백함수 지정하기 "
   ]
  },
  {
   "cell_type": "code",
   "execution_count": 7,
   "id": "71a91050-6ced-4e20-9bcf-c214d9bc82b8",
   "metadata": {},
   "outputs": [
    {
     "name": "stdout",
     "output_type": "stream",
     "text": [
      " 2번 \n"
     ]
    },
    {
     "data": {
      "text/plain": [
       "undefined"
      ]
     },
     "execution_count": 7,
     "metadata": {},
     "output_type": "execute_result"
    },
    {
     "name": "stdout",
     "output_type": "stream",
     "text": [
      " 1번 \n"
     ]
    }
   ],
   "source": [
    "setTimeout( () => {console.log(\" 1번 \"); }, 3000);\n",
    "\n",
    "console.log(\" 2번 \");"
   ]
  },
  {
   "cell_type": "markdown",
   "id": "a6603d38-7508-4408-8d29-3a14235fcf71",
   "metadata": {},
   "source": [
    "## 1-3 실행함수로 직접 비동기 처리하기 "
   ]
  },
  {
   "cell_type": "code",
   "execution_count": 10,
   "id": "18010950-fbb4-4130-9046-79abba00e08f",
   "metadata": {},
   "outputs": [
    {
     "data": {
      "text/plain": [
       "undefined"
      ]
     },
     "execution_count": 10,
     "metadata": {},
     "output_type": "execute_result"
    }
   ],
   "source": [
    "function order(coffee, time) {\n",
    "    setTimeout( () => {\n",
    "        console.log(` ${coffee} 제조완료 `);\n",
    "    }, time)\n",
    "}"
   ]
  },
  {
   "cell_type": "code",
   "execution_count": 11,
   "id": "8925eb59-714f-43ba-a47f-aa448860f542",
   "metadata": {},
   "outputs": [
    {
     "data": {
      "text/plain": [
       "undefined"
      ]
     },
     "execution_count": 11,
     "metadata": {},
     "output_type": "execute_result"
    },
    {
     "name": "stdout",
     "output_type": "stream",
     "text": [
      " 아리스 라떼 제조완료 \n",
      " 아이스 아메리카노 제조완료 \n"
     ]
    }
   ],
   "source": [
    "order(\"아이스 아메리카노\", 2000);\n",
    "order(\"아리스 라떼\", 1000);"
   ]
  },
  {
   "cell_type": "code",
   "execution_count": null,
   "id": "c0aaaa03-e785-43d9-a3d0-8b258061be24",
   "metadata": {},
   "outputs": [],
   "source": []
  },
  {
   "cell_type": "code",
   "execution_count": null,
   "id": "9ffedd77-5762-42fc-8391-0ba3e483c184",
   "metadata": {},
   "outputs": [],
   "source": []
  },
  {
   "cell_type": "markdown",
   "id": "ed3ee3be-d5fe-414c-b274-50b0f19cc0ba",
   "metadata": {},
   "source": [
    "## 2. 프로미스 객체로 처리하기"
   ]
  },
  {
   "cell_type": "markdown",
   "id": "a5731932-6121-4f8f-9494-17e392475219",
   "metadata": {},
   "source": [
    "## 2-1 프로미스 객체 이해하기"
   ]
  },
  {
   "cell_type": "markdown",
   "id": "8da8d9ae-69c1-4bce-998f-f7114781edd5",
   "metadata": {},
   "source": [
    "### 프로미스 실행할 때 바로 내부 실행하기"
   ]
  },
  {
   "cell_type": "code",
   "execution_count": 14,
   "id": "31902e6c-4ca2-41f6-8e9a-e7caf00d2746",
   "metadata": {},
   "outputs": [
    {
     "data": {
      "text/plain": [
       "undefined"
      ]
     },
     "execution_count": 14,
     "metadata": {},
     "output_type": "execute_result"
    },
    {
     "name": "stdout",
     "output_type": "stream",
     "text": [
      "안녕\n"
     ]
    }
   ],
   "source": [
    "const promise = new Promise( \n",
    "    function (resolve, reject) {\n",
    "        setTimeout( () => { \n",
    "                   console.log(\"안녕\"); \n",
    "        }, 500);\n",
    "    }\n",
    ");"
   ]
  },
  {
   "cell_type": "code",
   "execution_count": null,
   "id": "99cec41f-9fc4-4b01-9bec-a1b8019ffaa8",
   "metadata": {},
   "outputs": [],
   "source": []
  },
  {
   "cell_type": "markdown",
   "id": "8b4a86f2-6394-4ab3-ae6f-7b5c04e44906",
   "metadata": {},
   "source": [
    "###  프로미스 객체 생성한 후에 콜백함수를 받고 실행하기 "
   ]
  },
  {
   "cell_type": "markdown",
   "id": "e0ab1ade-c495-479b-989a-716845528387",
   "metadata": {},
   "source": [
    "### 성공처리 "
   ]
  },
  {
   "cell_type": "code",
   "execution_count": 15,
   "id": "44e0951f-cf62-424b-92cd-b34dcf1d84b0",
   "metadata": {},
   "outputs": [
    {
     "data": {
      "text/plain": [
       "undefined"
      ]
     },
     "execution_count": 15,
     "metadata": {},
     "output_type": "execute_result"
    }
   ],
   "source": [
    "const promise1 = new Promise( \n",
    "    function (resolve, reject) {\n",
    "        setTimeout( () => { \n",
    "                   resolve(\"성공\"); }, 500);\n",
    "    }\n",
    ");"
   ]
  },
  {
   "cell_type": "code",
   "execution_count": 16,
   "id": "a4d19900-8a1e-4af1-8bb6-37f6ebb90581",
   "metadata": {},
   "outputs": [
    {
     "data": {
      "text/plain": [
       "Promise { <pending> }"
      ]
     },
     "execution_count": 16,
     "metadata": {},
     "output_type": "execute_result"
    },
    {
     "name": "stdout",
     "output_type": "stream",
     "text": [
      "성공\n"
     ]
    }
   ],
   "source": [
    "promise1.then(function (res) { \n",
    "              console.log(res);\n",
    "});"
   ]
  },
  {
   "cell_type": "code",
   "execution_count": 17,
   "id": "20d3fd39-f008-4e08-83ef-96b3af041e0a",
   "metadata": {},
   "outputs": [
    {
     "data": {
      "text/plain": [
       "Promise { <pending> }"
      ]
     },
     "execution_count": 17,
     "metadata": {},
     "output_type": "execute_result"
    },
    {
     "name": "stdout",
     "output_type": "stream",
     "text": [
      "성공추가\n"
     ]
    }
   ],
   "source": [
    "promise1.then(function (res) { \n",
    "              console.log(res + \"추가\");\n",
    "});"
   ]
  },
  {
   "cell_type": "markdown",
   "id": "b9608271-796f-468e-bd4c-b3ad288c4452",
   "metadata": {},
   "source": [
    "### 실패 처리 "
   ]
  },
  {
   "cell_type": "code",
   "execution_count": 22,
   "id": "61f8ace2-fb96-4a4b-a5de-452e13a325b3",
   "metadata": {},
   "outputs": [
    {
     "data": {
      "text/plain": [
       "Promise { <pending> }"
      ]
     },
     "execution_count": 22,
     "metadata": {},
     "output_type": "execute_result"
    },
    {
     "name": "stdout",
     "output_type": "stream",
     "text": [
      "실패\n"
     ]
    }
   ],
   "source": [
    "\n",
    "{ \n",
    "    const promise2 = new Promise( \n",
    "        function (resolve, reject) {\n",
    "            setTimeout( () => { \n",
    "                      reject(\"실패\"); }, 500);\n",
    "        });\n",
    "\n",
    "    promise2.catch( (err) => {console.log(err) });\n",
    "}"
   ]
  },
  {
   "cell_type": "code",
   "execution_count": null,
   "id": "6ffb7ffc-91ce-489f-8b01-c1afbe37390e",
   "metadata": {},
   "outputs": [],
   "source": []
  },
  {
   "cell_type": "code",
   "execution_count": null,
   "id": "1e78ad34-b6b4-4a03-a3b4-092c829bd4e9",
   "metadata": {},
   "outputs": [],
   "source": []
  },
  {
   "cell_type": "markdown",
   "id": "6a43c2a1-6850-4f2a-bf8b-f8cbe6d3496a",
   "metadata": {},
   "source": [
    "## 2-2 함수의 반환값으로 프로미스 처리 "
   ]
  },
  {
   "cell_type": "code",
   "execution_count": 2,
   "id": "a1295dbf-3a3d-4529-89c1-448158b0c7d2",
   "metadata": {},
   "outputs": [
    {
     "data": {
      "text/plain": [
       "undefined"
      ]
     },
     "execution_count": 2,
     "metadata": {},
     "output_type": "execute_result"
    }
   ],
   "source": [
    "// 비동기 작업을 시뮬레이션하는 함수\n",
    "function simulateAsyncTask() {\n",
    "  return new Promise((resolve, reject) => {\n",
    "    setTimeout(() => {\n",
    "      const randomNumber = Math.random();\n",
    "      if (randomNumber < 0.5) {\n",
    "        resolve(`Success! Random number: ${randomNumber}`);\n",
    "      } else {\n",
    "        reject(`Error! Random number: ${randomNumber}`);\n",
    "      }\n",
    "    }, 1000); // 1초 후에 작업 완료\n",
    "  });\n",
    "}\n"
   ]
  },
  {
   "cell_type": "markdown",
   "id": "91146b4d-f8c9-47cf-9e07-65687631111b",
   "metadata": {},
   "source": [
    "## 프로미스를 사용하여 비동기 작업 처리"
   ]
  },
  {
   "cell_type": "code",
   "execution_count": 4,
   "id": "d446887d-ab85-47be-a9d0-efdbdf8db55d",
   "metadata": {
    "editable": true,
    "slideshow": {
     "slide_type": ""
    },
    "tags": []
   },
   "outputs": [
    {
     "name": "stdout",
     "output_type": "stream",
     "text": [
      "Start\n",
      "End\n"
     ]
    },
    {
     "data": {
      "text/plain": [
       "undefined"
      ]
     },
     "execution_count": 4,
     "metadata": {},
     "output_type": "execute_result"
    },
    {
     "name": "stdout",
     "output_type": "stream",
     "text": [
      "Success! Random number: 0.28776253275372143\n",
      "Completed\n"
     ]
    }
   ],
   "source": [
    "// 프로미스를 사용하여 비동기 작업 처리\n",
    "console.log('Start');\n",
    "simulateAsyncTask()\n",
    "  .then((result) => {\n",
    "    console.log(result); // 성공 시 출력\n",
    "  })\n",
    "  .catch((error) => {\n",
    "    console.error(error); // 실패 시 출력\n",
    "  })\n",
    "  .finally(() => {\n",
    "    console.log('Completed'); // 성공 또는 실패와 상관없이 마지막에 출력\n",
    "  });\n",
    "console.log('End');\n"
   ]
  },
  {
   "cell_type": "code",
   "execution_count": null,
   "id": "8c79cd61-b86f-4e6d-bae9-3f915a4b600a",
   "metadata": {},
   "outputs": [],
   "source": []
  }
 ],
 "metadata": {
  "kernelspec": {
   "display_name": "Typescript 4.9",
   "language": "typescript",
   "name": "typescript"
  },
  "language_info": {
   "file_extension": ".ts",
   "mimetype": "application/x-typescript",
   "name": "typescript",
   "version": "4.9.5"
  }
 },
 "nbformat": 4,
 "nbformat_minor": 5
}
