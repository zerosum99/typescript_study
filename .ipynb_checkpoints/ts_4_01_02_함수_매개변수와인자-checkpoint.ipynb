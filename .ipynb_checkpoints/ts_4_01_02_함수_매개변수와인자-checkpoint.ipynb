{
 "cells": [
  {
   "cell_type": "code",
   "execution_count": null,
   "id": "8f4bc9f0-9ad0-480a-9f02-2a7766d613d9",
   "metadata": {
    "editable": true,
    "slideshow": {
     "slide_type": ""
    },
    "tags": []
   },
   "outputs": [],
   "source": []
  },
  {
   "cell_type": "markdown",
   "id": "1f0ab00a-09d4-471e-a29c-21276b331955",
   "metadata": {},
   "source": [
    "## 3. 함수 매개변수 처리 "
   ]
  },
  {
   "cell_type": "markdown",
   "id": "f9519906-6415-4a8a-a617-735837350c4c",
   "metadata": {},
   "source": [
    "### 3-1 매개변수와 반환자료형을 문자열로 처리 "
   ]
  },
  {
   "cell_type": "code",
   "execution_count": 4,
   "id": "266f69d5-11ba-4d64-8460-c31dc9d61601",
   "metadata": {},
   "outputs": [
    {
     "data": {
      "text/plain": [
       "undefined"
      ]
     },
     "execution_count": 4,
     "metadata": {},
     "output_type": "execute_result"
    }
   ],
   "source": [
    "function greet(name: string): string {\n",
    "  return `Hello, ${name}!`;\n",
    "}"
   ]
  },
  {
   "cell_type": "code",
   "execution_count": 5,
   "id": "6075e8ed-d627-4018-bbcf-bd5d966b9493",
   "metadata": {},
   "outputs": [
    {
     "data": {
      "text/plain": [
       "'Hello, 안녕하세요!'"
      ]
     },
     "execution_count": 5,
     "metadata": {},
     "output_type": "execute_result"
    }
   ],
   "source": [
    "greet(\"안녕하세요\");"
   ]
  },
  {
   "cell_type": "code",
   "execution_count": null,
   "id": "e79a962c-fc99-404e-b62b-a52870167ea1",
   "metadata": {},
   "outputs": [],
   "source": []
  },
  {
   "cell_type": "markdown",
   "id": "8bebec9f-dd3f-470e-9bbe-b5e1a54895b2",
   "metadata": {},
   "source": [
    "## 3-2 매개변수와 인자가 동일하지 않는 경우\n",
    "\n",
    "- 자스일 경우는 매개변수보다 인자가 많은 경우에도 처리가 되지만\n",
    "- 타스일 경우는 동일한 매개변수가 전달될 경우만 처리 "
   ]
  },
  {
   "cell_type": "code",
   "execution_count": 6,
   "id": "cc9b27dd-a8ee-4368-ac9e-e82907a6b25f",
   "metadata": {},
   "outputs": [
    {
     "data": {
      "text/plain": [
       "undefined"
      ]
     },
     "execution_count": 6,
     "metadata": {},
     "output_type": "execute_result"
    }
   ],
   "source": [
    "function greet2(name: string, hello:string): string {\n",
    "  return `${hello}, ${name}!`;\n",
    "}"
   ]
  },
  {
   "cell_type": "code",
   "execution_count": 7,
   "id": "670fa445-addb-49a4-b868-8042397de157",
   "metadata": {},
   "outputs": [
    {
     "ename": "Error",
     "evalue": "Line 1, Character 24\ngreet2(\"강아지\", \"안녕하세요\", \"너무해\");\n_______________________^\nTS2554: Expected 2 arguments, but got 3.",
     "execution_count": 7,
     "output_type": "error",
     "traceback": [
      "Error: Line 1, Character 24",
      "greet2(\"강아지\", \"안녕하세요\", \"너무해\");",
      "_______________________^",
      "TS2554: Expected 2 arguments, but got 3.",
      "    at execTranspile (/usr/local/lib/node_modules/itypescript/lib/kernel.js:229:23)",
      "    at Session.transpiler [as transpile] (/usr/local/lib/node_modules/itypescript/lib/kernel.js:288:35)",
      "    at Session._runNow (/usr/local/lib/node_modules/itypescript/node_modules/nel/lib/nel.js:835:39)",
      "    at Session._runNext (/usr/local/lib/node_modules/itypescript/node_modules/nel/lib/nel.js:876:14)",
      "    at Session._onMessage (/usr/local/lib/node_modules/itypescript/node_modules/nel/lib/nel.js:773:14)",
      "    at ChildProcess.emit (node:events:513:28)",
      "    at emit (node:internal/child_process:937:14)",
      "    at process.processTicksAndRejections (node:internal/process/task_queues:83:21)"
     ]
    }
   ],
   "source": [
    "greet2(\"강아지\", \"안녕하세요\", \"너무해\");"
   ]
  },
  {
   "cell_type": "code",
   "execution_count": 8,
   "id": "02f7f547-d668-40cf-b2de-6a1fb1d17577",
   "metadata": {},
   "outputs": [
    {
     "data": {
      "text/plain": [
       "'안녕하세요, 강아지!'"
      ]
     },
     "execution_count": 8,
     "metadata": {},
     "output_type": "execute_result"
    }
   ],
   "source": [
    "greet2(\"강아지\", \"안녕하세요\");"
   ]
  },
  {
   "cell_type": "code",
   "execution_count": null,
   "id": "9cd4ca53-09ae-42cc-9415-0dbdcefdeeb3",
   "metadata": {},
   "outputs": [],
   "source": []
  },
  {
   "cell_type": "markdown",
   "id": "d0c95e6e-0d1b-41b9-9308-feb2238546c0",
   "metadata": {},
   "source": [
    "## 3-3 반환값 없는 함수 처리"
   ]
  },
  {
   "cell_type": "markdown",
   "id": "76366ee9-e156-450b-bc72-ef0b111497ca",
   "metadata": {},
   "source": [
    "## void 처리 \n",
    "\n",
    "- 함수의 반환값이 없을 경우는 void 처리 "
   ]
  },
  {
   "cell_type": "code",
   "execution_count": 9,
   "id": "5a47b27a-50e2-42e1-9544-7b4bf3301823",
   "metadata": {},
   "outputs": [
    {
     "data": {
      "text/plain": [
       "undefined"
      ]
     },
     "execution_count": 9,
     "metadata": {},
     "output_type": "execute_result"
    }
   ],
   "source": [
    "function sayHello(firstName: string, lastName?: string): void {\n",
    "    let name: string;\n",
    "    if (lastName) { //값이 지정되었으면\n",
    "        name = firstName + \" \" + lastName;\n",
    "    }\n",
    "    else {\n",
    "        name = firstName;\n",
    "    }\n",
    "    console.log(\"Hello \" + name);\n",
    "}"
   ]
  },
  {
   "cell_type": "code",
   "execution_count": 10,
   "id": "0244e5c9-0b3f-4e37-8f22-451d36970fa9",
   "metadata": {},
   "outputs": [
    {
     "name": "stdout",
     "output_type": "stream",
     "text": [
      "Hello 가을 최\n"
     ]
    },
    {
     "data": {
      "text/plain": [
       "undefined"
      ]
     },
     "execution_count": 10,
     "metadata": {},
     "output_type": "execute_result"
    }
   ],
   "source": [
    "sayHello(\"가을\", \"최\");"
   ]
  },
  {
   "cell_type": "code",
   "execution_count": null,
   "id": "6bdedd1a-9f3c-467b-ab45-9529b462f90c",
   "metadata": {},
   "outputs": [],
   "source": []
  },
  {
   "cell_type": "markdown",
   "id": "07266581-91e8-4d17-925a-f9a147c170f7",
   "metadata": {},
   "source": [
    "## 3-4 옵셔널 매개변수 처리하기"
   ]
  },
  {
   "cell_type": "code",
   "execution_count": null,
   "id": "e30f8fc0-f063-430e-bf93-5332db8cbce4",
   "metadata": {},
   "outputs": [],
   "source": []
  },
  {
   "cell_type": "code",
   "execution_count": 11,
   "id": "3e24cfd8-cf59-4739-807f-db86b50d729e",
   "metadata": {},
   "outputs": [
    {
     "data": {
      "text/plain": [
       "undefined"
      ]
     },
     "execution_count": 11,
     "metadata": {},
     "output_type": "execute_result"
    }
   ],
   "source": [
    "function sayHello2(firstName: string, lastName?: string): string {\n",
    "    let name: string;\n",
    "    if (lastName) { //값이 지정되었으면\n",
    "        name = firstName + \" \" + lastName;\n",
    "    }\n",
    "    else {\n",
    "        name = firstName;\n",
    "    }\n",
    "    return \"Hello \" + name;\n",
    "}"
   ]
  },
  {
   "cell_type": "code",
   "execution_count": 12,
   "id": "42addf27-0bec-4fae-93a4-9044317d99ea",
   "metadata": {},
   "outputs": [
    {
     "data": {
      "text/plain": [
       "'Hello 가을 최'"
      ]
     },
     "execution_count": 12,
     "metadata": {},
     "output_type": "execute_result"
    }
   ],
   "source": [
    "sayHello2(\"가을\", \"최\");"
   ]
  },
  {
   "cell_type": "code",
   "execution_count": 13,
   "id": "a58530da-89d3-4d92-ae2f-944cfd1198d8",
   "metadata": {},
   "outputs": [
    {
     "data": {
      "text/plain": [
       "'Hello 가을'"
      ]
     },
     "execution_count": 13,
     "metadata": {},
     "output_type": "execute_result"
    }
   ],
   "source": [
    "sayHello2(\"가을\");"
   ]
  },
  {
   "cell_type": "code",
   "execution_count": null,
   "id": "93d30d39-6990-4892-ab43-648ff111958a",
   "metadata": {},
   "outputs": [],
   "source": []
  },
  {
   "cell_type": "markdown",
   "id": "5319ac4a-959b-40c9-9f4a-a28b06c72a5c",
   "metadata": {},
   "source": [
    "## 3-5 함수의 기본 매개변수(Default Parameters)\n",
    "    \n",
    "- 함수를 호출할 때 매개변수에 값을 제공하지 않았을 때 사용할 기본값을 지정하는 기능입니다. \n",
    "- 이를 통해 함수를 더 유연하게 사용할 수 있습니다.\n",
    "- 함수의 기본 매개변수를 정의하려면 매개변수 뒤에 등호(=)를 사용하고 기본값을 할당하면 됩니다. "
   ]
  },
  {
   "cell_type": "markdown",
   "id": "1d06cf39-389c-45de-be18-1a8d0d56847c",
   "metadata": {},
   "source": [
    "### 기본 매개변수는 다음과 같은 장점을 제공합니다:\n",
    "\n",
    "- 매개변수 생략 가능: 필요한 경우에만 값을 전달하고, 필요하지 않은 경우 기본값을 사용할 수 있습니다.\n",
    "\n",
    "- 매개변수 기본값 변경: 함수를 정의할 때 기본값을 설정하면 해당 함수를 사용하는 곳에서 매개변수의 기본값을 수정하지 않는 한 항상 동일한 기본값을 사용합니다.\n",
    "\n",
    "- 오버로드 감소: 함수 오버로드를 줄이고 더 간결한 코드를 작성할 수 있습니다."
   ]
  },
  {
   "cell_type": "code",
   "execution_count": null,
   "id": "42cb33ea-6ed8-457c-b0a9-3537dcfa57a2",
   "metadata": {},
   "outputs": [],
   "source": []
  },
  {
   "cell_type": "code",
   "execution_count": 1,
   "id": "782e47f3-61b0-40c8-8399-4489bf23eb40",
   "metadata": {},
   "outputs": [
    {
     "name": "stdout",
     "output_type": "stream",
     "text": [
      "Hello, Guest!\n",
      "Hello, Alice!\n"
     ]
    },
    {
     "data": {
      "text/plain": [
       "undefined"
      ]
     },
     "execution_count": 1,
     "metadata": {},
     "output_type": "execute_result"
    }
   ],
   "source": [
    "function greet(name: string = \"Guest\") {\n",
    "    console.log(`Hello, ${name}!`);\n",
    "}\n",
    "\n",
    "greet();          // 출력: \"Hello, Guest!\" (기본값 적용)\n",
    "greet(\"Alice\");   // 출력: \"Hello, Alice!\" (매개변수 값 사용)\n"
   ]
  },
  {
   "cell_type": "code",
   "execution_count": null,
   "id": "32f2dafc-8a28-4548-b5f9-2012849d0709",
   "metadata": {},
   "outputs": [],
   "source": []
  },
  {
   "cell_type": "markdown",
   "id": "49e6c01b-3341-4de2-9921-fcf7ffe65726",
   "metadata": {},
   "source": [
    "## 3-6 나머지 매개변수 \n",
    "\n",
    "- \"나머지 매개변수(Rest Parameters)\"는 함수에 임의의 수의 인수를 전달할 수 있는 기능을 제공합니다.\n",
    "- 이를 통해 가변 길이의 매개변수 목록을 다룰 수 있습니다.\n",
    "- 나머지 매개변수는 함수의 매개변수 이름 앞에 세 개의 점(...)을 붙여서 정의하며, 이것은 나머지 인수들을 배열로 수집합니다. "
   ]
  },
  {
   "cell_type": "markdown",
   "id": "a1b37e2e-c9ff-4538-be80-97ad94c200f3",
   "metadata": {},
   "source": [
    "### 나머지 매개변수의 주요 특징:\n",
    "\n",
    "- 가변 길이 인수: 함수를 호출할 때 몇 개의 인수를 전달해도 동작합니다. 인수 개수에 제한이 없으므로 가변 길이의 인수 목록을 처리할 수 있습니다.\n",
    "\n",
    "- 배열로 수집: 나머지 매개변수는 배열로 수집되기 때문에 배열 관련 메서드 및 기능을 활용하여 처리할 수 있습니다.\n",
    "\n",
    "- 일반 매개변수와 함께 사용 가능: 일반 매개변수와 나머지 매개변수를 함께 사용할 수 있으며, 일반 매개변수가 먼저 나오고 나머지 매개변수가 나중에 와야 합니다."
   ]
  },
  {
   "cell_type": "code",
   "execution_count": 3,
   "id": "cdcd9bb5-43e9-4bb4-9b77-e81afd2fab73",
   "metadata": {},
   "outputs": [
    {
     "data": {
      "text/plain": [
       "undefined"
      ]
     },
     "execution_count": 3,
     "metadata": {},
     "output_type": "execute_result"
    }
   ],
   "source": [
    "function sum(...numbers: number[]) {\n",
    "    let total = 0;\n",
    "    for (const num of numbers) {\n",
    "        total += num;\n",
    "    }\n",
    "    return total;\n",
    "}\n",
    "\n",
    "const result1 = sum(1, 2, 3);         // 6\n",
    "const result2 = sum(10, 20, 30, 40); // 100\n"
   ]
  },
  {
   "cell_type": "code",
   "execution_count": null,
   "id": "fb0d2dcc-1257-4078-bfd2-b09461e2d0fe",
   "metadata": {},
   "outputs": [],
   "source": []
  }
 ],
 "metadata": {
  "kernelspec": {
   "display_name": "Typescript 4.9",
   "language": "typescript",
   "name": "typescript"
  },
  "language_info": {
   "file_extension": ".ts",
   "mimetype": "application/x-typescript",
   "name": "typescript",
   "version": "4.9.5"
  }
 },
 "nbformat": 4,
 "nbformat_minor": 5
}
