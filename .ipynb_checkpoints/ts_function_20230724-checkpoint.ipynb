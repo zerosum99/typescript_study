{
 "cells": [
  {
   "cell_type": "code",
   "execution_count": null,
   "id": "8f4bc9f0-9ad0-480a-9f02-2a7766d613d9",
   "metadata": {},
   "outputs": [],
   "source": []
  },
  {
   "cell_type": "markdown",
   "id": "81a4a502-3f32-47be-97d7-c7d357a9d26a",
   "metadata": {},
   "source": [
    "##  함수 정의하기 "
   ]
  },
  {
   "cell_type": "code",
   "execution_count": 3,
   "id": "3b78c51a-d2a6-42d4-abaf-ba458c64238c",
   "metadata": {},
   "outputs": [
    {
     "data": {
      "text/html": [
       "<div style='background:#ffecb3;padding:1em;border-left:2px solid #ff6d00'><b>Configuration is not found!</b> Default configuration will be used: <pre>{\"module\":1,\"target\":1,\"moduleResolution\":2,\"esModuleInterop\":true}</pre></div>"
      ]
     },
     "execution_count": 3,
     "metadata": {},
     "output_type": "execute_result"
    }
   ],
   "source": [
    "function add(x:number, y:number) : number {\n",
    "    return x+y;\n",
    "} "
   ]
  },
  {
   "cell_type": "code",
   "execution_count": 4,
   "id": "94a071f6-15e1-4768-b2f0-4d0b91da0e92",
   "metadata": {},
   "outputs": [
    {
     "data": {
      "text/plain": [
       "400"
      ]
     },
     "execution_count": 4,
     "metadata": {},
     "output_type": "execute_result"
    }
   ],
   "source": [
    "add(100,300)"
   ]
  },
  {
   "cell_type": "code",
   "execution_count": null,
   "id": "a6e661ce-ded4-4ca4-a82f-e32a38bd5bc1",
   "metadata": {},
   "outputs": [],
   "source": []
  }
 ],
 "metadata": {
  "kernelspec": {
   "display_name": "Typescript 4.9",
   "language": "typescript",
   "name": "typescript"
  },
  "language_info": {
   "file_extension": ".ts",
   "mimetype": "application/x-typescript",
   "name": "typescript",
   "version": "4.9.5"
  }
 },
 "nbformat": 4,
 "nbformat_minor": 5
}
