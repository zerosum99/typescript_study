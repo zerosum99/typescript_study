{
 "cells": [
  {
   "cell_type": "code",
   "execution_count": null,
   "id": "7e2bf99d-8d80-49a3-aff6-ef97be8e5300",
   "metadata": {},
   "outputs": [],
   "source": []
  },
  {
   "cell_type": "markdown",
   "id": "c7de2049-6235-4613-a4e4-bf5757879235",
   "metadata": {},
   "source": [
    "# 제너릭 클래스(Generic Class)는\n",
    "    \n",
    "- TypeScript에서 클래스를 정의할 때 클래스의 멤버인 변수, 메서드, 생성자 등을 여러 종류의 데이터 타입에 대해 일반화된 코드로 작성할 수 있도록 해주는 개념입니다. \n",
    "- 제너릭 클래스를 사용하면 클래스의 인스턴스를 생성할 때에도 다양한 데이터 타입을 지원할 수 있습니다.\n",
    "\n",
    "- 제너릭 클래스를 정의할 때는 클래스 이름 뒤에 <T>와 같은 형태로 제너릭 타입 변수를 사용합니다. \n",
    "- 이제 해당 클래스의 멤버에서 제너릭 타입 변수 T를 사용하여 일반화된 코드를 작성할 수 있습니다."
   ]
  },
  {
   "cell_type": "code",
   "execution_count": null,
   "id": "533c2ef0-74b9-4807-bfb6-04c93a5a5c4f",
   "metadata": {},
   "outputs": [],
   "source": []
  },
  {
   "cell_type": "code",
   "execution_count": 1,
   "id": "f5f0ce56-6513-4ef8-b5ed-f4578d25a9a4",
   "metadata": {},
   "outputs": [
    {
     "name": "stdout",
     "output_type": "stream",
     "text": [
      "42\n",
      "Hello\n"
     ]
    },
    {
     "data": {
      "text/plain": [
       "undefined"
      ]
     },
     "execution_count": 1,
     "metadata": {},
     "output_type": "execute_result"
    }
   ],
   "source": [
    "class Box<T> {\n",
    "    value: T;\n",
    "\n",
    "    constructor(value: T) {\n",
    "        this.value = value;\n",
    "    }\n",
    "\n",
    "    getValue(): T {\n",
    "        return this.value;\n",
    "    }\n",
    "}\n",
    "\n",
    "const numberBox = new Box<number>(42);\n",
    "console.log(numberBox.getValue()); // 42\n",
    "\n",
    "const stringBox = new Box<string>(\"Hello\");\n",
    "console.log(stringBox.getValue()); // \"Hello\"\n"
   ]
  },
  {
   "cell_type": "code",
   "execution_count": null,
   "id": "b46de4e9-9bb1-4060-b295-802c92e1fe2a",
   "metadata": {},
   "outputs": [],
   "source": []
  },
  {
   "cell_type": "markdown",
   "id": "78951c3e-0bd0-4ac7-8d0e-12bc178c0782",
   "metadata": {},
   "source": [
    "## 제너릭 클래스 상속 "
   ]
  },
  {
   "cell_type": "code",
   "execution_count": 3,
   "id": "90839a93-60c9-462e-aeb9-5eb35dd5445e",
   "metadata": {},
   "outputs": [
    {
     "name": "stdout",
     "output_type": "stream",
     "text": [
      "5\n",
      "6\n",
      "Hello\n",
      "Hello, World!\n"
     ]
    },
    {
     "data": {
      "text/plain": [
       "undefined"
      ]
     },
     "execution_count": 3,
     "metadata": {},
     "output_type": "execute_result"
    }
   ],
   "source": [
    "class NumberBox extends Box<number> {\n",
    "    constructor(value: number) {\n",
    "        super(value);\n",
    "    }\n",
    "\n",
    "    increment() {\n",
    "        this.value++;\n",
    "    }\n",
    "}\n",
    "\n",
    "class StringBox extends Box<string> {\n",
    "    constructor(value: string) {\n",
    "        super(value);\n",
    "    }\n",
    "\n",
    "    appendText(text: string) {\n",
    "        this.value += text;\n",
    "    }\n",
    "}\n",
    "\n",
    "const numberBox1 = new NumberBox(5);\n",
    "console.log(numberBox1.value); // 5\n",
    "numberBox1.increment();\n",
    "console.log(numberBox1.value); // 6\n",
    "\n",
    "const stringBox1 = new StringBox(\"Hello\");\n",
    "console.log(stringBox1.value); // \"Hello\"\n",
    "stringBox1.appendText(\", World!\");\n",
    "console.log(stringBox1.value); // \"Hello, World!\"\n"
   ]
  },
  {
   "cell_type": "code",
   "execution_count": null,
   "id": "84691d9f-766b-4e05-98eb-fb598856263a",
   "metadata": {},
   "outputs": [],
   "source": []
  }
 ],
 "metadata": {
  "kernelspec": {
   "display_name": "Typescript 4.9",
   "language": "typescript",
   "name": "typescript"
  },
  "language_info": {
   "file_extension": ".ts",
   "mimetype": "application/x-typescript",
   "name": "typescript",
   "version": "4.9.5"
  }
 },
 "nbformat": 4,
 "nbformat_minor": 5
}
