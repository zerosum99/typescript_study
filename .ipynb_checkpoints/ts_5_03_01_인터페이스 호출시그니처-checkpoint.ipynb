{
 "cells": [
  {
   "cell_type": "code",
   "execution_count": null,
   "id": "398d6a99-33d0-4165-8668-cf105094f5f2",
   "metadata": {},
   "outputs": [],
   "source": []
  },
  {
   "cell_type": "markdown",
   "id": "ee57d121-ca34-4c16-baea-0340b6f7fb42",
   "metadata": {},
   "source": [
    "## 인터페이스 내의 호출 시그니처 정의 "
   ]
  },
  {
   "cell_type": "code",
   "execution_count": 1,
   "id": "aea3efd1-b06e-4b54-bb55-57389e7d6ca4",
   "metadata": {},
   "outputs": [
    {
     "name": "stdout",
     "output_type": "stream",
     "text": [
      "8\n",
      "6\n"
     ]
    },
    {
     "data": {
      "text/plain": [
       "undefined"
      ]
     },
     "execution_count": 1,
     "metadata": {},
     "output_type": "execute_result"
    }
   ],
   "source": [
    "interface MathOperation {\n",
    "    (x: number, y: number): number;\n",
    "}\n",
    "\n",
    "const add: MathOperation = (a, b) => a + b;\n",
    "const subtract: MathOperation = (a, b) => a - b;\n",
    "\n",
    "console.log(add(5, 3));      // 8\n",
    "console.log(subtract(10, 4)); // 6\n"
   ]
  },
  {
   "cell_type": "code",
   "execution_count": null,
   "id": "9adefa0c-1deb-43af-aa41-043d29f50aef",
   "metadata": {},
   "outputs": [],
   "source": []
  },
  {
   "cell_type": "code",
   "execution_count": null,
   "id": "2b6ebba1-76c2-4693-8d13-ceab1890d0cf",
   "metadata": {},
   "outputs": [],
   "source": []
  }
 ],
 "metadata": {
  "kernelspec": {
   "display_name": "Typescript 4.9",
   "language": "typescript",
   "name": "typescript"
  },
  "language_info": {
   "file_extension": ".ts",
   "mimetype": "application/x-typescript",
   "name": "typescript",
   "version": "4.9.5"
  }
 },
 "nbformat": 4,
 "nbformat_minor": 5
}
