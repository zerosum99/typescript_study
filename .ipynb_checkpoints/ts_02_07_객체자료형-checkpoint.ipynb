{
 "cells": [
  {
   "cell_type": "code",
   "execution_count": null,
   "id": "acf74bbc-183a-423c-9109-acdeecb78f7f",
   "metadata": {},
   "outputs": [],
   "source": []
  },
  {
   "cell_type": "markdown",
   "id": "fb7edd5c-2f4e-4687-b879-20f4e8b76aef",
   "metadata": {},
   "source": [
    "##  4. 객체 "
   ]
  },
  {
   "cell_type": "markdown",
   "id": "ab6f3c7f-bfb4-4469-954e-54f0ed53bc61",
   "metadata": {},
   "source": [
    "##  4-1 타입지정 "
   ]
  },
  {
   "cell_type": "code",
   "execution_count": 15,
   "id": "95f57fa3-4ca9-40a0-8843-f6a25b4d5e29",
   "metadata": {},
   "outputs": [
    {
     "data": {
      "text/plain": [
       "undefined"
      ]
     },
     "execution_count": 15,
     "metadata": {},
     "output_type": "execute_result"
    }
   ],
   "source": [
    "let user :object = { name:\"슈퍼맨\", age:33 };"
   ]
  },
  {
   "cell_type": "code",
   "execution_count": 16,
   "id": "a159eafb-a688-41fd-bc3b-0d859b848da8",
   "metadata": {},
   "outputs": [
    {
     "data": {
      "text/plain": [
       "'object'"
      ]
     },
     "execution_count": 16,
     "metadata": {},
     "output_type": "execute_result"
    }
   ],
   "source": [
    "typeof user"
   ]
  },
  {
   "cell_type": "markdown",
   "id": "46c2b149-89fe-420f-b14e-4fed30b6f551",
   "metadata": {},
   "source": [
    "## 4-2 타입 추론 "
   ]
  },
  {
   "cell_type": "code",
   "execution_count": 17,
   "id": "af7fd27e-13a4-4cc0-aef5-ea83f4cca97e",
   "metadata": {},
   "outputs": [
    {
     "data": {
      "text/plain": [
       "undefined"
      ]
     },
     "execution_count": 17,
     "metadata": {},
     "output_type": "execute_result"
    }
   ],
   "source": [
    "let user1  = { name:\"슈퍼맨\", age:33 };"
   ]
  },
  {
   "cell_type": "code",
   "execution_count": 18,
   "id": "42ddf660-f200-472c-bf64-58e46552abbc",
   "metadata": {},
   "outputs": [
    {
     "data": {
      "text/plain": [
       "'object'"
      ]
     },
     "execution_count": 18,
     "metadata": {},
     "output_type": "execute_result"
    }
   ],
   "source": [
    "typeof user1"
   ]
  },
  {
   "cell_type": "code",
   "execution_count": null,
   "id": "0b954a50-5e34-4358-a9d5-c71b6d630a6d",
   "metadata": {},
   "outputs": [],
   "source": []
  },
  {
   "cell_type": "code",
   "execution_count": null,
   "id": "a2ae37c9-eac9-4192-a3e1-9693c4afb5db",
   "metadata": {},
   "outputs": [],
   "source": []
  },
  {
   "cell_type": "code",
   "execution_count": null,
   "id": "1103ff69-87ee-473e-a4eb-68cb5ccbd168",
   "metadata": {},
   "outputs": [],
   "source": []
  },
  {
   "cell_type": "code",
   "execution_count": null,
   "id": "5ee86ce0-cc78-4fe5-80da-eeafb56fc971",
   "metadata": {},
   "outputs": [],
   "source": []
  },
  {
   "cell_type": "code",
   "execution_count": null,
   "id": "aaaa0536-16f5-466e-9305-da73c87092a2",
   "metadata": {},
   "outputs": [],
   "source": []
  }
 ],
 "metadata": {
  "kernelspec": {
   "display_name": "Typescript 4.9",
   "language": "typescript",
   "name": "typescript"
  },
  "language_info": {
   "file_extension": ".ts",
   "mimetype": "application/x-typescript",
   "name": "typescript",
   "version": "4.9.5"
  }
 },
 "nbformat": 4,
 "nbformat_minor": 5
}
