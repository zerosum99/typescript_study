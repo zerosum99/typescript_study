{
 "cells": [
  {
   "cell_type": "code",
   "execution_count": null,
   "id": "8f4bc9f0-9ad0-480a-9f02-2a7766d613d9",
   "metadata": {
    "editable": true,
    "slideshow": {
     "slide_type": ""
    },
    "tags": []
   },
   "outputs": [],
   "source": []
  },
  {
   "cell_type": "markdown",
   "id": "02040118-92c7-42fb-93cd-ed13e19c6f74",
   "metadata": {},
   "source": [
    "## 1. 함수의 결과에 대한 반환 처리"
   ]
  },
  {
   "cell_type": "code",
   "execution_count": null,
   "id": "669a433a-69ec-4160-9654-6e91a8fc799c",
   "metadata": {},
   "outputs": [],
   "source": []
  },
  {
   "cell_type": "markdown",
   "id": "85c7fa21-c498-4877-8caf-981598a38311",
   "metadata": {},
   "source": [
    "## 1-1 명시적 반환처리 "
   ]
  },
  {
   "cell_type": "markdown",
   "id": "f7548879-06a6-4b90-a5f7-8eaf05f7d868",
   "metadata": {},
   "source": [
    "### 자료형을 확정하기 "
   ]
  },
  {
   "cell_type": "code",
   "execution_count": 3,
   "id": "98e34e65-13b9-43d0-bb55-ae4aabbe573d",
   "metadata": {},
   "outputs": [
    {
     "data": {
      "text/plain": [
       "undefined"
      ]
     },
     "execution_count": 3,
     "metadata": {},
     "output_type": "execute_result"
    }
   ],
   "source": [
    "function add(a: number, b: number): number {\n",
    "    return a + b;\n",
    "}\n"
   ]
  },
  {
   "cell_type": "markdown",
   "id": "f84ec330-97ef-45f5-976d-2215dd32cb93",
   "metadata": {},
   "source": [
    "### 자료형을 미확정하기 "
   ]
  },
  {
   "cell_type": "code",
   "execution_count": 4,
   "id": "52f7a84d-580f-44a2-801e-8ad156d68c29",
   "metadata": {},
   "outputs": [
    {
     "data": {
      "text/plain": [
       "undefined"
      ]
     },
     "execution_count": 4,
     "metadata": {},
     "output_type": "execute_result"
    }
   ],
   "source": [
    "function getRandomValue(): any {\n",
    "    return Math.random() < 0.5 ? \"Hello\" : 42;\n",
    "}\n"
   ]
  },
  {
   "cell_type": "code",
   "execution_count": null,
   "id": "f9381ca3-a97b-4808-8053-8777e0865424",
   "metadata": {},
   "outputs": [],
   "source": []
  },
  {
   "cell_type": "code",
   "execution_count": null,
   "id": "65ce8ba2-dd04-464f-9010-af78eaf53d22",
   "metadata": {},
   "outputs": [],
   "source": []
  },
  {
   "cell_type": "markdown",
   "id": "32cc569e-5813-4e49-aadc-926d14891223",
   "metadata": {},
   "source": [
    "### 여러 자료형 반환 => 유니온 지정 "
   ]
  },
  {
   "cell_type": "code",
   "execution_count": 5,
   "id": "352d3aec-9edf-4c6f-a303-5eff9b77ff47",
   "metadata": {},
   "outputs": [
    {
     "data": {
      "text/plain": [
       "undefined"
      ]
     },
     "execution_count": 5,
     "metadata": {},
     "output_type": "execute_result"
    }
   ],
   "source": [
    "function getStringOrNumber(flag: boolean): string | number {\n",
    "    return flag ? \"Hello\" : 42;\n",
    "}\n"
   ]
  },
  {
   "cell_type": "code",
   "execution_count": null,
   "id": "4a35a33a-1bff-41e4-9b9d-3db282b2b073",
   "metadata": {},
   "outputs": [],
   "source": []
  },
  {
   "cell_type": "code",
   "execution_count": null,
   "id": "a09c0273-c575-43f6-8691-6c6e188e2da5",
   "metadata": {},
   "outputs": [],
   "source": []
  },
  {
   "cell_type": "markdown",
   "id": "73a28d3b-5971-4d59-aa41-c04790a19373",
   "metadata": {},
   "source": [
    "## 2. 반환타입이 없을 경우 처리 "
   ]
  },
  {
   "cell_type": "markdown",
   "id": "3e93d791-c359-4790-87fb-9b4681d61f10",
   "metadata": {},
   "source": [
    "## 2-1 void 반환자료 \n",
    "\n",
    "- void는 함수가 어떤 값도 반환하지 않음, 주로 함수가 어떤 부수 효과(e.g., 콘솔 출력, 파일 저장, 데이터베이스 업데이트)를 수행하지만 반환 값이 없을 때 사용"
   ]
  },
  {
   "cell_type": "code",
   "execution_count": 1,
   "id": "a03142b0-c1a5-470b-b082-dfacb3a48783",
   "metadata": {},
   "outputs": [
    {
     "data": {
      "text/plain": [
       "'use strict'"
      ]
     },
     "execution_count": 1,
     "metadata": {},
     "output_type": "execute_result"
    }
   ],
   "source": [
    "function logMessage(message: string): void {\n",
    "    console.log(message);\n",
    "}\n",
    "\n",
    "function doSomething(): void {\n",
    "    // 어떤 작업을 수행하고 반환 값이 없음\n",
    "}\n"
   ]
  },
  {
   "cell_type": "markdown",
   "id": "99934da3-0211-4999-a369-3db9b1968936",
   "metadata": {},
   "source": [
    "## 2-2 never 반환자료형\n",
    "\n",
    "- never는 일반적으로 예상치 못한 오류 또는 비정상적인 상황에서 함수가 실행을 중단하거나 프로그램이 종료될 때 사용"
   ]
  },
  {
   "cell_type": "code",
   "execution_count": 2,
   "id": "87856b8f-dce7-487a-b2a9-69ae64e55081",
   "metadata": {},
   "outputs": [
    {
     "data": {
      "text/plain": [
       "undefined"
      ]
     },
     "execution_count": 2,
     "metadata": {},
     "output_type": "execute_result"
    }
   ],
   "source": [
    "function throwError(message: string): never {\n",
    "    throw new Error(message);\n",
    "}\n",
    "\n",
    "function infiniteLoop(): never {\n",
    "    while (true) {\n",
    "        // 무한 루프\n",
    "    }\n",
    "}\n"
   ]
  },
  {
   "cell_type": "code",
   "execution_count": null,
   "id": "49f7c938-7cfc-403b-aec5-60e9e8a9ee86",
   "metadata": {},
   "outputs": [],
   "source": []
  }
 ],
 "metadata": {
  "kernelspec": {
   "display_name": "Typescript 4.9",
   "language": "typescript",
   "name": "typescript"
  },
  "language_info": {
   "file_extension": ".ts",
   "mimetype": "application/x-typescript",
   "name": "typescript",
   "version": "4.9.5"
  }
 },
 "nbformat": 4,
 "nbformat_minor": 5
}
