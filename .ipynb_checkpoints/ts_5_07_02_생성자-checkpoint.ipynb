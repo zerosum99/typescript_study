{
 "cells": [
  {
   "cell_type": "code",
   "execution_count": null,
   "id": "bf85dbdc-8d29-4d93-a6eb-c5f6d9090daf",
   "metadata": {},
   "outputs": [],
   "source": []
  },
  {
   "cell_type": "markdown",
   "id": "7a1bef4c-147b-4644-8758-2802262b2bef",
   "metadata": {},
   "source": [
    "## 1. 클래스의 생성자(constructor)\n",
    "- 클래스의 인스턴스를 초기화하고 생성할 때 호출되는 특별한 메서드입니다.\n",
    "- 생성자는 클래스 내부에서 constructor 키워드를 사용하여 정의"
   ]
  },
  {
   "cell_type": "markdown",
   "id": "aad51783-16a0-4a08-b293-d8a2fcc096bb",
   "metadata": {},
   "source": [
    "## 1-1 생성자 정의 "
   ]
  },
  {
   "cell_type": "code",
   "execution_count": 2,
   "id": "7c746c8a-7db8-45f1-aab1-5882465f554c",
   "metadata": {},
   "outputs": [
    {
     "data": {
      "text/plain": [
       "'use strict'"
      ]
     },
     "execution_count": 2,
     "metadata": {},
     "output_type": "execute_result"
    }
   ],
   "source": [
    "class Person {\n",
    "    name : string;\n",
    "    age : number;\n",
    "    \n",
    "    constructor(name: string, age: number) {\n",
    "        this.name = name;\n",
    "        this.age = age;\n",
    "    }\n",
    "\n",
    "    sayHello() {\n",
    "        console.log(`Hello, my name is ${this.name} and I am ${this.age} years old.`);\n",
    "    }\n",
    "}\n",
    "\n"
   ]
  },
  {
   "cell_type": "code",
   "execution_count": null,
   "id": "a3a1a71e-15ae-4e63-b287-859e22a927aa",
   "metadata": {},
   "outputs": [],
   "source": []
  },
  {
   "cell_type": "code",
   "execution_count": 3,
   "id": "8601f1c6-0c18-4aa5-9e10-5807d9305a25",
   "metadata": {},
   "outputs": [
    {
     "name": "stdout",
     "output_type": "stream",
     "text": [
      "Hello, my name is Alice and I am 30 years old.\n"
     ]
    },
    {
     "data": {
      "text/plain": [
       "undefined"
      ]
     },
     "execution_count": 3,
     "metadata": {},
     "output_type": "execute_result"
    }
   ],
   "source": [
    "const person1 = new Person(\"Alice\", 30);\n",
    "person1.sayHello(); // 출력: Hello, my name is Alice and I am 30 years old."
   ]
  },
  {
   "cell_type": "code",
   "execution_count": null,
   "id": "76a8c5bc-0f3d-41db-b05a-6ff2845121ff",
   "metadata": {},
   "outputs": [],
   "source": []
  },
  {
   "cell_type": "markdown",
   "id": "2a8c66b6-ec57-493f-a156-41c38a04ddd1",
   "metadata": {},
   "source": [
    "## 1-2 속성 선언없이 생성자 만들기 \n",
    "\n",
    "- 생성자에 접근제어를 지정해서 처리 하기 "
   ]
  },
  {
   "cell_type": "code",
   "execution_count": 8,
   "id": "e05f18cb-9d6d-4fd6-aece-2572b9b18604",
   "metadata": {},
   "outputs": [
    {
     "data": {
      "text/plain": [
       "undefined"
      ]
     },
     "execution_count": 8,
     "metadata": {},
     "output_type": "execute_result"
    }
   ],
   "source": [
    "class Animal1 { \n",
    "    constructor(public name: string) {}\n",
    "\n",
    "    makeSound() {\n",
    "        console.log(\"Some generic sound\");\n",
    "    }\n",
    "}"
   ]
  },
  {
   "cell_type": "code",
   "execution_count": 11,
   "id": "98b0c163-90ca-4009-a5c6-87c571c55eb5",
   "metadata": {},
   "outputs": [
    {
     "name": "stdout",
     "output_type": "stream",
     "text": [
      "Buddy\n"
     ]
    },
    {
     "data": {
      "text/plain": [
       "undefined"
      ]
     },
     "execution_count": 11,
     "metadata": {},
     "output_type": "execute_result"
    }
   ],
   "source": [
    "const myani = new Animal1(\"Buddy\");\n",
    "console.log(myani.name);   // 출력: Buddy"
   ]
  },
  {
   "cell_type": "code",
   "execution_count": null,
   "id": "8f9e1351-3903-4bf6-aeed-9298bcad6f2b",
   "metadata": {},
   "outputs": [],
   "source": []
  },
  {
   "cell_type": "markdown",
   "id": "34bd4bc2-cab5-4977-be14-ff694a071e17",
   "metadata": {},
   "source": [
    "## 1-3 암묵적 생성자 호출 처리  "
   ]
  },
  {
   "cell_type": "code",
   "execution_count": null,
   "id": "5b65b1d1-291e-43c5-b6e2-cfb3fe0f812b",
   "metadata": {},
   "outputs": [],
   "source": []
  },
  {
   "cell_type": "code",
   "execution_count": 12,
   "id": "46055769-22bd-4b94-8147-5ca6f2c2f3a5",
   "metadata": {},
   "outputs": [
    {
     "data": {
      "text/plain": [
       "undefined"
      ]
     },
     "execution_count": 12,
     "metadata": {},
     "output_type": "execute_result"
    }
   ],
   "source": [
    "class Animal13 { \n",
    "    constructor(public name: string) {}\n",
    "\n",
    "    makeSound() {\n",
    "        console.log(\"Some generic sound\");\n",
    "    }\n",
    "}\n",
    "\n",
    "class Dog13 extends Animal13 {\n",
    "    \n",
    "\n",
    "    makeSound() {\n",
    "        console.log(\"Woof woof!\");\n",
    "    }\n",
    "}"
   ]
  },
  {
   "cell_type": "code",
   "execution_count": 13,
   "id": "54dfc078-47d5-482c-ada8-c64c347afd8d",
   "metadata": {},
   "outputs": [
    {
     "name": "stdout",
     "output_type": "stream",
     "text": [
      "Buddy\n",
      "Woof woof!\n"
     ]
    },
    {
     "data": {
      "text/plain": [
       "undefined"
      ]
     },
     "execution_count": 13,
     "metadata": {},
     "output_type": "execute_result"
    }
   ],
   "source": [
    "const myDog13 = new Dog13(\"Buddy\");\n",
    "console.log(myDog13.name);   // 출력: Buddy\n",
    "myDog13.makeSound();         // 출력: Woof woof!"
   ]
  },
  {
   "cell_type": "code",
   "execution_count": null,
   "id": "24523349-96c5-4e4d-a617-1f0b76fe5208",
   "metadata": {},
   "outputs": [],
   "source": []
  },
  {
   "cell_type": "code",
   "execution_count": null,
   "id": "3aef349e-8fa0-4c5a-97b9-9088f669707b",
   "metadata": {},
   "outputs": [],
   "source": []
  },
  {
   "cell_type": "code",
   "execution_count": null,
   "id": "af621545-8621-4dbe-bee4-dcf607606cd8",
   "metadata": {},
   "outputs": [],
   "source": []
  },
  {
   "cell_type": "markdown",
   "id": "f2f819a9-40f7-4242-b248-820874c15daf",
   "metadata": {},
   "source": [
    "## 1-4 재정의된 생성자 처리 \n",
    "\n",
    "-  클래스를 상속 받고 하위 클래스에 생성자를 만들면 항상 상위 생성자를 호출해야 함 "
   ]
  },
  {
   "cell_type": "code",
   "execution_count": 7,
   "id": "5054bfed-8f82-4d0a-8254-bb0215ba5d8c",
   "metadata": {},
   "outputs": [
    {
     "data": {
      "text/plain": [
       "undefined"
      ]
     },
     "execution_count": 7,
     "metadata": {},
     "output_type": "execute_result"
    }
   ],
   "source": [
    "class Animal { \n",
    "    constructor(public name: string) {}\n",
    "\n",
    "    makeSound() {\n",
    "        console.log(\"Some generic sound\");\n",
    "    }\n",
    "}\n",
    "\n",
    "class Dog extends Animal {\n",
    "    constructor(name: string, public breed: string) {\n",
    "        super(name); // 부모 클래스의 생성자 호출\n",
    "    }\n",
    "\n",
    "    makeSound() {\n",
    "        console.log(\"Woof woof!\");\n",
    "    }\n",
    "}\n",
    "\n"
   ]
  },
  {
   "cell_type": "code",
   "execution_count": null,
   "id": "40019675-f561-45ac-9a9a-881566127ca8",
   "metadata": {},
   "outputs": [],
   "source": []
  },
  {
   "cell_type": "code",
   "execution_count": null,
   "id": "171a0c3a-cb33-42e2-a135-2fd44e9c150f",
   "metadata": {},
   "outputs": [],
   "source": [
    "const myDog = new Dog(\"Buddy\", \"Golden Retriever\");\n",
    "console.log(myDog.name);   // 출력: Buddy\n",
    "console.log(myDog.breed);  // 출력: Golden Retriever\n",
    "myDog.makeSound();         // 출력: Woof woof!"
   ]
  }
 ],
 "metadata": {
  "kernelspec": {
   "display_name": "Typescript 4.9",
   "language": "typescript",
   "name": "typescript"
  },
  "language_info": {
   "file_extension": ".ts",
   "mimetype": "application/x-typescript",
   "name": "typescript",
   "version": "4.9.5"
  }
 },
 "nbformat": 4,
 "nbformat_minor": 5
}
