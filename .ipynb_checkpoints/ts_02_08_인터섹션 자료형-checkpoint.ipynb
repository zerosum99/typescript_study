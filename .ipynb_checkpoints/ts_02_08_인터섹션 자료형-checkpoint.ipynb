{
 "cells": [
  {
   "cell_type": "code",
   "execution_count": null,
   "id": "f2b41195-e7fe-4828-a2df-1ebe9b399cd6",
   "metadata": {},
   "outputs": [],
   "source": []
  },
  {
   "cell_type": "code",
   "execution_count": null,
   "id": "4a16c1d5-cc53-435d-8431-1b6c1bf28b94",
   "metadata": {},
   "outputs": [],
   "source": []
  },
  {
   "cell_type": "markdown",
   "id": "c3bca87a-9d0d-4314-a0d1-32d43b8d2e90",
   "metadata": {},
   "source": [
    "## 1. 인터섹션 자료형 처리 "
   ]
  },
  {
   "cell_type": "markdown",
   "id": "2b46a885-11d1-4a7f-8ec8-72b9d5ce41c7",
   "metadata": {},
   "source": [
    "## 1-1 인터섹션(Intersection) 타입\n",
    "- 타입 별칭을 결합하여 두 개 이상의 타입을 조합하는 기능을 제공하는 타입스크립트의 특징입니다. \n",
    "- 인터섹션은 & 기호를 사용하여 타입을 결합하며, 결합된 타입은 모든 타입의 프로퍼티와 멤버를 포함하게 됩니다."
   ]
  },
  {
   "cell_type": "markdown",
   "id": "3e6f7e35-dec4-4da4-be7f-c2ccb7d2cd14",
   "metadata": {},
   "source": [
    "### Employee 타입 \n",
    "    \n",
    "- Person과 Address 타입을 인터섹션으로 결합한 타입입니다. \n",
    "    \n",
    "- 이로 인해 Employee는 Person과 Address의 모든 프로퍼티를 가지고 있습니다."
   ]
  },
  {
   "cell_type": "code",
   "execution_count": 1,
   "id": "23744e38-6385-4a43-b99c-5fe267157350",
   "metadata": {},
   "outputs": [
    {
     "data": {
      "text/plain": [
       "'use strict'"
      ]
     },
     "execution_count": 1,
     "metadata": {},
     "output_type": "execute_result"
    }
   ],
   "source": [
    "type Person = {\n",
    "    name: string;\n",
    "    age: number;\n",
    "};\n",
    "\n",
    "type Address = {\n",
    "    street: string;\n",
    "    city: string;\n",
    "};\n",
    "\n",
    "type Employee = Person & Address;\n",
    "\n",
    "const employee: Employee = {\n",
    "    name: \"Alice\",\n",
    "    age: 30,\n",
    "    street: \"123 Main St\",\n",
    "    city: \"Wonderland\"\n",
    "};\n"
   ]
  },
  {
   "cell_type": "code",
   "execution_count": null,
   "id": "02f0f48b-0a4b-4151-8bc1-e17f45ebcbef",
   "metadata": {},
   "outputs": [],
   "source": []
  },
  {
   "cell_type": "code",
   "execution_count": null,
   "id": "0f03b029-5697-4ead-b7df-09bb1d0c8a06",
   "metadata": {},
   "outputs": [],
   "source": []
  }
 ],
 "metadata": {
  "kernelspec": {
   "display_name": "Typescript 4.9",
   "language": "typescript",
   "name": "typescript"
  },
  "language_info": {
   "file_extension": ".ts",
   "mimetype": "application/x-typescript",
   "name": "typescript",
   "version": "4.9.5"
  }
 },
 "nbformat": 4,
 "nbformat_minor": 5
}
