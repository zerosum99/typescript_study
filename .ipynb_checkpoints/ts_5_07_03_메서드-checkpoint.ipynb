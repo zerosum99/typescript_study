{
 "cells": [
  {
   "cell_type": "code",
   "execution_count": null,
   "id": "bf85dbdc-8d29-4d93-a6eb-c5f6d9090daf",
   "metadata": {},
   "outputs": [],
   "source": []
  },
  {
   "cell_type": "markdown",
   "id": "a23ab0f2-9025-4977-874a-7ca947826450",
   "metadata": {},
   "source": [
    "## 1.클래스 정의 \n",
    "\n",
    "- ClassName: 클래스의 이름을 정의합니다.\n",
    "- property1, property2: 클래스의 프로퍼티를 정의합니다. 클래스의 상태를 나타내는 변수입니다.\n",
    "- 생성자의 매개변수의 타입 Type1, Type2, Type3: 프로퍼티와 매개변수의 타입을 지정합니다.\n",
    "- constructor(param1: Type1, param2: Type2): 클래스의 생성자 메서드를 정의합니다. 객체를 생성할 때 초기화할 값들을 받아 초기화합니다.\n",
    "- method1(), method2(param: Type3): 클래스의 메서드를 정의합니다. 객체가 가지는 동작을 정의합니다."
   ]
  },
  {
   "cell_type": "markdown",
   "id": "f201d827-f86e-4147-be12-273b2453c6f3",
   "metadata": {},
   "source": [
    "## 1-1 클래스의 속성 정의\n",
    "\n",
    "-  인터페이스와 동일하게 속성을 먼저 정의하고 이를 생성자에서 초기화 처리한다. "
   ]
  },
  {
   "cell_type": "markdown",
   "id": "6680317d-20dc-494f-b19e-859b1ad85ca4",
   "metadata": {},
   "source": [
    "### 클래스를 정의하고 초기화하지 않으면 예외를 발생 "
   ]
  },
  {
   "cell_type": "code",
   "execution_count": 1,
   "id": "ac890a7c-024c-4c30-a88b-f690109ae9d4",
   "metadata": {},
   "outputs": [
    {
     "ename": "Error",
     "evalue": "Line 2, Character 5\n    name: string;\n____^\nTS2564: Property 'name' has no initializer and is not definitely assigned in the constructor.\n\nLine 3, Character 5\n    age: number;\n____^\nTS2564: Property 'age' has no initializer and is not definitely assigned in the constructor.",
     "execution_count": 1,
     "output_type": "error",
     "traceback": [
      "Error: Line 2, Character 5",
      "    name: string;",
      "____^",
      "TS2564: Property 'name' has no initializer and is not definitely assigned in the constructor.",
      "",
      "Line 3, Character 5",
      "    age: number;",
      "____^",
      "TS2564: Property 'age' has no initializer and is not definitely assigned in the constructor.",
      "    at execTranspile (/usr/local/lib/node_modules/itypescript/lib/kernel.js:229:23)",
      "    at Session.transpiler [as transpile] (/usr/local/lib/node_modules/itypescript/lib/kernel.js:288:35)",
      "    at Session._runNow (/usr/local/lib/node_modules/itypescript/node_modules/nel/lib/nel.js:835:39)",
      "    at Session._run (/usr/local/lib/node_modules/itypescript/node_modules/nel/lib/nel.js:786:14)",
      "    at Session.execute (/usr/local/lib/node_modules/itypescript/node_modules/nel/lib/nel.js:929:10)",
      "    at Kernel.execute_request (/usr/local/lib/node_modules/itypescript/node_modules/jp-kernel/lib/handlers_v5.js:116:18)",
      "    at Kernel.onShellMessage (/usr/local/lib/node_modules/itypescript/node_modules/jp-kernel/lib/jp-kernel.js:285:41)",
      "    at Socket.<anonymous> (/usr/local/lib/node_modules/itypescript/node_modules/jmp/index.js:350:17)",
      "    at Socket.emit (node:events:513:28)",
      "    at Socket._emitMessage (/usr/local/lib/node_modules/itypescript/node_modules/zeromq/lib/index.js:649:15)"
     ]
    }
   ],
   "source": [
    "class Person1 {\n",
    "    name: string;\n",
    "    age: number;\n",
    "}"
   ]
  },
  {
   "cell_type": "code",
   "execution_count": null,
   "id": "884f86da-2f38-4895-9f0f-119a293fb7af",
   "metadata": {},
   "outputs": [],
   "source": []
  },
  {
   "cell_type": "markdown",
   "id": "8ba98baa-d32d-4ccf-b593-e4e1c12ac7ab",
   "metadata": {},
   "source": [
    "### 클래스를 정의하면 생성자에서 반드시 초기화 필요 "
   ]
  },
  {
   "cell_type": "code",
   "execution_count": 2,
   "id": "fbe1b8dc-9af7-4196-b836-2420503a6bff",
   "metadata": {},
   "outputs": [
    {
     "data": {
      "text/plain": [
       "'use strict'"
      ]
     },
     "execution_count": 2,
     "metadata": {},
     "output_type": "execute_result"
    }
   ],
   "source": [
    "class Person {\n",
    "    name: string;\n",
    "    age: number;\n",
    "\n",
    "    constructor(name: string, age: number) {\n",
    "        this.name = name;\n",
    "        this.age = age;\n",
    "    }\n",
    "\n",
    "    introduce() {\n",
    "        console.log(`Hi, I'm ${this.name} and I'm ${this.age} years old.`);\n",
    "    }\n",
    "}\n",
    "\n"
   ]
  },
  {
   "cell_type": "markdown",
   "id": "974a3821-24ba-4f35-bada-43cd8fc81e73",
   "metadata": {},
   "source": [
    "### 객체를 생서하고 출력하기 "
   ]
  },
  {
   "cell_type": "code",
   "execution_count": 3,
   "id": "1bc6c8d1-0579-4bce-8fea-80d7d5c72f88",
   "metadata": {},
   "outputs": [
    {
     "name": "stdout",
     "output_type": "stream",
     "text": [
      "Hi, I'm Alice and I'm 30 years old.\n"
     ]
    },
    {
     "data": {
      "text/plain": [
       "undefined"
      ]
     },
     "execution_count": 3,
     "metadata": {},
     "output_type": "execute_result"
    }
   ],
   "source": [
    "const person1 = new Person(\"Alice\", 30);\n",
    "person1.introduce(); // \"Hi, I'm Alice and I'm 30 years old.\""
   ]
  },
  {
   "cell_type": "markdown",
   "id": "188b7af1-899b-42a3-ad5a-7341e7f809e5",
   "metadata": {},
   "source": [
    "## 1-2 클래스의 메서드 정의하기 "
   ]
  },
  {
   "cell_type": "markdown",
   "id": "ea11598e-0e8b-439c-aff3-9f38002bb763",
   "metadata": {},
   "source": [
    "### 메서드는 모든 객체에 동일하게 처리 "
   ]
  },
  {
   "cell_type": "code",
   "execution_count": 4,
   "id": "4e7e49ab-91ee-4c59-8082-1ebb7e1ef66d",
   "metadata": {},
   "outputs": [
    {
     "data": {
      "text/plain": [
       "undefined"
      ]
     },
     "execution_count": 4,
     "metadata": {},
     "output_type": "execute_result"
    }
   ],
   "source": [
    "class Klass {\n",
    "    getHello() {\n",
    "        console.log(\" 메서드를 호출합니다.\");\n",
    "    }\n",
    "}"
   ]
  },
  {
   "cell_type": "code",
   "execution_count": 5,
   "id": "bcdfd181-8543-477f-9308-d096d5f85710",
   "metadata": {},
   "outputs": [
    {
     "data": {
      "text/plain": [
       "undefined"
      ]
     },
     "execution_count": 5,
     "metadata": {},
     "output_type": "execute_result"
    }
   ],
   "source": [
    "const k1 = new Klass();\n",
    "const k2 = new Klass(); "
   ]
  },
  {
   "cell_type": "code",
   "execution_count": 6,
   "id": "0a042299-d5f1-452f-aaba-5f1a3fb4079a",
   "metadata": {},
   "outputs": [
    {
     "data": {
      "text/plain": [
       "true"
      ]
     },
     "execution_count": 6,
     "metadata": {},
     "output_type": "execute_result"
    }
   ],
   "source": [
    "k1.getHello === k2.getHello"
   ]
  },
  {
   "cell_type": "markdown",
   "id": "28b7cfdb-5817-437c-92eb-2a6cfc31da84",
   "metadata": {},
   "source": [
    "### 메서드와 속성에 할당된 함수의 차이\n",
    "\n",
    "-  클래스 속성에 함수를 추가해서 처리가 가능\n",
    "- 이는 메서드가 아니라 속성에 함수가 결합된 것 "
   ]
  },
  {
   "cell_type": "code",
   "execution_count": 8,
   "id": "bf183662-0787-452f-a672-06b984855ace",
   "metadata": {},
   "outputs": [
    {
     "data": {
      "text/plain": [
       "undefined"
      ]
     },
     "execution_count": 8,
     "metadata": {},
     "output_type": "execute_result"
    }
   ],
   "source": [
    "class Klass1 {\n",
    "    getHello = () => {\n",
    "        console.log(\" 메서드를 호출합니다.\");\n",
    "    }\n",
    "}"
   ]
  },
  {
   "cell_type": "code",
   "execution_count": 9,
   "id": "35abad2b-e0a3-4664-a295-7af9528da437",
   "metadata": {},
   "outputs": [
    {
     "data": {
      "text/plain": [
       "undefined"
      ]
     },
     "execution_count": 9,
     "metadata": {},
     "output_type": "execute_result"
    }
   ],
   "source": [
    "const k11 = new Klass1();\n",
    "const k12 = new Klass1(); "
   ]
  },
  {
   "cell_type": "markdown",
   "id": "abdea18c-b459-4595-a6d7-cd227d9a737b",
   "metadata": {},
   "source": [
    "### 객체가 생성될 때마다 속성에 함수가 저장된다. "
   ]
  },
  {
   "cell_type": "code",
   "execution_count": 10,
   "id": "e287cad3-6b10-41e0-894d-46a5b96cb12e",
   "metadata": {},
   "outputs": [
    {
     "data": {
      "text/plain": [
       "false"
      ]
     },
     "execution_count": 10,
     "metadata": {},
     "output_type": "execute_result"
    }
   ],
   "source": [
    "k11.getHello === k12.getHello"
   ]
  },
  {
   "cell_type": "code",
   "execution_count": null,
   "id": "6f206c6e-cbec-4b67-b164-94f5e55922dd",
   "metadata": {},
   "outputs": [],
   "source": []
  },
  {
   "cell_type": "code",
   "execution_count": null,
   "id": "e1ffcb93-3c5b-4c56-8a2f-740ba52866aa",
   "metadata": {},
   "outputs": [],
   "source": []
  },
  {
   "cell_type": "code",
   "execution_count": null,
   "id": "49761660-2e37-41b5-af14-b8d3b7efc390",
   "metadata": {},
   "outputs": [],
   "source": []
  },
  {
   "cell_type": "markdown",
   "id": "a9b81d0c-18d1-4d98-96ff-ffbabd5a12a1",
   "metadata": {},
   "source": [
    "## 2. 클래스 메서드\n",
    "\n",
    "-  클래스 내에서 정의된 함수로, 해당 클래스의 인스턴스가 아닌 클래스 자체에 속한 동작을 수행하는 함수입니다.\n",
    "-  클래스 메서드는 static 키워드를 사용하여 정의하며, 클래스명을 통해 호출됩니다.\n",
    "-  클래스 메서드는 인스턴스에 속하지 않으므로, 인스턴스의 프로퍼티에 접근할 수 없습니다."
   ]
  },
  {
   "cell_type": "code",
   "execution_count": 7,
   "id": "175773f4-2d67-4d61-9124-98de5d3ad74e",
   "metadata": {},
   "outputs": [
    {
     "data": {
      "text/plain": [
       "undefined"
      ]
     },
     "execution_count": 7,
     "metadata": {},
     "output_type": "execute_result"
    }
   ],
   "source": [
    "class MathUtils {\n",
    "    static add(x: number, y: number): number {\n",
    "        return x + y;\n",
    "    }\n",
    "\n",
    "    static subtract(x: number, y: number): number {\n",
    "        return x - y;\n",
    "    }\n",
    "}\n",
    "\n",
    "const result1 = MathUtils.add(10, 5);      // 15\n",
    "const result2 = MathUtils.subtract(20, 8); // 12\n"
   ]
  },
  {
   "cell_type": "code",
   "execution_count": null,
   "id": "4943fcc6-e925-4668-8891-76be111ed3b7",
   "metadata": {},
   "outputs": [],
   "source": []
  },
  {
   "cell_type": "markdown",
   "id": "221c04f6-7140-4d2c-bdcd-8580bb4e7c5d",
   "metadata": {},
   "source": [
    "## 3. 인스턴스 메서드(Instance Method)와 클래스 메서드(Class Method)\n",
    "    \n",
    "\n",
    "### 호출 방식:\n",
    "\n",
    "- 인스턴스 메서드: 인스턴스 메서드는 클래스의 인스턴스에 속한 메서드로, 인스턴스를 생성한 후에 해당 인스턴스에서 호출됩니다. 인스턴스 메서드는 인스턴스의 프로퍼티에 접근할 수 있습니다.\n",
    "- 클래스 메서드: 클래스 메서드는 클래스 자체에 속한 메서드로, 클래스명을 통해 호출됩니다. 클래스 메서드는 인스턴스와 무관하게 동작하며, 인스턴스의 프로퍼티에 접근할 수 없습니다.\n",
    "\n",
    "### 메서드의 범위:\n",
    "\n",
    "- 인스턴스 메서드: 인스턴스 메서드는 각각의 인스턴스에 대해 별도로 동작하며, 인스턴스의 상태와 데이터에 접근할 수 있습니다. 메서드 내에서 this 키워드는 해당 메서드를 호출한 인스턴스를 참조합니다.\n",
    "- 클래스 메서드: 클래스 메서드는 클래스 전체에 대한 동작을 수행하며, 특정 인스턴스의 상태에는 접근할 수 없습니다. 메서드 내에서 this 키워드는 클래스 자체를 참조합니다."
   ]
  },
  {
   "cell_type": "code",
   "execution_count": 6,
   "id": "68eca1b1-5f96-4b3b-8470-4c3969014452",
   "metadata": {},
   "outputs": [
    {
     "data": {
      "text/plain": [
       "undefined"
      ]
     },
     "execution_count": 6,
     "metadata": {},
     "output_type": "execute_result"
    }
   ],
   "source": [
    "class Circle {\n",
    "    radius: number;\n",
    "\n",
    "    constructor(radius: number) {\n",
    "        this.radius = radius;\n",
    "    }\n",
    "\n",
    "    // 인스턴스 메서드\n",
    "    calculateArea() {\n",
    "        return Math.PI * this.radius * this.radius;\n",
    "    }\n",
    "\n",
    "    // 클래스 메서드\n",
    "    static compareCircles(circle1: Circle, circle2: Circle) {\n",
    "        return circle1.radius > circle2.radius ? 1 : -1;\n",
    "    }\n",
    "}\n"
   ]
  },
  {
   "cell_type": "code",
   "execution_count": 7,
   "id": "9a9660f2-c707-4f5c-abdb-f23a55f9c4a4",
   "metadata": {},
   "outputs": [
    {
     "data": {
      "text/plain": [
       "undefined"
      ]
     },
     "execution_count": 7,
     "metadata": {},
     "output_type": "execute_result"
    }
   ],
   "source": [
    "const circle1 = new Circle(5);\n",
    "const circle2 = new Circle(10);\n"
   ]
  },
  {
   "cell_type": "code",
   "execution_count": 8,
   "id": "9ef1ac3d-e78b-45dd-85d4-f4f904801aaf",
   "metadata": {},
   "outputs": [
    {
     "data": {
      "text/plain": [
       "undefined"
      ]
     },
     "execution_count": 8,
     "metadata": {},
     "output_type": "execute_result"
    }
   ],
   "source": [
    "const area1 = circle1.calculateArea(); // 인스턴스 메서드 호출\n",
    "const area2 = circle2.calculateArea(); // 인스턴스 메서드 호출"
   ]
  },
  {
   "cell_type": "code",
   "execution_count": 9,
   "id": "0eab17c7-7ac8-47fb-89fa-fd0ade695b4b",
   "metadata": {},
   "outputs": [
    {
     "data": {
      "text/plain": [
       "78.53981633974483"
      ]
     },
     "execution_count": 9,
     "metadata": {},
     "output_type": "execute_result"
    }
   ],
   "source": [
    "area1"
   ]
  },
  {
   "cell_type": "code",
   "execution_count": 10,
   "id": "c7d7bf3b-9bff-472a-9c63-66b97ce7e84a",
   "metadata": {},
   "outputs": [
    {
     "data": {
      "text/plain": [
       "314.1592653589793"
      ]
     },
     "execution_count": 10,
     "metadata": {},
     "output_type": "execute_result"
    }
   ],
   "source": [
    "area2"
   ]
  },
  {
   "cell_type": "code",
   "execution_count": null,
   "id": "dda1ca02-60a5-4523-8574-08115f84a385",
   "metadata": {},
   "outputs": [],
   "source": []
  },
  {
   "cell_type": "code",
   "execution_count": 11,
   "id": "b656e3ee-1f30-4dea-83d9-282eb290c15f",
   "metadata": {},
   "outputs": [
    {
     "data": {
      "text/plain": [
       "undefined"
      ]
     },
     "execution_count": 11,
     "metadata": {},
     "output_type": "execute_result"
    }
   ],
   "source": [
    "const largerCircle = Circle.compareCircles(circle1, circle2); // 클래스 메서드 호출"
   ]
  },
  {
   "cell_type": "code",
   "execution_count": 12,
   "id": "927957d6-abca-4987-85b8-d03972473608",
   "metadata": {},
   "outputs": [
    {
     "data": {
      "text/plain": [
       "-1"
      ]
     },
     "execution_count": 12,
     "metadata": {},
     "output_type": "execute_result"
    }
   ],
   "source": [
    "largerCircle"
   ]
  },
  {
   "cell_type": "code",
   "execution_count": null,
   "id": "ef6d7e9e-f9f7-4578-b786-9005bee823e7",
   "metadata": {},
   "outputs": [],
   "source": []
  }
 ],
 "metadata": {
  "kernelspec": {
   "display_name": "Typescript 4.9",
   "language": "typescript",
   "name": "typescript"
  },
  "language_info": {
   "file_extension": ".ts",
   "mimetype": "application/x-typescript",
   "name": "typescript",
   "version": "4.9.5"
  }
 },
 "nbformat": 4,
 "nbformat_minor": 5
}
