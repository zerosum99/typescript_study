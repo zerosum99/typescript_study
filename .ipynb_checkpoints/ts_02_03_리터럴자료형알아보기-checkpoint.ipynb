{
 "cells": [
  {
   "cell_type": "code",
   "execution_count": null,
   "id": "373ae32a-ebde-4c0e-ae15-f209be5466c4",
   "metadata": {},
   "outputs": [],
   "source": []
  },
  {
   "cell_type": "markdown",
   "id": "8c5f77e4-7e31-4dfd-bc5d-ec9befc9024a",
   "metadata": {},
   "source": [
    "# 1. 리터럴 자료형(literal types)은 \n",
    "- 특정한 값을 나타내는 타입을 의미합니다. \n",
    "- 이러한 타입은 해당 값의 유일한 값으로 제한되며, 리터럴 값 자체를 타입으로 사용할 수 있습니다."
   ]
  },
  {
   "cell_type": "markdown",
   "id": "87bbfcb9-4ec1-47aa-b046-5638ef5fb37b",
   "metadata": {},
   "source": [
    "## 1-1 문자열 리터럴 처리하기 "
   ]
  },
  {
   "cell_type": "code",
   "execution_count": 2,
   "id": "f38b33c6-734e-497c-9a16-814e45370594",
   "metadata": {},
   "outputs": [
    {
     "data": {
      "text/plain": [
       "'use strict'"
      ]
     },
     "execution_count": 2,
     "metadata": {},
     "output_type": "execute_result"
    }
   ],
   "source": [
    "type Status = \"success\" | \"error\" | \"warning\";\n",
    "{ \n",
    "    let status: Status = \"success\"; // 가능\n",
    "    // status = \"info\"; // 에러: \"info\"는 타입 'Status'에 할당할 수 없음\n",
    "}"
   ]
  },
  {
   "cell_type": "markdown",
   "id": "18a4830f-7ec1-4df7-bd71-a2bc9ba8d7eb",
   "metadata": {},
   "source": [
    "## 1-2 숫자 리터럴 처리하기 "
   ]
  },
  {
   "cell_type": "code",
   "execution_count": null,
   "id": "0a79e601-9d55-4f79-b459-23a5f0f7961a",
   "metadata": {},
   "outputs": [],
   "source": [
    "type EvenNumber = 2 | 4 | 6 | 8;\n",
    "{\n",
    "    let num: EvenNumber = 4; // 가능\n",
    "    // num = 3; // 에러: 3은 타입 'EvenNumber'에 할당할 수 없음\n",
    "}"
   ]
  },
  {
   "cell_type": "code",
   "execution_count": null,
   "id": "0d399ece-26f7-4503-bb16-d3e2191fc85f",
   "metadata": {},
   "outputs": [],
   "source": []
  },
  {
   "cell_type": "markdown",
   "id": "d9c451f8-623b-4240-97a7-6172f59e7cb6",
   "metadata": {},
   "source": [
    "## 1-3 불리언 리터럴 처리하기 "
   ]
  },
  {
   "cell_type": "code",
   "execution_count": 3,
   "id": "19f5a40c-ff5e-4beb-9725-d4e4a4df59cd",
   "metadata": {},
   "outputs": [
    {
     "data": {
      "text/plain": [
       "undefined"
      ]
     },
     "execution_count": 3,
     "metadata": {},
     "output_type": "execute_result"
    }
   ],
   "source": [
    "type BooleanFlag = true | false;\n",
    "{\n",
    "    let flag: BooleanFlag = true; // 가능\n",
    "    // flag = null; // 에러: null은 타입 'BooleanFlag'에 할당할 수 없음\n",
    "}"
   ]
  },
  {
   "cell_type": "code",
   "execution_count": null,
   "id": "7561db12-2b03-4a7d-9b11-a13f69212bb1",
   "metadata": {},
   "outputs": [],
   "source": []
  },
  {
   "cell_type": "code",
   "execution_count": null,
   "id": "d6b96d53-5489-46d0-896b-66240b269851",
   "metadata": {},
   "outputs": [],
   "source": []
  }
 ],
 "metadata": {
  "kernelspec": {
   "display_name": "Typescript 4.9",
   "language": "typescript",
   "name": "typescript"
  },
  "language_info": {
   "file_extension": ".ts",
   "mimetype": "application/x-typescript",
   "name": "typescript",
   "version": "4.9.5"
  }
 },
 "nbformat": 4,
 "nbformat_minor": 5
}
