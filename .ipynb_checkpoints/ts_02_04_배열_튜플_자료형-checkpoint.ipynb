{
 "cells": [
  {
   "cell_type": "code",
   "execution_count": null,
   "id": "acf74bbc-183a-423c-9109-acdeecb78f7f",
   "metadata": {},
   "outputs": [],
   "source": []
  },
  {
   "cell_type": "markdown",
   "id": "fb7edd5c-2f4e-4687-b879-20f4e8b76aef",
   "metadata": {},
   "source": [
    "##  5. 배열 "
   ]
  },
  {
   "cell_type": "code",
   "execution_count": null,
   "id": "0b954a50-5e34-4358-a9d5-c71b6d630a6d",
   "metadata": {},
   "outputs": [],
   "source": []
  },
  {
   "cell_type": "code",
   "execution_count": null,
   "id": "a2ae37c9-eac9-4192-a3e1-9693c4afb5db",
   "metadata": {},
   "outputs": [],
   "source": []
  },
  {
   "cell_type": "markdown",
   "id": "7462367a-f2f1-4632-b2a5-675daa8d25ac",
   "metadata": {},
   "source": [
    "## 5-1 배열을 생성하기 "
   ]
  },
  {
   "cell_type": "code",
   "execution_count": 19,
   "id": "d98a3f0c-e899-4c5d-aadd-4e66071e46a8",
   "metadata": {},
   "outputs": [
    {
     "data": {
      "text/plain": [
       "undefined"
      ]
     },
     "execution_count": 19,
     "metadata": {},
     "output_type": "execute_result"
    }
   ],
   "source": [
    "let com2 = [\"meta\", \"twiter\", \"openAI\"];"
   ]
  },
  {
   "cell_type": "markdown",
   "id": "b020b2e5-fef7-464c-adc9-70392aba8374",
   "metadata": {},
   "source": [
    "### 타입을 확인하면 객체로 표시"
   ]
  },
  {
   "cell_type": "code",
   "execution_count": 20,
   "id": "ca29d4a5-c1d3-4fba-8f77-f3a25181b19b",
   "metadata": {},
   "outputs": [
    {
     "data": {
      "text/plain": [
       "'object'"
      ]
     },
     "execution_count": 20,
     "metadata": {},
     "output_type": "execute_result"
    }
   ],
   "source": [
    "typeof com2"
   ]
  },
  {
   "cell_type": "markdown",
   "id": "aeaa942f-36cb-4f74-8f92-68258ee11876",
   "metadata": {},
   "source": [
    "## 5-2 배열 타입을 확인하기 "
   ]
  },
  {
   "cell_type": "markdown",
   "id": "ab6981e7-dfba-463c-9c3f-212b5c028b20",
   "metadata": {},
   "source": [
    "### Array로 지정하기 "
   ]
  },
  {
   "cell_type": "code",
   "execution_count": 21,
   "id": "1537cd8e-4f72-4bb4-9b56-970b4e883826",
   "metadata": {},
   "outputs": [
    {
     "data": {
      "text/plain": [
       "true"
      ]
     },
     "execution_count": 21,
     "metadata": {},
     "output_type": "execute_result"
    }
   ],
   "source": [
    "Array.isArray(com2);"
   ]
  },
  {
   "cell_type": "code",
   "execution_count": 22,
   "id": "01c57bf5-7e78-40cf-8526-9840c29b6d7e",
   "metadata": {},
   "outputs": [
    {
     "data": {
      "text/plain": [
       "undefined"
      ]
     },
     "execution_count": 22,
     "metadata": {},
     "output_type": "execute_result"
    }
   ],
   "source": [
    "let com3 : Array<string> = [\"삼성\", \"현대\"];"
   ]
  },
  {
   "cell_type": "code",
   "execution_count": 23,
   "id": "5ec76c0a-4705-401d-a125-bddad6859b82",
   "metadata": {},
   "outputs": [
    {
     "data": {
      "text/plain": [
       "'object'"
      ]
     },
     "execution_count": 23,
     "metadata": {},
     "output_type": "execute_result"
    }
   ],
   "source": [
    "typeof com3"
   ]
  },
  {
   "cell_type": "markdown",
   "id": "38597c71-0dd4-4f98-9360-aabf09a218b9",
   "metadata": {},
   "source": [
    "### 배열기호로 정의하기 "
   ]
  },
  {
   "cell_type": "code",
   "execution_count": 14,
   "id": "e0c9e02d-8aaf-409c-a4ed-eea1cbea8f3b",
   "metadata": {},
   "outputs": [
    {
     "data": {
      "text/plain": [
       "undefined"
      ]
     },
     "execution_count": 14,
     "metadata": {},
     "output_type": "execute_result"
    }
   ],
   "source": [
    "let com4 : string[] = [\"삼성\", \"현대\"];"
   ]
  },
  {
   "cell_type": "code",
   "execution_count": 15,
   "id": "672c9cf7-8e8d-44b5-baa8-afbcb21a1895",
   "metadata": {},
   "outputs": [
    {
     "data": {
      "text/plain": [
       "'object'"
      ]
     },
     "execution_count": 15,
     "metadata": {},
     "output_type": "execute_result"
    }
   ],
   "source": [
    "typeof com4"
   ]
  },
  {
   "cell_type": "code",
   "execution_count": 16,
   "id": "855b018d-9f64-4979-bab3-db78937611f0",
   "metadata": {},
   "outputs": [
    {
     "data": {
      "text/plain": [
       "true"
      ]
     },
     "execution_count": 16,
     "metadata": {},
     "output_type": "execute_result"
    }
   ],
   "source": [
    "Array.isArray(com4)"
   ]
  },
  {
   "cell_type": "code",
   "execution_count": null,
   "id": "260e187d-0829-4849-b20a-94054a3172a8",
   "metadata": {},
   "outputs": [],
   "source": []
  },
  {
   "cell_type": "markdown",
   "id": "eaf6d5df-b0e2-483e-8fac-5cc9f5d0c8b0",
   "metadata": {},
   "source": [
    "## 5-3 유니언 타입을 이용한 배열 자료형 정의 "
   ]
  },
  {
   "cell_type": "code",
   "execution_count": 11,
   "id": "d99a1e5f-e6aa-48b6-be7e-fd858fd4db92",
   "metadata": {},
   "outputs": [
    {
     "data": {
      "text/plain": [
       "undefined"
      ]
     },
     "execution_count": 11,
     "metadata": {},
     "output_type": "execute_result"
    }
   ],
   "source": [
    "let role_1: (string | number)[] = [\"admin\", \"manager\", 40];"
   ]
  },
  {
   "cell_type": "code",
   "execution_count": 12,
   "id": "cc4c4281-99fb-445a-8b80-84d3d72f4945",
   "metadata": {},
   "outputs": [
    {
     "data": {
      "text/plain": [
       "true"
      ]
     },
     "execution_count": 12,
     "metadata": {},
     "output_type": "execute_result"
    }
   ],
   "source": [
    "Array.isArray(role_1)"
   ]
  },
  {
   "cell_type": "code",
   "execution_count": null,
   "id": "50552489-de84-4aa2-8c28-f32389e9865e",
   "metadata": {},
   "outputs": [],
   "source": []
  },
  {
   "cell_type": "code",
   "execution_count": 21,
   "id": "412b24b9-5da9-4a12-b104-e22503a895f5",
   "metadata": {},
   "outputs": [
    {
     "name": "stdout",
     "output_type": "stream",
     "text": [
      "This is an array.\n"
     ]
    },
    {
     "data": {
      "text/plain": [
       "undefined"
      ]
     },
     "execution_count": 21,
     "metadata": {},
     "output_type": "execute_result"
    }
   ],
   "source": [
    "let role2: [string, string, number] = [\"admin\", \"manager\", 40];\n",
    "\n",
    "if (Array.isArray(role2)) {\n",
    "  console.log('This is an array.');     \n",
    "} else {\n",
    "  console.log('This is not an array.');  \n",
    "}"
   ]
  },
  {
   "cell_type": "code",
   "execution_count": null,
   "id": "de3d1e8b-7a0c-46b2-a875-306403e45fea",
   "metadata": {},
   "outputs": [],
   "source": []
  },
  {
   "cell_type": "markdown",
   "id": "fbacb5b1-d864-45c9-8d9a-b31169eb7c7e",
   "metadata": {},
   "source": [
    "## 6. 튜플\n",
    "\n",
    "- 튜플 자료형은 배열 내의 여러 자료형을 가지고 확인\n",
    "- 배열은 단일 자료형으로 처리 "
   ]
  },
  {
   "cell_type": "markdown",
   "id": "3e6ef7d0-6b96-4a0d-8021-26828e539d7e",
   "metadata": {},
   "source": [
    "## 6-1 타입 지정"
   ]
  },
  {
   "cell_type": "code",
   "execution_count": 17,
   "id": "ce19e9be-e0df-4710-ab0a-79ecdaa4520e",
   "metadata": {},
   "outputs": [
    {
     "data": {
      "text/plain": [
       "undefined"
      ]
     },
     "execution_count": 17,
     "metadata": {},
     "output_type": "execute_result"
    }
   ],
   "source": [
    "let tt :[string, number] = ['hi', 100];"
   ]
  },
  {
   "cell_type": "code",
   "execution_count": 18,
   "id": "6b6e76dc-1b58-4ed4-8fef-000b0b5e33f5",
   "metadata": {},
   "outputs": [
    {
     "data": {
      "text/plain": [
       "'object'"
      ]
     },
     "execution_count": 18,
     "metadata": {},
     "output_type": "execute_result"
    }
   ],
   "source": [
    "typeof tt"
   ]
  },
  {
   "cell_type": "markdown",
   "id": "9d02a330-59ae-48a6-96fe-4400d9870d02",
   "metadata": {},
   "source": [
    "### 6-2 튜플로 자료형 정의 "
   ]
  },
  {
   "cell_type": "code",
   "execution_count": 19,
   "id": "502aee72-e206-47a5-a4c3-896019b57279",
   "metadata": {},
   "outputs": [
    {
     "data": {
      "text/plain": [
       "undefined"
      ]
     },
     "execution_count": 19,
     "metadata": {},
     "output_type": "execute_result"
    }
   ],
   "source": [
    "let role: [string, string, number] = [\"admin\", \"manager\", 40];"
   ]
  },
  {
   "cell_type": "code",
   "execution_count": 20,
   "id": "d7aee2da-863e-46e2-8cb6-0ce57d015e12",
   "metadata": {},
   "outputs": [
    {
     "data": {
      "text/plain": [
       "true"
      ]
     },
     "execution_count": 20,
     "metadata": {},
     "output_type": "execute_result"
    }
   ],
   "source": [
    "Array.isArray(role)"
   ]
  },
  {
   "cell_type": "code",
   "execution_count": null,
   "id": "deef705b-d10d-4150-aaa2-d6e10a9e3df7",
   "metadata": {},
   "outputs": [],
   "source": []
  },
  {
   "cell_type": "code",
   "execution_count": null,
   "id": "2e3d1e8c-da2c-43c3-a660-11e979706c6e",
   "metadata": {},
   "outputs": [],
   "source": []
  },
  {
   "cell_type": "code",
   "execution_count": null,
   "id": "1103ff69-87ee-473e-a4eb-68cb5ccbd168",
   "metadata": {},
   "outputs": [],
   "source": []
  },
  {
   "cell_type": "code",
   "execution_count": null,
   "id": "5ee86ce0-cc78-4fe5-80da-eeafb56fc971",
   "metadata": {},
   "outputs": [],
   "source": []
  },
  {
   "cell_type": "code",
   "execution_count": null,
   "id": "aaaa0536-16f5-466e-9305-da73c87092a2",
   "metadata": {},
   "outputs": [],
   "source": []
  }
 ],
 "metadata": {
  "kernelspec": {
   "display_name": "Typescript 4.9",
   "language": "typescript",
   "name": "typescript"
  },
  "language_info": {
   "file_extension": ".ts",
   "mimetype": "application/x-typescript",
   "name": "typescript",
   "version": "4.9.5"
  }
 },
 "nbformat": 4,
 "nbformat_minor": 5
}
