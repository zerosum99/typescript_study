{
 "cells": [
  {
   "cell_type": "markdown",
   "id": "8dd9ed9d-5605-4777-af51-18be7396c321",
   "metadata": {},
   "source": [
    "## 1. 문자열 자료형 "
   ]
  },
  {
   "cell_type": "markdown",
   "id": "19a33818-f4f4-46e4-a630-3f47d8d9b6d9",
   "metadata": {},
   "source": [
    "### 문자열을 처리하는 자료형을 의미함\n",
    "\n",
    "- string 으로 타입 어노테이션을 표시한다. "
   ]
  },
  {
   "cell_type": "markdown",
   "id": "9f0687c3-15ed-4744-952d-99f676a47d65",
   "metadata": {},
   "source": [
    "### 자스는 타입을 지정하지 않는다.\n",
    "- 타입스크립트에서는 타입 추론을 한다. "
   ]
  },
  {
   "cell_type": "code",
   "execution_count": 1,
   "id": "226785cd-ea89-4a06-acd5-137d1e87dd37",
   "metadata": {},
   "outputs": [
    {
     "data": {
      "text/html": [
       "<div style='background:#ffecb3;padding:1em;border-left:2px solid #ff6d00'><b>Configuration is not found!</b> Default configuration will be used: <pre>{\"module\":1,\"target\":1,\"moduleResolution\":2,\"esModuleInterop\":true}</pre></div>"
      ]
     },
     "execution_count": 1,
     "metadata": {},
     "output_type": "execute_result"
    }
   ],
   "source": [
    "let str_js  = 'hi';"
   ]
  },
  {
   "cell_type": "code",
   "execution_count": 2,
   "id": "d53570eb-5a6a-4f42-a909-1080c7fecf86",
   "metadata": {},
   "outputs": [
    {
     "data": {
      "text/plain": [
       "'hi'"
      ]
     },
     "execution_count": 2,
     "metadata": {},
     "output_type": "execute_result"
    }
   ],
   "source": [
    "str_js"
   ]
  },
  {
   "cell_type": "markdown",
   "id": "7838e496-0b3f-43bd-91e6-de1c12f06d83",
   "metadata": {},
   "source": [
    "### 타입확인하기 "
   ]
  },
  {
   "cell_type": "code",
   "execution_count": 3,
   "id": "a02da005-0d22-4832-80de-ab31997ba5e9",
   "metadata": {},
   "outputs": [
    {
     "name": "stdout",
     "output_type": "stream",
     "text": [
      "string\n"
     ]
    },
    {
     "data": {
      "text/plain": [
       "undefined"
      ]
     },
     "execution_count": 3,
     "metadata": {},
     "output_type": "execute_result"
    }
   ],
   "source": [
    "console.log(typeof str_js);"
   ]
  },
  {
   "cell_type": "code",
   "execution_count": null,
   "id": "ae1c3ac2-5e94-49d6-816e-4605130367cf",
   "metadata": {},
   "outputs": [],
   "source": []
  },
  {
   "cell_type": "markdown",
   "id": "63590951-2a8d-4079-8b9c-df0ff41e6310",
   "metadata": {},
   "source": [
    "### 타스일 경우는 타입을 지정한다. "
   ]
  },
  {
   "cell_type": "code",
   "execution_count": 4,
   "id": "b037b50b-19d3-474d-a83c-78ec9731ff6d",
   "metadata": {},
   "outputs": [
    {
     "data": {
      "text/plain": [
       "undefined"
      ]
     },
     "execution_count": 4,
     "metadata": {},
     "output_type": "execute_result"
    }
   ],
   "source": [
    "var str: string = 'hi';"
   ]
  },
  {
   "cell_type": "code",
   "execution_count": 5,
   "id": "d0f611bb-9894-4ff1-9361-95745084fbcc",
   "metadata": {},
   "outputs": [
    {
     "data": {
      "text/plain": [
       "'hi'"
      ]
     },
     "execution_count": 5,
     "metadata": {},
     "output_type": "execute_result"
    }
   ],
   "source": [
    "str"
   ]
  },
  {
   "cell_type": "markdown",
   "id": "1d2efaf9-894f-43cd-bb1a-8bd955830d19",
   "metadata": {},
   "source": [
    "### 타입확인하기 "
   ]
  },
  {
   "cell_type": "code",
   "execution_count": 6,
   "id": "49ac95bd-9e35-4c42-b3ea-f7840f727d80",
   "metadata": {},
   "outputs": [
    {
     "data": {
      "text/plain": [
       "'string'"
      ]
     },
     "execution_count": 6,
     "metadata": {},
     "output_type": "execute_result"
    }
   ],
   "source": [
    "typeof str"
   ]
  },
  {
   "cell_type": "code",
   "execution_count": null,
   "id": "9a341e20-3226-417f-ad28-814b4a143a51",
   "metadata": {},
   "outputs": [],
   "source": []
  },
  {
   "cell_type": "markdown",
   "id": "9368b176-2b66-419c-83d7-25165ba33390",
   "metadata": {},
   "source": [
    "## 2. 숫자 자료형 "
   ]
  },
  {
   "cell_type": "markdown",
   "id": "4e483b99-7be7-400b-a3fb-0110fa00d948",
   "metadata": {},
   "source": [
    "### 타입추론 \n",
    "- 자스처럼 타입을 지정하지 않으면 타입을 추론한다"
   ]
  },
  {
   "cell_type": "code",
   "execution_count": 7,
   "id": "2c20e2c6-9d40-47ad-831c-60c0073878e5",
   "metadata": {},
   "outputs": [
    {
     "data": {
      "text/plain": [
       "undefined"
      ]
     },
     "execution_count": 7,
     "metadata": {},
     "output_type": "execute_result"
    }
   ],
   "source": [
    "let num_js  = 10;"
   ]
  },
  {
   "cell_type": "code",
   "execution_count": 8,
   "id": "bbc2718a-f98b-4bfc-81cc-8e3295055d13",
   "metadata": {},
   "outputs": [
    {
     "data": {
      "text/plain": [
       "10"
      ]
     },
     "execution_count": 8,
     "metadata": {},
     "output_type": "execute_result"
    }
   ],
   "source": [
    "num_js"
   ]
  },
  {
   "cell_type": "code",
   "execution_count": 9,
   "id": "18ab3dca-7c5a-4104-8d05-bfdef0c43f9c",
   "metadata": {},
   "outputs": [
    {
     "data": {
      "text/plain": [
       "'number'"
      ]
     },
     "execution_count": 9,
     "metadata": {},
     "output_type": "execute_result"
    }
   ],
   "source": [
    "typeof num_js"
   ]
  },
  {
   "cell_type": "code",
   "execution_count": null,
   "id": "200b0a57-0e6c-480d-bdae-e307582958cd",
   "metadata": {},
   "outputs": [],
   "source": []
  },
  {
   "cell_type": "markdown",
   "id": "3ef0b123-566b-4b6c-9745-6448e928db5c",
   "metadata": {},
   "source": [
    "### 타입을 지정하면 해당 자료형만 할당된다"
   ]
  },
  {
   "cell_type": "code",
   "execution_count": 10,
   "id": "131abf9b-ef2d-40e9-89d6-3b174e6b99c2",
   "metadata": {},
   "outputs": [
    {
     "data": {
      "text/plain": [
       "undefined"
      ]
     },
     "execution_count": 10,
     "metadata": {},
     "output_type": "execute_result"
    }
   ],
   "source": [
    "let num: number = 10;"
   ]
  },
  {
   "cell_type": "code",
   "execution_count": 11,
   "id": "1f2285e5-9cd6-4466-9a47-c409ff13cf37",
   "metadata": {},
   "outputs": [
    {
     "data": {
      "text/plain": [
       "10"
      ]
     },
     "execution_count": 11,
     "metadata": {},
     "output_type": "execute_result"
    }
   ],
   "source": [
    "num"
   ]
  },
  {
   "cell_type": "code",
   "execution_count": 12,
   "id": "545671d0-701d-4a12-bc44-f766e44852fb",
   "metadata": {},
   "outputs": [
    {
     "data": {
      "text/plain": [
       "'number'"
      ]
     },
     "execution_count": 12,
     "metadata": {},
     "output_type": "execute_result"
    }
   ],
   "source": [
    "typeof num"
   ]
  },
  {
   "cell_type": "markdown",
   "id": "b23d3f7e-da2a-414f-b2a2-3fdb8d27d9c7",
   "metadata": {},
   "source": [
    "## 3. 불리언 자료형"
   ]
  },
  {
   "cell_type": "code",
   "execution_count": null,
   "id": "f06249f5-7082-4704-9be8-807588f60962",
   "metadata": {},
   "outputs": [],
   "source": []
  },
  {
   "cell_type": "code",
   "execution_count": 13,
   "id": "c865dcf4-f05b-415e-96ab-88f528130bd2",
   "metadata": {},
   "outputs": [
    {
     "data": {
      "text/plain": [
       "undefined"
      ]
     },
     "execution_count": 13,
     "metadata": {},
     "output_type": "execute_result"
    }
   ],
   "source": [
    "let true_var = false"
   ]
  },
  {
   "cell_type": "code",
   "execution_count": 14,
   "id": "35c79633-5015-4034-be52-731330de6613",
   "metadata": {},
   "outputs": [
    {
     "data": {
      "text/plain": [
       "'boolean'"
      ]
     },
     "execution_count": 14,
     "metadata": {},
     "output_type": "execute_result"
    }
   ],
   "source": [
    "typeof true_var"
   ]
  },
  {
   "cell_type": "code",
   "execution_count": null,
   "id": "fee12efa-61f2-4d7d-938d-2793cbe86d39",
   "metadata": {},
   "outputs": [],
   "source": []
  },
  {
   "cell_type": "code",
   "execution_count": null,
   "id": "0f092410-d487-473b-81a2-cf698391d4e6",
   "metadata": {},
   "outputs": [],
   "source": []
  },
  {
   "cell_type": "code",
   "execution_count": null,
   "id": "9f73d7cf-454b-47ee-a041-c51f7dc26611",
   "metadata": {},
   "outputs": [],
   "source": []
  },
  {
   "cell_type": "markdown",
   "id": "fb7edd5c-2f4e-4687-b879-20f4e8b76aef",
   "metadata": {},
   "source": [
    "##  4. 객체 "
   ]
  },
  {
   "cell_type": "code",
   "execution_count": null,
   "id": "67a1d8de-49ab-47b2-854e-b47b9641cb4d",
   "metadata": {},
   "outputs": [],
   "source": []
  },
  {
   "cell_type": "code",
   "execution_count": 15,
   "id": "95f57fa3-4ca9-40a0-8843-f6a25b4d5e29",
   "metadata": {},
   "outputs": [
    {
     "data": {
      "text/plain": [
       "undefined"
      ]
     },
     "execution_count": 15,
     "metadata": {},
     "output_type": "execute_result"
    }
   ],
   "source": [
    "let user :object = { name:\"슈퍼맨\", age:33 };"
   ]
  },
  {
   "cell_type": "code",
   "execution_count": 16,
   "id": "a159eafb-a688-41fd-bc3b-0d859b848da8",
   "metadata": {},
   "outputs": [
    {
     "data": {
      "text/plain": [
       "'object'"
      ]
     },
     "execution_count": 16,
     "metadata": {},
     "output_type": "execute_result"
    }
   ],
   "source": [
    "typeof user"
   ]
  },
  {
   "cell_type": "code",
   "execution_count": null,
   "id": "6cbf112d-310d-4e9b-94bd-b91d6bd9c002",
   "metadata": {},
   "outputs": [],
   "source": []
  },
  {
   "cell_type": "code",
   "execution_count": 17,
   "id": "af7fd27e-13a4-4cc0-aef5-ea83f4cca97e",
   "metadata": {},
   "outputs": [
    {
     "data": {
      "text/plain": [
       "undefined"
      ]
     },
     "execution_count": 17,
     "metadata": {},
     "output_type": "execute_result"
    }
   ],
   "source": [
    "let user1  = { name:\"슈퍼맨\", age:33 };"
   ]
  },
  {
   "cell_type": "code",
   "execution_count": 18,
   "id": "42ddf660-f200-472c-bf64-58e46552abbc",
   "metadata": {},
   "outputs": [
    {
     "data": {
      "text/plain": [
       "'object'"
      ]
     },
     "execution_count": 18,
     "metadata": {},
     "output_type": "execute_result"
    }
   ],
   "source": [
    "typeof user1"
   ]
  },
  {
   "cell_type": "code",
   "execution_count": null,
   "id": "0b954a50-5e34-4358-a9d5-c71b6d630a6d",
   "metadata": {},
   "outputs": [],
   "source": []
  },
  {
   "cell_type": "code",
   "execution_count": null,
   "id": "a2ae37c9-eac9-4192-a3e1-9693c4afb5db",
   "metadata": {},
   "outputs": [],
   "source": []
  },
  {
   "cell_type": "markdown",
   "id": "1d66809f-ad87-4c17-bcac-2c4249e591e5",
   "metadata": {},
   "source": [
    "## 5. 배열"
   ]
  },
  {
   "cell_type": "markdown",
   "id": "7462367a-f2f1-4632-b2a5-675daa8d25ac",
   "metadata": {},
   "source": [
    "### 배열을 생성하기 "
   ]
  },
  {
   "cell_type": "code",
   "execution_count": 19,
   "id": "d98a3f0c-e899-4c5d-aadd-4e66071e46a8",
   "metadata": {},
   "outputs": [
    {
     "data": {
      "text/plain": [
       "undefined"
      ]
     },
     "execution_count": 19,
     "metadata": {},
     "output_type": "execute_result"
    }
   ],
   "source": [
    "let com2 = [\"meta\", \"twiter\", \"openAI\"];"
   ]
  },
  {
   "cell_type": "markdown",
   "id": "b020b2e5-fef7-464c-adc9-70392aba8374",
   "metadata": {},
   "source": [
    "### 타입을 확인하면 객체로 표시"
   ]
  },
  {
   "cell_type": "code",
   "execution_count": 20,
   "id": "ca29d4a5-c1d3-4fba-8f77-f3a25181b19b",
   "metadata": {},
   "outputs": [
    {
     "data": {
      "text/plain": [
       "'object'"
      ]
     },
     "execution_count": 20,
     "metadata": {},
     "output_type": "execute_result"
    }
   ],
   "source": [
    "typeof com2"
   ]
  },
  {
   "cell_type": "markdown",
   "id": "aeaa942f-36cb-4f74-8f92-68258ee11876",
   "metadata": {},
   "source": [
    "### 배열 타입을 확인하기 "
   ]
  },
  {
   "cell_type": "code",
   "execution_count": 21,
   "id": "1537cd8e-4f72-4bb4-9b56-970b4e883826",
   "metadata": {},
   "outputs": [
    {
     "data": {
      "text/plain": [
       "true"
      ]
     },
     "execution_count": 21,
     "metadata": {},
     "output_type": "execute_result"
    }
   ],
   "source": [
    "Array.isArray(com2);"
   ]
  },
  {
   "cell_type": "code",
   "execution_count": 22,
   "id": "01c57bf5-7e78-40cf-8526-9840c29b6d7e",
   "metadata": {},
   "outputs": [
    {
     "data": {
      "text/plain": [
       "undefined"
      ]
     },
     "execution_count": 22,
     "metadata": {},
     "output_type": "execute_result"
    }
   ],
   "source": [
    "let com3 : Array<string> = [\"삼성\", \"현대\"];"
   ]
  },
  {
   "cell_type": "code",
   "execution_count": 23,
   "id": "5ec76c0a-4705-401d-a125-bddad6859b82",
   "metadata": {},
   "outputs": [
    {
     "data": {
      "text/plain": [
       "'object'"
      ]
     },
     "execution_count": 23,
     "metadata": {},
     "output_type": "execute_result"
    }
   ],
   "source": [
    "typeof com3"
   ]
  },
  {
   "cell_type": "code",
   "execution_count": null,
   "id": "49d385e3-3a54-454c-9c8f-26fe368fbfb8",
   "metadata": {},
   "outputs": [],
   "source": []
  },
  {
   "cell_type": "code",
   "execution_count": 24,
   "id": "e0c9e02d-8aaf-409c-a4ed-eea1cbea8f3b",
   "metadata": {},
   "outputs": [
    {
     "data": {
      "text/plain": [
       "undefined"
      ]
     },
     "execution_count": 24,
     "metadata": {},
     "output_type": "execute_result"
    }
   ],
   "source": [
    "let com4 : string[] = [\"삼성\", \"현대\"];"
   ]
  },
  {
   "cell_type": "code",
   "execution_count": 25,
   "id": "672c9cf7-8e8d-44b5-baa8-afbcb21a1895",
   "metadata": {},
   "outputs": [
    {
     "data": {
      "text/plain": [
       "'object'"
      ]
     },
     "execution_count": 25,
     "metadata": {},
     "output_type": "execute_result"
    }
   ],
   "source": [
    "typeof com4"
   ]
  },
  {
   "cell_type": "code",
   "execution_count": null,
   "id": "d99a1e5f-e6aa-48b6-be7e-fd858fd4db92",
   "metadata": {},
   "outputs": [],
   "source": []
  },
  {
   "cell_type": "markdown",
   "id": "fbacb5b1-d864-45c9-8d9a-b31169eb7c7e",
   "metadata": {},
   "source": [
    "## 6. 튜플\n",
    "\n",
    "- 튜플 자료형은 배열 내의 여러 자료형을 가지고 확인\n",
    "- 배열은 단일 자료형으로 처리 "
   ]
  },
  {
   "cell_type": "code",
   "execution_count": null,
   "id": "e095b598-c9a4-40a1-aa8e-77c6a2f6ba21",
   "metadata": {},
   "outputs": [],
   "source": []
  },
  {
   "cell_type": "code",
   "execution_count": 26,
   "id": "ce19e9be-e0df-4710-ab0a-79ecdaa4520e",
   "metadata": {},
   "outputs": [
    {
     "data": {
      "text/plain": [
       "undefined"
      ]
     },
     "execution_count": 26,
     "metadata": {},
     "output_type": "execute_result"
    }
   ],
   "source": [
    "let tt :[string, number] = ['hi', 100];"
   ]
  },
  {
   "cell_type": "code",
   "execution_count": 27,
   "id": "6b6e76dc-1b58-4ed4-8fef-000b0b5e33f5",
   "metadata": {},
   "outputs": [
    {
     "data": {
      "text/plain": [
       "'object'"
      ]
     },
     "execution_count": 27,
     "metadata": {},
     "output_type": "execute_result"
    }
   ],
   "source": [
    "typeof tt"
   ]
  },
  {
   "cell_type": "markdown",
   "id": "9d02a330-59ae-48a6-96fe-4400d9870d02",
   "metadata": {},
   "source": [
    "## 튜플로 자료형 정의 "
   ]
  },
  {
   "cell_type": "code",
   "execution_count": 28,
   "id": "502aee72-e206-47a5-a4c3-896019b57279",
   "metadata": {},
   "outputs": [
    {
     "data": {
      "text/plain": [
       "undefined"
      ]
     },
     "execution_count": 28,
     "metadata": {},
     "output_type": "execute_result"
    }
   ],
   "source": [
    "let role: [string, string, number] = [\"admin\", \"manager\", 40];"
   ]
  },
  {
   "cell_type": "code",
   "execution_count": 40,
   "id": "d7aee2da-863e-46e2-8cb6-0ce57d015e12",
   "metadata": {},
   "outputs": [
    {
     "data": {
      "text/plain": [
       "true"
      ]
     },
     "execution_count": 40,
     "metadata": {},
     "output_type": "execute_result"
    }
   ],
   "source": [
    "Array.isArray(role)"
   ]
  },
  {
   "cell_type": "markdown",
   "id": "eaf6d5df-b0e2-483e-8fac-5cc9f5d0c8b0",
   "metadata": {},
   "source": [
    "## 유니언 타입을 이요한 배열 자료형 정의 "
   ]
  },
  {
   "cell_type": "code",
   "execution_count": 29,
   "id": "fd01bdbd-12e1-484a-aedb-e658dcdb7e2d",
   "metadata": {},
   "outputs": [
    {
     "data": {
      "text/plain": [
       "undefined"
      ]
     },
     "execution_count": 29,
     "metadata": {},
     "output_type": "execute_result"
    }
   ],
   "source": [
    "let role_1: (string | number)[] = [\"admin\", \"manager\", 40];"
   ]
  },
  {
   "cell_type": "code",
   "execution_count": 42,
   "id": "39878c22-7568-4ba8-ad09-1e0919b6b5e1",
   "metadata": {},
   "outputs": [
    {
     "data": {
      "text/plain": [
       "true"
      ]
     },
     "execution_count": 42,
     "metadata": {},
     "output_type": "execute_result"
    }
   ],
   "source": [
    "Array.isArray(role_1)"
   ]
  },
  {
   "cell_type": "code",
   "execution_count": null,
   "id": "deef705b-d10d-4150-aaa2-d6e10a9e3df7",
   "metadata": {},
   "outputs": [],
   "source": []
  },
  {
   "cell_type": "code",
   "execution_count": null,
   "id": "e3445c80-fb21-44fd-9883-6604bbefed89",
   "metadata": {},
   "outputs": [],
   "source": []
  },
  {
   "cell_type": "code",
   "execution_count": 39,
   "id": "02645db9-0e40-45c5-9fff-cd925887eb41",
   "metadata": {},
   "outputs": [
    {
     "name": "stdout",
     "output_type": "stream",
     "text": [
      "This is an array.\n"
     ]
    },
    {
     "data": {
      "text/plain": [
       "undefined"
      ]
     },
     "execution_count": 39,
     "metadata": {},
     "output_type": "execute_result"
    }
   ],
   "source": [
    "let role2: [string, string, number] = [\"admin\", \"manager\", 40];\n",
    "\n",
    "if (Array.isArray(role2)) {\n",
    "  console.log('This is an array.');     \n",
    "} else {\n",
    "  console.log('This is not an array.');  \n",
    "}"
   ]
  },
  {
   "cell_type": "code",
   "execution_count": null,
   "id": "d569c10c-257b-4f91-9028-88a2d33acc3c",
   "metadata": {},
   "outputs": [],
   "source": []
  },
  {
   "cell_type": "code",
   "execution_count": null,
   "id": "2e3d1e8c-da2c-43c3-a660-11e979706c6e",
   "metadata": {},
   "outputs": [],
   "source": []
  },
  {
   "cell_type": "markdown",
   "id": "eadb9400-84b5-44c5-ba3e-1f7c011f6f52",
   "metadata": {},
   "source": [
    "## 7. any"
   ]
  },
  {
   "cell_type": "markdown",
   "id": "d05f4e1d-d6f6-4b83-b672-8cecde68d41a",
   "metadata": {},
   "source": [
    "### any 타입으로 지정한 경우 할당되는 값에 따라 자료형이 변환됨"
   ]
  },
  {
   "cell_type": "code",
   "execution_count": 31,
   "id": "7f05f859-4458-4dda-8593-fbf9dddcc0b9",
   "metadata": {},
   "outputs": [
    {
     "data": {
      "text/plain": [
       "undefined"
      ]
     },
     "execution_count": 31,
     "metadata": {},
     "output_type": "execute_result"
    }
   ],
   "source": [
    "var name_s : any = \"가을이\";"
   ]
  },
  {
   "cell_type": "code",
   "execution_count": 32,
   "id": "54465193-df9b-42f2-ada5-078923817f5c",
   "metadata": {},
   "outputs": [
    {
     "data": {
      "text/plain": [
       "'string'"
      ]
     },
     "execution_count": 32,
     "metadata": {},
     "output_type": "execute_result"
    }
   ],
   "source": [
    "typeof name_s"
   ]
  },
  {
   "cell_type": "code",
   "execution_count": 33,
   "id": "d2a40f0c-1617-4aa0-b9e7-afbdee6a4e38",
   "metadata": {},
   "outputs": [
    {
     "data": {
      "text/plain": [
       "10000"
      ]
     },
     "execution_count": 33,
     "metadata": {},
     "output_type": "execute_result"
    }
   ],
   "source": [
    "name_s = 10000;"
   ]
  },
  {
   "cell_type": "code",
   "execution_count": 34,
   "id": "0c50d2b9-0de0-4928-860d-d6f9404bef1f",
   "metadata": {},
   "outputs": [
    {
     "data": {
      "text/plain": [
       "'number'"
      ]
     },
     "execution_count": 34,
     "metadata": {},
     "output_type": "execute_result"
    }
   ],
   "source": [
    "typeof name_s"
   ]
  },
  {
   "cell_type": "code",
   "execution_count": null,
   "id": "2d70738b-9a49-4474-bc30-e784726610c8",
   "metadata": {},
   "outputs": [],
   "source": []
  },
  {
   "cell_type": "code",
   "execution_count": null,
   "id": "efa94270-cec9-4c96-8c2e-574b5de552c1",
   "metadata": {},
   "outputs": [],
   "source": []
  },
  {
   "cell_type": "markdown",
   "id": "46f064da-a88f-4aa3-a707-e0456d10bf00",
   "metadata": {},
   "source": [
    "## 8. null \n",
    "\n",
    "- null 타입은 변수에 값을 할당하지 않거나 명시적으로 \"값이 없음\"을 나타낼 때 사용\n",
    "- null은 변수에 할당할 수 있는 값 중 하나로, 해당 변수에 값이 없음을 의도적으로 표현할 때 사용"
   ]
  },
  {
   "cell_type": "code",
   "execution_count": null,
   "id": "559908a0-2a4f-4fca-8dd4-beeb83a027be",
   "metadata": {},
   "outputs": [],
   "source": []
  },
  {
   "cell_type": "code",
   "execution_count": 35,
   "id": "6233821f-3655-4c65-83d6-a926ddfe5ac0",
   "metadata": {},
   "outputs": [
    {
     "data": {
      "text/plain": [
       "undefined"
      ]
     },
     "execution_count": 35,
     "metadata": {},
     "output_type": "execute_result"
    }
   ],
   "source": [
    "let myVariable: null = null;"
   ]
  },
  {
   "cell_type": "code",
   "execution_count": null,
   "id": "dc2fa71e-3004-45e8-b342-6174490346c8",
   "metadata": {},
   "outputs": [],
   "source": []
  },
  {
   "cell_type": "code",
   "execution_count": null,
   "id": "e340d09d-ff56-4480-b31b-97a953c37926",
   "metadata": {},
   "outputs": [],
   "source": []
  },
  {
   "cell_type": "code",
   "execution_count": null,
   "id": "857f3b00-4972-4ead-be02-e27d6a46c32e",
   "metadata": {},
   "outputs": [],
   "source": []
  },
  {
   "cell_type": "markdown",
   "id": "504b6947-b173-4a78-88bf-dfab3e4ef9b4",
   "metadata": {},
   "source": [
    "## 9. undefined\n",
    "\n",
    "- undefined 타입은 변수가 선언되었지만 값을 할당하지 않았을 때 자동으로 부여되는 값\n",
    "- 또한 변수가 선언되지 않았을 때도 undefined 값"
   ]
  },
  {
   "cell_type": "code",
   "execution_count": null,
   "id": "9f4c4748-d45f-4636-9d8a-de0cb6d4ea65",
   "metadata": {},
   "outputs": [],
   "source": []
  },
  {
   "cell_type": "code",
   "execution_count": 37,
   "id": "bf448c26-c816-4144-965a-eb6015a77cff",
   "metadata": {},
   "outputs": [
    {
     "data": {
      "text/plain": [
       "undefined"
      ]
     },
     "execution_count": 37,
     "metadata": {},
     "output_type": "execute_result"
    }
   ],
   "source": [
    "let myVariable1: undefined = undefined;\n",
    "let otherVariable1; // 암묵적으로 undefined로 설정됨"
   ]
  },
  {
   "cell_type": "code",
   "execution_count": null,
   "id": "0c21fb43-2f2f-4d7d-91c6-ddd691dc7633",
   "metadata": {},
   "outputs": [],
   "source": []
  },
  {
   "cell_type": "code",
   "execution_count": 38,
   "id": "ab28e7a0-5682-4048-bfdd-2b44c0717417",
   "metadata": {},
   "outputs": [
    {
     "data": {
      "text/plain": [
       "undefined"
      ]
     },
     "execution_count": 38,
     "metadata": {},
     "output_type": "execute_result"
    }
   ],
   "source": [
    "let myNumber2: number = null;      // 가능\n",
    "let myString2: string = undefined; // 가능\n",
    "\n",
    "let myAnyType2: any = null;        // 가능\n",
    "let myNumberOrUndefined2: number | undefined = 42; // 가능"
   ]
  },
  {
   "cell_type": "code",
   "execution_count": null,
   "id": "1103ff69-87ee-473e-a4eb-68cb5ccbd168",
   "metadata": {},
   "outputs": [],
   "source": []
  }
 ],
 "metadata": {
  "kernelspec": {
   "display_name": "Typescript 4.9",
   "language": "typescript",
   "name": "typescript"
  },
  "language_info": {
   "file_extension": ".ts",
   "mimetype": "application/x-typescript",
   "name": "typescript",
   "version": "4.9.5"
  }
 },
 "nbformat": 4,
 "nbformat_minor": 5
}
