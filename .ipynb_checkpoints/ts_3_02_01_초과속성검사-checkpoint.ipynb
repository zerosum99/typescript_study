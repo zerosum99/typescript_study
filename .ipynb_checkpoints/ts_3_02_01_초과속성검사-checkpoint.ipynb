{
 "cells": [
  {
   "cell_type": "code",
   "execution_count": null,
   "id": "e78e4ffa-248d-4df2-bdd5-d636a8d36495",
   "metadata": {},
   "outputs": [],
   "source": []
  },
  {
   "cell_type": "markdown",
   "id": "a60a59b3-52ef-40ea-9ff8-17c91fc0871b",
   "metadata": {},
   "source": [
    "## 타입 추론(Type Inference)\n",
    "-  타입 추론이란 타입스크립트가 코드를 해석해 나가는 동작을 의미합니다"
   ]
  },
  {
   "cell_type": "markdown",
   "id": "2932d73a-9ee8-4252-a531-7cbcf31de54b",
   "metadata": {},
   "source": [
    "## 1. 변수에 초기값을 할당하면 타입을 추론"
   ]
  },
  {
   "cell_type": "code",
   "execution_count": 1,
   "id": "df497188-a929-46bd-8e20-4bbb0c1133df",
   "metadata": {},
   "outputs": [
    {
     "name": "stdout",
     "output_type": "stream",
     "text": [
      "number\n"
     ]
    },
    {
     "data": {
      "text/plain": [
       "undefined"
      ]
     },
     "execution_count": 1,
     "metadata": {},
     "output_type": "execute_result"
    }
   ],
   "source": [
    "{ \n",
    "    let varA = 100;\n",
    "\n",
    "    console.log(typeof varA);\n",
    "}"
   ]
  },
  {
   "cell_type": "markdown",
   "id": "4404ad5d-c6e6-4894-85c9-e00317ae1b2e",
   "metadata": {},
   "source": [
    "## 1-1. 가장 적절한 타입(Best Common Type)\n",
    "\n",
    "-  그 표현식을 이용하여 가장 근접한 타입을 추론하게 되는데 이 가장 근접한 타입"
   ]
  },
  {
   "cell_type": "code",
   "execution_count": 2,
   "id": "c8ababf3-7b13-48b6-981d-92ab38b14331",
   "metadata": {},
   "outputs": [
    {
     "data": {
      "text/plain": [
       "undefined"
      ]
     },
     "execution_count": 2,
     "metadata": {},
     "output_type": "execute_result"
    }
   ],
   "source": [
    "let arr = [0, 1, null];"
   ]
  },
  {
   "cell_type": "code",
   "execution_count": 3,
   "id": "6109e87a-71e5-4b2f-bea6-838dc2dc3a1d",
   "metadata": {},
   "outputs": [
    {
     "data": {
      "text/plain": [
       "'object'"
      ]
     },
     "execution_count": 3,
     "metadata": {},
     "output_type": "execute_result"
    }
   ],
   "source": [
    "typeof arr"
   ]
  },
  {
   "cell_type": "code",
   "execution_count": null,
   "id": "7284f824-dd2a-4f8e-9717-2a6e2f16450c",
   "metadata": {},
   "outputs": [],
   "source": []
  },
  {
   "cell_type": "markdown",
   "id": "b9d63481-2d9a-4da0-b570-3bb403c322f1",
   "metadata": {},
   "source": [
    "## 1-2. 문맥상의 타이핑(Contextual Typing)\n",
    "- 타입스크립트에서 타입을 추론하는 또 하나의 방식은 바로 문맥상으로 타입을 결정하는 것입니다.\n",
    "- 이 문맥상의 타이핑(타입 결정)은 코드의 위치(문맥)를 기준으로 일어납니다."
   ]
  },
  {
   "cell_type": "code",
   "execution_count": 4,
   "id": "5ee7bc67-e011-47e9-8cf5-d84c801a0312",
   "metadata": {},
   "outputs": [
    {
     "data": {
      "text/plain": [
       "undefined"
      ]
     },
     "execution_count": 4,
     "metadata": {},
     "output_type": "execute_result"
    }
   ],
   "source": [
    "const handler = function(uiEvent) {\n",
    "  console.log(uiEvent.button);          //<- OK\n",
    "}"
   ]
  },
  {
   "cell_type": "code",
   "execution_count": null,
   "id": "888416c1-42b9-4835-82b6-39e3e0611559",
   "metadata": {},
   "outputs": [],
   "source": []
  },
  {
   "cell_type": "code",
   "execution_count": null,
   "id": "0ead57a7-2a28-4796-8755-6c3112ee4a86",
   "metadata": {},
   "outputs": [],
   "source": []
  },
  {
   "cell_type": "code",
   "execution_count": null,
   "id": "39e27f2f-6fc5-423b-ac0d-08bbd9df42b3",
   "metadata": {},
   "outputs": [],
   "source": []
  }
 ],
 "metadata": {
  "kernelspec": {
   "display_name": "Typescript 4.9",
   "language": "typescript",
   "name": "typescript"
  },
  "language_info": {
   "file_extension": ".ts",
   "mimetype": "application/x-typescript",
   "name": "typescript",
   "version": "4.9.5"
  }
 },
 "nbformat": 4,
 "nbformat_minor": 5
}
