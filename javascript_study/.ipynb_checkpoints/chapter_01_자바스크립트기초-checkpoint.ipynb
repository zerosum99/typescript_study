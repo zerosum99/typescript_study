{
 "cells": [
  {
   "cell_type": "code",
   "execution_count": null,
   "id": "46541e11-86df-4f0c-9592-2b0bf6ba4f25",
   "metadata": {},
   "outputs": [],
   "source": []
  },
  {
   "cell_type": "code",
   "execution_count": 1,
   "id": "b04340b3-38ba-40e4-9dbd-cfeb64e0dac9",
   "metadata": {},
   "outputs": [
    {
     "data": {
      "text/plain": [
       "undefined"
      ]
     },
     "execution_count": 1,
     "metadata": {},
     "output_type": "execute_result"
    }
   ],
   "source": [
    "function print(args) {\n",
    "    console.log(args);\n",
    "}"
   ]
  },
  {
   "cell_type": "markdown",
   "id": "35d01163-141a-43c7-84c7-658f402604fa",
   "metadata": {},
   "source": [
    "## 1. 변수\n",
    "\n",
    "-  변경될 수 있는 값을 저장하는 것일까? \n",
    "- 아니면  어떤 값을 가리킬 때 사용한 는 것일까?\n",
    "- 결론은 메모리를 재사용하기 위해 지정하는 것 "
   ]
  },
  {
   "cell_type": "code",
   "execution_count": 2,
   "id": "68545b03-78f3-433d-a401-21b46b882ea0",
   "metadata": {},
   "outputs": [
    {
     "name": "stdout",
     "output_type": "stream",
     "text": [
      "25\n"
     ]
    },
    {
     "data": {
      "text/plain": [
       "undefined"
      ]
     },
     "execution_count": 2,
     "metadata": {},
     "output_type": "execute_result"
    }
   ],
   "source": [
    "let age = 25;\n",
    "\n",
    "print(age);"
   ]
  },
  {
   "cell_type": "code",
   "execution_count": null,
   "id": "b1a2c31e-9e29-418c-815c-14808a3d877b",
   "metadata": {},
   "outputs": [],
   "source": []
  },
  {
   "cell_type": "markdown",
   "id": "5f40044c-5e9d-4df0-bb59-bd7bbdb8e2e6",
   "metadata": {},
   "source": [
    "### 1-1 자바스크립트는 변수를 자동 초기화 처리함"
   ]
  },
  {
   "cell_type": "code",
   "execution_count": 3,
   "id": "777b5c87-16de-4725-9041-7d364fbfe704",
   "metadata": {},
   "outputs": [
    {
     "name": "stdout",
     "output_type": "stream",
     "text": [
      "초기값처리 : undefined\n",
      "할당값처리 : js\n"
     ]
    },
    {
     "data": {
      "text/plain": [
       "undefined"
      ]
     },
     "execution_count": 3,
     "metadata": {},
     "output_type": "execute_result"
    }
   ],
   "source": [
    "{ \n",
    "    let name;\n",
    "\n",
    "    print(\"초기값처리 : \" + name);\n",
    "    name = \"js\";\n",
    "\n",
    "    print(\"할당값처리 : \" + name);\n",
    "}"
   ]
  },
  {
   "cell_type": "code",
   "execution_count": null,
   "id": "46338935-dad3-48b1-b151-4a9a69b34b4d",
   "metadata": {},
   "outputs": [],
   "source": []
  },
  {
   "cell_type": "markdown",
   "id": "0f8d670f-9f3d-49d4-ac29-a63123915333",
   "metadata": {},
   "source": [
    "## 1-2. 변수 새도우잉\n",
    "\n",
    "- 동일한 이름으로 변수를 정의 가능\n",
    "\n",
    "- 타입스크립트에서는 변수에 타입을 체크하므로 다른 타입으로 처리할 수 없다 "
   ]
  },
  {
   "cell_type": "code",
   "execution_count": 4,
   "id": "a357d7b7-28bd-4ee9-917a-ab5c6a4b5f06",
   "metadata": {},
   "outputs": [
    {
     "data": {
      "text/plain": [
       "undefined"
      ]
     },
     "execution_count": 4,
     "metadata": {},
     "output_type": "execute_result"
    }
   ],
   "source": [
    "var gender = 1;\n",
    "\n",
    "var gender = 2;"
   ]
  },
  {
   "cell_type": "code",
   "execution_count": null,
   "id": "287a4273-60ca-4de2-b38a-303589ee6ed2",
   "metadata": {},
   "outputs": [],
   "source": []
  },
  {
   "cell_type": "markdown",
   "id": "a1b15a74-a5a5-4b0d-8d5e-c4d9f8df04f6",
   "metadata": {},
   "source": [
    "## 1-3. 변수의 종류 \n",
    "- 자바스크립트는 함수 스코프와 블럭 스코프 처리를 위한 두 가지 변수 예약어가 있음\n",
    "\n",
    "-  함수 스코프 변수 : var\n",
    "-  블럭 스코프 변수 : let"
   ]
  },
  {
   "cell_type": "markdown",
   "id": "92d54321-4b99-42c6-9b86-3e926b046140",
   "metadata": {},
   "source": [
    "### 함수 스코프 변수\n",
    "\n",
    "- 함수 내부(지역)와 함수 외부(전역)으로 변수를 유효범위를 가진다. 이를 함수 스코프라고 함"
   ]
  },
  {
   "cell_type": "code",
   "execution_count": 5,
   "id": "c482884e-77cb-4f56-9752-dd867c0202b3",
   "metadata": {},
   "outputs": [
    {
     "name": "stdout",
     "output_type": "stream",
     "text": [
      "1077\n"
     ]
    },
    {
     "data": {
      "text/plain": [
       "undefined"
      ]
     },
     "execution_count": 5,
     "metadata": {},
     "output_type": "execute_result"
    }
   ],
   "source": [
    "var 변수명 = 300;\n",
    "\n",
    "function add(x,y) {\n",
    "    var 변수명 = 777;\n",
    "    return x+y + 변수명;\n",
    "}\n",
    "\n",
    "print(add(100,200))"
   ]
  },
  {
   "cell_type": "code",
   "execution_count": null,
   "id": "0dfac07a-cb81-4d82-ae94-e3ad11560a31",
   "metadata": {},
   "outputs": [],
   "source": []
  },
  {
   "cell_type": "markdown",
   "id": "a411846e-fd90-45ae-bb68-0bcd7ff3b0ee",
   "metadata": {},
   "source": [
    "### 블럭 스코프 변수 \n",
    "\n",
    "- 블럭인 { } 내에 정의된 지역변수 "
   ]
  },
  {
   "cell_type": "code",
   "execution_count": 6,
   "id": "ba03f8cb-a58c-4289-a559-126bc8f21ebe",
   "metadata": {},
   "outputs": [
    {
     "data": {
      "text/plain": [
       "undefined"
      ]
     },
     "execution_count": 6,
     "metadata": {},
     "output_type": "execute_result"
    }
   ],
   "source": [
    "let age1 = 777;\n",
    "{ \n",
    "    let age1 = 100;\n",
    "    let name1 = 300;\n",
    "\n",
    "}"
   ]
  },
  {
   "cell_type": "code",
   "execution_count": null,
   "id": "8cd7bc23-5454-431f-a225-032cb44f2827",
   "metadata": {},
   "outputs": [],
   "source": []
  },
  {
   "cell_type": "markdown",
   "id": "aa53604b-6d22-417a-a740-2bdc1344017e",
   "metadata": {},
   "source": [
    "## 1-4. 상수\n",
    "\n",
    "- 변수처럼 이름을 가진 저장공간이지만 한번 할당된 값은 변경이 불가\n",
    "- 예약어는 const를 지정한다\n",
    "- const도 함수 스코프에 따라 지정해서 처리 가능\n",
    "- 상수는 정의한 함께 초기값을 할당을 처리해야 함 "
   ]
  },
  {
   "cell_type": "code",
   "execution_count": null,
   "id": "fb2d019b-fc2e-49cb-bd56-a43ca7265c4c",
   "metadata": {},
   "outputs": [],
   "source": []
  },
  {
   "cell_type": "code",
   "execution_count": 7,
   "id": "7ee688cf-49cc-4757-8aef-cf63f4e94555",
   "metadata": {},
   "outputs": [
    {
     "data": {
      "text/plain": [
       "undefined"
      ]
     },
     "execution_count": 7,
     "metadata": {},
     "output_type": "execute_result"
    }
   ],
   "source": [
    "const int = 300;\n",
    "function conInt() { \n",
    "   const int = 500;\n",
    "}"
   ]
  },
  {
   "cell_type": "code",
   "execution_count": null,
   "id": "28505ce0-da19-470b-8159-428288597676",
   "metadata": {},
   "outputs": [],
   "source": []
  },
  {
   "cell_type": "markdown",
   "id": "80c20494-8ca4-4b94-936a-b26e82fe5011",
   "metadata": {},
   "source": [
    "## 1-5. 명명규칙\n",
    "\n",
    "- 특수 기호 사용 : _, $ 만 사용가능\n",
    "- 숫자는  변수나 상수명의 첫 문자를 제외한 곳에 사용이 가능하다\n",
    "- 예약어는 변수로 사용금지\n",
    "- 대소문자 구별\n",
    "- 좋은 변수 이름은 현재 개발에 맞는 의미를 가진 단어를 사용\n",
    "  \n",
    "### 상수 명명규칙\n",
    "- 상수는 전체를 대문자로 사용\n",
    "- 여러 단어를 사용할 경우는 단어사이를 _ 표시해서 사용(스테이크 표기법)\n",
    "### 변수 명명규칙\n",
    "- 첫글자를 소문자 사용\n",
    "- 스네이크 표기법일 경우 전체를 소문자로 사용하고 단어사이에 _를 넣는다.\n",
    "- 카멜 표기법은 단어와 단어를 붙여서 쓰지만 다음 단어부터는 첫글자를 대문자로 사용한다 "
   ]
  },
  {
   "cell_type": "code",
   "execution_count": 9,
   "id": "3d89d38b-26a3-4d73-9057-b695338ee0a0",
   "metadata": {},
   "outputs": [
    {
     "data": {
      "text/plain": [
       "undefined"
      ]
     },
     "execution_count": 9,
     "metadata": {},
     "output_type": "execute_result"
    }
   ],
   "source": [
    "var $age;\n",
    "var _age;\n",
    "\n",
    "const $ABC = 100;\n",
    "const  _ABC =200;"
   ]
  },
  {
   "cell_type": "code",
   "execution_count": null,
   "id": "1599ff96-cdf3-4450-8443-e8c5de8fdcec",
   "metadata": {},
   "outputs": [],
   "source": []
  },
  {
   "cell_type": "markdown",
   "id": "f0475c78-f905-4a53-8d4d-21841cad8e5a",
   "metadata": {},
   "source": [
    "# 2. 자료형 \n",
    "\n",
    "- 프로그램 언어에서 관리하는 값에 대한 분류 \n",
    "- 자료형의 종류 :  원시 자료형과 객체 자료형\n",
    "- 원시자료형 : 숫자, 문자열, 블리언, null, undefined \n",
    "- 객체자료형 : Object, 배열, 함수, 정규표현식 "
   ]
  },
  {
   "cell_type": "code",
   "execution_count": null,
   "id": "6fe69e80-659f-499e-ac53-709ef982249a",
   "metadata": {},
   "outputs": [],
   "source": []
  },
  {
   "cell_type": "markdown",
   "id": "658adc13-332d-4fdc-a6b0-54488d9c05c9",
   "metadata": {},
   "source": [
    "## 2-1 숫자 자료형 \n",
    "\n",
    "- 정수와 실수를 통합한 number로 관리\n",
    "- 보통 8바이트로 float로 관리 "
   ]
  },
  {
   "cell_type": "markdown",
   "id": "d86b83ea-e77b-4dac-931e-1598123bbb5f",
   "metadata": {},
   "source": [
    "## 사직연산 처리 "
   ]
  },
  {
   "cell_type": "code",
   "execution_count": 10,
   "id": "1c861405-2cf0-4049-9d64-0e57d709296d",
   "metadata": {},
   "outputs": [
    {
     "name": "stdout",
     "output_type": "stream",
     "text": [
      "3\n",
      "-1\n",
      "2\n",
      "0.5\n",
      "1\n"
     ]
    },
    {
     "data": {
      "text/plain": [
       "undefined"
      ]
     },
     "execution_count": 10,
     "metadata": {},
     "output_type": "execute_result"
    }
   ],
   "source": [
    "print(1 + 2 );\n",
    "print(1 - 2 );\n",
    "print(1 * 2 );\n",
    "print(1 / 2 );\n",
    "print(1 % 2 );"
   ]
  },
  {
   "cell_type": "markdown",
   "id": "e686e2d8-0b86-40b4-bb4e-f5d0f0572919",
   "metadata": {},
   "source": [
    "## 실수형이므로 무한대와 숫자가 아닌 값 처리 \n",
    "\n",
    "- 무한대 처리\n",
    "- NaN(Not a Number) 처리"
   ]
  },
  {
   "cell_type": "code",
   "execution_count": 11,
   "id": "3fb89989-6ee4-4818-8fd6-657f8b5c13c1",
   "metadata": {},
   "outputs": [
    {
     "data": {
      "text/plain": [
       "undefined"
      ]
     },
     "execution_count": 11,
     "metadata": {},
     "output_type": "execute_result"
    }
   ],
   "source": [
    "let inf = Infinity;\n",
    "let mInf = -Infinity;\n",
    "let nan = NaN;"
   ]
  },
  {
   "cell_type": "markdown",
   "id": "b7437767-ff57-4155-8d1a-c546d53b57de",
   "metadata": {},
   "source": [
    "### 무한대 처리 예시"
   ]
  },
  {
   "cell_type": "code",
   "execution_count": 12,
   "id": "d4480403-a9a0-4120-be46-064935b49166",
   "metadata": {},
   "outputs": [
    {
     "name": "stdout",
     "output_type": "stream",
     "text": [
      "Infinity\n"
     ]
    },
    {
     "data": {
      "text/plain": [
       "undefined"
      ]
     },
     "execution_count": 12,
     "metadata": {},
     "output_type": "execute_result"
    }
   ],
   "source": [
    "print(1/0);"
   ]
  },
  {
   "cell_type": "markdown",
   "id": "78f88cfb-8dfa-4356-91b8-53b2ec95fed8",
   "metadata": {},
   "source": [
    "### 타입스크립트에서는 타입을 체크해서 Not a Number 처리가 안됨 "
   ]
  },
  {
   "cell_type": "code",
   "execution_count": 14,
   "id": "f933ec9c-fefd-4a08-bbbb-f6bf47b73001",
   "metadata": {},
   "outputs": [
    {
     "ename": "Error",
     "evalue": "Line 1, Character 12\nprint( 1 / \"hello\");\n___________^\nTS2363: The right-hand side of an arithmetic operation must be of type 'any', 'number', 'bigint' or an enum type.",
     "execution_count": 14,
     "output_type": "error",
     "traceback": [
      "Error: Line 1, Character 12",
      "print( 1 / \"hello\");",
      "___________^",
      "TS2363: The right-hand side of an arithmetic operation must be of type 'any', 'number', 'bigint' or an enum type.",
      "    at execTranspile (/usr/local/lib/node_modules/itypescript/lib/kernel.js:229:23)",
      "    at Session.transpiler [as transpile] (/usr/local/lib/node_modules/itypescript/lib/kernel.js:288:35)",
      "    at Session._runNow (/usr/local/lib/node_modules/itypescript/node_modules/nel/lib/nel.js:835:39)",
      "    at Session._run (/usr/local/lib/node_modules/itypescript/node_modules/nel/lib/nel.js:786:14)",
      "    at Session.execute (/usr/local/lib/node_modules/itypescript/node_modules/nel/lib/nel.js:929:10)",
      "    at Kernel.execute_request (/usr/local/lib/node_modules/itypescript/node_modules/jp-kernel/lib/handlers_v5.js:116:18)",
      "    at Kernel.onShellMessage (/usr/local/lib/node_modules/itypescript/node_modules/jp-kernel/lib/jp-kernel.js:285:41)",
      "    at Socket.<anonymous> (/usr/local/lib/node_modules/itypescript/node_modules/jmp/index.js:350:17)",
      "    at Socket.emit (node:events:513:28)",
      "    at Socket._emitMessage (/usr/local/lib/node_modules/itypescript/node_modules/zeromq/lib/index.js:649:15)"
     ]
    }
   ],
   "source": [
    "print( 1 / \"hello\");"
   ]
  },
  {
   "cell_type": "code",
   "execution_count": null,
   "id": "4e3c5433-3428-4d37-8339-08b63e04ccf1",
   "metadata": {},
   "outputs": [],
   "source": []
  },
  {
   "cell_type": "code",
   "execution_count": null,
   "id": "eaa5b994-c74e-4518-819a-adfd91114931",
   "metadata": {},
   "outputs": [],
   "source": []
  },
  {
   "cell_type": "markdown",
   "id": "98893366-1a82-4fd3-936a-f1e869378b65",
   "metadata": {},
   "source": [
    "## 2-2 문자열\n",
    "\n",
    "- 문자들을 처리하는 자료형 "
   ]
  },
  {
   "cell_type": "code",
   "execution_count": null,
   "id": "44576fad-07b5-42ed-bfce-cfea798cd78b",
   "metadata": {},
   "outputs": [],
   "source": []
  },
  {
   "cell_type": "code",
   "execution_count": 16,
   "id": "e1fb764e-e7f5-4c7b-91f9-37262835444c",
   "metadata": {},
   "outputs": [
    {
     "data": {
      "text/plain": [
       "undefined"
      ]
     },
     "execution_count": 16,
     "metadata": {},
     "output_type": "execute_result"
    }
   ],
   "source": [
    "{\n",
    "    let name = \"타입스크립트\";\n",
    "\n",
    "    print(name):\n",
    "\n",
    "}"
   ]
  },
  {
   "cell_type": "code",
   "execution_count": null,
   "id": "f46f6d2b-985c-4624-a940-da05db8560da",
   "metadata": {},
   "outputs": [],
   "source": []
  }
 ],
 "metadata": {
  "kernelspec": {
   "display_name": "Typescript 4.9",
   "language": "typescript",
   "name": "typescript"
  },
  "language_info": {
   "file_extension": ".ts",
   "mimetype": "application/x-typescript",
   "name": "typescript",
   "version": "4.9.5"
  }
 },
 "nbformat": 4,
 "nbformat_minor": 5
}
