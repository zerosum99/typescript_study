{
 "cells": [
  {
   "cell_type": "code",
   "execution_count": null,
   "id": "46541e11-86df-4f0c-9592-2b0bf6ba4f25",
   "metadata": {},
   "outputs": [],
   "source": []
  },
  {
   "cell_type": "code",
   "execution_count": 1,
   "id": "b04340b3-38ba-40e4-9dbd-cfeb64e0dac9",
   "metadata": {},
   "outputs": [
    {
     "data": {
      "text/plain": [
       "undefined"
      ]
     },
     "execution_count": 1,
     "metadata": {},
     "output_type": "execute_result"
    }
   ],
   "source": [
    "function print(args) {\n",
    "    console.log(args);\n",
    "}"
   ]
  },
  {
   "cell_type": "markdown",
   "id": "35d01163-141a-43c7-84c7-658f402604fa",
   "metadata": {},
   "source": [
    "## 변수\n",
    "\n",
    "-  변경될 수 있는 값을 저장하는 것일까? \n",
    "- 아니면  어떤 값을 가리킬 때 사용한 는 것일까?\n",
    "- 결론은 메모리를 재사용하기 위해 지정하는 것 "
   ]
  },
  {
   "cell_type": "code",
   "execution_count": 2,
   "id": "68545b03-78f3-433d-a401-21b46b882ea0",
   "metadata": {},
   "outputs": [
    {
     "name": "stdout",
     "output_type": "stream",
     "text": [
      "25\n"
     ]
    },
    {
     "data": {
      "text/plain": [
       "undefined"
      ]
     },
     "execution_count": 2,
     "metadata": {},
     "output_type": "execute_result"
    }
   ],
   "source": [
    "let age = 25;\n",
    "\n",
    "print(age);"
   ]
  },
  {
   "cell_type": "code",
   "execution_count": null,
   "id": "b1a2c31e-9e29-418c-815c-14808a3d877b",
   "metadata": {},
   "outputs": [],
   "source": []
  },
  {
   "cell_type": "markdown",
   "id": "5f40044c-5e9d-4df0-bb59-bd7bbdb8e2e6",
   "metadata": {},
   "source": [
    "### 자바스크립트는 변수를 자동 초기화 처리함"
   ]
  },
  {
   "cell_type": "code",
   "execution_count": 6,
   "id": "777b5c87-16de-4725-9041-7d364fbfe704",
   "metadata": {},
   "outputs": [
    {
     "name": "stdout",
     "output_type": "stream",
     "text": [
      "초기값처리 : undefined\n",
      "할당값처리 : js\n"
     ]
    },
    {
     "data": {
      "text/plain": [
       "undefined"
      ]
     },
     "execution_count": 6,
     "metadata": {},
     "output_type": "execute_result"
    }
   ],
   "source": [
    "{ \n",
    "    let name;\n",
    "\n",
    "    print(\"초기값처리 : \" + name);\n",
    "    name = \"js\";\n",
    "\n",
    "    print(\"할당값처리 : \" + name);\n",
    "}"
   ]
  },
  {
   "cell_type": "code",
   "execution_count": null,
   "id": "46338935-dad3-48b1-b151-4a9a69b34b4d",
   "metadata": {},
   "outputs": [],
   "source": []
  },
  {
   "cell_type": "markdown",
   "id": "0f8d670f-9f3d-49d4-ac29-a63123915333",
   "metadata": {},
   "source": [
    "## 변수 새도우잉\n",
    "\n",
    "- 동일한 이름으로 변수를 정의 가능\n",
    "\n",
    "- 타입스크립트에서는 변수에 타입을 체크하므로 다른 타입으로 처리할 수 없다 "
   ]
  },
  {
   "cell_type": "code",
   "execution_count": 8,
   "id": "a357d7b7-28bd-4ee9-917a-ab5c6a4b5f06",
   "metadata": {},
   "outputs": [
    {
     "data": {
      "text/plain": [
       "undefined"
      ]
     },
     "execution_count": 8,
     "metadata": {},
     "output_type": "execute_result"
    }
   ],
   "source": [
    "var gender = 1;\n",
    "\n",
    "var gender = 2;"
   ]
  },
  {
   "cell_type": "code",
   "execution_count": null,
   "id": "287a4273-60ca-4de2-b38a-303589ee6ed2",
   "metadata": {},
   "outputs": [],
   "source": []
  },
  {
   "cell_type": "markdown",
   "id": "a1b15a74-a5a5-4b0d-8d5e-c4d9f8df04f6",
   "metadata": {},
   "source": [
    "## 변수의 종류 \n",
    "- 자바스크립트는 함수 스코프와 블럭 스코프 처리를 위한 두 가지 변수 예약어가 있음\n",
    "\n",
    "-  함수 스코프 변수 : var\n",
    "-  블럭 스코프 변수 : let"
   ]
  },
  {
   "cell_type": "markdown",
   "id": "92d54321-4b99-42c6-9b86-3e926b046140",
   "metadata": {},
   "source": [
    "### 함수 스코프 변수\n",
    "\n",
    "- 함수 내부(지역)와 함수 외부(전역)으로 변수를 유효범위를 가진다. 이를 함수 스코프라고 함"
   ]
  },
  {
   "cell_type": "code",
   "execution_count": 9,
   "id": "c482884e-77cb-4f56-9752-dd867c0202b3",
   "metadata": {},
   "outputs": [
    {
     "name": "stdout",
     "output_type": "stream",
     "text": [
      "1077\n"
     ]
    },
    {
     "data": {
      "text/plain": [
       "undefined"
      ]
     },
     "execution_count": 9,
     "metadata": {},
     "output_type": "execute_result"
    }
   ],
   "source": [
    "var 변수명 = 300;\n",
    "\n",
    "function add(x,y) {\n",
    "    var 변수명 = 777;\n",
    "    return x+y + 변수명;\n",
    "}\n",
    "\n",
    "print(add(100,200))"
   ]
  },
  {
   "cell_type": "code",
   "execution_count": null,
   "id": "0dfac07a-cb81-4d82-ae94-e3ad11560a31",
   "metadata": {},
   "outputs": [],
   "source": []
  },
  {
   "cell_type": "code",
   "execution_count": null,
   "id": "60523022-cf99-42ed-9573-3b2a077228a3",
   "metadata": {},
   "outputs": [],
   "source": []
  }
 ],
 "metadata": {
  "kernelspec": {
   "display_name": "Typescript 4.9",
   "language": "typescript",
   "name": "typescript"
  },
  "language_info": {
   "file_extension": ".ts",
   "mimetype": "application/x-typescript",
   "name": "typescript",
   "version": "4.9.5"
  }
 },
 "nbformat": 4,
 "nbformat_minor": 5
}
