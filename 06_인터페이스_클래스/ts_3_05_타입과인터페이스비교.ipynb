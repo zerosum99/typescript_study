{
 "cells": [
  {
   "cell_type": "code",
   "execution_count": null,
   "id": "04a2bcfd-3344-4523-87d5-7b4acc7dd29a",
   "metadata": {},
   "outputs": [],
   "source": []
  },
  {
   "cell_type": "markdown",
   "id": "2d5591d1-1223-4d17-afbc-fc0174f34cb6",
   "metadata": {},
   "source": [
    "## 타입과 인터페이스 차이 \n",
    "\n",
    "###  interface 의 용도가 더욱 명확하다.\n",
    "- 오브젝트의 모양을 정한다.\n",
    "- type 은 용도가 많아 더 다양하게 사용될 수 있다.\n",
    "### interface 는 상대적으로 더 변화에 열려있다.\n",
    "- extends 를 이용해 확장도 가능하고, 중복 정의를 통해 프로퍼티를 늘려갈 수도 있다.\n",
    "- type 은 & 기호를 이용해 intersections 를 이용해 확장이 가능하지만, 한번 정의하면 새로운 프로퍼티를 추가하긴 어렵다."
   ]
  },
  {
   "cell_type": "markdown",
   "id": "72fbab84-91fe-455f-961d-824e47312ecf",
   "metadata": {},
   "source": [
    "## type 과 interface 중 어떤 것을 써야 할까?\n",
    "- 타입스크립트에서 좋은 설계는 최대한 좁은 타입을 쓰는 것이다. 즉, any 를 사용하지 않는 것과 같다. \n",
    "- interface 로 해결될 문제면 더 좁은 타입에 속하는 interface 를 쓰자."
   ]
  },
  {
   "cell_type": "code",
   "execution_count": null,
   "id": "e9274df3-35e6-496e-9239-88f8da7ecb56",
   "metadata": {},
   "outputs": [],
   "source": []
  },
  {
   "cell_type": "markdown",
   "id": "f2fe11dd-2468-4a42-8f73-c7e2b5d76103",
   "metadata": {},
   "source": [
    "# 1. 타입 "
   ]
  },
  {
   "cell_type": "code",
   "execution_count": 1,
   "id": "9e05180d-bf34-4413-91f4-968e6aa852a0",
   "metadata": {},
   "outputs": [
    {
     "data": {
      "text/plain": [
       "'use strict'"
      ]
     },
     "execution_count": 1,
     "metadata": {},
     "output_type": "execute_result"
    }
   ],
   "source": [
    "type User = {\n",
    "  nickname: string;\n",
    "  realname: string;\n",
    "  age: number;\n",
    "};\n",
    "\n",
    "const jake: User = {\n",
    "  nickname: \"jake\",\n",
    "  realname: \"jinkyu\",\n",
    "  age: 20,\n",
    "};"
   ]
  },
  {
   "cell_type": "markdown",
   "id": "25f7e0ce-bfdf-40cc-82f2-181c2dde61dd",
   "metadata": {},
   "source": [
    "### 단일 타입 정의 "
   ]
  },
  {
   "cell_type": "code",
   "execution_count": null,
   "id": "55c87221-e1d4-4f73-8ffc-e602cbd24459",
   "metadata": {},
   "outputs": [],
   "source": [
    "type Food = string;\n",
    "\n",
    "const kimchi: Food = \"kimchi\";"
   ]
  },
  {
   "cell_type": "code",
   "execution_count": null,
   "id": "be3cdc96-5090-4ec8-b329-38ad8df0d767",
   "metadata": {},
   "outputs": [],
   "source": []
  },
  {
   "cell_type": "markdown",
   "id": "47c24a7b-7b76-4f51-bbb3-8f40f72006b8",
   "metadata": {},
   "source": [
    "### 리터럴 타입 정의 "
   ]
  },
  {
   "cell_type": "code",
   "execution_count": 2,
   "id": "8dcd99c5-222a-4741-868f-92ba0e23263d",
   "metadata": {},
   "outputs": [
    {
     "data": {
      "text/plain": [
       "undefined"
      ]
     },
     "execution_count": 2,
     "metadata": {},
     "output_type": "execute_result"
    }
   ],
   "source": [
    "type Team = \"RED\" | \"BLUE\";\n",
    "\n",
    "type Player = {\n",
    "  team: Team;\n",
    "};\n",
    "\n",
    "const jack: Player = {\n",
    "  team: \"RED\",\n",
    "};"
   ]
  },
  {
   "cell_type": "code",
   "execution_count": null,
   "id": "cea79dcf-df97-4c9f-8ece-5f2c4a481c58",
   "metadata": {},
   "outputs": [],
   "source": []
  },
  {
   "cell_type": "markdown",
   "id": "07af2a9e-5968-47e1-8e6d-468e8c4769a6",
   "metadata": {},
   "source": [
    "### 타입 확장 \n",
    "\n",
    "- 인터섹션으로 타입을 확장 가능"
   ]
  },
  {
   "cell_type": "code",
   "execution_count": 3,
   "id": "0ed8d29a-5f46-45e0-ab07-92c44ddddf36",
   "metadata": {},
   "outputs": [
    {
     "data": {
      "text/plain": [
       "true"
      ]
     },
     "execution_count": 3,
     "metadata": {},
     "output_type": "execute_result"
    }
   ],
   "source": [
    "type Animal = {\n",
    "  name: string;\n",
    "};\n",
    "\n",
    "type Bear = Animal & {\n",
    "  honey: boolean;\n",
    "};\n",
    "\n",
    "const bear: Bear = {\n",
    "  name: \"foo\",\n",
    "  honey: true,\n",
    "};\n",
    "\n",
    "bear.name;\n",
    "bear.honey;"
   ]
  },
  {
   "cell_type": "markdown",
   "id": "28ed62c0-de16-442d-9e84-09b2f7ab4ae7",
   "metadata": {},
   "source": [
    "### 클래스와 사용 "
   ]
  },
  {
   "cell_type": "code",
   "execution_count": 6,
   "id": "603f80c9-ee12-4478-b5cc-aeec1d483371",
   "metadata": {},
   "outputs": [
    {
     "data": {
      "text/plain": [
       "undefined"
      ]
     },
     "execution_count": 6,
     "metadata": {},
     "output_type": "execute_result"
    }
   ],
   "source": [
    "type User11 = {\n",
    "  firstName: string;\n",
    "  lastName: string;\n",
    "  sayHi(name: string): string;\n",
    "  fullName(): string;\n",
    "};\n",
    "\n",
    "class Player11 implements User11 {\n",
    "  constructor(public firstName: string, public lastName: string) {}\n",
    "\n",
    "  sayHi(name: string) {\n",
    "    return \"\";\n",
    "  }\n",
    "\n",
    "  fullName() {\n",
    "    return \"\";\n",
    "  }\n",
    "}"
   ]
  },
  {
   "cell_type": "code",
   "execution_count": null,
   "id": "25bee54d-1c06-485e-8ee7-ab74822dd1eb",
   "metadata": {},
   "outputs": [],
   "source": []
  },
  {
   "cell_type": "markdown",
   "id": "daf75a78-4dbb-4ab2-a0af-7ff246f59b57",
   "metadata": {},
   "source": [
    "# 2. 인터페이스 "
   ]
  },
  {
   "cell_type": "code",
   "execution_count": null,
   "id": "408baf06-b744-4e1a-a24e-66dd8231bdbd",
   "metadata": {},
   "outputs": [],
   "source": []
  },
  {
   "cell_type": "markdown",
   "id": "e7715aa1-750c-495e-86a1-d31171d8983c",
   "metadata": {},
   "source": [
    "### 인터페이스 정의 "
   ]
  },
  {
   "cell_type": "code",
   "execution_count": 10,
   "id": "bb29cf59-db28-4965-aef9-a78abb055d8f",
   "metadata": {},
   "outputs": [
    {
     "data": {
      "text/plain": [
       "undefined"
      ]
     },
     "execution_count": 10,
     "metadata": {},
     "output_type": "execute_result"
    }
   ],
   "source": [
    "interface User21 {\n",
    "  nickname: string;\n",
    "  realname: string;\n",
    "  age: number;\n",
    "}"
   ]
  },
  {
   "cell_type": "markdown",
   "id": "41442bec-811d-4561-9dae-868706682192",
   "metadata": {},
   "source": [
    "### 인터페이스 병합 "
   ]
  },
  {
   "cell_type": "code",
   "execution_count": 9,
   "id": "d130ca55-4415-4be6-b0e4-850baf536792",
   "metadata": {},
   "outputs": [
    {
     "data": {
      "text/plain": [
       "undefined"
      ]
     },
     "execution_count": 9,
     "metadata": {},
     "output_type": "execute_result"
    }
   ],
   "source": [
    "interface Animal1 {\n",
    "  kind: string;\n",
    "}\n",
    "\n",
    "interface Animal1 {\n",
    "  age: number;\n",
    "}\n",
    "\n",
    "const bear1: Animal1 = {\n",
    "  kind: \"bear\",\n",
    "  age: 10,\n",
    "};"
   ]
  },
  {
   "cell_type": "code",
   "execution_count": null,
   "id": "3277e0b1-f981-4016-a114-c14b0deeb276",
   "metadata": {},
   "outputs": [],
   "source": []
  },
  {
   "cell_type": "markdown",
   "id": "80512d29-921a-46a3-aa29-c2653dd796d3",
   "metadata": {},
   "source": [
    "### 인터페이스 상속"
   ]
  },
  {
   "cell_type": "code",
   "execution_count": 12,
   "id": "c4aca9e4-f014-4d03-aac4-3f52e6cc29f3",
   "metadata": {},
   "outputs": [
    {
     "data": {
      "text/plain": [
       "undefined"
      ]
     },
     "execution_count": 12,
     "metadata": {},
     "output_type": "execute_result"
    }
   ],
   "source": [
    "interface Animal22 {\n",
    "  kind: string;\n",
    "}\n",
    "\n",
    "interface Bear22 extends Animal22 {\n",
    "  age: number;\n",
    "}\n",
    "\n",
    "const bear22: Bear22 = {\n",
    "  kind: \"bear\",\n",
    "  age: 10,\n",
    "};"
   ]
  },
  {
   "cell_type": "markdown",
   "id": "8cd6191d-e742-4f70-b59b-bfd7ae727cf4",
   "metadata": {},
   "source": [
    "## 클래스와 함께 사용하기 "
   ]
  },
  {
   "cell_type": "code",
   "execution_count": 14,
   "id": "41ecaba5-0c66-460b-87fd-0e43c6f82812",
   "metadata": {},
   "outputs": [
    {
     "data": {
      "text/plain": [
       "undefined"
      ]
     },
     "execution_count": 14,
     "metadata": {},
     "output_type": "execute_result"
    }
   ],
   "source": [
    "interface User23 {\n",
    "  firstName: string;\n",
    "  lastName: string;\n",
    "  sayHi(name: string): string;\n",
    "  fullName(): string;\n",
    "}\n",
    "\n",
    "class Player23 implements User23 {\n",
    "  constructor(public firstName: string, public lastName: string) {}\n",
    "\n",
    "  sayHi(name: string) {\n",
    "    return \"\";\n",
    "  }\n",
    "\n",
    "  fullName() {\n",
    "    return \"\";\n",
    "  }\n",
    "}"
   ]
  },
  {
   "cell_type": "code",
   "execution_count": null,
   "id": "39dcff39-f1bb-4841-976c-e286e54345e1",
   "metadata": {},
   "outputs": [],
   "source": []
  }
 ],
 "metadata": {
  "kernelspec": {
   "display_name": "Typescript 4.9",
   "language": "typescript",
   "name": "typescript"
  },
  "language_info": {
   "file_extension": ".ts",
   "mimetype": "application/x-typescript",
   "name": "typescript",
   "version": "4.9.5"
  }
 },
 "nbformat": 4,
 "nbformat_minor": 5
}
