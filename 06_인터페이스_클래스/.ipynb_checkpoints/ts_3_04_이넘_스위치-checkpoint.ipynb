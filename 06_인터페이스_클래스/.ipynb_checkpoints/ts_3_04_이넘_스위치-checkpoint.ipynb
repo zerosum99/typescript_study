{
 "cells": [
  {
   "cell_type": "code",
   "execution_count": null,
   "id": "9a2f9f28-350e-467d-88e1-fcded9c638fb",
   "metadata": {},
   "outputs": [],
   "source": []
  },
  {
   "cell_type": "markdown",
   "id": "3d559864-6aef-4a52-b406-172364bb2e73",
   "metadata": {},
   "source": [
    "## 스위치 구문 처리 "
   ]
  },
  {
   "cell_type": "code",
   "execution_count": 2,
   "id": "db6d9be8-3e78-452a-b60d-c1cd8cb2ff81",
   "metadata": {},
   "outputs": [
    {
     "data": {
      "text/plain": [
       "undefined"
      ]
     },
     "execution_count": 2,
     "metadata": {},
     "output_type": "execute_result"
    }
   ],
   "source": [
    "// 열거형 정의\n",
    "enum Color {\n",
    "  Red,\n",
    "  Green,\n",
    "  Blue,\n",
    "  Yellow,\n",
    "}\n",
    "\n",
    "// 변수에 열거형 값 할당\n",
    "const selectedColor: Color = Color.Green;\n",
    "\n",
    "\n"
   ]
  },
  {
   "cell_type": "code",
   "execution_count": 4,
   "id": "a819756c-4086-48ed-97ab-4050acecc7fa",
   "metadata": {},
   "outputs": [
    {
     "data": {
      "text/plain": [
       "1"
      ]
     },
     "execution_count": 4,
     "metadata": {},
     "output_type": "execute_result"
    }
   ],
   "source": [
    "selectedColor"
   ]
  },
  {
   "cell_type": "code",
   "execution_count": null,
   "id": "0ab341e5-38de-4d4d-9abc-4497ac0ad680",
   "metadata": {},
   "outputs": [],
   "source": []
  },
  {
   "cell_type": "code",
   "execution_count": 6,
   "id": "0f7a76c5-08ac-4ce5-97db-3044c44bd0f2",
   "metadata": {},
   "outputs": [
    {
     "name": "stdout",
     "output_type": "stream",
     "text": [
      "Selected color is Red.\n"
     ]
    },
    {
     "data": {
      "text/plain": [
       "undefined"
      ]
     },
     "execution_count": 6,
     "metadata": {},
     "output_type": "execute_result"
    }
   ],
   "source": [
    "// switch 구문을 사용하여 열거형 값에 따라 동작 결정\n",
    "switch (selectedColor as number) {\n",
    "  case 1:\n",
    "    console.log(\"Selected color is Red.\");\n",
    "    break;\n",
    "  case 2:\n",
    "    console.log(\"Selected color is Green.\");\n",
    "    break;\n",
    "  case 3:\n",
    "    console.log(\"Selected color is Blue.\");\n",
    "    break;\n",
    "  case 4:\n",
    "    console.log(\"Selected color is Yellow.\");\n",
    "    break;\n",
    "  default:\n",
    "    console.log(\"Unknown color.\");\n",
    "}\n"
   ]
  },
  {
   "cell_type": "code",
   "execution_count": null,
   "id": "942590eb-f9a3-4011-bf85-a77a05d7adde",
   "metadata": {},
   "outputs": [],
   "source": []
  },
  {
   "cell_type": "markdown",
   "id": "5fb0e419-8b37-47f3-9506-d2214171baeb",
   "metadata": {},
   "source": [
    "## 함수로 스위치 구문 처리하기 "
   ]
  },
  {
   "cell_type": "code",
   "execution_count": 7,
   "id": "8a38f554-54c7-4f8d-81ed-d5058b5e0d0c",
   "metadata": {},
   "outputs": [
    {
     "data": {
      "text/plain": [
       "undefined"
      ]
     },
     "execution_count": 7,
     "metadata": {},
     "output_type": "execute_result"
    }
   ],
   "source": [
    "enum DayOfWeek {\n",
    "  Sunday,\n",
    "  Monday,\n",
    "  Tuesday,\n",
    "  Wednesday,\n",
    "  Thursday,\n",
    "  Friday,\n",
    "  Saturday\n",
    "};\n"
   ]
  },
  {
   "cell_type": "code",
   "execution_count": 8,
   "id": "d1fce0a5-9635-4c33-b64c-5aa6ea999be7",
   "metadata": {},
   "outputs": [
    {
     "data": {
      "text/plain": [
       "undefined"
      ]
     },
     "execution_count": 8,
     "metadata": {},
     "output_type": "execute_result"
    }
   ],
   "source": [
    "function isItTheWeekend(day: DayOfWeek) {\n",
    "  switch (day) {\n",
    "    case DayOfWeek.Sunday:\n",
    "    case DayOfWeek.Saturday:\n",
    "      return true;\n",
    " \n",
    "    default:\n",
    "      return false;\n",
    "  }\n",
    "}"
   ]
  },
  {
   "cell_type": "code",
   "execution_count": 9,
   "id": "04e50811-f527-496e-96ce-c434356fa957",
   "metadata": {},
   "outputs": [
    {
     "name": "stdout",
     "output_type": "stream",
     "text": [
      "false\n",
      "false\n"
     ]
    },
    {
     "data": {
      "text/plain": [
       "undefined"
      ]
     },
     "execution_count": 9,
     "metadata": {},
     "output_type": "execute_result"
    }
   ],
   "source": [
    "console.log(isItTheWeekend(DayOfWeek.Monday)); // false\n",
    "\n",
    "console.log(isItTheWeekend(2)); // false"
   ]
  },
  {
   "cell_type": "code",
   "execution_count": null,
   "id": "a350a04d-aa9e-40ee-bae6-4b7b85009010",
   "metadata": {},
   "outputs": [],
   "source": []
  },
  {
   "cell_type": "code",
   "execution_count": 11,
   "id": "a6046961-c7b9-4c26-9a6e-f3d92e7feeaa",
   "metadata": {},
   "outputs": [
    {
     "name": "stdout",
     "output_type": "stream",
     "text": [
      "true\n"
     ]
    },
    {
     "data": {
      "text/plain": [
       "undefined"
      ]
     },
     "execution_count": 11,
     "metadata": {},
     "output_type": "execute_result"
    }
   ],
   "source": [
    "console.log(isItTheWeekend(DayOfWeek.Sunday));  "
   ]
  },
  {
   "cell_type": "code",
   "execution_count": null,
   "id": "0607f516-f7bc-4bc2-b953-530a106f9a15",
   "metadata": {},
   "outputs": [],
   "source": []
  }
 ],
 "metadata": {
  "kernelspec": {
   "display_name": "Typescript 4.9",
   "language": "typescript",
   "name": "typescript"
  },
  "language_info": {
   "file_extension": ".ts",
   "mimetype": "application/x-typescript",
   "name": "typescript",
   "version": "4.9.5"
  }
 },
 "nbformat": 4,
 "nbformat_minor": 5
}
