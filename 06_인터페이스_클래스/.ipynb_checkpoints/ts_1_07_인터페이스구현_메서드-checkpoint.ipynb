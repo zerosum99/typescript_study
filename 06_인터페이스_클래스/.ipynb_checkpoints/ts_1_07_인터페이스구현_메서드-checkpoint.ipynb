{
 "cells": [
  {
   "cell_type": "code",
   "execution_count": null,
   "id": "398d6a99-33d0-4165-8668-cf105094f5f2",
   "metadata": {},
   "outputs": [],
   "source": []
  },
  {
   "cell_type": "markdown",
   "id": "14f4a3f0-e6ae-4534-82e7-a90336208736",
   "metadata": {},
   "source": [
    "## 인터페이스에서 메서드 정의 및 구현 "
   ]
  },
  {
   "cell_type": "code",
   "execution_count": 1,
   "id": "096a6b7b-60c9-48e3-91fa-aa3390f0dba9",
   "metadata": {},
   "outputs": [
    {
     "data": {
      "text/plain": [
       "'use strict'"
      ]
     },
     "execution_count": 1,
     "metadata": {},
     "output_type": "execute_result"
    }
   ],
   "source": [
    "interface Shape {\n",
    "    calculateArea(): number;\n",
    "}\n",
    "\n",
    "class Circle implements Shape {\n",
    "    radius: number;\n",
    "\n",
    "    constructor(radius: number) {\n",
    "        this.radius = radius;\n",
    "    }\n",
    "\n",
    "    calculateArea(): number {\n",
    "        return Math.PI * this.radius * this.radius;\n",
    "    }\n",
    "}\n"
   ]
  },
  {
   "cell_type": "code",
   "execution_count": null,
   "id": "db594490-48a8-4181-9742-3e55903e13ea",
   "metadata": {},
   "outputs": [],
   "source": []
  }
 ],
 "metadata": {
  "kernelspec": {
   "display_name": "Typescript 4.9",
   "language": "typescript",
   "name": "typescript"
  },
  "language_info": {
   "file_extension": ".ts",
   "mimetype": "application/x-typescript",
   "name": "typescript",
   "version": "4.9.5"
  }
 },
 "nbformat": 4,
 "nbformat_minor": 5
}
