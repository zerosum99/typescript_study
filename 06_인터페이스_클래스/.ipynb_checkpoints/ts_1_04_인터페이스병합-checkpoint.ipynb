{
 "cells": [
  {
   "cell_type": "code",
   "execution_count": null,
   "id": "b34502c8-792c-4493-9dac-39c655c1e386",
   "metadata": {},
   "outputs": [],
   "source": []
  },
  {
   "cell_type": "markdown",
   "id": "33ee66ad-7c09-4772-a367-80c043103b67",
   "metadata": {},
   "source": [
    "## 인터페이스의 병합(merge)\n",
    "\n",
    "-  인터페이스의 병합은 여러 곳에서 동일한 이름으로 정의된 인터페이스를 자동으로 합치는 기능입니다. \n",
    "- 이것은 주로 라이브러리나 다양한 소스에서 가져온 인터페이스를 하나로 합치는 데 유용"
   ]
  },
  {
   "cell_type": "code",
   "execution_count": 1,
   "id": "8d0211c5-a23b-4066-9423-500f12f746a6",
   "metadata": {},
   "outputs": [
    {
     "data": {
      "text/plain": [
       "'use strict'"
      ]
     },
     "execution_count": 1,
     "metadata": {},
     "output_type": "execute_result"
    }
   ],
   "source": [
    "// Source 1\n",
    "interface Shape {\n",
    "    name: string;\n",
    "}\n",
    "\n",
    "// Source 2\n",
    "interface Shape {\n",
    "    area: number;\n",
    "}\n"
   ]
  },
  {
   "cell_type": "code",
   "execution_count": null,
   "id": "30a24b1d-d9b1-44b6-b473-41fae3a36328",
   "metadata": {},
   "outputs": [],
   "source": []
  },
  {
   "cell_type": "code",
   "execution_count": 2,
   "id": "f21e8dab-44d8-4373-a799-5bcdc50bc21e",
   "metadata": {},
   "outputs": [
    {
     "data": {
      "text/plain": [
       "undefined"
      ]
     },
     "execution_count": 2,
     "metadata": {},
     "output_type": "execute_result"
    }
   ],
   "source": [
    "const shape: Shape = {\n",
    "    name: \"Circle\",\n",
    "    area: 100\n",
    "};\n"
   ]
  },
  {
   "cell_type": "code",
   "execution_count": null,
   "id": "192514ef-b7e4-4095-a5aa-c5fc304364c9",
   "metadata": {},
   "outputs": [],
   "source": []
  }
 ],
 "metadata": {
  "kernelspec": {
   "display_name": "Typescript 4.9",
   "language": "typescript",
   "name": "typescript"
  },
  "language_info": {
   "file_extension": ".ts",
   "mimetype": "application/x-typescript",
   "name": "typescript",
   "version": "4.9.5"
  }
 },
 "nbformat": 4,
 "nbformat_minor": 5
}
