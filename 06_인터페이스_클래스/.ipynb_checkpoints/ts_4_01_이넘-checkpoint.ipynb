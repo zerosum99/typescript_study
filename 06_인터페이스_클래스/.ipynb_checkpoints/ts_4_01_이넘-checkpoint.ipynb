{
 "cells": [
  {
   "cell_type": "code",
   "execution_count": null,
   "id": "9a2f9f28-350e-467d-88e1-fcded9c638fb",
   "metadata": {},
   "outputs": [],
   "source": []
  },
  {
   "cell_type": "code",
   "execution_count": null,
   "id": "6faaaa4b-0aaf-471c-b9dd-6865c300258d",
   "metadata": {},
   "outputs": [],
   "source": []
  },
  {
   "cell_type": "code",
   "execution_count": null,
   "id": "1207731b-cfac-43b1-8c0e-ff6d88432aa0",
   "metadata": {},
   "outputs": [],
   "source": []
  },
  {
   "cell_type": "markdown",
   "id": "9f2fab09-76f6-4bb6-a224-b4336917dc65",
   "metadata": {},
   "source": [
    "## 타입스크립트에서 이넘(enum)\n",
    "    \n",
    "- 숫자나 문자열로 표현되는 상수를 그룹으로 묶는 방법입니다. 이넘은 다음과 같은 장점이 있습니다.\n",
    "\n",
    "- 상수의 이름을 문서화하는 데 유용합니다.\n",
    "- 상수의 값을 구분하기 쉽게 합니다.\n",
    "- 타입 검사를 통해 상수의 값을 검사할 수 있습니다."
   ]
  },
  {
   "cell_type": "code",
   "execution_count": 1,
   "id": "9afc8bb5-a9fc-461e-b2ab-eb871016fe02",
   "metadata": {},
   "outputs": [
    {
     "name": "stdout",
     "output_type": "stream",
     "text": [
      "1\n"
     ]
    },
    {
     "data": {
      "text/plain": [
       "undefined"
      ]
     },
     "execution_count": 1,
     "metadata": {},
     "output_type": "execute_result"
    }
   ],
   "source": [
    "enum Color {\n",
    "  Red = 1,\n",
    "  Green = 2,\n",
    "  Blue = 3,\n",
    "}\n",
    "\n",
    "const myColor = Color.Red;\n",
    "\n",
    "console.log(myColor); // 1\n"
   ]
  },
  {
   "cell_type": "code",
   "execution_count": null,
   "id": "c887f81b-6492-482d-b9bf-8c071415d9de",
   "metadata": {},
   "outputs": [],
   "source": []
  },
  {
   "cell_type": "code",
   "execution_count": 3,
   "id": "c5d75037-ea32-4c6c-8a0d-d5f9f4cfc0bf",
   "metadata": {},
   "outputs": [
    {
     "name": "stdout",
     "output_type": "stream",
     "text": [
      "1\n",
      "위\n"
     ]
    },
    {
     "data": {
      "text/plain": [
       "undefined"
      ]
     },
     "execution_count": 3,
     "metadata": {},
     "output_type": "execute_result"
    }
   ],
   "source": [
    "enum Color1 {\n",
    "  Red1 = 1,\n",
    "  Green1 = 2,\n",
    "  Blue1 = 3,\n",
    "}\n",
    "\n",
    "enum Direction {\n",
    "  Up = \"위\",\n",
    "  Down = \"아래\",\n",
    "  Left = \"왼쪽\",\n",
    "  Right = \"오른쪽\",\n",
    "}\n",
    "\n",
    "const myColor1 = Color1.Red1;\n",
    "const myDirection = Direction.Up;\n",
    "\n",
    "console.log(myColor1); // 1\n",
    "console.log(myDirection); // \"위\"\n"
   ]
  },
  {
   "cell_type": "code",
   "execution_count": null,
   "id": "22abe252-fddf-4fb6-8b14-1a857e3f41ef",
   "metadata": {},
   "outputs": [],
   "source": []
  }
 ],
 "metadata": {
  "kernelspec": {
   "display_name": "Typescript 4.9",
   "language": "typescript",
   "name": "typescript"
  },
  "language_info": {
   "file_extension": ".ts",
   "mimetype": "application/x-typescript",
   "name": "typescript",
   "version": "4.9.5"
  }
 },
 "nbformat": 4,
 "nbformat_minor": 5
}
