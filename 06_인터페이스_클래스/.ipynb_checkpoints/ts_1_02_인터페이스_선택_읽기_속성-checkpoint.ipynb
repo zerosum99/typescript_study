{
 "cells": [
  {
   "cell_type": "code",
   "execution_count": null,
   "id": "b34502c8-792c-4493-9dac-39c655c1e386",
   "metadata": {},
   "outputs": [],
   "source": []
  },
  {
   "cell_type": "code",
   "execution_count": null,
   "id": "61408870-5fac-4a22-b63a-8b56b417f6d7",
   "metadata": {},
   "outputs": [],
   "source": []
  },
  {
   "cell_type": "markdown",
   "id": "207c2fff-0495-4888-afd0-ed726af202f7",
   "metadata": {},
   "source": [
    "## 1. 인터페이스의 선택적 속성으로 처리하기(옵션속성)\n",
    "\n",
    "- 속성을 선택적으로 사용하고 싶을 때 속성이름 다음에 ?를 붙여서 지정\n",
    "- 옵션 속성은 반드시 지정할 필요가 없다. \n"
   ]
  },
  {
   "cell_type": "markdown",
   "id": "26e8bedd-e662-4394-9482-4cbc0641097a",
   "metadata": {},
   "source": [
    "## 1-1 옵션 속성을 인터페이스에 정의 \n",
    "\n",
    "-  특정 속성이 필수가 아닐 경우 속성명 다음에 물음표 표시해서 지정한다.\n",
    "-  그러면 실제 이 속성이 선택적으로 사용한다 "
   ]
  },
  {
   "cell_type": "markdown",
   "id": "1af91cee-307c-4a38-956a-86eb4584f678",
   "metadata": {},
   "source": [
    "### 인터페이스의 속성 정의 "
   ]
  },
  {
   "cell_type": "code",
   "execution_count": 17,
   "id": "372c6cb6-58ce-4d66-931e-6abea623100c",
   "metadata": {},
   "outputs": [
    {
     "data": {
      "text/plain": [
       "undefined"
      ]
     },
     "execution_count": 17,
     "metadata": {},
     "output_type": "execute_result"
    }
   ],
   "source": [
    "interface Student {\n",
    "    name : string,\n",
    "    age : number,\n",
    "    colleage? : string         //옵션 정의 \n",
    "}"
   ]
  },
  {
   "cell_type": "markdown",
   "id": "911940ad-540d-4907-91d5-c1497933d432",
   "metadata": {},
   "source": [
    "### 함수 매개변수에 지정\n",
    "\n",
    "- 옵션 속성을 처리가 필요할 경우 선택 속성을 처리하는 로직을 처리\n",
    "- 조건문이나 삼항연산자를 사용해서 처리 \n"
   ]
  },
  {
   "cell_type": "code",
   "execution_count": 12,
   "id": "07a81e98-cdfd-439d-bd5d-c4e37200041b",
   "metadata": {},
   "outputs": [
    {
     "data": {
      "text/plain": [
       "undefined"
      ]
     },
     "execution_count": 12,
     "metadata": {},
     "output_type": "execute_result"
    }
   ],
   "source": [
    "function getColleage(stt : Student) : void {\n",
    "    if (stt?.colleage) { \n",
    "        console.log(stt?.colleage);\n",
    "    } else {\n",
    "        console.log(\"미진학\");\n",
    "    }\n",
    "}"
   ]
  },
  {
   "cell_type": "markdown",
   "id": "6c0a898c-8682-45c2-8b01-db0a8436f5ed",
   "metadata": {},
   "source": [
    "### 전체 속성을 가진 객체 생성하기 "
   ]
  },
  {
   "cell_type": "code",
   "execution_count": 13,
   "id": "3aca3af1-46b5-411d-9319-71621edf8059",
   "metadata": {},
   "outputs": [
    {
     "data": {
      "text/plain": [
       "undefined"
      ]
     },
     "execution_count": 13,
     "metadata": {},
     "output_type": "execute_result"
    }
   ],
   "source": [
    "let student : Student = {name:\"고학생\", age:20, colleage:\"타입대\" };"
   ]
  },
  {
   "cell_type": "markdown",
   "id": "f871cde5-dcdb-4fc8-876f-8b9f298145d3",
   "metadata": {},
   "source": [
    "### 함수 호출\n",
    "- 옵션 속성에 값이 있으므로 속성을 출력"
   ]
  },
  {
   "cell_type": "code",
   "execution_count": 14,
   "id": "906208e7-5f81-4592-8a77-847190cfe558",
   "metadata": {},
   "outputs": [
    {
     "name": "stdout",
     "output_type": "stream",
     "text": [
      "타입대\n"
     ]
    },
    {
     "data": {
      "text/plain": [
       "undefined"
      ]
     },
     "execution_count": 14,
     "metadata": {},
     "output_type": "execute_result"
    }
   ],
   "source": [
    "getColleage(student);"
   ]
  },
  {
   "cell_type": "markdown",
   "id": "64860af9-fad0-4b44-be72-a97823c7a4f4",
   "metadata": {},
   "source": [
    "## 1-2  옵션속성을 제외 처리\n",
    " - 새로운 객체를 생성할 때 선택 속성으 ㄹ지정하지 않음 "
   ]
  },
  {
   "cell_type": "markdown",
   "id": "32280780-4e4f-4381-8ab3-69b498fdbcf4",
   "metadata": {},
   "source": [
    "### 객체 생성하기 "
   ]
  },
  {
   "cell_type": "code",
   "execution_count": 15,
   "id": "d41e4a9e-9d2a-4ecf-8827-a9fe509aa5d8",
   "metadata": {},
   "outputs": [
    {
     "data": {
      "text/plain": [
       "undefined"
      ]
     },
     "execution_count": 15,
     "metadata": {},
     "output_type": "execute_result"
    }
   ],
   "source": [
    "let student2 : Student = {name: \"무대학\", age: 18 };"
   ]
  },
  {
   "cell_type": "markdown",
   "id": "a534da1b-01cc-4001-8b15-e9a7d9825123",
   "metadata": {},
   "source": [
    "### 함수를 호출\n",
    "- 옵션속성에 값이 없으므로 미진학 출력 "
   ]
  },
  {
   "cell_type": "code",
   "execution_count": 16,
   "id": "4242018e-69e6-472e-a172-67bf50bdb8d1",
   "metadata": {},
   "outputs": [
    {
     "name": "stdout",
     "output_type": "stream",
     "text": [
      "미진학\n"
     ]
    },
    {
     "data": {
      "text/plain": [
       "undefined"
      ]
     },
     "execution_count": 16,
     "metadata": {},
     "output_type": "execute_result"
    }
   ],
   "source": [
    "getColleage(student2);"
   ]
  },
  {
   "cell_type": "code",
   "execution_count": null,
   "id": "8d0211c5-a23b-4066-9423-500f12f746a6",
   "metadata": {},
   "outputs": [],
   "source": []
  },
  {
   "cell_type": "markdown",
   "id": "e5c35d87-685d-4702-b39e-c73f24f24e1b",
   "metadata": {},
   "source": [
    "## 2 읽기 전용 속성 (Readonly Properties):\n",
    "\n",
    "- 읽기 전용 속성은 인터페이스에서 속성을 정의할 때 해당 속성을 읽기 전용으로 만들 때 사용됩니다.\n",
    "- 속성 이름 뒤에 readonly 키워드를 붙여서 읽기 전용으로 만들 수 있습니다."
   ]
  },
  {
   "cell_type": "code",
   "execution_count": 2,
   "id": "027a6dec-9427-4048-b6b7-bc7a245dbd10",
   "metadata": {},
   "outputs": [
    {
     "data": {
      "text/plain": [
       "'use strict'"
      ]
     },
     "execution_count": 2,
     "metadata": {},
     "output_type": "execute_result"
    }
   ],
   "source": [
    "interface Point {\n",
    "    readonly x: number;\n",
    "    readonly y: number;\n",
    "}\n"
   ]
  },
  {
   "cell_type": "code",
   "execution_count": 3,
   "id": "1faadc1d-6d52-4b56-8851-21a0b326b3b9",
   "metadata": {},
   "outputs": [
    {
     "data": {
      "text/plain": [
       "undefined"
      ]
     },
     "execution_count": 3,
     "metadata": {},
     "output_type": "execute_result"
    }
   ],
   "source": [
    "const point: Point = {\n",
    "    x: 10,\n",
    "    y: 20\n",
    "};"
   ]
  },
  {
   "cell_type": "code",
   "execution_count": 4,
   "id": "7a7630ed-c38d-4a14-be0b-63ff2459fc63",
   "metadata": {},
   "outputs": [
    {
     "ename": "Error",
     "evalue": "Line 2, Character 7\npoint.x = 30; // 에러 발생\n______^\nTS2540: Cannot assign to 'x' because it is a read-only property.",
     "execution_count": 4,
     "output_type": "error",
     "traceback": [
      "Error: Line 2, Character 7",
      "point.x = 30; // 에러 발생",
      "______^",
      "TS2540: Cannot assign to 'x' because it is a read-only property.",
      "    at execTranspile (/usr/local/lib/node_modules/itypescript/lib/kernel.js:229:23)",
      "    at Session.transpiler [as transpile] (/usr/local/lib/node_modules/itypescript/lib/kernel.js:288:35)",
      "    at Session._runNow (/usr/local/lib/node_modules/itypescript/node_modules/nel/lib/nel.js:835:39)",
      "    at Session._run (/usr/local/lib/node_modules/itypescript/node_modules/nel/lib/nel.js:786:14)",
      "    at Session.execute (/usr/local/lib/node_modules/itypescript/node_modules/nel/lib/nel.js:929:10)",
      "    at Kernel.execute_request (/usr/local/lib/node_modules/itypescript/node_modules/jp-kernel/lib/handlers_v5.js:116:18)",
      "    at Kernel.onShellMessage (/usr/local/lib/node_modules/itypescript/node_modules/jp-kernel/lib/jp-kernel.js:285:41)",
      "    at Socket.<anonymous> (/usr/local/lib/node_modules/itypescript/node_modules/jmp/index.js:350:17)",
      "    at Socket.emit (node:events:513:28)",
      "    at Socket._emitMessage (/usr/local/lib/node_modules/itypescript/node_modules/zeromq/lib/index.js:649:15)"
     ]
    }
   ],
   "source": [
    "// 아래 코드는 에러입니다. 읽기 전용 속성을 변경할 수 없습니다.\n",
    "point.x = 30; // 에러 발생"
   ]
  },
  {
   "cell_type": "code",
   "execution_count": null,
   "id": "ea82d8a6-4f8d-465f-b9b0-5fbe61beaed9",
   "metadata": {},
   "outputs": [],
   "source": []
  },
  {
   "cell_type": "code",
   "execution_count": null,
   "id": "c415df99-f707-46c8-a020-84f45e57d41a",
   "metadata": {},
   "outputs": [],
   "source": []
  },
  {
   "cell_type": "markdown",
   "id": "542b643f-74e9-4ea0-b74a-ae0d13160936",
   "metadata": {},
   "source": [
    "## 3. 혼용해서 인터페이스 정의하기 "
   ]
  },
  {
   "cell_type": "markdown",
   "id": "800ea13b-5fd8-4699-9458-c09cca804d0a",
   "metadata": {},
   "source": [
    "## 읽기, 선택 속성 전부 정의 "
   ]
  },
  {
   "cell_type": "code",
   "execution_count": 5,
   "id": "daccc9b7-023d-492d-b07c-569b3f7d5d0c",
   "metadata": {},
   "outputs": [
    {
     "data": {
      "text/plain": [
       "undefined"
      ]
     },
     "execution_count": 5,
     "metadata": {},
     "output_type": "execute_result"
    }
   ],
   "source": [
    "interface Person {\n",
    "    readonly id: number; // 읽기 전용 속성\n",
    "    firstName: string;\n",
    "    lastName: string;\n",
    "    age?: number; // 선택적 속성\n",
    "}"
   ]
  },
  {
   "cell_type": "code",
   "execution_count": 6,
   "id": "0b1151f0-a083-4b7f-937e-530ddd7ee370",
   "metadata": {},
   "outputs": [
    {
     "data": {
      "text/plain": [
       "undefined"
      ]
     },
     "execution_count": 6,
     "metadata": {},
     "output_type": "execute_result"
    }
   ],
   "source": [
    "// 읽기 전용 속성을 가진 객체\n",
    "const person1: Person = {\n",
    "    id: 1,\n",
    "    firstName: \"Alice\",\n",
    "    lastName: \"Johnson\"\n",
    "};\n",
    "\n",
    "// 선택적 속성을 가진 객체\n",
    "const person2: Person = {\n",
    "    id: 2,\n",
    "    firstName: \"Bob\",\n",
    "    lastName: \"Smith\",\n",
    "    age: 30\n",
    "};"
   ]
  },
  {
   "cell_type": "code",
   "execution_count": null,
   "id": "60c9c18b-699c-48d8-85f4-0869d6c896d2",
   "metadata": {},
   "outputs": [],
   "source": []
  },
  {
   "cell_type": "code",
   "execution_count": 7,
   "id": "1d1a8d55-3eb9-4256-8195-51946332d24b",
   "metadata": {},
   "outputs": [
    {
     "ename": "Error",
     "evalue": "Line 3, Character 9\nperson1.id = 3; // 에러 발생\n________^\nTS2540: Cannot assign to 'id' because it is a read-only property.",
     "execution_count": 7,
     "output_type": "error",
     "traceback": [
      "Error: Line 3, Character 9",
      "person1.id = 3; // 에러 발생",
      "________^",
      "TS2540: Cannot assign to 'id' because it is a read-only property.",
      "    at execTranspile (/usr/local/lib/node_modules/itypescript/lib/kernel.js:229:23)",
      "    at Session.transpiler [as transpile] (/usr/local/lib/node_modules/itypescript/lib/kernel.js:288:35)",
      "    at Session._runNow (/usr/local/lib/node_modules/itypescript/node_modules/nel/lib/nel.js:835:39)",
      "    at Session._run (/usr/local/lib/node_modules/itypescript/node_modules/nel/lib/nel.js:786:14)",
      "    at Session.execute (/usr/local/lib/node_modules/itypescript/node_modules/nel/lib/nel.js:929:10)",
      "    at Kernel.execute_request (/usr/local/lib/node_modules/itypescript/node_modules/jp-kernel/lib/handlers_v5.js:116:18)",
      "    at Kernel.onShellMessage (/usr/local/lib/node_modules/itypescript/node_modules/jp-kernel/lib/jp-kernel.js:285:41)",
      "    at Socket.<anonymous> (/usr/local/lib/node_modules/itypescript/node_modules/jmp/index.js:350:17)",
      "    at Socket.emit (node:events:513:28)",
      "    at Socket._emitMessage (/usr/local/lib/node_modules/itypescript/node_modules/zeromq/lib/index.js:649:15)"
     ]
    }
   ],
   "source": [
    "\n",
    "// 아래 코드는 에러입니다. 읽기 전용 속성은 변경할 수 없습니다.\n",
    "person1.id = 3; // 에러 발생"
   ]
  },
  {
   "cell_type": "code",
   "execution_count": 8,
   "id": "494aef0f-d26e-472f-8977-7eebc6dbf69e",
   "metadata": {},
   "outputs": [
    {
     "ename": "Error",
     "evalue": "Line 3, Character 7\nconst person3: Person = {\n______^\nTS2741: Property 'firstName' is missing in type '{ id: number; lastName: string; }' but required in type 'Person'.",
     "execution_count": 8,
     "output_type": "error",
     "traceback": [
      "Error: Line 3, Character 7",
      "const person3: Person = {",
      "______^",
      "TS2741: Property 'firstName' is missing in type '{ id: number; lastName: string; }' but required in type 'Person'.",
      "    at execTranspile (/usr/local/lib/node_modules/itypescript/lib/kernel.js:229:23)",
      "    at Session.transpiler [as transpile] (/usr/local/lib/node_modules/itypescript/lib/kernel.js:288:35)",
      "    at Session._runNow (/usr/local/lib/node_modules/itypescript/node_modules/nel/lib/nel.js:835:39)",
      "    at Session._run (/usr/local/lib/node_modules/itypescript/node_modules/nel/lib/nel.js:786:14)",
      "    at Session.execute (/usr/local/lib/node_modules/itypescript/node_modules/nel/lib/nel.js:929:10)",
      "    at Kernel.execute_request (/usr/local/lib/node_modules/itypescript/node_modules/jp-kernel/lib/handlers_v5.js:116:18)",
      "    at Kernel.onShellMessage (/usr/local/lib/node_modules/itypescript/node_modules/jp-kernel/lib/jp-kernel.js:285:41)",
      "    at Socket.<anonymous> (/usr/local/lib/node_modules/itypescript/node_modules/jmp/index.js:350:17)",
      "    at Socket.emit (node:events:513:28)",
      "    at Socket._emitMessage (/usr/local/lib/node_modules/itypescript/node_modules/zeromq/lib/index.js:649:15)"
     ]
    }
   ],
   "source": [
    "\n",
    "// 아래 코드는 에러입니다. 필수 속성인 firstName이 누락되었습니다.\n",
    "const person3: Person = {\n",
    "    id: 4,\n",
    "    lastName: \"Doe\"\n",
    "};\n"
   ]
  },
  {
   "cell_type": "code",
   "execution_count": null,
   "id": "5fd8fb93-8808-47ad-8a7f-63b36d79c611",
   "metadata": {},
   "outputs": [],
   "source": []
  }
 ],
 "metadata": {
  "kernelspec": {
   "display_name": "Typescript 4.9",
   "language": "typescript",
   "name": "typescript"
  },
  "language_info": {
   "file_extension": ".ts",
   "mimetype": "application/x-typescript",
   "name": "typescript",
   "version": "4.9.5"
  }
 },
 "nbformat": 4,
 "nbformat_minor": 5
}
