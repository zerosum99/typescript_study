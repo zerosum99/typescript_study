{
 "cells": [
  {
   "cell_type": "code",
   "execution_count": null,
   "id": "b34502c8-792c-4493-9dac-39c655c1e386",
   "metadata": {},
   "outputs": [],
   "source": []
  },
  {
   "cell_type": "code",
   "execution_count": null,
   "id": "3e375a88-4b9c-4562-9814-dbd34902ae8b",
   "metadata": {},
   "outputs": [],
   "source": []
  },
  {
   "cell_type": "markdown",
   "id": "9f8fc9a1-25cd-42d6-b02a-c83370fd75ee",
   "metadata": {},
   "source": [
    "## 1. 인터페이스로 변수의 객체 타입 정의 \n",
    "\n",
    "- interface 예약어 사용\n",
    "- 인터페이스 이름 지정하고 블록내에 객체의 속성 이름과 자료형을 지정"
   ]
  },
  {
   "cell_type": "markdown",
   "id": "fd6f9497-b7e9-4e2c-b417-d8b7e46011a3",
   "metadata": {},
   "source": [
    "## 1-1  인터페이스 정의 표기법\n",
    "\n",
    "- interface 에약어 사용\n",
    "- 인터페이스 이름은 첫문자는 대문자로 사용\n",
    "- 인터페이스 내의 속성 : 자료형으로 표시"
   ]
  },
  {
   "cell_type": "markdown",
   "id": "e0d68cb6-07da-4bc7-a910-a5fe0fb77fdc",
   "metadata": {},
   "source": [
    "### 속성을 쉼표로 분리 "
   ]
  },
  {
   "cell_type": "code",
   "execution_count": 1,
   "id": "46b3083e-328a-4e95-b0e1-1c7f06ba60b8",
   "metadata": {},
   "outputs": [
    {
     "data": {
      "text/plain": [
       "'use strict'"
      ]
     },
     "execution_count": 1,
     "metadata": {},
     "output_type": "execute_result"
    }
   ],
   "source": [
    "interface People {\n",
    "    name : string,\n",
    "    age : number\n",
    "}"
   ]
  },
  {
   "cell_type": "markdown",
   "id": "0cdcaad8-eb59-4861-928e-08473b9be18f",
   "metadata": {},
   "source": [
    "### 속성을 세미콜론으로 분리 "
   ]
  },
  {
   "cell_type": "code",
   "execution_count": 2,
   "id": "c93b95a8-0f38-4a92-b292-2124c10a4bbc",
   "metadata": {},
   "outputs": [
    {
     "data": {
      "text/plain": [
       "undefined"
      ]
     },
     "execution_count": 2,
     "metadata": {},
     "output_type": "execute_result"
    }
   ],
   "source": [
    "interface People11 {\n",
    "    name : string;\n",
    "    age : number;\n",
    "}"
   ]
  },
  {
   "cell_type": "markdown",
   "id": "431c720a-cf5b-48b3-a1ad-61f3a830e695",
   "metadata": {},
   "source": [
    "## 1-2 인터페이스는 변수에 자료형 정의에 사용\n",
    "\n",
    "- 인터페이스를 정의\n",
    "- 변수에 자료형으로 지정하면 할당되는 객체가 인터페이스에 맞는 속성을 가져야 함"
   ]
  },
  {
   "cell_type": "markdown",
   "id": "39537c43-19c4-4c59-a637-bba1cc67f5da",
   "metadata": {},
   "source": [
    "## 1-2-1 변수에 단일 자료형으로 지정하기 "
   ]
  },
  {
   "cell_type": "markdown",
   "id": "cf76d0cb-ebd2-4d40-9b9e-0556c0aed159",
   "metadata": {},
   "source": [
    "### 3개의 속성을 가진 인터페이스 정의 "
   ]
  },
  {
   "cell_type": "code",
   "execution_count": 1,
   "id": "9eb35872-8f99-41bb-93aa-8c91bb0a01f1",
   "metadata": {},
   "outputs": [
    {
     "data": {
      "text/plain": [
       "'use strict'"
      ]
     },
     "execution_count": 1,
     "metadata": {},
     "output_type": "execute_result"
    }
   ],
   "source": [
    "// 인터페이스의 정의\n",
    "interface Todo {\n",
    "  id: number;\n",
    "  content: string;\n",
    "  completed: boolean;\n",
    "}"
   ]
  },
  {
   "cell_type": "markdown",
   "id": "5e6d931a-038c-4aae-a76c-c6273670c0b1",
   "metadata": {},
   "source": [
    "### 인터페이스를 정의하고 변수의 자료형으로 사용"
   ]
  },
  {
   "cell_type": "code",
   "execution_count": 2,
   "id": "6c41f71c-5b0e-4d14-9654-893c7bf424b1",
   "metadata": {},
   "outputs": [
    {
     "data": {
      "text/plain": [
       "undefined"
      ]
     },
     "execution_count": 2,
     "metadata": {},
     "output_type": "execute_result"
    }
   ],
   "source": [
    "\n",
    "// 변수 todo의 타입으로 Todo 인터페이스를 선언하였다.\n",
    "let todo: Todo;\n"
   ]
  },
  {
   "cell_type": "markdown",
   "id": "a5ee6f0c-8aec-4e2a-bbce-aad4230c9eff",
   "metadata": {},
   "source": [
    "### 변수에 3개의 속성르 가진 객체 할당 "
   ]
  },
  {
   "cell_type": "code",
   "execution_count": 5,
   "id": "1b1bf392-fff9-4bfe-8c41-1c5188bf8148",
   "metadata": {},
   "outputs": [
    {
     "data": {
      "text/plain": [
       "{ id: 1, content: 'typescript', completed: false }"
      ]
     },
     "execution_count": 5,
     "metadata": {},
     "output_type": "execute_result"
    }
   ],
   "source": [
    "// 변수 todo는 Todo 인터페이스를 준수하여야 한다.\n",
    "todo = { id: 1, content: 'typescript', completed: false };"
   ]
  },
  {
   "cell_type": "code",
   "execution_count": null,
   "id": "f9815ce7-72ab-4dbf-aa51-1eb939e68775",
   "metadata": {},
   "outputs": [],
   "source": []
  },
  {
   "cell_type": "markdown",
   "id": "fc275c14-77a1-4907-822b-63f3bfc47622",
   "metadata": {},
   "source": [
    "## 1-2-2 인터페이스로 배열 자료형 지정하기 "
   ]
  },
  {
   "cell_type": "markdown",
   "id": "a0eee7da-fc85-4b16-bb0a-b22865604149",
   "metadata": {},
   "source": [
    "### 인터페이스로 변수에 배열 자료형으로 지정 "
   ]
  },
  {
   "cell_type": "code",
   "execution_count": 5,
   "id": "61408870-5fac-4a22-b63a-8b56b417f6d7",
   "metadata": {},
   "outputs": [
    {
     "data": {
      "text/plain": [
       "undefined"
      ]
     },
     "execution_count": 5,
     "metadata": {},
     "output_type": "execute_result"
    }
   ],
   "source": [
    "var todos: Todo[] = [];\n"
   ]
  },
  {
   "cell_type": "code",
   "execution_count": null,
   "id": "44b1b079-e2fd-430b-897f-fe5eac6417db",
   "metadata": {},
   "outputs": [],
   "source": []
  },
  {
   "cell_type": "code",
   "execution_count": null,
   "id": "b683905d-d480-459c-90ec-8b9e7985edd2",
   "metadata": {},
   "outputs": [],
   "source": []
  },
  {
   "cell_type": "markdown",
   "id": "e5bccb94-1321-4f50-b94c-070e7d21bd13",
   "metadata": {},
   "source": [
    "## 1-2-3  함수의 매개변수에 인터페이스 자료형 지정 "
   ]
  },
  {
   "cell_type": "markdown",
   "id": "5a458024-7f21-47c5-8828-00df1d3e8c0e",
   "metadata": {},
   "source": [
    "### 함수 매개변수도 변수여서 인터페이스를 자료형으로 지정 \n",
    "\n",
    "- 위에서 지정한 배열을 함수 내에서 처리하기\n",
    "- 배열의 원소를 ... 전개연산으로 분리해서 처리"
   ]
  },
  {
   "cell_type": "code",
   "execution_count": 6,
   "id": "8d0211c5-a23b-4066-9423-500f12f746a6",
   "metadata": {},
   "outputs": [
    {
     "data": {
      "text/plain": [
       "undefined"
      ]
     },
     "execution_count": 6,
     "metadata": {},
     "output_type": "execute_result"
    }
   ],
   "source": [
    "// 파라미터 todo의 타입으로 Todo 인터페이스를 선언하였다.\n",
    "function addTodo(todo: Todo) {\n",
    "  todos = [...todos, todo];\n",
    "}"
   ]
  },
  {
   "cell_type": "markdown",
   "id": "c4b0648d-7298-4c1c-8468-c1a4e7b66116",
   "metadata": {},
   "source": [
    "### 함수호출할 때는 객체를 전달해서 처리함  "
   ]
  },
  {
   "cell_type": "code",
   "execution_count": 7,
   "id": "3ebc9a6d-26ed-4ad2-aabf-23f3d8b8d436",
   "metadata": {},
   "outputs": [
    {
     "name": "stdout",
     "output_type": "stream",
     "text": [
      "[ { id: 1, content: 'typescript', completed: false } ]\n"
     ]
    },
    {
     "data": {
      "text/plain": [
       "undefined"
      ]
     },
     "execution_count": 7,
     "metadata": {},
     "output_type": "execute_result"
    }
   ],
   "source": [
    "// 파라미터 todo는 Todo 인터페이스를 준수하여야 한다.\n",
    "const newTodo: Todo = { id: 1, content: 'typescript', completed: false };\n",
    "addTodo(newTodo);\n",
    "console.log(todos)\n"
   ]
  },
  {
   "cell_type": "code",
   "execution_count": null,
   "id": "30a24b1d-d9b1-44b6-b473-41fae3a36328",
   "metadata": {},
   "outputs": [],
   "source": []
  }
 ],
 "metadata": {
  "kernelspec": {
   "display_name": "Typescript 4.9",
   "language": "typescript",
   "name": "typescript"
  },
  "language_info": {
   "file_extension": ".ts",
   "mimetype": "application/x-typescript",
   "name": "typescript",
   "version": "4.9.5"
  }
 },
 "nbformat": 4,
 "nbformat_minor": 5
}
