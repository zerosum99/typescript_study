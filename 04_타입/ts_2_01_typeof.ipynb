{
 "cells": [
  {
   "cell_type": "code",
   "execution_count": null,
   "id": "ed39b782-272b-4a30-af80-5b9ba535bd41",
   "metadata": {},
   "outputs": [],
   "source": []
  },
  {
   "cell_type": "markdown",
   "id": "1d7aa3c4-f6b8-44ed-8a23-92a2b0edf03c",
   "metadata": {},
   "source": [
    "## 1. typeof로 기존 값들의 타입을 가져오기"
   ]
  },
  {
   "cell_type": "code",
   "execution_count": null,
   "id": "1416ca0c-916c-47c1-acc5-0e1252c1463a",
   "metadata": {},
   "outputs": [],
   "source": []
  },
  {
   "cell_type": "markdown",
   "id": "b7e77094-3f4f-4fd7-b892-873043c40119",
   "metadata": {},
   "source": [
    "## 1-1. 원시 값에서 타입을 가져오기"
   ]
  },
  {
   "cell_type": "code",
   "execution_count": 1,
   "id": "550a36f5-d091-473b-806c-4ea014c53a34",
   "metadata": {},
   "outputs": [
    {
     "data": {
      "text/plain": [
       "'use strict'"
      ]
     },
     "execution_count": 1,
     "metadata": {},
     "output_type": "execute_result"
    }
   ],
   "source": [
    "let s = \"hello\";\n",
    "let n: typeof s; // let n : string"
   ]
  },
  {
   "cell_type": "code",
   "execution_count": 2,
   "id": "f0db7cd6-2f60-4777-9a60-c4b80cf2b647",
   "metadata": {},
   "outputs": [
    {
     "data": {
      "text/plain": [
       "'문자열'"
      ]
     },
     "execution_count": 2,
     "metadata": {},
     "output_type": "execute_result"
    }
   ],
   "source": [
    "n = \"문자열\";"
   ]
  },
  {
   "cell_type": "markdown",
   "id": "5017b0d9-f3b2-42d9-940f-026302eb879d",
   "metadata": {},
   "source": [
    "## 1-2 함수에서 함수자료형 가져오기"
   ]
  },
  {
   "cell_type": "markdown",
   "id": "ccb18732-4700-420c-80aa-cfcf63c023e6",
   "metadata": {},
   "source": [
    "## 화살표 함수의 객체에서 타입을 가져오기"
   ]
  },
  {
   "cell_type": "code",
   "execution_count": 7,
   "id": "4e0d29c1-da14-4988-99fc-9e756b8a61d3",
   "metadata": {},
   "outputs": [
    {
     "data": {
      "text/plain": [
       "undefined"
      ]
     },
     "execution_count": 7,
     "metadata": {},
     "output_type": "execute_result"
    }
   ],
   "source": [
    "const add = (x:number,y:number)=>x+y\n",
    "type MyAddType = typeof add  // (x:number)=>number"
   ]
  },
  {
   "cell_type": "code",
   "execution_count": 8,
   "id": "c7063be5-6c2d-49b3-bc01-2efbc86e96ec",
   "metadata": {},
   "outputs": [
    {
     "data": {
      "text/plain": [
       "undefined"
      ]
     },
     "execution_count": 8,
     "metadata": {},
     "output_type": "execute_result"
    }
   ],
   "source": [
    "function add2(x:number,y:number) {\n",
    "    return x+y;\n",
    "}"
   ]
  },
  {
   "cell_type": "code",
   "execution_count": 9,
   "id": "1ee81fe0-32c4-4cc4-a2ef-6fd92b7f71e5",
   "metadata": {},
   "outputs": [
    {
     "data": {
      "text/plain": [
       "undefined"
      ]
     },
     "execution_count": 9,
     "metadata": {},
     "output_type": "execute_result"
    }
   ],
   "source": [
    "const add3 : MyAddType = add2;"
   ]
  },
  {
   "cell_type": "code",
   "execution_count": 10,
   "id": "aa6fbfa8-e6c4-46a7-9631-120bbefbefda",
   "metadata": {},
   "outputs": [
    {
     "data": {
      "text/plain": [
       "399"
      ]
     },
     "execution_count": 10,
     "metadata": {},
     "output_type": "execute_result"
    }
   ],
   "source": [
    "add3(100,299)"
   ]
  },
  {
   "cell_type": "markdown",
   "id": "7147a7c6-1394-4a3a-bf36-3c14dc4a19b2",
   "metadata": {},
   "source": [
    "### 일반함수에서 타입을 가져오기 "
   ]
  },
  {
   "cell_type": "code",
   "execution_count": 4,
   "id": "4942a927-886e-4565-a70d-6fef4f5ae111",
   "metadata": {},
   "outputs": [
    {
     "data": {
      "text/plain": [
       "undefined"
      ]
     },
     "execution_count": 4,
     "metadata": {},
     "output_type": "execute_result"
    }
   ],
   "source": [
    "function f() {\n",
    "  return { x: 10, y: 3 };\n",
    "}"
   ]
  },
  {
   "cell_type": "markdown",
   "id": "ab25a902-ec9f-4c30-96ad-e837e2b56b94",
   "metadata": {},
   "source": [
    "### 타입을 가져오려면 typeof 예약어를 사용"
   ]
  },
  {
   "cell_type": "code",
   "execution_count": 5,
   "id": "1a8e3f83-4482-431e-b255-c8ce4252e719",
   "metadata": {},
   "outputs": [
    {
     "ename": "Error",
     "evalue": "Line 1, Character 21\ntype P = ReturnType<f>;\n____________________^\nTS2749: 'f' refers to a value, but is being used as a type here. Did you mean 'typeof f'?",
     "execution_count": 5,
     "output_type": "error",
     "traceback": [
      "Error: Line 1, Character 21",
      "type P = ReturnType<f>;",
      "____________________^",
      "TS2749: 'f' refers to a value, but is being used as a type here. Did you mean 'typeof f'?",
      "    at execTranspile (/usr/local/lib/node_modules/itypescript/lib/kernel.js:229:23)",
      "    at Session.transpiler [as transpile] (/usr/local/lib/node_modules/itypescript/lib/kernel.js:288:35)",
      "    at Session._runNow (/usr/local/lib/node_modules/itypescript/node_modules/nel/lib/nel.js:835:39)",
      "    at Session._run (/usr/local/lib/node_modules/itypescript/node_modules/nel/lib/nel.js:786:14)",
      "    at Session.execute (/usr/local/lib/node_modules/itypescript/node_modules/nel/lib/nel.js:929:10)",
      "    at Kernel.execute_request (/usr/local/lib/node_modules/itypescript/node_modules/jp-kernel/lib/handlers_v5.js:116:18)",
      "    at Kernel.onShellMessage (/usr/local/lib/node_modules/itypescript/node_modules/jp-kernel/lib/jp-kernel.js:285:41)",
      "    at Socket.<anonymous> (/usr/local/lib/node_modules/itypescript/node_modules/jmp/index.js:350:17)",
      "    at Socket.emit (node:events:513:28)",
      "    at Socket._emitMessage (/usr/local/lib/node_modules/itypescript/node_modules/zeromq/lib/index.js:649:15)"
     ]
    }
   ],
   "source": [
    "type P = ReturnType<f>;"
   ]
  },
  {
   "cell_type": "code",
   "execution_count": 11,
   "id": "5d92cda5-021e-41f7-9c17-74569170461d",
   "metadata": {},
   "outputs": [
    {
     "data": {
      "text/plain": [
       "undefined"
      ]
     },
     "execution_count": 11,
     "metadata": {},
     "output_type": "execute_result"
    }
   ],
   "source": [
    "type P = ReturnType<typeof f>;"
   ]
  },
  {
   "cell_type": "code",
   "execution_count": null,
   "id": "97e833f1-d302-4339-94dc-b064a9e14816",
   "metadata": {},
   "outputs": [],
   "source": []
  }
 ],
 "metadata": {
  "kernelspec": {
   "display_name": "Typescript 4.9",
   "language": "typescript",
   "name": "typescript"
  },
  "language_info": {
   "file_extension": ".ts",
   "mimetype": "application/x-typescript",
   "name": "typescript",
   "version": "4.9.5"
  }
 },
 "nbformat": 4,
 "nbformat_minor": 5
}
