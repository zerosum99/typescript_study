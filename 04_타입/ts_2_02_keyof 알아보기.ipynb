{
 "cells": [
  {
   "cell_type": "code",
   "execution_count": null,
   "id": "7ce3c8f6-8cb0-439e-81dd-43b06aed6f8a",
   "metadata": {},
   "outputs": [],
   "source": []
  },
  {
   "cell_type": "markdown",
   "id": "e42d1385-285d-498b-98c5-4d76b8a9c399",
   "metadata": {},
   "source": [
    "## 1. keyof 와 typeof 사용하기 \n",
    "\n",
    "- keyof : 객체 형태의 타입을, 따로 속성들만 뽑아 모아 유니온 타입으로 만들어주는 연산자\n",
    "- typeof : 객체 형태의 타입을 가져옴 "
   ]
  },
  {
   "cell_type": "markdown",
   "id": "8d051623-58d6-455b-b86e-5f340bd6e144",
   "metadata": {},
   "source": [
    "## 1-1 keyof 로 속성확인하기\n",
    "\n",
    "-  타입에서 정의된 프로퍼티 이름을 가져옴 "
   ]
  },
  {
   "cell_type": "markdown",
   "id": "059284b0-fb61-4f55-b495-af75a89a87a2",
   "metadata": {},
   "source": [
    "### 타입별칭에서 처리 \n",
    "\n",
    "- 타입별칭을 정의\n",
    "- 다른 타입명에 keyof로 기존 타입을 지정\n",
    "- 그러면 타입의 속성을 유니온 타입으로 지정"
   ]
  },
  {
   "cell_type": "code",
   "execution_count": 1,
   "id": "047934d3-e623-479c-8294-c1aed8e59d74",
   "metadata": {},
   "outputs": [
    {
     "data": {
      "text/plain": [
       "'use strict'"
      ]
     },
     "execution_count": 1,
     "metadata": {},
     "output_type": "execute_result"
    }
   ],
   "source": [
    "type Type = {\n",
    "   name: string;\n",
    "   age: number;\n",
    "   married: boolean;\n",
    "}\n"
   ]
  },
  {
   "cell_type": "code",
   "execution_count": 2,
   "id": "76209e10-5d7a-4538-80fe-89f65e62ab45",
   "metadata": {},
   "outputs": [
    {
     "data": {
      "text/plain": [
       "undefined"
      ]
     },
     "execution_count": 2,
     "metadata": {},
     "output_type": "execute_result"
    }
   ],
   "source": [
    "type Union = keyof Type;\n",
    "// type Union = name | age | married"
   ]
  },
  {
   "cell_type": "code",
   "execution_count": 3,
   "id": "b6b8ee5e-67e7-4324-9f3f-c574add81ea5",
   "metadata": {},
   "outputs": [
    {
     "data": {
      "text/plain": [
       "undefined"
      ]
     },
     "execution_count": 3,
     "metadata": {},
     "output_type": "execute_result"
    }
   ],
   "source": [
    "const a:Union = 'name';\n",
    "const b:Union = 'age';\n",
    "const c:Union = 'married';"
   ]
  },
  {
   "cell_type": "markdown",
   "id": "f096a3fa-3e64-4854-8c17-8ca44bd3d2ba",
   "metadata": {},
   "source": [
    "### 인터페이스에서 처리 \n",
    "\n",
    "- 인터페이스 정의\n",
    "- 다른 타입명에 keyof로 기존 타입을 지정\n",
    "- 그러면 타입의 속성을 유니온 타입으로 지정"
   ]
  },
  {
   "cell_type": "code",
   "execution_count": 4,
   "id": "de0b27bf-3771-432f-8aa0-037c934547d8",
   "metadata": {},
   "outputs": [
    {
     "data": {
      "text/plain": [
       "undefined"
      ]
     },
     "execution_count": 4,
     "metadata": {},
     "output_type": "execute_result"
    }
   ],
   "source": [
    "interface Person {\n",
    "  name: string;\n",
    "  age: number;\n",
    "  address: string;\n",
    "}"
   ]
  },
  {
   "cell_type": "code",
   "execution_count": 5,
   "id": "20e02b47-7728-4bb8-84ad-cfc1abee1414",
   "metadata": {},
   "outputs": [
    {
     "data": {
      "text/plain": [
       "undefined"
      ]
     },
     "execution_count": 5,
     "metadata": {},
     "output_type": "execute_result"
    }
   ],
   "source": [
    "type PersonKeys = keyof Person; // Person의 속성 키를 추출한 타입"
   ]
  },
  {
   "cell_type": "code",
   "execution_count": 6,
   "id": "06fcf681-668c-42f3-ba5a-0a770564d353",
   "metadata": {},
   "outputs": [
    {
     "data": {
      "text/plain": [
       "undefined"
      ]
     },
     "execution_count": 6,
     "metadata": {},
     "output_type": "execute_result"
    }
   ],
   "source": [
    "const key1: PersonKeys = \"name\"; // 유효한 속성 키\n",
    "const key2: PersonKeys = \"age\";  // 다른 유효한 속성 키\n",
    "\n"
   ]
  },
  {
   "cell_type": "code",
   "execution_count": 7,
   "id": "8cb5ab00-25fc-4790-ad86-bc5f00fdaa18",
   "metadata": {},
   "outputs": [
    {
     "data": {
      "text/plain": [
       "'string'"
      ]
     },
     "execution_count": 7,
     "metadata": {},
     "output_type": "execute_result"
    }
   ],
   "source": [
    "typeof key1"
   ]
  },
  {
   "cell_type": "markdown",
   "id": "c5a4057d-662d-4cd7-883c-e80770b3e99f",
   "metadata": {},
   "source": [
    "### 리터럴을 다르게 지정할 경우 오류 발생 "
   ]
  },
  {
   "cell_type": "code",
   "execution_count": 8,
   "id": "490cccad-13ff-4de4-af2c-90257ef26132",
   "metadata": {},
   "outputs": [
    {
     "ename": "Error",
     "evalue": "Line 1, Character 7\nconst key3: PersonKeys = \"gender\"; // 오류: 존재하지 않는 속성 키\n______^\nTS2322: Type '\"gender\"' is not assignable to type 'keyof Person'.",
     "execution_count": 8,
     "output_type": "error",
     "traceback": [
      "Error: Line 1, Character 7",
      "const key3: PersonKeys = \"gender\"; // 오류: 존재하지 않는 속성 키",
      "______^",
      "TS2322: Type '\"gender\"' is not assignable to type 'keyof Person'.",
      "    at execTranspile (/usr/local/lib/node_modules/itypescript/lib/kernel.js:229:23)",
      "    at Session.transpiler [as transpile] (/usr/local/lib/node_modules/itypescript/lib/kernel.js:288:35)",
      "    at Session._runNow (/usr/local/lib/node_modules/itypescript/node_modules/nel/lib/nel.js:835:39)",
      "    at Session._runNext (/usr/local/lib/node_modules/itypescript/node_modules/nel/lib/nel.js:876:14)",
      "    at Session._onMessage (/usr/local/lib/node_modules/itypescript/node_modules/nel/lib/nel.js:773:14)",
      "    at ChildProcess.emit (node:events:513:28)",
      "    at emit (node:internal/child_process:937:14)",
      "    at process.processTicksAndRejections (node:internal/process/task_queues:83:21)"
     ]
    }
   ],
   "source": [
    "const key3: PersonKeys = \"gender\"; // 오류: 존재하지 않는 속성 키"
   ]
  },
  {
   "cell_type": "code",
   "execution_count": null,
   "id": "493e44ba-d91f-4386-8a39-b9b7a1e78dd4",
   "metadata": {},
   "outputs": [],
   "source": []
  },
  {
   "cell_type": "markdown",
   "id": "8375e096-6516-4627-b060-5fb90a2d6620",
   "metadata": {},
   "source": [
    "## 1-2 keyof typeof\n",
    "\n",
    "- 기존 객체를 타입으로 정의한 후에 그 속성을 가져와서 유니언 타입으로 지정\n",
    "- 객체 정의\n",
    "- 객체를 타입으로 변환하고 유니언 타입으로 지정"
   ]
  },
  {
   "cell_type": "markdown",
   "id": "27822ddc-e0e4-4e2f-ba10-eb6132a3c5ea",
   "metadata": {},
   "source": [
    "## 객체 지정 "
   ]
  },
  {
   "cell_type": "code",
   "execution_count": 9,
   "id": "4381ad34-7eb6-47a7-8970-77703608dccf",
   "metadata": {},
   "outputs": [
    {
     "data": {
      "text/plain": [
       "undefined"
      ]
     },
     "execution_count": 9,
     "metadata": {},
     "output_type": "execute_result"
    }
   ],
   "source": [
    "const colors = {\n",
    "  red: \"#FF0000\",\n",
    "  green: \"#00FF00\",\n",
    "  blue: \"#0000FF\"\n",
    "};"
   ]
  },
  {
   "cell_type": "markdown",
   "id": "953a5294-77f5-43de-ab83-f9e6608569ce",
   "metadata": {},
   "source": [
    "### 객체를 타입으로 변환한 후에 키를 추출 "
   ]
  },
  {
   "cell_type": "code",
   "execution_count": 10,
   "id": "c328c597-4085-4df6-bf9a-416d812d6e79",
   "metadata": {},
   "outputs": [
    {
     "data": {
      "text/plain": [
       "undefined"
      ]
     },
     "execution_count": 10,
     "metadata": {},
     "output_type": "execute_result"
    }
   ],
   "source": [
    "type ColorKeys = keyof typeof colors;"
   ]
  },
  {
   "cell_type": "markdown",
   "id": "812fdb0c-a46e-4aad-8915-6e115d828457",
   "metadata": {},
   "source": [
    "### 함수 정의 "
   ]
  },
  {
   "cell_type": "code",
   "execution_count": 11,
   "id": "e247f4e3-dee1-40af-b2e8-1ea85741bc16",
   "metadata": {},
   "outputs": [
    {
     "data": {
      "text/plain": [
       "undefined"
      ]
     },
     "execution_count": 11,
     "metadata": {},
     "output_type": "execute_result"
    }
   ],
   "source": [
    "function getColor(key: ColorKeys): string {\n",
    "  return colors[key];\n",
    "}\n"
   ]
  },
  {
   "cell_type": "markdown",
   "id": "6d1d176e-9378-4d73-9ed1-61069f541a3b",
   "metadata": {},
   "source": [
    "### 속성을 변수에 할당 하고 함수 호출 "
   ]
  },
  {
   "cell_type": "code",
   "execution_count": 12,
   "id": "039ba1c7-ed07-4c94-beed-bd5f6ba5566d",
   "metadata": {},
   "outputs": [
    {
     "name": "stdout",
     "output_type": "stream",
     "text": [
      "#FF0000\n"
     ]
    },
    {
     "data": {
      "text/plain": [
       "undefined"
      ]
     },
     "execution_count": 12,
     "metadata": {},
     "output_type": "execute_result"
    }
   ],
   "source": [
    "const colorKey: ColorKeys = \"red\"; // 유효한 속성 키\n",
    "\n",
    "console.log(getColor(colorKey)); // #FF0000"
   ]
  },
  {
   "cell_type": "markdown",
   "id": "6974152c-3b7e-40cb-a05a-cab1ddc8840c",
   "metadata": {},
   "source": [
    "### 없는 속성을 처리 "
   ]
  },
  {
   "cell_type": "code",
   "execution_count": 13,
   "id": "8482cc6d-1e61-42a6-b2c7-f4b71b630fc1",
   "metadata": {},
   "outputs": [
    {
     "ename": "Error",
     "evalue": "Line 1, Character 7\nconst invalidKey: ColorKeys = \"yellow\"; // 오류: 존재하지 않는 속성 키\n______^\nTS2322: Type '\"yellow\"' is not assignable to type '\"red\" | \"green\" | \"blue\"'.",
     "execution_count": 13,
     "output_type": "error",
     "traceback": [
      "Error: Line 1, Character 7",
      "const invalidKey: ColorKeys = \"yellow\"; // 오류: 존재하지 않는 속성 키",
      "______^",
      "TS2322: Type '\"yellow\"' is not assignable to type '\"red\" | \"green\" | \"blue\"'.",
      "    at execTranspile (/usr/local/lib/node_modules/itypescript/lib/kernel.js:229:23)",
      "    at Session.transpiler [as transpile] (/usr/local/lib/node_modules/itypescript/lib/kernel.js:288:35)",
      "    at Session._runNow (/usr/local/lib/node_modules/itypescript/node_modules/nel/lib/nel.js:835:39)",
      "    at Session._runNext (/usr/local/lib/node_modules/itypescript/node_modules/nel/lib/nel.js:876:14)",
      "    at Session._onMessage (/usr/local/lib/node_modules/itypescript/node_modules/nel/lib/nel.js:773:14)",
      "    at ChildProcess.emit (node:events:513:28)",
      "    at emit (node:internal/child_process:937:14)",
      "    at process.processTicksAndRejections (node:internal/process/task_queues:83:21)"
     ]
    }
   ],
   "source": [
    "const invalidKey: ColorKeys = \"yellow\"; // 오류: 존재하지 않는 속성 키"
   ]
  },
  {
   "cell_type": "code",
   "execution_count": null,
   "id": "9bb55f60-89e9-4047-97e5-f7835f7d5cb4",
   "metadata": {},
   "outputs": [],
   "source": []
  },
  {
   "cell_type": "markdown",
   "id": "e0d5125e-3c4d-4b15-9bda-af1ffebad1ba",
   "metadata": {},
   "source": [
    "## 1-3 제너릭 함수에서 속성 타입 유무 확인하기 "
   ]
  },
  {
   "cell_type": "code",
   "execution_count": 14,
   "id": "f631cc76-0f88-4f29-82b2-b07978331b11",
   "metadata": {},
   "outputs": [
    {
     "data": {
      "text/plain": [
       "undefined"
      ]
     },
     "execution_count": 14,
     "metadata": {},
     "output_type": "execute_result"
    }
   ],
   "source": [
    "// 객체를 받아서 특정 객체 속성을 확인하는 함수\n",
    "function getProperty<T, K extends keyof T>(obj: T, key: K) {\n",
    "    return obj[key];\n",
    "}\n"
   ]
  },
  {
   "cell_type": "code",
   "execution_count": null,
   "id": "ab6c78dd-1ffc-4c1b-9d25-8ec55ce061c0",
   "metadata": {},
   "outputs": [],
   "source": []
  },
  {
   "cell_type": "code",
   "execution_count": 15,
   "id": "df7dff4d-f6a3-49dd-a0bf-b7d135ce6c29",
   "metadata": {},
   "outputs": [
    {
     "data": {
      "text/plain": [
       "undefined"
      ]
     },
     "execution_count": 15,
     "metadata": {},
     "output_type": "execute_result"
    }
   ],
   "source": [
    "let x = { a: 1, b: 2, c: 3, d: 4 };"
   ]
  },
  {
   "cell_type": "code",
   "execution_count": 16,
   "id": "fe7934d0-9469-4942-9b33-1e140dabb5f7",
   "metadata": {},
   "outputs": [
    {
     "data": {
      "text/plain": [
       "1"
      ]
     },
     "execution_count": 16,
     "metadata": {},
     "output_type": "execute_result"
    }
   ],
   "source": [
    "getProperty(x, \"a\"); // 성공\n"
   ]
  },
  {
   "cell_type": "code",
   "execution_count": 17,
   "id": "b7abdf49-0ec2-4cd8-83b2-d4d5309d1e2f",
   "metadata": {},
   "outputs": [
    {
     "ename": "Error",
     "evalue": "Line 1, Character 16\ngetProperty(x, \"m\"); // 오류: 인수의 타입 'm' 은 'a' | 'b' | 'c' | 'd'에 해당되지 않음.\n_______________^\nTS2345: Argument of type '\"m\"' is not assignable to parameter of type '\"a\" | \"b\" | \"c\" | \"d\"'.",
     "execution_count": 17,
     "output_type": "error",
     "traceback": [
      "Error: Line 1, Character 16",
      "getProperty(x, \"m\"); // 오류: 인수의 타입 'm' 은 'a' | 'b' | 'c' | 'd'에 해당되지 않음.",
      "_______________^",
      "TS2345: Argument of type '\"m\"' is not assignable to parameter of type '\"a\" | \"b\" | \"c\" | \"d\"'.",
      "    at execTranspile (/usr/local/lib/node_modules/itypescript/lib/kernel.js:229:23)",
      "    at Session.transpiler [as transpile] (/usr/local/lib/node_modules/itypescript/lib/kernel.js:288:35)",
      "    at Session._runNow (/usr/local/lib/node_modules/itypescript/node_modules/nel/lib/nel.js:835:39)",
      "    at Session._runNext (/usr/local/lib/node_modules/itypescript/node_modules/nel/lib/nel.js:876:14)",
      "    at Session._onMessage (/usr/local/lib/node_modules/itypescript/node_modules/nel/lib/nel.js:773:14)",
      "    at ChildProcess.emit (node:events:513:28)",
      "    at emit (node:internal/child_process:937:14)",
      "    at process.processTicksAndRejections (node:internal/process/task_queues:83:21)"
     ]
    }
   ],
   "source": [
    "getProperty(x, \"m\"); // 오류: 인수의 타입 'm' 은 'a' | 'b' | 'c' | 'd'에 해당되지 않음."
   ]
  },
  {
   "cell_type": "code",
   "execution_count": null,
   "id": "aca57ad5-dd42-4dad-b068-99733e5b0dee",
   "metadata": {},
   "outputs": [],
   "source": []
  }
 ],
 "metadata": {
  "kernelspec": {
   "display_name": "Typescript 4.9",
   "language": "typescript",
   "name": "typescript"
  },
  "language_info": {
   "file_extension": ".ts",
   "mimetype": "application/x-typescript",
   "name": "typescript",
   "version": "4.9.5"
  }
 },
 "nbformat": 4,
 "nbformat_minor": 5
}
