{
 "cells": [
  {
   "cell_type": "code",
   "execution_count": null,
   "id": "74972b9b-7834-4eb1-85ca-9413c5e12262",
   "metadata": {},
   "outputs": [],
   "source": []
  },
  {
   "cell_type": "code",
   "execution_count": null,
   "id": "082d84d3-379d-460f-a00a-2cfc67c0fe5d",
   "metadata": {},
   "outputs": [],
   "source": []
  },
  {
   "cell_type": "markdown",
   "id": "7e95cddc-7f77-4c8b-8c00-01ad869aa204",
   "metadata": {},
   "source": [
    "## typeof 연산자 \n",
    "\n",
    "\n",
    "### 확인 가능한 자료형\n",
    "\n",
    "- “undefined”: undefined\n",
    "- “boolean”: boolean\n",
    "- “number”: 일반적인 숫자형 Number\n",
    "- “bigint”: Number보다 큰 숫자형\n",
    "- “string”: string\n",
    "- “symbol”: Symbol (ECMAScript 2015에서 추가됨)\n",
    "- “function”: 함수형\n",
    "- “object”: 다른 모든 객체"
   ]
  },
  {
   "cell_type": "code",
   "execution_count": 1,
   "id": "72f3c915-b945-41bd-87ce-adaa529abbd2",
   "metadata": {},
   "outputs": [
    {
     "name": "stdout",
     "output_type": "stream",
     "text": [
      "number\n",
      "string\n"
     ]
    },
    {
     "data": {
      "text/plain": [
       "undefined"
      ]
     },
     "execution_count": 1,
     "metadata": {},
     "output_type": "execute_result"
    }
   ],
   "source": [
    "let myNumber = 123;\n",
    "console.log(typeof myNumber); // 출력: number\n",
    "\n",
    "let myString = \"hello\";\n",
    "console.log(typeof myString); // 출력: string"
   ]
  },
  {
   "cell_type": "code",
   "execution_count": null,
   "id": "bea8b289-d0c3-4974-b631-b113437a30bc",
   "metadata": {},
   "outputs": [],
   "source": []
  },
  {
   "cell_type": "markdown",
   "id": "88598040-0afb-456a-b5ac-97718a0e6975",
   "metadata": {},
   "source": [
    "## instanceof 연산자 "
   ]
  },
  {
   "cell_type": "code",
   "execution_count": 8,
   "id": "eeafe1d3-bdba-45b6-a1ba-fa144d8034d9",
   "metadata": {},
   "outputs": [
    {
     "name": "stdout",
     "output_type": "stream",
     "text": [
      "true\n"
     ]
    },
    {
     "data": {
      "text/plain": [
       "undefined"
      ]
     },
     "execution_count": 8,
     "metadata": {},
     "output_type": "execute_result"
    }
   ],
   "source": [
    "class User {\n",
    "  name: string;\n",
    "  constructor(name: string) {\n",
    "    this.name = name;\n",
    "  }\n",
    "}\n",
    "\n",
    "const person = new User('username');\n",
    "console.log(person instanceof User);"
   ]
  },
  {
   "cell_type": "code",
   "execution_count": 9,
   "id": "b139f4c6-f62a-4651-b14a-7c8c1b9d2eab",
   "metadata": {},
   "outputs": [
    {
     "name": "stdout",
     "output_type": "stream",
     "text": [
      "true\n",
      "true\n",
      "true\n",
      "false\n"
     ]
    },
    {
     "data": {
      "text/plain": [
       "undefined"
      ]
     },
     "execution_count": 9,
     "metadata": {},
     "output_type": "execute_result"
    }
   ],
   "source": [
    "class Foo{}\n",
    "class Bar extends Foo{}\n",
    "class Bas{}\n",
    "\n",
    "var bar = new Bar();\n",
    "console.log(bar instanceof Bar); // true\n",
    "console.log(bar instanceof Foo); // true\n",
    "console.log(bar instanceof Object); // true\n",
    "console.log(bar instanceof Bas); // false"
   ]
  },
  {
   "cell_type": "code",
   "execution_count": null,
   "id": "5d28a77f-bb0c-4d38-8d90-f6235139530e",
   "metadata": {},
   "outputs": [],
   "source": []
  }
 ],
 "metadata": {
  "kernelspec": {
   "display_name": "Typescript 4.9",
   "language": "typescript",
   "name": "typescript"
  },
  "language_info": {
   "file_extension": ".ts",
   "mimetype": "application/x-typescript",
   "name": "typescript",
   "version": "4.9.5"
  }
 },
 "nbformat": 4,
 "nbformat_minor": 5
}
