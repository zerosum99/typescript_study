{
 "cells": [
  {
   "cell_type": "code",
   "execution_count": null,
   "id": "27b499b3-b91b-4bc6-b7ad-01726ef6de45",
   "metadata": {},
   "outputs": [],
   "source": []
  },
  {
   "cell_type": "markdown",
   "id": "f6a3ec60-6c75-4e90-9ad6-58a39fdd53d9",
   "metadata": {},
   "source": [
    "## 1. 맵드 타입"
   ]
  },
  {
   "cell_type": "markdown",
   "id": "cc1a102c-d07f-48fe-bbd5-73e70cd87459",
   "metadata": {},
   "source": [
    "## 맵드 타입은 주로 다음과 같은 상황에서 유용합니다:\n",
    "\n",
    "- 기존 타입의 모든 속성을 읽기 전용(readonly) 속성으로 변경할 때.\n",
    "- 기존 타입의 모든 속성을 선택적(optional) 속성으로 변경할 때.\n",
    "- 기존 타입의 모든 속성을 다른 타입으로 변환할 때.\n",
    "- 기존 타입에서 일부 속성을 필터링하여 새로운 타입을 생성할 때."
   ]
  },
  {
   "cell_type": "code",
   "execution_count": null,
   "id": "64b9aa6f-d8e9-4c28-8ff8-34d780dc8a47",
   "metadata": {},
   "outputs": [],
   "source": [
    "type NewType = { [P in keyof OldType]: NewPropertyType };"
   ]
  },
  {
   "cell_type": "code",
   "execution_count": null,
   "id": "2726e7de-6565-4b45-80d6-e132a1a318b6",
   "metadata": {},
   "outputs": [],
   "source": []
  },
  {
   "cell_type": "code",
   "execution_count": null,
   "id": "6e1415bf-f560-45b9-955d-48a20249d14f",
   "metadata": {},
   "outputs": [],
   "source": []
  },
  {
   "cell_type": "markdown",
   "id": "e62103e5-2bd4-4598-a18b-dbe98c0c968f",
   "metadata": {},
   "source": [
    "## 기존 인터페이스를 가지고 처리하기 "
   ]
  },
  {
   "cell_type": "code",
   "execution_count": 1,
   "id": "3dee2cdc-5ddb-41ad-a9f1-a5096d657da3",
   "metadata": {},
   "outputs": [
    {
     "data": {
      "text/plain": [
       "'use strict'"
      ]
     },
     "execution_count": 1,
     "metadata": {},
     "output_type": "execute_result"
    }
   ],
   "source": [
    "type MakePropertiesReadonly<T> = {\n",
    "  readonly [P in keyof T]: T[P];\n",
    "};\n",
    "\n",
    "interface Person {\n",
    "  name: string;\n",
    "  age: number;\n",
    "}\n",
    "\n"
   ]
  },
  {
   "cell_type": "code",
   "execution_count": 2,
   "id": "56e54619-bb83-41fd-b8e9-da8c0ecd334c",
   "metadata": {},
   "outputs": [
    {
     "data": {
      "text/plain": [
       "undefined"
      ]
     },
     "execution_count": 2,
     "metadata": {},
     "output_type": "execute_result"
    }
   ],
   "source": [
    "type ReadonlyPerson = MakePropertiesReadonly<Person>;"
   ]
  },
  {
   "cell_type": "code",
   "execution_count": 3,
   "id": "ac83e495-2e6b-41d5-8d8a-deb28ee0e95f",
   "metadata": {},
   "outputs": [
    {
     "data": {
      "text/plain": [
       "undefined"
      ]
     },
     "execution_count": 3,
     "metadata": {},
     "output_type": "execute_result"
    }
   ],
   "source": [
    "const rp : ReadonlyPerson = {\n",
    "    name : \" rp\",\n",
    "    age : 33\n",
    "}"
   ]
  },
  {
   "cell_type": "code",
   "execution_count": 4,
   "id": "29dde199-52e8-4136-ac81-f636a3f06896",
   "metadata": {},
   "outputs": [
    {
     "ename": "Error",
     "evalue": "Line 1, Character 4\nrp.name = \"변경\";\n___^\nTS2540: Cannot assign to 'name' because it is a read-only property.",
     "execution_count": 4,
     "output_type": "error",
     "traceback": [
      "Error: Line 1, Character 4",
      "rp.name = \"변경\";",
      "___^",
      "TS2540: Cannot assign to 'name' because it is a read-only property.",
      "    at execTranspile (/usr/local/lib/node_modules/itypescript/lib/kernel.js:229:23)",
      "    at Session.transpiler [as transpile] (/usr/local/lib/node_modules/itypescript/lib/kernel.js:288:35)",
      "    at Session._runNow (/usr/local/lib/node_modules/itypescript/node_modules/nel/lib/nel.js:835:39)",
      "    at Session._run (/usr/local/lib/node_modules/itypescript/node_modules/nel/lib/nel.js:786:14)",
      "    at Session.execute (/usr/local/lib/node_modules/itypescript/node_modules/nel/lib/nel.js:929:10)",
      "    at Kernel.execute_request (/usr/local/lib/node_modules/itypescript/node_modules/jp-kernel/lib/handlers_v5.js:116:18)",
      "    at Kernel.onShellMessage (/usr/local/lib/node_modules/itypescript/node_modules/jp-kernel/lib/jp-kernel.js:285:41)",
      "    at Socket.<anonymous> (/usr/local/lib/node_modules/itypescript/node_modules/jmp/index.js:350:17)",
      "    at Socket.emit (node:events:513:28)",
      "    at Socket._emitMessage (/usr/local/lib/node_modules/itypescript/node_modules/zeromq/lib/index.js:649:15)"
     ]
    }
   ],
   "source": [
    "rp.name = \"변경\";"
   ]
  },
  {
   "cell_type": "code",
   "execution_count": null,
   "id": "76a35269-9409-4b30-af39-d9e3765b90ff",
   "metadata": {},
   "outputs": [],
   "source": []
  }
 ],
 "metadata": {
  "kernelspec": {
   "display_name": "Typescript 4.9",
   "language": "typescript",
   "name": "typescript"
  },
  "language_info": {
   "file_extension": ".ts",
   "mimetype": "application/x-typescript",
   "name": "typescript",
   "version": "4.9.5"
  }
 },
 "nbformat": 4,
 "nbformat_minor": 5
}
