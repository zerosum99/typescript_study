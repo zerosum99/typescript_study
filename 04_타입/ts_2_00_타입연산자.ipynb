{
 "cells": [
  {
   "cell_type": "code",
   "execution_count": null,
   "id": "9e5ff738-f33a-44a6-8206-82f6b14b65bc",
   "metadata": {},
   "outputs": [],
   "source": []
  },
  {
   "cell_type": "markdown",
   "id": "93d98a32-fdf1-4ed7-b37c-624ec4814568",
   "metadata": {},
   "source": [
    "## 1. 타입연산자\n",
    "\n",
    "- 키워드나 기존 타입의 이름만 사용해 모든 타입을 나타낼 수는 없다. 때로는 기존 타입의 속성 일부를 변환해서 두 타입을 결합하는 새로운 타입을 생성해야 한다.\n",
    "\n",
    "- typeof\n",
    "- keyof\n",
    "- keyof typeof"
   ]
  },
  {
   "cell_type": "code",
   "execution_count": null,
   "id": "0fb468d5-7e7d-4a48-97e5-d92985d72f76",
   "metadata": {},
   "outputs": [],
   "source": []
  },
  {
   "cell_type": "markdown",
   "id": "46cc5963-49df-4f0a-9bb2-40893516fb9c",
   "metadata": {},
   "source": [
    "## 1-1 keyof\n",
    "keyof는 타입스크립트에서 제공하는 타입 연산자 중 하나로, 객체의 속성 이름을 문자열 리터럴 타입으로 추출하는 연산자이다."
   ]
  },
  {
   "cell_type": "markdown",
   "id": "56d2cff4-230e-4d0b-a8f3-7302c6777176",
   "metadata": {},
   "source": [
    "### keyof를 사용해서 타입 재정의 "
   ]
  },
  {
   "cell_type": "code",
   "execution_count": 2,
   "id": "d5c7d3f1-ad75-491e-9da9-e20d59a8705e",
   "metadata": {},
   "outputs": [
    {
     "data": {
      "text/plain": [
       "'use strict'"
      ]
     },
     "execution_count": 2,
     "metadata": {},
     "output_type": "execute_result"
    }
   ],
   "source": [
    "interface Person {\n",
    "  name: string;\n",
    "  age: number;\n",
    "  location: string;\n",
    "}\n",
    "\n",
    "type PersonKeys = keyof Person;\n",
    "type PersonPartial = Partial<Person>;\n",
    "type PersonRecord = Record<PersonKeys, string>;"
   ]
  },
  {
   "cell_type": "code",
   "execution_count": null,
   "id": "e70539b9-7895-4bfc-aff9-23ba7651e515",
   "metadata": {},
   "outputs": [],
   "source": []
  },
  {
   "cell_type": "markdown",
   "id": "4ee61678-072b-4ed6-aac2-3c8fb845f08c",
   "metadata": {},
   "source": [
    "## 1-2 함수의 매개변수 타입(keyof)에 지정 \n",
    "\n",
    "- 특정 타입의 속성만 함수의 인자로 받음"
   ]
  },
  {
   "cell_type": "code",
   "execution_count": 3,
   "id": "dc9a8444-60c0-4144-81ff-09228c8df497",
   "metadata": {},
   "outputs": [
    {
     "data": {
      "text/plain": [
       "undefined"
      ]
     },
     "execution_count": 3,
     "metadata": {},
     "output_type": "execute_result"
    }
   ],
   "source": [
    "interface Info {\n",
    "  name: string;\n",
    "  age: number;\n",
    "  location: string;\n",
    "}"
   ]
  },
  {
   "cell_type": "code",
   "execution_count": 4,
   "id": "816bcde8-a550-46cf-b617-31e9fc8694ce",
   "metadata": {},
   "outputs": [
    {
     "data": {
      "text/plain": [
       "undefined"
      ]
     },
     "execution_count": 4,
     "metadata": {},
     "output_type": "execute_result"
    }
   ],
   "source": [
    "function getInfo(info: Info, key: keyof Info) {\n",
    "  return info[key];\n",
    "}"
   ]
  },
  {
   "cell_type": "code",
   "execution_count": 5,
   "id": "0eaa1ddc-6d33-4e21-a1ce-e9399bead6df",
   "metadata": {},
   "outputs": [
    {
     "data": {
      "text/plain": [
       "undefined"
      ]
     },
     "execution_count": 5,
     "metadata": {},
     "output_type": "execute_result"
    }
   ],
   "source": [
    "const info: Info = {\n",
    "  name: 'Kim',\n",
    "  age: 20,\n",
    "  location: 'seoul',\n",
    "};"
   ]
  },
  {
   "cell_type": "code",
   "execution_count": 6,
   "id": "41c2ae46-1950-44d5-a139-026ea9f537c8",
   "metadata": {},
   "outputs": [
    {
     "data": {
      "text/plain": [
       "'Kim'"
      ]
     },
     "execution_count": 6,
     "metadata": {},
     "output_type": "execute_result"
    }
   ],
   "source": [
    "getInfo(info, 'name'); // Ok"
   ]
  },
  {
   "cell_type": "code",
   "execution_count": null,
   "id": "6de583ef-fff5-4ef6-b004-1bf05dccab9a",
   "metadata": {},
   "outputs": [],
   "source": []
  },
  {
   "cell_type": "markdown",
   "id": "04c51c9c-0858-413a-876c-f82077277fdf",
   "metadata": {},
   "source": [
    "### 키가 없을 경우 예외"
   ]
  },
  {
   "cell_type": "code",
   "execution_count": 7,
   "id": "58429db2-dec1-4f6b-a111-9ab32a0440fb",
   "metadata": {},
   "outputs": [
    {
     "ename": "Error",
     "evalue": "Line 1, Character 15\ngetInfo(info, 'not valid');\n______________^\nTS2345: Argument of type '\"not valid\"' is not assignable to parameter of type 'keyof Info'.",
     "execution_count": 7,
     "output_type": "error",
     "traceback": [
      "Error: Line 1, Character 15",
      "getInfo(info, 'not valid');",
      "______________^",
      "TS2345: Argument of type '\"not valid\"' is not assignable to parameter of type 'keyof Info'.",
      "    at execTranspile (/usr/local/lib/node_modules/itypescript/lib/kernel.js:229:23)",
      "    at Session.transpiler [as transpile] (/usr/local/lib/node_modules/itypescript/lib/kernel.js:288:35)",
      "    at Session._runNow (/usr/local/lib/node_modules/itypescript/node_modules/nel/lib/nel.js:835:39)",
      "    at Session._run (/usr/local/lib/node_modules/itypescript/node_modules/nel/lib/nel.js:786:14)",
      "    at Session.execute (/usr/local/lib/node_modules/itypescript/node_modules/nel/lib/nel.js:929:10)",
      "    at Kernel.execute_request (/usr/local/lib/node_modules/itypescript/node_modules/jp-kernel/lib/handlers_v5.js:116:18)",
      "    at Kernel.onShellMessage (/usr/local/lib/node_modules/itypescript/node_modules/jp-kernel/lib/jp-kernel.js:285:41)",
      "    at Socket.<anonymous> (/usr/local/lib/node_modules/itypescript/node_modules/jmp/index.js:350:17)",
      "    at Socket.emit (node:events:513:28)",
      "    at Socket._emitMessage (/usr/local/lib/node_modules/itypescript/node_modules/zeromq/lib/index.js:649:15)"
     ]
    }
   ],
   "source": [
    "getInfo(info, 'not valid');\n"
   ]
  },
  {
   "cell_type": "code",
   "execution_count": null,
   "id": "38334d30-cd81-4a40-9d15-c3bdcd5a0c7b",
   "metadata": {},
   "outputs": [],
   "source": []
  },
  {
   "cell_type": "markdown",
   "id": "6ad6d3a0-497a-4f81-b9a9-d45e979661c9",
   "metadata": {},
   "source": [
    "## 1-3 typeof\n",
    "\n",
    "- typeof는 타입스크립트에서 제공하는 또 다른 타입 연산자 중 하나로, 변수나 값의 타입을 추론하여 문자열 리터럴 타입으로 반환하는 연산자이다."
   ]
  },
  {
   "cell_type": "code",
   "execution_count": 10,
   "id": "a3a16c09-d69c-441c-a090-60176ddcef0c",
   "metadata": {},
   "outputs": [
    {
     "data": {
      "text/plain": [
       "undefined"
      ]
     },
     "execution_count": 10,
     "metadata": {},
     "output_type": "execute_result"
    }
   ],
   "source": [
    "const obj = {\n",
    "  name: 'Kim',\n",
    "  age: 20,\n",
    "  location: 'seoul',\n",
    "};\n",
    "\n",
    "type Info1 = typeof obj;\n",
    "/* \n",
    "type Info = {\n",
    "    name: string;\n",
    "    age: number;\n",
    "    location: string;\n",
    "}\n",
    "*/\n",
    "\n",
    "const obj2: Info1 = {\n",
    "  name: 'Roh',\n",
    "  age: 30,\n",
    "  location: 'incheon',\n",
    "};"
   ]
  },
  {
   "cell_type": "code",
   "execution_count": null,
   "id": "2557bb40-f2cf-4f23-a1fc-bf23e3fdb3a7",
   "metadata": {},
   "outputs": [],
   "source": []
  },
  {
   "cell_type": "markdown",
   "id": "5121ffd8-da0a-42d4-869a-c9cccdddb7bf",
   "metadata": {},
   "source": [
    "## 1-4 keyof typeof\n",
    "- keyof typeof 연산자는 객체의 속성 이름을 추출하여 문자열 리터럴 타입으로 반환하는 연산자이다. \n",
    "- 이 연산자는 typeof 연산자를 통해 객체의 타입을 추론하고, keyof 연산자를 통해 해당 객체의 속성 이름을 추출한다"
   ]
  },
  {
   "cell_type": "code",
   "execution_count": null,
   "id": "95d5d190-7fe8-4efb-aa18-46bd3828c553",
   "metadata": {},
   "outputs": [],
   "source": []
  },
  {
   "cell_type": "code",
   "execution_count": 11,
   "id": "618953d7-4bf1-4b42-af59-54da76995c6d",
   "metadata": {},
   "outputs": [
    {
     "name": "stdout",
     "output_type": "stream",
     "text": [
      "Roh\n"
     ]
    },
    {
     "data": {
      "text/plain": [
       "undefined"
      ]
     },
     "execution_count": 11,
     "metadata": {},
     "output_type": "execute_result"
    }
   ],
   "source": [
    "const person = {\n",
    "  name: 'Roh',\n",
    "  age: 30,\n",
    "  location: 'Incheon',\n",
    "};\n",
    "\n",
    "function printPersonProperty(key: keyof typeof person) {\n",
    "  console.log(person[key]);\n",
    "}\n",
    "\n",
    "printPersonProperty('name'); // Ok\n"
   ]
  },
  {
   "cell_type": "code",
   "execution_count": null,
   "id": "73a08458-8e6f-44c2-8723-bce6b1951abb",
   "metadata": {},
   "outputs": [],
   "source": []
  },
  {
   "cell_type": "code",
   "execution_count": 12,
   "id": "712bc6c5-0e02-4f90-92e5-f1f5b7d1644d",
   "metadata": {},
   "outputs": [
    {
     "ename": "Error",
     "evalue": "Line 2, Character 21\nprintPersonProperty('gender');\n____________________^\nTS2345: Argument of type '\"gender\"' is not assignable to parameter of type '\"name\" | \"age\" | \"location\"'.",
     "execution_count": 12,
     "output_type": "error",
     "traceback": [
      "Error: Line 2, Character 21",
      "printPersonProperty('gender');",
      "____________________^",
      "TS2345: Argument of type '\"gender\"' is not assignable to parameter of type '\"name\" | \"age\" | \"location\"'.",
      "    at execTranspile (/usr/local/lib/node_modules/itypescript/lib/kernel.js:229:23)",
      "    at Session.transpiler [as transpile] (/usr/local/lib/node_modules/itypescript/lib/kernel.js:288:35)",
      "    at Session._runNow (/usr/local/lib/node_modules/itypescript/node_modules/nel/lib/nel.js:835:39)",
      "    at Session._run (/usr/local/lib/node_modules/itypescript/node_modules/nel/lib/nel.js:786:14)",
      "    at Session.execute (/usr/local/lib/node_modules/itypescript/node_modules/nel/lib/nel.js:929:10)",
      "    at Kernel.execute_request (/usr/local/lib/node_modules/itypescript/node_modules/jp-kernel/lib/handlers_v5.js:116:18)",
      "    at Kernel.onShellMessage (/usr/local/lib/node_modules/itypescript/node_modules/jp-kernel/lib/jp-kernel.js:285:41)",
      "    at Socket.<anonymous> (/usr/local/lib/node_modules/itypescript/node_modules/jmp/index.js:350:17)",
      "    at Socket.emit (node:events:513:28)",
      "    at Socket._emitMessage (/usr/local/lib/node_modules/itypescript/node_modules/zeromq/lib/index.js:649:15)"
     ]
    }
   ],
   "source": [
    "\n",
    "printPersonProperty('gender');\n",
    "// Error: Argument of type '\"gender\"' is not assignable\n",
    "// to parameter of type '\"name\" | \"age\" | \"location\"'."
   ]
  },
  {
   "cell_type": "code",
   "execution_count": null,
   "id": "a35c033f-342f-4228-b302-027f4830a615",
   "metadata": {},
   "outputs": [],
   "source": []
  }
 ],
 "metadata": {
  "kernelspec": {
   "display_name": "Typescript 4.9",
   "language": "typescript",
   "name": "typescript"
  },
  "language_info": {
   "file_extension": ".ts",
   "mimetype": "application/x-typescript",
   "name": "typescript",
   "version": "4.9.5"
  }
 },
 "nbformat": 4,
 "nbformat_minor": 5
}
