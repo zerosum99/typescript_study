{
 "cells": [
  {
   "cell_type": "code",
   "execution_count": null,
   "id": "d3756c5d-cabc-49b0-92f5-4ad79d14e3fe",
   "metadata": {},
   "outputs": [],
   "source": []
  },
  {
   "cell_type": "markdown",
   "id": "95024050-2811-46f4-8df4-0e5645848dff",
   "metadata": {},
   "source": [
    "## 1. 타입 추론(Type Inference)\n",
    "- 변수나 함수의 타입을 명시적으로 선언하지 않아도 타입스크립트가 자동으로 해당 타입을 추론해주는 기능\n",
    "- 타입 추론은 코드를 간결하게 작성하고 유지보수를 용이"
   ]
  },
  {
   "cell_type": "markdown",
   "id": "de7ed45c-7064-460f-93af-703e88999f1f",
   "metadata": {},
   "source": [
    "## 1-1  변수 정의할 때 자료형 추론"
   ]
  },
  {
   "cell_type": "markdown",
   "id": "76a468ce-fd66-46c7-b35a-d250e7f02222",
   "metadata": {},
   "source": [
    "### 원시타입을 지정해서 타입 확인 "
   ]
  },
  {
   "cell_type": "code",
   "execution_count": 6,
   "id": "4c815445-b89e-4c7d-8bf1-7c91470d0ec6",
   "metadata": {},
   "outputs": [
    {
     "data": {
      "text/plain": [
       "undefined"
      ]
     },
     "execution_count": 6,
     "metadata": {},
     "output_type": "execute_result"
    }
   ],
   "source": [
    "{\n",
    "    let num = 10;              // TypeScript가 변수 num의 타입을 number로 추론\n",
    "    let str = \"hello\";         // TypeScript가 변수 str의 타입을 string으로 추론\n",
    "}"
   ]
  },
  {
   "cell_type": "markdown",
   "id": "99fcf220-d827-41dc-b573-f2b991c1af70",
   "metadata": {},
   "source": [
    "### typeof로 타입추론 확인"
   ]
  },
  {
   "cell_type": "code",
   "execution_count": null,
   "id": "ac6778a2-1efc-4f83-9a26-477de60a7861",
   "metadata": {},
   "outputs": [],
   "source": [
    "{ \n",
    "    let varA = 100;\n",
    "\n",
    "    console.log(typeof varA);\n",
    "}"
   ]
  },
  {
   "cell_type": "code",
   "execution_count": null,
   "id": "d4458949-530e-4ac4-9d52-7f1e7951b383",
   "metadata": {},
   "outputs": [],
   "source": []
  },
  {
   "cell_type": "markdown",
   "id": "bcf64687-82bc-492f-b84e-065484f6c586",
   "metadata": {},
   "source": [
    "## 1-2  함수의 반환값  추론"
   ]
  },
  {
   "cell_type": "code",
   "execution_count": 8,
   "id": "2caa67f8-9923-4316-90ee-d3f2bc438d9e",
   "metadata": {},
   "outputs": [
    {
     "data": {
      "text/plain": [
       "undefined"
      ]
     },
     "execution_count": 8,
     "metadata": {},
     "output_type": "execute_result"
    }
   ],
   "source": [
    "function add(a: number, b: number) {\n",
    "  return a + b; // TypeScript가 함수 반환 값의 타입을 number로 추론\n",
    "}"
   ]
  },
  {
   "cell_type": "code",
   "execution_count": 9,
   "id": "cf2b8c68-d719-4e40-abd4-ac1c390d14a6",
   "metadata": {},
   "outputs": [
    {
     "data": {
      "text/plain": [
       "300"
      ]
     },
     "execution_count": 9,
     "metadata": {},
     "output_type": "execute_result"
    }
   ],
   "source": [
    "add(100,200);"
   ]
  },
  {
   "cell_type": "markdown",
   "id": "04a44cb1-6f8f-4c6f-ba68-e2bca9f43810",
   "metadata": {},
   "source": [
    "## 1-3  배열과 객체의 타입을 추론 "
   ]
  },
  {
   "cell_type": "code",
   "execution_count": 11,
   "id": "3ec1bf47-74b5-49ee-94e9-46076db7802e",
   "metadata": {},
   "outputs": [
    {
     "data": {
      "text/plain": [
       "undefined"
      ]
     },
     "execution_count": 11,
     "metadata": {},
     "output_type": "execute_result"
    }
   ],
   "source": [
    "{ \n",
    "    let numbers = [1, 2, 3];                 // TypeScript가 변수 numbers의 타입을 number[]로 추론\n",
    "    let person = { name: \"John\", age: 30 };  // TypeScript가 변수 person의 타입을 { name: string, age: number }로 추론\n",
    "}"
   ]
  },
  {
   "cell_type": "code",
   "execution_count": null,
   "id": "e34ac3aa-df5e-45ba-8a3d-7b8fb602c04f",
   "metadata": {},
   "outputs": [],
   "source": []
  },
  {
   "cell_type": "markdown",
   "id": "0f473937-20e2-443e-b300-9cb1fc5337e0",
   "metadata": {},
   "source": [
    "## 1-4 적절한 타입 추론"
   ]
  },
  {
   "cell_type": "code",
   "execution_count": null,
   "id": "50c6311b-6035-4cf2-a468-cac37a26c31f",
   "metadata": {},
   "outputs": [],
   "source": []
  },
  {
   "cell_type": "markdown",
   "id": "e2dd8854-373c-43e1-990a-f5b9eabc970d",
   "metadata": {},
   "source": [
    "### 1-4-1. 가장 적절한 타입(Best Common Type)\n",
    "그 표현식을 이용하여 가장 근접한 타입을 추론하게 되는데 이 가장 근접한 타입"
   ]
  },
  {
   "cell_type": "code",
   "execution_count": 1,
   "id": "ad83c2cd-b393-4220-b07b-887ffc7541c6",
   "metadata": {},
   "outputs": [
    {
     "data": {
      "text/plain": [
       "'use strict'"
      ]
     },
     "execution_count": 1,
     "metadata": {},
     "output_type": "execute_result"
    }
   ],
   "source": [
    "let arr = [0, 1, null];"
   ]
  },
  {
   "cell_type": "code",
   "execution_count": 2,
   "id": "d748ab8b-6908-4e9f-b82f-100658578d2b",
   "metadata": {},
   "outputs": [
    {
     "data": {
      "text/plain": [
       "'object'"
      ]
     },
     "execution_count": 2,
     "metadata": {},
     "output_type": "execute_result"
    }
   ],
   "source": [
    "typeof arr"
   ]
  },
  {
   "cell_type": "code",
   "execution_count": null,
   "id": "dd5fc60f-4629-42d6-8b6a-3143e1324b23",
   "metadata": {},
   "outputs": [],
   "source": []
  },
  {
   "cell_type": "code",
   "execution_count": null,
   "id": "58bd247f-fb8a-498d-bb16-11f77f54c094",
   "metadata": {},
   "outputs": [],
   "source": []
  },
  {
   "cell_type": "code",
   "execution_count": null,
   "id": "7219a5d8-ba44-4b98-8b1a-65d5c48f730c",
   "metadata": {},
   "outputs": [],
   "source": []
  }
 ],
 "metadata": {
  "kernelspec": {
   "display_name": "Typescript 4.9",
   "language": "typescript",
   "name": "typescript"
  },
  "language_info": {
   "file_extension": ".ts",
   "mimetype": "application/x-typescript",
   "name": "typescript",
   "version": "4.9.5"
  }
 },
 "nbformat": 4,
 "nbformat_minor": 5
}
