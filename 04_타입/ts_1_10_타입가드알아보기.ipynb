{
 "cells": [
  {
   "cell_type": "code",
   "execution_count": null,
   "id": "43949765-cbdc-4844-a911-9bf2e3d1b302",
   "metadata": {},
   "outputs": [],
   "source": []
  },
  {
   "cell_type": "markdown",
   "id": "d40fabfa-1c34-4b55-a0a6-61e6b140170d",
   "metadata": {},
   "source": [
    "## 1. 타입 가드(Type Guard)\n",
    "-  런타임에 변수의 타입을 검사하고, 특정 조건을 충족하는 경우 해당 타입으로 타입을 좁히는 기능을 말합니다. \n",
    "- 이를 통해 unknown, any와 같이 모호한 타입을 보다 정확하게 타입으로 지정하거나, 유니온 타입의 각 타입을 구별하여 코드의 안정성을 높일 수 있습니다."
   ]
  },
  {
   "cell_type": "code",
   "execution_count": null,
   "id": "8a10aa18-33ca-48d3-b05f-6122d2f0f58a",
   "metadata": {},
   "outputs": [],
   "source": []
  },
  {
   "cell_type": "code",
   "execution_count": null,
   "id": "e2ae6aab-9a0c-4a79-805d-75065ca0a5a4",
   "metadata": {},
   "outputs": [],
   "source": []
  },
  {
   "cell_type": "markdown",
   "id": "5cf05ca0-ede2-4e02-a227-e315db8d746b",
   "metadata": {},
   "source": [
    "## 1-1 typeof 연산자를 이용한 타입 가드"
   ]
  },
  {
   "cell_type": "markdown",
   "id": "469020b5-9839-431c-9115-928ee2f26ed4",
   "metadata": {},
   "source": [
    "### 1-1-1 함수 매개변수에 대한 타입 가드\n",
    "- if 과 typeof 연계 "
   ]
  },
  {
   "cell_type": "markdown",
   "id": "c87b64e8-fbc7-4f2e-bbc4-6a8ce0fa7878",
   "metadata": {},
   "source": [
    "### 함수 매개변수의 타입가드 처리\n",
    "- 특정 타입을 내로잉 처리 아니면 에러 "
   ]
  },
  {
   "cell_type": "code",
   "execution_count": 1,
   "id": "4cb793c1-8a93-4b22-8f66-bb9c696388b8",
   "metadata": {},
   "outputs": [
    {
     "data": {
      "text/plain": [
       "'use strict'"
      ]
     },
     "execution_count": 1,
     "metadata": {},
     "output_type": "execute_result"
    }
   ],
   "source": [
    "function multiply(value: unknown, factor: number): number {\n",
    "  if (typeof value === 'number') {\n",
    "    return value * factor;\n",
    "  }\n",
    "  throw new Error('Invalid input: value should be a number.');\n",
    "}"
   ]
  },
  {
   "cell_type": "code",
   "execution_count": 2,
   "id": "94c1fcd3-9caa-468a-a624-c2818389d6b2",
   "metadata": {},
   "outputs": [
    {
     "data": {
      "text/plain": [
       "60000"
      ]
     },
     "execution_count": 2,
     "metadata": {},
     "output_type": "execute_result"
    }
   ],
   "source": [
    "multiply(200,300);"
   ]
  },
  {
   "cell_type": "markdown",
   "id": "4f41feeb-742d-4ff2-9b33-6ed83328dcbb",
   "metadata": {},
   "source": [
    "### 1-1-2 타입 단언\n",
    "\n",
    "- 특정 타입으로 한정 처리 \n",
    "\n",
    "-  객체 as 타입 을  사용 "
   ]
  },
  {
   "cell_type": "code",
   "execution_count": 1,
   "id": "5bf72cdd-3625-48e7-835f-d990a5960d1c",
   "metadata": {},
   "outputs": [
    {
     "data": {
      "text/plain": [
       "undefined"
      ]
     },
     "execution_count": 1,
     "metadata": {},
     "output_type": "execute_result"
    }
   ],
   "source": [
    "interface Animal {\n",
    "  type: string;\n",
    "}\n",
    "\n",
    "interface Dog extends Animal {\n",
    "  woof(): void;\n",
    "}\n",
    "\n",
    "interface Cat extends Animal {\n",
    "  meow(): void;\n",
    "}\n",
    "\n",
    "function makeSound(animal: Animal) {\n",
    "  if (animal.type === 'dog') {\n",
    "    (animal as Dog).woof();  // 여기서 타입 가드가 작동합니다.\n",
    "  } else if (animal.type === 'cat') {\n",
    "    (animal as Cat).meow();  // 여기서 타입 가드가 작동합니다.\n",
    "  }\n",
    "}\n"
   ]
  },
  {
   "cell_type": "code",
   "execution_count": 2,
   "id": "25ab52c1-6bf0-4663-8f45-c79a8c4c1556",
   "metadata": {},
   "outputs": [
    {
     "name": "stdout",
     "output_type": "stream",
     "text": [
      "Woof!\n",
      "Meow!\n"
     ]
    },
    {
     "data": {
      "text/plain": [
       "undefined"
      ]
     },
     "execution_count": 2,
     "metadata": {},
     "output_type": "execute_result"
    }
   ],
   "source": [
    "const dog: Dog = { type: 'dog', woof() { console.log('Woof!'); } };\n",
    "const cat: Cat = { type: 'cat', meow() { console.log('Meow!'); } };\n",
    "\n",
    "makeSound(dog);  // 출력: Woof!\n",
    "makeSound(cat);  // 출력: Meow!"
   ]
  },
  {
   "cell_type": "code",
   "execution_count": null,
   "id": "22b28cd2-47d2-4e9b-9a53-d7670edc41e8",
   "metadata": {},
   "outputs": [],
   "source": []
  },
  {
   "cell_type": "markdown",
   "id": "a2bd23ba-9d10-4024-8f04-f1a05cf65d17",
   "metadata": {},
   "source": [
    "## 1-2 instanceof 연산자를 이용한 타입 가드:\n",
    "\n",
    "- 생성자 함수로 만든 객체에 대한 처리 "
   ]
  },
  {
   "cell_type": "code",
   "execution_count": 3,
   "id": "629c73d6-ff4c-476d-b88e-d2fcdf557106",
   "metadata": {},
   "outputs": [
    {
     "data": {
      "text/plain": [
       "undefined"
      ]
     },
     "execution_count": 3,
     "metadata": {},
     "output_type": "execute_result"
    }
   ],
   "source": [
    "class Animal {\n",
    "    name: string;\n",
    "    constructor(theName: string) { \n",
    "        this.name = theName; \n",
    "    }\n",
    "}"
   ]
  },
  {
   "cell_type": "markdown",
   "id": "4641dd0d-2933-4d62-9c4d-fd5145af3d58",
   "metadata": {},
   "source": [
    "### 실제 인스턴스 여부를 확인 "
   ]
  },
  {
   "cell_type": "code",
   "execution_count": 4,
   "id": "511bacfc-ac46-4227-8190-11da6ddafa4e",
   "metadata": {},
   "outputs": [
    {
     "data": {
      "text/plain": [
       "undefined"
      ]
     },
     "execution_count": 4,
     "metadata": {},
     "output_type": "execute_result"
    }
   ],
   "source": [
    "function greet(person: unknown): string {\n",
    "  if (person instanceof Animal) {\n",
    "    return `Hello, ${person.name}!`;\n",
    "  }\n",
    "  throw new Error('Invalid input: person should be an instance of Person.');\n",
    "}"
   ]
  },
  {
   "cell_type": "code",
   "execution_count": 5,
   "id": "39ced911-fc31-4743-8269-491bcc69156d",
   "metadata": {},
   "outputs": [
    {
     "data": {
      "text/plain": [
       "undefined"
      ]
     },
     "execution_count": 5,
     "metadata": {},
     "output_type": "execute_result"
    }
   ],
   "source": [
    "const p = new Animal('강아지');"
   ]
  },
  {
   "cell_type": "code",
   "execution_count": 6,
   "id": "152efbf7-ee77-4b60-9e46-c8daf0659a91",
   "metadata": {
    "editable": true,
    "slideshow": {
     "slide_type": ""
    },
    "tags": []
   },
   "outputs": [
    {
     "data": {
      "text/plain": [
       "'Hello, 강아지!'"
      ]
     },
     "execution_count": 6,
     "metadata": {},
     "output_type": "execute_result"
    }
   ],
   "source": [
    "greet(p);"
   ]
  },
  {
   "cell_type": "code",
   "execution_count": null,
   "id": "e4a342b7-ab88-413e-ae1b-aba45a55f6b9",
   "metadata": {},
   "outputs": [],
   "source": []
  },
  {
   "cell_type": "markdown",
   "id": "8addb9a4-39d7-45aa-8494-9767d9bad1f9",
   "metadata": {},
   "source": [
    "## 1-3 in 연산자를 이용한 타입 가드:\n",
    "\n",
    "-  객체의 프로퍼티 이름을 확인해서 특정 타입을 처리 "
   ]
  },
  {
   "cell_type": "code",
   "execution_count": 7,
   "id": "f52356da-1026-482e-836d-72dc16885ba5",
   "metadata": {},
   "outputs": [
    {
     "data": {
      "text/plain": [
       "undefined"
      ]
     },
     "execution_count": 7,
     "metadata": {},
     "output_type": "execute_result"
    }
   ],
   "source": [
    "interface Circle {\n",
    "  radius: number;\n",
    "}\n",
    "\n",
    "interface Square {\n",
    "  sideLength: number;\n",
    "}"
   ]
  },
  {
   "cell_type": "markdown",
   "id": "911454fa-2f0e-4011-b9dd-0a63c93f18d3",
   "metadata": {},
   "source": [
    "### 유니온에 대한 타입을 "
   ]
  },
  {
   "cell_type": "code",
   "execution_count": 8,
   "id": "87f4fccf-fc2f-4f1d-915d-94e903caa0a2",
   "metadata": {},
   "outputs": [
    {
     "data": {
      "text/plain": [
       "undefined"
      ]
     },
     "execution_count": 8,
     "metadata": {},
     "output_type": "execute_result"
    }
   ],
   "source": [
    "function getArea(shape: Circle | Square): number {\n",
    "  if ('radius' in shape) {\n",
    "    return Math.PI * shape.radius * shape.radius;\n",
    "  }\n",
    "  return shape.sideLength * shape.sideLength;\n",
    "}"
   ]
  },
  {
   "cell_type": "code",
   "execution_count": 9,
   "id": "ee5659bf-edcf-4229-b400-3159428ec250",
   "metadata": {},
   "outputs": [
    {
     "data": {
      "text/plain": [
       "2827.4333882308138"
      ]
     },
     "execution_count": 9,
     "metadata": {},
     "output_type": "execute_result"
    }
   ],
   "source": [
    "getArea({radius:30});"
   ]
  },
  {
   "cell_type": "code",
   "execution_count": 10,
   "id": "bad39027-5ccd-47d8-8a1d-5296d2a52a3a",
   "metadata": {},
   "outputs": [
    {
     "data": {
      "text/plain": [
       "900"
      ]
     },
     "execution_count": 10,
     "metadata": {},
     "output_type": "execute_result"
    }
   ],
   "source": [
    "getArea({sideLength:30});"
   ]
  },
  {
   "cell_type": "code",
   "execution_count": null,
   "id": "1981308d-3ffa-4094-a06d-30321ab6d39e",
   "metadata": {},
   "outputs": [],
   "source": []
  },
  {
   "cell_type": "markdown",
   "id": "c3c8c223-e933-4193-aa4b-1806819d1cb1",
   "metadata": {},
   "source": [
    "## 1-4 사용자 정의 타입 가드 함수:\n",
    "\n",
    "- is 키워드는 사용자 정의 타입 가드 함수를 구현할 때 사용되는 키워드\n",
    "- 사용자 정의 타입 가드 함수는 is 키워드를 붙여서 함수를 정의하고, 해당 함수 내에서 조건에 따라 타입을 좁히는 역할을 수행\n",
    "- 사용자 정의 타입 가드 함수는 반환 타입으로 value is 타입 형식을 사용\n",
    "- 이렇게 정의된 함수는 논리적으로 해당 타입으로 값을 좁히고, 해당 타입을 사용하는 코드 블록에서는 추론된 타입으로 사용할 수 있음"
   ]
  },
  {
   "cell_type": "code",
   "execution_count": 11,
   "id": "520969ef-ccf4-4c2b-a42e-dca21aca8bad",
   "metadata": {},
   "outputs": [
    {
     "data": {
      "text/plain": [
       "undefined"
      ]
     },
     "execution_count": 11,
     "metadata": {},
     "output_type": "execute_result"
    }
   ],
   "source": [
    "function isString(value: unknown): value is string {\n",
    "  return typeof value === 'string';\n",
    "}\n",
    "\n",
    "function processValue(value: unknown) {\n",
    "  if (isString(value)) {\n",
    "    console.log(value.toUpperCase());\n",
    "  } else {\n",
    "    console.log('Invalid input: value should be a string.');\n",
    "  }\n",
    "}\n"
   ]
  },
  {
   "cell_type": "code",
   "execution_count": 12,
   "id": "a658cc66-9e96-4c35-ba07-d68a2712acc4",
   "metadata": {},
   "outputs": [
    {
     "name": "stdout",
     "output_type": "stream",
     "text": [
      "강아지\n"
     ]
    },
    {
     "data": {
      "text/plain": [
       "undefined"
      ]
     },
     "execution_count": 12,
     "metadata": {},
     "output_type": "execute_result"
    }
   ],
   "source": [
    "processValue(\"강아지\");"
   ]
  },
  {
   "cell_type": "code",
   "execution_count": null,
   "id": "558fd49d-6b6c-449b-a47b-4102544a6087",
   "metadata": {},
   "outputs": [],
   "source": []
  }
 ],
 "metadata": {
  "kernelspec": {
   "display_name": "Typescript 4.9",
   "language": "typescript",
   "name": "typescript"
  },
  "language_info": {
   "file_extension": ".ts",
   "mimetype": "application/x-typescript",
   "name": "typescript",
   "version": "4.9.5"
  }
 },
 "nbformat": 4,
 "nbformat_minor": 5
}
