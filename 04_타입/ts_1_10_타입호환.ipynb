{
 "cells": [
  {
   "cell_type": "code",
   "execution_count": null,
   "id": "f1eaa432-04a0-4ff0-9873-80f85f784a27",
   "metadata": {},
   "outputs": [],
   "source": []
  },
  {
   "cell_type": "markdown",
   "id": "a6adea9e-f758-47bc-8443-0a97f32be458",
   "metadata": {},
   "source": [
    "## 구조적 타이핑(structural typing)이란 \n",
    "- 두 객체의 타입 호환성을 객체의 구조에 기반하여 결정하는 방식을 의미합니다.\n",
    "- 즉, 두 객체의 속성과 메서드의 구조가 동일하면 해당 객체들은 서로 호환 가능하다고 간주됩니다.\n",
    "- 이는 덕 타이핑(duck typing)과 구조적 하위 타이핑(Structural Subtyping)을 포함하는 개념입니다."
   ]
  },
  {
   "cell_type": "markdown",
   "id": "e90bcd55-8d94-473b-813f-a9da6a02a1e4",
   "metadata": {},
   "source": [
    "## 구조적 타입핑의 핵심 개념은 \n",
    "- \"달리 이름이 다르더라도 구조가 같으면 호환 가능하다\"는 것입니다.\n",
    "- 즉, 인터페이스나 클래스의 이름에 의해 타입 호환성이 결정되는 것이 아니라,\n",
    "- 속성과 메서드의 구조에 따라 타입이 호환되는지 판단합니다."
   ]
  },
  {
   "cell_type": "code",
   "execution_count": null,
   "id": "1b34f9e3-1608-4a9f-b886-4b121874d292",
   "metadata": {},
   "outputs": [],
   "source": []
  },
  {
   "cell_type": "code",
   "execution_count": null,
   "id": "a16e1cf8-9995-4b58-b4e9-639da5e3fa31",
   "metadata": {},
   "outputs": [],
   "source": []
  },
  {
   "cell_type": "markdown",
   "id": "da656465-87dc-4dcc-985f-7f4e91a589f8",
   "metadata": {},
   "source": [
    "## 1. 타입 호환(Type Compatibility)이란?\n",
    "\n",
    "    - 타입 호환이란 타입스크립트 코드에서 특정 타입이 다른 타입에 잘 맞는지를 의미합니다. "
   ]
  },
  {
   "cell_type": "code",
   "execution_count": 1,
   "id": "9faca8ab-3701-4009-bc44-29a5ae6c63c4",
   "metadata": {},
   "outputs": [
    {
     "data": {
      "text/plain": [
       "undefined"
      ]
     },
     "execution_count": 1,
     "metadata": {},
     "output_type": "execute_result"
    }
   ],
   "source": [
    "interface Ironman {\n",
    "  name: string;\n",
    "}\n",
    "\n",
    "class Avengers {\n",
    "  name: string;\n",
    "}\n"
   ]
  },
  {
   "cell_type": "code",
   "execution_count": 2,
   "id": "26533958-e7c4-4ffb-b1a2-16adb4ce3b32",
   "metadata": {},
   "outputs": [
    {
     "data": {
      "text/plain": [
       "Avengers {}"
      ]
     },
     "execution_count": 2,
     "metadata": {},
     "output_type": "execute_result"
    }
   ],
   "source": [
    "let i: Ironman;\n",
    "i = new Avengers();    // OK, because of structural typing"
   ]
  },
  {
   "cell_type": "code",
   "execution_count": 3,
   "id": "44e1b65d-c52f-4eff-840e-a14bdfa5e4f9",
   "metadata": {},
   "outputs": [
    {
     "data": {
      "text/plain": [
       "Avengers {}"
      ]
     },
     "execution_count": 3,
     "metadata": {},
     "output_type": "execute_result"
    }
   ],
   "source": [
    "i"
   ]
  },
  {
   "cell_type": "markdown",
   "id": "8a31d520-14d6-452b-b647-116caf7e106a",
   "metadata": {},
   "source": [
    "## 2.구조적 하위 타이핑(Structural Subtyping)"
   ]
  },
  {
   "cell_type": "code",
   "execution_count": 4,
   "id": "151e6766-4047-4661-9956-715c36412170",
   "metadata": {},
   "outputs": [
    {
     "name": "stdout",
     "output_type": "stream",
     "text": [
      "x: 1, y: 2\n",
      "x: 1, y: 2\n"
     ]
    },
    {
     "data": {
      "text/plain": [
       "{ x: 1, y: 2, z: 3 }"
      ]
     },
     "execution_count": 4,
     "metadata": {},
     "output_type": "execute_result"
    }
   ],
   "source": [
    "interface Point2D {\n",
    "  x: number;\n",
    "  y: number;\n",
    "}\n",
    "\n",
    "interface Point3D {\n",
    "  x: number;\n",
    "  y: number;\n",
    "  z: number;\n",
    "}\n",
    "\n",
    "function printPoint(point: Point2D) {\n",
    "  console.log(`x: ${point.x}, y: ${point.y}`);\n",
    "}\n",
    "\n",
    "var point2D: Point2D = { x: 1, y: 2 };\n",
    "var point3D: Point3D = { x: 1, y: 2, z: 3 };\n",
    "\n",
    "printPoint(point2D); // 출력: x: 1, y: 2\n",
    "printPoint(point3D); // 출력: x: 1, y: 2\n",
    "\n",
    "point2D = point3D; // Point3D 객체는 Point2D 타입으로 할당 가능 (구조적 타입핑)\n"
   ]
  },
  {
   "cell_type": "markdown",
   "id": "ef58821d-b68d-4a84-9eb5-f0f0c643815f",
   "metadata": {},
   "source": [
    "### 3. 덕타입핑"
   ]
  },
  {
   "cell_type": "code",
   "execution_count": 5,
   "id": "d11eb12a-e463-4922-b47a-93d09672159b",
   "metadata": {},
   "outputs": [
    {
     "name": "stdout",
     "output_type": "stream",
     "text": [
      "Woof!\n",
      "Meow!\n"
     ]
    },
    {
     "data": {
      "text/plain": [
       "undefined"
      ]
     },
     "execution_count": 5,
     "metadata": {},
     "output_type": "execute_result"
    }
   ],
   "source": [
    "class Dog {\n",
    "  bark() {\n",
    "    console.log('Woof!');\n",
    "  }\n",
    "}\n",
    "\n",
    "class Cat {\n",
    "  meow() {\n",
    "    console.log('Meow!');\n",
    "  }\n",
    "}\n",
    "\n",
    "function makeSound(animal: Dog | Cat) {\n",
    "  if ('bark' in animal) {\n",
    "    animal.bark();\n",
    "  } else {\n",
    "    animal.meow();\n",
    "  }\n",
    "}\n",
    "\n",
    "const dog = new Dog();\n",
    "const cat = new Cat();\n",
    "\n",
    "makeSound(dog); // 출력: Woof!\n",
    "makeSound(cat); // 출력: Meow!\n"
   ]
  },
  {
   "cell_type": "code",
   "execution_count": null,
   "id": "1dd9e7ae-75ac-4042-abd8-9977dfe75386",
   "metadata": {},
   "outputs": [],
   "source": []
  },
  {
   "cell_type": "markdown",
   "id": "b0f25d49-a2a1-4367-b84b-17699973210d",
   "metadata": {},
   "source": [
    "## 4 구조적 타입핑 "
   ]
  },
  {
   "cell_type": "markdown",
   "id": "7b3e1752-6a71-44ac-a227-476c0d8c0fce",
   "metadata": {},
   "source": [
    "### 인터페이스 기반 "
   ]
  },
  {
   "cell_type": "code",
   "execution_count": 6,
   "id": "16a88d21-d2b3-437b-9750-fa0c6a06f0ba",
   "metadata": {},
   "outputs": [
    {
     "name": "stdout",
     "output_type": "stream",
     "text": [
      "Animal Buddy makes a sound:\n",
      "Woof!\n"
     ]
    },
    {
     "data": {
      "text/plain": [
       "undefined"
      ]
     },
     "execution_count": 6,
     "metadata": {},
     "output_type": "execute_result"
    }
   ],
   "source": [
    "// 인터페이스 정의\n",
    "interface Animal {\n",
    "  name: string;\n",
    "  makeSound(): void;\n",
    "}\n",
    "\n",
    "// 클래스 정의\n",
    "class Dog2 implements Animal {\n",
    "  name: string;\n",
    "\n",
    "  constructor(name: string) {\n",
    "    this.name = name;\n",
    "  }\n",
    "\n",
    "  makeSound() {\n",
    "    console.log('Woof!');\n",
    "  }\n",
    "}\n",
    "\n",
    "// 함수에서 구조적 타이핑 활용\n",
    "function printAnimalSound(animal: Animal) {\n",
    "  console.log(`Animal ${animal.name} makes a sound:`);\n",
    "  animal.makeSound();\n",
    "}\n",
    "\n",
    "// Dog 클래스와 Animal 인터페이스는 동일한 구조를 가지므로 호환됨\n",
    "var dog2: Animal = new Dog2('Buddy');\n",
    "printAnimalSound(dog2); // 출력: Animal Buddy makes a sound: Woof!\n"
   ]
  },
  {
   "cell_type": "markdown",
   "id": "f82e9c44-95ee-4cfb-b743-6843e5495616",
   "metadata": {},
   "source": [
    "## 객체 활용 "
   ]
  },
  {
   "cell_type": "code",
   "execution_count": 7,
   "id": "25236002-23c8-46fd-87e8-eec29adcc46c",
   "metadata": {},
   "outputs": [
    {
     "name": "stdout",
     "output_type": "stream",
     "text": [
      "x: 10, y: 20\n"
     ]
    },
    {
     "data": {
      "text/plain": [
       "undefined"
      ]
     },
     "execution_count": 7,
     "metadata": {},
     "output_type": "execute_result"
    }
   ],
   "source": [
    "// 인터페이스 정의\n",
    "interface Point {\n",
    "  x: number;\n",
    "  y: number;\n",
    "}\n",
    "\n",
    "// 함수에서 구조적 타이핑 활용\n",
    "function printCoordinates(point: Point) {\n",
    "  console.log(`x: ${point.x}, y: ${point.y}`);\n",
    "}\n",
    "\n",
    "// Point 인터페이스와 객체의 구조가 동일하므로 호환됨\n",
    "const point: Point = { x: 10, y: 20 };\n",
    "printCoordinates(point); // 출력: x: 10, y: 20\n"
   ]
  },
  {
   "cell_type": "markdown",
   "id": "5a6eb7d2-73d5-403d-b4b5-aecdac52562e",
   "metadata": {},
   "source": [
    "### Class 타입 호환 주의 사항\n",
    "- 클래스 타입은 클래스 타입끼리 비교할 때 스태틱 멤버(static member)와 생성자(constructor)를 제외하고 속성만 비교합니다."
   ]
  },
  {
   "cell_type": "code",
   "execution_count": 10,
   "id": "5a10c77e-4445-426a-a43e-cd8176846a67",
   "metadata": {},
   "outputs": [
    {
     "data": {
      "text/plain": [
       "Captain {}"
      ]
     },
     "execution_count": 10,
     "metadata": {},
     "output_type": "execute_result"
    }
   ],
   "source": [
    "class Hulk {\n",
    "  handSize: number;\n",
    "  constructor(name: string, numHand: number) { }\n",
    "}\n",
    "\n",
    "class Captain {\n",
    "  handSize: number;\n",
    "  constructor(numHand: number) { }\n",
    "}\n",
    "\n",
    "{\n",
    "    let aa: Hulk = new Hulk(\"aaa\",30);\n",
    "    let ss: Captain = new Captain(100);\n",
    "\n",
    "    aa = ss;  // OK\n",
    "    ss = aa;  // OK\n",
    "}"
   ]
  },
  {
   "cell_type": "code",
   "execution_count": null,
   "id": "5cb495bf-c0dc-435c-b419-b1cfb568f536",
   "metadata": {},
   "outputs": [],
   "source": []
  },
  {
   "cell_type": "markdown",
   "id": "fcd32fd2-8166-4255-b119-6a0bb6150ec0",
   "metadata": {},
   "source": [
    "### Generics\n",
    "- 제네릭은 제네릭 타입 간의 호환 여부를 판단할 때 타입 인자 <T>가 속성에 할당 되었는지를 기준으로 합니다. 예시 코드를 보겠습니다."
   ]
  },
  {
   "cell_type": "code",
   "execution_count": null,
   "id": "c74f8ecc-1375-4909-9972-571534ce54f6",
   "metadata": {},
   "outputs": [],
   "source": [
    "#### 구조(속성)가 없을 때는 매칭 "
   ]
  },
  {
   "cell_type": "code",
   "execution_count": 16,
   "id": "1851e783-c179-4536-8588-d4f06f352a74",
   "metadata": {},
   "outputs": [
    {
     "data": {
      "text/plain": [
       "''"
      ]
     },
     "execution_count": 16,
     "metadata": {},
     "output_type": "execute_result"
    }
   ],
   "source": [
    "interface Empty<T> {\n",
    "}\n",
    "{\n",
    "    let x: Empty<number> = 0;\n",
    "    let y: Empty<string> = \"\";\n",
    "\n",
    "    x = y;  // OK, because y matches structure of x\n",
    "}"
   ]
  },
  {
   "cell_type": "markdown",
   "id": "d6579225-6fd1-4e81-baef-bdf469f3e4c4",
   "metadata": {},
   "source": [
    "### 속성이 있을때는 호환불가"
   ]
  },
  {
   "cell_type": "code",
   "execution_count": 17,
   "id": "0306ac33-aedb-4e32-8e0f-49d8719a1d0d",
   "metadata": {},
   "outputs": [
    {
     "ename": "Error",
     "evalue": "Line 9, Character 5\n    x = y;  // Error, because x and y are not compatible\n____^\nTS2322: Type 'NotEmpty<string>' is not assignable to type 'NotEmpty<number>'.\n  Type 'string' is not assignable to type 'number'.\n\nLine 9, Character 9\n    x = y;  // Error, because x and y are not compatible\n________^\nTS2454: Variable 'y' is used before being assigned.",
     "execution_count": 17,
     "output_type": "error",
     "traceback": [
      "Error: Line 9, Character 5",
      "    x = y;  // Error, because x and y are not compatible",
      "____^",
      "TS2322: Type 'NotEmpty<string>' is not assignable to type 'NotEmpty<number>'.",
      "  Type 'string' is not assignable to type 'number'.",
      "",
      "Line 9, Character 9",
      "    x = y;  // Error, because x and y are not compatible",
      "________^",
      "TS2454: Variable 'y' is used before being assigned.",
      "    at execTranspile (/usr/local/lib/node_modules/itypescript/lib/kernel.js:229:23)",
      "    at Session.transpiler [as transpile] (/usr/local/lib/node_modules/itypescript/lib/kernel.js:288:35)",
      "    at Session._runNow (/usr/local/lib/node_modules/itypescript/node_modules/nel/lib/nel.js:835:39)",
      "    at Session._run (/usr/local/lib/node_modules/itypescript/node_modules/nel/lib/nel.js:786:14)",
      "    at Session.execute (/usr/local/lib/node_modules/itypescript/node_modules/nel/lib/nel.js:929:10)",
      "    at Kernel.execute_request (/usr/local/lib/node_modules/itypescript/node_modules/jp-kernel/lib/handlers_v5.js:116:18)",
      "    at Kernel.onShellMessage (/usr/local/lib/node_modules/itypescript/node_modules/jp-kernel/lib/jp-kernel.js:285:41)",
      "    at Socket.<anonymous> (/usr/local/lib/node_modules/itypescript/node_modules/jmp/index.js:350:17)",
      "    at Socket.emit (node:events:513:28)",
      "    at Socket._emitMessage (/usr/local/lib/node_modules/itypescript/node_modules/zeromq/lib/index.js:649:15)"
     ]
    }
   ],
   "source": [
    "interface NotEmpty<T> {\n",
    "  data: T;\n",
    "}\n",
    "\n",
    "{ \n",
    "    let x: NotEmpty<number>;\n",
    "    let y: NotEmpty<string>;\n",
    "\n",
    "    x = y;  // Error, because x and y are not compatible\n",
    "}"
   ]
  },
  {
   "cell_type": "code",
   "execution_count": null,
   "id": "e08beb22-5749-422a-be77-4b366d2f4582",
   "metadata": {},
   "outputs": [],
   "source": []
  }
 ],
 "metadata": {
  "kernelspec": {
   "display_name": "Typescript 4.9",
   "language": "typescript",
   "name": "typescript"
  },
  "language_info": {
   "file_extension": ".ts",
   "mimetype": "application/x-typescript",
   "name": "typescript",
   "version": "4.9.5"
  }
 },
 "nbformat": 4,
 "nbformat_minor": 5
}
