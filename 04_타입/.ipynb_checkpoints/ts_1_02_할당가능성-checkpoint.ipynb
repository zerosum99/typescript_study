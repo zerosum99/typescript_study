{
 "cells": [
  {
   "cell_type": "code",
   "execution_count": null,
   "id": "a0c7fa66-4baa-408b-8dde-4f310fbf3684",
   "metadata": {},
   "outputs": [],
   "source": []
  },
  {
   "cell_type": "code",
   "execution_count": null,
   "id": "96c02e0d-ba5e-45b3-9de8-c1c42af79a62",
   "metadata": {},
   "outputs": [],
   "source": []
  },
  {
   "cell_type": "markdown",
   "id": "cc2279cc-175e-4bc1-b0af-6677ca959d74",
   "metadata": {},
   "source": [
    "\n",
    "## 1. 타입스크립트에서 할당 가능성(assignment compatibility)\n",
    "    \n",
    "- 변수나 표현식을 다른 변수나 매개변수에 할당하거나 전달할 수 있는지를 판단하는 개념입니다. \n",
    "- 이는 타입 시스템의 중요한 부분 중 하나이며, 코드의 안정성을 보장하고 예기치 않은 타입 오류를 방지하는 데 도움이 됩니다.\n",
    "\n",
    "\n",
    "    "
   ]
  },
  {
   "cell_type": "code",
   "execution_count": null,
   "id": "eff2f5bb-1f77-4367-ae24-c80d366ad70f",
   "metadata": {},
   "outputs": [],
   "source": []
  },
  {
   "cell_type": "markdown",
   "id": "28ac963e-b7a7-47db-a0d0-676c728aaabe",
   "metadata": {},
   "source": [
    "## 1-1 변수, 매개변수의 할당 가능성: \n",
    "- 어떤 값이 다른 값에 할당될 때, 값의 타입과 할당받는 변수 또는 매개변수의 타입을 비교합니다. \n",
    "    \n",
    "### 값의 할당 규칙은 :\n",
    "\n",
    "- 값의 타입이 할당받는 변수 또는 매개변수의 타입과 같거나 하위 타입(subtype)이면 할당이 가능.\n",
    "- 값의 타입이 할당받는 변수 또는 매개변수의 타입과 호환되지 않으면 할당이 불가능.\n",
    "\n",
    "-  즉 공변성일 경우만 변수에 할당됨 "
   ]
  },
  {
   "cell_type": "markdown",
   "id": "c0d325be-1956-4854-acd8-3de8651de86c",
   "metadata": {},
   "source": [
    "### 변수에 값의 할당은 타입어노테이션 기준으로 처리 "
   ]
  },
  {
   "cell_type": "code",
   "execution_count": 3,
   "id": "c78fa3ec-0785-4c8a-8fd1-18c4f3ec2b15",
   "metadata": {},
   "outputs": [
    {
     "data": {
      "text/plain": [
       "undefined"
      ]
     },
     "execution_count": 3,
     "metadata": {},
     "output_type": "execute_result"
    }
   ],
   "source": [
    "let num: number = 5;"
   ]
  },
  {
   "cell_type": "markdown",
   "id": "71ef5017-fabb-44e0-8c9f-a26d638fd8b9",
   "metadata": {},
   "source": [
    "### any 타입은 할당되는 값에 따라 타입이 변함"
   ]
  },
  {
   "cell_type": "code",
   "execution_count": 4,
   "id": "aa414b9c-90e8-4909-a67a-f7977fbd7ff1",
   "metadata": {},
   "outputs": [
    {
     "data": {
      "text/plain": [
       "undefined"
      ]
     },
     "execution_count": 4,
     "metadata": {},
     "output_type": "execute_result"
    }
   ],
   "source": [
    "let anyValue: any = num; // number는 any에 할당 가능"
   ]
  },
  {
   "cell_type": "code",
   "execution_count": 5,
   "id": "2deccc9b-468f-452d-a813-45cdb8db87d4",
   "metadata": {},
   "outputs": [
    {
     "data": {
      "text/plain": [
       "'number'"
      ]
     },
     "execution_count": 5,
     "metadata": {},
     "output_type": "execute_result"
    }
   ],
   "source": [
    "typeof anyValue"
   ]
  },
  {
   "cell_type": "code",
   "execution_count": null,
   "id": "bfb9fc6d-ac06-48dc-8791-7abff9dd1863",
   "metadata": {},
   "outputs": [],
   "source": []
  },
  {
   "cell_type": "code",
   "execution_count": 6,
   "id": "92cfb488-529b-49c7-8628-046876353e1c",
   "metadata": {},
   "outputs": [
    {
     "data": {
      "text/plain": [
       "'문자열'"
      ]
     },
     "execution_count": 6,
     "metadata": {},
     "output_type": "execute_result"
    }
   ],
   "source": [
    "anyValue = \"문자열\";"
   ]
  },
  {
   "cell_type": "code",
   "execution_count": 7,
   "id": "80cba9ac-c941-4d18-ad83-93f1f40bb22e",
   "metadata": {},
   "outputs": [
    {
     "data": {
      "text/plain": [
       "'string'"
      ]
     },
     "execution_count": 7,
     "metadata": {},
     "output_type": "execute_result"
    }
   ],
   "source": [
    "typeof anyValue"
   ]
  },
  {
   "cell_type": "code",
   "execution_count": null,
   "id": "c72a9052-6c4d-4b46-bad8-d4e5777e0411",
   "metadata": {},
   "outputs": [],
   "source": []
  },
  {
   "cell_type": "code",
   "execution_count": null,
   "id": "e0ab27bb-8449-45ce-9132-88a9f902edc6",
   "metadata": {},
   "outputs": [],
   "source": []
  },
  {
   "cell_type": "markdown",
   "id": "15fe96c3-0f95-417c-8ba8-16c852ac7315",
   "metadata": {},
   "source": [
    "## 1-2 변수에 함수의 반환값 할당가능성 "
   ]
  },
  {
   "cell_type": "code",
   "execution_count": 1,
   "id": "e191707c-de95-4808-8591-4f2de29e1001",
   "metadata": {},
   "outputs": [
    {
     "data": {
      "text/plain": [
       "'use strict'"
      ]
     },
     "execution_count": 1,
     "metadata": {},
     "output_type": "execute_result"
    }
   ],
   "source": [
    "function add(x:number, y:number) : number {\n",
    "    return x+y;\n",
    "}"
   ]
  },
  {
   "cell_type": "code",
   "execution_count": 2,
   "id": "7ea88630-6ccf-4862-b907-0593e82236d9",
   "metadata": {},
   "outputs": [
    {
     "data": {
      "text/plain": [
       "undefined"
      ]
     },
     "execution_count": 2,
     "metadata": {},
     "output_type": "execute_result"
    }
   ],
   "source": [
    "let num1: number = add(5,5);"
   ]
  },
  {
   "cell_type": "code",
   "execution_count": null,
   "id": "a9a5de5a-750f-4e2a-882a-66751e659792",
   "metadata": {},
   "outputs": [],
   "source": []
  },
  {
   "cell_type": "code",
   "execution_count": null,
   "id": "3b85ee8c-a9e4-4d14-80f9-d2955b472d46",
   "metadata": {},
   "outputs": [],
   "source": []
  },
  {
   "cell_type": "markdown",
   "id": "9e54b406-c493-4de3-86df-83935810fbe2",
   "metadata": {},
   "source": [
    "## 1-3 함수 할당 가능성: \n",
    "\n",
    "- 함수의 반환 타입 및 매개변수 타입과 관련된 할당 가능성입니다. \n",
    "    \n",
    "### 함수 할당 가능성은 다음과 같은 규칙을 따릅니다:\n",
    "\n",
    "- 함수의 반환 타입이 할당받는 변수 또는 매개변수의 타입과 같거나 상위 타입(super type)이면 할당이 가능합니다.\n",
    "- 함수의 매개변수 타입이 할당받는 변수 또는 매개변수의 타입과 같거나 하위 타입이면 할당이 가능합니다."
   ]
  },
  {
   "cell_type": "code",
   "execution_count": 8,
   "id": "6c6dfbb6-2bf1-40ae-9ff1-bde08f7b139c",
   "metadata": {},
   "outputs": [
    {
     "data": {
      "text/plain": [
       "undefined"
      ]
     },
     "execution_count": 8,
     "metadata": {},
     "output_type": "execute_result"
    }
   ],
   "source": [
    "function greet(name: string): void {\n",
    "    console.log(`Hello, ${name}!`);\n",
    "}\n"
   ]
  },
  {
   "cell_type": "code",
   "execution_count": 9,
   "id": "e1914de4-25ae-42b8-a5a2-8c87003507bf",
   "metadata": {},
   "outputs": [
    {
     "data": {
      "text/plain": [
       "undefined"
      ]
     },
     "execution_count": 9,
     "metadata": {},
     "output_type": "execute_result"
    }
   ],
   "source": [
    "let greetFunc: (name: string) => void = greet; // 함수 할당 가능"
   ]
  },
  {
   "cell_type": "code",
   "execution_count": 10,
   "id": "d1419986-3f69-4820-bdb2-64f35ec96062",
   "metadata": {},
   "outputs": [
    {
     "data": {
      "text/plain": [
       "'function'"
      ]
     },
     "execution_count": 10,
     "metadata": {},
     "output_type": "execute_result"
    }
   ],
   "source": [
    "typeof greetFunc"
   ]
  },
  {
   "cell_type": "code",
   "execution_count": null,
   "id": "121e1598-2d72-49c1-8783-ae905a540bef",
   "metadata": {},
   "outputs": [],
   "source": []
  }
 ],
 "metadata": {
  "kernelspec": {
   "display_name": "Typescript 4.9",
   "language": "typescript",
   "name": "typescript"
  },
  "language_info": {
   "file_extension": ".ts",
   "mimetype": "application/x-typescript",
   "name": "typescript",
   "version": "4.9.5"
  }
 },
 "nbformat": 4,
 "nbformat_minor": 5
}
