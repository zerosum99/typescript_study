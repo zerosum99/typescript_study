{
 "cells": [
  {
   "cell_type": "code",
   "execution_count": null,
   "id": "27294803-d232-4b5b-912e-4350057b8726",
   "metadata": {},
   "outputs": [],
   "source": []
  },
  {
   "cell_type": "code",
   "execution_count": null,
   "id": "9720954e-84e1-41c1-906b-96df7236be69",
   "metadata": {},
   "outputs": [],
   "source": []
  },
  {
   "cell_type": "markdown",
   "id": "965e9b1e-079f-48e6-a6c0-1fcdfc4bd224",
   "metadata": {},
   "source": [
    "## undefined, null 처리"
   ]
  },
  {
   "cell_type": "code",
   "execution_count": null,
   "id": "02e85e7a-b22e-45a8-9d6b-cbf6aae2131c",
   "metadata": {},
   "outputs": [],
   "source": []
  },
  {
   "cell_type": "markdown",
   "id": "2998709e-3b6e-43c4-8bc5-ba7d5ca633d0",
   "metadata": {},
   "source": [
    "## 1-1 ?. 연산자는 옵셔널 체이닝 연산자(Optional Chaining Operator)"
   ]
  },
  {
   "cell_type": "markdown",
   "id": "cbe3ecf7-9e1b-4352-b69b-7305dc4e0c34",
   "metadata": {},
   "source": [
    "## 선택속성 정의\n",
    "\n",
    "- 선택속성은 undefined와 자기 타입을 가지는 속성\n",
    "- 속성이 정의없이도 타입을 처리할 수 있다"
   ]
  },
  {
   "cell_type": "code",
   "execution_count": 4,
   "id": "bb3bb68a-5a01-48b6-9760-701dade3e5e4",
   "metadata": {},
   "outputs": [
    {
     "data": {
      "text/plain": [
       "undefined"
      ]
     },
     "execution_count": 4,
     "metadata": {},
     "output_type": "execute_result"
    }
   ],
   "source": [
    "interface Address {\n",
    "  street?: string;\n",
    "  city?: string;\n",
    "  zipCode?: string;\n",
    "}\n",
    "\n",
    "interface Person {\n",
    "  name: string;\n",
    "  address?: Address;\n",
    "}"
   ]
  },
  {
   "cell_type": "markdown",
   "id": "82244c64-49e6-4a1a-b2ec-30f12eafda9f",
   "metadata": {},
   "source": [
    "## 두 개의 객체를 생성한다. "
   ]
  },
  {
   "cell_type": "code",
   "execution_count": 1,
   "id": "fde3282c-d60b-4d13-8e7d-c2714a98e25b",
   "metadata": {},
   "outputs": [
    {
     "data": {
      "text/plain": [
       "'use strict'"
      ]
     },
     "execution_count": 1,
     "metadata": {},
     "output_type": "execute_result"
    }
   ],
   "source": [
    "\n",
    "const person1: Person = {\n",
    "  name: \"John\",\n",
    "  address: {\n",
    "    street: \"123 Main St\",\n",
    "    city: \"New York\",\n",
    "    // zipCode가 누락된 경우\n",
    "  },\n",
    "};\n",
    "\n",
    "const person2: Person = {\n",
    "  name: \"Alice\",\n",
    "  // address가 누락된 경우\n",
    "};\n",
    "\n"
   ]
  },
  {
   "cell_type": "markdown",
   "id": "7de520c9-a2d3-4845-9d15-217431070904",
   "metadata": {},
   "source": [
    "## zip code는 두 개의 객체에 지정되지 않음 "
   ]
  },
  {
   "cell_type": "code",
   "execution_count": 2,
   "id": "8c849cf9-e2e7-4c14-8097-b278aec62bdd",
   "metadata": {},
   "outputs": [
    {
     "name": "stdout",
     "output_type": "stream",
     "text": [
      "undefined\n",
      "undefined\n"
     ]
    },
    {
     "data": {
      "text/plain": [
       "undefined"
      ]
     },
     "execution_count": 2,
     "metadata": {},
     "output_type": "execute_result"
    }
   ],
   "source": [
    "// 옵셔널 체이닝 연산자를 사용하여 속성에 접근\n",
    "const zipCode1 = person1.address?.zipCode; // person1의 address가 정의되어 있지만 zipCode가 누락됨, zipCode1은 undefined\n",
    "const zipCode2 = person2.address?.zipCode; // person2의 address가 누락됨, zipCode2은 undefined\n",
    "\n",
    "console.log(zipCode1); // undefined\n",
    "console.log(zipCode2); // undefined"
   ]
  },
  {
   "cell_type": "code",
   "execution_count": null,
   "id": "bca18f8a-8e87-4756-9513-62099c33e41d",
   "metadata": {},
   "outputs": [],
   "source": []
  },
  {
   "cell_type": "code",
   "execution_count": null,
   "id": "7694700c-a22e-473f-bdec-0b8746d8a725",
   "metadata": {},
   "outputs": [],
   "source": []
  },
  {
   "cell_type": "markdown",
   "id": "8147fe90-19b2-440a-aca7-6839501b4f53",
   "metadata": {},
   "source": [
    "## 1-2 if를 통한 처리\n",
    "\n",
    "- if문을 통해, type의 safety를 보장해주면, 해결이 됩니다."
   ]
  },
  {
   "cell_type": "code",
   "execution_count": null,
   "id": "9dc67465-0cf0-4a4c-b59c-2f25eac0eeb3",
   "metadata": {},
   "outputs": [],
   "source": []
  },
  {
   "cell_type": "code",
   "execution_count": 5,
   "id": "31ce1d03-fd39-4344-9a1e-b5bf1cb60bc4",
   "metadata": {},
   "outputs": [
    {
     "name": "stdout",
     "output_type": "stream",
     "text": [
      "Hello, stranger\n"
     ]
    },
    {
     "data": {
      "text/plain": [
       "undefined"
      ]
     },
     "execution_count": 5,
     "metadata": {},
     "output_type": "execute_result"
    }
   ],
   "source": [
    "function greet(name: string | null) {\n",
    "  if (name !== null) {\n",
    "    console.log(\"Hello, \" + name);\n",
    "  } else {\n",
    "    console.log(\"Hello, stranger\");\n",
    "  }\n",
    "}\n",
    "\n",
    "const personName: string | null = null;\n",
    "greet(personName); // \"Hello, stranger\"\n"
   ]
  },
  {
   "cell_type": "code",
   "execution_count": null,
   "id": "0088e9b2-6380-4505-b59e-c4d7d6f097be",
   "metadata": {},
   "outputs": [],
   "source": []
  },
  {
   "cell_type": "markdown",
   "id": "5cfe5851-1cd8-48b1-a1c9-f70735f3607d",
   "metadata": {},
   "source": [
    "## 1-2 논리연산자 사용"
   ]
  },
  {
   "cell_type": "code",
   "execution_count": null,
   "id": "63dc2df1-3d89-49bd-8f58-3e100bb889a8",
   "metadata": {},
   "outputs": [],
   "source": []
  },
  {
   "cell_type": "code",
   "execution_count": 8,
   "id": "41c4966f-3dc9-423c-91c6-d0b34dd89e9d",
   "metadata": {},
   "outputs": [
    {
     "name": "stdout",
     "output_type": "stream",
     "text": [
      "Hello, stranger\n"
     ]
    },
    {
     "data": {
      "text/plain": [
       "undefined"
      ]
     },
     "execution_count": 8,
     "metadata": {},
     "output_type": "execute_result"
    }
   ],
   "source": [
    "function greet1(name: string | null) {\n",
    "  const greeting = name && \"Hello, \" + name;\n",
    "  console.log(greeting || \"Hello, stranger\");\n",
    "}\n",
    "\n",
    "const personName1: string | null = null;\n",
    "greet1(personName1); // \"Hello, stranger\"\n"
   ]
  },
  {
   "cell_type": "code",
   "execution_count": null,
   "id": "e631673c-a8dd-436b-882a-5aa6b11641c0",
   "metadata": {},
   "outputs": [],
   "source": []
  },
  {
   "cell_type": "markdown",
   "id": "edb698b4-621a-40a8-9ee9-26c16f189140",
   "metadata": {},
   "source": [
    "## 1-3 non-null assertion 연산자 사용 "
   ]
  },
  {
   "cell_type": "code",
   "execution_count": null,
   "id": "86b47a0d-80bd-4efc-a124-3dab14fb5be7",
   "metadata": {},
   "outputs": [],
   "source": []
  },
  {
   "cell_type": "code",
   "execution_count": 10,
   "id": "2168031c-c115-4c67-a2f4-84193a21b97d",
   "metadata": {},
   "outputs": [
    {
     "data": {
      "text/plain": [
       "undefined"
      ]
     },
     "execution_count": 10,
     "metadata": {},
     "output_type": "execute_result"
    }
   ],
   "source": [
    "let value: string | null = \"Hello\";\n",
    "let length1: number = value!.length; // \"!\"를 사용하여 value가 null 또는 undefined가 아님을 나타냄\n"
   ]
  },
  {
   "cell_type": "code",
   "execution_count": null,
   "id": "0096c64b-b100-4f13-a0bb-529a4186febc",
   "metadata": {},
   "outputs": [],
   "source": []
  },
  {
   "cell_type": "markdown",
   "id": "57c5f5c1-a13b-4e20-b7c5-1dd5b89ac56a",
   "metadata": {},
   "source": [
    "## 1-4 as 키워드 사용\n",
    "as키워드를 통해 값의 type을 강제로 지정해준다."
   ]
  },
  {
   "cell_type": "code",
   "execution_count": null,
   "id": "10335b98-cbbf-4111-a26b-c04acaa02852",
   "metadata": {},
   "outputs": [],
   "source": []
  },
  {
   "cell_type": "code",
   "execution_count": 12,
   "id": "ca809816-a21c-4c28-b7b9-63f92fa4b75a",
   "metadata": {},
   "outputs": [
    {
     "name": "stdout",
     "output_type": "stream",
     "text": [
      "5\n"
     ]
    },
    {
     "data": {
      "text/plain": [
       "undefined"
      ]
     },
     "execution_count": 12,
     "metadata": {},
     "output_type": "execute_result"
    }
   ],
   "source": [
    "const value2: string | null = \"Hello\";\n",
    "const nonNullValue = value2 as string; // null이 아님을 단언하고 string 타입으로 변환\n",
    "\n",
    "console.log(nonNullValue.length); // 이제 null 체크 없이 사용 가능\n"
   ]
  },
  {
   "cell_type": "code",
   "execution_count": null,
   "id": "ba9d65f1-d7a2-4b72-8b6e-b30ff32eb843",
   "metadata": {},
   "outputs": [],
   "source": []
  },
  {
   "cell_type": "code",
   "execution_count": 14,
   "id": "52c2a02b-e49f-4912-bfda-3860084a45b4",
   "metadata": {},
   "outputs": [
    {
     "name": "stdout",
     "output_type": "stream",
     "text": [
      "5\n"
     ]
    },
    {
     "data": {
      "text/plain": [
       "undefined"
      ]
     },
     "execution_count": 14,
     "metadata": {},
     "output_type": "execute_result"
    }
   ],
   "source": [
    "const value3: string | null = \"Hello\";\n",
    "const nonNullValue3 = <string>value3; // null이 아님을 단언하고 string 타입으로 변환\n",
    "\n",
    "console.log(nonNullValue3.length); // 이제 null 체크 없이 사용 가능\n"
   ]
  },
  {
   "cell_type": "code",
   "execution_count": null,
   "id": "f1256d9e-301e-416c-a2aa-009b09565659",
   "metadata": {},
   "outputs": [],
   "source": []
  }
 ],
 "metadata": {
  "kernelspec": {
   "display_name": "Typescript 4.9",
   "language": "typescript",
   "name": "typescript"
  },
  "language_info": {
   "file_extension": ".ts",
   "mimetype": "application/x-typescript",
   "name": "typescript",
   "version": "4.9.5"
  }
 },
 "nbformat": 4,
 "nbformat_minor": 5
}
