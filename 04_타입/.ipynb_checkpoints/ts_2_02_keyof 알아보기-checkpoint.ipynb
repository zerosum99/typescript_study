{
 "cells": [
  {
   "cell_type": "code",
   "execution_count": null,
   "id": "7ce3c8f6-8cb0-439e-81dd-43b06aed6f8a",
   "metadata": {},
   "outputs": [],
   "source": []
  },
  {
   "cell_type": "markdown",
   "id": "e42d1385-285d-498b-98c5-4d76b8a9c399",
   "metadata": {},
   "source": [
    "## 1. keyof 와 typeof 사용하기 \n",
    "\n",
    "- keyof는 객체 타입의 속성을 가져옴\n",
    "- typeof는 객체의 타입을 가져옴 "
   ]
  },
  {
   "cell_type": "markdown",
   "id": "8d051623-58d6-455b-b86e-5f340bd6e144",
   "metadata": {},
   "source": [
    "## 1-1 keyof 로 속성확인하기"
   ]
  },
  {
   "cell_type": "code",
   "execution_count": 1,
   "id": "de0b27bf-3771-432f-8aa0-037c934547d8",
   "metadata": {},
   "outputs": [
    {
     "data": {
      "text/plain": [
       "'use strict'"
      ]
     },
     "execution_count": 1,
     "metadata": {},
     "output_type": "execute_result"
    }
   ],
   "source": [
    "interface Person {\n",
    "  name: string;\n",
    "  age: number;\n",
    "  address: string;\n",
    "}"
   ]
  },
  {
   "cell_type": "code",
   "execution_count": 2,
   "id": "20e02b47-7728-4bb8-84ad-cfc1abee1414",
   "metadata": {},
   "outputs": [
    {
     "data": {
      "text/plain": [
       "undefined"
      ]
     },
     "execution_count": 2,
     "metadata": {},
     "output_type": "execute_result"
    }
   ],
   "source": [
    "type PersonKeys = keyof Person; // Person의 속성 키를 추출한 타입"
   ]
  },
  {
   "cell_type": "code",
   "execution_count": 3,
   "id": "06fcf681-668c-42f3-ba5a-0a770564d353",
   "metadata": {},
   "outputs": [
    {
     "data": {
      "text/plain": [
       "undefined"
      ]
     },
     "execution_count": 3,
     "metadata": {},
     "output_type": "execute_result"
    }
   ],
   "source": [
    "const key1: PersonKeys = \"name\"; // 유효한 속성 키\n",
    "const key2: PersonKeys = \"age\";  // 다른 유효한 속성 키\n",
    "\n"
   ]
  },
  {
   "cell_type": "code",
   "execution_count": 4,
   "id": "8cb5ab00-25fc-4790-ad86-bc5f00fdaa18",
   "metadata": {},
   "outputs": [
    {
     "data": {
      "text/plain": [
       "'string'"
      ]
     },
     "execution_count": 4,
     "metadata": {},
     "output_type": "execute_result"
    }
   ],
   "source": [
    "typeof key1"
   ]
  },
  {
   "cell_type": "markdown",
   "id": "c5a4057d-662d-4cd7-883c-e80770b3e99f",
   "metadata": {},
   "source": [
    "### 리터럴을 다르게 지정할 경우 오류 발생 "
   ]
  },
  {
   "cell_type": "code",
   "execution_count": 3,
   "id": "490cccad-13ff-4de4-af2c-90257ef26132",
   "metadata": {},
   "outputs": [
    {
     "ename": "Error",
     "evalue": "Line 1, Character 7\nconst key3: PersonKeys = \"gender\"; // 오류: 존재하지 않는 속성 키\n______^\nTS2322: Type '\"gender\"' is not assignable to type 'keyof Person'.",
     "execution_count": 3,
     "output_type": "error",
     "traceback": [
      "Error: Line 1, Character 7",
      "const key3: PersonKeys = \"gender\"; // 오류: 존재하지 않는 속성 키",
      "______^",
      "TS2322: Type '\"gender\"' is not assignable to type 'keyof Person'.",
      "    at execTranspile (/usr/local/lib/node_modules/itypescript/lib/kernel.js:229:23)",
      "    at Session.transpiler [as transpile] (/usr/local/lib/node_modules/itypescript/lib/kernel.js:288:35)",
      "    at Session._runNow (/usr/local/lib/node_modules/itypescript/node_modules/nel/lib/nel.js:835:39)",
      "    at Session._run (/usr/local/lib/node_modules/itypescript/node_modules/nel/lib/nel.js:786:14)",
      "    at Session.execute (/usr/local/lib/node_modules/itypescript/node_modules/nel/lib/nel.js:929:10)",
      "    at Kernel.execute_request (/usr/local/lib/node_modules/itypescript/node_modules/jp-kernel/lib/handlers_v5.js:116:18)",
      "    at Kernel.onShellMessage (/usr/local/lib/node_modules/itypescript/node_modules/jp-kernel/lib/jp-kernel.js:285:41)",
      "    at Socket.<anonymous> (/usr/local/lib/node_modules/itypescript/node_modules/jmp/index.js:350:17)",
      "    at Socket.emit (node:events:513:28)",
      "    at Socket._emitMessage (/usr/local/lib/node_modules/itypescript/node_modules/zeromq/lib/index.js:649:15)"
     ]
    }
   ],
   "source": [
    "const key3: PersonKeys = \"gender\"; // 오류: 존재하지 않는 속성 키"
   ]
  },
  {
   "cell_type": "code",
   "execution_count": null,
   "id": "493e44ba-d91f-4386-8a39-b9b7a1e78dd4",
   "metadata": {},
   "outputs": [],
   "source": []
  },
  {
   "cell_type": "markdown",
   "id": "8375e096-6516-4627-b060-5fb90a2d6620",
   "metadata": {},
   "source": [
    "## 1-2 keyof typeof\n",
    "\n",
    "- 특정 타입에 키를 추출하기 "
   ]
  },
  {
   "cell_type": "markdown",
   "id": "27822ddc-e0e4-4e2f-ba10-eb6132a3c5ea",
   "metadata": {},
   "source": [
    "## 객체 지정 "
   ]
  },
  {
   "cell_type": "code",
   "execution_count": 6,
   "id": "4381ad34-7eb6-47a7-8970-77703608dccf",
   "metadata": {},
   "outputs": [
    {
     "data": {
      "text/plain": [
       "undefined"
      ]
     },
     "execution_count": 6,
     "metadata": {},
     "output_type": "execute_result"
    }
   ],
   "source": [
    "const colors = {\n",
    "  red: \"#FF0000\",\n",
    "  green: \"#00FF00\",\n",
    "  blue: \"#0000FF\"\n",
    "};"
   ]
  },
  {
   "cell_type": "markdown",
   "id": "953a5294-77f5-43de-ab83-f9e6608569ce",
   "metadata": {},
   "source": [
    "### 객체를 타입으로 변환한 후에 키를 추출 "
   ]
  },
  {
   "cell_type": "code",
   "execution_count": 7,
   "id": "c328c597-4085-4df6-bf9a-416d812d6e79",
   "metadata": {},
   "outputs": [
    {
     "data": {
      "text/plain": [
       "undefined"
      ]
     },
     "execution_count": 7,
     "metadata": {},
     "output_type": "execute_result"
    }
   ],
   "source": [
    "type ColorKeys = keyof typeof colors;"
   ]
  },
  {
   "cell_type": "markdown",
   "id": "812fdb0c-a46e-4aad-8915-6e115d828457",
   "metadata": {},
   "source": [
    "### 함수 정의 "
   ]
  },
  {
   "cell_type": "code",
   "execution_count": 8,
   "id": "e247f4e3-dee1-40af-b2e8-1ea85741bc16",
   "metadata": {},
   "outputs": [
    {
     "data": {
      "text/plain": [
       "undefined"
      ]
     },
     "execution_count": 8,
     "metadata": {},
     "output_type": "execute_result"
    }
   ],
   "source": [
    "function getColor(key: ColorKeys): string {\n",
    "  return colors[key];\n",
    "}\n"
   ]
  },
  {
   "cell_type": "code",
   "execution_count": 9,
   "id": "039ba1c7-ed07-4c94-beed-bd5f6ba5566d",
   "metadata": {},
   "outputs": [
    {
     "name": "stdout",
     "output_type": "stream",
     "text": [
      "#FF0000\n"
     ]
    },
    {
     "data": {
      "text/plain": [
       "undefined"
      ]
     },
     "execution_count": 9,
     "metadata": {},
     "output_type": "execute_result"
    }
   ],
   "source": [
    "const colorKey: ColorKeys = \"red\"; // 유효한 속성 키\n",
    "\n",
    "console.log(getColor(colorKey)); // #FF0000"
   ]
  },
  {
   "cell_type": "markdown",
   "id": "6974152c-3b7e-40cb-a05a-cab1ddc8840c",
   "metadata": {},
   "source": [
    "### 없는 속성을 처리 "
   ]
  },
  {
   "cell_type": "code",
   "execution_count": 7,
   "id": "8482cc6d-1e61-42a6-b2c7-f4b71b630fc1",
   "metadata": {},
   "outputs": [
    {
     "ename": "Error",
     "evalue": "Line 1, Character 7\nconst invalidKey: ColorKeys = \"yellow\"; // 오류: 존재하지 않는 속성 키\n______^\nTS2322: Type '\"yellow\"' is not assignable to type '\"red\" | \"green\" | \"blue\"'.",
     "execution_count": 7,
     "output_type": "error",
     "traceback": [
      "Error: Line 1, Character 7",
      "const invalidKey: ColorKeys = \"yellow\"; // 오류: 존재하지 않는 속성 키",
      "______^",
      "TS2322: Type '\"yellow\"' is not assignable to type '\"red\" | \"green\" | \"blue\"'.",
      "    at execTranspile (/usr/local/lib/node_modules/itypescript/lib/kernel.js:229:23)",
      "    at Session.transpiler [as transpile] (/usr/local/lib/node_modules/itypescript/lib/kernel.js:288:35)",
      "    at Session._runNow (/usr/local/lib/node_modules/itypescript/node_modules/nel/lib/nel.js:835:39)",
      "    at Session._run (/usr/local/lib/node_modules/itypescript/node_modules/nel/lib/nel.js:786:14)",
      "    at Session.execute (/usr/local/lib/node_modules/itypescript/node_modules/nel/lib/nel.js:929:10)",
      "    at Kernel.execute_request (/usr/local/lib/node_modules/itypescript/node_modules/jp-kernel/lib/handlers_v5.js:116:18)",
      "    at Kernel.onShellMessage (/usr/local/lib/node_modules/itypescript/node_modules/jp-kernel/lib/jp-kernel.js:285:41)",
      "    at Socket.<anonymous> (/usr/local/lib/node_modules/itypescript/node_modules/jmp/index.js:350:17)",
      "    at Socket.emit (node:events:513:28)",
      "    at Socket._emitMessage (/usr/local/lib/node_modules/itypescript/node_modules/zeromq/lib/index.js:649:15)"
     ]
    }
   ],
   "source": [
    "const invalidKey: ColorKeys = \"yellow\"; // 오류: 존재하지 않는 속성 키"
   ]
  },
  {
   "cell_type": "code",
   "execution_count": null,
   "id": "9bb55f60-89e9-4047-97e5-f7835f7d5cb4",
   "metadata": {},
   "outputs": [],
   "source": []
  }
 ],
 "metadata": {
  "kernelspec": {
   "display_name": "Typescript 4.9",
   "language": "typescript",
   "name": "typescript"
  },
  "language_info": {
   "file_extension": ".ts",
   "mimetype": "application/x-typescript",
   "name": "typescript",
   "version": "4.9.5"
  }
 },
 "nbformat": 4,
 "nbformat_minor": 5
}
