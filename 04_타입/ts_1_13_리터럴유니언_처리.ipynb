{
 "cells": [
  {
   "cell_type": "code",
   "execution_count": null,
   "id": "16aa645e-9d5e-452e-8a00-e29a36edcf06",
   "metadata": {},
   "outputs": [],
   "source": []
  },
  {
   "cell_type": "code",
   "execution_count": null,
   "id": "f22a82bd-4124-42d6-87b1-12bf096f5209",
   "metadata": {},
   "outputs": [],
   "source": []
  },
  {
   "cell_type": "markdown",
   "id": "7887bb6a-b45b-4085-8eed-cbfbff5336ab",
   "metadata": {},
   "source": [
    "## 유니언(Union) 자료형 \n",
    "    \n",
    "- 둘 이상의 다른 타입 중 하나를 가질 수 있는 자료형입니다. \n",
    "- 유니언 타입은 | 연산자로 여러 타입을 결합하여 사용합니다. 이것은 변수나 매개변수가 여러 다른 유형의 값을 허용할 때 유용합니다"
   ]
  },
  {
   "cell_type": "code",
   "execution_count": null,
   "id": "bf99a4a7-5733-4136-8e8e-baea6121ba57",
   "metadata": {},
   "outputs": [],
   "source": []
  },
  {
   "cell_type": "markdown",
   "id": "61846f9c-5a2a-4f9a-b499-8465786cc5f5",
   "metadata": {},
   "source": [
    "## 1-1. 유니온 자료형\n",
    "\n",
    "- 여러 자료형 중에 하나를 선택할 때..."
   ]
  },
  {
   "cell_type": "markdown",
   "id": "ca9294ae-9ded-4614-ae2b-625f061be6c2",
   "metadata": {},
   "source": [
    "### 1-1-1 유니온 자료형을 변수에 정의 \n",
    "\n",
    "- 두 개의 자료형 중에 하나의 자료형을 선택함 "
   ]
  },
  {
   "cell_type": "markdown",
   "id": "6d158124-13e5-4520-94e0-3b53d8551798",
   "metadata": {},
   "source": [
    "### 유니온타입의 변수 정의 "
   ]
  },
  {
   "cell_type": "code",
   "execution_count": 1,
   "id": "aa4bcb98-e88b-42c9-b789-dc449b1aace9",
   "metadata": {},
   "outputs": [
    {
     "data": {
      "text/plain": [
       "'use strict'"
      ]
     },
     "execution_count": 1,
     "metadata": {},
     "output_type": "execute_result"
    }
   ],
   "source": [
    "// 유니언 타입의 기본 구문\n",
    "let myVariable: string | number;\n"
   ]
  },
  {
   "cell_type": "code",
   "execution_count": 2,
   "id": "4d43a57f-be03-4b72-8bd1-cf12555e3725",
   "metadata": {},
   "outputs": [
    {
     "data": {
      "text/plain": [
       "'Hello, TypeScript'"
      ]
     },
     "execution_count": 2,
     "metadata": {},
     "output_type": "execute_result"
    }
   ],
   "source": [
    "myVariable = \"Hello, TypeScript\";"
   ]
  },
  {
   "cell_type": "code",
   "execution_count": 3,
   "id": "e89e6ca9-33f4-4c38-9df1-d9fa3b8e04d3",
   "metadata": {},
   "outputs": [
    {
     "data": {
      "text/plain": [
       "42"
      ]
     },
     "execution_count": 3,
     "metadata": {},
     "output_type": "execute_result"
    }
   ],
   "source": [
    "myVariable = 42;"
   ]
  },
  {
   "cell_type": "markdown",
   "id": "3a48a636-dacd-4887-84e6-da1203340a3a",
   "metadata": {},
   "source": [
    "### 유니언타입의 변수에 삼항연산자로 값을 넣기 "
   ]
  },
  {
   "cell_type": "code",
   "execution_count": 4,
   "id": "6576a4fb-c34c-4e16-abcd-25a500010e4b",
   "metadata": {},
   "outputs": [
    {
     "name": "stdout",
     "output_type": "stream",
     "text": [
      "number\n"
     ]
    },
    {
     "data": {
      "text/plain": [
       "undefined"
      ]
     },
     "execution_count": 4,
     "metadata": {},
     "output_type": "execute_result"
    }
   ],
   "source": [
    "{ \n",
    "    let varUnion : string | number = (Math.random() > 0.5) ? \" 호호호 \" : 100 ;\n",
    "\n",
    "    console.log(typeof varUnion);\n",
    "}"
   ]
  },
  {
   "cell_type": "code",
   "execution_count": null,
   "id": "6769f011-6fb5-4c83-9d71-5d59571db69b",
   "metadata": {},
   "outputs": [],
   "source": []
  },
  {
   "cell_type": "markdown",
   "id": "67fc681d-57a4-4fe1-9dda-cfc1fc725d29",
   "metadata": {},
   "source": [
    "## 1-2 유니온 자료형의 속성 처리 기준 \n",
    "\n",
    "- 두 개의 자료형중에 공통적인 속성(메서드 포함)만 유니온 자료형을 지정한 곳에서 접근이 가능하다.\n",
    "- 두 개의 자료형에 개별적인 경우 접근하면 예외를 발생시킴"
   ]
  },
  {
   "cell_type": "markdown",
   "id": "ed9a2e13-7ce7-4de9-9bb0-ccbfb2f575ac",
   "metadata": {},
   "source": [
    "### 두 개의 타입중에 어느 것이 확정되지 않음\n",
    "\n",
    "- 이때는 항상 두가지가 처리되는 명확한 자료형일 경우의 속성과 메서드만 실행 "
   ]
  },
  {
   "cell_type": "code",
   "execution_count": 3,
   "id": "49081175-3acb-47a4-a615-02d2f1a5d173",
   "metadata": {},
   "outputs": [
    {
     "data": {
      "text/plain": [
       "undefined"
      ]
     },
     "execution_count": 3,
     "metadata": {},
     "output_type": "execute_result"
    }
   ],
   "source": [
    "let value = Math.random() > 0.5    // string | number 유니온 타입\n",
    "            ? \"문자열\" \n",
    "            : 999 ;"
   ]
  },
  {
   "cell_type": "markdown",
   "id": "2eb0896a-5020-4d71-a760-04f19b045a8e",
   "metadata": {},
   "source": [
    "### 유니온 타입의 공통되는 속성을 처리 "
   ]
  },
  {
   "cell_type": "code",
   "execution_count": 4,
   "id": "40244cb6-f6d4-4fc1-9584-cec3075df4a2",
   "metadata": {},
   "outputs": [
    {
     "data": {
      "text/plain": [
       "'999'"
      ]
     },
     "execution_count": 4,
     "metadata": {},
     "output_type": "execute_result"
    }
   ],
   "source": [
    "value.toString()"
   ]
  },
  {
   "cell_type": "code",
   "execution_count": 5,
   "id": "333f3c81-090c-4797-8255-717c5c787888",
   "metadata": {},
   "outputs": [
    {
     "data": {
      "text/plain": [
       "'number'"
      ]
     },
     "execution_count": 5,
     "metadata": {},
     "output_type": "execute_result"
    }
   ],
   "source": [
    "typeof value"
   ]
  },
  {
   "cell_type": "code",
   "execution_count": null,
   "id": "dca621b0-afd1-421c-a797-ea4310dea01e",
   "metadata": {},
   "outputs": [],
   "source": []
  },
  {
   "cell_type": "markdown",
   "id": "eb87b4ff-da2e-4c02-b0f2-c49ecb529e9c",
   "metadata": {},
   "source": [
    "### 유니온 타입의 개별 메서드나 속성은 에러 "
   ]
  },
  {
   "cell_type": "code",
   "execution_count": 6,
   "id": "781628d3-206a-45aa-b29a-f1266e3d4e9c",
   "metadata": {},
   "outputs": [
    {
     "ename": "Error",
     "evalue": "Line 1, Character 7\nvalue.toUpperCase()\n______^\nTS2339: Property 'toUpperCase' does not exist on type 'string | number'.\n  Property 'toUpperCase' does not exist on type 'number'.",
     "execution_count": 6,
     "output_type": "error",
     "traceback": [
      "Error: Line 1, Character 7",
      "value.toUpperCase()",
      "______^",
      "TS2339: Property 'toUpperCase' does not exist on type 'string | number'.",
      "  Property 'toUpperCase' does not exist on type 'number'.",
      "    at execTranspile (/usr/local/lib/node_modules/itypescript/lib/kernel.js:229:23)",
      "    at Session.transpiler [as transpile] (/usr/local/lib/node_modules/itypescript/lib/kernel.js:288:35)",
      "    at Session._runNow (/usr/local/lib/node_modules/itypescript/node_modules/nel/lib/nel.js:835:39)",
      "    at Session._run (/usr/local/lib/node_modules/itypescript/node_modules/nel/lib/nel.js:786:14)",
      "    at Session.execute (/usr/local/lib/node_modules/itypescript/node_modules/nel/lib/nel.js:929:10)",
      "    at Kernel.execute_request (/usr/local/lib/node_modules/itypescript/node_modules/jp-kernel/lib/handlers_v5.js:116:18)",
      "    at Kernel.onShellMessage (/usr/local/lib/node_modules/itypescript/node_modules/jp-kernel/lib/jp-kernel.js:285:41)",
      "    at Socket.<anonymous> (/usr/local/lib/node_modules/itypescript/node_modules/jmp/index.js:350:17)",
      "    at Socket.emit (node:events:513:28)",
      "    at Socket._emitMessage (/usr/local/lib/node_modules/itypescript/node_modules/zeromq/lib/index.js:649:15)"
     ]
    }
   ],
   "source": [
    "value.toUpperCase()"
   ]
  },
  {
   "cell_type": "code",
   "execution_count": 7,
   "id": "7943f6cc-1ce8-488a-952b-99fdbdd89789",
   "metadata": {},
   "outputs": [
    {
     "ename": "Error",
     "evalue": "Line 1, Character 7\nvalue.toFixed()\n______^\nTS2339: Property 'toFixed' does not exist on type 'string | number'.\n  Property 'toFixed' does not exist on type 'string'.",
     "execution_count": 7,
     "output_type": "error",
     "traceback": [
      "Error: Line 1, Character 7",
      "value.toFixed()",
      "______^",
      "TS2339: Property 'toFixed' does not exist on type 'string | number'.",
      "  Property 'toFixed' does not exist on type 'string'.",
      "    at execTranspile (/usr/local/lib/node_modules/itypescript/lib/kernel.js:229:23)",
      "    at Session.transpiler [as transpile] (/usr/local/lib/node_modules/itypescript/lib/kernel.js:288:35)",
      "    at Session._runNow (/usr/local/lib/node_modules/itypescript/node_modules/nel/lib/nel.js:835:39)",
      "    at Session._run (/usr/local/lib/node_modules/itypescript/node_modules/nel/lib/nel.js:786:14)",
      "    at Session.execute (/usr/local/lib/node_modules/itypescript/node_modules/nel/lib/nel.js:929:10)",
      "    at Kernel.execute_request (/usr/local/lib/node_modules/itypescript/node_modules/jp-kernel/lib/handlers_v5.js:116:18)",
      "    at Kernel.onShellMessage (/usr/local/lib/node_modules/itypescript/node_modules/jp-kernel/lib/jp-kernel.js:285:41)",
      "    at Socket.<anonymous> (/usr/local/lib/node_modules/itypescript/node_modules/jmp/index.js:350:17)",
      "    at Socket.emit (node:events:513:28)",
      "    at Socket._emitMessage (/usr/local/lib/node_modules/itypescript/node_modules/zeromq/lib/index.js:649:15)"
     ]
    }
   ],
   "source": [
    "value.toFixed()"
   ]
  },
  {
   "cell_type": "code",
   "execution_count": null,
   "id": "b7a16774-642e-435b-ba87-1431d3a9f16d",
   "metadata": {},
   "outputs": [],
   "source": []
  },
  {
   "cell_type": "code",
   "execution_count": null,
   "id": "7140a4b9-9a18-4cfb-9d17-4fe1745223fc",
   "metadata": {},
   "outputs": [],
   "source": []
  },
  {
   "cell_type": "markdown",
   "id": "ab6da817-4bd1-4233-8689-1728c9cb0e49",
   "metadata": {},
   "source": [
    "## 1-3 긴 유니언 자료형은 타입별칭으로 정의하기 "
   ]
  },
  {
   "cell_type": "code",
   "execution_count": null,
   "id": "a8cbd57a-5dd2-483d-8d46-715f0cf0e5e1",
   "metadata": {},
   "outputs": [],
   "source": []
  },
  {
   "cell_type": "code",
   "execution_count": 3,
   "id": "7378063e-ba5f-408e-ab95-c5a08bdc4ef6",
   "metadata": {},
   "outputs": [
    {
     "data": {
      "text/plain": [
       "undefined"
      ]
     },
     "execution_count": 3,
     "metadata": {},
     "output_type": "execute_result"
    }
   ],
   "source": [
    "let raw : boolean | number | string | null | undefined;"
   ]
  },
  {
   "cell_type": "markdown",
   "id": "936d4d51-44fb-4166-ae68-f704c6658135",
   "metadata": {},
   "source": [
    "### 타입별칭 지정 "
   ]
  },
  {
   "cell_type": "code",
   "execution_count": 1,
   "id": "fac62333-fa34-4bc1-9126-6c246d45fce1",
   "metadata": {},
   "outputs": [
    {
     "data": {
      "text/plain": [
       "'use strict'"
      ]
     },
     "execution_count": 1,
     "metadata": {},
     "output_type": "execute_result"
    }
   ],
   "source": [
    "type RawData = boolean | number | string | null | undefined;"
   ]
  },
  {
   "cell_type": "code",
   "execution_count": 2,
   "id": "0b1a416f-5ece-4659-b9fd-1d7762e801ab",
   "metadata": {},
   "outputs": [
    {
     "data": {
      "text/plain": [
       "undefined"
      ]
     },
     "execution_count": 2,
     "metadata": {},
     "output_type": "execute_result"
    }
   ],
   "source": [
    "let raw2 :RawData;"
   ]
  },
  {
   "cell_type": "code",
   "execution_count": null,
   "id": "6ae829e1-ee6d-493a-a7ba-d0b596f0a57a",
   "metadata": {},
   "outputs": [],
   "source": []
  }
 ],
 "metadata": {
  "kernelspec": {
   "display_name": "Typescript 4.9",
   "language": "typescript",
   "name": "typescript"
  },
  "language_info": {
   "file_extension": ".ts",
   "mimetype": "application/x-typescript",
   "name": "typescript",
   "version": "4.9.5"
  }
 },
 "nbformat": 4,
 "nbformat_minor": 5
}
