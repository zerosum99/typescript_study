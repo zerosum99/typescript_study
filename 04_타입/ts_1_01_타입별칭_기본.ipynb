{
 "cells": [
  {
   "cell_type": "code",
   "execution_count": null,
   "id": "49aece65-0863-4329-9248-3751d01765ba",
   "metadata": {},
   "outputs": [],
   "source": []
  },
  {
   "cell_type": "markdown",
   "id": "35e20a70-7bf4-4804-a160-dc11634ac255",
   "metadata": {},
   "source": [
    "## 1. 타입 별칭(Type Alias)\n",
    "\n",
    "- 타입스크립트에서 사용자 정의 타입을 만들기 위해 사용되는 기능입니다. \n",
    "- 타입 별칭은 기존의 타입을 다른 이름으로 지정하거나 조합하여 새로운 타입을 만들 수 있습니다.\n",
    "\n"
   ]
  },
  {
   "cell_type": "markdown",
   "id": "d47f6350-8026-4df3-86fd-6097fd01e28f",
   "metadata": {},
   "source": [
    "## 1-1 다양한 타입에 대한 타입 별칭 지정하기 "
   ]
  },
  {
   "cell_type": "markdown",
   "id": "f4b1f611-4197-413c-a3c5-1057aaea3e54",
   "metadata": {},
   "source": [
    "### 리터럴 유니언 정의 "
   ]
  },
  {
   "cell_type": "code",
   "execution_count": null,
   "id": "5a6e87ee-0f2b-4209-9b96-4c29d9f56abb",
   "metadata": {},
   "outputs": [],
   "source": [
    "type Status = \"success\" | \"error\" | \"warning\";"
   ]
  },
  {
   "cell_type": "markdown",
   "id": "1644b63b-5af9-4ce9-b31e-7665a13d917f",
   "metadata": {},
   "source": [
    "### 배열 정의 "
   ]
  },
  {
   "cell_type": "code",
   "execution_count": null,
   "id": "1bf16397-c267-4d23-84a2-7388ffc46fd5",
   "metadata": {},
   "outputs": [],
   "source": [
    "type Coords = [number, number];"
   ]
  },
  {
   "cell_type": "markdown",
   "id": "f915725f-8062-4934-8f38-51d47f56e961",
   "metadata": {},
   "source": [
    "### 객체 정의 "
   ]
  },
  {
   "cell_type": "code",
   "execution_count": 1,
   "id": "7d999a49-790f-4c9c-ae4c-b74c34e192ea",
   "metadata": {},
   "outputs": [
    {
     "data": {
      "text/plain": [
       "'use strict'"
      ]
     },
     "execution_count": 1,
     "metadata": {},
     "output_type": "execute_result"
    }
   ],
   "source": [
    "type Point = {\n",
    "    x: number;\n",
    "    y: number;\n",
    "};\n"
   ]
  },
  {
   "cell_type": "code",
   "execution_count": null,
   "id": "77e1e484-b948-49af-ae1a-597fd564d16d",
   "metadata": {},
   "outputs": [],
   "source": []
  },
  {
   "cell_type": "code",
   "execution_count": null,
   "id": "88c3e4aa-9f34-403a-8b46-787fea4fd459",
   "metadata": {},
   "outputs": [],
   "source": []
  },
  {
   "cell_type": "markdown",
   "id": "5adc32a1-fdbd-41c9-8071-5e4a8efb1e98",
   "metadata": {},
   "source": [
    "## 1-2 타입 별칭의  결합\n",
    "- 더 복잡한 타입을 만들거나 유니온(Union) 또는 인터섹션(Intersection) 타입과 조합하여 사용할 수 있습니다.\n",
    "- 이를 통해 더 다양하고 유연한 타입을 정의할 수 있습니다."
   ]
  },
  {
   "cell_type": "markdown",
   "id": "d26de075-51f5-485c-afbe-852a0206b750",
   "metadata": {},
   "source": [
    "## 유니온 타입과 결합\n",
    "\n",
    "- 여러 타입 중에 하나의 타입을 처리\n",
    "- 이런 자료형을 객체 자료형의 속성의 타입으로 지정 가능 "
   ]
  },
  {
   "cell_type": "code",
   "execution_count": 4,
   "id": "e2e9dc0d-3996-40cc-9d83-c58dc7caed8f",
   "metadata": {},
   "outputs": [
    {
     "data": {
      "text/plain": [
       "undefined"
      ]
     },
     "execution_count": 4,
     "metadata": {},
     "output_type": "execute_result"
    }
   ],
   "source": [
    "type Status1 = \"success\" | \"error\" | \"warning\";\n",
    "type StatusCode = 200 | 400 | 500;\n",
    "\n",
    "type Response2 = {\n",
    "    status: Status1;\n",
    "    code: StatusCode;\n",
    "};\n"
   ]
  },
  {
   "cell_type": "code",
   "execution_count": null,
   "id": "1aad0905-84bb-4092-a039-6a2ac04ccf57",
   "metadata": {},
   "outputs": [],
   "source": []
  },
  {
   "cell_type": "markdown",
   "id": "5c6bcabb-e6fd-4984-8f86-67b7016e465c",
   "metadata": {},
   "source": [
    "## 인터섹션 타입과 결합 \n",
    "\n",
    "-  객체 자료형을 결합해서 하나의 자료형으로 만든다\n",
    "-  "
   ]
  },
  {
   "cell_type": "code",
   "execution_count": 5,
   "id": "6721ed0a-f052-4cf8-9cf3-189d7e6e3ec2",
   "metadata": {},
   "outputs": [
    {
     "data": {
      "text/plain": [
       "undefined"
      ]
     },
     "execution_count": 5,
     "metadata": {},
     "output_type": "execute_result"
    }
   ],
   "source": [
    "type Address = {\n",
    "    street: string;\n",
    "    city: string;\n",
    "};\n",
    "\n",
    "type Person = {\n",
    "    name: string;\n",
    "    age: number;\n",
    "};\n",
    "\n",
    "type Employee = Address & Person;\n"
   ]
  },
  {
   "cell_type": "code",
   "execution_count": null,
   "id": "74f8d04b-38f9-4f30-9082-5accef77e14f",
   "metadata": {},
   "outputs": [],
   "source": []
  },
  {
   "cell_type": "markdown",
   "id": "6978f5f2-dccc-480d-9d5e-8c48645adc30",
   "metadata": {},
   "source": [
    "## 혼용 처리 "
   ]
  },
  {
   "cell_type": "code",
   "execution_count": 7,
   "id": "b02d9690-8ce2-4b8e-80e0-fcfcdc9db126",
   "metadata": {},
   "outputs": [
    {
     "data": {
      "text/plain": [
       "undefined"
      ]
     },
     "execution_count": 7,
     "metadata": {},
     "output_type": "execute_result"
    }
   ],
   "source": [
    "type Status3 = \"success\" | \"error\";\n",
    "type StatusCode3 = 200 | 400;\n",
    "\n",
    "type Response3 = {\n",
    "    status: Status3;\n",
    "    code: StatusCode3;\n",
    "} & {\n",
    "    message: string;\n",
    "};\n"
   ]
  },
  {
   "cell_type": "code",
   "execution_count": null,
   "id": "08c73a1b-a0b5-4188-a6b8-cb4141983bcc",
   "metadata": {},
   "outputs": [],
   "source": []
  }
 ],
 "metadata": {
  "kernelspec": {
   "display_name": "Typescript 4.9",
   "language": "typescript",
   "name": "typescript"
  },
  "language_info": {
   "file_extension": ".ts",
   "mimetype": "application/x-typescript",
   "name": "typescript",
   "version": "4.9.5"
  }
 },
 "nbformat": 4,
 "nbformat_minor": 5
}
