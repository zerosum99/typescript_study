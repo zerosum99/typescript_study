{
 "cells": [
  {
   "cell_type": "code",
   "execution_count": null,
   "id": "7bcc9be1-73f7-4ebc-ac55-2ecfccf800e9",
   "metadata": {},
   "outputs": [],
   "source": []
  },
  {
   "cell_type": "code",
   "execution_count": null,
   "id": "c02badb7-ffe7-48dd-bd39-90a7363b8814",
   "metadata": {},
   "outputs": [],
   "source": []
  },
  {
   "cell_type": "markdown",
   "id": "6c5238fa-8cc9-4eb6-979c-dc62f3d9e70c",
   "metadata": {},
   "source": [
    "## non-null 어서션\n",
    "- non-null 어서션은 타입스크립트에서 변수나 속성 끝에 !를 붙여서 사용하는 연산자이다. \n",
    "- 이 연산자를 사용하면 해당 변수나 속성이 null 또는 undefined가 아니라고 컴파일러에게 알려줄 수 있다."
   ]
  },
  {
   "cell_type": "markdown",
   "id": "7eefc650-3dc4-41ad-a06a-3441d1a344ad",
   "metadata": {},
   "source": [
    "## undefined 처리 "
   ]
  },
  {
   "cell_type": "code",
   "execution_count": 1,
   "id": "d3c77cee-b6ce-40ef-bbe6-a3a399210fbb",
   "metadata": {},
   "outputs": [
    {
     "data": {
      "text/plain": [
       "'use strict'"
      ]
     },
     "execution_count": 1,
     "metadata": {},
     "output_type": "execute_result"
    }
   ],
   "source": [
    "let maybeDate = Math.random() > 0.5 ? undefined : new Date();\n",
    "\n"
   ]
  },
  {
   "cell_type": "code",
   "execution_count": 2,
   "id": "85bb8ebe-069f-4159-913e-a0bc1b749d94",
   "metadata": {},
   "outputs": [
    {
     "data": {
      "text/plain": [
       "2023-10-18T06:53:30.631Z"
      ]
     },
     "execution_count": 2,
     "metadata": {},
     "output_type": "execute_result"
    }
   ],
   "source": [
    "// 타입이 Date라고 간주됨\n",
    "maybeDate as Date;"
   ]
  },
  {
   "cell_type": "code",
   "execution_count": 3,
   "id": "9d528bd9-8fe5-48be-b539-f5377235eeae",
   "metadata": {},
   "outputs": [
    {
     "data": {
      "text/plain": [
       "2023-10-18T06:53:30.631Z"
      ]
     },
     "execution_count": 3,
     "metadata": {},
     "output_type": "execute_result"
    }
   ],
   "source": [
    "// 타입이 Date라고 간주됨\n",
    "maybeDate!;"
   ]
  },
  {
   "cell_type": "markdown",
   "id": "73be5505-f3cd-4e98-b0f8-24d0977fc778",
   "metadata": {},
   "source": [
    "## 맵 자료형일 때 조회한 값이 널이 아니경우 처리 "
   ]
  },
  {
   "cell_type": "code",
   "execution_count": 4,
   "id": "0a11b17d-cb0d-443c-ace8-ac55a7785ed4",
   "metadata": {},
   "outputs": [
    {
     "data": {
      "text/plain": [
       "undefined"
      ]
     },
     "execution_count": 4,
     "metadata": {},
     "output_type": "execute_result"
    }
   ],
   "source": [
    "const map = new Map([\n",
    "  ['one', 1],\n",
    "  ['two', 2],\n",
    "]);"
   ]
  },
  {
   "cell_type": "code",
   "execution_count": 5,
   "id": "c6fe5407-304a-4700-aa8c-bb666d03fc27",
   "metadata": {},
   "outputs": [
    {
     "ename": "Error",
     "evalue": "Line 2, Character 13\nconsole.log(maybeValue.toString());\n____________^\nTS18048: 'maybeValue' is possibly 'undefined'.",
     "execution_count": 5,
     "output_type": "error",
     "traceback": [
      "Error: Line 2, Character 13",
      "console.log(maybeValue.toString());",
      "____________^",
      "TS18048: 'maybeValue' is possibly 'undefined'.",
      "    at execTranspile (/usr/local/lib/node_modules/itypescript/lib/kernel.js:229:23)",
      "    at Session.transpiler [as transpile] (/usr/local/lib/node_modules/itypescript/lib/kernel.js:288:35)",
      "    at Session._runNow (/usr/local/lib/node_modules/itypescript/node_modules/nel/lib/nel.js:835:39)",
      "    at Session._run (/usr/local/lib/node_modules/itypescript/node_modules/nel/lib/nel.js:786:14)",
      "    at Session.execute (/usr/local/lib/node_modules/itypescript/node_modules/nel/lib/nel.js:929:10)",
      "    at Kernel.execute_request (/usr/local/lib/node_modules/itypescript/node_modules/jp-kernel/lib/handlers_v5.js:116:18)",
      "    at Kernel.onShellMessage (/usr/local/lib/node_modules/itypescript/node_modules/jp-kernel/lib/jp-kernel.js:285:41)",
      "    at Socket.<anonymous> (/usr/local/lib/node_modules/itypescript/node_modules/jmp/index.js:350:17)",
      "    at Socket.emit (node:events:513:28)",
      "    at Socket._emitMessage (/usr/local/lib/node_modules/itypescript/node_modules/zeromq/lib/index.js:649:15)"
     ]
    }
   ],
   "source": [
    "const maybeValue = map.get('one');\n",
    "console.log(maybeValue.toString());\n",
    "// 'maybeValue' is possibly 'undefined'."
   ]
  },
  {
   "cell_type": "code",
   "execution_count": 6,
   "id": "09a05506-af58-466d-b043-7ac0e18056e1",
   "metadata": {},
   "outputs": [
    {
     "name": "stdout",
     "output_type": "stream",
     "text": [
      "1\n"
     ]
    },
    {
     "data": {
      "text/plain": [
       "undefined"
      ]
     },
     "execution_count": 6,
     "metadata": {},
     "output_type": "execute_result"
    }
   ],
   "source": [
    "const numValue = map.get('one')!;\n",
    "console.log(numValue.toString()); // Ok"
   ]
  },
  {
   "cell_type": "code",
   "execution_count": null,
   "id": "48c31b9f-8445-455c-8cf4-213a27a4cdeb",
   "metadata": {},
   "outputs": [],
   "source": []
  }
 ],
 "metadata": {
  "kernelspec": {
   "display_name": "Typescript 4.9",
   "language": "typescript",
   "name": "typescript"
  },
  "language_info": {
   "file_extension": ".ts",
   "mimetype": "application/x-typescript",
   "name": "typescript",
   "version": "4.9.5"
  }
 },
 "nbformat": 4,
 "nbformat_minor": 5
}
