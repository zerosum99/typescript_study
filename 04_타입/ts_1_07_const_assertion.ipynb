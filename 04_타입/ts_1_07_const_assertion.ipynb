{
 "cells": [
  {
   "cell_type": "code",
   "execution_count": null,
   "id": "d5333e11-7d4b-46af-9718-a2b6d0a343c7",
   "metadata": {},
   "outputs": [],
   "source": []
  },
  {
   "cell_type": "markdown",
   "id": "8719e130-1654-4fdb-a2f7-cd0f9b4af540",
   "metadata": {},
   "source": [
    "## 1. const assertion \n",
    "\n",
    "- 리터럴 값을 가지는 변수나 속성을 \"const\" 취급하도록 지정하는 기능\n",
    "- 이것은 타입스크립트에게 해당 값이 변하지 않고 항상 리터럴 값 그대로 사용되는 것을 보장하며, 타입 추론과 타입 검사를 강화하는데 사용"
   ]
  },
  {
   "cell_type": "markdown",
   "id": "38a1ef03-9227-4452-bbd7-041b2587361e",
   "metadata": {},
   "source": [
    "## 1-1 리터럴에 const 지정\n",
    "\n",
    "- 리터럴 타입으로 처리 "
   ]
  },
  {
   "cell_type": "code",
   "execution_count": 1,
   "id": "914588b5-4db6-4c36-8881-852c389aef65",
   "metadata": {},
   "outputs": [
    {
     "data": {
      "text/plain": [
       "'use strict'"
      ]
     },
     "execution_count": 1,
     "metadata": {},
     "output_type": "execute_result"
    }
   ],
   "source": [
    "let x = 10; // x는 number 타입\n",
    "let y = 20 as const; // y는 20이라는 리터럴 값의 타입"
   ]
  },
  {
   "cell_type": "markdown",
   "id": "7abcd4b3-280f-4cec-b039-b29d15850550",
   "metadata": {},
   "source": [
    "### XType은 number"
   ]
  },
  {
   "cell_type": "code",
   "execution_count": 2,
   "id": "db18982e-8a8b-4704-899d-397d65162253",
   "metadata": {},
   "outputs": [
    {
     "data": {
      "text/plain": [
       "undefined"
      ]
     },
     "execution_count": 2,
     "metadata": {},
     "output_type": "execute_result"
    }
   ],
   "source": [
    "type XType = typeof x; // XType은 number"
   ]
  },
  {
   "cell_type": "code",
   "execution_count": 3,
   "id": "5bf15a9d-d7ec-44b8-b297-3850d6d11eec",
   "metadata": {},
   "outputs": [
    {
     "data": {
      "text/plain": [
       "undefined"
      ]
     },
     "execution_count": 3,
     "metadata": {},
     "output_type": "execute_result"
    }
   ],
   "source": [
    "let xtype : XType = 20;"
   ]
  },
  {
   "cell_type": "markdown",
   "id": "93339818-a60f-42fb-bc94-c9daf546073d",
   "metadata": {},
   "source": [
    "### YType은 20 (리터럴 값)"
   ]
  },
  {
   "cell_type": "code",
   "execution_count": 4,
   "id": "c4335605-6227-4600-a5af-407a8f03cc6a",
   "metadata": {},
   "outputs": [
    {
     "data": {
      "text/plain": [
       "undefined"
      ]
     },
     "execution_count": 4,
     "metadata": {},
     "output_type": "execute_result"
    }
   ],
   "source": [
    "type YType = typeof y;  "
   ]
  },
  {
   "cell_type": "code",
   "execution_count": 5,
   "id": "1bf60b92-5998-4ba2-bc7a-63bec62356b0",
   "metadata": {},
   "outputs": [
    {
     "data": {
      "text/plain": [
       "undefined"
      ]
     },
     "execution_count": 5,
     "metadata": {},
     "output_type": "execute_result"
    }
   ],
   "source": [
    "let ytype : YType = 20;"
   ]
  },
  {
   "cell_type": "markdown",
   "id": "034f4d32-3b78-4982-ab26-516b4e2547da",
   "metadata": {},
   "source": [
    "### 리터럴 타입이므로 에러 "
   ]
  },
  {
   "cell_type": "code",
   "execution_count": 6,
   "id": "630c0853-d7ee-41a9-b9e4-4f4a69c1c0a8",
   "metadata": {},
   "outputs": [
    {
     "ename": "Error",
     "evalue": "Line 1, Character 5\nlet ytype2 : YType = 200;\n____^\nTS2322: Type '200' is not assignable to type '20'.",
     "execution_count": 6,
     "output_type": "error",
     "traceback": [
      "Error: Line 1, Character 5",
      "let ytype2 : YType = 200;",
      "____^",
      "TS2322: Type '200' is not assignable to type '20'.",
      "    at execTranspile (/usr/local/lib/node_modules/itypescript/lib/kernel.js:229:23)",
      "    at Session.transpiler [as transpile] (/usr/local/lib/node_modules/itypescript/lib/kernel.js:288:35)",
      "    at Session._runNow (/usr/local/lib/node_modules/itypescript/node_modules/nel/lib/nel.js:835:39)",
      "    at Session._run (/usr/local/lib/node_modules/itypescript/node_modules/nel/lib/nel.js:786:14)",
      "    at Session.execute (/usr/local/lib/node_modules/itypescript/node_modules/nel/lib/nel.js:929:10)",
      "    at Kernel.execute_request (/usr/local/lib/node_modules/itypescript/node_modules/jp-kernel/lib/handlers_v5.js:116:18)",
      "    at Kernel.onShellMessage (/usr/local/lib/node_modules/itypescript/node_modules/jp-kernel/lib/jp-kernel.js:285:41)",
      "    at Socket.<anonymous> (/usr/local/lib/node_modules/itypescript/node_modules/jmp/index.js:350:17)",
      "    at Socket.emit (node:events:513:28)",
      "    at Socket._emitMessage (/usr/local/lib/node_modules/itypescript/node_modules/zeromq/lib/index.js:649:15)"
     ]
    }
   ],
   "source": [
    "let ytype2 : YType = 200;"
   ]
  },
  {
   "cell_type": "markdown",
   "id": "e06ac6fa-cf1a-4bb8-bf94-8371e0b2e81a",
   "metadata": {},
   "source": [
    "## 1-2 객체 내의 속성에 const 지정"
   ]
  },
  {
   "cell_type": "code",
   "execution_count": 10,
   "id": "64fb27e3-90c9-4d93-8fcc-d92fca22612d",
   "metadata": {},
   "outputs": [
    {
     "data": {
      "text/plain": [
       "undefined"
      ]
     },
     "execution_count": 10,
     "metadata": {},
     "output_type": "execute_result"
    }
   ],
   "source": [
    "const person = {\n",
    "  name: \"John\",\n",
    "  age: 30 as const,\n",
    "};\n"
   ]
  },
  {
   "cell_type": "code",
   "execution_count": 11,
   "id": "cddaef4d-7d96-4fed-a6f7-d77dcb5c5f98",
   "metadata": {},
   "outputs": [
    {
     "data": {
      "text/plain": [
       "undefined"
      ]
     },
     "execution_count": 11,
     "metadata": {},
     "output_type": "execute_result"
    }
   ],
   "source": [
    "type PersonType = typeof person; // PersonType은 { readonly name: \"John\"; readonly age: 30; }"
   ]
  },
  {
   "cell_type": "markdown",
   "id": "a4cc6bb8-9159-4d94-a546-c9768fb81217",
   "metadata": {},
   "source": [
    "## 1-3 배열  원소에  const 지정 "
   ]
  },
  {
   "cell_type": "code",
   "execution_count": 7,
   "id": "b5b03c04-95c7-4825-ae37-147f5dedd14b",
   "metadata": {},
   "outputs": [
    {
     "data": {
      "text/plain": [
       "undefined"
      ]
     },
     "execution_count": 7,
     "metadata": {},
     "output_type": "execute_result"
    }
   ],
   "source": [
    "const colors = [\"red\" as const, \"green\" as const, \"blue\" as const];"
   ]
  },
  {
   "cell_type": "code",
   "execution_count": 8,
   "id": "eea322d3-4906-430b-b7e7-78237517bca4",
   "metadata": {},
   "outputs": [
    {
     "data": {
      "text/plain": [
       "undefined"
      ]
     },
     "execution_count": 8,
     "metadata": {},
     "output_type": "execute_result"
    }
   ],
   "source": [
    "type ColorsType = typeof colors; // ColorsType은 [\"red\", \"green\", \"blue\"] (리터럴 값)"
   ]
  },
  {
   "cell_type": "markdown",
   "id": "50bf4323-e2ed-4dc7-abb5-cbccebd23d10",
   "metadata": {},
   "source": [
    "## 1-4 배열에 const 지정"
   ]
  },
  {
   "cell_type": "code",
   "execution_count": 1,
   "id": "2ca956ea-1f3f-4859-9a42-0f6157341b0f",
   "metadata": {},
   "outputs": [
    {
     "data": {
      "text/plain": [
       "'use strict'"
      ]
     },
     "execution_count": 1,
     "metadata": {},
     "output_type": "execute_result"
    }
   ],
   "source": [
    "let tt :number[] = [100,200]; "
   ]
  },
  {
   "cell_type": "code",
   "execution_count": 2,
   "id": "2cc07023-fb93-4d3e-aecc-28b2a853da33",
   "metadata": {},
   "outputs": [
    {
     "data": {
      "text/plain": [
       "'object'"
      ]
     },
     "execution_count": 2,
     "metadata": {},
     "output_type": "execute_result"
    }
   ],
   "source": [
    "typeof tt"
   ]
  },
  {
   "cell_type": "code",
   "execution_count": 4,
   "id": "970cef1a-eca9-471a-ad37-0d12b353ff40",
   "metadata": {},
   "outputs": [
    {
     "data": {
      "text/plain": [
       "undefined"
      ]
     },
     "execution_count": 4,
     "metadata": {},
     "output_type": "execute_result"
    }
   ],
   "source": [
    "const readonlyTupe = [100,200] as const;"
   ]
  },
  {
   "cell_type": "code",
   "execution_count": 5,
   "id": "dd56a404-87ee-4efc-89d2-48a2fed1d82f",
   "metadata": {},
   "outputs": [
    {
     "data": {
      "text/plain": [
       "'object'"
      ]
     },
     "execution_count": 5,
     "metadata": {},
     "output_type": "execute_result"
    }
   ],
   "source": [
    "typeof readonlyTupe"
   ]
  },
  {
   "cell_type": "code",
   "execution_count": 7,
   "id": "1c67d379-9304-4cf9-bf64-5f8bfebe1cf0",
   "metadata": {},
   "outputs": [
    {
     "data": {
      "text/plain": [
       "true"
      ]
     },
     "execution_count": 7,
     "metadata": {},
     "output_type": "execute_result"
    }
   ],
   "source": [
    "readonlyTupe instanceof Array"
   ]
  },
  {
   "cell_type": "code",
   "execution_count": null,
   "id": "33fccf35-6665-44ca-98bf-cb16b6e4ce2b",
   "metadata": {},
   "outputs": [],
   "source": []
  }
 ],
 "metadata": {
  "kernelspec": {
   "display_name": "Typescript 4.9",
   "language": "typescript",
   "name": "typescript"
  },
  "language_info": {
   "file_extension": ".ts",
   "mimetype": "application/x-typescript",
   "name": "typescript",
   "version": "4.9.5"
  }
 },
 "nbformat": 4,
 "nbformat_minor": 5
}
