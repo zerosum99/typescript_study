{
 "cells": [
  {
   "cell_type": "code",
   "execution_count": null,
   "id": "c187b082-4e72-4f43-ab10-f22a8ee355ce",
   "metadata": {},
   "outputs": [],
   "source": []
  },
  {
   "cell_type": "code",
   "execution_count": null,
   "id": "4619fbec-15d3-4edf-bcde-2d6121f5be15",
   "metadata": {},
   "outputs": [],
   "source": []
  },
  {
   "cell_type": "markdown",
   "id": "97781571-4565-4974-8004-6b4c8cab6f7b",
   "metadata": {},
   "source": [
    "## readonly 속성 제거\n",
    "\n",
    "- 읽기속성을 제거해서 쓰고 읽기 속성으로 변환하기 "
   ]
  },
  {
   "cell_type": "code",
   "execution_count": 1,
   "id": "434b0f7f-1386-4dc2-83f7-7584741586a1",
   "metadata": {},
   "outputs": [
    {
     "data": {
      "text/plain": [
       "'use strict'"
      ]
     },
     "execution_count": 1,
     "metadata": {},
     "output_type": "execute_result"
    }
   ],
   "source": [
    "//  'readonly' 속성 제거\n",
    "type CreateMutable<Type> = {\n",
    "  -readonly [Property in keyof Type]: Type[Property]; // +readonly하면 추가함. default는 mutable(-readonly)\n",
    "};\n",
    "\n",
    "// readonly 타입\n",
    "type LockedAccount = {\n",
    "  readonly id: string;\n",
    "  readonly name: string;\n",
    "};\n"
   ]
  },
  {
   "cell_type": "code",
   "execution_count": null,
   "id": "35e90261-f0db-4689-a5e7-4f311eb686b9",
   "metadata": {},
   "outputs": [],
   "source": []
  },
  {
   "cell_type": "markdown",
   "id": "9463eebd-c0bc-4775-8085-32f5f9347515",
   "metadata": {},
   "source": [
    "### 타입 변경 \n",
    "\n",
    " // 변환된 타입. mutable 타입.\n",
    "type UnlockedAccount = {\n",
    "    id: string;\n",
    "    name: string;\n",
    "}"
   ]
  },
  {
   "cell_type": "code",
   "execution_count": 3,
   "id": "bddfd928-0baf-4f76-9373-fece55f7c152",
   "metadata": {},
   "outputs": [
    {
     "data": {
      "text/plain": [
       "undefined"
      ]
     },
     "execution_count": 3,
     "metadata": {},
     "output_type": "execute_result"
    }
   ],
   "source": [
    "type UnlockedAccount = CreateMutable<LockedAccount>;\n"
   ]
  },
  {
   "cell_type": "code",
   "execution_count": 4,
   "id": "07e657d1-ec43-4b53-b397-b433f1d12098",
   "metadata": {},
   "outputs": [
    {
     "data": {
      "text/plain": [
       "undefined"
      ]
     },
     "execution_count": 4,
     "metadata": {},
     "output_type": "execute_result"
    }
   ],
   "source": [
    "const ua : UnlockedAccount = { id:\"aaa\", name: \"named\" };"
   ]
  },
  {
   "cell_type": "code",
   "execution_count": 5,
   "id": "ae861c44-f96d-4ee8-8931-7f6e0273c137",
   "metadata": {},
   "outputs": [
    {
     "data": {
      "text/plain": [
       "'3333'"
      ]
     },
     "execution_count": 5,
     "metadata": {},
     "output_type": "execute_result"
    }
   ],
   "source": [
    "ua.id = \"3333\";"
   ]
  },
  {
   "cell_type": "code",
   "execution_count": null,
   "id": "701c761f-3667-4d52-8118-3f76878f360f",
   "metadata": {},
   "outputs": [],
   "source": []
  },
  {
   "cell_type": "code",
   "execution_count": null,
   "id": "2c9c466d-ce57-40d0-96c7-539fd060c637",
   "metadata": {},
   "outputs": [],
   "source": []
  },
  {
   "cell_type": "markdown",
   "id": "c5a40110-88f8-4f6e-9009-826e6d1c3d3f",
   "metadata": {},
   "source": [
    "## Optionality 제거"
   ]
  },
  {
   "cell_type": "code",
   "execution_count": 6,
   "id": "9f0ed741-af6b-4e96-a07c-36682a6bdd96",
   "metadata": {},
   "outputs": [
    {
     "data": {
      "text/plain": [
       "undefined"
      ]
     },
     "execution_count": 6,
     "metadata": {},
     "output_type": "execute_result"
    }
   ],
   "source": [
    "// 'optional' 제거. 전부 필수 필드로\n",
    "type Concrete<Type> = {\n",
    "  [Property in keyof Type]-?: Type[Property]; //  +?하면 optional하게 바꿈. default는 필수\n",
    "};"
   ]
  },
  {
   "cell_type": "code",
   "execution_count": 7,
   "id": "5fd08adc-6ab8-458b-b9be-fba054e1a6ef",
   "metadata": {},
   "outputs": [
    {
     "data": {
      "text/plain": [
       "undefined"
      ]
     },
     "execution_count": 7,
     "metadata": {},
     "output_type": "execute_result"
    }
   ],
   "source": [
    "type MaybeUser = {\n",
    "  id: string;\n",
    "  name?: string;\n",
    "  age?: number;\n",
    "};\n"
   ]
  },
  {
   "cell_type": "code",
   "execution_count": null,
   "id": "5e60ccd6-ed4f-48c2-a6a8-bc26153925e3",
   "metadata": {},
   "outputs": [],
   "source": []
  },
  {
   "cell_type": "markdown",
   "id": "0cb610fb-8f15-4642-ac08-025e84e2c65e",
   "metadata": {},
   "source": [
    "### 타입 변경 \n",
    "\n",
    "// 위와 같음\n",
    "type User = {\n",
    "    id: string;\n",
    "    name: string;\n",
    "    age: number;\n",
    "}"
   ]
  },
  {
   "cell_type": "code",
   "execution_count": 8,
   "id": "86406f64-838a-432e-8ec8-281f1a3cbf95",
   "metadata": {},
   "outputs": [
    {
     "data": {
      "text/plain": [
       "undefined"
      ]
     },
     "execution_count": 8,
     "metadata": {},
     "output_type": "execute_result"
    }
   ],
   "source": [
    "type User = Concrete<MaybeUser>;"
   ]
  },
  {
   "cell_type": "code",
   "execution_count": 11,
   "id": "295b546b-78ec-4069-8774-8c986f449f58",
   "metadata": {},
   "outputs": [
    {
     "data": {
      "text/plain": [
       "undefined"
      ]
     },
     "execution_count": 11,
     "metadata": {},
     "output_type": "execute_result"
    }
   ],
   "source": [
    "const u : User  = { id:\"aaa\", name: \"필수\", age: 33};"
   ]
  },
  {
   "cell_type": "code",
   "execution_count": null,
   "id": "72387213-7063-4026-8f6e-ee03ff2c4196",
   "metadata": {},
   "outputs": [],
   "source": []
  },
  {
   "cell_type": "markdown",
   "id": "c3a7560a-d27f-481b-80df-6004798c2809",
   "metadata": {},
   "source": [
    "## 'optional' 추가"
   ]
  },
  {
   "cell_type": "code",
   "execution_count": 12,
   "id": "33cbe14e-45ae-4ad4-ab5b-bf116bbf1f0d",
   "metadata": {},
   "outputs": [
    {
     "data": {
      "text/plain": [
       "undefined"
      ]
     },
     "execution_count": 12,
     "metadata": {},
     "output_type": "execute_result"
    }
   ],
   "source": [
    "// 'optional' 추가\n",
    "type Optional<Type> = {\n",
    "  [Property in keyof Type]+?: Type[Property]; \n",
    "};"
   ]
  },
  {
   "cell_type": "code",
   "execution_count": 13,
   "id": "0b451c0f-54f7-4ec8-a3b6-13001f5470aa",
   "metadata": {},
   "outputs": [
    {
     "data": {
      "text/plain": [
       "undefined"
      ]
     },
     "execution_count": 13,
     "metadata": {},
     "output_type": "execute_result"
    }
   ],
   "source": [
    "type User1 = Optional<MaybeUser>;"
   ]
  },
  {
   "cell_type": "code",
   "execution_count": 14,
   "id": "602be478-f363-42bd-a8e4-8c5bcbe2a61e",
   "metadata": {},
   "outputs": [
    {
     "data": {
      "text/plain": [
       "undefined"
      ]
     },
     "execution_count": 14,
     "metadata": {},
     "output_type": "execute_result"
    }
   ],
   "source": [
    "const u1: User1  = { id:\"aaa\", name: \"필수\", age: 33};"
   ]
  },
  {
   "cell_type": "code",
   "execution_count": 15,
   "id": "82a95a2c-a483-48ad-9960-4513506f1973",
   "metadata": {},
   "outputs": [
    {
     "data": {
      "text/plain": [
       "undefined"
      ]
     },
     "execution_count": 15,
     "metadata": {},
     "output_type": "execute_result"
    }
   ],
   "source": [
    "const u2: User1  = { id:\"aaa\"};"
   ]
  },
  {
   "cell_type": "code",
   "execution_count": null,
   "id": "c6139cef-8d24-4a20-93c4-c681e11cd59d",
   "metadata": {},
   "outputs": [],
   "source": []
  },
  {
   "cell_type": "markdown",
   "id": "ff683c6e-a5c4-46ce-a378-35ae282877f6",
   "metadata": {},
   "source": [
    "## 새로운 필드 추가 "
   ]
  },
  {
   "cell_type": "markdown",
   "id": "92b154ae-8df9-467c-b9ef-cebbb3f8a02e",
   "metadata": {},
   "source": [
    "### template literal types 처럼 새로운 프로퍼티 이름 만들기."
   ]
  },
  {
   "cell_type": "code",
   "execution_count": 16,
   "id": "349fba73-5704-4f21-be2b-23756800d268",
   "metadata": {},
   "outputs": [
    {
     "data": {
      "text/plain": [
       "undefined"
      ]
     },
     "execution_count": 16,
     "metadata": {},
     "output_type": "execute_result"
    }
   ],
   "source": [
    "type Getters<Type> = {\n",
    "    [Property in keyof Type as `get${Capitalize<string & Property>}`]: () => Type[Property]\n",
    "};"
   ]
  },
  {
   "cell_type": "code",
   "execution_count": 17,
   "id": "4b088e24-ee5a-4b11-94a5-571eb6bc5098",
   "metadata": {},
   "outputs": [
    {
     "data": {
      "text/plain": [
       "undefined"
      ]
     },
     "execution_count": 17,
     "metadata": {},
     "output_type": "execute_result"
    }
   ],
   "source": [
    "interface Person {\n",
    "    name: string;\n",
    "    age: number;\n",
    "    location: string;\n",
    "}"
   ]
  },
  {
   "cell_type": "markdown",
   "id": "83232c23-babe-4d93-b1f4-57a2b057cb25",
   "metadata": {},
   "source": [
    "### 타입 변경 \n",
    "    type LazyPerson = {\n",
    "    getName: () => string;\n",
    "    getAge: () => number;\n",
    "    getLocation: () => string;\n",
    "}"
   ]
  },
  {
   "cell_type": "code",
   "execution_count": 18,
   "id": "1f166677-638e-439e-8d46-de1103ede35a",
   "metadata": {},
   "outputs": [
    {
     "data": {
      "text/plain": [
       "undefined"
      ]
     },
     "execution_count": 18,
     "metadata": {},
     "output_type": "execute_result"
    }
   ],
   "source": [
    "type LazyPerson = Getters<Person>;"
   ]
  },
  {
   "cell_type": "code",
   "execution_count": null,
   "id": "69509135-9cd8-4895-af03-6ef24ef390d8",
   "metadata": {},
   "outputs": [],
   "source": []
  },
  {
   "cell_type": "code",
   "execution_count": 20,
   "id": "a6435e3b-c54c-4680-9c84-046c8956a63d",
   "metadata": {},
   "outputs": [
    {
     "data": {
      "text/plain": [
       "undefined"
      ]
     },
     "execution_count": 20,
     "metadata": {},
     "output_type": "execute_result"
    }
   ],
   "source": [
    "const lp :  LazyPerson = {\n",
    "    getName: () => \"string\",\n",
    "    getAge: () => 100,\n",
    "    getLocation: () => \"string\"\n",
    "}"
   ]
  },
  {
   "cell_type": "code",
   "execution_count": null,
   "id": "266de5b7-54b5-4fe4-9197-bbf6fb0df926",
   "metadata": {},
   "outputs": [],
   "source": []
  }
 ],
 "metadata": {
  "kernelspec": {
   "display_name": "Typescript 4.9",
   "language": "typescript",
   "name": "typescript"
  },
  "language_info": {
   "file_extension": ".ts",
   "mimetype": "application/x-typescript",
   "name": "typescript",
   "version": "4.9.5"
  }
 },
 "nbformat": 4,
 "nbformat_minor": 5
}
