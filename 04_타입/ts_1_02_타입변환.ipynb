{
 "cells": [
  {
   "cell_type": "code",
   "execution_count": null,
   "id": "d3756c5d-cabc-49b0-92f5-4ad79d14e3fe",
   "metadata": {},
   "outputs": [],
   "source": []
  },
  {
   "cell_type": "markdown",
   "id": "63280aad-1a63-41f4-9297-19b334528820",
   "metadata": {},
   "source": [
    "## 1. 타입 변환(Type Casting) \n",
    "- 변수나 값의 타입을 다른 타입으로 강제적으로 변환하는 것을 의미\n",
    "\n",
    "### 타입 캐스팅을 사용할 때 주의해야 할 점은, \n",
    "- 이는 런타임에 실제 값의 타입을 변경하는 것이 아니라 컴파일러에게 변수의 타입을 알려주는 역할\n",
    "- 따라서 적절한 타입으로 캐스팅하지 않는다면 런타임 에러가 발생\n",
    "- 항상 해당 변수가 실제로 해당 타입을 가지고 있다고 확신할 때 타입 캐스팅을 사용"
   ]
  },
  {
   "cell_type": "code",
   "execution_count": null,
   "id": "f323054a-c246-4b25-832c-65c77cffd2e2",
   "metadata": {},
   "outputs": [],
   "source": []
  },
  {
   "cell_type": "markdown",
   "id": "0f392281-d431-4345-bd63-84a450cefdea",
   "metadata": {},
   "source": [
    "## 1-1 타입 어설션 사용해서 타입변환 "
   ]
  },
  {
   "cell_type": "markdown",
   "id": "a98ec44b-a3b6-422b-a157-69553651fb08",
   "metadata": {},
   "source": [
    "## 1-1-1 \"angle-bracket\" 문법:\n",
    "- <타입> 형식으로 사용하는 방법으로, JSX를 사용하지 않을 때 유효"
   ]
  },
  {
   "cell_type": "code",
   "execution_count": 1,
   "id": "ccb435bc-70eb-4384-a38f-cbac16ccdf47",
   "metadata": {},
   "outputs": [
    {
     "data": {
      "text/plain": [
       "undefined"
      ]
     },
     "execution_count": 1,
     "metadata": {},
     "output_type": "execute_result"
    }
   ],
   "source": [
    "let value: any = \"123\";"
   ]
  },
  {
   "cell_type": "code",
   "execution_count": 2,
   "id": "2c00d52e-d32f-406c-869f-47a1238082b9",
   "metadata": {},
   "outputs": [
    {
     "name": "stdout",
     "output_type": "stream",
     "text": [
      "3\n"
     ]
    },
    {
     "data": {
      "text/plain": [
       "undefined"
      ]
     },
     "execution_count": 2,
     "metadata": {},
     "output_type": "execute_result"
    }
   ],
   "source": [
    "{ \n",
    "    let length: number = (<string>value).length;\n",
    "    console.log(length); // 출력: 3\n",
    "}"
   ]
  },
  {
   "cell_type": "code",
   "execution_count": null,
   "id": "d0996b17-6e09-44dc-9e42-4e149573c6f0",
   "metadata": {},
   "outputs": [],
   "source": []
  },
  {
   "cell_type": "markdown",
   "id": "a58ff8d1-4a22-4039-952f-9312bc626709",
   "metadata": {},
   "source": [
    "## 1-1-2 \"as\" 키워드:\n",
    "- as 키워드를 사용하여 타입을 변환하는 방법으로, JSX를 사용하는 경우와 JSX를 사용하지 않는 경우 모두 유효"
   ]
  },
  {
   "cell_type": "code",
   "execution_count": 5,
   "id": "71768d3b-eb55-44b3-943e-1f971982bb0c",
   "metadata": {},
   "outputs": [
    {
     "name": "stdout",
     "output_type": "stream",
     "text": [
      "3\n"
     ]
    },
    {
     "data": {
      "text/plain": [
       "undefined"
      ]
     },
     "execution_count": 5,
     "metadata": {},
     "output_type": "execute_result"
    }
   ],
   "source": [
    "{\n",
    "    let value: any = \"123\";\n",
    "    let length: number = (value as string).length;\n",
    "    console.log(length); // 출력: 3\n",
    "}"
   ]
  },
  {
   "cell_type": "code",
   "execution_count": null,
   "id": "36bcd576-9ece-4da6-b97a-accea2df870b",
   "metadata": {},
   "outputs": [],
   "source": []
  },
  {
   "cell_type": "markdown",
   "id": "570b9dc5-12d7-4336-84db-7d0795b18a64",
   "metadata": {},
   "source": [
    "## 1-2 타입변환함수 사용"
   ]
  },
  {
   "cell_type": "markdown",
   "id": "e0d39c62-718d-4c2d-8661-5379fc5a629e",
   "metadata": {},
   "source": [
    "### 1-2-1 제공 생성자 함수 사용"
   ]
  },
  {
   "cell_type": "code",
   "execution_count": 1,
   "id": "771c1d1d-1111-4c30-be7c-1c3f3c354e89",
   "metadata": {},
   "outputs": [
    {
     "data": {
      "text/plain": [
       "'use strict'"
      ]
     },
     "execution_count": 1,
     "metadata": {},
     "output_type": "execute_result"
    }
   ],
   "source": [
    "let strValue: string = \"42\";\n",
    "let numValue: number = Number(strValue); // 문자열을 숫자로 변환\n"
   ]
  },
  {
   "cell_type": "markdown",
   "id": "c654709a-0132-4bdd-a835-8f184859243f",
   "metadata": {},
   "source": [
    "### 1-2-2 사용자정의함수 사용"
   ]
  },
  {
   "cell_type": "code",
   "execution_count": 3,
   "id": "168d01f1-6092-4660-8899-c80bea6d2eb1",
   "metadata": {},
   "outputs": [
    {
     "data": {
      "text/plain": [
       "undefined"
      ]
     },
     "execution_count": 3,
     "metadata": {},
     "output_type": "execute_result"
    }
   ],
   "source": [
    "function stringToNumber(input: string): number {\n",
    "    return parseFloat(input);\n",
    "}\n",
    "\n",
    "let strValue1: string = \"3.14\";\n",
    "let numValue1: number = stringToNumber(strValue);\n"
   ]
  },
  {
   "cell_type": "code",
   "execution_count": null,
   "id": "53975938-9c39-4cdb-9f31-4401ef2e3649",
   "metadata": {},
   "outputs": [],
   "source": []
  }
 ],
 "metadata": {
  "kernelspec": {
   "display_name": "Typescript 4.9",
   "language": "typescript",
   "name": "typescript"
  },
  "language_info": {
   "file_extension": ".ts",
   "mimetype": "application/x-typescript",
   "name": "typescript",
   "version": "4.9.5"
  }
 },
 "nbformat": 4,
 "nbformat_minor": 5
}
