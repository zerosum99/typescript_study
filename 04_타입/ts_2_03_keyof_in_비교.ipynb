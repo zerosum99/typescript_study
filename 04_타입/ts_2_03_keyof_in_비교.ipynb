{
 "cells": [
  {
   "cell_type": "code",
   "execution_count": null,
   "id": "51b92e53-f726-4afe-ac0d-21c0020d7ebc",
   "metadata": {},
   "outputs": [],
   "source": []
  },
  {
   "cell_type": "markdown",
   "id": "264afa32-876c-4a2e-9371-c083a5419f3e",
   "metadata": {},
   "source": [
    "## 1. keyof 연산자\n",
    "- keyof 키워드는 객체 타입의 프로퍼티 이름의 타입을 정의할 때 사용합니다."
   ]
  },
  {
   "cell_type": "markdown",
   "id": "c5a2be26-f32a-4d50-848d-948b9bab9416",
   "metadata": {},
   "source": [
    "## 타입으로 지정된 경우의 프로퍼티를 확인\n",
    "\n",
    "- 타입별칭, 인터페이스, typeof 사용 => 타입"
   ]
  },
  {
   "cell_type": "code",
   "execution_count": 1,
   "id": "10c0477d-7753-4640-98ee-66befa8d05ac",
   "metadata": {},
   "outputs": [
    {
     "data": {
      "text/plain": [
       "'name'"
      ]
     },
     "execution_count": 1,
     "metadata": {},
     "output_type": "execute_result"
    }
   ],
   "source": [
    "let myObject = { name: \"John\", age: 30 };\n",
    "let myObjectKey: keyof typeof myObject; // name, age\n",
    "myObjectKey = 'name';"
   ]
  },
  {
   "cell_type": "code",
   "execution_count": null,
   "id": "e6ccec10-086e-45b0-b0a3-85e517dff64b",
   "metadata": {},
   "outputs": [],
   "source": []
  },
  {
   "cell_type": "code",
   "execution_count": null,
   "id": "58eb6b17-bfda-4e0b-bca9-8dd2c9edae91",
   "metadata": {},
   "outputs": [],
   "source": []
  },
  {
   "cell_type": "markdown",
   "id": "cafe06df-70ec-46d9-9575-7d1037a0c2b2",
   "metadata": {},
   "source": [
    "## 2. in 연산자\n",
    "- in 연산자는 Object 또는 Array가 특정 프로퍼티를 가지고 있는지 확인하는 데 사용\n",
    "- 일반적으로 json값에서 해당 키가 존재하는지 또는 enum 값에서 존재하는 값인지를 확인하기 위해 사용"
   ]
  },
  {
   "cell_type": "markdown",
   "id": "75de2741-4d89-4719-8a8e-7fc6a9d8a248",
   "metadata": {},
   "source": [
    "## 2-1 객체의 프로퍼티 확인 "
   ]
  },
  {
   "cell_type": "code",
   "execution_count": 3,
   "id": "4589d86c-a0a6-438a-9dc9-4410fb2aaad4",
   "metadata": {},
   "outputs": [
    {
     "name": "stdout",
     "output_type": "stream",
     "text": [
      "true\n",
      "false\n"
     ]
    },
    {
     "data": {
      "text/plain": [
       "undefined"
      ]
     },
     "execution_count": 3,
     "metadata": {},
     "output_type": "execute_result"
    }
   ],
   "source": [
    "let myObject1 = { name: \"John\", age: 30 };\n",
    "console.log(\"name\" in myObject1); // 출력: true\n",
    "console.log(\"email\" in myObject1); // 출력: false"
   ]
  },
  {
   "cell_type": "code",
   "execution_count": null,
   "id": "3459afc3-8e25-486b-a602-8109e20103f5",
   "metadata": {},
   "outputs": [],
   "source": []
  },
  {
   "cell_type": "markdown",
   "id": "34e8fe44-9685-44d5-a47c-b5bd5ffa1429",
   "metadata": {},
   "source": [
    "## 2-2 array 인텍스 처리 "
   ]
  },
  {
   "cell_type": "code",
   "execution_count": 1,
   "id": "4f396eb6-3c5b-400d-8fb2-52b51cec3174",
   "metadata": {},
   "outputs": [
    {
     "data": {
      "text/plain": [
       "'use strict'"
      ]
     },
     "execution_count": 1,
     "metadata": {},
     "output_type": "execute_result"
    }
   ],
   "source": [
    "let count = ['one', 'two', 'three', 'four'];"
   ]
  },
  {
   "cell_type": "code",
   "execution_count": 4,
   "id": "5703885c-b4f0-4d0a-b684-c6a8505e7c1e",
   "metadata": {},
   "outputs": [
    {
     "name": "stdout",
     "output_type": "stream",
     "text": [
      "true\n"
     ]
    },
    {
     "data": {
      "text/plain": [
       "undefined"
      ]
     },
     "execution_count": 4,
     "metadata": {},
     "output_type": "execute_result"
    }
   ],
   "source": [
    "console.log(0 in count );        // true"
   ]
  },
  {
   "cell_type": "code",
   "execution_count": 5,
   "id": "1dc315e0-5f40-48ae-8f1e-86841d543c24",
   "metadata": {},
   "outputs": [
    {
     "name": "stdout",
     "output_type": "stream",
     "text": [
      "true\n"
     ]
    },
    {
     "data": {
      "text/plain": [
       "undefined"
      ]
     },
     "execution_count": 5,
     "metadata": {},
     "output_type": "execute_result"
    }
   ],
   "source": [
    "console.log((1 + 2) in count);  // true"
   ]
  },
  {
   "cell_type": "code",
   "execution_count": 6,
   "id": "c87de205-958f-473d-8821-34e9eb839022",
   "metadata": {},
   "outputs": [
    {
     "name": "stdout",
     "output_type": "stream",
     "text": [
      "false\n"
     ]
    },
    {
     "data": {
      "text/plain": [
       "undefined"
      ]
     },
     "execution_count": 6,
     "metadata": {},
     "output_type": "execute_result"
    }
   ],
   "source": [
    "console.log(6 in count );       // false"
   ]
  },
  {
   "cell_type": "code",
   "execution_count": 7,
   "id": "d5ed3385-42c0-4bfc-959a-7241bcc51412",
   "metadata": {},
   "outputs": [
    {
     "name": "stdout",
     "output_type": "stream",
     "text": [
      "false\n"
     ]
    },
    {
     "data": {
      "text/plain": [
       "undefined"
      ]
     },
     "execution_count": 7,
     "metadata": {},
     "output_type": "execute_result"
    }
   ],
   "source": [
    "console.log(\"one\" in count);     // false, 배열의 내용이 아닌, 인덱스 값이 들어가야 합니다."
   ]
  },
  {
   "cell_type": "code",
   "execution_count": 8,
   "id": "392dfe55-84a0-41b4-a875-77f42661f40e",
   "metadata": {},
   "outputs": [
    {
     "name": "stdout",
     "output_type": "stream",
     "text": [
      "true\n"
     ]
    },
    {
     "data": {
      "text/plain": [
       "undefined"
      ]
     },
     "execution_count": 8,
     "metadata": {},
     "output_type": "execute_result"
    }
   ],
   "source": [
    "console.log(\"length\" in count)  // true, length는 배열의 속성이기 때문입니다."
   ]
  },
  {
   "cell_type": "code",
   "execution_count": null,
   "id": "c9b8c153-6055-4e09-ba24-5f87f56baaf7",
   "metadata": {},
   "outputs": [],
   "source": []
  },
  {
   "cell_type": "markdown",
   "id": "8d1e7234-3591-4912-b31f-d328fbc0cf5c",
   "metadata": {},
   "source": [
    "## 2-3 인덱스 시그너처 사용가능 "
   ]
  },
  {
   "cell_type": "code",
   "execution_count": 13,
   "id": "2f7330c9-d334-4005-995a-350e94efb146",
   "metadata": {},
   "outputs": [
    {
     "data": {
      "text/plain": [
       "undefined"
      ]
     },
     "execution_count": 13,
     "metadata": {},
     "output_type": "execute_result"
    }
   ],
   "source": [
    "let myObject3 = { name: \"John\", age: 30 };\n",
    "type ObjType = {\n",
    "    [key in keyof typeof myObject3]: number // name or age\n",
    "}"
   ]
  },
  {
   "cell_type": "markdown",
   "id": "507ddf1b-36c1-42a6-886e-fe10394341ce",
   "metadata": {},
   "source": [
    "### 유니언타입으로 처리 "
   ]
  },
  {
   "cell_type": "code",
   "execution_count": 14,
   "id": "d1aa2d2b-f80e-460d-b391-99b59ebce465",
   "metadata": {},
   "outputs": [
    {
     "data": {
      "text/plain": [
       "undefined"
      ]
     },
     "execution_count": 14,
     "metadata": {},
     "output_type": "execute_result"
    }
   ],
   "source": [
    "type AllowedKeys = 'name' | 'age';\n",
    "\n",
    "type ObjType1 = {\n",
    "    [key in AllowedKeys]: number // name or age\n",
    "  }"
   ]
  },
  {
   "cell_type": "markdown",
   "id": "78551035-ece3-48c2-8ad6-aeb70387e736",
   "metadata": {},
   "source": [
    "## 2-4 in 연산자는 인터페이스에서는 사용할 수 없음 "
   ]
  },
  {
   "cell_type": "code",
   "execution_count": 9,
   "id": "9d3955a5-ccde-4749-aecb-98d6d5760d45",
   "metadata": {},
   "outputs": [
    {
     "data": {
      "text/plain": [
       "undefined"
      ]
     },
     "execution_count": 9,
     "metadata": {},
     "output_type": "execute_result"
    }
   ],
   "source": [
    "interface User {\n",
    "  name: string;\n",
    "  age: number;\n",
    "}\n",
    "\n",
    "let anotherUser: User = {\n",
    "  name: 'anotheruser',\n",
    "  age: 20\n",
    "}\n"
   ]
  },
  {
   "cell_type": "code",
   "execution_count": null,
   "id": "c993638b-0c0a-40aa-9acf-ff48937426ab",
   "metadata": {},
   "outputs": [],
   "source": []
  },
  {
   "cell_type": "code",
   "execution_count": 10,
   "id": "67ac6310-7612-4233-bdd5-6c923340cdf3",
   "metadata": {},
   "outputs": [
    {
     "name": "stdout",
     "output_type": "stream",
     "text": [
      "true\n"
     ]
    },
    {
     "data": {
      "text/plain": [
       "undefined"
      ]
     },
     "execution_count": 10,
     "metadata": {},
     "output_type": "execute_result"
    }
   ],
   "source": [
    "console.log('name' in anotherUser) // true"
   ]
  },
  {
   "cell_type": "code",
   "execution_count": 11,
   "id": "99ca88a0-73b5-450d-8d70-ce66a8678e27",
   "metadata": {},
   "outputs": [
    {
     "ename": "Error",
     "evalue": "Line 1, Character 23\nconsole.log('name' in User) // error\n______________________^\nTS2693: 'User' only refers to a type, but is being used as a value here.",
     "execution_count": 11,
     "output_type": "error",
     "traceback": [
      "Error: Line 1, Character 23",
      "console.log('name' in User) // error",
      "______________________^",
      "TS2693: 'User' only refers to a type, but is being used as a value here.",
      "    at execTranspile (/usr/local/lib/node_modules/itypescript/lib/kernel.js:229:23)",
      "    at Session.transpiler [as transpile] (/usr/local/lib/node_modules/itypescript/lib/kernel.js:288:35)",
      "    at Session._runNow (/usr/local/lib/node_modules/itypescript/node_modules/nel/lib/nel.js:835:39)",
      "    at Session._run (/usr/local/lib/node_modules/itypescript/node_modules/nel/lib/nel.js:786:14)",
      "    at Session.execute (/usr/local/lib/node_modules/itypescript/node_modules/nel/lib/nel.js:929:10)",
      "    at Kernel.execute_request (/usr/local/lib/node_modules/itypescript/node_modules/jp-kernel/lib/handlers_v5.js:116:18)",
      "    at Kernel.onShellMessage (/usr/local/lib/node_modules/itypescript/node_modules/jp-kernel/lib/jp-kernel.js:285:41)",
      "    at Socket.<anonymous> (/usr/local/lib/node_modules/itypescript/node_modules/jmp/index.js:350:17)",
      "    at Socket.emit (node:events:513:28)",
      "    at Socket._emitMessage (/usr/local/lib/node_modules/itypescript/node_modules/zeromq/lib/index.js:649:15)"
     ]
    }
   ],
   "source": [
    "console.log('name' in User) // error"
   ]
  },
  {
   "cell_type": "code",
   "execution_count": null,
   "id": "ea6e8272-4929-4916-b1d8-8b75cf108cf1",
   "metadata": {},
   "outputs": [],
   "source": []
  }
 ],
 "metadata": {
  "kernelspec": {
   "display_name": "Typescript 4.9",
   "language": "typescript",
   "name": "typescript"
  },
  "language_info": {
   "file_extension": ".ts",
   "mimetype": "application/x-typescript",
   "name": "typescript",
   "version": "4.9.5"
  }
 },
 "nbformat": 4,
 "nbformat_minor": 5
}
