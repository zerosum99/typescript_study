{
 "cells": [
  {
   "cell_type": "code",
   "execution_count": null,
   "id": "e78e4ffa-248d-4df2-bdd5-d636a8d36495",
   "metadata": {},
   "outputs": [],
   "source": []
  },
  {
   "cell_type": "markdown",
   "id": "73082569-6afc-4edc-b08e-a6ba2b35f9a4",
   "metadata": {},
   "source": [
    "## 타입 어설션\n",
    "\n",
    "- 타입 어설션(Type Assertion)은 변수나 표현식의 타입을 개발자가 명시적으로 지정하는 방법입니다. \n",
    "- 이것은 컴파일러에게 특정 값이 어떤 타입이라고 확신할 때 사용됩니다.\n",
    "\n",
    "### 타입 어설션은 주로 두 가지 상황에서 사용됩니다:\n",
    "\n",
    "- 타입 추론 보정(Type Inference Suppression): 컴파일러가 정확한 타입을 추론하지 못하는 경우에 사용됩니다. 개발자가 정확한 타입을 알고 있을 때 타입 어설션을 사용하여 컴파일러에게 알려줄 수 있습니다.\n",
    "\n",
    "- 타입 호환성 이슈(Type Compatibility Issues): 두 개의 서로 다른 타입을 가지는 변수나 표현식을 결합해야 하는 경우, 타입 호환성 검사를 우회하기 위해 타입 어설션을 사용할 수 있습니다."
   ]
  },
  {
   "cell_type": "code",
   "execution_count": null,
   "id": "c699e793-6c2d-4ce5-a39e-a1f9bc7d1789",
   "metadata": {},
   "outputs": [],
   "source": []
  },
  {
   "cell_type": "markdown",
   "id": "e2241a9c-baee-4836-af33-2cc46a65aec5",
   "metadata": {},
   "source": [
    "## 1. as 키워드를 사용한 타입 어설션:"
   ]
  },
  {
   "cell_type": "code",
   "execution_count": 1,
   "id": "9ceff16b-f65d-48d2-8ef6-f8cb4e2980aa",
   "metadata": {},
   "outputs": [
    {
     "data": {
      "text/plain": [
       "'use strict'"
      ]
     },
     "execution_count": 1,
     "metadata": {},
     "output_type": "execute_result"
    }
   ],
   "source": [
    "let value: any = \"Hello, TypeScript!\";\n",
    "let strLength: number = (value as string).length;\n"
   ]
  },
  {
   "cell_type": "markdown",
   "id": "f90c997b-cb36-4eaa-8b00-7f5354cc3daf",
   "metadata": {},
   "source": [
    "## 2. 각괄호를 사용한 타입 어설션:"
   ]
  },
  {
   "cell_type": "code",
   "execution_count": 4,
   "id": "5a9b74e8-d7cf-46fa-87ac-69a58ddbc05b",
   "metadata": {},
   "outputs": [
    {
     "data": {
      "text/plain": [
       "undefined"
      ]
     },
     "execution_count": 4,
     "metadata": {},
     "output_type": "execute_result"
    }
   ],
   "source": [
    "let value1: any = \"Hello, TypeScript!\";\n",
    "let strLength1: number = (<string>value1).length;\n"
   ]
  },
  {
   "cell_type": "code",
   "execution_count": null,
   "id": "29409ca8-af84-4bc6-8e61-fc56f624d6c2",
   "metadata": {},
   "outputs": [],
   "source": []
  }
 ],
 "metadata": {
  "kernelspec": {
   "display_name": "Typescript 4.9",
   "language": "typescript",
   "name": "typescript"
  },
  "language_info": {
   "file_extension": ".ts",
   "mimetype": "application/x-typescript",
   "name": "typescript",
   "version": "4.9.5"
  }
 },
 "nbformat": 4,
 "nbformat_minor": 5
}
