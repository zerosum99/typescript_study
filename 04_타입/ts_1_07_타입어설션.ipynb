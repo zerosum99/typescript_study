{
 "cells": [
  {
   "cell_type": "code",
   "execution_count": null,
   "id": "e78e4ffa-248d-4df2-bdd5-d636a8d36495",
   "metadata": {},
   "outputs": [],
   "source": []
  },
  {
   "cell_type": "markdown",
   "id": "73082569-6afc-4edc-b08e-a6ba2b35f9a4",
   "metadata": {},
   "source": [
    "## 타입 어설션\n",
    "\n",
    "- 타입 어설션(Type Assertion)은 변수나 표현식의 타입을 개발자가 명시적으로 지정하는 방법입니다. \n",
    "- 이것은 컴파일러에게 특정 값이 어떤 타입이라고 확신할 때 사용됩니다.\n",
    "\n",
    "### 타입 어설션은 주로 두 가지 상황에서 사용됩니다:\n",
    "\n",
    "- 타입 추론 보정(Type Inference Suppression): 컴파일러가 정확한 타입을 추론하지 못하는 경우에 사용됩니다. 개발자가 정확한 타입을 알고 있을 때 타입 어설션을 사용하여 컴파일러에게 알려줄 수 있습니다.\n",
    "\n",
    "- 타입 호환성 이슈(Type Compatibility Issues): 두 개의 서로 다른 타입을 가지는 변수나 표현식을 결합해야 하는 경우, 타입 호환성 검사를 우회하기 위해 타입 어설션을 사용할 수 있습니다."
   ]
  },
  {
   "cell_type": "code",
   "execution_count": null,
   "id": "c699e793-6c2d-4ce5-a39e-a1f9bc7d1789",
   "metadata": {},
   "outputs": [],
   "source": []
  },
  {
   "cell_type": "code",
   "execution_count": null,
   "id": "b40c4db6-3efb-423e-95f3-8425653d8746",
   "metadata": {},
   "outputs": [],
   "source": []
  },
  {
   "cell_type": "code",
   "execution_count": null,
   "id": "46099798-7c94-4a0e-aca4-713c7e0eec66",
   "metadata": {},
   "outputs": [],
   "source": []
  },
  {
   "cell_type": "markdown",
   "id": "e2241a9c-baee-4836-af33-2cc46a65aec5",
   "metadata": {},
   "source": [
    "## 1-1. as 키워드를 사용한 타입 어설션:"
   ]
  },
  {
   "cell_type": "code",
   "execution_count": 1,
   "id": "9ceff16b-f65d-48d2-8ef6-f8cb4e2980aa",
   "metadata": {},
   "outputs": [
    {
     "data": {
      "text/plain": [
       "'use strict'"
      ]
     },
     "execution_count": 1,
     "metadata": {},
     "output_type": "execute_result"
    }
   ],
   "source": [
    "let value: any = \"Hello, TypeScript!\";\n",
    "let strLength: number = (value as string).length;\n"
   ]
  },
  {
   "cell_type": "markdown",
   "id": "f90c997b-cb36-4eaa-8b00-7f5354cc3daf",
   "metadata": {},
   "source": [
    "## 1-2. 각괄호를 사용한 타입 어설션:"
   ]
  },
  {
   "cell_type": "code",
   "execution_count": 4,
   "id": "5a9b74e8-d7cf-46fa-87ac-69a58ddbc05b",
   "metadata": {},
   "outputs": [
    {
     "data": {
      "text/plain": [
       "undefined"
      ]
     },
     "execution_count": 4,
     "metadata": {},
     "output_type": "execute_result"
    }
   ],
   "source": [
    "let value1: any = \"Hello, TypeScript!\";\n",
    "let strLength1: number = (<string>value1).length;\n"
   ]
  },
  {
   "cell_type": "code",
   "execution_count": null,
   "id": "29409ca8-af84-4bc6-8e61-fc56f624d6c2",
   "metadata": {},
   "outputs": [],
   "source": []
  },
  {
   "cell_type": "markdown",
   "id": "49a72001-5b1a-410d-bbb0-722a9014e19b",
   "metadata": {},
   "source": [
    "## 2 어서션 vs. 선언\n",
    "- 변수에 타입 애너테이션과 초기값이 모두 있을 때, 타입 검사기는 변수의 타입 애너테이션에 대한 변수의 초기값에 대해 할당 가능성 검사를 수행한다. \n",
    "- 하지만 타입 어서션은 타입스크립트에 타입 검사 중 일부를 건너뛰도록 명시적으로 지시한다."
   ]
  },
  {
   "cell_type": "markdown",
   "id": "ec2c6b59-e832-493d-8385-4304d1c4ab03",
   "metadata": {},
   "source": [
    "## 2-1 어서션 처리 "
   ]
  },
  {
   "cell_type": "code",
   "execution_count": 2,
   "id": "73df41dd-a466-4100-8990-9d6cad20a679",
   "metadata": {},
   "outputs": [
    {
     "data": {
      "text/plain": [
       "'use strict'"
      ]
     },
     "execution_count": 2,
     "metadata": {},
     "output_type": "execute_result"
    }
   ],
   "source": [
    "interface User {\n",
    "  name: string;\n",
    "  age: number;\n",
    "}\n"
   ]
  },
  {
   "cell_type": "code",
   "execution_count": 3,
   "id": "ba399348-0038-4bb1-ad26-541e044511fc",
   "metadata": {},
   "outputs": [
    {
     "ename": "Error",
     "evalue": "Line 1, Character 7\nconst declaredUser: User = {\n______^\nTS2741: Property 'age' is missing in type '{ name: string; }' but required in type 'User'.",
     "execution_count": 3,
     "output_type": "error",
     "traceback": [
      "Error: Line 1, Character 7",
      "const declaredUser: User = {",
      "______^",
      "TS2741: Property 'age' is missing in type '{ name: string; }' but required in type 'User'.",
      "    at execTranspile (/usr/local/lib/node_modules/itypescript/lib/kernel.js:229:23)",
      "    at Session.transpiler [as transpile] (/usr/local/lib/node_modules/itypescript/lib/kernel.js:288:35)",
      "    at Session._runNow (/usr/local/lib/node_modules/itypescript/node_modules/nel/lib/nel.js:835:39)",
      "    at Session._run (/usr/local/lib/node_modules/itypescript/node_modules/nel/lib/nel.js:786:14)",
      "    at Session.execute (/usr/local/lib/node_modules/itypescript/node_modules/nel/lib/nel.js:929:10)",
      "    at Kernel.execute_request (/usr/local/lib/node_modules/itypescript/node_modules/jp-kernel/lib/handlers_v5.js:116:18)",
      "    at Kernel.onShellMessage (/usr/local/lib/node_modules/itypescript/node_modules/jp-kernel/lib/jp-kernel.js:285:41)",
      "    at Socket.<anonymous> (/usr/local/lib/node_modules/itypescript/node_modules/jmp/index.js:350:17)",
      "    at Socket.emit (node:events:513:28)",
      "    at Socket._emitMessage (/usr/local/lib/node_modules/itypescript/node_modules/zeromq/lib/index.js:649:15)"
     ]
    }
   ],
   "source": [
    "const declaredUser: User = {\n",
    "  // Error: Property 'age' is missing in type\n",
    "  // '{ name: string; }' but required in type 'User'.\n",
    "  name: 'Kim',\n",
    "};\n"
   ]
  },
  {
   "cell_type": "code",
   "execution_count": null,
   "id": "a1b8ad61-08eb-4459-8b9f-521442dc8b3a",
   "metadata": {},
   "outputs": [],
   "source": []
  },
  {
   "cell_type": "code",
   "execution_count": 4,
   "id": "5d971505-4c17-430d-af63-5b9143aa4d7c",
   "metadata": {},
   "outputs": [
    {
     "data": {
      "text/plain": [
       "undefined"
      ]
     },
     "execution_count": 4,
     "metadata": {},
     "output_type": "execute_result"
    }
   ],
   "source": [
    "const assertedUser = {\n",
    "  name: 'Roh',\n",
    "} as User; // 허용되지만 런타임 시 오류 발생."
   ]
  },
  {
   "cell_type": "code",
   "execution_count": null,
   "id": "0c23f9b5-2801-400d-a6ae-0f8145556b8b",
   "metadata": {},
   "outputs": [],
   "source": []
  },
  {
   "cell_type": "markdown",
   "id": "0a188afd-c596-4453-b17b-70d41b5f4a1d",
   "metadata": {},
   "source": [
    "## 2-2 어서션 할당 가능성\n",
    "- 타입 어서션은 일부 값의 타입이 약간 잘못된 상황에서 필요한 작은 도피 수단일 뿐이다. \n",
    "- 완전히 서로 관련이 없는 두 타입 사이에 타입 어서션이 있는 경우에는 타입스크립트가 타입 오류를 감지하고 알려준다."
   ]
  },
  {
   "cell_type": "code",
   "execution_count": 5,
   "id": "fcea6116-da97-43c5-9d4d-0677ee2daef8",
   "metadata": {},
   "outputs": [
    {
     "ename": "Error",
     "evalue": "Line 1, Character 15\nconst value = 'String' as number;\n______________^\nTS2352: Conversion of type 'string' to type 'number' may be a mistake because neither type sufficiently overlaps with the other. If this was intentional, convert the expression to 'unknown' first.",
     "execution_count": 5,
     "output_type": "error",
     "traceback": [
      "Error: Line 1, Character 15",
      "const value = 'String' as number;",
      "______________^",
      "TS2352: Conversion of type 'string' to type 'number' may be a mistake because neither type sufficiently overlaps with the other. If this was intentional, convert the expression to 'unknown' first.",
      "    at execTranspile (/usr/local/lib/node_modules/itypescript/lib/kernel.js:229:23)",
      "    at Session.transpiler [as transpile] (/usr/local/lib/node_modules/itypescript/lib/kernel.js:288:35)",
      "    at Session._runNow (/usr/local/lib/node_modules/itypescript/node_modules/nel/lib/nel.js:835:39)",
      "    at Session._run (/usr/local/lib/node_modules/itypescript/node_modules/nel/lib/nel.js:786:14)",
      "    at Session.execute (/usr/local/lib/node_modules/itypescript/node_modules/nel/lib/nel.js:929:10)",
      "    at Kernel.execute_request (/usr/local/lib/node_modules/itypescript/node_modules/jp-kernel/lib/handlers_v5.js:116:18)",
      "    at Kernel.onShellMessage (/usr/local/lib/node_modules/itypescript/node_modules/jp-kernel/lib/jp-kernel.js:285:41)",
      "    at Socket.<anonymous> (/usr/local/lib/node_modules/itypescript/node_modules/jmp/index.js:350:17)",
      "    at Socket.emit (node:events:513:28)",
      "    at Socket._emitMessage (/usr/local/lib/node_modules/itypescript/node_modules/zeromq/lib/index.js:649:15)"
     ]
    }
   ],
   "source": [
    "const value = 'String' as number;"
   ]
  },
  {
   "cell_type": "code",
   "execution_count": null,
   "id": "98de3276-4c12-482d-b5b1-dd5cefe0e93f",
   "metadata": {},
   "outputs": [],
   "source": []
  },
  {
   "cell_type": "code",
   "execution_count": 6,
   "id": "b5496b5f-5cd4-44cf-9f7d-0f022d823a97",
   "metadata": {},
   "outputs": [
    {
     "data": {
      "text/plain": [
       "undefined"
      ]
     },
     "execution_count": 6,
     "metadata": {},
     "output_type": "execute_result"
    }
   ],
   "source": [
    "const value = 'String' as unknown as number; // 허용되지만 이렇게 사용하면 안 됨"
   ]
  },
  {
   "cell_type": "code",
   "execution_count": null,
   "id": "5d77b563-7524-43eb-b3ba-daef9cb1af15",
   "metadata": {},
   "outputs": [],
   "source": []
  },
  {
   "cell_type": "code",
   "execution_count": null,
   "id": "06d3a7da-8bfb-4be0-8207-66174ee44c57",
   "metadata": {},
   "outputs": [],
   "source": []
  }
 ],
 "metadata": {
  "kernelspec": {
   "display_name": "Typescript 4.9",
   "language": "typescript",
   "name": "typescript"
  },
  "language_info": {
   "file_extension": ".ts",
   "mimetype": "application/x-typescript",
   "name": "typescript",
   "version": "4.9.5"
  }
 },
 "nbformat": 4,
 "nbformat_minor": 5
}
