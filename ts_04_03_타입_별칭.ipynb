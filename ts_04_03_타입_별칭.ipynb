{
 "cells": [
  {
   "cell_type": "code",
   "execution_count": null,
   "id": "440f59b6-86fa-450a-8310-41168fad7345",
   "metadata": {},
   "outputs": [],
   "source": []
  },
  {
   "cell_type": "markdown",
   "id": "303adb41-9ae2-42d3-91ec-d125beed95da",
   "metadata": {},
   "source": [
    "## 타입 별칭(Type Alias)\n",
    "- 기존 타입에 다른 이름을 부여하는 기능을 제공합니다. \n",
    "- 별칭을 사용하여 복잡한 타입을 간결하게 표현하거나, 코드의 가독성을 높이는 데 도움을 줍니다."
   ]
  },
  {
   "cell_type": "markdown",
   "id": "f10b70e2-b95f-4815-ad9c-ef12612e9306",
   "metadata": {},
   "source": [
    "## 1. 객체의 타입 별칭 정의하기\n",
    "\n",
    "- type 예약어와 타입 별칭 이름\n",
    "- = 다음에 객체 등 기존 타입을 지정"
   ]
  },
  {
   "cell_type": "markdown",
   "id": "a3b31048-f57f-49bd-a950-d89962c65d68",
   "metadata": {},
   "source": [
    "### 타입 별칭을 처리하기"
   ]
  },
  {
   "cell_type": "code",
   "execution_count": 1,
   "id": "7cbadd4a-0486-431f-bef2-1c8b92467294",
   "metadata": {},
   "outputs": [
    {
     "data": {
      "text/plain": [
       "'use strict'"
      ]
     },
     "execution_count": 1,
     "metadata": {},
     "output_type": "execute_result"
    }
   ],
   "source": [
    "type Person = {\n",
    "  name: string;\n",
    "  age: number;\n",
    "};\n"
   ]
  },
  {
   "cell_type": "markdown",
   "id": "3a0e15be-a9a7-4926-8f7b-4f2c42656e02",
   "metadata": {},
   "source": [
    "### 함수의 타입에 타입별칭을 지정함"
   ]
  },
  {
   "cell_type": "code",
   "execution_count": 2,
   "id": "121060b6-36ec-425e-97f0-a590d841ec8a",
   "metadata": {},
   "outputs": [
    {
     "data": {
      "text/plain": [
       "undefined"
      ]
     },
     "execution_count": 2,
     "metadata": {},
     "output_type": "execute_result"
    }
   ],
   "source": [
    "function getFullName(person: Person): string {\n",
    "  return person.name;\n",
    "}"
   ]
  },
  {
   "cell_type": "markdown",
   "id": "ab9680f8-b268-43ea-8361-097b06cbf526",
   "metadata": {},
   "source": [
    "### 상수에 타입을 지정하기 "
   ]
  },
  {
   "cell_type": "code",
   "execution_count": 3,
   "id": "58d98183-e5e1-410b-8931-59de8c7766a9",
   "metadata": {},
   "outputs": [
    {
     "data": {
      "text/plain": [
       "undefined"
      ]
     },
     "execution_count": 3,
     "metadata": {},
     "output_type": "execute_result"
    }
   ],
   "source": [
    "const user: Person = {\n",
    "  name: 'Alice',\n",
    "  age: 30,\n",
    "};"
   ]
  },
  {
   "cell_type": "markdown",
   "id": "2a5ca02b-c121-4ccb-a7bd-0bb6329b88f7",
   "metadata": {},
   "source": [
    "### 함수의 인자로 전달하기"
   ]
  },
  {
   "cell_type": "code",
   "execution_count": 4,
   "id": "f5537bc2-c805-444d-8c78-b9b6de17b939",
   "metadata": {},
   "outputs": [
    {
     "data": {
      "text/plain": [
       "'Alice'"
      ]
     },
     "execution_count": 4,
     "metadata": {},
     "output_type": "execute_result"
    }
   ],
   "source": [
    "getFullName(user);"
   ]
  },
  {
   "cell_type": "code",
   "execution_count": null,
   "id": "44483f73-d255-4871-acf9-01d06b301397",
   "metadata": {},
   "outputs": [],
   "source": []
  },
  {
   "cell_type": "markdown",
   "id": "167cee13-5780-4662-a2a1-7d34bddf6938",
   "metadata": {},
   "source": [
    "## 2. 타입 별칭을 사용해서 새로운 자료형을 만들기 \n",
    "\n",
    "-  타입별칭을 지정하고 이를 새로운 타입별칭을 만드는데 사용하기 "
   ]
  },
  {
   "cell_type": "code",
   "execution_count": null,
   "id": "10e55c6f-26ad-4201-b55f-76917ade8409",
   "metadata": {},
   "outputs": [],
   "source": []
  },
  {
   "cell_type": "markdown",
   "id": "e9095f06-4bad-461c-bfcb-759a89b0a0d7",
   "metadata": {},
   "source": [
    "### 유니온타입을 타입 별칭 처리"
   ]
  },
  {
   "cell_type": "code",
   "execution_count": 5,
   "id": "2969433a-c291-4b2b-8bf6-495df942914a",
   "metadata": {},
   "outputs": [
    {
     "data": {
      "text/plain": [
       "undefined"
      ]
     },
     "execution_count": 5,
     "metadata": {},
     "output_type": "execute_result"
    }
   ],
   "source": [
    "type ID = number | string;"
   ]
  },
  {
   "cell_type": "code",
   "execution_count": null,
   "id": "b3f678d4-4e5b-4bef-8ee6-4c8f63fb20b1",
   "metadata": {},
   "outputs": [],
   "source": []
  },
  {
   "cell_type": "markdown",
   "id": "04794023-226b-42c9-836a-c973a0c8bf7e",
   "metadata": {},
   "source": [
    "### 객체를 타입별칭으로 처리하기 "
   ]
  },
  {
   "cell_type": "code",
   "execution_count": 6,
   "id": "5fd2df50-0e14-4541-8aeb-59958585aab5",
   "metadata": {},
   "outputs": [
    {
     "data": {
      "text/plain": [
       "undefined"
      ]
     },
     "execution_count": 6,
     "metadata": {},
     "output_type": "execute_result"
    }
   ],
   "source": [
    "type Address = {\n",
    "  city: string;\n",
    "  zipCode: string;\n",
    "};"
   ]
  },
  {
   "cell_type": "code",
   "execution_count": null,
   "id": "75923108-1a8a-47fb-9ccc-04b12df2e074",
   "metadata": {},
   "outputs": [],
   "source": []
  },
  {
   "cell_type": "markdown",
   "id": "f52560af-18eb-42c1-becb-f07c664540fa",
   "metadata": {},
   "source": [
    "### 타입별칭을 사용해서 새로운 타입을 정의하기"
   ]
  },
  {
   "cell_type": "code",
   "execution_count": 7,
   "id": "369f5b8a-bf1f-43ee-aad0-1cbca1363860",
   "metadata": {},
   "outputs": [
    {
     "data": {
      "text/plain": [
       "undefined"
      ]
     },
     "execution_count": 7,
     "metadata": {},
     "output_type": "execute_result"
    }
   ],
   "source": [
    "\n",
    "type User = {\n",
    "  id: ID;\n",
    "  name: string;\n",
    "  address: Address;\n",
    "};"
   ]
  },
  {
   "cell_type": "code",
   "execution_count": null,
   "id": "25123816-123c-4c5d-a460-9393b37065c4",
   "metadata": {},
   "outputs": [],
   "source": []
  },
  {
   "cell_type": "code",
   "execution_count": 8,
   "id": "0667f20c-a1d5-402d-b9e0-6672ff946841",
   "metadata": {},
   "outputs": [
    {
     "data": {
      "text/plain": [
       "undefined"
      ]
     },
     "execution_count": 8,
     "metadata": {},
     "output_type": "execute_result"
    }
   ],
   "source": [
    "function getAddress(user: User): Address{\n",
    "  return user.address;\n",
    "}"
   ]
  },
  {
   "cell_type": "code",
   "execution_count": null,
   "id": "ace00095-eaad-490c-a666-80335192510e",
   "metadata": {},
   "outputs": [],
   "source": []
  },
  {
   "cell_type": "code",
   "execution_count": 9,
   "id": "dd16bd44-d90b-4079-b1bd-b373b437b1ce",
   "metadata": {},
   "outputs": [
    {
     "data": {
      "text/plain": [
       "undefined"
      ]
     },
     "execution_count": 9,
     "metadata": {},
     "output_type": "execute_result"
    }
   ],
   "source": [
    "let user1 : User = { id:100, name:\"채가을\", address : { city:\"서울\", zipCode: \"08234\" } };"
   ]
  },
  {
   "cell_type": "code",
   "execution_count": 10,
   "id": "1935089d-bc1d-4637-a131-e309f8d9d026",
   "metadata": {},
   "outputs": [
    {
     "data": {
      "text/plain": [
       "{ city: '서울', zipCode: '08234' }"
      ]
     },
     "execution_count": 10,
     "metadata": {},
     "output_type": "execute_result"
    }
   ],
   "source": [
    "getAddress(user1);"
   ]
  },
  {
   "cell_type": "code",
   "execution_count": null,
   "id": "31e01ae9-ff0b-4a4c-bd4b-5ceddde78a56",
   "metadata": {},
   "outputs": [],
   "source": []
  },
  {
   "cell_type": "markdown",
   "id": "4a5deebb-192a-45d6-80c1-f5b280dd1812",
   "metadata": {},
   "source": [
    "## 3. 타입별칭과 인터페이스의 차이"
   ]
  },
  {
   "cell_type": "code",
   "execution_count": null,
   "id": "a8e9a14a-4c4b-44bd-9b95-91e6c179f90a",
   "metadata": {},
   "outputs": [],
   "source": []
  },
  {
   "cell_type": "markdown",
   "id": "e51c54da-f957-4b9e-b6b1-b8bb7e33685e",
   "metadata": {},
   "source": [
    "### 타입 별칭(Type Alias)\n",
    "\n",
    "- type 키워드를 사용하여 정의합니다.\n",
    "- 기존 타입에 새로운 이름(별칭)을 부여합니다.\n",
    "- 유니온 타입, 인터섹션 타입 등과 같이 조합하여 복잡한 타입을 표현하는 데 사용됩니다.\n",
    "-  객체 , 유니온, 인터섹션, 기본 타입 등 모든 타입에 사용할 수 있습니다."
   ]
  },
  {
   "cell_type": "code",
   "execution_count": 11,
   "id": "bc1c3ad1-b507-47c5-9251-ffef299fdcda",
   "metadata": {},
   "outputs": [
    {
     "data": {
      "text/plain": [
       "undefined"
      ]
     },
     "execution_count": 11,
     "metadata": {},
     "output_type": "execute_result"
    }
   ],
   "source": [
    "// 타입 별칭 정의\n",
    "type Person1 = {\n",
    "  name: string;\n",
    "  age: number;\n",
    "};\n",
    "\n",
    "// 유니온 타입과 별칭 사용 예제\n",
    "type ID1 = number | string;\n",
    "\n",
    "// 인터섹션 타입과 별칭 사용 예제\n",
    "type Address1 = {\n",
    "  city: string;\n",
    "  zipCode: string;\n",
    "};\n",
    "\n",
    "// 기존 타입과 별칭 사용 예제\n",
    "type Greeting1 = string;"
   ]
  },
  {
   "cell_type": "code",
   "execution_count": null,
   "id": "5af48ce6-4f78-470e-98c0-88dfa7ba149a",
   "metadata": {},
   "outputs": [],
   "source": []
  },
  {
   "cell_type": "markdown",
   "id": "d1dc2af9-030f-46ad-a544-c542b3913eba",
   "metadata": {},
   "source": [
    "## 인터페이스(Interface)\n",
    "\n",
    "- interface 키워드를 사용하여 정의합니다.\n",
    "- 주로 객체의 구조를 정의하는데 사용됩니다.\n",
    "- 클래스가 인터페이스를 구현(implement)하여 특정 구조를 준수하도록 강제할 수 있습니다.\n",
    "- 객체 타입에만 사용할 수 있습니다."
   ]
  },
  {
   "cell_type": "code",
   "execution_count": 12,
   "id": "f98f19a2-74a9-4686-a63e-656a1aa90092",
   "metadata": {},
   "outputs": [
    {
     "data": {
      "text/plain": [
       "undefined"
      ]
     },
     "execution_count": 12,
     "metadata": {},
     "output_type": "execute_result"
    }
   ],
   "source": [
    "// 인터페이스 정의\n",
    "interface Person2 {\n",
    "  name: string;\n",
    "  age: number;\n",
    "}\n",
    "\n",
    "// 클래스가 인터페이스를 구현하는 예제\n",
    "class User2 implements Person2 {\n",
    "  name: string;\n",
    "  age: number;\n",
    "\n",
    "  constructor(name: string, age: number) {\n",
    "    this.name = name;\n",
    "    this.age = age;\n",
    "  }\n",
    "}\n",
    "\n",
    "// 중첩된 인터페이스 사용 예제\n",
    "interface Address2 {\n",
    "  city: string;\n",
    "  zipCode: string;\n",
    "}\n",
    "\n",
    "interface UserInfo {\n",
    "  name: string;\n",
    "  age: number;\n",
    "  address: Address;\n",
    "}\n"
   ]
  },
  {
   "cell_type": "code",
   "execution_count": null,
   "id": "67a29e34-32d2-4971-a1c9-1cafd424018a",
   "metadata": {},
   "outputs": [],
   "source": []
  },
  {
   "cell_type": "code",
   "execution_count": null,
   "id": "66e6de0a-f09b-4568-b994-e0958f4d29df",
   "metadata": {},
   "outputs": [],
   "source": []
  },
  {
   "cell_type": "code",
   "execution_count": null,
   "id": "cbb78ba0-f14b-402b-8796-cce9035f37a9",
   "metadata": {},
   "outputs": [],
   "source": []
  }
 ],
 "metadata": {
  "kernelspec": {
   "display_name": "Typescript 4.9",
   "language": "typescript",
   "name": "typescript"
  },
  "language_info": {
   "file_extension": ".ts",
   "mimetype": "application/x-typescript",
   "name": "typescript",
   "version": "4.9.5"
  }
 },
 "nbformat": 4,
 "nbformat_minor": 5
}
