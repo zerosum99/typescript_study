{
 "cells": [
  {
   "cell_type": "code",
   "execution_count": null,
   "id": "373ae32a-ebde-4c0e-ae15-f209be5466c4",
   "metadata": {},
   "outputs": [],
   "source": []
  },
  {
   "cell_type": "markdown",
   "id": "8c5f77e4-7e31-4dfd-bc5d-ec9befc9024a",
   "metadata": {},
   "source": [
    "# 1. 리터럴 자료형(literal types)은 \n",
    "- 특정한 값을 나타내는 타입을 의미합니다. \n",
    "- 이러한 타입은 해당 값의 유일한 값으로 제한되며, 리터럴 값 자체를 타입으로 사용\n",
    "- 특정 원시자료형의 값을 자료형으로 처리 "
   ]
  },
  {
   "cell_type": "markdown",
   "id": "87bbfcb9-4ec1-47aa-b046-5638ef5fb37b",
   "metadata": {},
   "source": [
    "## 1-1 문자열 리터럴 처리하기 "
   ]
  },
  {
   "cell_type": "code",
   "execution_count": 2,
   "id": "f38b33c6-734e-497c-9a16-814e45370594",
   "metadata": {},
   "outputs": [
    {
     "data": {
      "text/plain": [
       "'use strict'"
      ]
     },
     "execution_count": 2,
     "metadata": {},
     "output_type": "execute_result"
    }
   ],
   "source": [
    "type Status = \"success\" | \"error\" | \"warning\";\n",
    "{ \n",
    "    let status: Status = \"success\"; // 가능\n",
    "    // status = \"info\"; // 에러: \"info\"는 타입 'Status'에 할당할 수 없음\n",
    "}"
   ]
  },
  {
   "cell_type": "markdown",
   "id": "18a4830f-7ec1-4df7-bd71-a2bc9ba8d7eb",
   "metadata": {},
   "source": [
    "## 1-2 숫자 리터럴 처리하기 "
   ]
  },
  {
   "cell_type": "code",
   "execution_count": null,
   "id": "0a79e601-9d55-4f79-b459-23a5f0f7961a",
   "metadata": {},
   "outputs": [],
   "source": [
    "type EvenNumber = 2 | 4 | 6 | 8;\n",
    "{\n",
    "    let num: EvenNumber = 4; // 가능\n",
    "    // num = 3; // 에러: 3은 타입 'EvenNumber'에 할당할 수 없음\n",
    "}"
   ]
  },
  {
   "cell_type": "code",
   "execution_count": null,
   "id": "0d399ece-26f7-4503-bb16-d3e2191fc85f",
   "metadata": {},
   "outputs": [],
   "source": []
  },
  {
   "cell_type": "markdown",
   "id": "d9c451f8-623b-4240-97a7-6172f59e7cb6",
   "metadata": {},
   "source": [
    "## 1-3 불리언 리터럴 처리하기 "
   ]
  },
  {
   "cell_type": "code",
   "execution_count": 3,
   "id": "19f5a40c-ff5e-4beb-9725-d4e4a4df59cd",
   "metadata": {},
   "outputs": [
    {
     "data": {
      "text/plain": [
       "undefined"
      ]
     },
     "execution_count": 3,
     "metadata": {},
     "output_type": "execute_result"
    }
   ],
   "source": [
    "type BooleanFlag = true | false;\n",
    "{\n",
    "    let flag: BooleanFlag = true; // 가능\n",
    "    // flag = null; // 에러: null은 타입 'BooleanFlag'에 할당할 수 없음\n",
    "}"
   ]
  },
  {
   "cell_type": "code",
   "execution_count": null,
   "id": "7561db12-2b03-4a7d-9b11-a13f69212bb1",
   "metadata": {},
   "outputs": [],
   "source": []
  },
  {
   "cell_type": "markdown",
   "id": "a30e76e3-756b-4890-be13-fbea4c63a50e",
   "metadata": {},
   "source": [
    "## 1-4 원시 자료형과 리터럴 자료형의 혼용"
   ]
  },
  {
   "cell_type": "code",
   "execution_count": 8,
   "id": "c1e4474e-f9bd-402c-87e1-ce72a32c9109",
   "metadata": {},
   "outputs": [
    {
     "data": {
      "text/plain": [
       "undefined"
      ]
     },
     "execution_count": 8,
     "metadata": {},
     "output_type": "execute_result"
    }
   ],
   "source": [
    "let lifespa : number | \"ongoing\" | \"uncertain\";"
   ]
  },
  {
   "cell_type": "code",
   "execution_count": null,
   "id": "f8f9b9cc-6de6-4bc6-a417-08e7cc4e3b18",
   "metadata": {},
   "outputs": [],
   "source": []
  },
  {
   "cell_type": "code",
   "execution_count": 9,
   "id": "eb38eed2-76b8-48b5-9636-b9cc1ff6ea9e",
   "metadata": {},
   "outputs": [
    {
     "data": {
      "text/plain": [
       "100"
      ]
     },
     "execution_count": 9,
     "metadata": {},
     "output_type": "execute_result"
    }
   ],
   "source": [
    "lifespa = 100;"
   ]
  },
  {
   "cell_type": "code",
   "execution_count": 10,
   "id": "333f0dfc-b02f-42ac-8193-76e70b602c7c",
   "metadata": {},
   "outputs": [
    {
     "data": {
      "text/plain": [
       "'ongoing'"
      ]
     },
     "execution_count": 10,
     "metadata": {},
     "output_type": "execute_result"
    }
   ],
   "source": [
    "lifespa = \"ongoing\";"
   ]
  },
  {
   "cell_type": "code",
   "execution_count": 11,
   "id": "c3d523c2-6661-4ced-97ac-a6c3fd77ad89",
   "metadata": {},
   "outputs": [
    {
     "ename": "Error",
     "evalue": "Line 1, Character 1\nlifespa = true;\n^\nTS2322: Type 'true' is not assignable to type 'number | \"ongoing\" | \"uncertain\"'.",
     "execution_count": 11,
     "output_type": "error",
     "traceback": [
      "Error: Line 1, Character 1",
      "lifespa = true;",
      "^",
      "TS2322: Type 'true' is not assignable to type 'number | \"ongoing\" | \"uncertain\"'.",
      "    at execTranspile (/usr/local/lib/node_modules/itypescript/lib/kernel.js:229:23)",
      "    at Session.transpiler [as transpile] (/usr/local/lib/node_modules/itypescript/lib/kernel.js:288:35)",
      "    at Session._runNow (/usr/local/lib/node_modules/itypescript/node_modules/nel/lib/nel.js:835:39)",
      "    at Session._run (/usr/local/lib/node_modules/itypescript/node_modules/nel/lib/nel.js:786:14)",
      "    at Session.execute (/usr/local/lib/node_modules/itypescript/node_modules/nel/lib/nel.js:929:10)",
      "    at Kernel.execute_request (/usr/local/lib/node_modules/itypescript/node_modules/jp-kernel/lib/handlers_v5.js:116:18)",
      "    at Kernel.onShellMessage (/usr/local/lib/node_modules/itypescript/node_modules/jp-kernel/lib/jp-kernel.js:285:41)",
      "    at Socket.<anonymous> (/usr/local/lib/node_modules/itypescript/node_modules/jmp/index.js:350:17)",
      "    at Socket.emit (node:events:513:28)",
      "    at Socket._emitMessage (/usr/local/lib/node_modules/itypescript/node_modules/zeromq/lib/index.js:649:15)"
     ]
    }
   ],
   "source": [
    "lifespa = true;"
   ]
  },
  {
   "cell_type": "code",
   "execution_count": null,
   "id": "bc37ae5b-9693-44a8-9504-031d0c4b6561",
   "metadata": {},
   "outputs": [],
   "source": []
  }
 ],
 "metadata": {
  "kernelspec": {
   "display_name": "Typescript 4.9",
   "language": "typescript",
   "name": "typescript"
  },
  "language_info": {
   "file_extension": ".ts",
   "mimetype": "application/x-typescript",
   "name": "typescript",
   "version": "4.9.5"
  }
 },
 "nbformat": 4,
 "nbformat_minor": 5
}
